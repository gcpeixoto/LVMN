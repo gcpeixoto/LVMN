{
 "cells": [
  {
   "cell_type": "markdown",
   "metadata": {},
   "source": [
    "## Fatoração LU com Python (sem pivoteamento)\n",
    "\n",
    "Abaixo, temos uma implementação de uma fatoração LU sem pivoteamento. "
   ]
  },
  {
   "cell_type": "code",
   "execution_count": 1,
   "metadata": {},
   "outputs": [],
   "source": [
    "import numpy as np \n",
    "\n",
    "def lu_nopivot(A):\n",
    "    '''\n",
    "    Realiza fatoração LU para a matriz A\n",
    "    \n",
    "    entrada: \n",
    "        A  -  matriz:  array (nxn) \n",
    "    \n",
    "    saida: \n",
    "        L,U  - matriz triangular inferior, superior : array (nxn)         \n",
    "    '''\n",
    "        \n",
    "    n = np.shape(A)[0] # dimensao\n",
    "    L = np.eye(n) # auxiliar \n",
    "    \n",
    "    for k in np.arange(n):\n",
    "        L[k+1:n,k] = A[k+1:n,k]/A[k,k]        \n",
    "        for l in np.arange(k+1,n):\n",
    "            A[l,:] = A[l,:] - np.dot(L[l,k],A[k,:])\n",
    "            \n",
    "    U = A\n",
    "    return (L,U)"
   ]
  },
  {
   "cell_type": "markdown",
   "metadata": {},
   "source": [
    "**Exemplo:** Fatoração $\\bf{ LU }$ da matriz \n",
    "\n",
    "$${\\bf A} =\n",
    "\\begin{bmatrix}\n",
    "4 & -2 & -3 &  6 \\\\  \n",
    "1 &  4 &  2 &  3 \\\\\n",
    "2 & -3 &  3 & -2 \\\\ \n",
    "1 &  5 &  3 &  4\n",
    "\\end{bmatrix}$$"
   ]
  },
  {
   "cell_type": "code",
   "execution_count": 2,
   "metadata": {},
   "outputs": [],
   "source": [
    "A = np.array([[ 4., -2., -3.,  6.],[ 1.,  4.,  2.,  3.],[ 2.,  -3.,  3., -2.],[ 1.,  5.,  3.,  4.]])\n",
    "\n",
    "L,U = lu_nopivot(A)"
   ]
  },
  {
   "cell_type": "code",
   "execution_count": 3,
   "metadata": {},
   "outputs": [
    {
     "data": {
      "text/plain": [
       "array([[ 1.        ,  0.        ,  0.        ,  0.        ],\n",
       "       [ 0.25      ,  1.        ,  0.        ,  0.        ],\n",
       "       [ 0.5       , -0.44444444,  1.        ,  0.        ],\n",
       "       [ 0.25      ,  1.22222222,  0.06796117,  1.        ]])"
      ]
     },
     "execution_count": 3,
     "metadata": {},
     "output_type": "execute_result"
    }
   ],
   "source": [
    "L"
   ]
  },
  {
   "cell_type": "code",
   "execution_count": 4,
   "metadata": {},
   "outputs": [
    {
     "data": {
      "text/plain": [
       "array([[ 4.        , -2.        , -3.        ,  6.        ],\n",
       "       [ 0.        ,  4.5       ,  2.75      ,  1.5       ],\n",
       "       [ 0.        ,  0.        ,  5.72222222, -4.33333333],\n",
       "       [ 0.        ,  0.        ,  0.        ,  0.96116505]])"
      ]
     },
     "execution_count": 4,
     "metadata": {},
     "output_type": "execute_result"
    }
   ],
   "source": [
    "U"
   ]
  }
 ],
 "metadata": {
  "kernelspec": {
   "display_name": "Python 3",
   "language": "python",
   "name": "python3"
  },
  "language_info": {
   "codemirror_mode": {
    "name": "ipython",
    "version": 3
   },
   "file_extension": ".py",
   "mimetype": "text/x-python",
   "name": "python",
   "nbconvert_exporter": "python",
   "pygments_lexer": "ipython3",
   "version": "3.7.3"
  }
 },
 "nbformat": 4,
 "nbformat_minor": 2
}
