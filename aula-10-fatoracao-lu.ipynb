{
 "cells": [
  {
   "cell_type": "markdown",
   "metadata": {},
   "source": [
    "# Fatoração LU com Python"
   ]
  },
  {
   "cell_type": "markdown",
   "metadata": {},
   "source": [
    "## Decomposição LU\n",
    "\n",
    "Suponha o sistema de equações\n",
    "\n",
    "$$AX = B$$\n",
    "\n",
    "A motivação para a decomposição LU baseia-se na observação de que sistemas triangulares são mais fáceis de resolver. Semelhantemente à Eliminação Gaussiana, a decomposição LU (que, na verdade, é uma segunda abordagem da própria Eliminação Gaussiana), explora a ideia de \"fatoração\" de matrizes, em que a matriz original do sistema é fatorada (\"quebrada\") como\n",
    "\n",
    "$$A = LU,$$\n",
    "\n",
    "onde $L$ é uma matriz triangular inferior e $U$ é triangular superior. Nosso objetivo é determinar $L$ e $U$, de maneira que o vetor $X$ seja obtido através da resolução de um par de sistemas cujas matrizes são triangulares."
   ]
  },
  {
   "cell_type": "markdown",
   "metadata": {},
   "source": [
    "### Exemplo\n",
    "\n",
    "Consideraremos que as matrizes triangulares inferiores $L$ sempre terão a sua diagonal principal formada por entradas iguais a 1. Este tipo de fatoração é conhecido como _Fatoração de Doolittle_.\n",
    "\n",
    "$${\\bf A} = \\begin{bmatrix}\n",
    "1 & 2 & 4\\\\\n",
    "3 & 8 & 14\\\\\n",
    "2 & 6 & 13\n",
    "\\end{bmatrix} = LU$$\n",
    "onde\n",
    "\n",
    "$${\\bf L} = \\begin{bmatrix}\n",
    "1 & 0 & 0\\\\\n",
    "L_{21} & 1 & 0\\\\\n",
    "L_{31} & L_{32} & 1\n",
    "\\end{bmatrix}\n",
    "\\quad \\text{e} \\quad\n",
    "{\\bf U} = \\begin{bmatrix}\n",
    "U_{11} & U_{12} & U_{13}\\\\\n",
    "0 & U_{22} & U_{23}\\\\\n",
    "0 & 0 & U_{33}\n",
    "\\end{bmatrix}\n",
    "$$\n",
    "\n",
    "Multiplicando $LU$ e definindo a resposta igual a $A$ temos:\n",
    "\n",
    "$$\\begin{bmatrix}\n",
    "U_{11} & U_{12} & U_{13}\\\\\n",
    "L_{21} U_{11} & L_{21} U_{12} + U_{22} & L_{21} U_{13} + U_{23}\\\\\n",
    "L_{31} U_{11} & L_{31} U_{12} + L_{32} U_{22} & L_{31} U_{13} + L_{32} U_{23} + U_{33}\n",
    "\\end{bmatrix} = \\begin{bmatrix}\n",
    "1 & 2 & 4\\\\\n",
    "3 & 8 & 14\\\\\n",
    "2 & 6 & 13\n",
    "\\end{bmatrix}\n",
    "$$\n",
    "\n",
    "Agora, através de substituição de recorrência, facilmente encontramos $L$ e $U$.\n",
    "\n",
    "$$\n",
    "{\\bf A} = \\begin{bmatrix}\n",
    "1 & 2 & 4\\\\\n",
    "3 & 8 & 14\\\\\n",
    "2 & 6 & 13\n",
    "\\end{bmatrix} = \\begin{bmatrix}\n",
    "1 & 0 & 0\\\\\n",
    "3 & 1 & 0\\\\\n",
    "2 & 1 & 1\n",
    "\\end{bmatrix} \\begin{bmatrix}\n",
    "1 & 2 & 4\\\\\n",
    "0 & 2 & 2\\\\\n",
    "0 & 0 & 3\n",
    "\\end{bmatrix}\n",
    "$$"
   ]
  },
  {
   "cell_type": "markdown",
   "metadata": {},
   "source": [
    "## Usando a decomposição LU para resolver sistemas de equações\n",
    "\n",
    "Uma vez decomposta a matriz $A$ no produto $LU$, podemos obter a solução $X$ de forma direta. O procedimento, equivalente à substituição de recorrência mencionada anteriormente, pode ser resumido como segue: dada $A$, encontre $L$ e $U$ tal que $A = LU$, ou seja, $(LU)X = B$. Em outras palavras:\n",
    "\n",
    "- Defina $Y = UX$.\n",
    "- Resolva o sistema triangular $LY = B$ para $Y$.\n",
    "- Finalmente, resolva o sistema triangular $UX = Y$ para $X$.\n",
    "\n",
    "O benefício desta abordagem é a resolução de somente sistemas triangulares. Por outro lado, o custo empregado é termos de resolver dois sistemas."
   ]
  },
  {
   "cell_type": "markdown",
   "metadata": {},
   "source": [
    "### Exemplo\n",
    "\n",
    "Encontre a solução $X = \\begin{bmatrix} x_1 \\\\ x_2 \\\\ x_3 \\end{bmatrix}$ do sistema \n",
    "\n",
    "$$\\begin{bmatrix} \n",
    "1 & 2 & 4\\\\ \n",
    "3 & 8 & 14\\\\ \n",
    "2 & 6 & 13 \n",
    "\\end{bmatrix} \n",
    "\\begin{bmatrix} \n",
    "x_1 \\\\ x_2 \\\\ x_3 \n",
    "\\end{bmatrix} \n",
    "= \n",
    "\\begin{bmatrix} \n",
    "3 \\\\ 13 \\\\ 4\n",
    "\\end{bmatrix}$$."
   ]
  },
  {
   "cell_type": "markdown",
   "metadata": {},
   "source": [
    "- As matrizes $L$ e $U$ já foram obtidas anteriormente.\n",
    "\n",
    "$$L = \\begin{bmatrix}\n",
    "1 & 0 & 0\\\\\n",
    "3 & 1 & 0\\\\\n",
    "2 & 1 & 1\n",
    "\\end{bmatrix},\n",
    "\\quad \n",
    "U = \\begin{bmatrix}\n",
    "1 & 2 & 4\\\\\n",
    "0 & 2 & 2\\\\\n",
    "0 & 0 & 3\n",
    "\\end{bmatrix}$$\n",
    "\n",
    "- A próxima etapa é resolver $LY = B$, para o vetor $Y = \\begin{bmatrix} y_1 \\\\ y_2 \\\\ y_3 \\end{bmatrix}$.\n",
    "\n",
    "$$LY = \\begin{bmatrix}\n",
    "1 & 0 & 0\\\\\n",
    "3 & 1 & 0\\\\\n",
    "2 & 1 & 1\n",
    "\\end{bmatrix}\n",
    "\\begin{bmatrix}\n",
    "x_1 \\\\ x_2 \\\\ x_3\n",
    "\\end{bmatrix} =\n",
    "\\begin{bmatrix}\n",
    "3 \\\\ 13 \\\\ 4\n",
    "\\end{bmatrix} = B$$\n",
    "\n",
    "Este sistema pode ser resolvido por substituição direta, obtendo $Y = \\begin{bmatrix} 3 \\\\ 4 \\\\ -6 \\end{bmatrix}$.\n",
    "\n",
    "- Agora que encontramos $Y$, concluímos o procedimento resolvendo $UX = Y$ para $X$. Ou seja, resolvemos:\n",
    "\n",
    "$$\n",
    "UX = \\begin{bmatrix}\n",
    "1 & 2 & 4\\\\\n",
    "0 & 2 & 2\\\\\n",
    "0 & 0 & 3\n",
    "\\end{bmatrix}\n",
    "\\begin{bmatrix} x_1 \\\\ x_2 \\\\ x_3 \\end{bmatrix} = \n",
    "\\begin{bmatrix} 3 \\\\ 4 \\\\ -6 \\end{bmatrix}\n",
    "$$\n",
    "\n",
    "Realizando a substituição regressiva (baixo para cima; da direita para a esquerda), obtemos a solução do problema.\n",
    "\n",
    "$$X = \\begin{bmatrix} 3 \\\\ 4 \\\\ -2 \\end{bmatrix}$$"
   ]
  },
  {
   "cell_type": "markdown",
   "metadata": {},
   "source": [
    "Abaixo, temos uma implementação de uma fatoração LU sem pivoteamento. "
   ]
  },
  {
   "cell_type": "code",
   "execution_count": 1,
   "metadata": {},
   "outputs": [],
   "source": [
    "import numpy as np \n",
    "\n",
    "def lu_nopivot(A):\n",
    "    '''\n",
    "    Realiza fatoração LU para a matriz A\n",
    "    \n",
    "    entrada: \n",
    "        A  -  matriz:  array (nxn) \n",
    "    \n",
    "    saida: \n",
    "        L,U  - matriz triangular inferior, superior : array (nxn)         \n",
    "    '''\n",
    "        \n",
    "    n = np.shape(A)[0] # dimensao\n",
    "    L = np.eye(n) # auxiliar \n",
    "    \n",
    "    for k in np.arange(n):\n",
    "        L[k+1:n,k] = A[k+1:n,k]/A[k,k]        \n",
    "        for l in np.arange(k+1,n):\n",
    "            A[l,:] = A[l,:] - np.dot(L[l,k],A[k,:])\n",
    "            \n",
    "    U = A\n",
    "    return (L,U)"
   ]
  },
  {
   "cell_type": "markdown",
   "metadata": {},
   "source": [
    "**Exemplo:** Fatoração $\\bf{ LU }$ da matriz \n",
    "\n",
    "$${\\bf A} =\n",
    "\\begin{bmatrix}\n",
    "4 & -2 & -3 &  6 \\\\  \n",
    "1 &  4 &  2 &  3 \\\\\n",
    "2 & -3 &  3 & -2 \\\\ \n",
    "1 &  5 &  3 &  4\n",
    "\\end{bmatrix}$$"
   ]
  },
  {
   "cell_type": "code",
   "execution_count": 2,
   "metadata": {},
   "outputs": [],
   "source": [
    "A = np.array([[ 4., -2., -3.,  6.],[ 1.,  4.,  2.,  3.],[ 2.,  -3.,  3., -2.],[ 1.,  5.,  3.,  4.]])\n",
    "\n",
    "L,U = lu_nopivot(A)"
   ]
  },
  {
   "cell_type": "code",
   "execution_count": 3,
   "metadata": {},
   "outputs": [
    {
     "data": {
      "text/plain": [
       "array([[ 1.        ,  0.        ,  0.        ,  0.        ],\n",
       "       [ 0.25      ,  1.        ,  0.        ,  0.        ],\n",
       "       [ 0.5       , -0.44444444,  1.        ,  0.        ],\n",
       "       [ 0.25      ,  1.22222222,  0.06796117,  1.        ]])"
      ]
     },
     "execution_count": 3,
     "metadata": {},
     "output_type": "execute_result"
    }
   ],
   "source": [
    "L"
   ]
  },
  {
   "cell_type": "code",
   "execution_count": 4,
   "metadata": {},
   "outputs": [
    {
     "data": {
      "text/plain": [
       "array([[ 4.        , -2.        , -3.        ,  6.        ],\n",
       "       [ 0.        ,  4.5       ,  2.75      ,  1.5       ],\n",
       "       [ 0.        ,  0.        ,  5.72222222, -4.33333333],\n",
       "       [ 0.        ,  0.        ,  0.        ,  0.96116505]])"
      ]
     },
     "execution_count": 4,
     "metadata": {},
     "output_type": "execute_result"
    }
   ],
   "source": [
    "U"
   ]
  },
  {
   "cell_type": "code",
   "execution_count": 5,
   "metadata": {},
   "outputs": [],
   "source": [
    "from IPython.core.display import HTML\n",
    "\n",
    "def css_styling():\n",
    "    styles = open(\"styles/custom.css\", \"r\").read()\n",
    "    return HTML(styles)\n",
    "css_styling();"
   ]
  }
 ],
 "metadata": {
  "kernelspec": {
   "display_name": "Python 3",
   "language": "python",
   "name": "python3"
  },
  "language_info": {
   "codemirror_mode": {
    "name": "ipython",
    "version": 3
   },
   "file_extension": ".py",
   "mimetype": "text/x-python",
   "name": "python",
   "nbconvert_exporter": "python",
   "pygments_lexer": "ipython3",
   "version": "3.7.4"
  }
 },
 "nbformat": 4,
 "nbformat_minor": 4
}
