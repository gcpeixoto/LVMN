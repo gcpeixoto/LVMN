{
 "cells": [
  {
   "cell_type": "markdown",
   "metadata": {},
   "source": [
    "# Code session 3"
   ]
  },
  {
   "cell_type": "code",
   "execution_count": 1,
   "metadata": {},
   "outputs": [],
   "source": [
    "%matplotlib inline\n",
    "import numpy as np \n",
    "import matplotlib.pyplot as plt "
   ]
  },
  {
   "cell_type": "markdown",
   "metadata": {},
   "source": [
    "# Determinação de raízes de polinômios"
   ]
  },
  {
   "cell_type": "markdown",
   "metadata": {},
   "source": [
    "## `roots`\n",
    "\n",
    "A função `roots` computa as raízes de uma função dentro de um intervalo dado usando o método de Hörner. \n",
    "O único argumento de entrada desta função é\n",
    "\n",
    "1. o _array_ `p` com os coeficientes dos termos do polinômio.\n",
    "\n",
    "$$P(x) = p_n x^n + p_{n-1} x^{n-1} + \\ldots + p_1x + p_0$$\n",
    "\n",
    "\n",
    "O argumento de saída é:\n",
    "\n",
    "- `x`: _array_ com as raízes de $P(x)$.\n",
    "\n",
    "Como importá-la? \n",
    "\n",
    "```python \n",
    "from numpy import roots\n",
    "```\n",
    "\n",
    "Porém, como já fizemos uma importação do `numpy` acima, basta utilizarmos \n",
    "\n",
    "```python \n",
    "np.roots(p)\n",
    "```"
   ]
  },
  {
   "cell_type": "markdown",
   "metadata": {},
   "source": [
    "## Problema 1 \n",
    "\n",
    "Determine as raízes de $P(x) = 3x^3 +7x^2 - 36x + 20$."
   ]
  },
  {
   "cell_type": "markdown",
   "metadata": {},
   "source": [
    "### Resolução"
   ]
  },
  {
   "cell_type": "markdown",
   "metadata": {},
   "source": [
    "Para tornar claro, em primeiro lugar, vamos inserir os coeficientes de $P(x)$ em um _array_ chamado `p`. "
   ]
  },
  {
   "cell_type": "code",
   "execution_count": 2,
   "metadata": {},
   "outputs": [],
   "source": [
    "p = np.array([3,7,-36,20])"
   ]
  },
  {
   "cell_type": "markdown",
   "metadata": {},
   "source": [
    "Em seguida, fazemos: "
   ]
  },
  {
   "cell_type": "code",
   "execution_count": 3,
   "metadata": {},
   "outputs": [],
   "source": [
    "x = np.roots(p)"
   ]
  },
  {
   "cell_type": "markdown",
   "metadata": {},
   "source": [
    "Podemos imprimir as raízes da seguinte forma:"
   ]
  },
  {
   "cell_type": "code",
   "execution_count": 4,
   "metadata": {},
   "outputs": [
    {
     "name": "stdout",
     "output_type": "stream",
     "text": [
      "Raiz 0: -5.0\n",
      "Raiz 1: 1.9999999999999987\n",
      "Raiz 2: 0.6666666666666669\n"
     ]
    }
   ],
   "source": [
    "for i, v in enumerate(x):\n",
    "    print(f'Raiz {i}: {v}')"
   ]
  },
  {
   "cell_type": "markdown",
   "metadata": {},
   "source": [
    "## `polyval` \n",
    "\n",
    "Podemos usar a função `polyval` do `numpy` para avaliar $P(x)$ em $x = x_0$. Verifiquemos, analiticamente, se as raízes anteriores satisfazem realmente o polinômio dado."
   ]
  },
  {
   "cell_type": "code",
   "execution_count": 5,
   "metadata": {},
   "outputs": [
    {
     "name": "stdout",
     "output_type": "stream",
     "text": [
      "P(x) = 0.0\n",
      "P(x) = -3.552713678800501e-14\n",
      "P(x) = -7.105427357601002e-15\n"
     ]
    }
   ],
   "source": [
    "for i in x:\n",
    "    v = np.polyval(p,i)\n",
    "    print(f'P(x) = {v}')"
   ]
  },
  {
   "cell_type": "markdown",
   "metadata": {},
   "source": [
    "Note que as duas últimas raízes são \"muito próximas\" de zero, mas não exatamente zero. "
   ]
  },
  {
   "cell_type": "markdown",
   "metadata": {},
   "source": [
    "Podemos também fazer uma verificação geométrica plotando o polinômio e suas raízes. "
   ]
  },
  {
   "cell_type": "code",
   "execution_count": 6,
   "metadata": {},
   "outputs": [
    {
     "data": {
      "image/png": "[encoded data removed]",
      "text/plain": [
       "<Figure size 432x288 with 1 Axes>"
      ]
     },
     "metadata": {},
     "output_type": "display_data"
    }
   ],
   "source": [
    "xx = np.linspace(np.min(x)-0.5,np.max(x)+0.5)\n",
    "plt.plot(xx,np.polyval(p,xx));\n",
    "for i in x:\n",
    "    plt.plot(i,np.polyval(p,i),'or')"
   ]
  },
  {
   "cell_type": "markdown",
   "metadata": {},
   "source": [
    "## Problema 2\n",
    "\n",
    "Determine as raízes de $P(x) = x^4 - 3x^2 + 3x$."
   ]
  },
  {
   "cell_type": "markdown",
   "metadata": {},
   "source": [
    "### Resolução"
   ]
  },
  {
   "cell_type": "markdown",
   "metadata": {},
   "source": [
    "Resolvendo diretamente com `roots` e usando `polyval` para verificação, temos:"
   ]
  },
  {
   "cell_type": "code",
   "execution_count": 7,
   "metadata": {},
   "outputs": [],
   "source": [
    "# coeficientes e raízes\n",
    "p = np.array([1,0,-3,3,0])\n",
    "x = np.roots(p)"
   ]
  },
  {
   "cell_type": "code",
   "execution_count": 8,
   "metadata": {},
   "outputs": [
    {
     "name": "stdout",
     "output_type": "stream",
     "text": [
      "Raiz 0: (-2.1038034027355357+0j)\n",
      "Raiz 1: (1.051901701367768+0.5652358516771712j)\n",
      "Raiz 2: (1.051901701367768-0.5652358516771712j)\n",
      "Raiz 3: 0j\n"
     ]
    }
   ],
   "source": [
    "# imprimindo as raizes\n",
    "for i, v in enumerate(x):\n",
    "    print(f'Raiz {i}: {v}')"
   ]
  },
  {
   "cell_type": "markdown",
   "metadata": {},
   "source": [
    "Note que, neste caso, as raízes são complexas."
   ]
  },
  {
   "cell_type": "markdown",
   "metadata": {},
   "source": [
    "## Problema 3\n",
    "\n",
    "Determine as raízes de $P(x) = x^5 - 30x^4 + 361x^3 - 2178x^2 + 6588x - 7992$."
   ]
  },
  {
   "cell_type": "code",
   "execution_count": 9,
   "metadata": {},
   "outputs": [],
   "source": [
    "# coeficientes e raízes\n",
    "p = np.array([1,-30,361,-2178,6588,-7992])\n",
    "x = np.roots(p)"
   ]
  },
  {
   "cell_type": "code",
   "execution_count": 10,
   "metadata": {},
   "outputs": [
    {
     "name": "stdout",
     "output_type": "stream",
     "text": [
      "Raiz 0: (6.000000000009944+0.9999999999996999j)\n",
      "Raiz 1: (6.000000000009944-0.9999999999996999j)\n",
      "Raiz 2: (6.00026575921113+0j)\n",
      "Raiz 3: (5.999867120384507+0.0002301556526862668j)\n",
      "Raiz 4: (5.999867120384507-0.0002301556526862668j)\n"
     ]
    }
   ],
   "source": [
    "# imprimindo as raizes\n",
    "for i, v in enumerate(x):\n",
    "    print(f'Raiz {i}: {v}')"
   ]
  }
 ],
 "metadata": {
  "kernelspec": {
   "display_name": "Python 3",
   "language": "python",
   "name": "python3"
  },
  "language_info": {
   "codemirror_mode": {
    "name": "ipython",
    "version": 3
   },
   "file_extension": ".py",
   "mimetype": "text/x-python",
   "name": "python",
   "nbconvert_exporter": "python",
   "pygments_lexer": "ipython3",
   "version": "3.6.9"
  }
 },
 "nbformat": 4,
 "nbformat_minor": 2
}
