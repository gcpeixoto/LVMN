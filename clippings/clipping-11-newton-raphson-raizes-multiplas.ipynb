{
 "cells": [
  {
   "cell_type": "markdown",
   "metadata": {},
   "source": [
    "# Recorte 11: Método de Newton-Raphson para raízes múltiplas\n",
    "\n",
    "\n",
    "Para mais detalhes, veja o artigo _Newton's method for multiple roots_, autorado por William Gilbert e publicado na revista Computers & Graphics 18(2):227-229, em 1994. DOI: 10.1016/0097-8493(94)90097-3.\n",
    "\n",
    "## Método modificado\n",
    "\n",
    "Uma _raiz múltipla_ corresponde a um ponto no qual a função é tangente ao eixo _x_. Por exemplo, \n",
    "\n",
    "$$f(x) = (x-0.5)(x+2)(x+2)$$ \n",
    "\n",
    "possui uma _raiz dupla_ $x = -2$, ao passo que \n",
    "\n",
    "$$f(x) = (x + \\pi)^4(x-1)$$ \n",
    "\n",
    "possui uma _raiz quádrupla_ em $x = - \\pi$.\n",
    "\n",
    "Raízes múltiplas causam dificuldades para muitos dos métodos numéricos iterativos. Ralston e Rabinowitz (1978) propuseram um método de Newton-Raphson modificado para computar raízes múltiplas de uma função $f(x)$. Eles definiram uma nova função \n",
    "\n",
    "$$u(x) = \\frac{f(x)}{f'(x)},$$\n",
    "\n",
    "cujas raízes são as mesmas de $f(x)$ \n",
    "\n",
    "O MNR padrão aplicado à função $u(x)$ é dado por\n",
    "\n",
    "$$x_{i+1} = x_i - \\frac{u(x_i)}{u'(x_i)}, \\quad i = 0,1,2,\\ldots$$\n",
    "\n",
    "Tendo em vista que a derivada de $u(x)$ é dada por\n",
    "\n",
    "$$u'(x) = \\frac{f'(x)f'(x) - f(x)f''(x)}{[f(x)]^2},$$\n",
    "\n",
    "podemos substituir $u(x)$ e $u'(x)$ no método padrão para obter o **método de Newton-Raphson modificado**:\n",
    "\n",
    "$$x_{i+1} = x_i - \\frac{f(x_i)f'(x_i)}{[f'(x_i)]^2 - f(x_i)f'(x_i)}, \\quad i = 0,1,2,\\ldots$$"
   ]
  }
 ],
 "metadata": {
  "celltoolbar": "Edit Metadata",
  "ipub": {
   "listcode": false,
   "listfigures": false,
   "listtables": false,
   "titlepage": {
    "author": "Prof. Gustavo Oliveira",
    "email": "gustavo.oliveira@ci.ufpb.br",
    "institution": [
     "Universidade Federal da Paraíba"
    ],
    "tagline": "Cálculo Numérico (clippings).",
    "title": "Método de Newton-Raphson para raízes múltiplas"
   },
   "toc": false
  },
  "kernelspec": {
   "display_name": "Python 3",
   "language": "python",
   "name": "python3"
  },
  "language_info": {
   "codemirror_mode": {
    "name": "ipython",
    "version": 3
   },
   "file_extension": ".py",
   "mimetype": "text/x-python",
   "name": "python",
   "nbconvert_exporter": "python",
   "pygments_lexer": "ipython3",
   "version": "3.7.3"
  }
 },
 "nbformat": 4,
 "nbformat_minor": 2
}
