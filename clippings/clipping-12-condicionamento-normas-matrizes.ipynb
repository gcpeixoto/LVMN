{
 "cells": [
  {
   "cell_type": "markdown",
   "metadata": {},
   "source": [
    "# Recorte 12: Condicionamento e normas de matrizes\n",
    "\n",
    "## Normas de matrizes e vetores\n",
    "\n",
    "Uma norma é uma função de valor real que fornece uma medida do tamanho ou \"comprimento\" de entidades matemáticas de componentes múltiplos, tais como vetores e matrizes. Para um vetor de $n$ dimensões $\\textbf{x}$, sabemos que uma norma Euclidiana seria calculada como\n",
    "\n",
    "$$||\\textbf{x}|| = \\sqrt{\\displaystyle \\sum_{i=1}^n \\textbf{x}_i^2}.$$\n",
    "\n",
    "O conceito pode ser estendido para uma matriz $\\textbf{A}$ da seguinte maneira:\n",
    "\n",
    "$$||\\textbf{A}|| = \\sqrt{\\displaystyle \\sum_{i=1}^n \\sum_{j=1}^n a_{i,j}^2},$$\n",
    "\n",
    "cujo nome, em especial, é _norma de Frobenius_. Assim como qualquer outra norma de um vetor, ela fornece um valor único que quantifica o \"tamanho\" de $\\textbf{A}$. \n",
    "\n",
    "Para vetores, existem alternativas, as chamadas normas-$p$. que podem ser representadas geralmente por\n",
    "\n",
    "$$||\\textbf{x}||_p = \\left( \\displaystyle \\sum_{i=1}^n x_i^p \\right)^{1/p}.$$\n",
    "\n",
    "Vemos que a norma Euclidiana e a norma-$2$ são idênticas para vetores. \n",
    "\n",
    "Outros exemplos importantes são \n",
    "\n",
    "$$||\\textbf{x}||_1 = \\displaystyle \\sum_{i=1}^n |x_i|,$$\n",
    "\n",
    "que representa a norma como a soma dos valores absolutos dos elementos. Outra é a norma de _magnitude máxima_.\n",
    "\n",
    "$$||\\textbf{x}||_{\\infty} = \\max_{1 \\le i \\le n} |x_i|,$$\n",
    "\n",
    "que define a norma como o elemento com o maior valor absoluto.\n",
    "\n",
    "Usando uma abordagem similar, outras normas podem ser desenvolvidas por matrizes. Por exemplo, \n",
    "\n",
    "$$||\\textbf{A}||_{1} = \\max_{1 \\le j \\le n} \\displaystyle \\sum_{i=1}^n |a_{ij}|,$$\n",
    "\n",
    "isto é, uma somatória dos valores absolutos dos coeficientes é feita para cada coluna, e a maior dessas somatórias é tomada como a norma. Esta é chamada _norma da soma das colunas_. \n",
    "\n",
    "Uma norma similar pode ser definida para as linhas, resultando na _norma da soma das linhas_\n",
    "\n",
    "$$||\\textbf{A}||_{\\infty} = \\max_{1 \\le i \\le n} \\displaystyle \\sum_{j=1}^n |a_{ij}|.$$\n",
    "\n",
    "Deve-se notar que, em contraste com os vetores, a norma-2 e a norma Euclidiana para uma matriz não são as mesma. A norma-2 é calculada pela expressão \n",
    "\n",
    "$$||\\textbf{A}|| = (\\mu_{\\max})^{1/2},$$ \n",
    "\n",
    "onde $\\mu_{\\max}$ é o maior autovalor da matriz $\\textbf{B} = \\textbf{A}^T \\textbf{A}$. Esta norma é chamada de _norma espectral_.\n",
    "\n",
    "## Número de condição de uma matriz\n",
    "\n",
    "O _número de condição de uma matriz_ é definido (pela forma mais comum) por \n",
    "\n",
    "$$\\mathrm{cond}(\\textbf{A}) = ||\\textbf{A}|| \\, || \\textbf{A}^{-1} ||.$$\n",
    "\n",
    "Se o valor de $\\mathrm{cond}(\\textbf{A})$ for muito maior do que 1, diz-se que o sistema é **mal-condicionado**. "
   ]
  }
 ],
 "metadata": {
  "celltoolbar": "Edit Metadata",
  "ipub": {
   "listcode": false,
   "listfigures": false,
   "listtables": false,
   "titlepage": {
    "author": "Prof. Gustavo Oliveira",
    "email": "gustavo.oliveira@ci.ufpb.br",
    "institution": [
     "Universidade Federal da Paraíba"
    ],
    "tagline": "Cálculo Numérico (clippings).",
    "title": "Condicionamento e normas de matrizes"
   },
   "toc": false
  },
  "kernelspec": {
   "display_name": "Python 3",
   "language": "python",
   "name": "python3"
  },
  "language_info": {
   "codemirror_mode": {
    "name": "ipython",
    "version": 3
   },
   "file_extension": ".py",
   "mimetype": "text/x-python",
   "name": "python",
   "nbconvert_exporter": "python",
   "pygments_lexer": "ipython3",
   "version": "3.6.4"
  }
 },
 "nbformat": 4,
 "nbformat_minor": 2
}
