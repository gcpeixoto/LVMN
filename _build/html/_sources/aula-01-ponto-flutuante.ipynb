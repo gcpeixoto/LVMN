{
 "cells": [
  {
   "attachments": {},
   "cell_type": "markdown",
   "metadata": {},
   "source": [
    "# Aritmética de ponto flutuante e conversão numérica\n",
    "\n",
    "Computadores representam números inteiros de maneira exata. Entretanto, números reais possuem apenas representações aproximadas e em quantidades finitas. A aritmética computacional comumente opera com números inteiros e com os chamados _números em ponto flutuante._\n",
    "\n",
    "O interesse da aritmética computacional resume-se em dois pontos principais: i) a representação de números no formato de máquina (binário) e ii) a construção de algoritmos que realizam as operações fundamentais (adição, subtração, multiplicação e divisão). Em linhas gerais, métodos numéricos resultam de algoritmos sofisticados que utilizam essas quatro operações. \n",
    "\n",
    "Atualmente, o padrão IEEE 754 é o mais amplamente seguido pelos fabricantes de processadores modernos. O documento orienta sobre como números em ponto flutuante devem ser representados, operados e comportar-se em qualquer arquitetura, seja de 16, 32, 64 ou mesmo 128 bits. A última atualização do padrão, cujo ano de origem é 1985, ocorreu em 2019 e está documentada neste [artigo](https://ieeexplore.ieee.org/document/8766229)."
   ]
  },
  {
   "attachments": {},
   "cell_type": "markdown",
   "metadata": {},
   "source": [
    "## Unidade Lógica e Aritmética\n",
    "\n",
    "A _Unidade Lógica e Aritmética_ (ULA) é a parte do hardware computacional conectada à unidade central de processamento (CPU) que realiza as operações aritméticas e lógicas sobre os dados processados. A ULA é um componente eletrônico que funciona segundo a lógica dos cicuitos digitais, ou seja, interpretando operações em lógica Booleana (`and`, `or`, `not`).\n",
    "\n",
    "Há muito mais por trás das operações fundamentais executadas pelos computadores. Em Python, por exemplo, há casos de aproximações que chegam a ser curiosos. Isto ocorre devido ao erro inerente da representação numérica, principalmente quando os números são fracionários."
   ]
  },
  {
   "attachments": {},
   "cell_type": "markdown",
   "metadata": {},
   "source": [
    "## Casos curiosos\n",
    "\n",
    "Sabemos que a fração $1/3 \\approx 0.3333...\\ldots$ é uma dízima. O seu triplo equivale a $0.9999...$, mas vejamos o seguinte exemplo:"
   ]
  },
  {
   "cell_type": "code",
   "execution_count": 6,
   "metadata": {},
   "outputs": [
    {
     "data": {
      "text/plain": [
       "0.3333333333333333"
      ]
     },
     "execution_count": 6,
     "metadata": {},
     "output_type": "execute_result"
    }
   ],
   "source": [
    "1/3"
   ]
  },
  {
   "cell_type": "code",
   "execution_count": 7,
   "metadata": {},
   "outputs": [
    {
     "data": {
      "text/plain": [
       "1.0"
      ]
     },
     "execution_count": 7,
     "metadata": {},
     "output_type": "execute_result"
    }
   ],
   "source": [
    "# o resultado é 1!\n",
    "1/3 + 1/3 + 1/3\n"
   ]
  },
  {
   "attachments": {},
   "cell_type": "markdown",
   "metadata": {},
   "source": [
    "Outro caso curioso, em que o valor final é uma aproximação, é o seguinte:"
   ]
  },
  {
   "cell_type": "code",
   "execution_count": 8,
   "metadata": {},
   "outputs": [
    {
     "data": {
      "text/plain": [
       "0.8999999999999999"
      ]
     },
     "execution_count": 8,
     "metadata": {},
     "output_type": "execute_result"
    }
   ],
   "source": [
    "0.3 + 0.3 + 0.3"
   ]
  },
  {
   "attachments": {},
   "cell_type": "markdown",
   "metadata": {},
   "source": [
    "Vejamos agora o caso de séries numéricas equivalentes. Consideremos a série (descendente, do menor para o maior)\n",
    "\n",
    "$$S_D(n) = \\sum_{k=1}^n \\frac{1}{k} = 1 + \\frac{1}{2} + \\ldots + \\frac{1}{n-1} + \\frac{1}{n}$$\n",
    "\n",
    "e a sua versão escrita como uma somatória invertida (ascendente, do menor para o maior), ou seja,\n",
    "\n",
    "$$S_A(n) = \\sum_{k=n}^1 \\frac{1}{k} = \\frac{1}{n} + 1 + \\frac{1}{n-1} + \\ldots + \\frac{1}{2} + 1$$\n",
    "\n",
    "É evidente que $S_A(n)$ e $S_D(n)$ são matematicamente equivalentes e devem produzir o mesmo resultado independentemente de $n$ e do sentido em que forem somadas. Porém, vejamos o que acontece ao programarmos uma pequena função para computar ambas as formas.\n"
   ]
  },
  {
   "cell_type": "code",
   "execution_count": 1,
   "metadata": {},
   "outputs": [
    {
     "name": "stdout",
     "output_type": "stream",
     "text": [
      "+--------+--------------------+--------------------+------------------------+\n",
      "|   n    |       S_A(n)       |       S_D(n)       |    S_D(n) - S_A(n)     |\n",
      "+--------+--------------------+--------------------+------------------------+\n",
      "|   10   | 2.9289682539682538 | 2.9289682539682538 |          0.0           |\n",
      "|  100   | 5.187377517639621  | 5.1873775176396215 | -8.881784197001252e-16 |\n",
      "|  1000  | 7.485470860550343  | 7.485470860550341  | 2.6645352591003757e-15 |\n",
      "| 10000  | 9.787606036044348  | 9.787606036044386  | -3.730349362740526e-14 |\n",
      "| 100000 | 12.090146129863335 | 12.090146129863408 | -7.283063041541027e-14 |\n",
      "+--------+--------------------+--------------------+------------------------+\n"
     ]
    }
   ],
   "source": [
    "from prettytable import PrettyTable as pt\n",
    "\n",
    "# define séries\n",
    "def S(n):\n",
    "    \n",
    "    S_D = 0\n",
    "    for k in range(1,n+1):\n",
    "        S_D += 1/k        \n",
    "         \n",
    "    S_A = 0\n",
    "    for k in range(n,0,-1):\n",
    "        S_A += 1/k       \n",
    "    \n",
    "    # diferença    \n",
    "    E = S_D - S_A\n",
    "    \n",
    "    return S_D, S_A, E\n",
    "    \n",
    "# cria objeto para tabela\n",
    "tbl = pt()\n",
    "tbl.field_names = ['n','S_A(n)','S_D(n)','S_D(n) - S_A(n)']\n",
    "tbl.align = 'c'\n",
    "\n",
    "# loop de teste\n",
    "for n in [10**1, 10**2, 10**3, 10**4,10**5]:\n",
    "    sd, sa, e = S(n)    \n",
    "    row = [n,sd,sa,e]\n",
    "    tbl.add_row(row)\n",
    "   \n",
    "# imprime tabela\n",
    "print(tbl)\n"
   ]
  },
  {
   "cell_type": "markdown",
   "metadata": {},
   "source": [
    "Como se percebe pela última coluna, os valores produzidos pelas somas para $n > 10$ não são exatamente iguais. Embora exista diferenças ínfimas nos resultados, da ordem de $10^{-14}$ ou $10^{-16}$, elas não são zero, assim indicando que a maneira como computamos expressões matemáticas cujos resultados são idênticos pode levar a resultados distintos. "
   ]
  },
  {
   "attachments": {},
   "cell_type": "markdown",
   "metadata": {},
   "source": [
    "## Sistema binário\n",
    "\n",
    "Simples exercícios de conversão numérica para introduzi-lo à computação numérica com Python.\n",
    "\n",
    "### Exercícios de conversão numérica"
   ]
  },
  {
   "cell_type": "code",
   "execution_count": null,
   "metadata": {},
   "outputs": [],
   "source": [
    "# (100)_2 -> base 10\n",
    "c = int('100',base=2)\n",
    "print(c)\n",
    "\n",
    "# representação  \n",
    "print(1*2**2 + 0*2**1 + 0*2**0)\n",
    "\n",
    "# (4)_10 -> base 2\n",
    "# obs: note que '0b' indica que o número é binário\n",
    "c = bin(4)\n",
    "print(c)"
   ]
  },
  {
   "cell_type": "code",
   "execution_count": null,
   "metadata": {},
   "outputs": [],
   "source": [
    "# (222)_8\n",
    "c = int('222',base=8)\n",
    "print(c)\n",
    "\n",
    "# representação  \n",
    "print(2*8**2 + 2*8**1 + 2*8**0)\n",
    "\n",
    "# (146)_10 -> base 8\n",
    "\n",
    "c = oct(146)\n",
    "# obs: note que '0o' indica que o número é octal\n",
    "print(c)"
   ]
  },
  {
   "cell_type": "code",
   "execution_count": null,
   "metadata": {},
   "outputs": [],
   "source": [
    "# (2AE4)_16\n",
    "c = int('2ae4',base=16)\n",
    "print(c)\n",
    "\n",
    "# representação  \n",
    "# obs: A = 10; E = 14\n",
    "print(2*16**3 + 10*16**2 + 14*16**1 + 4*166**0)\n",
    "\n",
    "# (146)_10 -> base 8\n",
    "\n",
    "c = oct(146)\n",
    "# obs: note que '0o' indica que o número é octal\n",
    "print(c)"
   ]
  },
  {
   "cell_type": "code",
   "execution_count": null,
   "metadata": {},
   "outputs": [],
   "source": [
    "\"Brincando com Python e divisões sucessivas\"\n",
    "\n",
    "print('Esquema de divisões sucessivas:\\n')\n",
    "\n",
    "print( str(4) + ' | 2')\n",
    "print( str( len(str(4))*' ') + '  –––')\n",
    "print( str( 4 % 2) + '   ' + str(4 // 2) + ' | 2' )\n",
    "print( str( 5*len(str(4))*' ') + '  –––')\n",
    "print( str( 4*len(str(4))*' ') + str(4 % 2 % 2) + '   ' + str(4 // 2 // 2))"
   ]
  },
  {
   "attachments": {},
   "cell_type": "markdown",
   "metadata": {},
   "source": [
    "**Exercício:** estude a codificação do esquema acima. O que os operadores `//` e `%` estão fazendo?"
   ]
  },
  {
   "attachments": {},
   "cell_type": "markdown",
   "metadata": {},
   "source": [
    "## Máquina binária \n",
    "\n",
    "O código abaixo é um protótipo para implementação de uma máquina binária. Uma versão muito mais robusta e melhor implementada pode ser vista aqui: https://vnicius.github.io/numbiosis/conversor/index.html."
   ]
  },
  {
   "cell_type": "code",
   "execution_count": null,
   "metadata": {},
   "outputs": [],
   "source": [
    "\"\"\"\n",
    "Converte inteiro para binário\n",
    "por divisões sucessivas.\n",
    "! Confronte com a função residente 'bin()'\n",
    "\"\"\"\n",
    "\n",
    "\n",
    "def int2bin(N):\n",
    "\n",
    "    b = [] # lista auxiliar\n",
    "\n",
    "    # divisões sucessivas\n",
    "    while N >= 2:\n",
    "        b.append(N % 2)\n",
    "        N = N//2\n",
    "\n",
    "    b.append(N)\n",
    "    b.reverse()\n",
    "    b = [str(i) for i in b] # converte para string\n",
    "    s = ''\n",
    "    s = s.join(b)\n",
    "\n",
    "    return s # retorna string\n",
    "\n",
    "\n",
    "\"\"\"\n",
    "Converte parte fracionária para binário\n",
    "por multiplicações sucessivas.\n",
    "\"\"\"\n",
    "def frac2bin(Q):\n",
    "\n",
    "    count = 0 # contador (limite manual posto em 10!)\n",
    "    b = []  # lista auxiliar\n",
    "\n",
    "    # multiplicações sucessivas\n",
    "    Q *= 2\n",
    "    while Q > 0 and count <= 10:\n",
    "        if Q > 1:\n",
    "            Q = Q-1\n",
    "            b.append(1)\n",
    "        else:\n",
    "            b.append(0)\n",
    "        Q *= 2\n",
    "        count += 1\n",
    "\n",
    "    b = [str(i) for i in b] # converte para string\n",
    "    s = ''\n",
    "    s = s.join(b)\n",
    "\n",
    "    return s # retorna string\n",
    "\n",
    "\n",
    "def convert(app,btn):\n",
    "    print(btn)\n",
    "\n",
    "\n",
    "\n",
    "# Função principal\n",
    "def main():\n",
    "\n",
    "    # Pré-criação da interface com usuário\n",
    "\n",
    "    # todo: tratamento de exceção no tipo de entrada\n",
    "    #       contagem de casas decimais no caso de dízimas\n",
    "         print('*** MÁQUINA BINÁRIA ***')\n",
    "    #     N = input('Selecione a parte inteira:\\n')\n",
    "    #     Q = input('Selecione a parte fracionária:\\n')\n",
    "    #     print('Seu número é: ' + int2bin( int(N) ) + '.' + frac2bin( float(Q) )  + '.')\n",
    "    #     print('*** ***')\n",
    "\n",
    "\n",
    "if __name__ == \"__main__\":\n",
    "    main()"
   ]
  },
  {
   "attachments": {},
   "cell_type": "markdown",
   "metadata": {},
   "source": [
    "## Sistema de ponto flutuante \n",
    "\n",
    "### A reta \"perfurada\" \n",
    "\n",
    "Como temos estudado, a matemática computacional opera no domínio $\\mathbb{F}$, de pontos flutuantes, ao invés de trabalhar com números reais (conjunto $\\mathbb{R}$). Vejamos um exemplo: \n",
    "\n",
    "**Exemplo**: Considere o sistema de ponto flutuante $\\mathbb{F}(2,3,-1,2)$. Determinemos todos os seus números representáveis:\n",
    "\n",
    "Como a base é $2$, os dígitos possíveis são $0$ e $1$ com mantissas: \n",
    "\n",
    "- $0.100$\n",
    "- $0.101$\n",
    "- $0.110$\n",
    "- $0.111$\n",
    "\n",
    "Para cada expoente no conjunto $e=\\{-1,0,1,2\\}$, obteremos 16 números positivos, a saber: \n",
    "\n",
    "- $(0.100 \\times 2^{-1})_{2} = (0.01)_2 = 0.2^0 + 0.2^{-1} + 1.2^{-2} = 1/4$\n",
    "- $(0.100 \\times 2^{0})_{2} = (0.1)_2 = 0.2^0 + 1.2^{-1} = 1/2$\n",
    "- $(0.100 \\times 2^{1})_{2} = (1.0)_2 = 1.2^0 + 0.2^{-1} = 1$\n",
    "- $(0.100 \\times 2^{2})_{2} = (10.0)_2 = 1.2^1 + 0.2^{1} + 0.2^{-1} = 2$\n",
    "\n",
    "\n",
    "- $(0.101 \\times 2^{-1})_{2} = (0.0101)_2 = 0.2^0 + 0.2^{-1} + 1.2^{-2} + 0.2^{-3} + 1.2^{-4}= 5/16$\n",
    "- $(0.101 \\times 2^{0})_{2} = (0.101)_2 = 0.2^0 + 1.2^{-1} + 0.2^{-2} + 1.2^{-3} = 5/8$\n",
    "- $(0.101 \\times 2^{1})_{2} = (1.01)_2 = 1.2^0 + 0.2^{-1} + 1.2^{-2} = 1$\n",
    "- $(0.101 \\times 2^{2})_{2} = (10.1)_2 = 1.2^1 + 0.2^{1} + 0.2^{-1} = 2$\n",
    "\n",
    "(...)\n",
    "\n",
    "Fazendo as contas para os números restantes, obtemos a seguinte tabela: \n",
    "\n",
    "|     | m  | 0.100 | 0.101 | 0.110 | 0.111 |\n",
    "|-----|----|------ |-------|-------|-------|\n",
    "|**e**|    |       |       |       |       |\n",
    "| -1  |    | 1/4   | 5/16  | 3/8   | 7/16  |\n",
    "| 0   |    | 1/2   | 5/8   | 3/4   | 7/8   |\n",
    "| 1   |    | 1     | 5/4   | 3/2   | 7/4   |\n",
    "| 2   |    | 2     | 5/2   | 3     | 7/2   |\n",
    "\n",
    "Na reta real, esses valores ficariam dispostos da seguinte forma: "
   ]
  },
  {
   "cell_type": "code",
   "execution_count": null,
   "metadata": {},
   "outputs": [],
   "source": [
    "from matplotlib.pyplot import plot\n",
    "x = [1/4,1/2,1,2,5/16,5/8,5/4,5/2,3/8,3/4,3/2,3,7/16,7/8,7/4,7/2]\n",
    "x = sorted(x)\n",
    "\n",
    "plot(x,16*[0],':')\n",
    "plot(x,16*[0],'o');"
   ]
  },
  {
   "attachments": {},
   "cell_type": "markdown",
   "metadata": {},
   "source": [
    "Isto é, $\\mathbb{F}$ é uma reta \"perfurada\", para a qual apenas 16 números positivos, 16 simétricos destes e mais o 0 são representáveis. Logo, o conjunto contém apenas 33 elementos."
   ]
  },
  {
   "attachments": {},
   "cell_type": "markdown",
   "metadata": {},
   "source": [
    "## Simulador de $\\mathbb{F}$"
   ]
  },
  {
   "cell_type": "code",
   "execution_count": null,
   "metadata": {},
   "outputs": [],
   "source": [
    "import numpy as np\n",
    "import matplotlib.pyplot as plt\n",
    "\n",
    "%matplotlib inline\n",
    "\n",
    "def simulacao_F(b,t,L,U):\n",
    "    x = []\n",
    "    epsm = b**(1-t) # epsilon de máquina\n",
    "    M = np.arange(1.,b-epsm,epsm)\n",
    "    print(M)\n",
    "\n",
    "    E = 1\n",
    "    for e in range(0,U+1):\n",
    "        x = np.concatenate([x,M*E])\n",
    "        E *= b    \n",
    "    E = b**(-1)\n",
    "    \n",
    "    y = []\n",
    "    for e in range(-1,L-1,-1):\n",
    "        y = np.concatenate([y,M*E])\n",
    "        E /= b    \n",
    "    yy = np.asarray(y)\n",
    "    xx = np.asarray(x)    \n",
    "    x = np.concatenate([yy,np.array([0.]),xx])\n",
    "    return x\n",
    "\n",
    "Y = simulacao_F(2,2,-3,2)\n",
    "X = np.zeros(Y.shape)\n",
    "\n",
    "plt.scatter(Y,X,c='r',marker='+');"
   ]
  },
  {
   "attachments": {},
   "cell_type": "markdown",
   "metadata": {},
   "source": [
    "## Limites de máquina para ponto flutuante"
   ]
  },
  {
   "cell_type": "code",
   "execution_count": null,
   "metadata": {},
   "outputs": [],
   "source": [
    "import numpy as np \n",
    "\n",
    "# limites de máquina para ponto flutuante\n",
    "#help(np.finfo)\n",
    "\n",
    "# epsilon de máquina para tipo float (64 bits)\n",
    "print('Epsilon de máquina do numpy - 64 bits')\n",
    "print(np.finfo(float).eps)\n",
    "\n",
    "# função para calculo do epsilon: erro relativo\n",
    "def eps_mach(func=float):\n",
    "    eps = func(1)\n",
    "    while func(1) + func(eps) != func(1):\n",
    "        epsf = eps\n",
    "        eps = func(eps) / func(2)\n",
    "    return epsf\n",
    "\n",
    "# número máximo representável \n",
    "print('número máximo representável')\n",
    "print(np.finfo(float).max)\n",
    "\n",
    "# número mínimo representável \n",
    "print('número mínimo representável') \n",
    "print(np.finfo(float).min)\n",
    "\n",
    "# número de bits no expoente \n",
    "print('número de bits no expoente') \n",
    "print(np.finfo(float).nexp)\n",
    "\n",
    "# número de bits na mantissa\n",
    "print('número de bits na mantissa')\n",
    "print(np.finfo(float).nmant)"
   ]
  },
  {
   "cell_type": "code",
   "execution_count": null,
   "metadata": {},
   "outputs": [],
   "source": [
    "from matplotlib.pyplot import plot\n",
    "\n",
    "x = np.linspace(1e-15,1e-20,num=100)\n",
    "f = ((1+x)-1)/x\n",
    "plot(x,f);"
   ]
  },
  {
   "cell_type": "markdown",
   "metadata": {},
   "source": [
    "### Como \"enxergar\" o $\\epsilon_M$?\n",
    "\n",
    "A unidade de arredondamento, $\\epsilon_M$, comumente chamada de \"épsilon de máquina\", é definida como o menor número do sistema computacional tal que\n",
    "\n",
    "$$1.0 + \\epsilon_M > 1.0.$$\n",
    "\n",
    "Esta inequação também pode ser lida da seguinte forma: $\\epsilon_M$ é a diferença entre a unidade e o próximo número mais próximo dela representável pela máquina.\n",
    "\n",
    "Para entender isto, vamos usar um sistema hipotético de 8 bits, no qual cada número é representado por uma sequencia de até 8 dígitos binários. Em um sistema de 8 bits, uma \"palavra\" (termo da Arquitetura Computacional) armazena um número real da seguinte forma: \n",
    "\n",
    "- o primeiro bit é reservado para o sinal do número\n",
    "- os próximos 3 bits são reservados para o expoente (com _bias_)\n",
    "- os últimos 4 bits são reservados para a mantissa. \n",
    "\n",
    "Neste sistema, a unidade $(1)_{10}$ é representada em forma binária por: $00110000$. \n",
    "\n",
    "O próximo número de máquina neste sistema seria $00110001$, que equivale a $(1.0625)_{10}$.\n",
    "\n",
    "Portanto, para este sistema $\\epsilon_M = (1.0625)_{10} - (1)_{10} = 0.0625$.\n",
    "\n",
    "Explicando um pouco mais...\n",
    "\n",
    "Para 8 bits, o _bias_ é o quociente inteiro resultante da divisão de $(2^3 - 1)/2 = 3$. Então, usando a expressão de ponto flutuante\n",
    "\n",
    "$$x = (-1)^s \\, 2^{(c-bias)} \\, (1 + f),$$ \n",
    "\n",
    "temos que\n",
    "\n",
    "$c = 0 \\times 2^2 + 1 \\times 2^1 + 1 \\times 2^0 = 3$ (esquerda para a direita, correspondendo às posições 2,3 e 4). Como o número é positivo, $s = 0$. A mantissa corresponde às 4 últimas caixas, que são zero, i.e. $f = 0$.\n",
    "\n",
    "Por fim, $x = (-1)^0 \\, 2^{(3-3)} \\, (1+0) = 1$ e a representação de 8 bits de 1 é $00110000$.\n",
    "\n",
    "Para $\\epsilon_M$, note que o próximo número tem uma contribuição de $2^{-4} = 0.0625$. Ou seja, a mantissa decresce para a direita $2^{-1}, 2^{-2}, 2^{-3}, 2^{-4}$. O ponto \"decimal\" (radix) fica implícito e o expoente cresce para a esquerda, $2^0, 2^1$, e $2^2$.\n",
    "\n",
    "Em seguida, o próximo número representável (depois de $1.0625$) teria uma contribuição de $2^{-4} + 2^{-3} = 0.1875$, sendo, pois, $1.1875$. Evidentemente, $1.1875 - 1.0625 = 0.125$, mas $\\epsilon_M < 0.125$. Isto mostra que a unidade de arredondamento não equivale a uma \"distância\" no sentido dos números reais como se vê na representação de reta perfurada. "
   ]
  },
  {
   "cell_type": "markdown",
   "metadata": {},
   "source": [
    "## Exemplos \n",
    "\n",
    "### Sistema de 16 bits\n",
    "\n",
    "- Comporta faixa de binários de $0000000000000000$ a $1111111111111111$\n",
    "- Limite superior: $(1 \\times 2^{14}) + (1 \\times 2^{13}) + \\ldots + (1 \\times 2^1) + (1 \\times 2^0) = 32767$\n",
    "- Uma vez que $+0 = 0000000000000000$, $-0 = 1000000000000000$ é um negativo a mais\n",
    "- Intervalo de inteiros representáveis: $[-32768,32767]$\n"
   ]
  },
  {
   "cell_type": "markdown",
   "metadata": {},
   "source": [
    "### Limites de _underflow_ e _overflow_\n",
    "\n",
    "Para o sistema $\\mathbb{F}(10,3,-5,5)$, vejamos os seguintes casos: \n",
    "\n",
    "#### Caso I: número representável x número não representável\n",
    "\n",
    "- $x = 235.89 = 0.23589 \\times 10^3$ (5 dígitos na mantissa)\n",
    "- $0.235 \\times 10^3$ e $0.236 \\times 10^3$ são representáveis\n",
    "- $0.23589 \\times 10^3$ não é representável (perda de dígitos significativos)\n",
    "\n",
    "#### Caso II: número não representável por causa de _underflow_\n",
    "\n",
    "- $x = 0.654 \\times 10^{-7}$ (expoente rompeu o limite $L=-5$)\n",
    "\n",
    "#### Caso III: número não representável por causa de _overflow_\n",
    "\n",
    "- $x = 0.923 \\times 10^{12}$ (expoente rompeu o limite $U=5$)"
   ]
  },
  {
   "cell_type": "markdown",
   "metadata": {},
   "source": [
    "Considere $\\mathbb{F}(2,3,-1,2)$. Represente os seguintes números, dados na base $10$, neste sistema de ponto flutuante normalizado.\n",
    "\n",
    "a) $x = 0.25$\n",
    "\n",
    "b) $x = 3.5$\n",
    "\n",
    "c) $x = 0.125$\n",
    "\n",
    "d) $x = 4$\n",
    "\n",
    "e) $x = 0.3$\n",
    "\n",
    "#### Solução \n",
    "\n",
    "Devemos ter $x = \\pm 0.d_1d_2d_3 \\times 2^e$, com $d_1 =1$, $d_2 \\in \\left\\{0, 1\\right\\}$, $d_3 \\in \\left\\{0, 1\\right\\}$\n",
    "e $e \\in \\left\\{-1, 0, 1, 2 \\right\\}$.\n",
    "\n",
    "a) $x = 0.25$\n",
    "\n",
    "Note que, $(0.25)_{10} = (0.01)_2 = 0.1 \\times 2^{-1}$, i.e. $d_1 = 1$ e $ e  = -1$. Logo, a representação de $x$ neste sistema de ponto flutuante é: $x = + \\,0.100 \\times 2^{-1}$.\n",
    "\n",
    "b) $ x = 3.5$ \n",
    "\n",
    "Aqui: $(3.5)_{10} = (11.1)_2 = 0.111 \\times 2^{2}$, i.e. $d_1 = 1$ e $e = 2$. Como $2_{10} = (10)_2$, a representação de $x$ neste sistema de ponto flutuante é: $x = + \\, 0.111 \\times 2^{10}$.\n",
    "\n",
    "c) $x = 0.125$\n",
    "\n",
    "Aqui: $(0.125)_{10} = (0.001)_2 = 0.1 \\times 2^{-2}$ , i.e, $d_1 = 1$ e $e = -2$. Como $e < L = -1$, \n",
    "temos _underflow_ (não representável).\n",
    "\n",
    "d) $x = 4$\n",
    "\n",
    "Note que, $(4)_{10} = (100)_2 = 0.1\\times 2^{3}$, i.e $d_1 = 1$ e $e = 3$. Como $e > U = 2$, temos\n",
    "_overflow_ (não representável).\n",
    "\n",
    "e) $x = 0.3$\n",
    "\n",
    "Note que, $(0.3)_{10} = (0.0\\,1001\\,1001\\dots)_2 =(0.1001\\,1001\\dots)\\times 2^{-1}$, i.e. $d_1 = 1$ e $e = {-1}$. Como devemos ter apenas 3 dígitos, este número **não é representável** neste sistema de ponto flutuante.\n",
    "\n",
    "Se truncarmos em 3 dígitos, então temos uma aproximação para $x$ dada por \n",
    "$$0.100 \\times 2^{-1} =(0.0100)_2 = \\\\\n",
    "0\\times \\frac{1}{2} + 1\\times \\frac{1}{4} + 0 \\times \\frac{1}{8}+ 0 \\times \\frac{1}{16} + 0 \\times \\frac{1}{32} = \\\\ (0.25)_{10} \\ne (0.3)_{10}.$$"
   ]
  },
  {
   "cell_type": "markdown",
   "metadata": {},
   "source": [
    "### Maior e menor número representável\n",
    "\n",
    "Considerando o mesmo sistema de ponto flutuante do exemplo anterior, determinar:\n",
    "\n",
    "a) O menor número real positivo representável neste sistema\n",
    "\n",
    "b) O maior número real positivo representável neste sistema\n",
    "\n",
    "### Solução\n",
    "\n",
    "O menor número real positivo representável neste sistema é \n",
    "\n",
    "$$x_{min} = 0.100\\times 2^{-1} = (0.010)_{2} = 0\\times \\frac{1}{2} + 1 \\times \\frac{1}{4} = (0.25)_{10}.$$\n",
    "\n",
    "O maior número real positivo representável neste sistema é\n",
    "$$x_{max} = 0.111\\times 2^2 = (11.1)_{2} = 1\\times 2^1 + 1 \\times 2^0 + 1\\times \\frac{1}{2} =(3.5)_{10}.$$\n",
    "\n",
    "Lembre que no Exemplo 1.4, c), com $x = (0.125)_{10}$, e no Exemplo 1.4 d), com $ x = 4_{10}$, tivemos\n",
    "situações de _underflow_ e _overflow_, respectivamente.\n",
    "\n",
    "Já no Exemplo anterior, e), com $x = (0.3)_{10}$, tivemos  truncamento/aproximação."
   ]
  },
  {
   "cell_type": "markdown",
   "metadata": {},
   "source": [
    "## Exemplo\n",
    "\n",
    "Determinar todos os números reais que são *representáveis exatamente* no sistema do Exemplo 1.3, i.e.  $\\mathbb{F}(2,3,-1,2)$.\n",
    "\n",
    "### Solução\n",
    "\n",
    "Como $ t = 3 $, as possíveis mantissas não nulas são: $ (0.100)_2, (0.101)_2, (0.110)_2 $ e $(0.111)_2 $.\n",
    "Como $L=−1$ e $U=2$, os possíveis expoentes são: $−1 0,1$ e $2$. Assim, os números positivos \n",
    "com representação exata são:\n",
    "\n",
    "$$\n",
    "(0.100)_2 \\times 2^{-1} = \\frac{1}{2} \\times 2^{-1} = (0.25)_{10} = x_{min} \\\\\n",
    "(0.100)_2 \\times 2^{-1} = \\frac{1}{2} \\times 2^{-1} = (0.5)_{10} \\\\\n",
    "(0.100)_2 \\times 2^1    = \\frac{1}{2} \\times 2^1    = (1.0)_{10} \\\\\n",
    "(0.100)_2 \\times 2^2    = \\frac{1}{2} \\times 2^2    = (2.0)_{10} \\\\\n",
    "\\phantom{2} \\\\\n",
    "(0.101)_2 \\times 2^{-1} = \\left( \\frac{1}{2} + \\frac{1}{8} \\right) \\times 2^{-1} = (0.3125)_{10} \\\\\n",
    "(0.101)_2 \\times 2^{-1} = \\left( \\frac{1}{2} + \\frac{1}{8} \\right) \\times 2^{-1} = (0.625)_{10} \\\\\n",
    "(0.101)_2 \\times 2^1    = \\left( \\frac{1}{2} + \\frac{1}{8} \\right) \\times 2^1    = (1.25)_{10} \\\\\n",
    "(0.101)_2 \\times 2^2    = \\left( \\frac{1}{2} + \\frac{1}{8} \\right) \\times 2^2    = (2.5)_{10} \\\\\n",
    "\\phantom{2} \\\\\n",
    "(0.110)_2 \\times 2^{-1} = \\left( \\frac{1}{2} + \\frac{1}{4} \\right) \\times 2^{-1} = (0.375)_{10} \\\\\n",
    "(0.110)_2 \\times 2^{-1} = \\left( \\frac{1}{2} + \\frac{1}{4} \\right) \\times 2^{-1} = (0.75)_{10} \\\\\n",
    "(0.110)_2 \\times 2^1    = \\left( \\frac{1}{2} + \\frac{1}{4} \\right) \\times 2^1    = (1.5)_{10} \\\\\n",
    "(0.110)_2 \\times 2^2    = \\left( \\frac{1}{2} + \\frac{1}{4} \\right) \\times 2^2    = (3.0)_{10} \\\\\n",
    "\\phantom{2} \\\\\n",
    "(0.111)_2 \\times 2^{-1} = \\left( \\frac{1}{2} + \\frac{1}{4} + \\frac{1}{8} \\right) \\times 2^{-1} = (0.4375)_{10} \\\\\n",
    "(0.111)_2 \\times 2^{-1} = \\left( \\frac{1}{2} + \\frac{1}{4} + \\frac{1}{8} \\right) \\times 2^{-1} = (0.875)_{10} \\\\\n",
    "(0.111)_2 \\times 2^1    = \\left( \\frac{1}{2} + \\frac{1}{4} + \\frac{1}{8} \\right) \\times 2^1    = (1.75)_{10} \\\\\n",
    "(0.111)_2 \\times 2^2    = \\left( \\frac{1}{2} + \\frac{1}{4} + \\frac{1}{8} \\right) \\times 2^2    = (3.5)_{10} = x_{max} \\\\\n",
    "$$\n",
    "Portanto, temos apenas **33** números reais _representáveis exatamente_ neste sistema. \n",
    "Todos os acima e os negativos, i.e.:\n",
    "\n",
    "$$0.0, \\pm 0.25, \\pm 0.3125, \\dots, \\pm 3.5$$"
   ]
  }
 ],
 "metadata": {
  "celltoolbar": "Edit Metadata",
  "kernelspec": {
   "display_name": "Python 3.10.6 64-bit",
   "language": "python",
   "name": "python3"
  },
  "language_info": {
   "codemirror_mode": {
    "name": "ipython",
    "version": 3
   },
   "file_extension": ".py",
   "mimetype": "text/x-python",
   "name": "python",
   "nbconvert_exporter": "python",
   "pygments_lexer": "ipython3",
   "version": "3.10.10"
  },
  "vscode": {
   "interpreter": {
    "hash": "b0fa6594d8f4cbf19f97940f81e996739fb7646882a419484c72d19e05852a7e"
   }
  }
 },
 "nbformat": 4,
 "nbformat_minor": 4
}
