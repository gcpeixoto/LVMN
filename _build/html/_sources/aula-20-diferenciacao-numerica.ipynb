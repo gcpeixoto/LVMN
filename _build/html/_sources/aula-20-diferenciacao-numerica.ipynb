{
 "cells": [
  {
   "cell_type": "markdown",
   "metadata": {},
   "source": [
    "# Diferenciação Numérica\n",
    "\n",
    "## Fórmula de Derivação de Alta Acurácia\n",
    "\n",
    "A expansão em série de Taylor progressiva pode ser escrita como\n",
    "\n",
    "$$\n",
    "f(x_{i+1}) = f(x_i) + f'(x_i) h + \\dfrac{f '' (x_i)}{2} h^2 + \\dots\n",
    "$$\n",
    "\n",
    "o que pode ser resolvido por\n",
    "\n",
    "$$\n",
    "f'(x_i) = \\dfrac{f(x_{i+1}) - f(x_i)}{h} - \\dfrac{f''(x_i)}{2} h + O(h^2) \\qquad (1)\n",
    "$$\n",
    "\n",
    "Truncamos esse resultado excluindo os termos da segunda derivada e de derivadas de ordem superior e ficamos com o resultado final\n",
    "\n",
    "$$\n",
    "f' (x_i) = \\dfrac{f(x_{i+1}) - f(x_i)}{h} + O(h) \\qquad (2)\n",
    "$$\n",
    "\n",
    "Em contraste a essa abordagem, agora manteremos o termo da segunda derivada substituindo a seguinte aproximação da segunda derivada\n",
    "\n",
    "$$\n",
    "f'' (x_i) = \\dfrac{f(x_{i+2}) - 2 f(x_{i+1}) + f(x_i)}{h^2} + O(h) \\qquad (3)\n",
    "$$\n",
    "\n",
    "na Equação (1) para obter\n",
    "\n",
    "$$\n",
    "f' (x_i) = \\dfrac{f(x_{i+1}) - f(x_i)}{h} - \\dfrac{f(x_{i+2}) - 2 f(x_{i+1}) + f(x_i)}{2 h^2} + O(h^2)\n",
    "$$\n",
    "\n",
    "ou, agrupando os termos,\n",
    "\n",
    "$$\n",
    "f' (x_i) = \\dfrac{- f(x_{i+2}) + 4 f(x_{i+1}) - 3 f(x_i)}{2 h} + O(h^2) \\qquad (4)\n",
    "$$\n",
    "\n",
    "Observe que a inclusão do termo da segunda derivada melhorou a precisão para $O(h^2)$.\n",
    "\n",
    "## Derivada de Dados Não Uniformemente Espaçados\n",
    "\n",
    "Uma forma de tratar dados não uniformemente espaçados é ajustar um polinômio interpolador de Lagrange aos dados. Para uma derivada de primeira ordem mais acurada, por exemplo, podemos deduzir um polinômio de segundo grau para cada conjunto de três pontos adjacentes analiticamente através das expressões das funções de base de Lagrange. Em seguida, derivamos as funções de base de modo a obter\n",
    "\n",
    "$$f'(x) = f(x_{i-1}) \\dfrac{2 x - x_i - x_{i+1}}{(x_{i-1} - x_i)(x_{i-1} - x_{i+1})} + f(x_i) \\dfrac{2 x - x_{i-1} - x_{i+1}}{(x_i - x_{i-1})(x_i - x_{i+1})} + f(x_{i+1}) \\dfrac{2 x - x_{i-1} - x_i}{(x_{i+1} - x_{i-1})(x_{i+1} - x_i)}, \\qquad (5)$$\n",
    "\n",
    "em que $x$ é o valor no qual se quer estimar a derivada."
   ]
  },
  {
   "cell_type": "code",
   "execution_count": 1,
   "metadata": {},
   "outputs": [],
   "source": [
    "import numpy as np \n",
    "import sympy as sy\n",
    "import matplotlib.pyplot as plt\n",
    "%matplotlib inline"
   ]
  },
  {
   "cell_type": "markdown",
   "metadata": {},
   "source": [
    "## Motivação\n",
    "\n",
    "Gerando curvas de deslocamento, velocidade e aceleração para uma partícula."
   ]
  },
  {
   "cell_type": "code",
   "execution_count": 2,
   "metadata": {},
   "outputs": [],
   "source": [
    "# eixo temporal\n",
    "x = np.linspace(0,1,30,endpoint=True)\n",
    "\n",
    "# lei de movimento\n",
    "y = 0.93*np.cos(2.5*(x-1))*np.sin(6*x*x)\n",
    "\n",
    "# velocidade e aceleração (funções analíticas)\n",
    "# derivação simbólica\n",
    "t = sy.Symbol('t')\n",
    "st = 0.93*sy.cos(2.5*(t-1))*sy.sin(6*t*t)\n",
    "dt = sy.diff(st,t) # v(t)\n",
    "dt2 = sy.diff(dt,t) # a(t)\n",
    "\n",
    "# converte para numérico\n",
    "dy = np.asarray([dt.subs(t,xn) for xn in x])\n",
    "dy2 = np.asarray([dt2.subs(t,xn) for xn in x])\n",
    "\n",
    "# função para plotagem\n",
    "def plotting(x,y,c,lab):\n",
    "    plt.plot(x,y,c,label=lab)\n",
    "    plt.grid()\n",
    "    plt.xlabel('$t$')\n",
    "    plt.tick_params(\n",
    "        axis='both',        \n",
    "        which='both',      \n",
    "        bottom=False,      \n",
    "        left=False,         \n",
    "        labelbottom=False, \n",
    "        labelleft=False)\n",
    "    plt.legend()\n",
    "    ax = plt.gca()\n",
    "    ax.set_facecolor('#F9F9F9')"
   ]
  },
  {
   "cell_type": "code",
   "execution_count": 3,
   "metadata": {},
   "outputs": [
    {
     "data": {
      "image/png": "[encoded data removed]",
      "text/plain": [
       "<Figure size 432x288 with 1 Axes>"
      ]
     },
     "metadata": {},
     "output_type": "display_data"
    }
   ],
   "source": [
    "# curva: deslocamento\n",
    "plotting(x,y,'or','$x(t)$')"
   ]
  },
  {
   "cell_type": "code",
   "execution_count": 4,
   "metadata": {},
   "outputs": [
    {
     "data": {
      "image/png": "[encoded data removed]",
      "text/plain": [
       "<Figure size 432x288 with 1 Axes>"
      ]
     },
     "metadata": {},
     "output_type": "display_data"
    }
   ],
   "source": [
    "# curva: velocidade\n",
    "plotting(x,dy,'og','$v(t)$')"
   ]
  },
  {
   "cell_type": "code",
   "execution_count": 5,
   "metadata": {},
   "outputs": [
    {
     "data": {
      "image/png": "[encoded data removed]",
      "text/plain": [
       "<Figure size 432x288 with 1 Axes>"
      ]
     },
     "metadata": {},
     "output_type": "display_data"
    }
   ],
   "source": [
    "# curva: aceleração\n",
    "plotting(x,dy2,'ob','$a(t)$')"
   ]
  },
  {
   "cell_type": "markdown",
   "metadata": {},
   "source": [
    "## Derivada numérica progressiva e regressiva (primeira ordem)"
   ]
  },
  {
   "cell_type": "code",
   "execution_count": 14,
   "metadata": {},
   "outputs": [
    {
     "name": "stdout",
     "output_type": "stream",
     "text": [
      "h=0.010\n",
      "f'e(1.2) = 0.36235775\n",
      "f'p(1.2) = 0.35769156\n",
      "f'r(1.2) = 0.36701187\n",
      "f'c(1.2) = 0.36235172\n"
     ]
    },
    {
     "data": {
      "image/png": "[encoded data removed]",
      "text/plain": [
       "<Figure size 432x288 with 1 Axes>"
      ]
     },
     "metadata": {
      "needs_background": "light"
     },
     "output_type": "display_data"
    }
   ],
   "source": [
    "# Exemplo: f(x) = sen(x); \n",
    "# Derivada analítica (verdadeira): f'(x=x0) = cos(x0)\n",
    "x0 = 1.2\n",
    "h = 0.01\n",
    "n = 10\n",
    "x = np.linspace(x0-2*h,x0+2*h,n)\n",
    "\n",
    "# expressões analíticas de f(x) e f'(x)\n",
    "f = np.sin(x)\n",
    "df = np.cos(x)\n",
    "\n",
    "# valor \"exato\" de f'(x) no ponto x=x0\n",
    "dfe = np.cos(x0)\n",
    "\n",
    "dfp = (np.sin(x0+h) - np.sin(x0))/h       # DF progressiva\n",
    "dfr = (np.sin(x0) - np.sin(x0-h))/h       # DF regressiva\n",
    "dfc = (np.sin(x0+h) - np.sin(x0-h))/(2*h) # DF centrada\n",
    "\n",
    "plt.plot(x,df,'ok') # derivada exata\n",
    "plt.plot(x0,dfe,'sy') # derivada exata no ponto x0\n",
    "plt.plot(x0,dfp,'or') # derivada numérica PROGRESSIVA no ponto x0 \n",
    "plt.plot(x0,dfr,'ob') # derivada numérica REGRESSIVA no ponto x0 \n",
    "plt.plot(x0,dfc,'og') # derivada numérica CENTRADA no ponto x0 \n",
    "plt.grid(True)\n",
    "\n",
    "print('h={0:.3f}'.format(h))\n",
    "print('f\\'e({0:g}) = {1:.8f}'.format(x0,dfe))\n",
    "print('f\\'p({0:g}) = {1:.8f}'.format(x0,dfp))\n",
    "print('f\\'r({0:g}) = {1:.8f}'.format(x0,dfr))\n",
    "print('f\\'c({0:g}) = {1:.8f}'.format(x0,dfc))"
   ]
  },
  {
   "cell_type": "markdown",
   "metadata": {},
   "source": [
    "### Comparando resultados\n",
    "\n",
    "**Exemplo:** considere a função $f(x) = \\frac{2^x}{x}$. Calcule a segunda derivada em $x=2$ numericamente com a fórmula de diferença centrada a 3 pontos usando:\n",
    "\n",
    "- Os pontos $x = 1.8$, $x = 2$ e $x = 2.2$.\n",
    "- Os pontos $x = 1.9$, $x = 2$ e $x = 2.1$.\n",
    "\n",
    "Compare os resultados com a derivada analítica."
   ]
  },
  {
   "cell_type": "markdown",
   "metadata": {},
   "source": [
    "#### Solução\n",
    "\n",
    "Vamos primeiro computar a seguda derivada analítica de $f(x)$ por computação simbólica."
   ]
  },
  {
   "cell_type": "code",
   "execution_count": 24,
   "metadata": {},
   "outputs": [
    {
     "data": {
      "image/png": "[encoded data removed]",
      "text/latex": [
       "$\\displaystyle \\frac{2^{x} \\left(\\log{\\left(2 \\right)}^{2} - \\frac{2 \\log{\\left(2 \\right)}}{x} + \\frac{2}{x^{2}}\\right)}{x}$"
      ],
      "text/plain": [
       " x ⎛   2      2⋅log(2)   2 ⎞\n",
       "2 ⋅⎜log (2) - ──────── + ──⎟\n",
       "   ⎜             x        2⎟\n",
       "   ⎝                     x ⎠\n",
       "────────────────────────────\n",
       "             x              "
      ]
     },
     "execution_count": 24,
     "metadata": {},
     "output_type": "execute_result"
    }
   ],
   "source": [
    "from sympy.abc import x \n",
    "sy.init_printing()\n",
    "\n",
    "# função\n",
    "f = 2**x/x\n",
    "\n",
    "# derivada segunda\n",
    "d2fdx2 = sy.diff(f,x,2)\n",
    "d2fdx2"
   ]
  },
  {
   "cell_type": "code",
   "execution_count": 25,
   "metadata": {},
   "outputs": [],
   "source": [
    "# derivada em x = 2 \n",
    "d2fdx2_p2 = d2fdx2.subs(x,2)"
   ]
  },
  {
   "cell_type": "code",
   "execution_count": 26,
   "metadata": {},
   "outputs": [
    {
     "data": {
      "image/png": "[encoded data removed]",
      "text/latex": [
       "$\\displaystyle 0.574611666716512$"
      ],
      "text/plain": [
       "0.5746116667165122"
      ]
     },
     "execution_count": 26,
     "metadata": {},
     "output_type": "execute_result"
    }
   ],
   "source": [
    "# valor numérico\n",
    "d2fdx2_p2_num = float(d2fdx2_p2)\n",
    "d2fdx2_p2_num "
   ]
  },
  {
   "cell_type": "markdown",
   "metadata": {},
   "source": [
    "Agora, vamos montar uma função para a fórmula da segunda derivada a 3 pontos (supondo que os pontos dados sejam igualmente espaçados:"
   ]
  },
  {
   "cell_type": "code",
   "execution_count": 27,
   "metadata": {},
   "outputs": [],
   "source": [
    "# função \n",
    "def der_num_2(x1,x2,x3):\n",
    "    d2fdx2_num = lambda x1,x2,x3: (f.subs(x,x1) - 2*f.subs(x,x2) + f.subs(x,x3))/(x2 - x1)**2\n",
    "    return float(d2fdx2_num(x1,x2,x3))"
   ]
  },
  {
   "cell_type": "markdown",
   "metadata": {},
   "source": [
    "Aplicamos a nossa aproximação numérica ao primeiro conjunto de pontos para estimar a derivada numérica no ponto $x=2$ por diferença centrada."
   ]
  },
  {
   "cell_type": "code",
   "execution_count": 28,
   "metadata": {},
   "outputs": [
    {
     "data": {
      "image/png": "[encoded data removed]",
      "text/latex": [
       "$\\displaystyle 0.57748177389233$"
      ],
      "text/plain": [
       "0.5774817738923302"
      ]
     },
     "execution_count": 28,
     "metadata": {},
     "output_type": "execute_result"
    }
   ],
   "source": [
    "df2_1 = der_num_2(1.8,2.0,2.2)\n",
    "df2_1"
   ]
  },
  {
   "cell_type": "markdown",
   "metadata": {},
   "source": [
    "Em seguida, aplicamos a nossa aproximação numérica ao segundo conjunto de pontos:"
   ]
  },
  {
   "cell_type": "code",
   "execution_count": 29,
   "metadata": {},
   "outputs": [
    {
     "data": {
      "image/png": "[encoded data removed]",
      "text/latex": [
       "$\\displaystyle 0.575324415664412$"
      ],
      "text/plain": [
       "0.5753244156644123"
      ]
     },
     "execution_count": 29,
     "metadata": {},
     "output_type": "execute_result"
    }
   ],
   "source": [
    "df2_2 = der_num_2(1.9,2.0,2.1)\n",
    "df2_2"
   ]
  },
  {
   "cell_type": "markdown",
   "metadata": {},
   "source": [
    "Esperamos que o segundo conjunto de pontos nos dê uma estimativa mais próxima para a derivada analítica já que os pontos estão mais próximos um do outro. Para verificar isto, vamos medir o erro relativo percentual entre as derivadas numéricas e a derivada analítica."
   ]
  },
  {
   "cell_type": "code",
   "execution_count": 30,
   "metadata": {},
   "outputs": [
    {
     "name": "stdout",
     "output_type": "stream",
     "text": [
      "erro relativo percentual 1: 0.49948640831095764%\n",
      "erro relativo percentual 2: 0.12404011077131777%\n"
     ]
    }
   ],
   "source": [
    "# erro relativo percentual \n",
    "erp = lambda v,va: abs(v-va)/abs(v)*100\n",
    "\n",
    "# erro para o grupo 1\n",
    "print('erro relativo percentual 1: ' + str(erp(d2fdx2_p2_num,df2_1)) + '%' )\n",
    "\n",
    "# erro para o grupo 2\n",
    "print('erro relativo percentual 2: ' + str(erp(d2fdx2_p2_num,df2_2)) + '%' )"
   ]
  }
 ],
 "metadata": {
  "kernelspec": {
   "display_name": "Python 3",
   "language": "python",
   "name": "python3"
  },
  "language_info": {
   "codemirror_mode": {
    "name": "ipython",
    "version": 3
   },
   "file_extension": ".py",
   "mimetype": "text/x-python",
   "name": "python",
   "nbconvert_exporter": "python",
   "pygments_lexer": "ipython3",
   "version": "3.8.8"
  }
 },
 "nbformat": 4,
 "nbformat_minor": 4
}
