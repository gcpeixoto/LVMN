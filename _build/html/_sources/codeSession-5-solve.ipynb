{
 "cells": [
  {
   "cell_type": "markdown",
   "metadata": {},
   "source": [
    "# Code session 5"
   ]
  },
  {
   "cell_type": "code",
   "execution_count": 1,
   "metadata": {},
   "outputs": [],
   "source": [
    "import numpy as np"
   ]
  },
  {
   "cell_type": "markdown",
   "metadata": {},
   "source": [
    "## `linalg.solve`\n",
    "\n",
    "A função `solve` é o método mais simples disponibilizado pelos módulos `numpy` e `scipy` para resolver sistemas matriciais lineares. Como a função pertence ao escopo da Álgebra Linear, ela está localizada em submódulo chamado `linalg`. `solve` calculará a solução exata do sistema como um método direto se a matriz do sistema for determinada (quadrada e sem colunas linearmente dependentes). Se a matriz for singular, o método retorna um erro. Se for de posto deficiente, o método resolve o sistema linear usando um algoritmo de mínimos quadrados. \n",
    "\n",
    "Os argumentos de entrada obrigatórios desta função são: \n",
    "\n",
    "1. a matriz `A` dos coeficientes\n",
    "2. o vetor independente `b`\n",
    "\n",
    "O argumento de saída é:\n",
    "\n",
    "- `x`: o vetor-solução do sistema.\n",
    "\n",
    "Como importá-la? \n",
    "\n",
    "```python \n",
    "from numpy.linalg import solve\n",
    "```"
   ]
  },
  {
   "cell_type": "code",
   "execution_count": 2,
   "metadata": {},
   "outputs": [],
   "source": [
    "from numpy.linalg import solve"
   ]
  },
  {
   "cell_type": "markdown",
   "metadata": {},
   "source": [
    "### Problema 1\n",
    "\n",
    "Uma rede elétrica contém 3 _loops_. Ao aplicar a lei de Kirchoff a cada _loop_, o cientista Hely Johnson obteve as seguintes equações para as correntes $i_1$, $i_2$ e $i_3$ em cada _loop:_\n",
    "\n",
    "$$\\begin{eqnarray}\n",
    "(50 + R)i_1 - Ri_2 - 30i_3 &=& 0 \\\\\n",
    "- Ri_1 + (65 + R)i_2 - 15i_3 &=& 0 \\\\\n",
    "-30i_1 - 15i_2 + 45i_3 &=& 120 \n",
    "\\end{eqnarray}$$\n",
    "\n",
    "Ajude Hely Johnson em seus experimento e calcule as correntes para os valores de resistência $R = \\{ 5 \\Omega, 10 \\Omega, 20 \\Omega \\}$."
   ]
  },
  {
   "cell_type": "markdown",
   "metadata": {},
   "source": [
    "### Resolução"
   ]
  },
  {
   "cell_type": "markdown",
   "metadata": {},
   "source": [
    "Podemos começar definindo uma lista para armazenar os valores das resistências de teste:"
   ]
  },
  {
   "cell_type": "code",
   "execution_count": 3,
   "metadata": {},
   "outputs": [],
   "source": [
    "R = [5.,10.,15.]"
   ]
  },
  {
   "cell_type": "markdown",
   "metadata": {},
   "source": [
    "Em seguida, escreveremos a matriz dos coeficientes e o vetor independente (lado direito). Note que precisamos de uma \"lista de listas\", ou melhor, um _\"array de arrays\"_, onde cada _array_ está associado à uma linha da matriz.\n",
    "\n",
    "Todavia, vamos definir uma função para montar o sistema em função do valor de $R$ e resolvê-lo. "
   ]
  },
  {
   "cell_type": "code",
   "execution_count": 4,
   "metadata": {},
   "outputs": [],
   "source": [
    "# montagem do sistema\n",
    "def resolve_sistema(R):\n",
    "    A = np.array([ [50+R,-R,-30],[-R,65+R,-15],[-30,-15,45] ])\n",
    "    b = np.array([0,0,120])\n",
    "    x = solve(A,b)\n",
    "    return x"
   ]
  },
  {
   "cell_type": "markdown",
   "metadata": {},
   "source": [
    "Além disso, usaremos um laço `for` para calcularmos todas as respostas necessárias de uma só vez e organizaremos os resultados em dicionário (objeto `dict`):"
   ]
  },
  {
   "cell_type": "code",
   "execution_count": 5,
   "metadata": {},
   "outputs": [
    {
     "name": "stdout",
     "output_type": "stream",
     "text": [
      "Para o valor de resistência R = 5 ohms: i1 = 2.82927 A, i2 = 1.26829 A, i3 = 4.97561 A\n",
      "Para o valor de resistência R = 10 ohms: i1 = 2.66667 A, i2 = 1.33333 A, i3 = 4.88889 A\n",
      "Para o valor de resistência R = 15 ohms: i1 = 2.54545 A, i2 = 1.38182 A, i3 = 4.82424 A\n"
     ]
    }
   ],
   "source": [
    "# salva soluções agrupadas em um dicionário\n",
    "sols = {}\n",
    "for r in R:\n",
    "    sols[r] = resolve_sistema(r)\n",
    "    print('Para o valor de resistência R = {0:g} ohms: i1 = {1:g} A, i2 = {2:g} A, i3 = {3:g} A'.format(r, sols[r][0], sols[r][1], sols[r][2]))"
   ]
  },
  {
   "cell_type": "markdown",
   "metadata": {},
   "source": [
    "### Tarefa"
   ]
  },
  {
   "cell_type": "markdown",
   "metadata": {},
   "source": [
    "Retorne ao notebook da [Aula 09](aula-09-eliminacao-gauss.ipynb) e use o conteúdo da aula para fazer uma verificação das soluções encontradas para este problema em cada caso. Use a função `linalg.cond` para calcular o _número de condicionamento_ da matriz do sistema em cada caso. (**Sugestão:** vide `numpy.allclose`)"
   ]
  }
 ],
 "metadata": {
  "kernelspec": {
   "display_name": "Python 3",
   "language": "python",
   "name": "python3"
  },
  "language_info": {
   "codemirror_mode": {
    "name": "ipython",
    "version": 3
   },
   "file_extension": ".py",
   "mimetype": "text/x-python",
   "name": "python",
   "nbconvert_exporter": "python",
   "pygments_lexer": "ipython3",
   "version": "3.7.4"
  }
 },
 "nbformat": 4,
 "nbformat_minor": 4
}
