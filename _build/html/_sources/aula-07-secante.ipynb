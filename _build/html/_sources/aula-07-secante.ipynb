{
 "cells": [
  {
   "cell_type": "markdown",
   "metadata": {},
   "source": [
    "# Implementação do método da secante "
   ]
  },
  {
   "cell_type": "code",
   "execution_count": 1,
   "metadata": {},
   "outputs": [],
   "source": [
    "%matplotlib inline"
   ]
  },
  {
   "cell_type": "code",
   "execution_count": 2,
   "metadata": {},
   "outputs": [
    {
     "name": "stdout",
     "output_type": "stream",
     "text": [
      "Estimativas iniciais: xa = 1.0; xb = 2.0 \n",
      "\n",
      "0  4.300000  -6.831000  5.348837e-01\n",
      "1  2.579345  0.897168  6.670898e-01\n",
      "2  2.779097  0.273423  7.187654e-02\n",
      "3  2.866660  -0.022642  3.054518e-02\n",
      "4  2.859963  0.000487  2.341478e-03\n",
      "5  2.860104  0.000001  4.933559e-05\n",
      "Solução obtida: x = 2.8601041641\n"
     ]
    },
    {
     "data": {
      "image/png": "[encoded data removed]",
      "text/plain": [
       "<Figure size 432x288 with 1 Axes>"
      ]
     },
     "metadata": {
      "needs_background": "light"
     },
     "output_type": "display_data"
    }
   ],
   "source": [
    "# Método da Secante\n",
    "\n",
    "from numpy import linspace\n",
    "from matplotlib.pyplot import plot\n",
    "\n",
    "def secante(xa,xb,f,tol,nmax,var,plotar):\n",
    "\n",
    "    f = eval('lambda x:' + f)\n",
    "\n",
    "    # imprime estimativas iniciais\n",
    "    print('Estimativas iniciais: xa = {0}; xb = {1} \\n'.format(xa,xb))  \n",
    "\n",
    "    # Loop \n",
    "    for i in range(0,nmax):\n",
    "        \n",
    "        x = (xa*f(xb) - xb*f(xa))/(f(xb) - f(xa))\n",
    "                        \n",
    "        e = abs(x-xb)/abs(x) # erro\n",
    "        \n",
    "        # tabela\n",
    "        print('{0:d}  {1:f}  {2:f}  {3:e}'.format(i,x,f(x),e))\n",
    "        \n",
    "        if e < tol:\n",
    "            break\n",
    "        xa = xb\n",
    "        xb = x\n",
    "        \n",
    "    if i == nmax:\n",
    "        print('Solução não obtida em {0:d} iterações'.format(nmax))\n",
    "    else:\n",
    "        print('Solução obtida: x = {0:.10f}'.format(x))\n",
    "\n",
    "    # plotagem\n",
    "    if plotar:        \n",
    "        delta = 3*x\n",
    "        dom = linspace(x-delta,x+delta,30)\n",
    "        plot(dom,f(dom),x,f(x),'ro')\n",
    "\n",
    "    return x\n",
    "      \n",
    "    \n",
    "# parametros    \n",
    "xa = 1.0 # estimativa inicial 1\n",
    "xb = 2.0 # estimativa inicial 2\n",
    "tol = 1e-3 # tolerancia\n",
    "nmax = 100 # numero maximo de iteracoes\n",
    "f = '-0.9*x**2 + 1.7*x + 2.5'   # funcao\n",
    "var = 'x'\n",
    "plotar = True\n",
    "\n",
    "# chamada da função\n",
    "xm = secante(xa,xb,f,tol,nmax,var,plotar)"
   ]
  },
  {
   "cell_type": "markdown",
   "metadata": {},
   "source": [
    "## Problema\n",
    "\n",
    "Determinar a raiz positiva da equação: $f(x) = \\sqrt{x} - 5e^{-x}$, pelo método das secantes com erro inferior a $10^{-2}$. "
   ]
  },
  {
   "cell_type": "markdown",
   "metadata": {},
   "source": [
    "### Resolução"
   ]
  },
  {
   "cell_type": "markdown",
   "metadata": {},
   "source": [
    "Para obtermos os valores iniciais $x_0$ e $x_1$ necessários para iniciar o processo iterativo, dividimos a equação original $f(x) = 0$ em outras duas $y_1$ e $y_2$, com $y_1 = \\sqrt{x}$ e $y_2(x) = e^{-x}$, que colocadas no mesmo gráfico, produzem uma interseção próximo a $x = 1.5$. Assim, podemos escolher duas estimativas iniciais próximas deste valor. Podemos escolher $x_0 = 1.4$ e $x_1=1.5$."
   ]
  },
  {
   "cell_type": "code",
   "execution_count": 3,
   "metadata": {},
   "outputs": [
    {
     "data": {
      "image/png": "[encoded data removed]",
      "text/plain": [
       "<Figure size 432x288 with 1 Axes>"
      ]
     },
     "metadata": {
      "needs_background": "light"
     },
     "output_type": "display_data"
    }
   ],
   "source": [
    "from numpy import sqrt, exp\n",
    "from matplotlib.pyplot import plot,legend\n",
    "\n",
    "fx = lambda x: sqrt(x) - 5*exp(-x) \n",
    "\n",
    "x = linspace(0,3,100)\n",
    "plot(x,fx(x),label='$f(x) = x^{1/2} - 5e^{-x}$');\n",
    "plot(x,sqrt(x),label='$y_1(x) = x^{1/2}$');\n",
    "plot(x,5*exp(-x),label='$y_2(x) = 5e^{-x}$');\n",
    "plot(x,fx(x)*0,'--');\n",
    "legend();"
   ]
  },
  {
   "cell_type": "markdown",
   "metadata": {},
   "source": [
    "Vejamos o valor de $f(x=1.5)$."
   ]
  },
  {
   "cell_type": "code",
   "execution_count": 4,
   "metadata": {},
   "outputs": [
    {
     "data": {
      "text/plain": [
       "0.10909407064943988"
      ]
     },
     "execution_count": 4,
     "metadata": {},
     "output_type": "execute_result"
    }
   ],
   "source": [
    "fx(1.5)"
   ]
  },
  {
   "cell_type": "markdown",
   "metadata": {},
   "source": [
    "Vamos montar uma função anônima para computar o valor da interseção da secante com o eixo $x$, a saber:"
   ]
  },
  {
   "cell_type": "code",
   "execution_count": 5,
   "metadata": {},
   "outputs": [],
   "source": [
    "xm = lambda a,b: ( a*fx(b) - b*fx(a) ) / (fx(b) - fx(a) )"
   ]
  },
  {
   "cell_type": "markdown",
   "metadata": {},
   "source": [
    "Vamos usar os nosso valores estimados: "
   ]
  },
  {
   "cell_type": "code",
   "execution_count": 6,
   "metadata": {},
   "outputs": [
    {
     "name": "stdout",
     "output_type": "stream",
     "text": [
      "1.431\n"
     ]
    }
   ],
   "source": [
    "x0 = 1.4\n",
    "x1 = 1.5\n",
    "x2 = round(xm(x0,x1),3)\n",
    "print(x2)"
   ]
  },
  {
   "cell_type": "markdown",
   "metadata": {},
   "source": [
    "Agora, usamos este novo valor e o anterior."
   ]
  },
  {
   "cell_type": "code",
   "execution_count": 7,
   "metadata": {},
   "outputs": [
    {
     "name": "stdout",
     "output_type": "stream",
     "text": [
      "1.43\n"
     ]
    }
   ],
   "source": [
    "x3 = round(xm(x1,x2),3)\n",
    "print(x3)"
   ]
  },
  {
   "cell_type": "markdown",
   "metadata": {},
   "source": [
    "Calculemos o erro relativo entre as estimativas $x_1$ e $x_2$:"
   ]
  },
  {
   "cell_type": "code",
   "execution_count": 8,
   "metadata": {},
   "outputs": [
    {
     "name": "stdout",
     "output_type": "stream",
     "text": [
      "0.048\n",
      "4.821803e-02\n"
     ]
    }
   ],
   "source": [
    "err = lambda a,b: abs(a - b)/abs(a);\n",
    "e1 = err(x2,x1)\n",
    "print(round(e1,3))\n",
    "print(\"{0:e}\".format(e1))"
   ]
  },
  {
   "cell_type": "markdown",
   "metadata": {},
   "source": [
    "Agora, calculemos o erro relativo entre as estimativas $x_2$ e $x_3$:"
   ]
  },
  {
   "cell_type": "code",
   "execution_count": 9,
   "metadata": {},
   "outputs": [
    {
     "name": "stdout",
     "output_type": "stream",
     "text": [
      "0.001\n",
      "6.993007e-04\n"
     ]
    }
   ],
   "source": [
    "e2 = err(x3,x2)\n",
    "print(round(e2,3))\n",
    "print(\"{0:e}\".format(e2))"
   ]
  },
  {
   "cell_type": "markdown",
   "metadata": {},
   "source": [
    "O erro está diminuindo. Além disso, o valor da raiz está se estabilizando em torno de 1.430. Isto significa que as estimativas iniciais foram muito boas. Com efeito, o uso das interseções proporcionou uma boa escolha."
   ]
  },
  {
   "cell_type": "code",
   "execution_count": 10,
   "metadata": {},
   "outputs": [],
   "source": [
    "from IPython.core.display import HTML\n",
    "\n",
    "def css_styling():\n",
    "    styles = open(\"styles/custom.css\", \"r\").read()\n",
    "    return HTML(styles)\n",
    "css_styling();"
   ]
  }
 ],
 "metadata": {
  "kernelspec": {
   "display_name": "Python 3",
   "language": "python",
   "name": "python3"
  },
  "language_info": {
   "codemirror_mode": {
    "name": "ipython",
    "version": 3
   },
   "file_extension": ".py",
   "mimetype": "text/x-python",
   "name": "python",
   "nbconvert_exporter": "python",
   "pygments_lexer": "ipython3",
   "version": "3.7.4"
  }
 },
 "nbformat": 4,
 "nbformat_minor": 4
}
