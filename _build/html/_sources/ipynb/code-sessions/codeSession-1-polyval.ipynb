{
 "cells": [
  {
   "cell_type": "markdown",
   "metadata": {},
   "source": [
    "# _Code Session_ 1: `roots` e `polyval`"
   ]
  },
  {
   "cell_type": "code",
   "execution_count": 1,
   "metadata": {},
   "outputs": [],
   "source": [
    "import numpy as np, matplotlib.pyplot as plt "
   ]
  },
  {
   "cell_type": "markdown",
   "metadata": {},
   "source": [
    "## Determinação de raízes de polinômios"
   ]
  },
  {
   "cell_type": "markdown",
   "metadata": {},
   "source": [
    "### `roots`\n",
    "\n",
    "A função `roots` computa as raízes de uma função dentro de um intervalo dado usando o método de Hörner. \n",
    "O único argumento de entrada desta função é\n",
    "\n",
    "1. o _array_ `p` com os coeficientes dos termos do polinômio.\n",
    "\n",
    "$$P(x) = p_n x^n + p_{n-1} x^{n-1} + \\ldots + p_1x + p_0$$\n",
    "\n",
    "\n",
    "O argumento de saída é:\n",
    "\n",
    "- `x`: _array_ com as raízes de $P(x)$.\n"
   ]
  },
  {
   "cell_type": "markdown",
   "metadata": {},
   "source": [
    "### Problema 1 \n",
    "\n",
    "Determine as raízes de $P(x) = 3x^3 +7x^2 - 36x + 20$."
   ]
  },
  {
   "cell_type": "markdown",
   "metadata": {},
   "source": [
    "#### Resolução"
   ]
  },
  {
   "cell_type": "markdown",
   "metadata": {},
   "source": [
    "Para tornar claro, em primeiro lugar, vamos inserir os coeficientes de $P(x)$ em um _array_ chamado `p`. "
   ]
  },
  {
   "cell_type": "code",
   "execution_count": 20,
   "metadata": {},
   "outputs": [],
   "source": [
    "p = np.array([9,8,7,5,3,2,-1,-3.2,-4/5,])"
   ]
  },
  {
   "cell_type": "markdown",
   "metadata": {},
   "source": [
    "Em seguida, fazemos: "
   ]
  },
  {
   "cell_type": "code",
   "execution_count": 21,
   "metadata": {},
   "outputs": [],
   "source": [
    "x = np.roots(p)"
   ]
  },
  {
   "cell_type": "markdown",
   "metadata": {},
   "source": [
    "Podemos imprimir as raízes da seguinte forma:"
   ]
  },
  {
   "cell_type": "code",
   "execution_count": 22,
   "metadata": {},
   "outputs": [
    {
     "name": "stdout",
     "output_type": "stream",
     "text": [
      "Raiz 0: (0.42664911463435407+0.8028394391214156j)\n",
      "Raiz 1: (0.42664911463435407-0.8028394391214156j)\n",
      "Raiz 2: (0.6712830069677369+0j)\n",
      "Raiz 3: (-0.3125768604422946+0.8705110785366039j)\n",
      "Raiz 4: (-0.3125768604422946-0.8705110785366039j)\n",
      "Raiz 5: (-0.7511803685416447+0.3009598192701515j)\n",
      "Raiz 6: (-0.7511803685416447-0.3009598192701515j)\n",
      "Raiz 7: (-0.2859556671574551+0j)\n"
     ]
    }
   ],
   "source": [
    "for (i, v) in enumerate(x):\n",
    "    print(f'Raiz {i}: {v}')"
   ]
  },
  {
   "cell_type": "code",
   "execution_count": null,
   "metadata": {},
   "outputs": [],
   "source": []
  },
  {
   "cell_type": "markdown",
   "metadata": {},
   "source": [
    "### `polyval` \n",
    "\n",
    "Podemos usar a função `polyval` do `numpy` para avaliar $P(x)$ em $x = x_0$. Verifiquemos, analiticamente, se as raízes anteriores satisfazem realmente o polinômio dado."
   ]
  },
  {
   "cell_type": "code",
   "execution_count": 23,
   "metadata": {},
   "outputs": [
    {
     "name": "stdout",
     "output_type": "stream",
     "text": [
      "P(x) = (2.1094237467877974e-14+1.942890293094024e-15j)\n",
      "P(x) = (2.1094237467877974e-14-1.942890293094024e-15j)\n",
      "P(x) = (-1.3322676295501878e-14+0j)\n",
      "P(x) = (-6.217248937900877e-15-8.326672684688674e-16j)\n",
      "P(x) = (-6.217248937900877e-15+8.326672684688674e-16j)\n",
      "P(x) = (-1.1102230246251565e-16+8.326672684688674e-16j)\n",
      "P(x) = (-1.1102230246251565e-16-8.326672684688674e-16j)\n",
      "P(x) = (-5.551115123125783e-16+0j)\n"
     ]
    }
   ],
   "source": [
    "for i in x: \n",
    "    v = np.polyval(p,i)\n",
    "    print(f'P(x) = {v}')"
   ]
  },
  {
   "cell_type": "markdown",
   "metadata": {},
   "source": [
    "Note que as duas últimas raízes são \"muito próximas\" de zero, mas não exatamente zero. "
   ]
  },
  {
   "cell_type": "markdown",
   "metadata": {},
   "source": [
    "Podemos também fazer uma verificação geométrica plotando o polinômio e suas raízes. "
   ]
  },
  {
   "cell_type": "code",
   "execution_count": 24,
   "metadata": {},
   "outputs": [
    {
     "name": "stderr",
     "output_type": "stream",
     "text": [
      "/Users/gustavo/opt/anaconda3/lib/python3.9/site-packages/matplotlib/cbook/__init__.py:1335: ComplexWarning: Casting complex values to real discards the imaginary part\n",
      "  return np.asarray(x, float)\n"
     ]
    },
    {
     "data": {
      "image/png": "[encoded data removed]",
      "text/plain": [
       "<Figure size 432x288 with 1 Axes>"
      ]
     },
     "metadata": {
      "needs_background": "light"
     },
     "output_type": "display_data"
    }
   ],
   "source": [
    "xx = np.linspace(np.min(x)-0.5,np.max(x)+0.5)\n",
    "plt.plot(xx,np.polyval(p,xx));\n",
    "for i in x:\n",
    "    plt.plot(i,np.polyval(p,i),'or')"
   ]
  },
  {
   "cell_type": "markdown",
   "metadata": {},
   "source": [
    "### Problema 2\n",
    "\n",
    "Determine as raízes de $P(x) = x^4 - 3x^2 + 3x$."
   ]
  },
  {
   "cell_type": "markdown",
   "metadata": {},
   "source": [
    "#### Resolução"
   ]
  },
  {
   "cell_type": "markdown",
   "metadata": {},
   "source": [
    "Resolvendo diretamente com `roots` e usando `polyval` para verificação, temos:"
   ]
  },
  {
   "cell_type": "code",
   "execution_count": 7,
   "metadata": {},
   "outputs": [],
   "source": [
    "# coeficientes e raízes\n",
    "p = np.array([1,0,-3,3,0])\n",
    "x = np.roots(p)"
   ]
  },
  {
   "cell_type": "code",
   "execution_count": 8,
   "metadata": {},
   "outputs": [
    {
     "name": "stdout",
     "output_type": "stream",
     "text": [
      "Raiz 0: (-2.1038034027355357+0j)\n",
      "Raiz 1: (1.051901701367768+0.5652358516771712j)\n",
      "Raiz 2: (1.051901701367768-0.5652358516771712j)\n",
      "Raiz 3: 0j\n"
     ]
    }
   ],
   "source": [
    "# imprimindo as raizes\n",
    "for i, v in enumerate(x):\n",
    "    print(f'Raiz {i}: {v}')"
   ]
  },
  {
   "cell_type": "markdown",
   "metadata": {},
   "source": [
    "Note que, neste caso, as raízes são complexas."
   ]
  },
  {
   "cell_type": "markdown",
   "metadata": {},
   "source": [
    "### Problema 3\n",
    "\n",
    "Determine as raízes de $P(x) = x^5 - 30x^4 + 361x^3 - 2178x^2 + 6588x - 7992$."
   ]
  },
  {
   "cell_type": "markdown",
   "metadata": {},
   "source": [
    "#### Resolução"
   ]
  },
  {
   "cell_type": "code",
   "execution_count": 9,
   "metadata": {},
   "outputs": [],
   "source": [
    "# coeficientes e raízes\n",
    "p = np.array([1,-30,361,-2178,6588,-7992])\n",
    "x = np.roots(p)"
   ]
  },
  {
   "cell_type": "code",
   "execution_count": 10,
   "metadata": {},
   "outputs": [
    {
     "name": "stdout",
     "output_type": "stream",
     "text": [
      "Raiz 0: (6.000000000009944+0.9999999999996999j)\n",
      "Raiz 1: (6.000000000009944-0.9999999999996999j)\n",
      "Raiz 2: (6.00026575921113+0j)\n",
      "Raiz 3: (5.999867120384507+0.0002301556526862668j)\n",
      "Raiz 4: (5.999867120384507-0.0002301556526862668j)\n"
     ]
    }
   ],
   "source": [
    "# imprimindo as raizes\n",
    "for i, v in enumerate(x):\n",
    "    print(f'Raiz {i}: {v}')"
   ]
  }
 ],
 "metadata": {
  "kernelspec": {
   "display_name": "Python 3 (ipykernel)",
   "language": "python",
   "name": "python3"
  },
  "language_info": {
   "codemirror_mode": {
    "name": "ipython",
    "version": 3
   },
   "file_extension": ".py",
   "mimetype": "text/x-python",
   "name": "python",
   "nbconvert_exporter": "python",
   "pygments_lexer": "ipython3",
   "version": "3.9.16"
  }
 },
 "nbformat": 4,
 "nbformat_minor": 4
}
