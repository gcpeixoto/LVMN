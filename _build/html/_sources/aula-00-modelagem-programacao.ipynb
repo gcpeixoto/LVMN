{
 "cells": [
  {
   "cell_type": "markdown",
   "metadata": {},
   "source": [
    "# Modelagem Matemática em Ciências Computacionais e Engenharias\n",
    "\n",
    "Ao deparar-se com um problema real, profissionais envolvidos nos diversos setores da economia buscam as melhores estratégias existentes em seu campo de atuação para resolvê-lo. Supondo que um problema específico possua apenas uma solução e que pudéssemos assemelhá-lo à uma questão específica, a solução desse problema equivaleria à resposta para a pergunta e a forma de respondê-la à estratégia seguida para buscar a solução, a qual também poderíamos chamar de _método_. \n",
    "\n",
    "Alguns exemplos de perguntas que eventualmente surgiriam em domínios específicos do conhecimento são:\n",
    "\n",
    "- que carga máxima seria admissível para um elevador de edifício-garagem de 15 andares, de maneira que seus cabos, mecanismos e estrutura de elevação não sejam danificados por excesso de tensão? (Engenharia Civil)\n",
    "- quantos mililitros de um fármaco anti-alérgico poderiam ser injetados por minuto na corrente sanguínea de um indivíduo de modo que não haja efeitos colaterais de overdose? (Biologia)\n",
    "- que magnitude mínima de pressão seria necessária para mover um fluido refrigerante por um nanotubo de um componente eletrônico aquecido de maneira a resfriá-lo em 2% de sua temperatura operacional? (Engenharia Mecânica)\n",
    "\n",
    "Evidentemente, perguntas como essas podem ser extremamente difíceis de responder, sendo necessário o envolvimento de uma equipe multidisciplinar, com experiência em variados assuntos. A primeira das perguntas pode envolver profissionais especializados em ciência dos materiais, eletrônica e pneumática; a segunda, matemáticos aplicados, cardiologistas e químicos; a terceira, físicos, analistas de energia e estatísticos.\n",
    "\n",
    "Resolver um problema científico no mundo atual requer não apenas conhecimento teórico e prático, mas também outras habilidades como a capacidade de pensar computacionalmente e resolver problemas utilizando o enorme potencial da computação de alto desempenho. Na verdade, a maioria dos problemas atuais não pode ser resolvida sem a intervenção de métodos numéricos. Há, certamente, um amplo leque de opções metodológicas para resolvê-los. Entretanto, em linhas gerais, são quatro as fases de resolução de um problema aplicado, como mostra a  {numref}`passos-modelagem`.\n",
    "\n",
    "```{figure} figs/passos-modelagem.png\n",
    "---\n",
    "width: 700px\n",
    "name: passos-modelagem\n",
    "---\n",
    "As quatro fases fundamentais para a resolução de um problema aplicado nas ciências computacionais e engenharias.\n",
    "```\n",
    "\n"
   ]
  },
  {
   "cell_type": "markdown",
   "metadata": {},
   "source": [
    "## Modelos matemáticos \n",
    "\n",
    "Um modelo matemático pode ser definido, de forma geral, como uma formulação ou equação que expressa as características essenciais de um sistema ou processo físico em termos matemáticos. A fórmula pode variar de uma simples relação algébrica a um conjunto grande e complicado de equações diferenciais. \n",
    "\n",
    "Por exemplo, com base em suas observações, Newton formulou sua segunda lei do movimento. Se escrevermos a taxa de variação temporal da velocidade pela derivada $\\frac{dv}{dt}$ (em $m/s)$, um modelo matemático que obtemos para a segunda lei de Newton é\n",
    "\n",
    "$$\\dfrac{dv}{dt} = \\dfrac{F}{m},$$\n",
    "\n",
    "onde $F$ é a força resultante (em $N$) agindo sobre o corpo e $m$ a massa (em $kg$).\n",
    "\n",
    "Este modelo matemático, assim como vários outros, possui as seguintes características:\n",
    "\n",
    "- descrevem um processo ou sistema natural em termos matemáticos;\n",
    "\n",
    "- representam uma idealização (simplificação) da realidade. Isto é, o modelo ignora alguns \"detalhes\" do processo natural e se concentra em suas manifestações essenciais;\n",
    " \n",
    "- produzem resultados que podem ser reproduzidos e usados para propósitos de previsão. Por exemplo, se a força sobre um corpo e a sua massa forem conhecidas, o modelo pode ser usado para estimar a aceleração $a=\\frac{dv}{dt}$ do corpo.\n",
    "\n",
    "Consideremos um paraquedista em queda livre. Durante seu movimento, duas forças principais atuam sobre ele. A força gravitacional $F_G$, com sentido para baixo, e a força da resistência do ar (arrasto) $F_D$, em sentido oposto. Se o sentido positivo for conferido à força gravitacional, podemos modelar a força resultante como\n",
    "\n",
    "$$F = F_G - F_D = mg - cv,$$\n",
    "\n",
    "onde $g$ é a constante gravitacional e $c$ o _coeficiente de arrasto_, medido em $kg/s$. Vale ressaltar que ao assumirmos $F_D = cv$, estamos dizendo que a força de arrasto é linearmente proporcional à velocidade. Entretanto, na realidade, esta relação é não-linear. \n",
    "\n",
    "Dessa maneira, podemos chegar a um modelo mais completo substituindo a força resultante assim obtendo:\n",
    "\n",
    "$$\\dfrac{dv}{dt} = \\dfrac{mg - cv}{m} = g - \\dfrac{c}{m}v.$$\n",
    "\n",
    "Esta _equação diferencial ordinária_ (EDO) possui uma solução geral que pode ser encontrada por técnicas analíticas. Uma solução particular para esta EDO é obtida ao impormos uma _condição inicial_. Visto que o paraquedista está em repouso antes da queda, temos que $v=0$ quando $t=0$. Usando esta informação, concluímos que o perfil de velocidade é dado por\n",
    "\n",
    "$$v(t) = \\dfrac{gm}{c}(1 - e^{-(c/m)t}).$$\n",
    "\n",
    "Como veremos adiante em um estado de caso real apresentado por Yan Ferreira, esta função cresce exponencialmente até atingir uma estabilização na _velocidade terminal_."
   ]
  },
  {
   "cell_type": "markdown",
   "metadata": {},
   "source": [
    "## O salto de paraquedas de Yan e Celso \n",
    "\n",
    "Como exemplo, veremos a análise do salto de paraquedas de Yan com seu irmão Celso. Vamos calcular a aceleração que seria atingida por Yan desde o salto até o momento da abertura de seu paraquedas. Na época do salto, Yan estava com 65 kg e o ar apresentava um coeficiente de arrasto estimado em 12,5 kg/s.\n",
    "\n",
    "Utilizando a fórmula dada, podemos calcular a velocidade atingida por Yan em relação ao tempo. A seguir, criamos um pequeno programa para calcular $v(t)$ nos 10 primeiros segundos do salto, que foi o tempo que Yan permaneceu em queda até a abertura do paraquedas."
   ]
  },
  {
   "cell_type": "code",
   "execution_count": 1,
   "metadata": {},
   "outputs": [
    {
     "name": "stdout",
     "output_type": "stream",
     "text": [
      "0: 0.0000 m/s\n",
      "1: 8.9153 m/s\n",
      "2: 16.2709 m/s\n",
      "3: 22.3397 m/s\n",
      "4: 27.3467 m/s\n",
      "5: 31.4778 m/s\n",
      "6: 34.8861 m/s\n",
      "7: 37.6982 m/s\n",
      "8: 40.0183 m/s\n",
      "9: 41.9325 m/s\n",
      "10: 43.5119 m/s\n",
      "-> Abertura do paraquedas.\n"
     ]
    },
    {
     "data": {
      "image/png": "[encoded data removed]",
      "text/plain": [
       "<Figure size 576x288 with 1 Axes>"
      ]
     },
     "metadata": {
      "needs_background": "light"
     },
     "output_type": "display_data"
    }
   ],
   "source": [
    "# velocidade no salto de Yan\n",
    "from numpy import exp\n",
    "import matplotlib.pyplot as plt\n",
    "\n",
    "arr_yan = 11*[0]\n",
    "contador = 0\n",
    "while contador <= 10:\n",
    "    a = ((9.8 * 65)/12.5)*(1 - exp(-(12.5/65)*contador))   \n",
    "    arr_yan[contador] = a\n",
    "    print(f'{contador}: {a:.4f} m/s')\n",
    "    contador += 1\n",
    "else:\n",
    "    print('-> Abertura do paraquedas.')\n",
    "    \n",
    "# plotagem    \n",
    "fig, ax = plt.subplots(figsize=(8,4))\n",
    "ax.plot(arr_yan,'o-g')\n",
    "ax.set_xlabel('tempo')\n",
    "ax.set_ylabel('velocidade')\n",
    "ax.grid()"
   ]
  },
  {
   "cell_type": "markdown",
   "metadata": {},
   "source": [
    "Porém, Celso, irmão de Yan, também saltou com ele, em separado. Celso, tem mais 20kg a mais do que Yan. Então, vamos ver como a massa influenciou a velocidade no salto de Celso e comparas as curvas."
   ]
  },
  {
   "cell_type": "code",
   "execution_count": 2,
   "metadata": {},
   "outputs": [
    {
     "name": "stdout",
     "output_type": "stream",
     "text": [
      "0: 43.5119 m/s\n",
      "1: 43.5119 m/s\n",
      "2: 43.5119 m/s\n",
      "3: 43.5119 m/s\n",
      "4: 43.5119 m/s\n",
      "5: 43.5119 m/s\n",
      "6: 43.5119 m/s\n",
      "7: 43.5119 m/s\n",
      "8: 43.5119 m/s\n",
      "9: 43.5119 m/s\n",
      "10: 43.5119 m/s\n",
      "==> Abertura do paraquedas\n"
     ]
    },
    {
     "data": {
      "image/png": "[encoded data removed]",
      "text/plain": [
       "<Figure size 576x288 with 1 Axes>"
      ]
     },
     "metadata": {
      "needs_background": "light"
     },
     "output_type": "display_data"
    }
   ],
   "source": [
    "# velocidade no salto de Yan\n",
    "\n",
    "\n",
    "from math import exp\n",
    "import matplotlib.pyplot as plt\n",
    "\n",
    "arr_celso = arr_yan[:]\n",
    "contador = 0\n",
    "while (contador <= 10):       \n",
    "    b = ((9.8 * 85)/12.5)*(1- exp(-(12.5/85)*contador))   \n",
    "    arr_celso[contador] = b\n",
    "    print(f'{contador}: {a:.4f} m/s')\n",
    "    contador += 1\n",
    "else:\n",
    "    print('==> Abertura do paraquedas')\n",
    "\n",
    "# plotagem\n",
    "fig, ax = plt.subplots(figsize=(8,4))    \n",
    "ax.plot(arr_yan,'o-g')\n",
    "ax.plot(arr_celso,'o-',c='gray')\n",
    "ax.set_xlabel('tempo')\n",
    "ax.set_ylabel('velocidade')\n",
    "ax.grid()"
   ]
  },
  {
   "cell_type": "markdown",
   "metadata": {},
   "source": [
    "Podemos observar que quanto maior a massa, maior é a velocidade atingida. Por esta razão, Celso chegou ao solo antes de Yan.\n",
    "\n",
    "Este breve exemplo nos mostra a implementação de um modelo matemático em Python, onde utilizamos partes de programação _estruturada_ e _modular_. Estruturada, no sentido das instruções e modular no sentido de que aproveitamos os pacotes (ou **módulos**) _math_ e _numpy_ para invocarmos a função exponencial `exp` e as funções para plotagens gráficas."
   ]
  },
  {
   "cell_type": "markdown",
   "metadata": {},
   "source": [
    "### Deslocamento até a abertura do paraquedas\n",
    "\n",
    "Sabemos da Física e do Cálculo que o deslocamento é a integral da velocidade com relação ao tempo. Portanto, se $D_Y$ e $D_C$ foram os deslocamentos de Yan e Celso em seus saltos, podemo usar a integral:\n",
    "\n",
    "$$D = \\int_0^{10} v(t) \\, dt,$$\n",
    "\n",
    "em cada caso para computar esses deslocamentos. No Python, podemos fazer isso com o código abaixo (que você entenderá mais tarde como fazer)."
   ]
  },
  {
   "cell_type": "code",
   "execution_count": 3,
   "metadata": {},
   "outputs": [
    {
     "name": "stdout",
     "output_type": "stream",
     "text": [
      "Yan voou incríveis DY = 283.338318371502 metros em 10 segundos!\n",
      "Yan voou incríveis DY = 317.377922548627 metros em 10 segundos!\n"
     ]
    }
   ],
   "source": [
    "from sympy import symbols, exp, integrate\n",
    "\n",
    "# função v(t)\n",
    "t,g,m,c = symbols('t g m c')\n",
    "v = g*m/c*(1 - exp(-c/m*t))\n",
    "\n",
    "# integração numérica\n",
    "s1 = integrate(v,(t,0,10)).subs({'m':65.0,'g':9.8,'c':12.5})\n",
    "s2 = integrate(v,(t,0,10)).subs({'m':85.0,'g':9.8,'c':12.5})\n",
    "\n",
    "print(f'Yan voou incríveis DY = {s1:2f} metros em 10 segundos!')\n",
    "print(f'Yan voou incríveis DY = {s2:2f} metros em 10 segundos!')"
   ]
  },
  {
   "cell_type": "markdown",
   "metadata": {},
   "source": [
    "## Programação estruturada e modular\n",
    "\n",
    "\n",
    "### Prgramação estruturada\n",
    "\n",
    "A idéia central por trás da programação estruturada é que qualquer algoritmo numérico pode ser composto de três estruturas de controle fundamentais: _sequencia_, _seleção_ e _repetição_.\n",
    "\n",
    "Nos primórdios da computação, os programadores usualmente não prestavam muita atenção ao fato de o programa ser claro e fácil de entender. Hoje, é reconhecido que existem muitos benefícios em escrever um código bem organizado e bem estruturado. Além do benefício óbvio de tornar o software mais fácil de ser compartilhado, isso também ajuda a garantir um desenvolvimento de programa mais eficiente.\n",
    "\n",
    "Portanto, algoritmos bem estruturados são, invariavelmente, fáceis de corrigir e testar, resultando em programas que têm um tempo de desenvolvimento e atualização menor. Embora a programação estruturada seja flexível o suficiente para permitir criatividade e expressões pessoais, suas regras impõem restrições suficientes para garantir um código final de mais qualidade, mais limpo e mais elegante, quando comparada à versão não estruturada.\n",
    "\n",
    "### Programação modular \n",
    "\n",
    "Na programação modular, a idéia é que cada módulo desenvolva uma tarefa específica e tenha um único ponto de entrada e um único ponto de saída, de modo que o desenvolvedor possa reutilizá-lo invariavelmente em várias aplicações. \n",
    "\n",
    "Dividir tarefas ou objetivos em partes mais simples é uma maneira de torná-los mais fáceis de tratar. Pensando dessa maneira, os programadores começaram a dividir grandes problemas em subproblemas menores, ou **módulos**, que podem ser desenvolvidos de forma separada e até mesmo por pessoas diferentes, sem que isso interfira no resultado final.\n",
    "\n",
    "Hoje em dia, todas as linguagens de programação modernas, tais como C++, Java, Javascript e a própria Python utilizam módulos (também conhecidos como _pacotes_ ou _bibliotecas_). Algumas características diferenciais da programação modular são a manutençao facilitada e a reusabilidade do código em programas posteriores.\n",
    "\n",
    "Abaixo, mostramos um exemplo avançado de como criar um módulo em Python para lidar com pontos na Geometria Plana. \n",
    "Nosso módulo poderia ser salvo em um arquivo chamado `ponto.py`, por exemplo e utilizado em programas próprios que viermos a desenvolver. Neste exemplo, a _classe_ `Ponto` possui funções para realizar as seguintes operações: \n",
    "\n",
    "- criar um novo ponto;\n",
    "\n",
    "- calcular a distância Euclidiana entre dois pontos;\n",
    "\n",
    "- calcular a área de um triângulo pela fórmula de Heron e \n",
    "\n",
    "- imprimir o valor da área de um triângulo.\n"
   ]
  },
  {
   "cell_type": "code",
   "execution_count": 4,
   "metadata": {},
   "outputs": [],
   "source": [
    "# ponto.py\n",
    "\n",
    "import numpy as np \n",
    "import matplotlib.pyplot as plt\n",
    "\n",
    "class Ponto:\n",
    "    \"\"\"\n",
    "        Classe que implementa pontos no espaço 2D.\n",
    "    \"\"\"\n",
    "\n",
    "    # inicialização de um ponto arbitrário com coordenadas (xp,yp)\n",
    "    def __init__(self, xp, yp):\n",
    "        self.x = xp\n",
    "        self.y = yp\n",
    "\n",
    "    # fórmula da distância entre dois pontos\n",
    "    def dist(P1,P2):                                        \n",
    "        return ( (P2.x - P1.x)**2 + (P2.y - P1.y)**2 )**0.5\n",
    "    \n",
    "    # área de um triângulo ABC pela fórmula de Heron \n",
    "    def area_heron(P1,P2,P3):\n",
    "                \n",
    "        a = Ponto.dist(P1,P2)  # comprimento |AB|\n",
    "        b = Ponto.dist(P2,P3)  # comprimento |BC|\n",
    "        c = Ponto.dist(P3,P1)  # comprimento |CA|\n",
    "        \n",
    "        p = 0.5*(a + b + c)  # semiperímetro \n",
    "        \n",
    "        A = ( p*(p - a)*(p - b)*(p - c) )**0.5  # área\n",
    "        \n",
    "        return A\n",
    "    \n",
    "    def imprime_area_triangulo(P1,P2,P3):\n",
    "                \n",
    "        area = Ponto.area_heron(P1,P2,P3)                        \n",
    "        print(f'Triângulo P1({P1.x}.{P1.y}); P2({P2.x}.{P2.y}); P3({P3.x}.{P3.y}) :: Área = {area:.4f}')\n",
    "    "
   ]
  },
  {
   "cell_type": "markdown",
   "metadata": {},
   "source": [
    "#### Exemplo: usando a classe `ponto.py` para calcular a área de um triângulo retângulo"
   ]
  },
  {
   "cell_type": "code",
   "execution_count": 5,
   "metadata": {},
   "outputs": [
    {
     "name": "stdout",
     "output_type": "stream",
     "text": [
      "Triângulo P1(0.0.0.0); P2(1.0.0.0); P3(0.0.1.0) :: Área = 0.5000\n"
     ]
    }
   ],
   "source": [
    "# Cálculo da área para o triângulo \n",
    "# P1 = (0,0);  P2 = (1,0);  P3 = (0,1)\n",
    "\n",
    "P1 = Ponto(0.0,0.0)\n",
    "P2 = Ponto(1.0,0.0)\n",
    "P3 = Ponto(0.0,1.0)\n",
    "Ponto.imprime_area_triangulo(P1,P2,P3)"
   ]
  },
  {
   "cell_type": "code",
   "execution_count": 6,
   "metadata": {},
   "outputs": [
    {
     "data": {
      "image/png": "[encoded data removed]",
      "text/plain": [
       "<Figure size 432x288 with 1 Axes>"
      ]
     },
     "metadata": {
      "needs_background": "light"
     },
     "output_type": "display_data"
    }
   ],
   "source": [
    "# plotagem do triângulo\n",
    "P = np.array([[P1.x,P1.y],[P2.x,P2.y],[P3.x,P3.y]])\n",
    "plt.figure()\n",
    "pol = plt.Polygon(P,color='green',alpha=0.4)\n",
    "plt.gca().add_patch(pol);"
   ]
  },
  {
   "cell_type": "markdown",
   "metadata": {},
   "source": [
    "#### Exemplo: usando a classe `ponto.py` para calcular a área de um triângulo qualquer"
   ]
  },
  {
   "cell_type": "code",
   "execution_count": 7,
   "metadata": {},
   "outputs": [
    {
     "name": "stdout",
     "output_type": "stream",
     "text": [
      "Triângulo P1(4.0.2.0); P2(1.5.1.5); P3(2.0.-3.0) :: Área = 5.7500\n"
     ]
    },
    {
     "data": {
      "image/png": "[encoded data removed]",
      "text/plain": [
       "<Figure size 432x288 with 1 Axes>"
      ]
     },
     "metadata": {
      "needs_background": "light"
     },
     "output_type": "display_data"
    }
   ],
   "source": [
    "# Cálculo da área para o triângulo \n",
    "# P1 = (4,2);  P2 = (3,2);  P3 = (2,-3)\n",
    "\n",
    "P4 = Ponto(4.0,2.0)\n",
    "P5 = Ponto(1.5,1.5)\n",
    "P6 = Ponto(2.0,-3.0)\n",
    "Ponto.imprime_area_triangulo(P4,P5,P6)\n",
    "\n",
    "plt.figure()\n",
    "plt.scatter(P4.x,P4.y,color='green')\n",
    "plt.scatter(P5.x,P5.y,color='green')\n",
    "plt.scatter(P6.x,P6.y,color='green')\n",
    "\n",
    "Px = [P4.x,P5.x,P6.x]\n",
    "Py = [P4.y,P5.y,P6.y]\n",
    "plt.fill(Px,Py,color='green',alpha=0.4);"
   ]
  },
  {
   "cell_type": "markdown",
   "metadata": {},
   "source": [
    "## O quarto paradigma da ciência\n",
    "\n",
    "**Nota:** o texto desta seção pode ser encontrado em sua forma expandida neste [link](https://tril.ci.ufpb.br/2021/10/16/engenharia-computacional-para-um-mundo-centrado-em-dados/)."
   ]
  },
  {
   "cell_type": "markdown",
   "metadata": {},
   "source": [
    "Durante uma palestra proferida na Califórnia em 2009 para o _Computer Science and Telecommunications Board – National Research Council (NRC- CSTB)_, o renomado cientista da computação Jerry Nicholas “Jim” Gray (1944 – 2012), pontuou o surgimento do quarto paradigma da ciência. Ao utilizar o termo “eScience”, Gray queria dizer que a exploração científica seria grandemente influenciada pelo uso intensivo dos dados nos anos vindouros.\n",
    "\n",
    "A evolução dos supercomputadores nesses últimos vinte anos elevou a capacidade de compreensão da natureza e permitiu que a ciência subisse mais um degrau na escada do conhecimento. A fim de entender o que é o quarto paradigma da ciência, vejamos quais são os três primeiros retrocedendo no tempo.\n",
    "\n",
    "Há alguns milhares de anos, a ciência era essencialmente **empírica**. Tentava-se compreender os fenômenos naturais pela observação. Há algumas centenas de anos, equações, modelos e generalizações possibilitaram que a ciência se tornasse **teórica**, ou seja, passou-se a descrever com clareza e tecnicidade como um certo fenômeno funcionava. De algumas décadas para cá, as simulações de alta complexidade revelaram o terceiro pilar da ciência, tornando-a **computacional**. Atualmente, o amálgama entre teoria, experimentação e computação gerou uma vertente de **exploração dos dados**. Em outras palavras, poderíamos dizer que a ciência agora possui uma quarta faceta. Ela se tornou “datificada”.\n",
    "\n",
    "Os dados são exploráveis porque um dia puderam ser capturados, mensurados, processados e simulados. Diante disso, a ciência atual é:\n",
    "\n",
    "1. Experimental;\n",
    "2. Teórica;\n",
    "3. Computacional e\n",
    "4. Datificada,\n",
    "\n",
    "sendo o último paradigma a consumação dos três anteriores."
   ]
  },
  {
   "cell_type": "markdown",
   "metadata": {},
   "source": [
    "### Ciência e Engenharia Computacional\n",
    "\n",
    "A **Ciência e Engenharia Computacional**, internacionalmente conhecida pelo acrônimo CSE (_Computational Science and Engineering_) é uma área interdisciplinar que compreende a ciência da computação, matemática aplicada, biologia e outras áreas do núcleo STEM (_Science, Technology, Engineering, and Mathematics_) voltada à resolução de problemas práticos das engenharias. A característica peculiar da CSE é o uso de métodos numéricos e sua integração com modelos matemáticos para subsidiar simulações computacionais e a resolução de equações diferenciais ordinárias ou parciais.\n",
    "\n",
    "Equações diferenciais descrevem uma ampla variedade de fenômenos físicos, desde a absorção de um fármaco pelo organismo humano em escala nanométrica, até as ondas de choque macroscópicas causadas pela explosão de uma dinamite. Estes são apenas dois exemplos de situações que interessariam a indústria de biotecnologia e de construção ocorrendo em escalas extremamente distintas. Portanto, a CSE é afeita a problemas do mundo real caracterizados por multi-escalas pelos quais se compreende a dinâmica intrínseca de um fenômeno complexo modelável analiticamente."
   ]
  },
  {
   "cell_type": "markdown",
   "metadata": {},
   "source": [
    "### Por que a CSE importa em um mundo de dados?\n",
    "\n",
    "Embora em muitas áreas já se saiba com riqueza de detalhes como mecanismos intrínsecos de sistemas dinâmicos funcionam, em outras, este não é o caso. A indisponibilidade de dados em certos domínios do conhecimento decorre, principalmente, da dificuldade de capturá-los e coletá-los, seja pela inexistência de infraestrutura tecnológica, seja pelo alto investimento necessário para obtê-los. Um exemplo é a exploração da subsuperfície terreste. Dominar o conhecimento acerca da mecânica das rochas, a salinidade de aquíferos, o potencial geotérmico, ou a constituição química do gás natural nas partes mais baixas do planeta equivale a adentrar dezenas, centenas ou milhares de quilômetros na litosfera. Essa não é uma tarefa fácil. Pelo contrário, há tantas variáveis, riscos e custos envolvidos que sua execução pode ser inviabilizada.\n",
    "\n",
    "A CSE entra em cena para preencher lacunas que os “dados”, por si só, não conseguem fechar. Uma vez que a exploração de dados só é exequível quando os próprios dados estão disponíveis, seria impossível explorar dados acerca de algo desconhecido. Claramente, seria paradoxal. Para dar outra ilustração, tomemos o exemplo das imagens digitais. A tecnologia atual provê condições suficientes para tirarmos fotos de milhares de objetos, seres e indivíduos (p.ex. uma formiga, um prédio, um planeta) sem qualquer dificuldade.\n",
    "\n",
    "Processar imagens, hoje em dia, é um dos grandes carros-chefe para que modelos de inteligência artificial sejam implementados com precisão. Mas a manipulação de imagens só é possível por causa do progresso na física, óptica álgebra linear – afinal, imagens são matrizes – e ciência dos materiais – para construir carcaças de celulares, câmeras DSLR e satélites.\n",
    "\n",
    "Aqui, cabe uma pergunta: será que no processos de fabricação desses componentes materiais, ninguém apelou para simulações computacionais? É bem improvável, porque nenhum gestor aprovaria o envio de um satélite responsável por fotografar o oceano Atlântico para o espaço sem ter uma margem aceitável de confiabilidade de que ele orbitaria corretamente e cumpriria seu propósito com segurança. E como se adquire essa confiabilidade? Vai-se para um laboratório, cria-se um protótipo e faz-se 1, 2, 10, 1.000, 100.000 simulações, até que se reduzam ao máximo as incertezas.\n",
    "\n",
    "Estando em algum lugar entre o terceiro e o quarto paradigma, a CSE não apenas intermedia a análise de incertezas, como também simula processos, assim gerando economia de recursos. A CSE usa o primeiro, o segundo e o terceiro na transição para o quarto paradigma e, naturalmente, agrega valor a processos de um mundo que vive em transição tecnológica."
   ]
  },
  {
   "cell_type": "markdown",
   "metadata": {},
   "source": [
    "### Engenharia centrada em dados: um novo ramo na árvore do futuro?\n",
    "\n",
    "Mark Girolami, um professor de Engenharia Civil em Cambridge, liderou um grande programa de ciência de dados e inteligência artificial no [Alan Turing Institute](https://turing.ac.uk/) entre os anos de 2017 e 2020. Em sua percepção, a ciência de dados já havia se impregnado nas engenharias de tal forma que a inauguração de um novo termo para descrever essa interseção crescente seria justificável. Ele o chamou de engenharia centrada em dados (data-centric engineering, ou DCE).\n",
    "\n",
    "Segundo Girolami, a DCE é explicada por um desenvolvimento substancial que impacta as engenharias, profissões associadas, suas práticas e também a política. Ao relembrar que a engenharia erigiu-se sobre dados desde seus primórdios, citou em seu artigo uma clássica fala de Lord Kelvin de 1889:\n",
    "\n",
    ">“Quando você pode medir o que está falando e expressar isso em números, você sabe alguma coisa sobre aquilo; quando não o pode expressar em números, seu conhecimento é escasso e insatisfatório; pode ser o princípio do conhecimento, mas você, em seus pensamentos, empurrou parcamente a fronteira da ciência.” [tradução livre]\n",
    "\n",
    "Em suma, “medir é saber”. Girolami então pontuou que dados derivados da observação e medição experimentais foram os responsáveis por conduzir o desenvolvimento da filosofia natural e impulsionar o estado-da-técnica da engenharia por todo o século XIX. Em suas palavras,\n",
    "\n",
    ">“os dados sempre estiveram no coração da ciência e da prática na engenharia”.\n",
    "\n",
    "Com a irrupção da DCE, uma pergunta que se faz é: seria a DCE um novo ramo na árvore do futuro da ciência de dados? Enquanto uma resposta objetiva é aguardada, poderíamos intuir, com base na opinião de vários experts que se reuniram no DCEng Summit, realizado no último setembro, em Londres, que as engenharias não serão mais as mesmas daqui para a frente. É consensual que o big data abriu enormes oportunidades para praticamente todas as áreas da engenharia – Aeronáutica, Civil, Mecânica, Offshore, entre outras – haja vista o nível de detalhamento provido por muitos bancos de dados quanto no que tange à compreensão de variados fenômenos que foram observados e medidos experimentalmente ao longo de décadas. Entretanto, uma gama de desafios acompanha essa evolução furtivamente. Ética e privacidade na gestão de dados, lentidão da difusão tecnológica em países de baixa renda e carência de profissionais qualificados e currículos contemporâneos são alguns deles.\n",
    "\n",
    "Ley et al., emitindo pontos de vista sobre como a DCE se projeta em suas áreas de atuação – estatística, engenharia e desenvolvimento de software –, concluíram que:\n",
    "\n",
    "1. o pensamento centrado em dados tornou-se necessário em vários domínios do conhecimento e a riqueza por eles disponibilizada acelerará a pesquisa no âmbito da engenharia de maneira imensurável;\n",
    "2. dados solitários não valem muita coisa e podem transmitir mensagens equivocadas se não forem analisados com cuidado e geridos de forma segura;\n",
    "3. pelo fato de a educação baseada em dados ser uma habilidade indispensável para a formação de futuros engenheiros, as universidades, empresas e gestores devem se mobilizar para assegurar um currículo interdisciplinar que forme profissionais com “mente aberta” e explore habilidades flexíveis capazes de lidar com dados.\n",
    "\n",
    "Na Engenharia Mecânica, em particular, o conceito de **ciência de dados mecanicista** (_mechanistic data science_, MDS) e sua incorporação na educação de engenheiros, bem como de estudantes de nível médio nos Estados Unidos foi recentemente debatida no [16th USCCM](http://16.usnccm.org/SC16-002) e na conferência [MMLDT-CSET 2021](https://mmldt.eng.ucsd.edu/short-course). A proposta da MDS é explanada, por exemplo, nesta [apresentação](https://www.imagwiki.nibib.nih.gov/sites/default/files/liu_pdf_usnccm2019_lecture1.pdf) do Prof. Wing Kam Liu da Northwestern University."
   ]
  },
  {
   "cell_type": "markdown",
   "metadata": {},
   "source": [
    "### Engenharia computacional no enfrentamento da Covid-19\n",
    "\n",
    "A pandemia da Covid-19 desencadeou enormes desafios para a comunidade global. Concomitantemente, pesquisadores de diversas áreas mobilizaram-se para apresentar estratégias de enfrentamento à doença e propostas para mitigação dos riscos de contaminação do vírus SARS-CoV-2. A CSE não ficou de fora. A dinâmica dos fluidos computacional (computational fluid dynamics, CFD) contribuiu magnificamente para a elaboração de protocolos, equipamentos de proteção individual e coletiva, bem como para controle de engenharia em ambientes hospitalares. A seguir, parafraseamos três objetivos reportados pela Siemens Digital Industries Software em estudos de caso reais guiados por CFD:\n",
    "\n",
    "entender a dinâmica espaço-temporal de partículas virais exaladas por seres humanos na forma de gotículas e aerossóis;\n",
    "aperfeiçoar o projeto de sistemas de ventilação interior, bem como de exaustão e filtração visando conforto e segurança hospitalar;\n",
    "projetar equipamentos respiratórios, dispositivos para esterilização, purificação e produção de vacinas."
   ]
  },
  {
   "cell_type": "markdown",
   "metadata": {},
   "source": [
    "## Considerações finais\n",
    "\n",
    "A datificação está se consolidando como o quarto paradigma da ciência e a engenharia será cada vez mais influenciada por uma cultura baseada em dados. No [TRIL Lab](http://tril.ci.ufpb.br), defendemos uma formação estratégica e trabalhamos para que nossos alunos e colaboradores se adaptem a um cenário que demanda cada vez mais habilidades flexíveis e interdisciplinaridade. Em um mundo centrado em dados, a engenharia computacional terá um leque incomensurável de oportunidades, compreendendo, modelando e resolvendo problemas de engenharia do mundo real.\n",
    "\n",
    "O conteúdo deste livro tem o objetivo de proporcionar a nossos estudantes uma formação moderna e ampla em métodos numéricos com aplicações às ciências computacionais e engenharias. Entretanto, qualquer perfil profissional que se beneficie da computação científica terá nele um estímulo adicional para enveredar-se pelo frutífero e versátil universo das técnicas fundamentais da engenharia computacional."
   ]
  }
 ],
 "metadata": {
  "kernelspec": {
   "display_name": "Python 3.10.6 64-bit",
   "language": "python",
   "name": "python3"
  },
  "language_info": {
   "codemirror_mode": {
    "name": "ipython",
    "version": 3
   },
   "file_extension": ".py",
   "mimetype": "text/x-python",
   "name": "python",
   "nbconvert_exporter": "python",
   "pygments_lexer": "ipython3",
   "version": "3.10.6"
  },
  "vscode": {
   "interpreter": {
    "hash": "b0fa6594d8f4cbf19f97940f81e996739fb7646882a419484c72d19e05852a7e"
   }
  }
 },
 "nbformat": 4,
 "nbformat_minor": 4
}
