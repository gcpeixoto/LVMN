{
 "cells": [
  {
   "cell_type": "markdown",
   "metadata": {},
   "source": [
    "# Code session 2"
   ]
  },
  {
   "cell_type": "code",
   "execution_count": 1,
   "metadata": {},
   "outputs": [],
   "source": [
    "%matplotlib inline \n",
    "import numpy as np \n",
    "import matplotlib.pyplot as plt \n",
    "import sympy as sy "
   ]
  },
  {
   "cell_type": "markdown",
   "metadata": {},
   "source": [
    "## Determinação de raízes"
   ]
  },
  {
   "cell_type": "markdown",
   "metadata": {},
   "source": [
    "## `newton`\n",
    "\n",
    "A função `newton` localiza a raiz de uma função dentro de um intervalo dado usando o método de Newton. \n",
    "Os argumentos de entrada obrigatórios desta função são: \n",
    "\n",
    "1. a função-alvo `f` (contínua)\n",
    "2. a estimativa inicial `x0`\n",
    "\n",
    "Parâmetros opcionais relevantes são: \n",
    "\n",
    "- `fprime`: a derivada da função, quando disponível. Caso ela não seja especificada, o _método da secante_ é usado. \n",
    "- `fprime2`: a segunda derivada da função, quando disponível. Se ela for especificada, o _método de Halley_ é usado. \n",
    "- `tol`: tolerância (padrão: 1.48e-08)\n",
    "- `maxiter`: número máximo de iterações (padrão: 50)\n",
    "- `disp`: mostra erro se algoritmo não convergir (padrão: True) \n",
    "\n",
    "O argumento de saída é:\n",
    "\n",
    "- `x`: a estimativa para a raiz de `f`\n",
    "\n",
    "Como importá-la? \n",
    "\n",
    "```python \n",
    "from scipy.optimize import newton\n",
    "```"
   ]
  },
  {
   "cell_type": "code",
   "execution_count": 2,
   "metadata": {},
   "outputs": [],
   "source": [
    "from scipy.optimize import newton "
   ]
  },
  {
   "cell_type": "markdown",
   "metadata": {},
   "source": [
    "### Problema 1\n",
    "\n",
    "Encontre a menor raiz positiva (real) de $x^{3} - 3.23x^{2} - 5.54x + 9.84 = 0$ pelo método de Newton."
   ]
  },
  {
   "cell_type": "markdown",
   "metadata": {},
   "source": [
    "#### Resolução"
   ]
  },
  {
   "cell_type": "markdown",
   "metadata": {},
   "source": [
    "Definimos a função e sua primeira derivada."
   ]
  },
  {
   "cell_type": "code",
   "execution_count": 3,
   "metadata": {},
   "outputs": [],
   "source": [
    "# função\n",
    "def f(x): \n",
    "    return x**3 - 3.23*x**2 - 5.54*x + 9.84\n",
    "\n",
    "# 1a. derivada\n",
    "def df(x):\n",
    "    return 3*x**2 - 2*3.23*x - 5.54"
   ]
  },
  {
   "cell_type": "markdown",
   "metadata": {},
   "source": [
    "Realizamos a análise gráfica."
   ]
  },
  {
   "cell_type": "code",
   "execution_count": 4,
   "metadata": {},
   "outputs": [
    {
     "data": {
      "image/png": "[encoded data removed]",
      "text/plain": [
       "<Figure size 432x288 with 1 Axes>"
      ]
     },
     "metadata": {
      "needs_background": "light"
     },
     "output_type": "display_data"
    }
   ],
   "source": [
    "# analise gráfica \n",
    "x = np.linspace(-4,5)\n",
    "plt.plot(x,f(x));\n",
    "plt.plot(x,df(x));\n",
    "plt.axhline(y=0,color='k',ls='--');\n",
    "plt.axvline(x=0,color='r',ls='--');\n",
    "plt.legend(['$f(x)$','$f\\'(x)$','$y=0$','x=0']);"
   ]
  },
  {
   "cell_type": "markdown",
   "metadata": {},
   "source": [
    "Vamos realizar um estudo de diferentes estimativas iniciais e ver o que acontece."
   ]
  },
  {
   "cell_type": "markdown",
   "metadata": {},
   "source": [
    "##### Estimativa inicial: $x_0 = -1$"
   ]
  },
  {
   "cell_type": "code",
   "execution_count": 35,
   "metadata": {},
   "outputs": [
    {
     "name": "stdout",
     "output_type": "stream",
     "text": [
      "Raiz: x = -2.000000\n"
     ]
    }
   ],
   "source": [
    "# resolução com newton \n",
    "x0 = -1.\n",
    "x = newton(f,x0,df) # raiz \n",
    "print('Raiz: x = %f' % x)"
   ]
  },
  {
   "cell_type": "markdown",
   "metadata": {},
   "source": [
    "##### Estimativa inicial: $x_0 = 0$"
   ]
  },
  {
   "cell_type": "code",
   "execution_count": 34,
   "metadata": {},
   "outputs": [
    {
     "name": "stdout",
     "output_type": "stream",
     "text": [
      "Raiz: x = 1.230000\n"
     ]
    }
   ],
   "source": [
    "# resolução com newton \n",
    "x0 = 0.\n",
    "x = newton(f,x0,df) # raiz \n",
    "print('Raiz: x = %f' % x)"
   ]
  },
  {
   "cell_type": "markdown",
   "metadata": {},
   "source": [
    "##### Estimativa inicial: $x_0 = 3$"
   ]
  },
  {
   "cell_type": "code",
   "execution_count": 47,
   "metadata": {},
   "outputs": [
    {
     "name": "stdout",
     "output_type": "stream",
     "text": [
      "Raiz: x = 4.000000\n"
     ]
    }
   ],
   "source": [
    "# resolução com newton \n",
    "x0 = 3.\n",
    "x = newton(f,x0,df) # raiz \n",
    "print('Raiz: x = %f' % x)"
   ]
  },
  {
   "cell_type": "markdown",
   "metadata": {},
   "source": [
    "### Problema 2\n",
    "\n",
    "Determine a menor raiz não nula positiva de $\\cosh(x) \\cos(x) - 1 = 0$ dentro do intervalo $(4,5)$."
   ]
  },
  {
   "cell_type": "markdown",
   "metadata": {},
   "source": [
    "#### Resolução:"
   ]
  },
  {
   "cell_type": "markdown",
   "metadata": {},
   "source": [
    "Primeiramente, vamos escrever a função `f(x)`."
   ]
  },
  {
   "cell_type": "code",
   "execution_count": 48,
   "metadata": {},
   "outputs": [],
   "source": [
    "# função\n",
    "f = lambda x: np.cosh(x)*np.cos(x) - 1 "
   ]
  },
  {
   "cell_type": "markdown",
   "metadata": {},
   "source": [
    "Para computar a primeira derivada, vamos utilizar computação simbólica. Veja no início deste notebook que inserimos a instrução\n",
    "\n",
    "```python\n",
    "import sympy as sy\n",
    "```\n",
    "\n",
    "a qual nos permitirá utilizar objetos do módulo `sympy`.\n",
    "\n",
    "Em primeiro lugar, devemos estabelecer uma variável simbólica `xs`."
   ]
  },
  {
   "cell_type": "code",
   "execution_count": 56,
   "metadata": {},
   "outputs": [],
   "source": [
    "xs = sy.Symbol('x')"
   ]
  },
  {
   "cell_type": "markdown",
   "metadata": {},
   "source": [
    "Em seguida, devemos utilizar as funções `cosh` e `cos` **simbólicas** para derivar `f`. Elas serão **chamadas de dentro do módulo sympy**.\n",
    "\n",
    "Escrevemos a expressão simbólica para a derivada."
   ]
  },
  {
   "cell_type": "code",
   "execution_count": 57,
   "metadata": {},
   "outputs": [
    {
     "data": {
      "text/latex": [
       "$\\displaystyle - \\sin{\\left(x \\right)} \\cosh{\\left(x \\right)} + \\cos{\\left(x \\right)} \\sinh{\\left(x \\right)}$"
      ],
      "text/plain": [
       "-sin(x)*cosh(x) + cos(x)*sinh(x)"
      ]
     },
     "execution_count": 57,
     "metadata": {},
     "output_type": "execute_result"
    }
   ],
   "source": [
    "d = sy.diff(sy.cosh(xs)*sy.cos(xs) - 1)\n",
    "d"
   ]
  },
  {
   "cell_type": "markdown",
   "metadata": {},
   "source": [
    "Note que `d` é um objeto do módulo `sympy`"
   ]
  },
  {
   "cell_type": "code",
   "execution_count": 58,
   "metadata": {},
   "outputs": [
    {
     "data": {
      "text/plain": [
       "sympy.core.add.Add"
      ]
     },
     "execution_count": 58,
     "metadata": {},
     "output_type": "execute_result"
    }
   ],
   "source": [
    "type(d)"
   ]
  },
  {
   "cell_type": "markdown",
   "metadata": {},
   "source": [
    "Podemos agora aproveitar a expressão de `d` para criar nossa derivada. Se imprimirmos `d`, teremos:"
   ]
  },
  {
   "cell_type": "code",
   "execution_count": 59,
   "metadata": {},
   "outputs": [
    {
     "name": "stdout",
     "output_type": "stream",
     "text": [
      "-sin(x)*cosh(x) + cos(x)*sinh(x)\n"
     ]
    }
   ],
   "source": [
    "print(d)"
   ]
  },
  {
   "cell_type": "markdown",
   "metadata": {},
   "source": [
    "Porém, precisamos indicar que as funções serão objetos numpy. Logo, adicionamos `np`, de modo que:"
   ]
  },
  {
   "cell_type": "code",
   "execution_count": 60,
   "metadata": {},
   "outputs": [],
   "source": [
    "df = lambda x: - np.sin(x)*np.cosh(x) + np.cos(x)*np.sinh(x)"
   ]
  },
  {
   "cell_type": "markdown",
   "metadata": {},
   "source": [
    "Agora, realizamos a análise gráfica. "
   ]
  },
  {
   "cell_type": "code",
   "execution_count": 81,
   "metadata": {},
   "outputs": [
    {
     "data": {
      "image/png": "[encoded data removed]",
      "text/plain": [
       "<Figure size 432x288 with 1 Axes>"
      ]
     },
     "metadata": {
      "needs_background": "light"
     },
     "output_type": "display_data"
    }
   ],
   "source": [
    "# analise gráfica \n",
    "x = np.linspace(4,5)\n",
    "plt.plot(x,f(x));\n",
    "plt.plot(x,df(x));\n",
    "plt.axhline(y=0,color='r',ls='--');\n",
    "plt.legend(['$f(x)$','$f\\'(x)$','$y=0$']);"
   ]
  },
  {
   "cell_type": "markdown",
   "metadata": {},
   "source": [
    "Agora, vamos resolver optando pela estimativa inicial $x_0 = 4.9$."
   ]
  },
  {
   "cell_type": "code",
   "execution_count": 82,
   "metadata": {},
   "outputs": [
    {
     "name": "stdout",
     "output_type": "stream",
     "text": [
      "Raiz: x = 4.730041\n"
     ]
    }
   ],
   "source": [
    "# resolução com newton \n",
    "x0 = 4.9\n",
    "x = newton(f,x0,df) # raiz \n",
    "print('Raiz: x = %f' % x)"
   ]
  },
  {
   "cell_type": "markdown",
   "metadata": {},
   "source": [
    "## _Homework_ \n",
    "\n",
    "1. Reproduza os Problemas de 3 a 8 da _Code Session 1_ resolvendo com o método `newton`.\n",
    "2. Para os casos possíveis, determine a derivada. Caso contrário, utilize como método da Secante. \n",
    "3. Pesquise sobre o método de Halley e aplique-o aos problemas usando também a função `newton`, mas avaliando-a também com a segunda derivada. "
   ]
  }
 ],
 "metadata": {
  "kernelspec": {
   "display_name": "Python 3",
   "language": "python",
   "name": "python3"
  },
  "language_info": {
   "codemirror_mode": {
    "name": "ipython",
    "version": 3
   },
   "file_extension": ".py",
   "mimetype": "text/x-python",
   "name": "python",
   "nbconvert_exporter": "python",
   "pygments_lexer": "ipython3",
   "version": "3.7.4"
  }
 },
 "nbformat": 4,
 "nbformat_minor": 4
}
