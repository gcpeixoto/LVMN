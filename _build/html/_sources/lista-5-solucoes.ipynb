{
 "cells": [
  {
   "attachments": {},
   "cell_type": "markdown",
   "metadata": {},
   "source": [
    "# Lista de Exercícios 5\n",
    "\n",
    "Solucionário matemático e computacional de exercícios selecionados da Lista de Exercícios 5."
   ]
  },
  {
   "cell_type": "code",
   "execution_count": 1,
   "metadata": {},
   "outputs": [],
   "source": [
    "%matplotlib inline"
   ]
  },
  {
   "cell_type": "code",
   "execution_count": 2,
   "metadata": {},
   "outputs": [],
   "source": [
    "# importação de módulos\n",
    "import numpy as np\n",
    "import matplotlib.pyplot as plt"
   ]
  },
  {
   "attachments": {},
   "cell_type": "markdown",
   "metadata": {},
   "source": [
    "## Ajuste de curvas\n",
    "\n",
    "**Obs.:**: função `polyfit` retorna coeficientes da curva de ajuste na ordem: \n",
    "```python \n",
    "P = p[0] + p[1]*x + p[2]*x**2 + p[3]*x**3 + ...\n",
    "```"
   ]
  },
  {
   "attachments": {},
   "cell_type": "markdown",
   "metadata": {},
   "source": [
    "### Exemplo: solução fechada 2D "
   ]
  },
  {
   "cell_type": "code",
   "execution_count": 3,
   "metadata": {},
   "outputs": [
    {
     "data": {
      "image/png": "[encoded data removed]",
      "text/plain": [
       "<Figure size 432x288 with 1 Axes>"
      ]
     },
     "metadata": {
      "needs_background": "light"
     },
     "output_type": "display_data"
    }
   ],
   "source": [
    "# tabela de dados\n",
    "x = np.array([1,2,3,4])\n",
    "y = np.array([0.5,2.5,2.0,4.0])\n",
    "\n",
    "# min quad\n",
    "m = np.size(x)\n",
    "alpha1 = (m*np.dot(x,y) - np.sum(x)*np.sum(y))/(m*np.dot(x,x)-np.sum(x)**2)\n",
    "alpha0 = np.mean(y) - alpha1*np.mean(x)\n",
    "\n",
    "# plot\n",
    "plt.scatter(x,y)\n",
    "y2 = alpha0 + alpha1*x\n",
    "plt.plot(x,y2,'r:');"
   ]
  },
  {
   "attachments": {},
   "cell_type": "markdown",
   "metadata": {},
   "source": [
    "## Resolução da Lista 5"
   ]
  },
  {
   "attachments": {},
   "cell_type": "markdown",
   "metadata": {},
   "source": [
    "### Função-base para computar ajuste e plotar resultados"
   ]
  },
  {
   "cell_type": "code",
   "execution_count": 4,
   "metadata": {},
   "outputs": [],
   "source": [
    "\"\"\"\n",
    "Resolve problema de ajuste polinomial discreto e plota resultado\n",
    "\n",
    "    entrada: \n",
    "        x,y : tabela de valores (numpy arrays)\n",
    "        g   : grau do polinômio de ajuste (int)\n",
    "\"\"\"\n",
    "def resolve_ajuste(x,y,g):\n",
    "    \n",
    "    c = np.polyfit(x, y, g) # ajuste\n",
    "    p = np.poly1d(c) \n",
    "    plt.plot(x,y,'d',x,p(x),'o-')\n",
    "    plt.xlabel(str(x))\n",
    "    for i in range(g+1):\n",
    "        print('Coeficiente de ajuste p[' + str(i) + ']: ' + str(c[i]))\n",
    "\n",
    "    return p"
   ]
  },
  {
   "attachments": {},
   "cell_type": "markdown",
   "metadata": {},
   "source": [
    "### L5-Q2\n",
    "\n",
    "Ajuste os dados abaixo pelo método dos mínimos quadrados:\n",
    "\n",
    "\\begin{array}{c|cccccccc}\n",
    "x & 1 & 2 & 3 & 4 & 5 & 6 & 7 & 8 \\\\\n",
    "\\hline\n",
    "y & 0.5 & 0.6  & 0.9 & 0.8 & 1.2 & 1.5 &  1.7 & 2.0\n",
    "\\end{array}\n",
    "\n",
    "a) por reta \n",
    "\n",
    "b) por parábola do tipo $ax^2 + bx + c$; "
   ]
  },
  {
   "attachments": {},
   "cell_type": "markdown",
   "metadata": {},
   "source": [
    "### Solução\n",
    "\n",
    "#### Metodologia matemática"
   ]
  },
  {
   "attachments": {},
   "cell_type": "markdown",
   "metadata": {},
   "source": [
    "a)\n",
    "\n",
    "$$g_1(x) = x$$$$ g_2(x)=1$$\n",
    "\n",
    "\\begin{array}{c|cccccccc}\n",
    "g_1 & 1 & 2 & 3 & 4 & 5 & 6 & 7 & 8 \\\\\n",
    "\\hline\n",
    "g_2 & 1 & 1 & 1& 1& 1 & 1 & 1 & 1 \\\\\n",
    "\\hline\n",
    "f & 0.5 & 0.6  & 0.9 & 0.8 & 1.2 & 1.5 &  1.7 & 2.0\n",
    "\\end{array}\n",
    "\n",
    "\\begin{eqnarray*}\n",
    "a_{11} &=& <g_1,g_1> &= 204\\\\\n",
    "a_{12} &=& <g_1,g_2> &= 36 \\\\\n",
    "a_{21} &=& a_{12}  \\\\\n",
    "a_{22} &=& <g_2,g_2> &= 8\\\\\n",
    "b_{1} &=&  <g_1,f>   &= 50.5\\\\\n",
    "b_{2} &=&  <g_2,f>  &= 9.2\n",
    "\\end{eqnarray*}\n",
    "\n",
    "\n",
    "$$\\begin{bmatrix}\n",
    "204 & 36 \\\\\n",
    "36 &  8\n",
    "\\end{bmatrix}\n",
    "\\begin{bmatrix}\n",
    "\\alpha_1 \\\\\n",
    "\\alpha_2 \n",
    "\\end{bmatrix} = \n",
    "\\begin{bmatrix}\n",
    "50.5 \\\\\n",
    "9.2\n",
    "\\end{bmatrix}$$\n",
    "\n",
    "$$\\begin{align*}\n",
    "204\\alpha_1+36\\alpha_2 &= 50.5 \\\\\n",
    "36\\alpha_1+8\\alpha_2 &= 9.2\n",
    "\\end{align*}$$\n",
    "\n",
    "\n",
    "$$\\alpha_1 = 0.2166 ,\\  \\alpha_2 = 0.175$$\n",
    "\n",
    "$$f(x) = 0.1749x + 0.2167$$"
   ]
  },
  {
   "attachments": {},
   "cell_type": "markdown",
   "metadata": {},
   "source": [
    "b) \n",
    "\n",
    "$g_1(x) = x^2$; $g_2(x)=x$; $g_3(x)=1$ \n",
    "\n",
    "\\begin{array}{c|cccccccc}\n",
    "g_1 & 1 & 4 & 9 & 16 & 25 & 36 & 49 & 64 \\\\\n",
    "\\hline\n",
    "g_2 & 1 & 2 & 3 & 4 & 5 & 6 & 7 & 8 \\\\\n",
    "\\hline\n",
    "g_3 & 1 & 1 & 1& 1& 1 & 1 & 1 & 1 \\\\\n",
    "\\hline\n",
    "f & 0.5 & 0.6  & 0.9 & 0.8 & 1.2 & 1.5 &  1.7 & 2.0\n",
    "\\end{array}\n",
    "\n",
    "\\begin{align*}\n",
    "a_{11}=\\ <g_1,g_1> \\ &= 8772\\\\\n",
    "a_{12}=\\ a_{21}   =\\  <g_1,g_2> \\ &= 1296 \\\\\n",
    "a_{13}=\\ a_{31}   =\\  <g_1,g_3> \\ &= 204 \\\\\n",
    "a_{22}=\\ <g_2,g_2> \\ &= 204\\\\\n",
    "a_{23}=\\ a_{32}   =\\  <g_2,g_3> \\ &= 36 \\\\\n",
    "a_{33}=\\ <g_3,g_3> \\ &= 8 \\\\\n",
    "b_{1}=\\  <g_1,f>  \\ &= 319.1\\\\\n",
    "b_{2}=\\  <g_2,f>  \\ &= 50.5\\\\\n",
    "b_{3}=\\  <g_3,f>  \\ &= 9.2\n",
    "\\end{align*}\n",
    "\n",
    "$$\\begin{bmatrix}\n",
    "8872 & 1296 & 204 \\\\\n",
    "1296 &  204 & 36 \\\\\n",
    "204 &  36 & 8\n",
    "\\end{bmatrix}\n",
    "\\begin{bmatrix}\n",
    "\\alpha_1 \\\\\n",
    "\\alpha_2 \\\\\n",
    "\\alpha_3 \n",
    "\\end{bmatrix} = \n",
    "\\begin{bmatrix}\n",
    "319.1\\\\\n",
    "50.5 \\\\\n",
    "9.2 \n",
    "\\end{bmatrix}$$\n",
    "\n",
    "$$\\begin{align*}\n",
    "8872\\alpha_1+1296\\alpha_2 + 204\\alpha_3 &= 319.1 \\\\\n",
    "1296\\alpha_1+204\\alpha_2 + 36\\alpha_3 &= 50.5 \\\\\n",
    "204\\alpha_1+36\\alpha_2 + 8\\alpha_3 &= 9.2\n",
    "\\end{align*}$$\n",
    "\n",
    "$$\\alpha_1 = 0.4071 ,\\  \\alpha_2 = 0.07738, \\  \\alpha_3 = 0.01547$$ \n",
    "\n",
    "$$f(x) = 0.01547 + 0.07738x + 0.4071x^2$$"
   ]
  },
  {
   "attachments": {},
   "cell_type": "markdown",
   "metadata": {},
   "source": [
    "#### Metodologia computacional"
   ]
  },
  {
   "attachments": {},
   "cell_type": "markdown",
   "metadata": {},
   "source": [
    "a)"
   ]
  },
  {
   "cell_type": "code",
   "execution_count": 5,
   "metadata": {},
   "outputs": [
    {
     "name": "stdout",
     "output_type": "stream",
     "text": [
      "Coeficiente de ajuste p[0]: 0.2166666666666667\n",
      "Coeficiente de ajuste p[1]: 0.17499999999999996\n"
     ]
    },
    {
     "data": {
      "image/png": "[encoded data removed]",
      "text/plain": [
       "<Figure size 432x288 with 1 Axes>"
      ]
     },
     "metadata": {
      "needs_background": "light"
     },
     "output_type": "display_data"
    }
   ],
   "source": [
    "# tabela de dados\n",
    "x = np.arange(1,9)\n",
    "y = np.array([0.5,.6,.9,.8,1.2,1.5,1.7,2.])\n",
    "\n",
    "# grau 1\n",
    "g = 1\n",
    "p = resolve_ajuste(x,y,g)"
   ]
  },
  {
   "attachments": {},
   "cell_type": "markdown",
   "metadata": {},
   "source": [
    "b)"
   ]
  },
  {
   "cell_type": "code",
   "execution_count": 6,
   "metadata": {},
   "outputs": [
    {
     "name": "stdout",
     "output_type": "stream",
     "text": [
      "Coeficiente de ajuste p[0]: 0.015476190476190437\n",
      "Coeficiente de ajuste p[1]: 0.07738095238095268\n",
      "Coeficiente de ajuste p[2]: 0.407142857142857\n"
     ]
    },
    {
     "data": {
      "image/png": "[encoded data removed]",
      "text/plain": [
       "<Figure size 432x288 with 1 Axes>"
      ]
     },
     "metadata": {
      "needs_background": "light"
     },
     "output_type": "display_data"
    }
   ],
   "source": [
    "# grau 2\n",
    "g = 2\n",
    "p = resolve_ajuste(x,y,g)"
   ]
  },
  {
   "attachments": {},
   "cell_type": "markdown",
   "metadata": {},
   "source": [
    "### L5-Q3\n",
    "\n",
    "Dada a tabela abaixo, faça o gráfico de dispersão dos dados e ajuste uma curva da melhor maneira possı́vel:\n",
    "\n",
    "\\begin{array}{c|cccccc}\n",
    "x & 0.5 & 0.75 & 1 & 1.5 & 2.0 & 2.5 & 3.0  \\\\\n",
    "\\hline\n",
    "y & -2.8 & -0.6 & 1& 3.2& 4.8 & 6.0 & 7.0 \n",
    "\\end{array}"
   ]
  },
  {
   "attachments": {},
   "cell_type": "markdown",
   "metadata": {},
   "source": [
    "### Solução\n",
    "\n",
    "#### Metodologia matemática\n"
   ]
  },
  {
   "attachments": {},
   "cell_type": "markdown",
   "metadata": {},
   "source": [
    "$g_1(x) = 1$; $g_2(x)=x$; $g_3(x)=x^2$; $g_4(x)=x^3$\n",
    "\n",
    "\\begin{array}{c|cccccc}\n",
    "g_1 & 1 & 1 & 1& 1& 1 & 1 & 1 \\\\\n",
    "g_2 & 0.5 & 0.75 & 1 & 1.5 & 2.0 & 2.5 & 3.0  \\\\\n",
    "\\hline\n",
    "g_3 & 0.25 & 0.5625& 1& 2.25& 4 & 6.25 & 9.0\\\\\n",
    "\\hline\n",
    "g_4 & 0.1250 & 0.4219 & 1& 3.375& 8 &15. 625 & 27 \\\\\n",
    "f & -2.8 & -0.6 & 1& 3.2& 4.8 & 6.0 & 7.0 \n",
    "\\end{array}\n",
    "\n",
    "\\begin{align*}\n",
    "a_{11}=\\ <g_1,g_1> \\ &= 7\\\\\n",
    "a_{12}=\\ a_{21}   =\\  <g_1,g_2> \\ &= 11.25 \\\\\n",
    "a_{13}=\\ a_{31}   =\\  <g_1,g_3> \\ &= 23.3125 \\\\\n",
    "a_{14}=\\ a_{41}   =\\  <g_1,g_4> \\ &= 55.5468 \\\\\n",
    "a_{22}=\\ <g_2,g_2> \\ &= 23.3125\\\\\n",
    "a_{23}=\\ a_{32}   =\\  <g_2,g_3> \\ &= 55.5468 \\\\\n",
    "a_{24}=\\ a_{42}   =\\  <g_2,g_4> \\ &= 142.5039 \\\\\n",
    "a_{33}=\\ <g_3,g_3> \\ &= 142.5039 \\\\\n",
    "a_{34}=\\ <g_3,g_4> \\ &= 381.5185 \\\\\n",
    "a_{44}=\\ <g_4,g_4> \\ &= 1049.7248 \\\\\n",
    "b_{1}=\\  <g_1,f>  \\ &= 18.6\\\\\n",
    "b_{2}=\\  <g_2,f>  \\ &= 49.55\\\\\n",
    "b_{3}=\\  <g_3,f>  \\ &= 126.86\\\\\n",
    "b_{4}=\\  <g_4,f>  \\ &= 332.34\n",
    "\\end{align*}\n",
    "\n",
    "$$\\begin{bmatrix}\n",
    "7 & 11.25 & 23.3125 & 55.5468 \\\\\n",
    "11.25 &  23.3125 & 55.5468 & 142.5039 \\\\\n",
    "23.3125 &  55.5468 & 142.5039 & 381.5185\\\\\n",
    "55.5468 &  142.5039 & 381.5185 & 1049.7248\n",
    "\\end{bmatrix}\n",
    "\\begin{bmatrix}\n",
    "\\alpha_1 \\\\\n",
    "\\alpha_2 \\\\\n",
    "\\alpha_3 \\\\\n",
    "\\alpha_4 \n",
    "\\end{bmatrix} = \n",
    "\\begin{bmatrix}\n",
    "18.6\\\\\n",
    "49.55 \\\\\n",
    "126.8625\\\\\n",
    "332.3468\n",
    "\\end{bmatrix}$$\n",
    "\n",
    "$$\\alpha_1 = -8.1043 ,\\  \\alpha_2 = 12.7882 \\  \\alpha_3 = -4.3250 , \\  \\alpha_4 = 0.5813$$\n",
    "\n",
    "$$f(x) = 0.5813  - 4.3250x + 12.79x^2 - 8.1043x^3$$"
   ]
  },
  {
   "attachments": {},
   "cell_type": "markdown",
   "metadata": {},
   "source": [
    "#### Metodologia computacional"
   ]
  },
  {
   "cell_type": "code",
   "execution_count": 7,
   "metadata": {},
   "outputs": [
    {
     "name": "stdout",
     "output_type": "stream",
     "text": [
      "Coeficiente de ajuste p[0]: 0.588808229974697\n",
      "Coeficiente de ajuste p[1]: -4.365386461549416\n",
      "Coeficiente de ajuste p[2]: 12.85159200943416\n",
      "Coeficiente de ajuste p[3]: -8.131256481519904\n"
     ]
    },
    {
     "data": {
      "text/plain": [
       "0.040251260748212274"
      ]
     },
     "execution_count": 7,
     "metadata": {},
     "output_type": "execute_result"
    },
    {
     "data": {
      "image/png": "[encoded data removed]",
      "text/plain": [
       "<Figure size 432x288 with 1 Axes>"
      ]
     },
     "metadata": {
      "needs_background": "light"
     },
     "output_type": "display_data"
    }
   ],
   "source": [
    "# tabela\n",
    "x = np.array([0.5,0.75,1,1.5,2.0,2.5,3.0])\n",
    "y = np.array([-2.8,-0.6,1,3.2,4.8,6.0,7.0])\n",
    "\n",
    "# grau (teste para g = 2,3,4,5 e veja o erro)\n",
    "g = 3\n",
    "p = resolve_ajuste(x,y,g)\n",
    "\n",
    "# erro \n",
    "np.sum((p(x)-y)**2)"
   ]
  },
  {
   "attachments": {},
   "cell_type": "markdown",
   "metadata": {},
   "source": [
    "### L5-Q4\n",
    "\n",
    "A tabela abaixo mostra as alturas e pesos de nove homens entre as idades de 25 a 29 anos extraı́da ao acaso entre funcionários de uma grande indústria:\n",
    "\n",
    "\\begin{array}{c|ccccccccc}\n",
    "\\text{Altura/cm} & 183& 173 & 168 & 188  & 158 & 163 & 193 &163 &178 \\\\\n",
    "\\hline\n",
    "\\text{Peso/kg} & 79 & 69 & 70& 81  & 61 &63 &79 & 71 & 73\n",
    "\\end{array}"
   ]
  },
  {
   "attachments": {},
   "cell_type": "markdown",
   "metadata": {},
   "source": [
    "#### Metodologia matemática \n",
    "\n",
    "$g_1(x) = 1$; $g_2(x)=x$\n",
    "\n",
    "\\begin{array}{c|cccccccc}\n",
    "g_1 & 1 & 1 & 1& 1& 1 & 1 & 1 & 1&1\\\\\n",
    "\\hline\n",
    "g_2 & 183& 173 & 168 & 188  & 158 & 163 & 193 &163 &178 \\\\\n",
    "\\hline\n",
    "f &  79 & 69 & 70& 81  & 61 &63 &79 & 71 & 73\n",
    "\\end{array}\n",
    "\n",
    "\\begin{align*}\n",
    "a_{11}=\\ <g_1,g_1> \\ &= 9\\\\\n",
    "a_{12}=\\ a_{21}   =  <g_1,g_2> \\ &= 1567 \\\\\n",
    "a_{22}=\\ <g_2,g_2> \\ &= 274.021\\\\\n",
    "b_{1}=\\ <g_1,f>  \\ &= 646\\\\\n",
    "b_{2}=\\ <g_2,f>  \\ &= 113.103\n",
    "\\end{align*}\n",
    "\n",
    "$$\\begin{bmatrix}\n",
    "9 & 1567 \\\\\n",
    "1567 &  274.021\n",
    "\\end{bmatrix}\n",
    "\\begin{bmatrix}\n",
    "\\alpha_1 \\\\\n",
    "\\alpha_2 \n",
    "\\end{bmatrix} = \n",
    "\\begin{bmatrix}\n",
    "646 \\\\\n",
    "113.103\n",
    "\\end{bmatrix}$$\n",
    "\n",
    "$$\\alpha_1 = -20.0832 ,\\  \\alpha_2 = 0.5276$$\n",
    "\n",
    "$$f(x) = 0.5276x - 20.0832$$"
   ]
  },
  {
   "attachments": {},
   "cell_type": "markdown",
   "metadata": {},
   "source": [
    "#### Metodologia computacional"
   ]
  },
  {
   "cell_type": "code",
   "execution_count": 8,
   "metadata": {},
   "outputs": [
    {
     "data": {
      "text/plain": [
       "<matplotlib.collections.PathCollection at 0x7fc4720ed610>"
      ]
     },
     "execution_count": 8,
     "metadata": {},
     "output_type": "execute_result"
    },
    {
     "data": {
      "image/png": "[encoded data removed]",
      "text/plain": [
       "<Figure size 432x288 with 1 Axes>"
      ]
     },
     "metadata": {
      "needs_background": "light"
     },
     "output_type": "display_data"
    }
   ],
   "source": [
    "altura = np.array([183,173,168,188,158,163,193,163,178])\n",
    "peso = np.array([79,69,70,81,61,63,79,71,73])\n",
    "\n",
    "# gráfico de dispersão \n",
    "plt.scatter(altura,peso)"
   ]
  },
  {
   "attachments": {},
   "cell_type": "markdown",
   "metadata": {},
   "source": [
    "### solucao-L5-Q4-b"
   ]
  },
  {
   "cell_type": "code",
   "execution_count": 9,
   "metadata": {},
   "outputs": [
    {
     "name": "stdout",
     "output_type": "stream",
     "text": [
      "Coeficiente de ajuste p[0]: 0.527570093457944\n",
      "Coeficiente de ajuste p[1]: -20.078037383177612\n"
     ]
    },
    {
     "data": {
      "image/png": "[encoded data removed]",
      "text/plain": [
       "<Figure size 432x288 with 1 Axes>"
      ]
     },
     "metadata": {
      "needs_background": "light"
     },
     "output_type": "display_data"
    }
   ],
   "source": [
    "# ajuste da reta \n",
    "p = resolve_ajuste(altura,peso,1)"
   ]
  },
  {
   "attachments": {},
   "cell_type": "markdown",
   "metadata": {},
   "source": [
    "### solucao-L5-Q4-c"
   ]
  },
  {
   "cell_type": "code",
   "execution_count": 10,
   "metadata": {},
   "outputs": [
    {
     "name": "stdout",
     "output_type": "stream",
     "text": [
      "72.2467289719626\n",
      "189.69619131975205\n"
     ]
    }
   ],
   "source": [
    "# estimativa de peso (kg)\n",
    "alt = 175 \n",
    "p_c = p(alt)\n",
    "print(p_c)\n",
    "\n",
    "# estimativa de altura (cm)\n",
    "alt = 80\n",
    "a_c = (alt - p[0])/p[1]\n",
    "print(a_c)\n"
   ]
  },
  {
   "attachments": {},
   "cell_type": "markdown",
   "metadata": {},
   "source": [
    "### solucao-L5-Q4-d"
   ]
  },
  {
   "cell_type": "code",
   "execution_count": 11,
   "metadata": {},
   "outputs": [
    {
     "name": "stdout",
     "output_type": "stream",
     "text": [
      "Coeficiente de ajuste p[0]: 1.5856741573033717\n",
      "Coeficiente de ajuste p[1]: 60.294943820224695\n"
     ]
    },
    {
     "data": {
      "image/png": "[encoded data removed]",
      "text/plain": [
       "<Figure size 432x288 with 1 Axes>"
      ]
     },
     "metadata": {
      "needs_background": "light"
     },
     "output_type": "display_data"
    }
   ],
   "source": [
    "p2 = resolve_ajuste(peso,altura,1)"
   ]
  },
  {
   "attachments": {},
   "cell_type": "markdown",
   "metadata": {},
   "source": [
    "### solucao-L5-Q4-e"
   ]
  },
  {
   "cell_type": "code",
   "execution_count": 12,
   "metadata": {},
   "outputs": [
    {
     "name": "stdout",
     "output_type": "stream",
     "text": [
      "72.33835252435782\n",
      "0.09162355239521958\n"
     ]
    }
   ],
   "source": [
    "# estimativa de peso a partir de altura com novo ajuste \n",
    "alt = 175\n",
    "p_e = (alt - p2[0])/p2[1]\n",
    "print(p_e)\n",
    "\n",
    "# comparação com item (c): pesos \n",
    "# pequena diferença entre os valores\n",
    "dif = abs(p_c-p_e)\n",
    "print(dif)\n"
   ]
  },
  {
   "attachments": {},
   "cell_type": "markdown",
   "metadata": {},
   "source": [
    "### solucao-L5-Q4-f"
   ]
  },
  {
   "cell_type": "code",
   "execution_count": 13,
   "metadata": {},
   "outputs": [
    {
     "data": {
      "text/plain": [
       "[<matplotlib.lines.Line2D at 0x7fc4724d15d0>,\n",
       " <matplotlib.lines.Line2D at 0x7fc4724d1810>]"
      ]
     },
     "execution_count": 13,
     "metadata": {},
     "output_type": "execute_result"
    },
    {
     "data": {
      "image/png": "[encoded data removed]",
      "text/plain": [
       "<Figure size 432x288 with 1 Axes>"
      ]
     },
     "metadata": {
      "needs_background": "light"
     },
     "output_type": "display_data"
    }
   ],
   "source": [
    "# comparação das retas de ajuste\n",
    "# influência do resíduo => inclinações diferentes\n",
    "\n",
    "plt.plot(altura,p(altura),altura,(altura - p2[0])/p2[1])"
   ]
  },
  {
   "attachments": {},
   "cell_type": "markdown",
   "metadata": {},
   "source": [
    "## solucao-L5-Q5-a"
   ]
  },
  {
   "attachments": {},
   "cell_type": "markdown",
   "metadata": {},
   "source": [
    "### AJUSTE POR RETA"
   ]
  },
  {
   "cell_type": "code",
   "execution_count": 14,
   "metadata": {},
   "outputs": [
    {
     "name": "stdout",
     "output_type": "stream",
     "text": [
      "Coeficiente de ajuste p[0]: 1.7924185769967504\n",
      "Coeficiente de ajuste p[1]: -3420.8153029001523\n"
     ]
    },
    {
     "data": {
      "text/plain": [
       "208.83231551826748"
      ]
     },
     "execution_count": 14,
     "metadata": {},
     "output_type": "execute_result"
    },
    {
     "data": {
      "image/png": "[encoded data removed]",
      "text/plain": [
       "<Figure size 432x288 with 1 Axes>"
      ]
     },
     "metadata": {
      "needs_background": "light"
     },
     "output_type": "display_data"
    }
   ],
   "source": [
    "\"\"\" \n",
    "Nota: pesquisa no IBGE em maio de 2018 \n",
    "      mostra que a população já rompeu 209 mi. \n",
    "\"\"\"\n",
    "\n",
    "# tabela de dados\n",
    "ano = np.array([1900, 1920, 1940, 1950, 1960, 1970, 1980, 1991, 2000, 2010, 2015])\n",
    "hab = np.array([17.4, 30.6, 41.2, 51.9, 70.2, 93.1, 119.0, 146.2, 175.8, 198.6, 207.8])\n",
    "\n",
    "# plotagem\n",
    "fig,ax = plt.subplots(1,1)\n",
    "p = resolve_ajuste(ano,hab,1)\n",
    "ax.grid(axis='x')\n",
    "\n",
    "# plotagem do comportamento preditivo\n",
    "\n",
    "# linha tracejada e area  \n",
    "ano_m = np.linspace(2016, 2025, num=10, endpoint=True)\n",
    "v2 = np.ones(np.shape(ano_m))\n",
    "ax.fill_between(ano_m,200*v2,220*v2,facecolor='g',alpha=0.2)\n",
    "plt.plot(ano_m,p(ano_m),':')\n",
    "plt.plot(2025,p(2025),'go')\n",
    "\n",
    "# estimativa no ano 2025\n",
    "p(2025)"
   ]
  },
  {
   "cell_type": "code",
   "execution_count": 15,
   "metadata": {},
   "outputs": [
    {
     "name": "stdout",
     "output_type": "stream",
     "text": [
      "Marca de 100 milhões de pessoas: 1965\n",
      "Marca de 150 milhões de pessoas: 1993\n",
      "Marca de 200 milhões de pessoas: 2021\n"
     ]
    }
   ],
   "source": [
    "# abrindo vetor de 1900 a 2024\n",
    "anos = np.arange(ano[0],ano[-1]+10)\n",
    "pops = p(anos) # população\n",
    "\n",
    "# encontrando ano em que a populacao superou 100 mi\n",
    "lim100 = np.nonzero(pops>100)\n",
    "lim150 = np.nonzero(pops>150)\n",
    "lim200 = np.nonzero(pops>200)\n",
    "np.shape(lim100)\n",
    "print('Marca de 100 milhões de pessoas: ' + str(anos[lim100[0][0]]))\n",
    "print('Marca de 150 milhões de pessoas: ' + str(anos[lim150[0][0]]))\n",
    "print('Marca de 200 milhões de pessoas: ' + str(anos[lim200[0][0]]))\n"
   ]
  },
  {
   "cell_type": "code",
   "execution_count": 16,
   "metadata": {},
   "outputs": [
    {
     "name": "stdout",
     "output_type": "stream",
     "text": [
      "Coeficiente de ajuste p[0]: 1.7924185769967504\n",
      "Coeficiente de ajuste p[1]: -3420.8153029001523\n"
     ]
    },
    {
     "data": {
      "text/plain": [
       "<matplotlib.collections.PolyCollection at 0x7fc47246b410>"
      ]
     },
     "execution_count": 16,
     "metadata": {},
     "output_type": "execute_result"
    },
    {
     "data": {
      "image/png": "[encoded data removed]",
      "text/plain": [
       "<Figure size 432x288 with 1 Axes>"
      ]
     },
     "metadata": {
      "needs_background": "light"
     },
     "output_type": "display_data"
    }
   ],
   "source": [
    "# plotagem por faixas de valores \n",
    "fig,ax = plt.subplots(1,1)\n",
    "p = resolve_ajuste(ano,hab,1)\n",
    "ax.grid(axis='x')\n",
    "v1 = np.ones(np.shape(ano))\n",
    "ax.fill_between(ano,100*v1,150*v1,alpha=0.1)\n",
    "ax.fill_between(ano,150*v1,200*v1,facecolor='r',alpha=0.1)"
   ]
  },
  {
   "attachments": {},
   "cell_type": "markdown",
   "metadata": {},
   "source": [
    "### AJUSTE POR PARÁBOLA"
   ]
  },
  {
   "cell_type": "code",
   "execution_count": 17,
   "metadata": {},
   "outputs": [
    {
     "name": "stdout",
     "output_type": "stream",
     "text": [
      "Coeficiente de ajuste p[0]: 0.01418349430843006\n",
      "Coeficiente de ajuste p[1]: -53.81354030390032\n",
      "Coeficiente de ajuste p[2]: 51061.1779002923\n"
     ]
    },
    {
     "data": {
      "text/plain": [
       "249.95013340016885"
      ]
     },
     "execution_count": 17,
     "metadata": {},
     "output_type": "execute_result"
    },
    {
     "data": {
      "image/png": "[encoded data removed]",
      "text/plain": [
       "<Figure size 432x288 with 1 Axes>"
      ]
     },
     "metadata": {
      "needs_background": "light"
     },
     "output_type": "display_data"
    }
   ],
   "source": [
    "\n",
    "\n",
    "# plotagem\n",
    "fig,ax = plt.subplots(1,1)\n",
    "p = resolve_ajuste(ano,hab,2)\n",
    "ax.grid(axis='x')\n",
    "\n",
    "# plotagem do comportamento preditivo\n",
    "\n",
    "# linha tracejada e area  \n",
    "ano_m = np.linspace(2016, 2025, num=10, endpoint=True)\n",
    "v2 = np.ones(np.shape(ano_m))\n",
    "ax.fill_between(ano_m,200*v2,260*v2,facecolor='g',alpha=0.2)\n",
    "plt.plot(ano_m,p(ano_m),':')\n",
    "plt.plot(2025,p(2025),'go')\n",
    "\n",
    "# estimativa no ano 2025\n",
    "p(2025)"
   ]
  },
  {
   "cell_type": "code",
   "execution_count": 18,
   "metadata": {},
   "outputs": [
    {
     "name": "stdout",
     "output_type": "stream",
     "text": [
      "Marca de 100 milhões de pessoas: 1974\n",
      "Marca de 150 milhões de pessoas: 1994\n",
      "Marca de 200 milhões de pessoas: 2011\n"
     ]
    }
   ],
   "source": [
    "# abrindo vetor de 1900 a 2024\n",
    "anos = np.arange(ano[0],ano[-1]+10)\n",
    "pops = p(anos) # população\n",
    "\n",
    "# encontrando ano em que a populacao superou 100 mi\n",
    "lim100 = np.nonzero(pops>100)\n",
    "lim150 = np.nonzero(pops>150)\n",
    "lim200 = np.nonzero(pops>200)\n",
    "np.shape(lim100)\n",
    "print('Marca de 100 milhões de pessoas: ' + str(anos[lim100[0][0]]))\n",
    "print('Marca de 150 milhões de pessoas: ' + str(anos[lim150[0][0]]))\n",
    "print('Marca de 200 milhões de pessoas: ' + str(anos[lim200[0][0]]))\n",
    "\n"
   ]
  },
  {
   "cell_type": "code",
   "execution_count": 19,
   "metadata": {},
   "outputs": [
    {
     "name": "stdout",
     "output_type": "stream",
     "text": [
      "Coeficiente de ajuste p[0]: 0.01418349430843006\n",
      "Coeficiente de ajuste p[1]: -53.81354030390032\n",
      "Coeficiente de ajuste p[2]: 51061.1779002923\n"
     ]
    },
    {
     "data": {
      "text/plain": [
       "<matplotlib.collections.PolyCollection at 0x7fc471ff9310>"
      ]
     },
     "execution_count": 19,
     "metadata": {},
     "output_type": "execute_result"
    },
    {
     "data": {
      "image/png": "[encoded data removed]",
      "text/plain": [
       "<Figure size 432x288 with 1 Axes>"
      ]
     },
     "metadata": {
      "needs_background": "light"
     },
     "output_type": "display_data"
    }
   ],
   "source": [
    "# plotagem por faixas de valores \n",
    "fig,ax = plt.subplots(1,1)\n",
    "p = resolve_ajuste(ano,hab,2)\n",
    "ax.grid(axis='x')\n",
    "v1 = np.ones(np.shape(ano))\n",
    "ax.fill_between(ano,100*v1,150*v1,alpha=0.1)\n",
    "ax.fill_between(ano,150*v1,200*v1,facecolor='r',alpha=0.1)"
   ]
  },
  {
   "attachments": {},
   "cell_type": "markdown",
   "metadata": {},
   "source": [
    "## Integração Numérica"
   ]
  },
  {
   "attachments": {},
   "cell_type": "markdown",
   "metadata": {},
   "source": [
    "### Função-base para integrais de Newton-Cotes"
   ]
  },
  {
   "cell_type": "code",
   "execution_count": 20,
   "metadata": {},
   "outputs": [],
   "source": [
    "def integral_newton_cotes(x,y,metodo):\n",
    "\n",
    "    # diff computa h = x[k+1] - x[k]; \n",
    "    # duplo diff retorna 0 se igualmente espaçado\n",
    "    h = np.diff(x)\n",
    "    hh = np.diff(h) \n",
    "\n",
    "    # verifica se vetor é, de fato, de zeros, dentro de tolerância\n",
    "    # se não, lança erro\n",
    "    np.testing.assert_allclose(hh, 0*hh, atol=1e-08)\n",
    "\n",
    "    # switch    \n",
    "    if metodo is 'trapezio':\n",
    "    \n",
    "        # montando vetor de somas y[k] + y[k+1]    \n",
    "        cs = np.cumsum(y)\n",
    "        u = np.concatenate((np.array([0]),cs[0:-2]))\n",
    "        ss = cs[1:]-u # somas \n",
    "\n",
    "        # integral (regra generalizada)\n",
    "        integral = h[0]/2*np.sum(ss)\n",
    "        \n",
    "    elif metodo is 'simpson13': \n",
    "        \n",
    "        if np.size(x) % 2 is 0:\n",
    "            raise ValueError('Regra de Simpson válida apenas para número ímpar de pontos.')    \n",
    "    \n",
    "        # constroi pesos \n",
    "        \n",
    "        # ignora primeiro e ultimo\n",
    "        ie = np.array(range(0,np.size(x)))\n",
    "        ie = ie[1:-1] % 2\n",
    "\n",
    "        # pesos para intermediarios\n",
    "        for v in range(np.size(ie)):\n",
    "            if ie[v] == 1:\n",
    "                ie[v] = 4\n",
    "            elif ie[v] == 0:\n",
    "                ie[v] = 1            \n",
    "    \n",
    "        # concatena para recriar \n",
    "        ie = np.concatenate(([1],ie,[1]))        \n",
    "        \n",
    "        # integral (regra generalizada)\n",
    "        integral = h[0]/3*(np.sum(y*ie))\n",
    "        \n",
    "            \n",
    "    return integral \n"
   ]
  },
  {
   "attachments": {},
   "cell_type": "markdown",
   "metadata": {},
   "source": [
    "### Exemplo \n",
    "\n",
    "Integração numérica pela regra do trapézio para a função \n",
    "$$\\int_{a=0}^{b=\\pi} [ {\\rm sen}(3x + 2) + 0.5\\pi ] \\, dx \\approx I_T $$\n"
   ]
  },
  {
   "cell_type": "code",
   "execution_count": 21,
   "metadata": {},
   "outputs": [
    {
     "data": {
      "text/plain": [
       "4.799420241706493"
      ]
     },
     "execution_count": 21,
     "metadata": {},
     "output_type": "execute_result"
    }
   ],
   "source": [
    "# função\n",
    "a = 0\n",
    "b = np.pi\n",
    "x = np.linspace(a,b,num=5,endpoint=True)\n",
    "f = lambda x: np.sin(3*x + 2) + np.pi/2\n",
    "y = f(x)\n",
    "\n",
    "# integração por trapézio\n",
    "integral_newton_cotes(x,y,'trapezio')"
   ]
  },
  {
   "cell_type": "code",
   "execution_count": 22,
   "metadata": {},
   "outputs": [
    {
     "data": {
      "image/png": "[encoded data removed]",
      "text/plain": [
       "<Figure size 432x288 with 1 Axes>"
      ]
     },
     "metadata": {
      "needs_background": "light"
     },
     "output_type": "display_data"
    }
   ],
   "source": [
    "# plotagem dos trapézios\n",
    "plt.stem(x,y,'-ok',basefmt='k-',use_line_collection=True)\n",
    "plt.plot(x,y,'-k',label='$I_T$')\n",
    "plt.fill_between(x,0*y,y,facecolor='r',alpha=0.1)\n",
    "\n",
    "# \"imitação\" da função contínua\n",
    "xx = np.linspace(a,b,num=200,endpoint=True)\n",
    "plt.plot(xx,f(xx),color=[0.5,0.5,0.5],label='$f(x)$')\n",
    "plt.legend();"
   ]
  },
  {
   "attachments": {},
   "cell_type": "markdown",
   "metadata": {},
   "source": [
    "### Exemplo \n",
    "\n",
    "Idem, para regra 1/3 de Simpson $I_S$"
   ]
  },
  {
   "cell_type": "code",
   "execution_count": 23,
   "metadata": {},
   "outputs": [
    {
     "data": {
      "text/plain": [
       "4.016218444253924"
      ]
     },
     "execution_count": 23,
     "metadata": {},
     "output_type": "execute_result"
    }
   ],
   "source": [
    "# integração por 1/3 Simpson \n",
    "\n",
    "integral_newton_cotes(x,y,'simpson13')"
   ]
  },
  {
   "attachments": {},
   "cell_type": "markdown",
   "metadata": {},
   "source": [
    "## Função residente em Python para integração"
   ]
  },
  {
   "cell_type": "code",
   "execution_count": 24,
   "metadata": {},
   "outputs": [],
   "source": [
    "import scipy.integrate as sp"
   ]
  },
  {
   "attachments": {},
   "cell_type": "markdown",
   "metadata": {},
   "source": [
    "### Exemplo\n",
    "Mesma função $f(x)$, agora calculada com o Scipy."
   ]
  },
  {
   "cell_type": "code",
   "execution_count": 25,
   "metadata": {},
   "outputs": [
    {
     "data": {
      "text/plain": [
       "(4.657370976179917, 1.5031433917569477e-13)"
      ]
     },
     "execution_count": 25,
     "metadata": {},
     "output_type": "execute_result"
    }
   ],
   "source": [
    "# scipy::quad (erro absoluto)\n",
    "integral_ = sp.quad(f,a,b)\n",
    "integral_"
   ]
  },
  {
   "attachments": {},
   "cell_type": "markdown",
   "metadata": {},
   "source": [
    "### solucao-L5-Q9"
   ]
  },
  {
   "cell_type": "code",
   "execution_count": 26,
   "metadata": {},
   "outputs": [
    {
     "name": "stdout",
     "output_type": "stream",
     "text": [
      "0.32146250000000026\n",
      "0.2857383333333336\n"
     ]
    },
    {
     "data": {
      "text/plain": [
       "(0.32148536841925296, 3.569204580991558e-15)"
      ]
     },
     "execution_count": 26,
     "metadata": {},
     "output_type": "execute_result"
    }
   ],
   "source": [
    "# dados\n",
    "x = np.array([1.00, 1.05, 1.10, 1.15, 1.20, 1.25, 1.30])\n",
    "y = np.array([1.0000, 1.0247, 1.0488, 1.0723, 1.0954, 1.1180, 1.1401])\n",
    "\n",
    "# integral implementada: trapézio\n",
    "print(integral_newton_cotes(x,y,'trapezio'))\n",
    "\n",
    "# integral implementada: 1/3 Simpson\n",
    "print(integral_newton_cotes(x,y,'simpson13'))\n",
    "\n",
    "# integral scipy: 1/3 Simpson\n",
    "\n",
    "f = lambda x: np.sqrt(x) \n",
    "sp.quad(f,x[0],x[-1])\n"
   ]
  },
  {
   "attachments": {},
   "cell_type": "markdown",
   "metadata": {},
   "source": [
    "### solucao-L5-Q10"
   ]
  },
  {
   "cell_type": "code",
   "execution_count": 27,
   "metadata": {},
   "outputs": [
    {
     "name": "stdout",
     "output_type": "stream",
     "text": [
      "0.8404750000000001\n",
      "0.7270900000000001\n",
      "(0.8414709848078965, 9.34220461887732e-15)\n",
      "0.83843\n",
      "0.6557999999999999\n",
      "(0.8414709848078965, 9.34220461887732e-15)\n"
     ]
    }
   ],
   "source": [
    "# caso h = 0.1\n",
    "x = np.array([0, 0.1, 0.2, 0.3, 0.4, 0.5, 0.6, 0.7, 0.8, 0.9, 1.0])\n",
    "y = np.array([1, 0.995, 0.980, 0.955, 0.921, 0.877, 0.825, 0.764, 0.696, 0.6216, 0.5403])\n",
    "\n",
    "print(integral_newton_cotes(x,y,'trapezio'))\n",
    "\n",
    "# integral implementada: 1/3 Simpson\n",
    "print(integral_newton_cotes(x,y,'simpson13'))\n",
    "\n",
    "# residente\n",
    "f = lambda x: np.cos(x) \n",
    "print(sp.quad(f,x[0],x[-1]))\n",
    "\n",
    "\n",
    "# caso h = 0.2\n",
    "x2 = np.concatenate((x[0:-1:2],[1]))\n",
    "y2 = np.concatenate((y[0:-1:2],[0.5403]))\n",
    "\n",
    "print(integral_newton_cotes(x2,y2,'trapezio')) # TODO <=== CHECAR ISTO AQUI!\n",
    "\n",
    "# integral implementada: 1/3 Simpson\n",
    "print(integral_newton_cotes(x2[0:-1],y2[0:-1],'simpson13'))\n",
    "\n",
    "# residente \n",
    "print(sp.quad(f,x2[0],x2[-1]))"
   ]
  },
  {
   "attachments": {},
   "cell_type": "markdown",
   "metadata": {},
   "source": [
    "### solucao-L5-Q11"
   ]
  },
  {
   "cell_type": "code",
   "execution_count": 28,
   "metadata": {},
   "outputs": [
    {
     "name": "stdout",
     "output_type": "stream",
     "text": [
      "0.39123050000000037\n",
      "0.35870866666666695\n",
      "(0.3915572767779624, 4.34715904138419e-15)\n"
     ]
    }
   ],
   "source": [
    "x = np.array([1.2, 1.3, 1.4, 1.5, 1.6])\n",
    "y = np.array([0.93204, 0.96356, 0.98545, 0.99749, 0.99957])\n",
    "\n",
    "print(integral_newton_cotes(x,y,'trapezio'))\n",
    "\n",
    "# integral implementada: 1/3 Simpson\n",
    "print(integral_newton_cotes(x,y,'simpson13'))\n",
    "\n",
    "# residente\n",
    "f = lambda x: np.sin(x) \n",
    "\n",
    "print(sp.quad(f,x[0],x[-1]))"
   ]
  },
  {
   "attachments": {},
   "cell_type": "markdown",
   "metadata": {},
   "source": [
    "### solucao L5-Q17 \n"
   ]
  },
  {
   "cell_type": "code",
   "execution_count": 29,
   "metadata": {},
   "outputs": [
    {
     "name": "stdout",
     "output_type": "stream",
     "text": [
      "3.0523917901871935\n",
      "3.0476097824918496\n"
     ]
    }
   ],
   "source": [
    "z = np.linspace(0,10,num=50,endpoint=True)\n",
    "f = lambda z: z/(4+z)*np.exp(-0.5*z)\n",
    "\n",
    "d = integral_newton_cotes(z,z*f(z),'trapezio')/integral_newton_cotes(z,f(z),'trapezio')\n",
    "print(d)\n",
    "\n",
    "# residente\n",
    "f2 = lambda z: ( z/(4+z)*np.exp(-0.5*z) )*z\n",
    "print(sp.quad(f2,0,10)[0]/sp.quad(f,0,10)[0])"
   ]
  },
  {
   "cell_type": "code",
   "execution_count": 30,
   "metadata": {},
   "outputs": [
    {
     "data": {
      "image/png": "[encoded data removed]",
      "text/plain": [
       "<Figure size 432x288 with 1 Axes>"
      ]
     },
     "metadata": {
      "needs_background": "light"
     },
     "output_type": "display_data"
    }
   ],
   "source": [
    "# plotagem da força\n",
    "plt.plot(f(z),z,label='$f(z)$')\n",
    "plt.plot(f(z),np.ones(np.shape(f(z)))*d,'--',label='$d$')\n",
    "plt.legend();"
   ]
  },
  {
   "attachments": {},
   "cell_type": "markdown",
   "metadata": {},
   "source": [
    "### QUADRATURA GAUSSIANA\n",
    "\n",
    "Algumas informações:\n",
    "\n",
    "- A quadratura gaussiana pode ser chamada como \n",
    "\n",
    "```python\n",
    "from scipy.integrate import quadrature\n",
    "```\n",
    "Depois de importar, veja \n",
    "\n",
    "```python              \n",
    "help(quadrature)\n",
    "```\n",
    "\n",
    "- A tabela de pesos de quadratura pode ser acessada no Numpy através do comando \n",
    "\n",
    "```python\n",
    "np.polynomial.legendre.leggauss(ord)\n",
    "```\n",
    "Integra exatamente polinômios de grau até \n",
    "\n",
    "```python\n",
    "2*ord - 1\n",
    "```"
   ]
  },
  {
   "attachments": {},
   "cell_type": "markdown",
   "metadata": {},
   "source": [
    "### solucao-L5-Q18a"
   ]
  },
  {
   "cell_type": "code",
   "execution_count": 31,
   "metadata": {},
   "outputs": [
    {
     "data": {
      "text/plain": [
       "(2.6666666666666665, 0.0)"
      ]
     },
     "execution_count": 31,
     "metadata": {},
     "output_type": "execute_result"
    }
   ],
   "source": [
    "from scipy.integrate import quadrature\n",
    "\n",
    "# integração\n",
    "f = lambda z: z**3 + z**2 + z + 1\n",
    "quadrature(f, -1, 1,maxiter=3) # grau máximo = 3; erro = 0"
   ]
  },
  {
   "cell_type": "code",
   "execution_count": 32,
   "metadata": {},
   "outputs": [
    {
     "data": {
      "text/plain": [
       "2.6666666666666665"
      ]
     },
     "execution_count": 32,
     "metadata": {},
     "output_type": "execute_result"
    }
   ],
   "source": [
    "# Verificando computação numérica x simbólica com Sympy\n",
    "import sympy as sy\n",
    "\n",
    "# cria símbolo para z\n",
    "zsym = sy.Symbol('z') \n",
    "\n",
    "# integração\n",
    "f = zsym**3 + zsym**2 + zsym + 1\n",
    "val = sy.integrate(f, (zsym,-1,1))\n",
    "float(val)"
   ]
  },
  {
   "attachments": {},
   "cell_type": "markdown",
   "metadata": {},
   "source": [
    "### solucao-L5-Q18b"
   ]
  },
  {
   "cell_type": "code",
   "execution_count": 33,
   "metadata": {},
   "outputs": [
    {
     "data": {
      "text/plain": [
       "(0.666666666666667, 2.220446049250313e-16)"
      ]
     },
     "execution_count": 33,
     "metadata": {},
     "output_type": "execute_result"
    }
   ],
   "source": [
    "# integração\n",
    "f = lambda x: x**2 -1\n",
    "quadrature(f, -2, 0,maxiter=3) "
   ]
  },
  {
   "cell_type": "code",
   "execution_count": 34,
   "metadata": {},
   "outputs": [
    {
     "data": {
      "text/plain": [
       "0.6666666666666666"
      ]
     },
     "execution_count": 34,
     "metadata": {},
     "output_type": "execute_result"
    }
   ],
   "source": [
    "# integração simbólica\n",
    "f = zsym**2 + -1\n",
    "val = sy.integrate(f, (zsym,-2,0))\n",
    "float(val)"
   ]
  },
  {
   "attachments": {},
   "cell_type": "markdown",
   "metadata": {},
   "source": [
    "#### Exemplos de integrandos com singularidades \n",
    "\n",
    "Esses casos não são bem manipulados pelo submódulo `integrate`."
   ]
  },
  {
   "attachments": {},
   "cell_type": "markdown",
   "metadata": {},
   "source": [
    "### solucao-L5-Q18c"
   ]
  },
  {
   "cell_type": "code",
   "execution_count": 35,
   "metadata": {},
   "outputs": [
    {
     "name": "stderr",
     "output_type": "stream",
     "text": [
      "/Users/gustavo/anaconda3/lib/python3.7/site-packages/scipy/integrate/quadrature.py:251: AccuracyWarning: maxiter (50) exceeded. Latest difference = 6.973792e-04\n",
      "  AccuracyWarning)\n"
     ]
    },
    {
     "data": {
      "text/plain": [
       "(1.1436022273829545, 0.0006973792417572788)"
      ]
     },
     "execution_count": 35,
     "metadata": {},
     "output_type": "execute_result"
    }
   ],
   "source": [
    "# função com singularidade\n",
    "\n",
    "# integração\n",
    "f = lambda x: ((1-x**2)**(-1/2))*x**2*x**2\n",
    "quadrature(f, -1, 1) "
   ]
  },
  {
   "attachments": {},
   "cell_type": "markdown",
   "metadata": {},
   "source": [
    "### solucao-L5-Q18d"
   ]
  },
  {
   "cell_type": "code",
   "execution_count": 36,
   "metadata": {},
   "outputs": [
    {
     "name": "stderr",
     "output_type": "stream",
     "text": [
      "/Users/gustavo/anaconda3/lib/python3.7/site-packages/scipy/integrate/quadrature.py:251: AccuracyWarning: maxiter (3) exceeded. Latest difference = 1.333333e+00\n",
      "  AccuracyWarning)\n"
     ]
    },
    {
     "data": {
      "text/plain": [
       "(3.3333333333333357, 1.333333333333336)"
      ]
     },
     "execution_count": 36,
     "metadata": {},
     "output_type": "execute_result"
    }
   ],
   "source": [
    "# função com singularidade \n",
    "\n",
    "# integração\n",
    "f = lambda x: (x**3 +2*x**2)/(4*(4-x**2)**1/2)\n",
    "quadrature(f, -2, 2,maxiter=3) "
   ]
  }
 ],
 "metadata": {
  "celltoolbar": "Edit Metadata",
  "ipub": {
   "listcode": true,
   "listfigures": true,
   "listtables": true,
   "titlepage": {
    "author": "Gustavo P. Oliveira e Smith Lima",
    "email": "gustavo.oliveira@ci.ufpb.br",
    "institution": "Universidade Federal da Paraíba",
    "subtitle": "Soluções - Lista 05",
    "tagline": "Em preparação.",
    "title": "Cálculo Numérico"
   },
   "toc": true
  },
  "kernelspec": {
   "display_name": "Python 3",
   "language": "python",
   "name": "python3"
  },
  "language_info": {
   "codemirror_mode": {
    "name": "ipython",
    "version": 3
   },
   "file_extension": ".py",
   "mimetype": "text/x-python",
   "name": "python",
   "nbconvert_exporter": "python",
   "pygments_lexer": "ipython3",
   "version": "3.7.4"
  }
 },
 "nbformat": 4,
 "nbformat_minor": 4
}
