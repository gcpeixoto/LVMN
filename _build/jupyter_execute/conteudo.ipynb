{
 "cells": [
  {
   "attachments": {},
   "cell_type": "markdown",
   "metadata": {},
   "source": [
    "# Laboratório Virtual de Métodos Numéricos - LVMN\n",
    "\n",
    "O Laboratório Virtual de Métodos Numéricos - LVMN é constituído de uma coleção de materiais digitais para cursos de graduação em ciências exatas, computacionais e engenharias que possuam disciplinas de métodos numéricos ou afins em seus currículos. \n",
    "\n",
    "## Sobre o curso\n",
    "\n",
    "Este conteúdo é ensinado na disciplina _Cálculo Numérico_ (GDCOC0072) ministrada pelo [Prof. Gustavo Oliveira](https://gcpeixoto.github.io) (UFPB/CI/DCC). O material começou a ser desenvolvido pelo professor no âmbito do [Projeto Numbiosis](http://numbiosis.ci.ufpb.br/pt/inicio/) em 2017. Até o ano de 2020, recebeu suporte do Programa Institucional de Monitoria com contribuições ativas. Desde então, o projeto segue com suporte reduzido e possui atualizações esporádicas. Aplicações em _javascript_ que simulam diversos métodos do curso foram desenvolvidas com uma contribuição considerável do egresso [Vinícius Veríssimo](https://github.com/Vnicius) e estão disponíveis [aqui](https://vnicius.github.io/numbiosis/).\n",
    "\n",
    "## Objetivos do LVMN\n",
    "\n",
    "Os objetivos gerais do LVMN são:\n",
    "\n",
    "- Apresentar o universo dos métodos numéricos a estudantes de graduação em ciências exatas;\n",
    "- Estimular a aprendizagem ativa através da resolução de projetos e problemas do mundo real; e \n",
    "- Fomentar a maturidade do pensamento computacional e as habilidades de programação através do ecossistema Python para métodos numéricos; \n",
    "\n",
    "## Programa geral do curso\n",
    "\n",
    "O curso contém uma série de materiais educativos que estimulam várias habilidades e proporcionam que estudantes com necessidades distintas de aprendizagem encontrem o recurso mais adequuado para si. O conteúdo está organizado em cadernos interativos que incluem:\n",
    "- exemplos teóricos e aplicados;\n",
    "- banco de dados de problemas reais;\n",
    "- algoritmos demonstrativos;\n",
    "- receitas de código; \n",
    "- sessões práticas dedicadas;\n",
    "- dicas de programação e\n",
    "- recortes suplementares.\n",
    "\n",
    "O curso cobre não apenas os assuntos clássicos que costumam ser ensinados em disciplinas equivalentes em qualquer curso superior de universidades nacionais ou estrangeiras, mas também traz inserções sobre assuntos modernos que se entrelaçam para produzir uma engenharia cada vez mais centrada em dados. O livro-texto pretende mostrar que conceitos tradicionais são a base para os _métodos numéricos de nova geração_, que criam interdisciplinaridade com temáticas do estado-da-arte, tais como aprendizado de máquina, redes neurais informadas pela física, modelos de ordem reduzida e outras técnicas que fazem interface com a ciência da computação e outaas áreas aplicadas.\n",
    "\n",
    "Abaixo vemos a estrutura do livro-texto organizada em seis partes maiores:\n",
    "\n",
    "### I. Modelagem e computação\n",
    "\n",
    "- [Aula 00 - Modelagem](aula-00-modelagem-programacao.ipynb)\n",
    "- [Aula 01 - Ponto flutuante](aula-01-ponto-flutuante.ipynb)\n",
    "- [Aula 02 - Erros numéricos](aula-02-erros.ipynb)\n",
    "\n",
    "### II. Determinação de raízes de equações unidimensionais\n",
    "\n",
    "- [Aula 03 - Análise gráfica](aula-03-analise-grafica.ipynb)\n",
    "- [Aula 04 - Bisseção](aula-04-bissecao.ipynb) <!-- - [Aula 05 - Ponto fixo](aula-05-ponto-fixo.ipynb) -->\n",
    "- [Aula 05 - Newton](aula-06-newton.ipynb)\n",
    "- [Aula 06 - Secante](aula-07-secante.ipynb)\n",
    "- [Aula 07 - Müller](aula-08-muller.ipynb)\n",
    "\n",
    "### III. Solução de sistemas de equações multidimensionais\n",
    "\n",
    "- [Aula 08 - Elementos de Álgebra Linear Computacional](aula-08a-matrizes-vetores.ipynb)\n",
    "- [Aula 09 - Eliminação Gaussiana](aula-09-eliminacao-gauss.ipynb)\n",
    "- [Aula 10 - Fatoração LU](aula-10-fatoracao-lu.ipynb)\n",
    "- [Aula 11 - Cholesky](aula-11-cholesky.ipynb)\n",
    "- [Aula 12 - Jacobi](aula-12-jacobi.ipynb)\n",
    "- [Aula 13 - Newton não-linear](aula-13-newton-nao-linear.ipynb)\n",
    "\n",
    "### IV. Ajuste de curvas\n",
    "\n",
    "- [Aula 14 - Interpolação de Lagrange](aula-14-interpolacao-lagrange.ipynb)\n",
    "- [Aula 15 - Interpolação de Newton](aula-15-interpolacao-newton.ipynb)\n",
    "- [Aula 16 - Mínimos quadrados](aula-16-minimos-quadrados.ipynb)\n",
    "- [Aula 17 - Regressão não linear](aula-17-ajusteNaoLinear.ipynb)\n",
    "\n",
    "### V. Fórmulas de integração numérica \n",
    "\n",
    "- [Aula 18 - Integração por Newton-Cotes](aula-18-integracao-newtonCotes.ipynb)\n",
    "- [Aula 19 - Quadratura Gaussiana](aula-19-quadratura-gaussiana.ipynb)\n",
    "\n",
    "### VI. Diferenciação numérica e solução de equações diferenciais\n",
    "\n",
    "- [Aula 20 - Diferenciação numérica](aula-20-diferenciacao-numerica.ipynb)\n",
    "- [Aula 21 - Solução numérica de EDOs](aula-21-solucoes-edo.ipynb)\n",
    "- [Aula 22 - Método de Euler](aula-22-metodo-euler.ipynb)\n",
    "- [Aula 23 - Métodos de Taylor e Runge-Kutta de 2a. ordem](aula-23-taylor-rungeKutta.ipynb)"
   ]
  },
  {
   "cell_type": "markdown",
   "metadata": {},
   "source": [
    "# _Code sessions_\n",
    "\n",
    "As sessões de código (_code sessions_) são aulas dedicadas ao estudo de funções de utilidade predefinidas em módulos Python para resolução direta de problemas aplicados. Essas funções são apresentadas como \"receitas prontas\" que abrem caminhos para implementações de maior complexidade. \n",
    "\n",
    "- [Code session 1 - bisect](code-sessions/codeSession-1-bisect.ipynb)\n",
    "- [Code session 2 - newton](code-sessions/codeSession-2-newton.ipynb)\n",
    "- [Code session 3 - roots](code-sessions/codeSession-3-polyval.ipynb)\n",
    "- [Code session 4 - fsolve](code-sessions/codeSession-4-fsolve.ipynb)\n",
    "- [Code session 5 - solve](code-sessions/codeSession-5-solve.ipynb)\n",
    "- [Code session 6 - interp](code-sessions/codeSession-6-interp.ipynb)\n",
    "- [Code session 7 - fit](code-sessions/codeSession-7-fit.ipynb)\n",
    "- [Code session 8 - integrate](code-sessions/codeSession-8-integrate.ipynb)\n",
    "- [Code session 9 - solve_ivp](code-sessions/codeSession-9-solve_ivp.ipynb)\n",
    "\n",
    "## Listas de exercícios\n",
    "\n",
    "Estes cadernos interativos contém o solucionário matemático e computacional de alguns exercícios gerais de menor complexidade. As listas são apenas para fixação de conceitos. \n",
    "\n",
    "_Obs.: este conteúdo será descontinuado no futuro._\n",
    "\n",
    "- [Lista 1](lista-1-solucoes.ipynb)\n",
    "- [Lista 2](lista-2-solucoes.ipynb)\n",
    "- [Lista 3](lista-3-solucoes.ipynb) \n",
    "- [Lista 4](lista-4-solucoes.ipynb) \n",
    "- [Lista 5](lista-5-solucoes.ipynb)\n",
    "- [Lista 6](lista-6-solucoes.ipynb) "
   ]
  },
  {
   "attachments": {},
   "cell_type": "markdown",
   "metadata": {},
   "source": [
    "## Conteúdo Extra\n",
    "\n",
    "Alguns materiais complementares não contemplados no curso regular ou não explorados com maior detalhamento são fornecidos aqui para aguçar o interesse de estudantes para temas que orbitam ao redor dos métodos numéricos e são úteis para aplicações gerais.\n",
    "\n",
    "- [Números em ponto flutuante e seus problemas](extra/extra-pontoFlutuante.ipynb)\n",
    "- [Malhas numéricas](extra/extra-malhasNumericas.ipynb)\n",
    "- [Plotagem com _matplotlib_: tópicos especiais](extra/extra-matplotlibTopicos.ipynb)\n",
    "- [Campos de direção para EDOs](extra/extra-camposDirecaoEDO.ipynb)\n",
    "- [Melhoramentos do método de Euler](extra/extra-eulerMelhorado.ipynb)\n",
    "- [Estabilidade do método de Euler](extra/extra-estabilidadeEuler.ipynb)\n",
    "- [Método de Euler implícito](extra/extra-eulerImplicito.ipynb)\n",
    "- [Métodos de múltiplos passos: _Adams-Bashfort_](extra/extra-multistep-adamsBashfort.ipynb)\n",
    "- [EDOs de ordem superior](extra/extra-edoSuperior.ipynb)\n",
    "- [Sistemas de EDOs](extra/extra-sistemasEDO.ipynb)\n",
    "- [Transformada de Fourier](extra/extra-fft.ipynb)\n",
    "- [Otimização de código](extra/extra-numba.ipynb)\n",
    "- [Documentação de código](extra/extra-docstrings.ipynb)"
   ]
  },
  {
   "cell_type": "markdown",
   "metadata": {},
   "source": [
    "## Recortes\n",
    "\n",
    "Os recortes contemplam curiosidades ou anedotas sobre tópicos variados. Acesse-os pela barra lateral de navegação.\n",
    "\n",
    "_Obs.: este conteúdo está sendo gradualmente incorporado no livro-texto e será descontinuado no futuro_."
   ]
  },
  {
   "attachments": {},
   "cell_type": "markdown",
   "metadata": {},
   "source": [
    "## Livro complementar\n",
    "\n",
    "Python é a linguagem escolhida para o curso devido à sua disponibilidade gratuita, versatilidade e facilidade de aprendizagem. Como forma de nivelamento dos estudantes que não possuem experiência com Python, o livro [Introdução à Linguagem Python para Ciências Computacionais e Engenharia](https://gcpeixoto.github.io/lecture-ipynb/indice.html), traduzido pelo professor, tem o propósito de fornecer conhecimento básico da linguagem para uso no curso e uma oportunidade de estudo paralelo. Caso você se enquadre neste grupo de estudantes, não deixe de consultar este material."
   ]
  },
  {
   "attachments": {},
   "cell_type": "markdown",
   "metadata": {},
   "source": [
    "## Como contribuir?\n",
    "\n",
    "O projeto Numbiosis não recebe financiamento direto para bolsas. Todo o conteúdo é desenvolvido pelo Prof. Gustavo Oliveira e alunos (monitores e/ou tutores bolsistas ou voluntários, bem como aqueles que se matriculam no curso e contribuem com melhorias). O material passa por revisões periodicamente, mas possui suporte limitado.\n",
    "\n",
    "Você é estudante da UFPB e gostaria de contribuir com o projeto? Entre em contato com o Prof. Gustavo.\n",
    "\n",
    "### Alguns temas abertos no âmbito do projeto Numbiosis\n",
    "\n",
    "- Implementação de gráficos interativos para visualização 3D de processos iterativos.\n",
    "- Desenvolvimento de APIs para integração de códigos da base Numbiosis em Github/Gitlab.\n",
    "- Configuração de web server JupyterHub para hospedagem de materiais para mini-cursos remotos.\n",
    "- Desenvolvimento de códigos demonstrativos em Python para aplicações em Engenharias.\n",
    "- Geração de material didático portável (projeto de ensino).\n",
    "- Integração de ferramentas de _autograding_.\n",
    "- Programação orientada a objetos para criação de _smart courses_ (módulos para geração de questões customizadas, avaliações e compilações em Latex)."
   ]
  },
  {
   "attachments": {},
   "cell_type": "markdown",
   "metadata": {},
   "source": [
    "## Iniciação científica e outros projetos\n",
    "\n",
    "Consulte projetos nos horizontes estratégicos do [TRIL Lab](http://tril.ci.ufpb.br). Estamos no [Centro de Informática](http://ci.ufpb.br) da UFPB. Alguns temas de interesse são:\n",
    "\n",
    "- Computação científica para aplicações em engenharia\n",
    "- Ciência de dados para o setor energético \n",
    "- Dinâmica dos fluidos computacional"
   ]
  }
 ],
 "metadata": {
  "kernelspec": {
   "display_name": "Python 3 (ipykernel)",
   "language": "python",
   "name": "python3"
  },
  "language_info": {
   "codemirror_mode": {
    "name": "ipython",
    "version": 3
   },
   "file_extension": ".py",
   "mimetype": "text/x-python",
   "name": "python",
   "nbconvert_exporter": "python",
   "pygments_lexer": "ipython3",
   "version": "3.10.10"
  },
  "vscode": {
   "interpreter": {
    "hash": "b0fa6594d8f4cbf19f97940f81e996739fb7646882a419484c72d19e05852a7e"
   }
  }
 },
 "nbformat": 4,
 "nbformat_minor": 4
}