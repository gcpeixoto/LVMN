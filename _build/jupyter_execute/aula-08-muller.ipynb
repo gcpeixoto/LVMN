{
 "cells": [
  {
   "cell_type": "markdown",
   "metadata": {},
   "source": [
    "# Raízes de polinômios com o método de Müller"
   ]
  },
  {
   "cell_type": "code",
   "execution_count": 1,
   "metadata": {},
   "outputs": [],
   "source": [
    "%matplotlib inline"
   ]
  },
  {
   "cell_type": "markdown",
   "metadata": {},
   "source": [
    "## Computação com polinômios\n",
    "\n",
    "Como exemplo, vamos implementar a forma aninhada de um polinômio de grau 3 (também conhecida como **forma de Hörner**)"
   ]
  },
  {
   "cell_type": "code",
   "execution_count": 2,
   "metadata": {},
   "outputs": [],
   "source": [
    "import sympy as sy\n",
    "import numpy as np\n",
    "import matplotlib.pyplot as plt\n",
    "\n",
    "sy.init_printing()\n",
    "\n",
    "# escreve a forma aninhada de um polinomio de grau n\n",
    "\n",
    "# grau do polinomio\n",
    "n = 3\n",
    "\n",
    "# variavel independente\n",
    "x = sy.Symbol('x');       \n",
    "\n",
    "# coeficientes do polinomio\n",
    "a = [ sy.Symbol('a'+ str(i)) \\\n",
    "     for i in range(0,n+1) ] \n",
    "\n",
    "# forma aninhada simbolica\n",
    "p, dp = 0, 0\n",
    "for j in range(n,-1,-1):\n",
    "    dp = dp*x + p\n",
    "    p  = a[j] + p*x\n",
    "    \n",
    "# determinacao de derivada de modo simbolico \n",
    "dp2 = sy.diff(p,x)"
   ]
  },
  {
   "cell_type": "markdown",
   "metadata": {},
   "source": [
    "Imprimindo o polinômio simbólico"
   ]
  },
  {
   "cell_type": "code",
   "execution_count": 3,
   "metadata": {},
   "outputs": [
    {
     "data": {
      "image/png": "[encoded data removed]",
      "text/latex": [
       "$\\displaystyle a_{0} + x \\left(a_{1} + x \\left(a_{2} + a_{3} x\\right)\\right)$"
      ],
      "text/plain": [
       "a₀ + x⋅(a₁ + x⋅(a₂ + a₃⋅x))"
      ]
     },
     "execution_count": 3,
     "metadata": {
      "filenames": {
       "image/png": "/Users/gustavo/Dropbox/courses/calculo-numerico/ipynb-lab-metodos-numericos/_build/jupyter_execute/aula-08-muller_5_0.png"
      }
     },
     "output_type": "execute_result"
    }
   ],
   "source": [
    "p"
   ]
  },
  {
   "cell_type": "markdown",
   "metadata": {},
   "source": [
    "Imprimindo a derivada simbólica do polinômio implementada pelo usuário"
   ]
  },
  {
   "cell_type": "code",
   "execution_count": 4,
   "metadata": {},
   "outputs": [
    {
     "data": {
      "image/png": "[encoded data removed]",
      "text/latex": [
       "$\\displaystyle a_{1} + x \\left(a_{2} + a_{3} x\\right) + x \\left(a_{2} + 2 a_{3} x\\right)$"
      ],
      "text/plain": [
       "a₁ + x⋅(a₂ + a₃⋅x) + x⋅(a₂ + 2⋅a₃⋅x)"
      ]
     },
     "execution_count": 4,
     "metadata": {
      "filenames": {
       "image/png": "/Users/gustavo/Dropbox/courses/calculo-numerico/ipynb-lab-metodos-numericos/_build/jupyter_execute/aula-08-muller_7_0.png"
      }
     },
     "output_type": "execute_result"
    }
   ],
   "source": [
    "dp"
   ]
  },
  {
   "cell_type": "markdown",
   "metadata": {},
   "source": [
    "Imprimindo a derivada simbólica do polinômio pela função residente `diff`"
   ]
  },
  {
   "cell_type": "code",
   "execution_count": 5,
   "metadata": {},
   "outputs": [
    {
     "data": {
      "image/png": "[encoded data removed]",
      "text/latex": [
       "$\\displaystyle a_{1} + x \\left(a_{2} + a_{3} x\\right) + x \\left(a_{2} + 2 a_{3} x\\right)$"
      ],
      "text/plain": [
       "a₁ + x⋅(a₂ + a₃⋅x) + x⋅(a₂ + 2⋅a₃⋅x)"
      ]
     },
     "execution_count": 5,
     "metadata": {
      "filenames": {
       "image/png": "/Users/gustavo/Dropbox/courses/calculo-numerico/ipynb-lab-metodos-numericos/_build/jupyter_execute/aula-08-muller_9_0.png"
      }
     },
     "output_type": "execute_result"
    }
   ],
   "source": [
    "dp2"
   ]
  },
  {
   "cell_type": "markdown",
   "metadata": {},
   "source": [
    "Verificando igualdade"
   ]
  },
  {
   "cell_type": "code",
   "execution_count": 6,
   "metadata": {},
   "outputs": [
    {
     "data": {
      "text/plain": [
       "True"
      ]
     },
     "execution_count": 6,
     "metadata": {},
     "output_type": "execute_result"
    }
   ],
   "source": [
    "dp == dp2"
   ]
  },
  {
   "cell_type": "markdown",
   "metadata": {},
   "source": [
    "## Calculando raízes de polinômios"
   ]
  },
  {
   "cell_type": "code",
   "execution_count": 7,
   "metadata": {},
   "outputs": [
    {
     "name": "stdout",
     "output_type": "stream",
     "text": [
      "x*(x*(4*x + 3.5) + 2.2) - 1\n"
     ]
    }
   ],
   "source": [
    "# define valores dos coeficientes aj para o polinômio\n",
    "# na ordem a0 + a1x + a2x**2 + ...\n",
    "v = [-1, 2.2,3.5,4]\n",
    "\n",
    "# escreve o polinômio\n",
    "pn = p.subs(dict(zip(a,v)))\n",
    "print(pn)"
   ]
  },
  {
   "cell_type": "markdown",
   "metadata": {},
   "source": [
    "Calcula todas as raízes do polinômio `pn`"
   ]
  },
  {
   "cell_type": "code",
   "execution_count": 8,
   "metadata": {},
   "outputs": [
    {
     "data": {
      "image/png": "[encoded data removed]",
      "text/latex": [
       "$\\displaystyle \\left[ 0.28424794239786, \\  -0.57962397119893 - 0.737258363375504 i, \\  -0.57962397119893 + 0.737258363375504 i\\right]$"
      ],
      "text/plain": [
       "[0.28424794239786, -0.57962397119893 - 0.737258363375504⋅ⅈ, -0.57962397119893 \n",
       "+ 0.737258363375504⋅ⅈ]"
      ]
     },
     "execution_count": 8,
     "metadata": {
      "filenames": {
       "image/png": "/Users/gustavo/Dropbox/courses/calculo-numerico/ipynb-lab-metodos-numericos/_build/jupyter_execute/aula-08-muller_15_0.png"
      }
     },
     "output_type": "execute_result"
    }
   ],
   "source": [
    "rc = sy.roots(pn,x,multiple=True)\n",
    "rc"
   ]
  },
  {
   "cell_type": "markdown",
   "metadata": {},
   "source": [
    "Calcula apenas as raízes reais de `pn`"
   ]
  },
  {
   "cell_type": "code",
   "execution_count": 9,
   "metadata": {},
   "outputs": [
    {
     "data": {
      "image/png": "[encoded data removed]",
      "text/latex": [
       "$\\displaystyle \\left[ 0.28424794239786\\right]$"
      ],
      "text/plain": [
       "[0.28424794239786]"
      ]
     },
     "execution_count": 9,
     "metadata": {
      "filenames": {
       "image/png": "/Users/gustavo/Dropbox/courses/calculo-numerico/ipynb-lab-metodos-numericos/_build/jupyter_execute/aula-08-muller_17_0.png"
      }
     },
     "output_type": "execute_result"
    }
   ],
   "source": [
    "rr = sy.roots(pn,x,multiple=True,filter='R')\n",
    "rr"
   ]
  },
  {
   "cell_type": "markdown",
   "metadata": {},
   "source": [
    "## Avaliando polinômios\n",
    "\n",
    "Podemos avaliar polinômios usando a função `polyval` do _Numpy_. Entretanto, como ela recebe coeficientes do maior para o menor grau, para mantermos a consistência com nosso polinômio anterior, devemos converter a lista `v` para um objeto `array` e fazer uma inversão (`flip`)."
   ]
  },
  {
   "cell_type": "code",
   "execution_count": 10,
   "metadata": {},
   "outputs": [
    {
     "data": {
      "text/plain": [
       "array([ 4. ,  3.5,  2.2, -1. ])"
      ]
     },
     "execution_count": 10,
     "metadata": {},
     "output_type": "execute_result"
    }
   ],
   "source": [
    "vi = np.flip(np.asarray(v),axis=0)\n",
    "vi"
   ]
  },
  {
   "cell_type": "markdown",
   "metadata": {},
   "source": [
    "Agora, vamos avaliar o polinômio em $x=\\pi$"
   ]
  },
  {
   "cell_type": "code",
   "execution_count": 11,
   "metadata": {},
   "outputs": [
    {
     "data": {
      "image/png": "[encoded data removed]",
      "text/latex": [
       "$\\displaystyle 164.48022596290957$"
      ],
      "text/plain": [
       "164.48022596290957"
      ]
     },
     "execution_count": 11,
     "metadata": {
      "filenames": {
       "image/png": "/Users/gustavo/Dropbox/courses/calculo-numerico/ipynb-lab-metodos-numericos/_build/jupyter_execute/aula-08-muller_21_0.png"
      }
     },
     "output_type": "execute_result"
    }
   ],
   "source": [
    "xi = np.pi\n",
    "np.polyval(vi,xi)"
   ]
  },
  {
   "cell_type": "markdown",
   "metadata": {},
   "source": [
    "Note que se avaliássemos o polinômio em um ponto arbitrário, a forma impressa é idêntica àquela que obtivemos anteriormente."
   ]
  },
  {
   "cell_type": "code",
   "execution_count": 12,
   "metadata": {},
   "outputs": [
    {
     "data": {
      "image/png": "[encoded data removed]",
      "text/latex": [
       "$\\displaystyle x \\left(x \\left(4.0 x + 3.5\\right) + 2.2\\right) - 1.0$"
      ],
      "text/plain": [
       "x⋅(x⋅(4.0⋅x + 3.5) + 2.2) - 1.0"
      ]
     },
     "execution_count": 12,
     "metadata": {
      "filenames": {
       "image/png": "/Users/gustavo/Dropbox/courses/calculo-numerico/ipynb-lab-metodos-numericos/_build/jupyter_execute/aula-08-muller_23_0.png"
      }
     },
     "output_type": "execute_result"
    }
   ],
   "source": [
    "np.polyval(vi,x)"
   ]
  },
  {
   "cell_type": "markdown",
   "metadata": {},
   "source": [
    "Agora vamos plotar o polinômio. Antes, vamos converter nosso polinômio para uma função a fim de a avaliarmos em um intervalo. Vamos escolher o intervalo $-1 \\le x \\le 1$"
   ]
  },
  {
   "cell_type": "code",
   "execution_count": 13,
   "metadata": {},
   "outputs": [
    {
     "data": {
      "image/png": "[encoded data removed]",
      "text/plain": [
       "<Figure size 432x288 with 1 Axes>"
      ]
     },
     "metadata": {
      "filenames": {
       "image/png": "/Users/gustavo/Dropbox/courses/calculo-numerico/ipynb-lab-metodos-numericos/_build/jupyter_execute/aula-08-muller_25_0.png"
      },
      "needs_background": "light"
     },
     "output_type": "display_data"
    }
   ],
   "source": [
    "# converte para função\n",
    "f = sy.lambdify(x,pn)\n",
    "\n",
    "# intervalo\n",
    "xf = np.linspace(-1,1,num=20,endpoint=True)\n",
    "\n",
    "# plotagem do polinômio com destaque para a raiz real\n",
    "plt.axhline(y=f(rr[0]),c='r',ls='--')\n",
    "plt.axvline(x=rr[0],c='r',ls='--')\n",
    "plt.plot(xf,f(xf))\n",
    "plt.plot(rr[0],f(rr[0]),'ro')\n",
    "plt.xlabel('$x$')\n",
    "plt.ylabel('$P(x)$');"
   ]
  },
  {
   "cell_type": "markdown",
   "metadata": {},
   "source": [
    "## Implementação: Método de Müller"
   ]
  },
  {
   "cell_type": "code",
   "execution_count": 14,
   "metadata": {},
   "outputs": [],
   "source": [
    "# \\TODO caso complexo (verificar aritmética)\n",
    "def metodo_muller(f,x0,dx,EPS,N):\n",
    "    \"\"\"\n",
    "        Busca aproximação para raiz da função f\n",
    "        pelo método de Muller.\n",
    "        \n",
    "        ENTRADA: \n",
    "             f: função; ex. f = lambda x: x^3 + 2*x\n",
    "            x0: estimativa inicial \n",
    "             h: incremento (produz valores vizinhos)\n",
    "           EPS: erro\n",
    "             N: iterações\n",
    "        SAÍDA: \n",
    "             x: aproximação de raiz de f\n",
    "    \"\"\"\n",
    "    \n",
    "    if N < 3:\n",
    "        raise(\"N deve ser maior do que 3\")\n",
    "         \n",
    "    # escolhendo os dois pontos adicionais \n",
    "    # na vizinhança de x0 para ter as 3\n",
    "    # estimativas iniciais\n",
    "    x1 = x0 - dx\n",
    "    x2 = x0 + dx\n",
    "    \n",
    "    h0 = x1 - x0\n",
    "    h1 = x2 - x1\n",
    "    d0 = (f(x1) - f(x0))/h0\n",
    "    d1 = (f(x2) - f(x1))/h1\n",
    "    d = (d1 - d0)/(h1 + h0)\n",
    "    i = 3\n",
    "    while i <= N:\n",
    "\n",
    "        b = d1 + h1*d\n",
    "        \n",
    "        # discriminante \n",
    "        D = (b**2 - 4*f(x2)*d)**0.5        \n",
    "        \n",
    "        # Verificando o denominador:\n",
    "        # Esta condição irá definir o maior denominador\n",
    "        # haja vista que b + sgn(b)D.\n",
    "        # (critério de sgn(b))\n",
    "        if abs(b - D) < abs(b + D):\n",
    "            E = b + D\n",
    "        else:\n",
    "            E = b - D\n",
    "        \n",
    "        h = -2*f(x2)/E\n",
    "        x = x2 + h\n",
    "        if abs(h) < EPS:\n",
    "            return x\n",
    "        \n",
    "        # atualização\n",
    "        x0 = x1\n",
    "        x1 = x2\n",
    "        x2 = x        \n",
    "        h0 = x1 - x0\n",
    "        h1 = x2 - x1\n",
    "        d0 = (f(x1) - f(x0))/h0\n",
    "        d1 = (f(x2) - f(x1))/h1\n",
    "        d = (d1 - d0)/(h1 + h0)\n",
    "        \n",
    "        i += 1"
   ]
  },
  {
   "cell_type": "markdown",
   "metadata": {},
   "source": [
    "## Exemplos"
   ]
  },
  {
   "cell_type": "markdown",
   "metadata": {},
   "source": [
    "**Exemplo**. Determinando raízes para o polinômio $P(x) = 4x^3 + 3.5x^2 + 2.2x - 1$ com estimativas iniciais $x_0 = 0.5$ $x_1 = 1.0$ e $x_2 = 1.5$, $\\epsilon = 10^{-5}$ e $N = 100$. Notemos que o segundo argumento da função desempenha o papel de $x_1$ e o terceiro argumento opera como um \"raio\" de comprimento $dx = 0.5$ que fará com que $x_0 = x_1 - dx$ e $x_2 = x_1 + dx$. Isto decorre de como o a função foi programada. Veja o código anterior."
   ]
  },
  {
   "cell_type": "code",
   "execution_count": 15,
   "metadata": {},
   "outputs": [],
   "source": [
    "f = lambda x: 4*x**3 + 3.5*x**2 + 2.2*x - 1\n",
    "\n",
    "x0 = metodo_muller(f,1.0,0.5,1e-5,100)\n"
   ]
  },
  {
   "cell_type": "code",
   "execution_count": 16,
   "metadata": {},
   "outputs": [
    {
     "data": {
      "image/png": "[encoded data removed]",
      "text/plain": [
       "<Figure size 432x288 with 1 Axes>"
      ]
     },
     "metadata": {
      "filenames": {
       "image/png": "/Users/gustavo/Dropbox/courses/calculo-numerico/ipynb-lab-metodos-numericos/_build/jupyter_execute/aula-08-muller_31_0.png"
      },
      "needs_background": "light"
     },
     "output_type": "display_data"
    }
   ],
   "source": [
    "X = np.linspace(0.2,1.7,100)\n",
    "plt.plot(X,f(X))\n",
    "plt.plot(X,0*f(X))\n",
    "plt.axvline(x=x0.real,c='r',ls='--');"
   ]
  },
  {
   "cell_type": "markdown",
   "metadata": {},
   "source": [
    "**Exemplo**. Determinando raízes para o polinômio $P(x) = x^4 - 3x^3 + x^2 + x + 1$ com estimativas iniciais $x_0 = -0.5$ $x_1 = 0.0$ e $x_2 = 0.5$, $\\epsilon = 10^{-5}$ e $N = 100$. "
   ]
  },
  {
   "cell_type": "code",
   "execution_count": 17,
   "metadata": {},
   "outputs": [
    {
     "data": {
      "text/plain": [
       "(-0.3390928377617365-0.4466300999972928j)"
      ]
     },
     "execution_count": 17,
     "metadata": {},
     "output_type": "execute_result"
    }
   ],
   "source": [
    "f2 = lambda x: x**4 - 3*x**3 + x**2 + x + 1\n",
    "\n",
    "metodo_muller(f2,-0.5,0.5,1e-5,100)"
   ]
  },
  {
   "cell_type": "markdown",
   "metadata": {},
   "source": [
    "Com essas estimativas a raiz é um número complexo. Escolhamos agora estimativas diferentes: \n",
    "\n",
    "- Caso 1: $x_0 = 0.5$ $x_1 = 1.0$ e $x_2 = 1.5$\n",
    "- Caso 2: $x_0 = 1.5$ $x_1 = 2.0$ e $x_2 = 2.5$"
   ]
  },
  {
   "cell_type": "code",
   "execution_count": 18,
   "metadata": {},
   "outputs": [
    {
     "name": "stdout",
     "output_type": "stream",
     "text": [
      "1.3893906833348133\n"
     ]
    }
   ],
   "source": [
    "# caso 1\n",
    "c1 = metodo_muller(f2,1.5,0.5,1e-5,100)\n",
    "print(c1)"
   ]
  },
  {
   "cell_type": "code",
   "execution_count": 19,
   "metadata": {},
   "outputs": [
    {
     "name": "stdout",
     "output_type": "stream",
     "text": [
      "2.2887949921884836\n"
     ]
    }
   ],
   "source": [
    "# caso 2\n",
    "c2 = metodo_muller(f2,2.0,0.5,1e-5,100)\n",
    "print(c2)"
   ]
  },
  {
   "cell_type": "markdown",
   "metadata": {},
   "source": [
    "Por que há resultados diferentes? Vamos verificar o gráfico deste polinômio no domínio $[-1,2.8]$."
   ]
  },
  {
   "cell_type": "code",
   "execution_count": 20,
   "metadata": {},
   "outputs": [
    {
     "data": {
      "image/png": "[encoded data removed]",
      "text/plain": [
       "<Figure size 432x288 with 1 Axes>"
      ]
     },
     "metadata": {
      "filenames": {
       "image/png": "/Users/gustavo/Dropbox/courses/calculo-numerico/ipynb-lab-metodos-numericos/_build/jupyter_execute/aula-08-muller_38_0.png"
      },
      "needs_background": "light"
     },
     "output_type": "display_data"
    }
   ],
   "source": [
    "from matplotlib.pyplot import plot,legend\n",
    "from numpy import linspace, where, logical_and\n",
    "\n",
    "x = linspace(-1,2.8,50)\n",
    "plot(x,f2(x))\n",
    "plot(x,0*f2(x),':')\n",
    "xi = where( logical_and(x >= -0.5,x <= 0.5) )\n",
    "xi = x[xi]\n",
    "plot(xi,0*xi,'-g',label='intervalo onde a raiz é complexa')\n",
    "plot(c1,0,'or',c2,0,'or',label='raiz real')\n",
    "legend();\n"
   ]
  },
  {
   "cell_type": "markdown",
   "metadata": {},
   "source": [
    "Na primeira escolha de estimativas iniciais, obtivemos uma raiz complexa porque no intervalo $[-0.5,0.5]$, o polinômio não intersecta o eixo $x$. Nos outros dois casos, temos as duas raízes reais do polinômio."
   ]
  },
  {
   "cell_type": "code",
   "execution_count": 21,
   "metadata": {},
   "outputs": [],
   "source": [
    "from IPython.core.display import HTML\n",
    "\n",
    "def css_styling():\n",
    "    styles = open(\"styles/custom.css\", \"r\").read()\n",
    "    return HTML(styles)\n",
    "css_styling();"
   ]
  }
 ],
 "metadata": {
  "kernelspec": {
   "display_name": "Python 3",
   "language": "python",
   "name": "python3"
  },
  "language_info": {
   "codemirror_mode": {
    "name": "ipython",
    "version": 3
   },
   "file_extension": ".py",
   "mimetype": "text/x-python",
   "name": "python",
   "nbconvert_exporter": "python",
   "pygments_lexer": "ipython3",
   "version": "3.7.3"
  }
 },
 "nbformat": 4,
 "nbformat_minor": 4
}