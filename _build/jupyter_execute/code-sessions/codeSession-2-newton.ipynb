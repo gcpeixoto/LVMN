{
 "cells": [
  {
   "cell_type": "markdown",
   "metadata": {},
   "source": [
    "# _Code Session_ 2: Newton"
   ]
  },
  {
   "cell_type": "markdown",
   "metadata": {},
   "source": [
    "O propósito desta _Code Session_ é resolver problemas de determinação de raízes de equações não lineares polinomiais e transcendentais utilizando a função `newton` do módulo `scipy.optimize`. Replicaremos alguns problemas da _Code Session_ 1 e faremos algumas adições."
   ]
  },
  {
   "cell_type": "code",
   "execution_count": 12,
   "metadata": {},
   "outputs": [],
   "source": [
    "# Importação de módulos\n",
    "import numpy as np, matplotlib.pyplot as plt, sympy as sy"
   ]
  },
  {
   "cell_type": "markdown",
   "metadata": {},
   "source": [
    "## Determinação de raízes"
   ]
  },
  {
   "cell_type": "markdown",
   "metadata": {},
   "source": [
    "## `newton`\n",
    "\n",
    "A função `newton` localiza a raiz de uma função dentro de um intervalo dado usando o método de Newton, sob especificação da primeira derivada. Os argumentos de entrada obrigatórios desta função são: \n",
    "\n",
    "1. a função-alvo `f` (contínua)\n",
    "2. a estimativa inicial `x0`\n",
    "\n",
    "Os parâmetros opcionais relevantes são: \n",
    "\n",
    "- `fprime`: a derivada da função, quando disponível. Caso ela não seja especificada, o _método da secante_ é usado. \n",
    "- `fprime2`: a segunda derivada da função, quando disponível. Se ela for especificada, o _método de Halley_ é usado. \n",
    "- `tol`: tolerância (padrão: 1.48e-08)\n",
    "- `maxiter`: número máximo de iterações (padrão: 50)\n",
    "- `disp`: mostra erro se algoritmo não convergir (padrão: True) \n",
    "\n",
    "O argumento de saída é:\n",
    "\n",
    "- `x`: a estimativa para a raiz de `f`"
   ]
  },
  {
   "cell_type": "code",
   "execution_count": 3,
   "metadata": {},
   "outputs": [],
   "source": [
    "# Importação de 'newton'\n",
    "from scipy.optimize import newton"
   ]
  },
  {
   "cell_type": "markdown",
   "metadata": {},
   "source": [
    "### Problema 1\n",
    "\n",
    "Encontre a menor raiz positiva (real) de $x^{3} - 3.23x^{2} - 5.54x + 9.84 = 0$ pelo método de Newton."
   ]
  },
  {
   "cell_type": "markdown",
   "metadata": {},
   "source": [
    "#### Resolução"
   ]
  },
  {
   "cell_type": "markdown",
   "metadata": {},
   "source": [
    "Definimos a função e sua primeira derivada."
   ]
  },
  {
   "cell_type": "code",
   "execution_count": 4,
   "metadata": {},
   "outputs": [],
   "source": [
    "# Função primitiva\n",
    "def f(x): \n",
    "    return x**3 - 3.23*x**2 - 5.54*x + 9.84\n",
    "\n",
    "# 1a. derivada\n",
    "def df(x):\n",
    "    return 3*x**2 - 2*3.23*x - 5.54"
   ]
  },
  {
   "cell_type": "markdown",
   "metadata": {},
   "source": [
    "Realizamos a análise gráfica."
   ]
  },
  {
   "cell_type": "code",
   "execution_count": 14,
   "metadata": {
    "tags": []
   },
   "outputs": [
    {
     "data": {
      "image/png": "[encoded data removed]",
      "text/plain": [
       "<Figure size 432x288 with 1 Axes>"
      ]
     },
     "metadata": {
      "filenames": {
       "image/png": "/Users/gustavo/Dropbox/courses/calculo-numerico/LVMN/_build/jupyter_execute/code-sessions/codeSession-2-newton_11_0.png"
      },
      "needs_background": "light"
     },
     "output_type": "display_data"
    }
   ],
   "source": [
    "# Análise gráfica \n",
    "x = np.linspace(-4,5)\n",
    "plt.plot(x,f(x))\n",
    "plt.plot(x,df(x))\n",
    "plt.axhline(y=0,color='k',ls='--')\n",
    "plt.legend(['$f(x)$','$f\\'(x)$','$y=0$'],\n",
    "           loc='lower right');"
   ]
  },
  {
   "cell_type": "markdown",
   "metadata": {},
   "source": [
    "Vamos realizar um estudo de diferentes estimativas iniciais e ver o que acontece."
   ]
  },
  {
   "cell_type": "markdown",
   "metadata": {},
   "source": [
    "##### Estimativa inicial: $x_0 = -1$"
   ]
  },
  {
   "cell_type": "code",
   "execution_count": 16,
   "metadata": {},
   "outputs": [
    {
     "name": "stdout",
     "output_type": "stream",
     "text": [
      "Raiz: x = -2.000000\n"
     ]
    }
   ],
   "source": [
    "x0 = -1.\n",
    "x = newton(f,x0,df) # raiz \n",
    "print('Raiz: x = %f' % x)"
   ]
  },
  {
   "cell_type": "markdown",
   "metadata": {},
   "source": [
    "##### Estimativa inicial: $x_0 = 0$"
   ]
  },
  {
   "cell_type": "code",
   "execution_count": 17,
   "metadata": {},
   "outputs": [
    {
     "name": "stdout",
     "output_type": "stream",
     "text": [
      "Raiz: x = 1.230000\n"
     ]
    }
   ],
   "source": [
    "x0 = 0.\n",
    "x = newton(f,x0,df) # raiz \n",
    "print('Raiz: x = %f' % x)"
   ]
  },
  {
   "cell_type": "markdown",
   "metadata": {},
   "source": [
    "##### Estimativa inicial: $x_0 = 3$"
   ]
  },
  {
   "cell_type": "code",
   "execution_count": 18,
   "metadata": {},
   "outputs": [
    {
     "name": "stdout",
     "output_type": "stream",
     "text": [
      "Raiz: x = 4.000000\n"
     ]
    }
   ],
   "source": [
    "x0 = 3.\n",
    "x = newton(f,x0,df) # raiz \n",
    "print('Raiz: x = %f' % x)"
   ]
  },
  {
   "cell_type": "markdown",
   "metadata": {},
   "source": [
    "### Problema 2\n",
    "\n",
    "Determine a menor raiz não nula positiva de $\\cosh(x) \\cos(x) - 1 = 0$ dentro do intervalo $(4,5)$."
   ]
  },
  {
   "cell_type": "markdown",
   "metadata": {},
   "source": [
    "#### Resolução:"
   ]
  },
  {
   "cell_type": "markdown",
   "metadata": {},
   "source": [
    "Primeiramente, vamos escrever a função `f(x)`."
   ]
  },
  {
   "cell_type": "code",
   "execution_count": 8,
   "metadata": {},
   "outputs": [],
   "source": [
    "# Função (anônima)\n",
    "f = lambda x: np.cosh(x)*np.cos(x) - 1 "
   ]
  },
  {
   "cell_type": "markdown",
   "metadata": {},
   "source": [
    "Para computar a primeira derivada, utilizaremos computação simbólica. Veja no início deste notebook que inserimos a instrução\n",
    "a seguir para chamar objetos do módulo `sympy`.\n",
    "\n",
    "```python\n",
    "import sympy as sy\n",
    "```\n",
    "\n",
    "Em primeiro lugar, devemos estabelecer uma variável simbólica `xs`."
   ]
  },
  {
   "cell_type": "code",
   "execution_count": 19,
   "metadata": {},
   "outputs": [],
   "source": [
    "# Variável simbólica\n",
    "xs = sy.Symbol('x')"
   ]
  },
  {
   "cell_type": "markdown",
   "metadata": {},
   "source": [
    "Em seguida, devemos utilizar as funções `cosh` e `cos` **simbólicas** para derivar `f`. Elas serão **chamadas de dentro do módulo sympy**.\n",
    "\n",
    "Escrevemos a expressão simbólica para a derivada."
   ]
  },
  {
   "cell_type": "code",
   "execution_count": 10,
   "metadata": {},
   "outputs": [
    {
     "data": {
      "text/latex": [
       "$\\displaystyle - \\sin{\\left(x \\right)} \\cosh{\\left(x \\right)} + \\cos{\\left(x \\right)} \\sinh{\\left(x \\right)}$"
      ],
      "text/plain": [
       "-sin(x)*cosh(x) + cos(x)*sinh(x)"
      ]
     },
     "execution_count": 10,
     "metadata": {},
     "output_type": "execute_result"
    }
   ],
   "source": [
    "d = sy.diff(sy.cosh(xs)*sy.cos(xs) - 1)\n",
    "d"
   ]
  },
  {
   "cell_type": "markdown",
   "metadata": {},
   "source": [
    "Note que `d` é um objeto do módulo `sympy`"
   ]
  },
  {
   "cell_type": "code",
   "execution_count": 11,
   "metadata": {},
   "outputs": [
    {
     "data": {
      "text/plain": [
       "sympy.core.add.Add"
      ]
     },
     "execution_count": 11,
     "metadata": {},
     "output_type": "execute_result"
    }
   ],
   "source": [
    "type(d)"
   ]
  },
  {
   "cell_type": "markdown",
   "metadata": {},
   "source": [
    "Podemos agora aproveitar a expressão de `d` para criar nossa derivada. Se imprimirmos `d`, teremos:"
   ]
  },
  {
   "cell_type": "code",
   "execution_count": 12,
   "metadata": {},
   "outputs": [
    {
     "name": "stdout",
     "output_type": "stream",
     "text": [
      "-sin(x)*cosh(x) + cos(x)*sinh(x)\n"
     ]
    }
   ],
   "source": [
    "print(d)"
   ]
  },
  {
   "cell_type": "markdown",
   "metadata": {},
   "source": [
    "Porém, precisamos indicar que as funções serão objetos numpy. Logo, adicionamos `np`, de modo que:"
   ]
  },
  {
   "cell_type": "code",
   "execution_count": 13,
   "metadata": {},
   "outputs": [],
   "source": [
    "df = lambda x: - np.sin(x)*np.cosh(x) + np.cos(x)*np.sinh(x)"
   ]
  },
  {
   "cell_type": "markdown",
   "metadata": {},
   "source": [
    "Agora, realizamos a análise gráfica. "
   ]
  },
  {
   "cell_type": "code",
   "execution_count": 14,
   "metadata": {},
   "outputs": [
    {
     "data": {
      "image/png": "[encoded data removed]",
      "text/plain": [
       "<Figure size 432x288 with 1 Axes>"
      ]
     },
     "metadata": {
      "filenames": {
       "image/png": "/Users/gustavo/Dropbox/courses/calculo-numerico/LVMN/_build/jupyter_execute/code-sessions/codeSession-2-newton_34_0.png"
      },
      "needs_background": "light"
     },
     "output_type": "display_data"
    }
   ],
   "source": [
    "# analise gráfica \n",
    "x = np.linspace(4,5)\n",
    "plt.plot(x,f(x));\n",
    "plt.plot(x,df(x));\n",
    "plt.axhline(y=0,color='r',ls='--');\n",
    "plt.legend(['$f(x)$','$f\\'(x)$','$y=0$']);"
   ]
  },
  {
   "cell_type": "markdown",
   "metadata": {},
   "source": [
    "Agora, vamos resolver optando pela estimativa inicial $x_0 = 4.9$."
   ]
  },
  {
   "cell_type": "code",
   "execution_count": 15,
   "metadata": {},
   "outputs": [
    {
     "name": "stdout",
     "output_type": "stream",
     "text": [
      "Raiz: x = 4.730041\n"
     ]
    }
   ],
   "source": [
    "# resolução com newton \n",
    "x0 = 4.9\n",
    "x = newton(f,x0,df) # raiz \n",
    "print('Raiz: x = %f' % x)"
   ]
  },
  {
   "cell_type": "markdown",
   "metadata": {},
   "source": [
    "## Tarefas \n",
    "\n",
    "1. Reproduza os Problemas de 3 a 8 da _Code Session 1_ resolvendo com o método `newton`.\n",
    "2. Para os casos possíveis, determine a derivada. Caso contrário, utilize como método da Secante. \n",
    "3. Pesquise sobre o método de Halley e aplique-o aos problemas usando a função `newton`, mas avaliando-a também com a segunda derivada. "
   ]
  }
 ],
 "metadata": {
  "kernelspec": {
   "display_name": "Python 3 (ipykernel)",
   "language": "python",
   "name": "python3"
  },
  "language_info": {
   "codemirror_mode": {
    "name": "ipython",
    "version": 3
   },
   "file_extension": ".py",
   "mimetype": "text/x-python",
   "name": "python",
   "nbconvert_exporter": "python",
   "pygments_lexer": "ipython3",
   "version": "3.9.7"
  }
 },
 "nbformat": 4,
 "nbformat_minor": 4
}