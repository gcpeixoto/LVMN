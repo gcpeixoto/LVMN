{
 "cells": [
  {
   "cell_type": "markdown",
   "metadata": {},
   "source": [
    "# Code session 8"
   ]
  },
  {
   "cell_type": "code",
   "execution_count": 1,
   "metadata": {},
   "outputs": [],
   "source": [
    "import numpy as np \n",
    "import matplotlib.pyplot as plt "
   ]
  },
  {
   "cell_type": "markdown",
   "metadata": {},
   "source": [
    "A integração numérica em uma variável pode ser realizada em Python utilizando a função `quad` do módulo `scipy.integrate`.\n",
    "\n",
    "## `quad`\n",
    "\n",
    "Esta função calcula a integral definida $\\int_a^b f(x) \\, dx$ numericamente através de regras de quadratura.\n",
    "\n",
    "Os argumentos de entrada obrigatórios desta função são: \n",
    "\n",
    "1. a função `f` a ser integrada\n",
    "2. o limite inferior `a`\n",
    "3. o limite superior `b`\n",
    "\n",
    "Os principais argumentos de saída são:\n",
    "\n",
    "- `y`: valor numérico da integral\n",
    "- `abserr`: estimativa do erro absoluto\n",
    "\n",
    "Como importá-la? \n",
    "\n",
    "```python \n",
    "from scipy.integrate import quad\n",
    "```"
   ]
  },
  {
   "cell_type": "code",
   "execution_count": 2,
   "metadata": {},
   "outputs": [],
   "source": [
    "from scipy.integrate import quad"
   ]
  },
  {
   "cell_type": "markdown",
   "metadata": {},
   "source": [
    "### Problema 1\n",
    "\n",
    "O período de um pêndulo simples de comprimento $L$ é $\\tau = 4\\sqrt{ \\dfrac{L}{g} } h(\\theta_0)$, onde $g$ é a aceleração gravitacional, $\\theta_0$ representa a amplitude angular, e \n",
    "\n",
    "$$h(\\theta_0) = \\int_0^{\\pi/2} \\dfrac{1}{ \\sqrt{ 1 - \\textrm{sen}^2(\\theta_0/2)\\textrm{sen}^2 \\theta } } \\, d\\theta$$\n",
    "\n",
    "Calcule $h(\\tau)$, para $\\tau = 15^{\\circ}, \\, 30^{\\circ}, \\, 45^{\\circ}$ e compare estes valores com $h(0^{\\circ}) = \\pi/2$ (a aproximação usada para pequenas amplitudes)."
   ]
  },
  {
   "cell_type": "markdown",
   "metadata": {},
   "source": [
    "#### Resolução\n",
    "\n",
    "Em primeiro lugar, fazemos os cálculos diretos da integral para os distintos valores de $\\tau$."
   ]
  },
  {
   "cell_type": "code",
   "execution_count": 22,
   "metadata": {},
   "outputs": [
    {
     "name": "stdout",
     "output_type": "stream",
     "text": [
      "Integral h(0) = 1.5708\n",
      "Integral h(15) = 2.49203\n",
      "Integral h(30) = 1.79372\n",
      "Integral h(45) = 1.67896\n"
     ]
    }
   ],
   "source": [
    "# cálculo direto das integrais caso a caso\n",
    "\n",
    "theta0 = np.array([0,15,30,45]) # ângulos\n",
    "\n",
    "vals,errs = [],[] # integrais, erros\n",
    "\n",
    "for t in theta0:\n",
    "    f = lambda theta: 1/(np.sqrt(1. - np.sin(t/2)**2 * np.sin(theta)**2))\n",
    "    v,e = quad(f,0,np.pi/2)\n",
    "    print(f'Integral h({t}) = {v:g}')\n",
    "    vals.append(v)\n",
    "    errs.append(e)\n",
    "\n",
    "# converte listas para arrays\n",
    "vals = np.asarray(vals)\n",
    "errs = np.asarray(errs)"
   ]
  },
  {
   "cell_type": "markdown",
   "metadata": {},
   "source": [
    "Vemos que o valor das integrais é muito sensível. Para realizar uma comparação mais interessante, utilizaremos um cálculo relativo tomando o valor em $h(15)$ como referência."
   ]
  },
  {
   "cell_type": "code",
   "execution_count": 23,
   "metadata": {},
   "outputs": [
    {
     "data": {
      "image/png": "[encoded data removed]",
      "text/plain": [
       "<Figure size 432x288 with 1 Axes>"
      ]
     },
     "metadata": {
      "filenames": {
       "image/png": "/Users/gustavo/Dropbox/courses/calculo-numerico/LVMN/_build/jupyter_execute/code-sessions/codeSession-8-integrate_8_0.png"
      },
      "needs_background": "light"
     },
     "output_type": "display_data"
    }
   ],
   "source": [
    "plt.stem(theta0, (vals - vals[0])/vals[0], use_line_collection=True);\n",
    "plt.xlabel('$\\\\theta_0$')\n",
    "plt.ylabel('erro relativo');"
   ]
  },
  {
   "cell_type": "markdown",
   "metadata": {},
   "source": [
    "Podemos verificar que a mudança de valor da integral entre $15^{\\circ}$ e $30^{\\circ}$ é da ordem de 60%, enquanto que nos demais casos, ela se limita a 20%."
   ]
  },
  {
   "cell_type": "markdown",
   "metadata": {},
   "source": [
    "### Problema 2\n",
    "\n",
    "Uma corrente elétrica alternada é descrita por \n",
    "\n",
    "$$i(t) = i_0 \\left( \\textrm{sen}\\left( \\frac{\\pi t}{t_0} \\right) - \\beta \\, \\textrm{sen}\\left( \\frac{2 \\pi t}{t_0} \\right)  \\right),$$\n",
    "\n",
    "onde $i_0 = 1 \\, A$, $t_0 = 0.05 \\, s$ e $\\beta =0.2$. Calcule a corrente RMS definida por \n",
    "\n",
    "$$i_{rms} = \\sqrt{ \\dfrac{1}{t_0} \\int_0^{t_0} i^2(t) \\, dt}$$"
   ]
  },
  {
   "cell_type": "markdown",
   "metadata": {},
   "source": [
    "#### Resolução\n",
    "\n",
    "Neste caso, basta passarmos os valores iniciais e finais para computar a integral. "
   ]
  },
  {
   "cell_type": "code",
   "execution_count": 27,
   "metadata": {},
   "outputs": [
    {
     "name": "stdout",
     "output_type": "stream",
     "text": [
      "Corrente RMS = 0.72111 A\n"
     ]
    }
   ],
   "source": [
    "i0, t0, beta = 1.0, 0.05, 0.2 # parâmetros iniciais\n",
    "\n",
    "i2 = lambda t: ( i0 * ( np.sin( (np.pi*t) / t0 ) - beta * np.sin( (2*np.pi*t) / t0 ) ) )**2 # função\n",
    "\n",
    "i_rms = np.sqrt( 1.0/t0 * quad(i2, 0, t0)[0] )\n",
    "\n",
    "print(f'Corrente RMS = {i_rms:g} A')"
   ]
  },
  {
   "cell_type": "markdown",
   "metadata": {},
   "source": [
    "## Regra do Trapézio Generalizada\n",
    "\n",
    "A regra do trapézio generalizada (composta) pode ser calculada usando \n",
    "\n",
    "```python\n",
    "scipy.integrate.cumtrapz\n",
    "```\n",
    "\n",
    "Vamos utilizar a função $i(t)$ do Problema 2 e estimar sua integral no intervalo $t = [0,5]$ utilizando a regra do trapézio generalizada."
   ]
  },
  {
   "cell_type": "code",
   "execution_count": 36,
   "metadata": {},
   "outputs": [
    {
     "data": {
      "image/png": "[encoded data removed]",
      "text/plain": [
       "<Figure size 432x288 with 1 Axes>"
      ]
     },
     "metadata": {
      "filenames": {
       "image/png": "/Users/gustavo/Dropbox/courses/calculo-numerico/LVMN/_build/jupyter_execute/code-sessions/codeSession-8-integrate_14_0.png"
      },
      "needs_background": "light"
     },
     "output_type": "display_data"
    }
   ],
   "source": [
    "# Visualização\n",
    "t = np.linspace(0,5)\n",
    "i = lambda t: i0 * ( np.sin( (np.pi*t) / t0 ) - beta * np.sin( (2*np.pi*t) / t0 ) )  # função\n",
    "\n",
    "plt.plot(t,i(t),'o');\n",
    "plt.xlabel('$t$')\n",
    "plt.ylabel('$i(t)$');"
   ]
  },
  {
   "cell_type": "code",
   "execution_count": 7,
   "metadata": {},
   "outputs": [
    {
     "name": "stdout",
     "output_type": "stream",
     "text": [
      "Integral por Trapézio = -4.97605e-15\n"
     ]
    }
   ],
   "source": [
    "from scipy.integrate import cumtrapz\n",
    "\n",
    "i = lambda t: i0 * ( np.sin( (np.pi*t) / t0 ) - beta * np.sin( (2*np.pi*t) / t0 ) ) # função\n",
    "\n",
    "T = cumtrapz(i(t), t)[-1] # pega último valor, já que é cumulativa\n",
    "\n",
    "print(f'Integral por Trapézio = {T:g}')"
   ]
  },
  {
   "cell_type": "markdown",
   "metadata": {},
   "source": [
    "## Quadratura Gaussiana (QG)\n",
    "\n",
    "O cálculo de uma integral por quadratura Gaussiana pode ser calculado usando \n",
    "\n",
    "```python\n",
    "scipy.integrate.quadrature\n",
    "```\n",
    "\n",
    "Vamos utilizar a função $i(t)$ do Problema 2 e estimar sua integral no intervalo $t = [0,5]$ utilizando a QG para várias ordens (controladas pelo argumento `miniter`). "
   ]
  },
  {
   "cell_type": "code",
   "execution_count": 8,
   "metadata": {},
   "outputs": [
    {
     "name": "stdout",
     "output_type": "stream",
     "text": [
      "Integral por QG (ordem 1) = 3.60822e-14\n",
      "Integral por QG (ordem 2) = 9.71445e-15\n",
      "Integral por QG (ordem 3) = 4.35416e-14\n",
      "Integral por QG (ordem 4) = 6.92502e-14\n",
      "Integral por QG (ordem 5) = 6.58501e-14\n",
      "Integral por QG (ordem 6) = -5.7801e-14\n",
      "Integral por QG (ordem 7) = -1.39472e-14\n",
      "Integral por QG (ordem 8) = -1.60288e-14\n",
      "Integral por QG (ordem 9) = -5.89806e-16\n",
      "Integral por QG (ordem 10) = -4.02976e-14\n"
     ]
    }
   ],
   "source": [
    "from scipy.integrate import quadrature\n",
    "\n",
    "for ordem in range(1,11):\n",
    "    I_QG,err_QG = quadrature(i,0,5,miniter=ordem)\n",
    "    print(f'Integral por QG (ordem {ordem}) = {I_QG:g}')"
   ]
  }
 ],
 "metadata": {
  "celltoolbar": "Edit Metadata",
  "kernelspec": {
   "display_name": "Python 3 (ipykernel)",
   "language": "python",
   "name": "python3"
  },
  "language_info": {
   "codemirror_mode": {
    "name": "ipython",
    "version": 3
   },
   "file_extension": ".py",
   "mimetype": "text/x-python",
   "name": "python",
   "nbconvert_exporter": "python",
   "pygments_lexer": "ipython3",
   "version": "3.9.7"
  }
 },
 "nbformat": 4,
 "nbformat_minor": 4
}