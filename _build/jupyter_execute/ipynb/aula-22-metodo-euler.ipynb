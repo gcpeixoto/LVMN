{
 "cells": [
  {
   "cell_type": "code",
   "execution_count": 1,
   "metadata": {
    "ipub": {
     "ignore": true
    }
   },
   "outputs": [],
   "source": [
    "import numpy as np\n",
    "import matplotlib.pyplot as plt"
   ]
  },
  {
   "cell_type": "markdown",
   "metadata": {},
   "source": [
    "# Método de Euler \n",
    "\n",
    "As considerações anteriores sobre malhas numéricas são fundamentais para sugerir a notação que utilizaremos para expressar os métodos numéricos que estudaremos. O primeiro deles, chamado _método de Euler_, é considerado o método numérico mais simples para resolver PVIs. Embora não seja muito eficiente, é o ponto de partida para a compreensão de uma enorme família de métodos. \n",
    "\n",
    "Ao longo do texto, denotaremos por $y(t_n) = y_h(t_n) = y_n, \\ \\ n = 0,1,2,\\ldots,N$ a solução aproximada de um PVI.\n",
    "\n",
    "## Definição do método de Euler \n",
    "\n",
    "A derivação do método de Euler inicia-se com a seguinte aproximação para a derivada: \n",
    "\n",
    "$$y'(t) \\approx \\dfrac{y(t+h) - y(t)}{h},$$\n",
    "\n",
    "conhecida como _aproximação por diferença finita avançada (ou progressiva)_. Se aplicarmos esta definição ao nosso PVI padrão, em $t=t_n$ teremos $y'(t_n) = f(t_n,y(t_n))$, donde segue que \n",
    "\n",
    "$$\\dfrac{y(t_{n+1}) - y(t_n)}{h} \\approx f(t_n,y(t_n))$$\n",
    "$$y(t_{n+1}) \\approx y(t_n) + h \\, f(t_n,y(t_n)).$$\n",
    "\n",
    "O método de Euler toma esta aproximação como exata, de modo que o esquema numérico resultante é \n",
    "\n",
    "$$y_{n+1} = y_n + h \\, f(t_n,y_n), \\ \\ 0 \\le n \\le N-1.$$\n",
    "\n",
    "A estimativa inicial é $y_0 = Y_0$ ou alguma aproximação de $Y_0$. Quando $Y_0$ é obtido empiricamente, seu valor é conhecido apenas aproximadamente. A fórmula anterior permite o cálculo sequencial das iteradas do método de Euler $y_1,y_2,\\ldots,y_n$, aproximações para os valores exatos de $y$ nesses instantes.\n",
    "\n",
    "## Interpretação geométrica \n",
    "\n",
    "A figura a seguir ajuda-nos a interpretar o método de Euler geometricamente. A aproximação numérica da curva exata (azul) é feita por meio de retas tangentes. O valor $y(t_{n+1})$ é erroneamente computado (comprimento $BD$) e excede o valor exato (comprimento $BC$) por uma quantidade (comprimento $CD$). Isto é, a equação da reta tangente a $(t_n,y(t_n))$ é $r(t) = y(t_n) + f(t_n,y(t_n))(t-t_n)$. Na verdade, $r(t_{n+1})$ coincide com o ponto $D$."
   ]
  },
  {
   "cell_type": "code",
   "execution_count": 2,
   "metadata": {},
   "outputs": [
    {
     "data": {
      "text/plain": [
       "Text(2.8, 2.2, 'D')"
      ]
     },
     "execution_count": 2,
     "metadata": {},
     "output_type": "execute_result"
    },
    {
     "data": {
      "image/png": "[encoded data removed]",
      "text/plain": [
       "<Figure size 432x288 with 1 Axes>"
      ]
     },
     "metadata": {
      "filenames": {
       "image/png": "/Users/gustavo/Dropbox/courses/calculo-numerico/LVMN/_build/jupyter_execute/ipynb/aula-22-metodo-euler_2_1.png"
      },
      "needs_background": "light"
     },
     "output_type": "display_data"
    }
   ],
   "source": [
    "x = np.linspace(0.5,4,50)\n",
    "\n",
    "plt.plot(x,np.log(x),'b')\n",
    "x0 = 1.0\n",
    "x1 = 3.0\n",
    "plt.plot(x,np.log(x0) + x/x0 -1,'r--')\n",
    "plt.plot(x0,np.log(x0),'ob')\n",
    "plt.plot(x1,np.log(x1),'ob')\n",
    "plt.plot(x1,0,'ok')\n",
    "plt.plot(x,0*x,'k--')\n",
    "plt.plot(x1,np.log(x0) + x1/x0 -1,'or')\n",
    "plt.vlines(x1+0.1,ymin=0,ymax=np.log(x0) + x1/x0 -1,colors='r',linestyles='dashed')\n",
    "plt.vlines(x1,ymin=0,ymax=np.log(x1),colors='b',linestyles='dashed')\n",
    "\n",
    "\n",
    "xt = [x0,x1]\n",
    "plt.box(False)\n",
    "locs, labels = plt.xticks()\n",
    "plt.xticks(xt, ('$t_n$','$t_{n+1}$'))\n",
    "plt.tick_params(axis='both',width=0.0,labelleft=False)\n",
    "\n",
    "fs = 18\n",
    "plt.annotate('A',xy=(x0-0.2,np.log(x0)+0.2),fontsize=fs)\n",
    "plt.annotate('B',xy=(x1-0.2,0+0.2),fontsize=fs)\n",
    "plt.annotate('C',xy=(x1-0.1,np.log(x1)+0.2),fontsize=fs)\n",
    "plt.annotate('D',xy=(x1-0.2,np.log(x0) + x1/x0 - 1 +0.2),fontsize=fs)"
   ]
  },
  {
   "cell_type": "markdown",
   "metadata": {},
   "source": [
    "**Exemplo:** A solução exata do PVI \n",
    "\n",
    "$$\\begin{cases}\n",
    "y'(t) = -y(t)\\\\\n",
    "y(0) = 1\n",
    "\\end{cases}$$\n",
    "\n",
    "é $y(t) = e^{-t}$. O método de Euler é dado por \n",
    "\n",
    "$$y_{n+1} = y_n - h y_n = (1-h)y_n, \\ \\ n \\geq 0,$$\n",
    "\n",
    "com $Y_0 = 1$ e $t_n = nh$.\n",
    "\n",
    "Para $h=0.1$, temos, por exemplo\n",
    "\n",
    "$$y_1 = (1-h)y_0 = 0.9(1) = 0.9$$\n",
    "$$y_2 = (1-h)y_1 = 0.9(0.9) = 0.81$$\n",
    "$$y_2 = (1-h)y_1 = 0.9(0.9) = 0.81,$$\n",
    "\n",
    "cujos erros são \n",
    "\n",
    "$$y_{h,1} - y_1 = e^{-0.1} - y_1 = 0.004837$$\n",
    "$$y_{h,2} - y_2 = e^{-0.2} - y_2 = 0.008731$$"
   ]
  },
  {
   "cell_type": "markdown",
   "metadata": {},
   "source": [
    "## Implementação computacional \n",
    "\n",
    "O seguinte código implementa o método de Euler explícito. "
   ]
  },
  {
   "cell_type": "code",
   "execution_count": 3,
   "metadata": {
    "tags": []
   },
   "outputs": [],
   "source": [
    "from numpy import *\n",
    "\n",
    "def euler_expl(t0,tf,y0,h,fun):\n",
    "    \"\"\"\n",
    "    Resolve o PVI y' = f(t,y), t0 <= t <= tf, y(t0) = y0\n",
    "    com passo h usando o metodo de Euler explicito. \n",
    "    \n",
    "    Entrada: \n",
    "        t0  - tempo inicial\n",
    "        tf  - tempo final \n",
    "        y0  - condicao inicial \n",
    "        h   - passo \n",
    "        fun - funcao f(t,y) (anonima)\n",
    "        \n",
    "    Saida:\n",
    "        t   - nos da malha numerica \n",
    "        y   - solucao aproximada\n",
    "    \"\"\"\n",
    "    \n",
    "    n = round((tf - t0)/h) + 1\n",
    "    t = linspace(t0,t0+(n-1)*h,n)\n",
    "    y = linspace(t0,t0+(n-1)*h,n)\n",
    "    y = zeros((n,))\n",
    "    \n",
    "    y[0] = y0\n",
    "\n",
    "    for i in range(1,n):\n",
    "        y[i] = y[i-1] + h*f(t[i-1],y[i-1])\n",
    "\n",
    "    return (t,y)"
   ]
  },
  {
   "cell_type": "markdown",
   "metadata": {},
   "source": [
    "**Exemplo:** Resolva \n",
    "\n",
    "$$\\begin{cases}\n",
    "y'(t) = \\frac{y(t) + t^2 - 2}{t+1}\\\\\n",
    "y(0) = 2 \\\\\n",
    "0 \\le t \\le 6 \\\\ \n",
    "h = 0.1\n",
    "\\end{cases}$$\n",
    "\n",
    "Defina $y_h(t)$ como a solução numérica, calcule o erro relativo e plote o gráfico de $y_h(t)$ juntamente com o da solução exata $y(t) = t^2 + 2t + 2 - 2(t+1)\\ln(t+1)$\n",
    "\n",
    "**Solução:** O processo iterativo de Euler será dado por \n",
    "\n",
    "$$y_{n+1} = y_n + \\dfrac{h(y_n + t_n^2 - 2)}{t_n + 1}, \\ \\ n \\geq 0, \\ \\ y_0 = 2, t_n = nh.$$\n",
    "\n",
    "Entretanto, vamos usar o nosso programa `euler_expl`."
   ]
  },
  {
   "cell_type": "code",
   "execution_count": 4,
   "metadata": {},
   "outputs": [
    {
     "data": {
      "text/plain": [
       "<matplotlib.legend.Legend at 0x7fd023af8b20>"
      ]
     },
     "execution_count": 4,
     "metadata": {},
     "output_type": "execute_result"
    },
    {
     "data": {
      "image/png": "[encoded data removed]",
      "text/plain": [
       "<Figure size 432x288 with 1 Axes>"
      ]
     },
     "metadata": {
      "filenames": {
       "image/png": "/Users/gustavo/Dropbox/courses/calculo-numerico/LVMN/_build/jupyter_execute/ipynb/aula-22-metodo-euler_7_1.png"
      },
      "needs_background": "light"
     },
     "output_type": "display_data"
    }
   ],
   "source": [
    "# define funcao\n",
    "f = lambda t,y: (y + t**2 - 2)/(t+1)\n",
    "\n",
    "# invoca metodo\n",
    "t0 = 0.0\n",
    "tf = 6.0\n",
    "y0 = 2.0\n",
    "h = 0.1\n",
    "t,y = euler_expl(t0,tf,y0,h,f)\n",
    "\n",
    "# plota funcoes \n",
    "yex = t**2 + 2*t + 2 - 2*(t+1)*log(t+1)\n",
    "plt.plot(t,y,'b--',label='$y_h(t)$')\n",
    "plt.plot(t,yex,'k',label='$y(t)$')\n",
    "plt.legend()"
   ]
  },
  {
   "cell_type": "markdown",
   "metadata": {},
   "source": [
    "Agora, vamos computar a curva do erro relativo e plotá-la."
   ]
  },
  {
   "cell_type": "code",
   "execution_count": 5,
   "metadata": {},
   "outputs": [
    {
     "data": {
      "text/plain": [
       "[<matplotlib.lines.Line2D at 0x7fd023bee880>]"
      ]
     },
     "execution_count": 5,
     "metadata": {},
     "output_type": "execute_result"
    },
    {
     "data": {
      "image/png": "[encoded data removed]",
      "text/plain": [
       "<Figure size 432x288 with 1 Axes>"
      ]
     },
     "metadata": {
      "filenames": {
       "image/png": "/Users/gustavo/Dropbox/courses/calculo-numerico/LVMN/_build/jupyter_execute/ipynb/aula-22-metodo-euler_9_1.png"
      },
      "needs_background": "light"
     },
     "output_type": "display_data"
    }
   ],
   "source": [
    "def erro_relativo(y,yh):\n",
    "    return abs(y-yh)/abs(yh)\n",
    "\n",
    "e = erro_relativo(yex,y)+0.1\n",
    "\n",
    "plt.plot(t,e,'r',label='$ER$')\n",
    "plt.legend()\n",
    "emax = np.max(e)\n",
    "emin = np.min(e)\n",
    "\n",
    "plt.plot(t,np.ones(t.shape)*emax,'b--')\n",
    "plt.plot(t,np.ones(t.shape)*emin,'g--')"
   ]
  },
  {
   "cell_type": "markdown",
   "metadata": {},
   "source": [
    "**Exercício:** Resolva o PVI do exemplo anterior usando por computador para $h = 0.2, 0.1, 0.05$. Produza um `script` para imprimir, para cada $h$, os dados da saída na forma da tabela a seguir: \n",
    "\n",
    "|$t$|$y_{h}$$(t)$|$EA$|$ER$|\n",
    "|--|--|--|--|\n",
    "|$\\vdots$|$\\vdots$|$\\vdots$|$\\vdots$|"
   ]
  },
  {
   "cell_type": "markdown",
   "metadata": {},
   "source": [
    "## Análise de erro\n",
    "\n",
    "A análise de erro para o método de Euler tem o propósito de entender como o método funciona para que se possa estimar o erro ao usá-lo e, possivelmente, acelerar sua convergência. Procedimentos similares são aplicáveis a métodos numéricos mais eficientes. \n",
    "\n",
    "Para a análise, assumiremos que o PVI padrão possui solução única $y(t)$ em $[t_0,b]$ e que esta solução tem uma segunda derivada $y''(t)$ limitada neste intervalo. \n",
    "\n",
    "Consideremos a série de Taylor para aproximar $y(t_{n+1})$:\n",
    "\n",
    "$$y(t_{n+1}) = y(t_{n}) + hy'(t_{n}) + \\dfrac{h^2}{2}y''(\\xi_{n}), \\ \\ t_n \\leq \\xi_n \\leq t_{n+1}$$\n",
    "\n",
    "Uma vez que $y(t)$ satisfaz a EDO, temos que \n",
    "\n",
    "$$y(t_{n+1}) = y(t_{n}) + hf(t_{n},y(t_n)) + \\dfrac{h^2}{2}y''(\\xi_{n}), \\ \\ t_n \\leq \\xi_n \\leq t_{n+1}$$\n",
    "\n",
    "O termo $T_{n+1} = \\dfrac{h^2}{2}y''(\\xi_{n})$, _erro de truncamento_ para o método de Euler, é o erro na aproximação\n",
    "\n",
    "$$y(t_{n+1}) \\approx y(t_{n}) + hy'(t_{n}).$$\n",
    "\n",
    "Assim, tendo em vista que \n",
    "\n",
    "$$y_{n+1} \\approx y_n + hf(t_{n},y_n),$$\n",
    "\n",
    "subtraímos as equações para obter \n",
    "\n",
    "$$y(t_{n+1}) - y_{n+1} \\approx y(t_{n}) - y_n + h[ f(t_{n},y(t_n)) - f(t_{n},y_n)] + \\dfrac{h^2}{2}y''(\\xi_{n}),$$\n",
    "\n",
    "mostrando que o error em $y_{n+1}$ consiste de duas partes: \n",
    "\n",
    "- **erro propagado:** $T_{n+1} = y(t_{n}) - y_n + h[ f(t_{n},y(t_n)) - f(t_{n},y_n)]$.\n",
    "- **erro de truncamento:** $T_{n+1} = \\dfrac{h^2}{2}y''(\\xi_{n})$.\n",
    "\n",
    "O erro propagado pode ser simplificado pelo teorema do valor médio: \n",
    "\n",
    "$$f(t_{n},y(t_n)) - f(t_{n},y_n) = \\dfrac{\\partial f(t_n,\\zeta_n)}{\\partial y}[y(t_n) - y_n], \\ \\ y(t_n) \\leq \\zeta_n < y_n$$\n",
    "\n",
    "Se definirmos o erro $e_k = y(t_k) - y_k, k \\geq 0$, podemos reescrever a última equação como \n",
    "\n",
    "$$e_{n+1} = \\left[ 1 + h \\dfrac{\\partial f(t_n,\\zeta_n)}{\\partial y} \\right]e_n + T_{n+1},$$\n",
    "\n",
    "assim obtendo uma equação geral para análise de erro do método de Euler.\n",
    "\n"
   ]
  },
  {
   "cell_type": "markdown",
   "metadata": {},
   "source": [
    "### Teoremas para limite de erro \n",
    "\n",
    "**Teorema:** Suponha que $f(t,y)$ seja definida em um conjunto convexo $D \\subset \\mathbb{R}^2$. Se existe uma constante $L>0$ com \n",
    "\n",
    "$$\\left| \\dfrac{\\partial f}{\\partial y}(t,y)\\right| \\leq L, \\ \\ \\forall(t,y) \\in D$$\n",
    "\n",
    "**Teorema (limite de erro):** Suponha que f seja contínua e satisfaça a condição de Lipschitz com constante $L$ em \n",
    "$D = \\{ (t,y); \\ a \\leq t \\leq b \\}$ e que exista uma constante $M$ com $|y''(t)| \\leq M, \\ \\ \\forall t \\in [a,b]$. Seja $y(t)$ única solução do PVI \n",
    "\n",
    "$$y' = f(t,y), \\quad y(a) = y_0, \\quad t_0 \\leq t \\leq b$$\n",
    "\n",
    "e sejam $w_0,w_1,\\ldots,w_N$ aproximações geradas pelo método de Euler para algum inteiro positivo $N$. Então, para cada $i=0,1,2,\\ldots,N$, \n",
    "\n",
    "$$|y(t_i)-w_i| \\leq \\frac{hM}{2L}[e^{L(t_i-a)} -1].$$\n",
    "\n",
    "O último teorema fornece um limitante de erro para o método de Euler. Ele evidencia a dependência linear do tamanho de passo $h$. Logo, à medida que $h->0$, uma maior precisão nas aproximações deve ser obtida.\n",
    "\n"
   ]
  },
  {
   "cell_type": "markdown",
   "metadata": {},
   "source": [
    "**Exemplo:** Consideremos o PVI\n",
    "\n",
    "$$\\begin{cases}\n",
    "y'(t) = y - t^2 + 1 \\\\\n",
    "y(0) = 0.5 \\\\\n",
    "0 \\le t \\le 2 \\\\ \n",
    "h = 0.2\n",
    "\\end{cases}$$\n",
    "\n",
    "Uma vez que $f(t,y) = y - t^2 + 1$, temos $\\dfrac{\\partial f}{\\partial y}(t,y) = 1, \\forall y$. Assim, $L=1$. A solução exata deste problema é $y(t) = (t+1)^2 - 0.5e^t$, de modo que $y''(t) = 2 - 0.5e^t$ e $|y''(t)| \\leq 0.5e^2 - 2 = M, \\ \\ \\forall t \\in [0,2]$. Pelo teorema do limite de erro, temos que \n",
    "\n",
    "$$|y_i - w_i| \\leq 0.1(0.5e^2-2)(e^{t_i}-1)$$"
   ]
  },
  {
   "cell_type": "code",
   "execution_count": 6,
   "metadata": {},
   "outputs": [
    {
     "name": "stdout",
     "output_type": "stream",
     "text": [
      "Imprimindo comparação...\n",
      "\n",
      " ti |    ei   |   Ei\n",
      "\n",
      "0.0 | 0.00000 | 0.00000\n",
      "\n",
      "0.2 | 0.02930 | 0.03752\n",
      "\n",
      "0.4 | 0.06209 | 0.08334\n",
      "\n",
      "0.6 | 0.09854 | 0.13931\n",
      "\n",
      "0.8 | 0.13875 | 0.20767\n",
      "\n",
      "1.0 | 0.18268 | 0.29117\n",
      "\n",
      "1.2 | 0.23013 | 0.39315\n",
      "\n",
      "1.4 | 0.28063 | 0.51771\n",
      "\n",
      "1.6 | 0.33336 | 0.66985\n",
      "\n",
      "1.8 | 0.38702 | 0.85568\n",
      "\n",
      "2.0 | 0.43969 | 1.08264\n",
      "\n"
     ]
    }
   ],
   "source": [
    "def f(t,y):\n",
    "    return y - t**2 + 1\n",
    "\n",
    "# solucao numerica \n",
    "t,y = euler_expl(0,2,0.5,0.2,f)\n",
    "\n",
    "# solucao exata\n",
    "yex = (t+1)**2 - 0.5*np.exp(t)\n",
    "\n",
    "# erro\n",
    "erro = np.abs(y - yex)\n",
    "\n",
    "# limite de erro \n",
    "lim_erro = 0.1*(0.5*np.exp(1)**2 - 2)*(np.exp(t) - 1.)\n",
    "\n",
    "# tabela\n",
    "\n",
    "print(\"Imprimindo comparação...\\n\\n ti |    ei   |   Ei\\n\")\n",
    "for i in range(len(y)): \n",
    "    print(\"{0:.1f} | {1:0.5f} | {2:0.5f}\\n\".format(t[i],erro[i],lim_erro[i]))\n",
    "\n",
    "\n"
   ]
  },
  {
   "cell_type": "markdown",
   "metadata": {},
   "source": [
    "## Problemas\n",
    "\n",
    "1) Resolva os seguintes problemas usando o método de Euler com passos $h = 0.2,0.1,0.05$. Compute o erro relativo usando a solução exata $y(t)$. Para valores selecionados de $t$, observe a razão com que o erro diminui à medida que $h$ é reduzido pela metade. \n",
    "a. $y'(t) = [\\cos(y(t))]^2, 0 \\leq t \\leq 10, \\quad y(0) = 0; \\quad y(t) = \\tan^{-1}(t)$\n",
    "\n",
    "b. $y'(t) = \\frac{1}{1+t^2} − 2[y(t)]^2, 0 \\leq t \\leq 10, \\quad  y(0) = 0; \\quad y(t) = \\frac{t}{1+t^2}$\n",
    "\n",
    "c. $y'(t) = \\frac{1}{4}y(t)\\left[1 - \\frac{1}{20}y(t)􏰍\\right], 0 \\leq t \\leq 20, \\quad  y(0) = 1; \\quad y(t) = \\frac{20}{1 + 19e^{-t/4}}$\n",
    "\n",
    "d. $y'(t)= -[y(t)]^2, y(t) = \\frac{1}{t}, 1 \\leq t \\leq 10, \\quad  y(1) = 1 \\quad y(t) = \\frac{1}{t}$\n",
    "\n",
    "2) Considere o problema linear \n",
    "\n",
    "$$y'(t) = \\lambda y(t) + (1 - \\lambda) \\cos(t) - (1 + \\lambda) \\textrm{sen}(t), \\quad y(0) = 1.$$\n",
    "\n",
    "A solução exata é $y(t) = \\textrm{sen}(t) + \\cos(t)$. Resolva este problema usando o método de Euler com vários valores de $\\lambda$ e $h$, para $0 \\leq t \\leq 10$. Comente sobre os resultados.\n",
    "\n",
    "a. $\\lambda = −1; \\ \\ h = 0.5, 0.25, 0.125$.\n",
    "\n",
    "b. $\\lambda =1; \\ \\ h=0.5,0.25,0.125.$\n",
    "\n",
    "c. $\\lambda = −5; h = 0.5, 0.25, 0.125, 0.0625.$\n",
    "\n",
    "d. $\\lambda = 5; h = 0.125, 0.0625.$\n",
    "\n",
    "\n",
    "3) Faça uma análise do erro obtido pelo método de Euler ao ser resolver o caso a. do problema 2, $h = 0.25$."
   ]
  }
 ],
 "metadata": {
  "celltoolbar": "Edit Metadata",
  "ipub": {
   "listcode": false,
   "listfigures": false,
   "listtables": false,
   "titlepage": {
    "author": "Prof. Dr. Gustavo Oliveira",
    "email": "gustavo.oliveira@ci.ufpb.br",
    "institution": [
     "Universidade Federal da Paraíba"
    ],
    "tagline": "Aula 3.",
    "title": "Soluções Numéricas de EDOs"
   },
   "toc": true
  },
  "kernelspec": {
   "display_name": "Python 3",
   "language": "python",
   "name": "python3"
  },
  "language_info": {
   "codemirror_mode": {
    "name": "ipython",
    "version": 3
   },
   "file_extension": ".py",
   "mimetype": "text/x-python",
   "name": "python",
   "nbconvert_exporter": "python",
   "pygments_lexer": "ipython3",
   "version": "3.8.2"
  }
 },
 "nbformat": 4,
 "nbformat_minor": 4
}