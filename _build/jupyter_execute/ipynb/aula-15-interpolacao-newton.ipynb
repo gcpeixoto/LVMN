{
 "cells": [
  {
   "cell_type": "markdown",
   "metadata": {},
   "source": [
    "# Polinômio Interpolador de Newton (Diferenças Divididas)\n",
    "\n",
    "## Interpolação Linear\n",
    "\n",
    "Excluindo-se o caso de função constante, a forma mais simples de interpolação é ligar dois pontos dados com uma reta. Usando semelhança de triângulos entre nós e valores de função, obtemos\n",
    "\n",
    "$$ \\dfrac{f_1(x) − f(x_0)}{x − x_0} = \\dfrac{f(x_1) − f(x_0)}{x_1 − x_0} $$\n",
    "\n",
    "a qual pode ser reorganizada para fornecer\n",
    "\n",
    "$$ f_1(x) = f(x_0) + \\dfrac{f(x_1) − f(x_0)}{x_1 − x_0} (x − x_0) \\qquad (1) $$\n",
    "\n",
    "A notação $f_1(x)$ indica que esse é um polinômio interpolador de primeiro grau. Observe que, além de representar a inclinação da reta ligando os pontos, o termo $[f(x_1) − f(x_0)]/(x_1 − x_0)$ é uma aproximação por diferenças divididas da primeira derivada.\n",
    "\n",
    "## Interpolação Quadrática\n",
    "\n",
    "Com três pontos, a interpolação quadrática é obtida a partir de\n",
    "\n",
    "$$ f_2(x) = b_0 + b_1(x − x_0) + b_2(x − x_0)(x − x_1) \\qquad (2) $$\n",
    "\n",
    "Um procedimento simples pode ser usado para determinar os valores dos coeficientes.\n",
    "\n",
    "Para $b_0$, a Equação (2) com $x = x_0$ pode ser usada para calcular\n",
    "\n",
    "$$ b_0 = f(x_0) \\qquad (3) $$\n",
    "\n",
    "A Equação (3) pode ser substituída na Equação (2), a qual pode ser calculada em $x = x_1$ para\n",
    "\n",
    "$$ b_1 = \\dfrac{f(x_1) − f(x_0)}{x_1 − x_0} \\qquad (4) $$\n",
    "\n",
    "Finalmente, as Equações (3) e (4) podem ser substituídas na Equação (2), a qual pode ser calculada em $x = x_2$ e resolvida (depois de algumas manipulações algébricas) por \n",
    "\n",
    "$$ b_2 = \\dfrac{\\dfrac{f(x_2) − f(x_1)}{x_2 − x_1} − \\dfrac{f(x_1) − f(x_0)}{x_1 − x_0}}{x_2 − x_0} \\qquad (5) $$\n",
    "\n",
    "## Forma Geral dos Polinômios Interpoladores de Newton\n",
    "\n",
    "A análise anterior pode ser generalizada para ajustar um polinômio de grau $n$ a $n + 1$ pontos dados. O polinômio de grau $n$ é\n",
    "\n",
    "$$ f_n(x) = b_0 + b_1(x − x_0) + \\dots + b_n(x − x_0)(x − x_1) \\dots (x − x_{n − 1}) \\qquad (6) $$\n",
    "\n",
    "Como foi feito anteriormente com as interpolações linear e quadrática, os pontos dados podem ser usados para calcular os coeficientes $b_0$, $b_1$, \\dots , $b_n$. Para um polinômio de grau $n$, $n + 1$ pontos dados são necessários: $(x_0, f(x_0)), (x_1, f(x_1)), \\dots , (x_n, f(x_n))$. Usamos esses pontos dados e as seguintes equações para calcular os coeficientes\n",
    "\n",
    "$$\n",
    "b_0 = f(x_0) \\qquad (7) \\\\\n",
    "b_1 = f[x_1, x_0] \\qquad (8) \\\\\n",
    "b_2 = f[x_2, x_1, x_0] \\qquad (9) \\\\\n",
    "\\vdots \\\\\n",
    "b_n = f[x_n, x_{n - 1}, \\dots , x_1, x_0] \\qquad (10)\n",
    "$$\n",
    "\n",
    "onde a função com colchetes corresponde a diferenças divididas. Por exemplo, a primeira diferença dividida finita é representada em geral por\n",
    "\n",
    "$$ f[x_i, x_j] = \\dfrac{f(x_i) − f(x_j)}{x_i − x_j} $$\n",
    "\n",
    "A segunda diferença dividida finita, que representa a diferença das duas primeiras diferenças divididas, é expressa em geral por\n",
    "\n",
    "$$ f[x_i, x_j, x_k] = \\dfrac{f[x_i , x_j] − f[x_j, x_k]}{x_i − x_k} $$\n",
    "\n",
    "Analogamente, a n-ésima diferença dividida é\n",
    "\n",
    "$$ f[x_n, x_{n − 1}, \\dots , x_1, x_0] = \\dfrac{f[x_n, x_{n − 1}, \\dots , x_1] − f[x_{n − 1}, x_{n − 2}, \\dots , x_0]}{x_n − x_0} $$"
   ]
  },
  {
   "cell_type": "markdown",
   "metadata": {},
   "source": [
    "## Funções de Base de Newton\n",
    "\n",
    "Código gerador de funções de base de Newton de grau $n$ por computação simbólica."
   ]
  },
  {
   "cell_type": "code",
   "execution_count": 2,
   "metadata": {},
   "outputs": [],
   "source": [
    "from sympy import Symbol\n",
    "\n",
    "def symbolic_vector(n,var):\n",
    "    \"\"\"Cria uma lista com n variáveis simbólicas.\n",
    "    \n",
    "        entrada:\n",
    "            n: numero de pontos\n",
    "            var: uma string (ex. 'x')\n",
    "        saida:\n",
    "            V: ['var0','var1',...,'varn-1']\n",
    "    \"\"\"\n",
    "    if not isinstance(var,str):\n",
    "        raise TypeError(\"{0} must be a string.\".format(var))                 \n",
    "        \n",
    "    V = [Symbol(var  + str(i)) for i in range(0,n)]\n",
    "        \n",
    "    return V\n",
    "\n",
    "def N_nj(X,j):\n",
    "    \"\"\" Calcula a função de base de Newton N_{n,j}(x). \n",
    "        \n",
    "        entrada:\n",
    "            X: um vetor contendo variáveis simbólicas\n",
    "    \"\"\"\n",
    "    # pega a variavel base passada e converte para simbólica\n",
    "    x = X[1]\n",
    "    x = str(x)\n",
    "    x = Symbol(x[0:-1])\n",
    "    N = x/x;\n",
    "    if j > 0: \n",
    "        for k in range(0,j):\n",
    "            N *= (x - X[k])\n",
    "            \n",
    "    return N"
   ]
  },
  {
   "cell_type": "code",
   "execution_count": 9,
   "metadata": {},
   "outputs": [
    {
     "data": {
      "image/png": "[encoded data removed]",
      "text/plain": [
       "<Figure size 432x288 with 1 Axes>"
      ]
     },
     "metadata": {
      "filenames": {
       "image/png": "/Users/gustavo/Dropbox/courses/calculo-numerico/LVMN/_build/jupyter_execute/ipynb/aula-15-interpolacao-newton_3_0.png"
      },
      "needs_background": "light"
     },
     "output_type": "display_data"
    }
   ],
   "source": [
    "import numpy as np\n",
    "import matplotlib.pyplot as plt\n",
    "%matplotlib inline\n",
    "\n",
    "# número de nós de interpolação: interpolação de (n-1)-ésimo grau\n",
    "n = 5\n",
    "\n",
    "# domínio de interpolação\n",
    "x0,x1 = -1,1\n",
    "\n",
    "# constroi vetor simbolico em x\n",
    "X = symbolic_vector(n,'x')\n",
    "\n",
    "# constroi pontos numericos \n",
    "xp = np.linspace(x0,x1,num=n,endpoint=True)\n",
    "\n",
    "# cria malha numérica\n",
    "xv = np.linspace(x0,x1)\n",
    "\n",
    "# matriz das funções\n",
    "Y = np.zeros((n,len(xv)))\n",
    "for i in range(0,n):\n",
    "    Y[i,] = np.zeros(np.shape(xv))\n",
    "\n",
    "# montagem de dict para substituição: [xk,x0,x1,x2,...]\n",
    "k = [str(i) for i in X]\n",
    "k.insert(0,'x')\n",
    "\n",
    "# preenche matriz\n",
    "for i in range(0,Y.shape[0]):\n",
    "    for j in range(0,np.size(xv)):\n",
    "        v = list(np.concatenate([np.asarray([xv[j]]),xp]))\n",
    "        d = dict(zip(k,v))\n",
    "        Y[i,j] = N_nj(X,i).subs(d)\n",
    "\n",
    "# plotagem das funções\n",
    "\n",
    "# nós \n",
    "plt.scatter(xp,np.zeros(xp.shape),c= 'k')\n",
    "\n",
    "leg = []\n",
    "for i in range(0,Y.shape[0]):\n",
    "    plt.plot(xv,Y[i,])\n",
    "    s = '$N_{' + str(i) + '}(x)$'\n",
    "    leg.append(s)\n",
    "        \n",
    "plt.grid()        \n",
    "plt.legend(leg,loc='best')\n",
    "plt.title('Funções de base de Newton até ordem ' + str(n-1) + ' em ['+str(x0)+','+str(x1)+']');"
   ]
  },
  {
   "cell_type": "markdown",
   "metadata": {},
   "source": [
    "### Exemplo: \n",
    "\n",
    "Encontre o polinômio interpolador de Newton de ordem 1 $P_1(x)$ para a tabela abaixo\n",
    "\n",
    "|x|y|\n",
    "|-|-|\n",
    "|-1|4|\n",
    "|0|1|\n",
    "\n",
    "Compute o valor de $P_1(0.35)$."
   ]
  },
  {
   "cell_type": "code",
   "execution_count": 4,
   "metadata": {},
   "outputs": [
    {
     "data": {
      "image/png": "[encoded data removed]",
      "text/plain": [
       "<Figure size 432x288 with 1 Axes>"
      ]
     },
     "metadata": {
      "filenames": {
       "image/png": "/Users/gustavo/Dropbox/courses/calculo-numerico/LVMN/_build/jupyter_execute/ipynb/aula-15-interpolacao-newton_5_0.png"
      },
      "needs_background": "light"
     },
     "output_type": "display_data"
    }
   ],
   "source": [
    "import numpy as np\n",
    "import matplotlib.pyplot as plt\n",
    "\n",
    "# interpolação linear\n",
    "\n",
    "# coeficiente a0 = y0\n",
    "# coeficiente a1 = (y1-y0)/(x1-x0)\n",
    "\n",
    "# pontos\n",
    "x0,y0 = -1,4\n",
    "x1,y1 =  0,1\n",
    "\n",
    "# ordem 0\n",
    "a0 = y0\n",
    "\n",
    "# interpolador de Newton\n",
    "a1 = (y1-y0)/(x1-x0)\n",
    "P1 = lambda x: a0 + a1*(x-x0)\n",
    "\n",
    "# ponto interpolado\n",
    "xp = -0.35\n",
    "yp = P1(xp)\n",
    "yp\n",
    "\n",
    "# plotagem\n",
    "\n",
    "# nós\n",
    "plt.plot([x0,x1],[0,0],'ok')\n",
    "\n",
    "# valores nodais\n",
    "plt.plot([x0,x1],[y0,y1],'ok')\n",
    "\n",
    "# interpolador\n",
    "x = np.linspace(x0,x1,30,endpoint=True)\n",
    "plt.plot(x,P1(x),label='$P_1(x)$')\n",
    "\n",
    "# ponto interpolado\n",
    "plt.plot(xp,0,'sr')\n",
    "plt.plot(xp,yp,'sr')\n",
    "plt.axvline(xp,0,yp,c='r',ls='dashed')\n",
    "\n",
    "plt.grid()\n",
    "plt.legend(loc='best');"
   ]
  },
  {
   "cell_type": "code",
   "execution_count": 5,
   "metadata": {},
   "outputs": [
    {
     "data": {
      "text/plain": [
       "2.05"
      ]
     },
     "execution_count": 5,
     "metadata": {},
     "output_type": "execute_result"
    }
   ],
   "source": [
    "P1(xp)"
   ]
  },
  {
   "cell_type": "markdown",
   "metadata": {},
   "source": [
    "### Exemplo: \n",
    "\n",
    "Encontre o polinômio interpolador de Newton de ordem 2 $P_2(x)$ para a tabela abaixo\n",
    "\n",
    "|x|y|\n",
    "|-|-|\n",
    "|-1|4|\n",
    "|0|1|\n",
    "|2|-1|\n",
    "\n",
    "Compute o valor de $P_2(0.35)$."
   ]
  },
  {
   "cell_type": "code",
   "execution_count": 6,
   "metadata": {},
   "outputs": [
    {
     "ename": "FileNotFoundError",
     "evalue": "t.txt not found.",
     "output_type": "error",
     "traceback": [
      "\u001b[0;31m---------------------------------------------------------------------------\u001b[0m",
      "\u001b[0;31mFileNotFoundError\u001b[0m                         Traceback (most recent call last)",
      "\u001b[0;32m/var/folders/ll/g0vl8b194pbfyp4cwpzz4p740000gn/T/ipykernel_46216/2053503080.py\u001b[0m in \u001b[0;36m<module>\u001b[0;34m\u001b[0m\n\u001b[1;32m      1\u001b[0m \u001b[0;31m# leitura de planilha / dataset\u001b[0m\u001b[0;34m\u001b[0m\u001b[0;34m\u001b[0m\u001b[0m\n\u001b[0;32m----> 2\u001b[0;31m \u001b[0mx\u001b[0m\u001b[0;34m,\u001b[0m\u001b[0my\u001b[0m \u001b[0;34m=\u001b[0m \u001b[0mnp\u001b[0m\u001b[0;34m.\u001b[0m\u001b[0mloadtxt\u001b[0m\u001b[0;34m(\u001b[0m\u001b[0;34m't.txt'\u001b[0m\u001b[0;34m,\u001b[0m\u001b[0munpack\u001b[0m\u001b[0;34m=\u001b[0m\u001b[0;32mTrue\u001b[0m\u001b[0;34m)\u001b[0m\u001b[0;34m\u001b[0m\u001b[0;34m\u001b[0m\u001b[0m\n\u001b[0m\u001b[1;32m      3\u001b[0m \u001b[0;34m\u001b[0m\u001b[0m\n\u001b[1;32m      4\u001b[0m \u001b[0mx\u001b[0m \u001b[0;34m=\u001b[0m \u001b[0mnp\u001b[0m\u001b[0;34m.\u001b[0m\u001b[0mconcatenate\u001b[0m\u001b[0;34m(\u001b[0m \u001b[0;34m(\u001b[0m\u001b[0mx\u001b[0m\u001b[0;34m,\u001b[0m \u001b[0;34m[\u001b[0m\u001b[0;36m0.5\u001b[0m\u001b[0;34m]\u001b[0m\u001b[0;34m)\u001b[0m \u001b[0;34m)\u001b[0m\u001b[0;34m\u001b[0m\u001b[0;34m\u001b[0m\u001b[0m\n\u001b[1;32m      5\u001b[0m \u001b[0my\u001b[0m \u001b[0;34m=\u001b[0m \u001b[0mnp\u001b[0m\u001b[0;34m.\u001b[0m\u001b[0mconcatenate\u001b[0m\u001b[0;34m(\u001b[0m \u001b[0;34m(\u001b[0m\u001b[0my\u001b[0m\u001b[0;34m,\u001b[0m \u001b[0;34m[\u001b[0m\u001b[0;34m-\u001b[0m\u001b[0;36m4.2\u001b[0m\u001b[0;34m]\u001b[0m\u001b[0;34m)\u001b[0m \u001b[0;34m)\u001b[0m\u001b[0;34m\u001b[0m\u001b[0;34m\u001b[0m\u001b[0m\n",
      "\u001b[0;32m~/opt/anaconda3/lib/python3.9/site-packages/numpy/lib/npyio.py\u001b[0m in \u001b[0;36mloadtxt\u001b[0;34m(fname, dtype, comments, delimiter, converters, skiprows, usecols, unpack, ndmin, encoding, max_rows, quotechar, like)\u001b[0m\n\u001b[1;32m   1336\u001b[0m         \u001b[0mdelimiter\u001b[0m \u001b[0;34m=\u001b[0m \u001b[0mdelimiter\u001b[0m\u001b[0;34m.\u001b[0m\u001b[0mdecode\u001b[0m\u001b[0;34m(\u001b[0m\u001b[0;34m'latin1'\u001b[0m\u001b[0;34m)\u001b[0m\u001b[0;34m\u001b[0m\u001b[0;34m\u001b[0m\u001b[0m\n\u001b[1;32m   1337\u001b[0m \u001b[0;34m\u001b[0m\u001b[0m\n\u001b[0;32m-> 1338\u001b[0;31m     arr = _read(fname, dtype=dtype, comment=comment, delimiter=delimiter,\n\u001b[0m\u001b[1;32m   1339\u001b[0m                 \u001b[0mconverters\u001b[0m\u001b[0;34m=\u001b[0m\u001b[0mconverters\u001b[0m\u001b[0;34m,\u001b[0m \u001b[0mskiplines\u001b[0m\u001b[0;34m=\u001b[0m\u001b[0mskiprows\u001b[0m\u001b[0;34m,\u001b[0m \u001b[0musecols\u001b[0m\u001b[0;34m=\u001b[0m\u001b[0musecols\u001b[0m\u001b[0;34m,\u001b[0m\u001b[0;34m\u001b[0m\u001b[0;34m\u001b[0m\u001b[0m\n\u001b[1;32m   1340\u001b[0m                 \u001b[0munpack\u001b[0m\u001b[0;34m=\u001b[0m\u001b[0munpack\u001b[0m\u001b[0;34m,\u001b[0m \u001b[0mndmin\u001b[0m\u001b[0;34m=\u001b[0m\u001b[0mndmin\u001b[0m\u001b[0;34m,\u001b[0m \u001b[0mencoding\u001b[0m\u001b[0;34m=\u001b[0m\u001b[0mencoding\u001b[0m\u001b[0;34m,\u001b[0m\u001b[0;34m\u001b[0m\u001b[0;34m\u001b[0m\u001b[0m\n",
      "\u001b[0;32m~/opt/anaconda3/lib/python3.9/site-packages/numpy/lib/npyio.py\u001b[0m in \u001b[0;36m_read\u001b[0;34m(fname, delimiter, comment, quote, imaginary_unit, usecols, skiplines, max_rows, converters, ndmin, unpack, dtype, encoding)\u001b[0m\n\u001b[1;32m    973\u001b[0m             \u001b[0mfname\u001b[0m \u001b[0;34m=\u001b[0m \u001b[0mos\u001b[0m\u001b[0;34m.\u001b[0m\u001b[0mfspath\u001b[0m\u001b[0;34m(\u001b[0m\u001b[0mfname\u001b[0m\u001b[0;34m)\u001b[0m\u001b[0;34m\u001b[0m\u001b[0;34m\u001b[0m\u001b[0m\n\u001b[1;32m    974\u001b[0m         \u001b[0;32mif\u001b[0m \u001b[0misinstance\u001b[0m\u001b[0;34m(\u001b[0m\u001b[0mfname\u001b[0m\u001b[0;34m,\u001b[0m \u001b[0mstr\u001b[0m\u001b[0;34m)\u001b[0m\u001b[0;34m:\u001b[0m\u001b[0;34m\u001b[0m\u001b[0;34m\u001b[0m\u001b[0m\n\u001b[0;32m--> 975\u001b[0;31m             \u001b[0mfh\u001b[0m \u001b[0;34m=\u001b[0m \u001b[0mnp\u001b[0m\u001b[0;34m.\u001b[0m\u001b[0mlib\u001b[0m\u001b[0;34m.\u001b[0m\u001b[0m_datasource\u001b[0m\u001b[0;34m.\u001b[0m\u001b[0mopen\u001b[0m\u001b[0;34m(\u001b[0m\u001b[0mfname\u001b[0m\u001b[0;34m,\u001b[0m \u001b[0;34m'rt'\u001b[0m\u001b[0;34m,\u001b[0m \u001b[0mencoding\u001b[0m\u001b[0;34m=\u001b[0m\u001b[0mencoding\u001b[0m\u001b[0;34m)\u001b[0m\u001b[0;34m\u001b[0m\u001b[0;34m\u001b[0m\u001b[0m\n\u001b[0m\u001b[1;32m    976\u001b[0m             \u001b[0;32mif\u001b[0m \u001b[0mencoding\u001b[0m \u001b[0;32mis\u001b[0m \u001b[0;32mNone\u001b[0m\u001b[0;34m:\u001b[0m\u001b[0;34m\u001b[0m\u001b[0;34m\u001b[0m\u001b[0m\n\u001b[1;32m    977\u001b[0m                 \u001b[0mencoding\u001b[0m \u001b[0;34m=\u001b[0m \u001b[0mgetattr\u001b[0m\u001b[0;34m(\u001b[0m\u001b[0mfh\u001b[0m\u001b[0;34m,\u001b[0m \u001b[0;34m'encoding'\u001b[0m\u001b[0;34m,\u001b[0m \u001b[0;34m'latin1'\u001b[0m\u001b[0;34m)\u001b[0m\u001b[0;34m\u001b[0m\u001b[0;34m\u001b[0m\u001b[0m\n",
      "\u001b[0;32m~/opt/anaconda3/lib/python3.9/site-packages/numpy/lib/_datasource.py\u001b[0m in \u001b[0;36mopen\u001b[0;34m(path, mode, destpath, encoding, newline)\u001b[0m\n\u001b[1;32m    191\u001b[0m \u001b[0;34m\u001b[0m\u001b[0m\n\u001b[1;32m    192\u001b[0m     \u001b[0mds\u001b[0m \u001b[0;34m=\u001b[0m \u001b[0mDataSource\u001b[0m\u001b[0;34m(\u001b[0m\u001b[0mdestpath\u001b[0m\u001b[0;34m)\u001b[0m\u001b[0;34m\u001b[0m\u001b[0;34m\u001b[0m\u001b[0m\n\u001b[0;32m--> 193\u001b[0;31m     \u001b[0;32mreturn\u001b[0m \u001b[0mds\u001b[0m\u001b[0;34m.\u001b[0m\u001b[0mopen\u001b[0m\u001b[0;34m(\u001b[0m\u001b[0mpath\u001b[0m\u001b[0;34m,\u001b[0m \u001b[0mmode\u001b[0m\u001b[0;34m,\u001b[0m \u001b[0mencoding\u001b[0m\u001b[0;34m=\u001b[0m\u001b[0mencoding\u001b[0m\u001b[0;34m,\u001b[0m \u001b[0mnewline\u001b[0m\u001b[0;34m=\u001b[0m\u001b[0mnewline\u001b[0m\u001b[0;34m)\u001b[0m\u001b[0;34m\u001b[0m\u001b[0;34m\u001b[0m\u001b[0m\n\u001b[0m\u001b[1;32m    194\u001b[0m \u001b[0;34m\u001b[0m\u001b[0m\n\u001b[1;32m    195\u001b[0m \u001b[0;34m\u001b[0m\u001b[0m\n",
      "\u001b[0;32m~/opt/anaconda3/lib/python3.9/site-packages/numpy/lib/_datasource.py\u001b[0m in \u001b[0;36mopen\u001b[0;34m(self, path, mode, encoding, newline)\u001b[0m\n\u001b[1;32m    531\u001b[0m                                       encoding=encoding, newline=newline)\n\u001b[1;32m    532\u001b[0m         \u001b[0;32melse\u001b[0m\u001b[0;34m:\u001b[0m\u001b[0;34m\u001b[0m\u001b[0;34m\u001b[0m\u001b[0m\n\u001b[0;32m--> 533\u001b[0;31m             \u001b[0;32mraise\u001b[0m \u001b[0mFileNotFoundError\u001b[0m\u001b[0;34m(\u001b[0m\u001b[0;34mf\"{path} not found.\"\u001b[0m\u001b[0;34m)\u001b[0m\u001b[0;34m\u001b[0m\u001b[0;34m\u001b[0m\u001b[0m\n\u001b[0m\u001b[1;32m    534\u001b[0m \u001b[0;34m\u001b[0m\u001b[0m\n\u001b[1;32m    535\u001b[0m \u001b[0;34m\u001b[0m\u001b[0m\n",
      "\u001b[0;31mFileNotFoundError\u001b[0m: t.txt not found."
     ]
    }
   ],
   "source": [
    "# leitura de planilha / dataset\n",
    "x,y = np.loadtxt('t.txt',unpack=True)\n",
    "\n",
    "x = np.concatenate( (x, [0.5]) )\n",
    "y = np.concatenate( (y, [-4.2]) )\n",
    "\n",
    "for i in range(len(x)):\n",
    "    exec(f'x{i} = {x[i]}')\n",
    "    exec(f'y{i} = {y[i]}')\n",
    "\n",
    "\n",
    "DD0 = y0 # f[x0]\n",
    "DD1 = (y1 - y0)/(x1 - x0) # f[x0,x1]\n",
    "DD2 =  ( (y2 - y1)/(x2 - x1) - (y1 - y0)/(x1 - x0) ) / ( x2 - x0 )\n",
    "DD3 =  ( ( (y3 - y2)/(x3 - x2) - (y2 - y1)/(x2 - x1) ) / ( x3 - x1 ) - DD2 ) / (x3 - x0)\n",
    "\n",
    "# interpolante\n",
    "PIN_2 = lambda x: DD0 + DD1*(x - x0) + DD2*(x - x0)*(x - x1)\n",
    "PIN_3 = lambda x: PIN_2(x) + DD3*(x - x0)*(x - x1)*(x - x2)\n",
    "\n",
    "plt.plot(x,y*0,'vr',ms=10, alpha=1)\n",
    "xx = np.linspace(x.min(),x.max(),180)\n",
    "plt.plot(xx,PIN_3(xx),'sg',ms = 20, alpha=0.2)\n",
    "plt.plot(x,y,'oy',ms=10, alpha=1)"
   ]
  },
  {
   "cell_type": "code",
   "execution_count": null,
   "metadata": {},
   "outputs": [],
   "source": [
    "# interpolação quadrática\n",
    "\n",
    "# Usando tabela DD: \n",
    "# https://vnicius.github.io/numbiosis/interpolador-newton/index.html\n",
    "\n",
    "\n",
    "# par adicional \n",
    "x2,y2 = 2.,-1.\n",
    "\n",
    "# coeficiente a2 = f[x0,x1,x2] = ( f[x1,x2] - f[x0,x1] ) / (x2 - x0)\n",
    "# a2 = ( (y2-y1)/(x2-x1) - (y1-y0)/(x1-x0) )/(x2-x0)*(xx-x0)*(xx-x1)\n",
    "\n",
    "# interpolador de Newton\n",
    "P2 = lambda xx: P1(xx) + ( ( (y2-y1)/(x2-x1) - (y1-y0)/(x1-x0) )/(x2-x0) )*(xx-x0)*(xx-x1)\n",
    "\n",
    "\n",
    "# ponto interpolado\n",
    "yp = P2(xp)\n",
    "yp\n",
    "\n",
    "# plotagem\n",
    "\n",
    "# nós\n",
    "plt.plot([x0,x1,x2],[0,0,0],'ok')\n",
    "\n",
    "# valores nodais\n",
    "plt.plot([x0,x1,x2],[y0,y1,y2],'ok')\n",
    "\n",
    "# interpolador\n",
    "x = np.linspace(x0,x2,30,endpoint=True)\n",
    "plt.plot(x,P2(x),label='$P_2(x)$')\n",
    "\n",
    "# ponto interpolado\n",
    "plt.plot(xp,0,'sr')\n",
    "plt.plot(xp,yp,'sr')\n",
    "plt.axvline(xp,0,yp,c='r',ls='dashed')\n",
    "\n",
    "plt.grid()\n",
    "plt.legend(loc='best');"
   ]
  },
  {
   "cell_type": "code",
   "execution_count": null,
   "metadata": {},
   "outputs": [],
   "source": [
    "P2(xp)"
   ]
  },
  {
   "cell_type": "markdown",
   "metadata": {},
   "source": [
    "### Exemplo: \n",
    "\n",
    "Encontre o polinômio interpolador de Newton de ordem 3 $P_3(x)$ para a tabela abaixo\n",
    "\n",
    "|x|y|\n",
    "|-|-|\n",
    "|-1|4|\n",
    "|0|1|\n",
    "|2|-1|\n",
    "|3|1|\n",
    "\n",
    "Compute o valor de $P_3(0.35)$."
   ]
  },
  {
   "cell_type": "code",
   "execution_count": null,
   "metadata": {},
   "outputs": [],
   "source": [
    "# interpolação quadrática\n",
    "\n",
    "# Usando tabela DD: \n",
    "# https://vnicius.github.io/numbiosis/interpolador-newton/index.html\n",
    "\n",
    "\n",
    "# par adicional \n",
    "x3,y3 = 3.,1.\n",
    "\n",
    "# coeficiente a3 = f[x0,x1,x2,x3] \n",
    "\n",
    "# interpolador de Newton\n",
    "P3 = lambda xxx: P2(xxx) + 1/12*(xxx-x0)*(xxx-x1)*(xxx-x2)\n",
    "\n",
    "\n",
    "# ponto interpolado\n",
    "yp = P3(xp)\n",
    "yp\n",
    "\n",
    "# plotagem\n",
    "\n",
    "# nós\n",
    "plt.plot([x0,x1,x2,x3],[0,0,0,0],'ok')\n",
    "\n",
    "# valores nodais\n",
    "plt.plot([x0,x1,x2,x3],[y0,y1,y2,y3],'ok')\n",
    "\n",
    "# interpolador\n",
    "x = np.linspace(x0,x3,30,endpoint=True)\n",
    "plt.plot(x,P3(x),label='$P_3(x)$')\n",
    "\n",
    "# ponto interpolado\n",
    "plt.plot(xp,0,'sr')\n",
    "plt.plot(xp,yp,'sr')\n",
    "plt.axvline(xp,0,yp,c='r',ls='dashed')\n",
    "\n",
    "plt.grid()\n",
    "plt.legend(loc='best');"
   ]
  },
  {
   "cell_type": "code",
   "execution_count": null,
   "metadata": {},
   "outputs": [],
   "source": [
    "P3(-0.35)"
   ]
  },
  {
   "cell_type": "code",
   "execution_count": 7,
   "metadata": {},
   "outputs": [
    {
     "ename": "NameError",
     "evalue": "name 'P2' is not defined",
     "output_type": "error",
     "traceback": [
      "\u001b[0;31m---------------------------------------------------------------------------\u001b[0m",
      "\u001b[0;31mNameError\u001b[0m                                 Traceback (most recent call last)",
      "\u001b[0;32m/var/folders/ll/g0vl8b194pbfyp4cwpzz4p740000gn/T/ipykernel_46216/2290555631.py\u001b[0m in \u001b[0;36m<module>\u001b[0;34m\u001b[0m\n\u001b[1;32m      1\u001b[0m \u001b[0;31m# ponto interpolado\u001b[0m\u001b[0;34m\u001b[0m\u001b[0;34m\u001b[0m\u001b[0m\n\u001b[0;32m----> 2\u001b[0;31m \u001b[0mYP\u001b[0m \u001b[0;34m=\u001b[0m \u001b[0;34m[\u001b[0m\u001b[0mP1\u001b[0m\u001b[0;34m(\u001b[0m\u001b[0mxp\u001b[0m\u001b[0;34m)\u001b[0m\u001b[0;34m,\u001b[0m\u001b[0mP2\u001b[0m\u001b[0;34m(\u001b[0m\u001b[0mxp\u001b[0m\u001b[0;34m)\u001b[0m\u001b[0;34m,\u001b[0m\u001b[0mP3\u001b[0m\u001b[0;34m(\u001b[0m\u001b[0mxp\u001b[0m\u001b[0;34m)\u001b[0m\u001b[0;34m]\u001b[0m\u001b[0;34m\u001b[0m\u001b[0;34m\u001b[0m\u001b[0m\n\u001b[0m\u001b[1;32m      3\u001b[0m \u001b[0;34m\u001b[0m\u001b[0m\n\u001b[1;32m      4\u001b[0m \u001b[0;31m# plotagem\u001b[0m\u001b[0;34m\u001b[0m\u001b[0;34m\u001b[0m\u001b[0m\n\u001b[1;32m      5\u001b[0m \u001b[0;31m# nós\u001b[0m\u001b[0;34m\u001b[0m\u001b[0;34m\u001b[0m\u001b[0m\n",
      "\u001b[0;31mNameError\u001b[0m: name 'P2' is not defined"
     ]
    }
   ],
   "source": [
    "# ponto interpolado\n",
    "YP = [P1(xp),P2(xp),P3(xp)]\n",
    "\n",
    "# plotagem\n",
    "# nós\n",
    "plt.plot([x0,x1,x2,x3],[0,0,0,0],'ok')\n",
    "\n",
    "# valores nodais\n",
    "plt.plot([x0,x1,x2,x3],[y0,y1,y2,y3],'ok')\n",
    "\n",
    "# interpoladores\n",
    "x = np.linspace(x0,x3,30,endpoint=True)\n",
    "plt.plot(x,P1(x),'b',label='$P_1(x)$')\n",
    "plt.plot(x,P2(x),'c',label='$P_2(x)$')\n",
    "plt.plot(x,P3(x),'g',label='$P_3(x)$')\n",
    "\n",
    "# ponto interpolado\n",
    "plt.plot(xp,0,'sr')\n",
    "plt.plot([xp,xp,xp],YP,'sr')\n",
    "plt.axvline(xp,0,max(YP),c='r',ls='dashed')\n",
    "\n",
    "plt.grid()\n",
    "plt.legend(loc='best');"
   ]
  },
  {
   "cell_type": "markdown",
   "metadata": {},
   "source": [
    "## Comparação (zoom)"
   ]
  },
  {
   "cell_type": "code",
   "execution_count": 10,
   "metadata": {},
   "outputs": [
    {
     "data": {
      "image/png": "[encoded data removed]",
      "text/plain": [
       "<Figure size 432x288 with 1 Axes>"
      ]
     },
     "metadata": {
      "filenames": {
       "image/png": "/Users/gustavo/Dropbox/courses/calculo-numerico/LVMN/_build/jupyter_execute/ipynb/aula-15-interpolacao-newton_16_0.png"
      },
      "needs_background": "light"
     },
     "output_type": "display_data"
    }
   ],
   "source": [
    "# interpoladores\n",
    "x = np.linspace(-0.4,-0.3,30,endpoint=True)\n",
    "plt.plot(x,P1(x),'b',label='$P_1(x)$')\n",
    "plt.plot(x,P2(x),'c',label='$P_2(x)$')\n",
    "plt.plot(x,P3(x),'g',label='$P_3(x)$')\n",
    "\n",
    "# ponto interpolado\n",
    "plt.plot([xp,xp,xp],YP,'sr')\n",
    "plt.axvline(xp,0,max(YP),c='r',ls='dashed')\n",
    "\n",
    "plt.grid()\n",
    "plt.legend(loc='best');"
   ]
  },
  {
   "cell_type": "code",
   "execution_count": 11,
   "metadata": {},
   "outputs": [
    {
     "data": {
      "text/plain": [
       "20092402659.2048"
      ]
     },
     "execution_count": 11,
     "metadata": {},
     "output_type": "execute_result"
    }
   ],
   "source": [
    "import sympy as sym\n",
    "from sympy.abc import x\n",
    "\n",
    "P3x = 512 + 63*(x-2015) - 2.34*(x-2015)*(x-2017) - 2.45*(x-2015)*(x-2017)*(x-2020)\n",
    "P3xn = sym.lambdify(x, P3x) "
   ]
  },
  {
   "cell_type": "code",
   "execution_count": 24,
   "metadata": {},
   "outputs": [
    {
     "name": "stdout",
     "output_type": "stream",
     "text": [
      "Censo em 2021 = 775.0400000000081\n"
     ]
    },
    {
     "data": {
      "image/png": "[encoded data removed]",
      "text/plain": [
       "<Figure size 432x288 with 1 Axes>"
      ]
     },
     "metadata": {
      "filenames": {
       "image/png": "/Users/gustavo/Dropbox/courses/calculo-numerico/LVMN/_build/jupyter_execute/ipynb/aula-15-interpolacao-newton_18_1.png"
      },
      "needs_background": "light"
     },
     "output_type": "display_data"
    }
   ],
   "source": [
    "x = np.array([2015,2017,2020,2022])\n",
    "y = np.array([512,638,792,700])\n",
    "\n",
    "xn = np.linspace(2015,2022,num=100)\n",
    "\n",
    "plt.plot(x,y,'o')\n",
    "plt.plot(xn,P3xn(xn))\n",
    "\n",
    "xx = 2021\n",
    "yy = P3xn(xx)\n",
    "plt.plot(xx,yy,'sg')\n",
    "plt.axvline(x=xx)\n",
    "print(f'Censo em {xx} = {yy}')"
   ]
  },
  {
   "cell_type": "code",
   "execution_count": null,
   "metadata": {},
   "outputs": [],
   "source": []
  }
 ],
 "metadata": {
  "kernelspec": {
   "display_name": "Python 3 (ipykernel)",
   "language": "python",
   "name": "python3"
  },
  "language_info": {
   "codemirror_mode": {
    "name": "ipython",
    "version": 3
   },
   "file_extension": ".py",
   "mimetype": "text/x-python",
   "name": "python",
   "nbconvert_exporter": "python",
   "pygments_lexer": "ipython3",
   "version": "3.9.16"
  }
 },
 "nbformat": 4,
 "nbformat_minor": 4
}