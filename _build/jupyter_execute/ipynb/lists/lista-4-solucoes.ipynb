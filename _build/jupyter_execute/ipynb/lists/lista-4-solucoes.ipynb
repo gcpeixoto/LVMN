{
 "cells": [
  {
   "cell_type": "markdown",
   "metadata": {},
   "source": [
    "# Lista de Exercícios 4\n",
    "\n",
    "Solucionário matemático e computacional de exercícios selecionados da Lista de Exercícios 4."
   ]
  },
  {
   "cell_type": "code",
   "execution_count": 1,
   "metadata": {},
   "outputs": [],
   "source": [
    "%matplotlib inline"
   ]
  },
  {
   "cell_type": "code",
   "execution_count": 1,
   "metadata": {},
   "outputs": [],
   "source": [
    "import numpy as np\n",
    "import sympy as sy\n",
    "import matplotlib.pyplot as plt"
   ]
  },
  {
   "cell_type": "code",
   "execution_count": 2,
   "metadata": {},
   "outputs": [],
   "source": [
    "# Funções Implementadas\n",
    "\n",
    "# Solução de Sistemas\n",
    "\n",
    "def gaussjacobi(AB,ER,X0):\n",
    "    '''Realiza o cálculo de um sistema linear através do método de iterativo de Gauss-Jacobi.\n",
    "    \n",
    "    Sinopse:\n",
    "         X = gaussjacobi(AB,ER,X0)\n",
    "    \n",
    "    Entradas:\n",
    "         AB - Matriz aumentada (np.array) do sistema linear\n",
    "         ER - Erro relativo (forma decimal) entre a iteração i e a iteração i-1\n",
    "         X0 - Vetor estimativa inicial da solução\n",
    "     \n",
    "    Saídas:\n",
    "         X - Vetor solução do sistema linear\n",
    "         \n",
    "         @ney\n",
    "    '''\n",
    "    \n",
    "    A = AB[:,0:-1]\n",
    "    B = AB[:,-1]\n",
    "    X = X0\n",
    "    erro = 1\n",
    "    \n",
    "    while (erro > ER):\n",
    "        Xp = np.copy(X)\n",
    "        for i in range(len(A)):\n",
    "            s = 0\n",
    "            for j in range(len(A)):\n",
    "                if (i != j):\n",
    "                    s += A[i,j]*Xp[j]\n",
    "            X[i] = (B[i] - s)/A[i,i]\n",
    "        EA = np.absolute(X - Xp)\n",
    "        Emax = np.amax(EA)\n",
    "        idx = np.where(EA == Emax)\n",
    "        \n",
    "        if (len(idx[0]) > 1):\n",
    "            erro = np.absolute(EA[idx[0][0]]/X[idx[0][0]])\n",
    "        else:\n",
    "            erro = np.absolute(EA[idx[0]]/X[idx[0]])\n",
    "    \n",
    "    X = np.around(X, decimals=3)\n",
    "\n",
    "    return X\n",
    "\n",
    "def gaussseidel(AB,ER,X0):\n",
    "    ''' Função que realiza o cálculo de um sistema linear através do método de iterativo de Gauss-Seidel.\n",
    "    \n",
    "    Sinopse:\n",
    "         X = gaussseidel(AB,ER,X0)\n",
    "    \n",
    "    Entradas:\n",
    "         AB - Matriz aumentada (np.array) do sistema linear\n",
    "         ER - Erro relativo (forma decimal) entre a iteração i e a iteração i-1\n",
    "         X0 - Vetor estimativa inicial da solução\n",
    "     \n",
    "    Saídas:\n",
    "         X - Vetor solução do sistema linear\n",
    "         \n",
    "         @ney\n",
    "    '''\n",
    "    \n",
    "    A = AB[:,0:-1]\n",
    "    B = AB[:,-1]\n",
    "    X = X0\n",
    "    erro = 1\n",
    "    \n",
    "    while (erro > ER):\n",
    "        Xp = np.copy(X)\n",
    "        for i in range(len(A)):\n",
    "            s = 0\n",
    "            for j in range(len(A)):\n",
    "                if (i != j):\n",
    "                    s += A[i,j]*X[j]\n",
    "            X[i] = (B[i] - s)/A[i,i]\n",
    "        EA = np.absolute(X - Xp)\n",
    "        Emax = np.amax(EA)\n",
    "        idx = np.where(EA == Emax)\n",
    "        \n",
    "        if (len(idx[0]) > 1):\n",
    "            erro = np.absolute(EA[idx[0][0]]/X[idx[0][0]])\n",
    "        else:\n",
    "            erro = np.absolute(EA[idx[0]]/X[idx[0]])\n",
    "    \n",
    "    X = np.around(X, decimals=3)\n",
    "    \n",
    "    return X\n",
    "\n",
    "def jacobian(F,Xs):\n",
    "    '''Função que realiza o cálculo da matriz jacobiana.\n",
    "    \n",
    "    Sinopse:\n",
    "         J = jacobian(F,Xs)\n",
    "    \n",
    "    Entradas:\n",
    "         F - Vetor contendo as equações (simbólicas) do sistema não-linear\n",
    "         Xs - Vetor contendo as variáveis (simbólicas) do sistema não-linear\n",
    "    \n",
    "    Saídas:\n",
    "         J - Matriz jacobiana (simbólica)\n",
    "         \n",
    "         @ney\n",
    "    '''\n",
    "    J = sy.zeros(len(Xs), len(Xs))\n",
    "    \n",
    "    for i in range(len(Xs)):\n",
    "        for j in range(len(Xs)):\n",
    "            J[i,j] = sy.diff(F[i],Xs[j])\n",
    "    \n",
    "    return J\n",
    "\n",
    "def newtonnaolin(F,Xs,ER,X0):\n",
    "    '''Função que realiza o cálculo de um sistema não-linear através do método de iterativo de Newton.\n",
    "    \n",
    "    Sinopse:\n",
    "         X = newtonnaolin(F,Xs,ER,X0)\n",
    "    \n",
    "    Entradas:\n",
    "         F  - Vetor (sy.Matrix) contendo as equações (simbólicas) do sistema não-linear\n",
    "         Xs - Vetor (sy.Matrix) contendo as variáveis (simbólico) do sistema não linear\n",
    "         ER - Erro relativo (forma decimal) entre a iteração i e a iteração i-1\n",
    "         X0 - Vetor estimativa inicial da solução\n",
    "     \n",
    "    Saídas:\n",
    "         X - Vetor solução do sistema linear\n",
    "         \n",
    "         @ney\n",
    "    '''\n",
    "    \n",
    "    J = jacobian(F,Xs)\n",
    "    erro = 1\n",
    "    X = np.copy(X0)\n",
    "    \n",
    "    while (erro > ER):\n",
    "        Xp = np.copy(X)\n",
    "        A = J[:,:]\n",
    "        B = F[:,:]\n",
    "        subs = []\n",
    "        \n",
    "        for i in range(len(Xs)):\n",
    "            subs.append((Xs[i],X[i]))\n",
    "            \n",
    "        A = np.asarray(A.subs(subs), dtype=float)\n",
    "        B = np.asarray(B.subs(subs), dtype=float)\n",
    "        B *= -1\n",
    "        \n",
    "        S = np.linalg.solve(A,B)\n",
    "        S = np.transpose(S)\n",
    "        \n",
    "        X += S[0]\n",
    "        \n",
    "        EA = np.absolute(X - Xp)\n",
    "        Emax = np.amax(EA)\n",
    "        idx = np.where(EA == Emax)\n",
    "        \n",
    "        if (len(idx[0]) > 1):\n",
    "            erro = np.absolute(EA[idx[0][0]]/X[idx[0][0]])\n",
    "        else:\n",
    "            erro = np.absolute(EA[idx[0]]/X[idx[0]])\n",
    "    \n",
    "    X = np.around(X, decimals=3)\n",
    "    \n",
    "    return X\n",
    "\n",
    "# Interpolação\n",
    "\n",
    "def int_newton(X, Y, x0):\n",
    "    '''Função que realiza a interpolação de grau n de n+1 pontos dados, utilizando o método das diferenças divididas\n",
    "    de Newton.\n",
    "    \n",
    "    Sinopse:\n",
    "         y0 = int_newton(X, Y, x0)\n",
    "    \n",
    "    Entradas:\n",
    "         X - Array com as coordenadas em x para os pontos dados\n",
    "         Y - Array com as coordenadas em y para os pontos dados\n",
    "         x0 - Ponto ao qual se deseja a estimativa f(x0)\n",
    "     \n",
    "    Saídas:\n",
    "         y0 - Estimativa desejada f(x0)\n",
    "         \n",
    "         @ney\n",
    "    '''\n",
    "    \n",
    "    n = len(X)\n",
    "    x = sy.symbols(\"x\")\n",
    "    \n",
    "    dx = []\n",
    "    f = []\n",
    "    aux = np.diff(Y)\n",
    "\n",
    "    for i in range(1,n):\n",
    "        dx.append(X[i:] - X[:-i])\n",
    "        f.append(aux/dx[i-1]) # Diferenças Divididas\n",
    "        aux = np.diff(f[i-1])\n",
    "    \n",
    "    b = []\n",
    "    \n",
    "    for i in f:\n",
    "        b.append(i[0]) # Coeficientes do polinômio\n",
    "    \n",
    "    f = Y[0]\n",
    "    aux = 1\n",
    "\n",
    "    for i in range(n-1):\n",
    "        aux *= x - X[i]\n",
    "        f += b[i]*aux # Polinômio\n",
    "        \n",
    "    y0 = f.subs(x,x0) # Estimativa desejada\n",
    "    \n",
    "    return float(y0)\n",
    "\n",
    "def int_lagrange(X, Y, x0):\n",
    "    '''Função que realiza a interpolação de grau n de n+1 pontos dados, utilizando o método de Lagrange.\n",
    "    \n",
    "    Sinopse:\n",
    "         y0 = int_lagrange(X, Y, x0)\n",
    "    \n",
    "    Entradas:\n",
    "         X - Vetor com as coordenadas em x para pontos dados\n",
    "         Y - Vetor com as coordenadas em y para pontos dados\n",
    "         x0 - Ponto ao qual se deseja a estimativa f(x0)\n",
    "     \n",
    "    Saídas:\n",
    "         y0 - Estimativa desejada f(x0)\n",
    "         \n",
    "         @ney\n",
    "    '''     \n",
    "    \n",
    "    n = len(X)\n",
    "    x = sy.symbols(\"x\")\n",
    "    f = 0\n",
    "    \n",
    "    for i in range(n):\n",
    "        L = 1\n",
    "        for j in range(n):\n",
    "            if (i != j):\n",
    "                L *= (x - X[j])/(X[i] - X[j])\n",
    "        f += L*Y[i] # Polinômio\n",
    "    \n",
    "    y0 = f.subs(x,x0) # Estimativa desejada\n",
    "    \n",
    "    return float(y0)"
   ]
  },
  {
   "cell_type": "markdown",
   "metadata": {},
   "source": [
    "## Métodos iterativos para sistemas lineares"
   ]
  },
  {
   "cell_type": "markdown",
   "metadata": {},
   "source": [
    "### Questão 1\n",
    "\n",
    "Verifique o condicionamento e o critério das linhas para os sistemas abaixo e em seguida aplique o método de Gauss-Jacobi para determinar uma solução aproximada, com erro absoluto inferior a $10^{-2}$, tomando a aproximação inicial $x^{(0)} = 0$.\n",
    "\n",
    "(a) \\begin{cases}\n",
    "2x_1 − x_2 = 1 \\\\\n",
    "x_1 + 2x_2 = 3\n",
    "\\end{cases}\n",
    "\n",
    "(b) \\begin{cases}\n",
    "x_1 − 0.25x_2 − 0.25x_3 = 0 \\\\\n",
    "−0.25x_1 + x_2 − 0.25x_4 = 0 \\\\\n",
    "−0.25x_1 + x_3 − 0.25x_4 = 0.25 \\\\\n",
    "−0.25x_2 + x_4 = 0.25\n",
    "\\end{cases}\n",
    "\n",
    "**Obs.** Tome como número de condicionamento o valor $C = det(Ã)$, em que $Ã$ e obtida de $A$ fazendo com que o maior elemento em valor absoluto em cada linha de $Ã$ seja igual a $1$."
   ]
  },
  {
   "cell_type": "code",
   "execution_count": 3,
   "metadata": {},
   "outputs": [
    {
     "name": "stdout",
     "output_type": "stream",
     "text": [
      "(a)\n",
      "O número C de condicionamento é: 5.0\n",
      "\n",
      "A solução do problema é:\n",
      " [[0.998]\n",
      " [1.002]]\n",
      "\n",
      "(b)\n",
      "O número C de condicionamento é: 0.812\n",
      "\n",
      "A solução do problema é:\n",
      " [[0.107]\n",
      " [0.093]\n",
      " [0.343]\n",
      " [0.272]]\n"
     ]
    }
   ],
   "source": [
    "# Solução\n",
    "\n",
    "# (a)\n",
    "A = np.array([[2., -1.], [1., 2.]]) # Matriz de coeficientes constantes\n",
    "B = np.array([[1.], [3.]]) # Vetor de constantes\n",
    "X = np.array([[0.], [0.]]) # Estimativa inicial (X0)\n",
    "EA = 10**(-2)\n",
    "erro = 1\n",
    "\n",
    "while (erro > EA):\n",
    "    Xp = np.copy(X)\n",
    "    for i in range(len(A)):\n",
    "        s = 0\n",
    "        for j in range(len(A)):\n",
    "            if (i != j):\n",
    "                s += A[i,j]*Xp[j]\n",
    "        X[i] = (B[i] - s)/A[i,i]\n",
    "    erro = np.amax(np.absolute(X - Xp))\n",
    "\n",
    "X = np.around(X, decimals=3)    \n",
    "    \n",
    "print(\"(a)\\nO número C de condicionamento é:\", np.around(np.linalg.det(A), decimals=3))\n",
    "print(\"\\nA solução do problema é:\\n\", X)\n",
    "\n",
    "# (b)\n",
    "A = np.array([[1., -0.25, -0.25, 0.], [-0.25, 1., 0., -0.25], [-0.25, 0., 1., -0.25], [0., -0.25, 0., 1.]]) # Coeficientes\n",
    "B = np.array([[0.], [0.], [0.25], [0.25]]) # Vetor de constantes\n",
    "X = np.array([[0.], [0.], [0.], [0.]]) # Estimativa inicial (X0)\n",
    "EA = 10**(-2)\n",
    "erro = 1\n",
    "\n",
    "while (erro > EA):\n",
    "    Xp = np.copy(X)\n",
    "    for i in range(len(A)):\n",
    "        s = 0\n",
    "        for j in range(len(A)):\n",
    "            if (i != j):\n",
    "                s += A[i,j]*Xp[j]\n",
    "        X[i] = (B[i] - s)/A[i,i]\n",
    "    erro = np.amax(np.absolute(X - Xp))\n",
    "\n",
    "X = np.around(X, decimals=3)    \n",
    "    \n",
    "print(\"\\n(b)\\nO número C de condicionamento é:\", np.around(np.linalg.det(A), decimals=3))\n",
    "print(\"\\nA solução do problema é:\\n\", X)"
   ]
  },
  {
   "cell_type": "markdown",
   "metadata": {},
   "source": [
    "### Questão 2\n",
    "\n",
    "Considere o sistema\n",
    "\n",
    "\\begin{cases}\n",
    "15c_1 − 2c_2 − c_3 = 3800 \\\\\n",
    "−3c_1 + 18c_2 − 6c_3 = 1200 \\\\\n",
    "−4c_1 − c_2 + 12c_3 = 2350\n",
    "\\end{cases}\n",
    "\n",
    "(a) Verifique o condicionamento do sistema.\n",
    "\n",
    "(b) Verifique o critério das linhas.\n",
    "\n",
    "(c) Verifique o critério de Sassenfeld.\n",
    "\n",
    "(d) Determine uma solução aproximada do sistema com erro relativo percentual abaixo de $5\\%$ usando o método iterativo de Gauss-Jacobi.\n",
    "\n",
    "(e) Repita o item (d) usando o método de Gauss-Seidel.\n",
    "\n",
    "(f) Compare o número de iterações nos itens (d) e (e)."
   ]
  },
  {
   "cell_type": "code",
   "execution_count": 4,
   "metadata": {},
   "outputs": [
    {
     "name": "stdout",
     "output_type": "stream",
     "text": [
      "(d) A solução de X é:\n",
      " [[301.184]\n",
      " [216.637]\n",
      " [311.689]]\n",
      "\n",
      "(e) A solução de X é:\n",
      " [[302.072]\n",
      " [220.055]\n",
      " [314.862]]\n",
      "\n",
      "(f) O número de iterações pelo método de Gauss-Jacobi foi: 4\n",
      "O número de iterações pelo método de Gauss-Seidel foi: 3\n"
     ]
    }
   ],
   "source": [
    "# Solução\n",
    "\n",
    "AB = np.array([[15., -2., -1., 3800.], [-3., 18., -6., 1200.], [-4., -1., 12., 2350.]])\n",
    "ER = 5/100\n",
    "X0 = np.array([[0.], [0.], [0.]])\n",
    "\n",
    "# (d) Gauss-Jacobi\n",
    "A = AB[:,0:-1]\n",
    "B = AB[:,-1]\n",
    "X = np.copy(X0)\n",
    "erro = 1\n",
    "k1 = 0\n",
    "    \n",
    "while (erro > ER):\n",
    "    Xp = np.copy(X)\n",
    "    for i in range(len(A)):\n",
    "        s = 0\n",
    "        for j in range(len(A)):\n",
    "            if (i != j):\n",
    "                s += A[i,j]*Xp[j]\n",
    "        X[i] = (B[i] - s)/A[i,i]\n",
    "    EA = np.absolute(X - Xp)\n",
    "    Emax = np.amax(EA)\n",
    "    idx = np.where(EA == Emax)\n",
    "    erro = np.absolute(EA[idx[0]]/X[idx[0]])\n",
    "    k1 += 1\n",
    "\n",
    "X = np.around(X, decimals=3)    \n",
    "    \n",
    "print(\"(d) A solução de X é:\\n\", X)\n",
    "\n",
    "# (e) Gauss-Seidel\n",
    "A = AB[:,0:-1]\n",
    "B = AB[:,-1]\n",
    "X = np.copy(X0)\n",
    "erro = 1\n",
    "k2 = 0\n",
    "    \n",
    "while (erro > ER):\n",
    "    Xp = np.copy(X)\n",
    "    for i in range(len(A)):\n",
    "        s = 0\n",
    "        for j in range(len(A)):\n",
    "            if (i != j):\n",
    "                s += A[i,j]*X[j]\n",
    "        X[i] = (B[i] - s)/A[i,i]\n",
    "    EA = np.absolute(X - Xp)\n",
    "    Emax = np.amax(EA)\n",
    "    idx = np.where(EA == Emax)\n",
    "    erro = np.absolute(EA[idx[0]]/X[idx[0]])\n",
    "    k2 += 1\n",
    "\n",
    "X = np.around(X, decimals=3)\n",
    "\n",
    "print(\"\\n(e) A solução de X é:\\n\", X)\n",
    "\n",
    "# (f)\n",
    "print(\"\\n(f) O número de iterações pelo método de Gauss-Jacobi foi:\", k1)\n",
    "print(\"O número de iterações pelo método de Gauss-Seidel foi:\", k2)"
   ]
  },
  {
   "cell_type": "markdown",
   "metadata": {},
   "source": [
    "### Questão 3\n",
    "\n",
    "Use o método iterativo de Gauss-Seidel para determinar uma solução aproximada do sistema com erro relativo percentual abaixo de $5\\%$ dos seguintes sistemas. Antes verifique o critério de Sassenfeld e caso algum dos sitemas não o satisfaça, reorganize o sistema permutando linhas e/ou colunas para garantir a convergência.\n",
    "\n",
    "(a) \\begin{cases}\n",
    "10x_1 + 2x_2 − x_3 = 27 \\\\\n",
    "−3x_1 − 6x_2 + 2x_3 = −61.5 \\\\\n",
    "x_1 + x_2 + 5x_3 = −21.5\n",
    "\\end{cases}\n",
    "\n",
    "(b) \\begin{cases}\n",
    "−3x_1 + x_2 + 12x_3 = 50 \\\\\n",
    "6x_1 − x_2 − x_3 = 3 \\\\\n",
    "6x_1 + 9x_2 + x_3 = 40\n",
    "\\end{cases}\n",
    "\n",
    "(c) \\begin{cases}\n",
    "2x_1 − 6x_2 − x_3 = −38 \\\\\n",
    "−3x_1 − x_2 + 7x_3 = −34 \\\\\n",
    "−8x_1 + x_2 − 2x_3 = −20\n",
    "\\end{cases}"
   ]
  },
  {
   "cell_type": "code",
   "execution_count": 5,
   "metadata": {},
   "outputs": [
    {
     "name": "stdout",
     "output_type": "stream",
     "text": [
      "(a)\n",
      "A solução do sistema linear é: \n",
      " [ 0.5  8.  -6. ]\n",
      "\n",
      "(b)\n",
      "A solução do sistema linear é: \n",
      " [1.697 2.829 4.355]\n",
      "\n",
      "(c)\n",
      "A solução do sistema linear é: \n",
      " [ 4.005  7.992 -1.999]\n"
     ]
    }
   ],
   "source": [
    "# Solução\n",
    "\n",
    "# (a)\n",
    "AB = np.array([[10., 2., -1., 27.], [-3., -6., 2., -61.5], [1., 1., 5., -21.5]])\n",
    "ER = 5/100\n",
    "X0 = np.array([0., 0., 0.])\n",
    "X = gaussseidel(AB,ER,X0)\n",
    "print(\"(a)\\nA solução do sistema linear é: \\n\", X)\n",
    "\n",
    "# (b)\n",
    "AB = np.array([[6., -1., -1., 3.], [6., 9., 1., 40.], [-3., 1., 12., 50.]])\n",
    "ER = 5/100\n",
    "X0 = np.array([0., 0., 0.])\n",
    "X = gaussseidel(AB,ER,X0)\n",
    "print(\"\\n(b)\\nA solução do sistema linear é: \\n\", X)\n",
    "\n",
    "# (c)\n",
    "AB = np.array([[-8., 1., -2., -20.], [2., -6., -1., -38.], [-3., -1., 7., -34.]])\n",
    "ER = 5/100\n",
    "X0 = np.array([0., 0., 0.])\n",
    "X = gaussseidel(AB,ER,X0)\n",
    "print(\"\\n(c)\\nA solução do sistema linear é: \\n\", X)"
   ]
  },
  {
   "cell_type": "markdown",
   "metadata": {},
   "source": [
    "### Questão 4\n",
    "Dos seguintes sistemas abaixo identifique qual(is) deles nao pode(m) ser resolvido(s) usando o método iterativo de Gauss-Seidel.\n",
    "\n",
    "(a) \\begin{cases}\n",
    "9x + 3y + z = 13 \\\\\n",
    "−6x + 8z = 2 \\\\\n",
    "2x + 5y − z = 6\n",
    "\\end{cases}\n",
    "\n",
    "(b) \\begin{cases}\n",
    "x + y + 6z = 8 \\\\\n",
    "x + 5y − z = 5 \\\\\n",
    "4x + 2y − 2z = 4\n",
    "\\end{cases}\n",
    "\n",
    "(c) \\begin{cases}\n",
    "−3x + 4y + 5z = 6 \\\\\n",
    "−2x + 2y − 3z = −3 \\\\\n",
    "2y − z = 1\n",
    "\\end{cases}"
   ]
  },
  {
   "cell_type": "markdown",
   "metadata": {},
   "source": [
    "#### Solução\n",
    "\n",
    "(a) Convergente\n",
    "\n",
    "(b) Divergente \n",
    "\n",
    "(c) Divergente"
   ]
  },
  {
   "cell_type": "markdown",
   "metadata": {},
   "source": [
    "### Questão 5\n",
    "\n",
    "Uma companhia de eletrônica produz transistores, resistores e chips de computador. Cada transistor usa quatro unidades de cobre, uma unidade de zinco e duas unidades de vidro. Cada resisitor usa três, três e uma unidades de cada material, respectivamente, e cada chip de computador usa duas, uma e três unidades desses materiais, respectivamente. Colocando essas \n",
    "informações em uma tabela, tem-se:\n",
    "\n",
    "Componente | Cobre | Zinco | Vidro\n",
    "-|-|-|-\n",
    "Transistor | 4 | 1 | 2\n",
    "Resistor | 3 | 3 | 1\n",
    "Chip de Computador | 2 | 1 | 3\n",
    "\n",
    "O fornecimento desses materiais varia de semana para semana. Assim, a companhia precisa determinar uma meta de produção diferente para cada semana. Por exemplo, em uma semana a quantidade total de materiais disponíveis era 960 unidades de cobre, 510 unidades de zinco e 610 unidades de vidro. Determine o sistema de equações que modela essa meta de produção e determine a sua solução, pelo método de Gauss-Seidel, para determinar o número de transistores, resistores e chips de computador fabricados nessa semana."
   ]
  },
  {
   "cell_type": "code",
   "execution_count": 6,
   "metadata": {},
   "outputs": [
    {
     "name": "stdout",
     "output_type": "stream",
     "text": [
      "[T,R,C] = [120. 100.  90.]\n"
     ]
    }
   ],
   "source": [
    "# Solução\n",
    "\n",
    "AB = np.array([[4., 3., 2., 960.], [1., 3., 1., 510.], [2., 1., 3., 610.]])\n",
    "ER = 1/100\n",
    "X0 = np.array([[0.], [0.], [0.]])\n",
    "\n",
    "X = gaussseidel(AB,ER,X0)\n",
    "X = np.transpose(np.rint(X))\n",
    "print(\"[T,R,C] =\", X[0])"
   ]
  },
  {
   "cell_type": "markdown",
   "metadata": {},
   "source": [
    "## Sistemas não-lineares"
   ]
  },
  {
   "cell_type": "markdown",
   "metadata": {},
   "source": [
    "### Questão 6\n",
    "\n",
    "Usando o Método de Newton, determinar uma raiz para cada sistema não-linear abaixo com precisão $\\epsilon= 10^{-3}$:\n",
    "\n",
    "(i) $$\\begin{cases} x^2 + y^2 = 2 \\\\ x^2 - y^2 = 1 \\end{cases} \\quad \n",
    "x^{(0)} = \\begin{bmatrix} 1.2 \\\\ 0.7 \\end{bmatrix}$$\n",
    "\n",
    "(ii) $$\\begin{cases} 3x^2 y - y^3 = 4 \\\\ x^2 - x y^3 = 9 \\end{cases} \\quad\n",
    "x^{(0)} = \\begin{bmatrix} -1 \\\\ -2 \\end{bmatrix}$$\n",
    "\n",
    "(i) $$\\begin{cases} (x-1)^2 + y^2 = 4 \\\\ x^2 + (y-1)^2 = 4 \\end{cases} \\quad\n",
    "x^{(0)} = \\begin{bmatrix} 2 \\\\ 1 \\end{bmatrix}$$"
   ]
  },
  {
   "cell_type": "code",
   "execution_count": 7,
   "metadata": {},
   "outputs": [
    {
     "name": "stdout",
     "output_type": "stream",
     "text": [
      "(i) A solução do problema é: [1.225 0.707]\n",
      "\n",
      "(ii) A solução do problema é: [3.002 0.148]\n",
      "\n",
      "(iii) A solução do problema é: [1.823 1.823]\n"
     ]
    }
   ],
   "source": [
    "# Solução\n",
    "\n",
    "x, y = sy.symbols(\"x, y\")\n",
    "Xs = sy.Matrix([x, y])\n",
    "ER = 1/100\n",
    "\n",
    "# (i)\n",
    "F = sy.Matrix([x**2 + y**2 - 2, x**2 - y**2 - 1])\n",
    "X0 = np.array([1.2, 0.7])\n",
    "X = newtonnaolin(F,Xs,ER,X0)\n",
    "print(\"(i) A solução do problema é:\", X)\n",
    "\n",
    "# (ii)\n",
    "F = sy.Matrix([3*(x**2)*y - y**3 - 4, x**2 - x*y**3 - 9])\n",
    "X0 = np.array([-1., -2.])\n",
    "X = newtonnaolin(F,Xs,ER,X0)\n",
    "print(\"\\n(ii) A solução do problema é:\", X)\n",
    "\n",
    "# (iii)\n",
    "F = sy.Matrix([(x-1)**2 + y**2 - 4, x**2 + (y-1)**2 - 4])\n",
    "X0 = np.array([2., 1.])\n",
    "X = newtonnaolin(F,Xs,ER,X0)\n",
    "print(\"\\n(iii) A solução do problema é:\", X)"
   ]
  },
  {
   "cell_type": "markdown",
   "metadata": {},
   "source": [
    "## Interpolação Polinomial "
   ]
  },
  {
   "cell_type": "markdown",
   "metadata": {},
   "source": [
    "### Questão 7\n",
    "\n",
    "Use um polinômio interpolador de Lagrange de primeiro e segundo graus para calcular $ln(2)$, com base nos seguintes dados:\n",
    "\n",
    "$x_i$ | $f(x_i)$\n",
    "-|-\n",
    "1 | 0\n",
    "4 | 1.386294\n",
    "6 | 1.791759"
   ]
  },
  {
   "cell_type": "code",
   "execution_count": 8,
   "metadata": {},
   "outputs": [
    {
     "name": "stdout",
     "output_type": "stream",
     "text": [
      "(i)\n",
      "A estimativa de ln(2) para o polinômio de primeiro grau é: 0.46209799999999995\n",
      "\n",
      "(ii)\n",
      "A estimativa de ln(2) para o polinômio de segundo grau é: 0.5658441999999999\n"
     ]
    },
    {
     "data": {
      "image/png": "[encoded data removed]",
      "text/plain": [
       "<Figure size 432x288 with 1 Axes>"
      ]
     },
     "metadata": {
      "needs_background": "light"
     },
     "output_type": "display_data"
    }
   ],
   "source": [
    "# Solução\n",
    "\n",
    "X = [1, 4, 6]\n",
    "Y = [0, 1.386294, 1.791759]\n",
    "\n",
    "# (i) Polinômio de Primeiro Grau\n",
    "y1 = int_lagrange(X[0:2],Y[0:2],2)\n",
    "print(\"(i)\\nA estimativa de ln(2) para o polinômio de primeiro grau é:\", y1)\n",
    "\n",
    "# (i) Polinômio de Segundo Grau\n",
    "y2 = int_lagrange(X,Y,2)\n",
    "print(\"\\n(ii)\\nA estimativa de ln(2) para o polinômio de segundo grau é:\", y2)\n",
    "\n",
    "plt.plot(X,Y, 'o-')\n",
    "plt.plot(2,y1, 'or', 2,y2, 'og')\n",
    "plt.legend(['Spline Linear de y = ln(x)', 'Interpolação de 1°', 'Interpolação de 2°']);"
   ]
  },
  {
   "cell_type": "markdown",
   "metadata": {},
   "source": [
    "### Questão 8\n",
    "\n",
    "Faça uma estimativa de $log(10)$ usando interpolação linear\n",
    "\n",
    "(i) entre $log(8) = 0.9030900$ e $log(12) = 1.0791812$\n",
    "\n",
    "(ii) entre $log(9) = 0.9542425$ e $log(11) = 1.0413927$"
   ]
  },
  {
   "cell_type": "code",
   "execution_count": 9,
   "metadata": {},
   "outputs": [
    {
     "name": "stdout",
     "output_type": "stream",
     "text": [
      "(i)\n",
      "A estimativa de ln(10) é: 0.9911356000000002\n",
      "\n",
      "(ii)\n",
      "A estimativa de ln(10) é: 0.9978176\n"
     ]
    },
    {
     "data": {
      "image/png": "[encoded data removed]",
      "text/plain": [
       "<Figure size 432x288 with 1 Axes>"
      ]
     },
     "metadata": {
      "needs_background": "light"
     },
     "output_type": "display_data"
    }
   ],
   "source": [
    "# Solução\n",
    "\n",
    "# (i)\n",
    "X = [8, 12]\n",
    "Y = [0.9030900, 1.0791812]\n",
    "\n",
    "y1 = int_lagrange(X,Y,10)\n",
    "print(\"(i)\\nA estimativa de ln(10) é:\", y1)\n",
    "\n",
    "# (i)\n",
    "X = [9, 11]\n",
    "Y = [0.9542425, 1.0413927]\n",
    "\n",
    "y2 = int_lagrange(X,Y,10)\n",
    "print(\"\\n(ii)\\nA estimativa de ln(10) é:\", y2)\n",
    "\n",
    "X = [8, 9, 11, 12]\n",
    "Y = [0.9030900, 0.9542425, 1.0413927, 1.0791812]\n",
    "\n",
    "plt.plot(X,Y, 'o-')\n",
    "plt.plot(10,y1, 'or', 10,y2, 'og')\n",
    "plt.legend(['Spline Linear de y = log(x)', 'Interpolação (i)', 'Interpolação (ii)']);"
   ]
  },
  {
   "cell_type": "markdown",
   "metadata": {},
   "source": [
    "### Questão 9\n",
    "\n",
    "Considere os dados e faça o que se pede:\n",
    "\n",
    "x | y\n",
    "-|-\n",
    "1 | 3\n",
    "2 | 6\n",
    "3 | 19\n",
    "5 | 99\n",
    "7 | 291\n",
    "8 | 444\n",
    "\n",
    "(i) Calcule f(4) usando polinomios interpoladores de Lagrange de primeiro a terceiro graus.\n",
    "\n",
    "(ii) Calcule f(4) usando polinomios interpoladores de Newton de primeiro a quarto graus."
   ]
  },
  {
   "cell_type": "code",
   "execution_count": 10,
   "metadata": {},
   "outputs": [
    {
     "name": "stdout",
     "output_type": "stream",
     "text": [
      "(i)\n",
      "A estimativa de f(4) de primeiro grau é: 59.0\n",
      "A estimativa de f(4) de segundo grau é: 50.0\n",
      "A estimativa de f(4) de terceiro grau é: 48.0\n",
      "\n",
      "(ii)\n",
      "A estimativa de f(4) de primeiro grau é: 59.0\n",
      "A estimativa de f(4) de segundo grau é: 50.0\n",
      "A estimativa de f(4) de terceiro grau é: 48.0\n",
      "A estimativa de f(4) de quarto grau é: 48.0\n"
     ]
    },
    {
     "data": {
      "image/png": "[encoded data removed]",
      "text/plain": [
       "<Figure size 432x288 with 1 Axes>"
      ]
     },
     "metadata": {
      "needs_background": "light"
     },
     "output_type": "display_data"
    }
   ],
   "source": [
    "# Solução\n",
    "\n",
    "X = np.array([1, 2, 3, 5, 7, 8])\n",
    "Y = np.array([3, 6, 19, 99, 291, 444])\n",
    "\n",
    "# (i)\n",
    "y1 = int_lagrange(X[2:4],Y[2:4],4)\n",
    "print(\"(i)\\nA estimativa de f(4) de primeiro grau é:\", y1)\n",
    "y2 = int_lagrange(X[1:4],Y[1:4],4)\n",
    "print(\"A estimativa de f(4) de segundo grau é:\", y2)\n",
    "y3 = int_lagrange(X[:4],Y[:4],4)\n",
    "print(\"A estimativa de f(4) de terceiro grau é:\", y3)\n",
    "\n",
    "# (i)\n",
    "y4 = int_newton(X[2:4],Y[2:4],4)\n",
    "print(\"\\n(ii)\\nA estimativa de f(4) de primeiro grau é:\", y4)\n",
    "y5 = int_newton(X[1:4],Y[1:4],4)\n",
    "print(\"A estimativa de f(4) de segundo grau é:\", y5)\n",
    "y6 = int_newton(X[:4],Y[:4],4)\n",
    "print(\"A estimativa de f(4) de terceiro grau é:\", y6)\n",
    "y7 = int_newton(X[:-1],Y[:-1],4)\n",
    "print(\"A estimativa de f(4) de quarto grau é:\", y7)\n",
    "\n",
    "plt.plot(X,Y, 'o-')\n",
    "plt.plot(4,y1, 'o', 4,y2, 'o', 4,y3, 'o', 4,y4, 'o', 4,y5, 'o', 4,y6, 'o', 4,y7, 'o')\n",
    "plt.legend(['Spline Linear de y = log(x)']);"
   ]
  },
  {
   "cell_type": "markdown",
   "metadata": {},
   "source": [
    "### Questão 10\n",
    "\n",
    "Conhecendo a seguinte tabela\n",
    "\n",
    "x | f(x)\n",
    "-|-\n",
    "-1 | 15\n",
    "0 | 8\n",
    "3 | -1\n",
    "\n",
    "determine:\n",
    "\n",
    "(i) O polinômio de interpolação para a função definida por este conjunto de pares de pontos. Ou seja, determine a solução do sistema\n",
    "\n",
    "$$ Xa = f $$\n",
    "\n",
    "para o vetor de $a$ dos coeficientes de $P_2(x)$.\n",
    "\n",
    "(ii) O polinomio de interpolação na forma de Newton."
   ]
  },
  {
   "cell_type": "code",
   "execution_count": 11,
   "metadata": {},
   "outputs": [
    {
     "name": "stdout",
     "output_type": "stream",
     "text": [
      "O polinômio é: P(x) = 1.0*x**2 - 6.0*x + 8.0\n"
     ]
    }
   ],
   "source": [
    "# Solução\n",
    "\n",
    "X = np.array([-1, 0, 3])\n",
    "Y = np.array([15, 8, -1])\n",
    "\n",
    "n = len(X)\n",
    "x = sy.symbols(\"x\")\n",
    "    \n",
    "dx = []\n",
    "f = []\n",
    "aux = np.diff(Y)\n",
    "\n",
    "for i in range(1,n):\n",
    "    dx.append(X[i:] - X[:-i])\n",
    "    f.append(aux/dx[i-1])\n",
    "    aux = np.diff(f[i-1])\n",
    "    \n",
    "b = []\n",
    "    \n",
    "for i in f:\n",
    "    b.append(i[0])\n",
    "    \n",
    "f = Y[0]\n",
    "aux = 1\n",
    "\n",
    "for i in range(n-1):\n",
    "    aux *= x - X[i]\n",
    "    f += b[i]*aux\n",
    "\n",
    "print(\"O polinômio é: P(x) =\", sy.simplify(f))"
   ]
  },
  {
   "cell_type": "markdown",
   "metadata": {},
   "source": [
    "### Questão 11\n",
    "\n",
    "Usando os dados da tabela do exercício anterior:\n",
    "\n",
    "(i) Determine $P_2(x)$ pela forma de Lagrange.\n",
    "\n",
    "(ii) Calcule uma aproximação para $f(1)$ usando o item (i)."
   ]
  },
  {
   "cell_type": "code",
   "execution_count": 12,
   "metadata": {},
   "outputs": [
    {
     "name": "stdout",
     "output_type": "stream",
     "text": [
      "(i)\n",
      "P(x) = x**2 - 6*x + 8\n",
      "\n",
      "(ii)\n",
      "A aproximação para f(1) é: 3.0\n"
     ]
    },
    {
     "data": {
      "image/png": "[encoded data removed]",
      "text/plain": [
       "<Figure size 432x288 with 1 Axes>"
      ]
     },
     "metadata": {
      "needs_background": "light"
     },
     "output_type": "display_data"
    }
   ],
   "source": [
    "# Solução\n",
    "\n",
    "X = [-1, 0, 3]\n",
    "Y = [15, 8, -1]\n",
    "\n",
    "# (i)\n",
    "n = len(X)\n",
    "x = sy.symbols(\"x\")\n",
    "f = 0\n",
    "    \n",
    "for i in range(n):\n",
    "    L = 1\n",
    "    for j in range(n):\n",
    "        if (i != j):\n",
    "            L *= (x - X[j])/(X[i] - X[j])\n",
    "    f += L*Y[i]\n",
    "\n",
    "print(\"(i)\\nP(x) =\", sy.simplify(f))\n",
    "\n",
    "# (ii)\n",
    "y = f.subs(x,1)\n",
    "\n",
    "print(\"\\n(ii)\\nA aproximação para f(1) é:\", float(y))\n",
    "\n",
    "plt.plot(X,Y, 'o-')\n",
    "plt.plot(1,y, 'o')\n",
    "plt.legend(['Spline Linear de y = f(x)', 'Valor Interpolado']);"
   ]
  },
  {
   "cell_type": "markdown",
   "metadata": {},
   "source": [
    "### Questão 12\n",
    "\n",
    "Dada a tabela:\n",
    "\n",
    "$x$ | $x e^{3x}$\n",
    "-|-\n",
    "0 | 1\n",
    "0.1 | 1.3499\n",
    "0.2 | 1.8221\n",
    "0.3 | 2.4596\n",
    "0.4 | 3.3201\n",
    "0.5 | 4.4817\n",
    "\n",
    "calcule $f(0.25)$, onde $f(x) = x e^{3x}$ usando polinômio de interpolação do 2° grau:\n",
    "\n",
    "(i) Usando $x_0 = 0.2, x_1 = 0.3, x_2 = 0.4$;\n",
    "\n",
    "(ii) Usando $x_0 = 0.1, x_1 = 0.2, x_2 = 0.3$;"
   ]
  },
  {
   "cell_type": "code",
   "execution_count": 13,
   "metadata": {},
   "outputs": [
    {
     "name": "stdout",
     "output_type": "stream",
     "text": [
      "(i)\n",
      "A estimativa de f(0.25) é: 2.112975\n",
      "\n",
      "(ii)\n",
      "A estimativa de f(0.25) é: 2.1201875\n"
     ]
    },
    {
     "data": {
      "image/png": "[encoded data removed]",
      "text/plain": [
       "<Figure size 432x288 with 1 Axes>"
      ]
     },
     "metadata": {
      "needs_background": "light"
     },
     "output_type": "display_data"
    }
   ],
   "source": [
    "# Solução\n",
    "\n",
    "# (i)\n",
    "X = [0.2, 0.3, 0.4]\n",
    "Y = [1.8221, 2.4596, 3.3201]\n",
    "\n",
    "y1 = int_lagrange(X,Y,0.25)\n",
    "print(\"(i)\\nA estimativa de f(0.25) é:\", y1)\n",
    "\n",
    "# (i)\n",
    "X = [0.1, 0.2, 0.3]\n",
    "Y = [1.3499, 1.8221, 2.4596]\n",
    "\n",
    "y2 = int_lagrange(X,Y,0.25)\n",
    "print(\"\\n(ii)\\nA estimativa de f(0.25) é:\", y2)\n",
    "\n",
    "X = [0, 0.1, 0.2, 0.3, 0.4, 0.5]\n",
    "Y = [1, 1.3499, 1.8221, 2.4596, 3.3201, 4.4817]\n",
    "\n",
    "plt.plot(X,Y, 'o-')\n",
    "plt.plot(0.25,y1, 'o', 0.25,y2, 'o')\n",
    "plt.legend(['Spline Linear de y = f(x)', 'Interpolação (i)', 'Interpolação (ii)']);"
   ]
  },
  {
   "cell_type": "markdown",
   "metadata": {},
   "source": [
    "### Questão 13\n",
    "\n",
    "Para a seguinte função tabelada \n",
    "\n",
    "$x$ | $x e^{3x}$\n",
    "-|-\n",
    "0 | 1\n",
    "0.1 | 1.3499\n",
    "0.2 | 1.8221\n",
    "0.3 | 2.4596\n",
    "0.4 | 3.3201\n",
    "0.5 | 4.4817\n",
    "\n",
    "construir a tabela de diferenças divididas."
   ]
  },
  {
   "cell_type": "code",
   "execution_count": 14,
   "metadata": {},
   "outputs": [
    {
     "name": "stdout",
     "output_type": "stream",
     "text": [
      "\n",
      " As 1 ªs diferenças divididas são:\n",
      " [ 3.499  4.722  6.375  8.605 11.616]\n",
      "\n",
      " As 2 ªs diferenças divididas são:\n",
      " [ 6.115  8.265 11.15  15.055]\n",
      "\n",
      " As 3 ªs diferenças divididas são:\n",
      " [ 7.16666667  9.61666667 13.01666667]\n",
      "\n",
      " As 4 ªs diferenças divididas são:\n",
      " [6.125 8.5  ]\n",
      "\n",
      " As 5 ªs diferenças divididas são:\n",
      " [4.75]\n"
     ]
    }
   ],
   "source": [
    "# Solução\n",
    "\n",
    "X = np.array([0, 0.1, 0.2, 0.3, 0.4, 0.5])\n",
    "Y = np.array([1, 1.3499, 1.8221, 2.4596, 3.3201, 4.4817])\n",
    "\n",
    "n = len(X)\n",
    "x = sy.symbols(\"x\")\n",
    "    \n",
    "dx = []\n",
    "f = []\n",
    "aux = np.diff(Y)\n",
    "\n",
    "for i in range(1,n):\n",
    "    dx.append(X[i:] - X[:-i])\n",
    "    f.append(aux/dx[i-1])\n",
    "    aux = np.diff(f[i-1])\n",
    "\n",
    "for i in range(len(f)):\n",
    "    print(\"\\n As\", i+1, \"ªs diferenças divididas são:\\n\", f[i])"
   ]
  }
 ],
 "metadata": {
  "kernelspec": {
   "display_name": "Python 3",
   "language": "python",
   "name": "python3"
  },
  "language_info": {
   "codemirror_mode": {
    "name": "ipython",
    "version": 3
   },
   "file_extension": ".py",
   "mimetype": "text/x-python",
   "name": "python",
   "nbconvert_exporter": "python",
   "pygments_lexer": "ipython3",
   "version": "3.7.4"
  }
 },
 "nbformat": 4,
 "nbformat_minor": 4
}