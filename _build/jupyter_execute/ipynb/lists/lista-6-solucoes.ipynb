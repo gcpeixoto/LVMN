{
 "cells": [
  {
   "cell_type": "markdown",
   "metadata": {},
   "source": [
    "# Lista de Exercícios 6\n",
    "\n",
    "Solucionário matemático e computacional de exercícios selecionados da Lista de Exercícios 6."
   ]
  },
  {
   "cell_type": "code",
   "execution_count": 1,
   "metadata": {},
   "outputs": [],
   "source": [
    "%matplotlib inline "
   ]
  },
  {
   "cell_type": "code",
   "execution_count": 1,
   "metadata": {},
   "outputs": [],
   "source": [
    "import numpy as np \n",
    "import matplotlib.pyplot as plt\n",
    "from scipy.integrate import odeint"
   ]
  },
  {
   "cell_type": "markdown",
   "metadata": {},
   "source": [
    "## Funções-base para resolucão"
   ]
  },
  {
   "cell_type": "code",
   "execution_count": 2,
   "metadata": {},
   "outputs": [],
   "source": [
    "\"\"\"\n",
    "Implementação do método de Euler\n",
    "'expr' deve conter variáveis 't' e 'y'. \n",
    "Para casos em que são 0, fazer '0*t' \n",
    "ou '0*y'.\n",
    "\"\"\"\n",
    "def met_euler(expr,n,a,b,y0,mov):\n",
    "\n",
    "    # expressão\n",
    "    f = eval('lambda t,y:' + expr)\n",
    "\n",
    "    # malha\n",
    "    t = np.linspace(a,b,num=n,endpoint=True)\n",
    "\n",
    "    # passo \n",
    "    h = (b-a)/(n-1)\n",
    "    print('Tamanho do passo: h = {0}'.format(h))\n",
    "    \n",
    "    # y(t)\n",
    "    y = 0*t\n",
    "\n",
    "    # resolve para frente\n",
    "    if mov is 'front':\n",
    "        # cond. inicial\n",
    "        y[0] = y0\n",
    "\n",
    "        # esquema\n",
    "        for i in range(0,n-1):\n",
    "            y[i+1] = y[i] + h*f(t[i],y[i])\n",
    "\n",
    "        return t,y\n",
    "    \n",
    "    # resolve para trás\n",
    "    elif mov is 'back':\n",
    "        \n",
    "        # cond. inicial\n",
    "        y[-1] = y0\n",
    "\n",
    "        # esquema\n",
    "        for i in range(n-1,0,-1):\n",
    "            y[i-1] = y[i] - h*f(t[i],y[i])\n",
    "\n",
    "        return t,y\n",
    "    \n",
    "    \n",
    "def met_pt_medio(expr,n,a,b,y0):\n",
    "    \n",
    "    # expressão\n",
    "    f = eval('lambda t,y:' + expr)\n",
    "\n",
    "    # malha\n",
    "    t = np.linspace(a,b,num=n,endpoint=True)\n",
    "\n",
    "    # passo \n",
    "    h = (b-a)/(n-1)\n",
    "    print('Tamanho do passo: h = {0}'.format(h))\n",
    "    \n",
    "    # y(t)\n",
    "    y = 0*t\n",
    "    \n",
    "    # cond. inicial\n",
    "    y[0] = y0\n",
    "\n",
    "    # esquema\n",
    "    for i in range(0,n-1):\n",
    "        tmed = t[i] + h/2\n",
    "        ymed = y[i] + h/2*f(t[i],y[i])\n",
    "        y[i+1] = y[i] + h*f(tmed,ymed)\n",
    "\n",
    "    return t,y\n",
    "    \n"
   ]
  },
  {
   "cell_type": "markdown",
   "metadata": {},
   "source": [
    "## Soluções da Lista 6"
   ]
  },
  {
   "cell_type": "markdown",
   "metadata": {},
   "source": [
    "### solucao-L6-Q1a"
   ]
  },
  {
   "cell_type": "code",
   "execution_count": 3,
   "metadata": {},
   "outputs": [
    {
     "name": "stdout",
     "output_type": "stream",
     "text": [
      "Tamanho do passo: h = 0.10000000000000003\n",
      "Tamanho do passo: h = 0.09999999999999998\n",
      "Aproximação y(0.8) = -0.14851547391331865\n",
      "Aproximação y(1.6) = 3.042921559591501\n"
     ]
    },
    {
     "data": {
      "text/plain": [
       "<matplotlib.legend.Legend at 0x1518bfbda0>"
      ]
     },
     "execution_count": 3,
     "metadata": {},
     "output_type": "execute_result"
    },
    {
     "data": {
      "image/png": "[encoded data removed]",
      "text/plain": [
       "<Figure size 432x288 with 1 Axes>"
      ]
     },
     "metadata": {
      "filenames": {
       "image/png": "/Users/gustavo/Dropbox/courses/calculo-numerico/LVMN/_build/jupyter_execute/ipynb/lists/lista-6-solucoes_7_2.png"
      },
      "needs_background": "light"
     },
     "output_type": "display_data"
    }
   ],
   "source": [
    "# PVI \n",
    "# h = 0.1 => 5 pontos\n",
    "expr = 'y**2 - t/2 + 3'\n",
    "\n",
    "\n",
    "# resolve para a frente\n",
    "y0 = 1\n",
    "a = 1.2\n",
    "b = 1.6\n",
    "n = 5\n",
    "mov = 'front'\n",
    "x1,y1 = met_euler(expr,n,a,b,y0,mov)\n",
    "\n",
    "\n",
    "# resolve para trás\n",
    "y0 = 1\n",
    "a = 0.8\n",
    "b = 1.2\n",
    "n = 5\n",
    "mov = 'back'\n",
    "x2,y2 = met_euler(expr,n,a,b,y0,mov)\n",
    "\n",
    "# aproximação y(0.8)\n",
    "print('Aproximação y(0.8) = {0}'.format(y2[0]))\n",
    "\n",
    "# aproximação y(1.2)\n",
    "print('Aproximação y(1.6) = {0}'.format(y1[-1]))\n",
    "\n",
    "# plotagem \n",
    "plt.plot(x1,y1,'o-',label='frente')\n",
    "plt.plot(x2,y2,'o-',label='trás')\n",
    "plt.axvline(x=1.2,color='k',linewidth=0.6,linestyle='--')\n",
    "plt.axhline(y=1.0,color='k',linewidth=0.6,linestyle='--')\n",
    "plt.legend()"
   ]
  },
  {
   "cell_type": "markdown",
   "metadata": {},
   "source": [
    "### solucao-L6-Q1b"
   ]
  },
  {
   "cell_type": "code",
   "execution_count": 4,
   "metadata": {},
   "outputs": [
    {
     "name": "stdout",
     "output_type": "stream",
     "text": [
      "Tamanho do passo: h = 0.10000000000000003\n"
     ]
    },
    {
     "data": {
      "text/plain": [
       "array([[1.        ],\n",
       "       [1.39644385],\n",
       "       [1.7989217 ],\n",
       "       [2.20909012],\n",
       "       [2.62852487]])"
      ]
     },
     "execution_count": 4,
     "metadata": {},
     "output_type": "execute_result"
    }
   ],
   "source": [
    "# resolve por ponto médio \n",
    "y0 = 1\n",
    "a = 1.2\n",
    "b = 1.6\n",
    "n = 5\n",
    "xm,ym = met_pt_medio(expr,n,a,b,y0)\n",
    "\n",
    "# resolve por função residente \n",
    "f = eval('lambda t,y:' + expr)\n",
    "xr = np.linspace(1.2,1.6,num=5,endpoint=True)\n",
    "yr = odeint(f,1,xr)\n",
    "yr"
   ]
  },
  {
   "cell_type": "markdown",
   "metadata": {},
   "source": [
    "### Solução analítica para a EDO do PVI "
   ]
  },
  {
   "cell_type": "code",
   "execution_count": 5,
   "metadata": {},
   "outputs": [
    {
     "name": "stdout",
     "output_type": "stream",
     "text": [
      "Solução analítica:\n"
     ]
    },
    {
     "data": {
      "image/png": "[encoded data removed]",
      "text/latex": [
       "$\\displaystyle 3.4 t + 13.4137 \\left(t - 1.2\\right)^{5} + 8.33166666666667 \\left(t - 1.2\\right)^{4} + 5.95333333333333 \\left(t - 1.2\\right)^{3} + 3.15 \\left(t - 1.2\\right)^{2} - 3.08$"
      ],
      "text/plain": [
       "                         5                             4                      \n",
       "3.4⋅t + 13.4137⋅(t - 1.2)  + 8.33166666666667⋅(t - 1.2)  + 5.95333333333333⋅(t\n",
       "\n",
       "       3                 2       \n",
       " - 1.2)  + 3.15⋅(t - 1.2)  - 3.08"
      ]
     },
     "execution_count": 5,
     "metadata": {
      "filenames": {
       "image/png": "/Users/gustavo/Dropbox/courses/calculo-numerico/LVMN/_build/jupyter_execute/ipynb/lists/lista-6-solucoes_11_1.png"
      }
     },
     "output_type": "execute_result"
    }
   ],
   "source": [
    "# Encontrando a solução por computação simbólica \n",
    "import sympy as sp \n",
    "sp.init_printing()\n",
    "\n",
    "# variável simbólica\n",
    "tsym = sp.symbols('t')\n",
    "\n",
    "# função\n",
    "f = sp.symbols('f', cls=sp.Function)\n",
    "\n",
    "# EDO\n",
    "edo = sp.Eq( f(tsym).diff(tsym), f(tsym)**2 - tsym/2 + 3)\n",
    "\n",
    "# solução \n",
    "# lembre que: t0 = 1.2; y0 = 1\n",
    "sol = sp.dsolve(edo,f(tsym),ics={f(1.2):1})\n",
    "\n",
    "# usa membro direito e remove big-oh  \n",
    "sol = sol.rhs.removeO()\n",
    "\n",
    "# substitui expressão simbólica por numérica\n",
    "yt = [sol.subs(tsym,i) for i in xr]\n",
    "yt = np.asarray(yt)\n",
    "\n",
    "print(\"Solução analítica:\")\n",
    "sol"
   ]
  },
  {
   "cell_type": "markdown",
   "metadata": {},
   "source": [
    "### Comparação de soluções"
   ]
  },
  {
   "cell_type": "code",
   "execution_count": 6,
   "metadata": {},
   "outputs": [
    {
     "data": {
      "image/png": "[encoded data removed]",
      "text/plain": [
       "<Figure size 432x288 with 1 Axes>"
      ]
     },
     "metadata": {
      "filenames": {
       "image/png": "/Users/gustavo/Dropbox/courses/calculo-numerico/LVMN/_build/jupyter_execute/ipynb/lists/lista-6-solucoes_13_0.png"
      },
      "needs_background": "light"
     },
     "output_type": "display_data"
    }
   ],
   "source": [
    "# compara todos os resultados\n",
    "plt.plot(x1,y1,'o-',label='Euler')\n",
    "plt.plot(xm,ym,'o-',label='ponto médio')\n",
    "plt.plot(xr,yr.T[0],'o-',label='odeint')\n",
    "plt.plot(xr,yt,'o-',label='analítica')\n",
    "plt.legend();\n"
   ]
  },
  {
   "cell_type": "code",
   "execution_count": 7,
   "metadata": {},
   "outputs": [
    {
     "name": "stdout",
     "output_type": "stream",
     "text": [
      "Solução analítica:\n"
     ]
    },
    {
     "data": {
      "image/png": "[encoded data removed]",
      "text/latex": [
       "$\\displaystyle \\left(3.07692307692308 e^{1.3 t} - 1.07692307692308\\right) e^{- 0.5 t}$"
      ],
      "text/plain": [
       "⎛                  1.3⋅t                   ⎞  -0.5⋅t\n",
       "⎝3.07692307692308⋅ℯ      - 1.07692307692308⎠⋅ℯ      "
      ]
     },
     "execution_count": 7,
     "metadata": {
      "filenames": {
       "image/png": "/Users/gustavo/Dropbox/courses/calculo-numerico/LVMN/_build/jupyter_execute/ipynb/lists/lista-6-solucoes_14_1.png"
      }
     },
     "output_type": "execute_result"
    }
   ],
   "source": [
    "# variável simbólica\n",
    "tsym = sp.symbols('t')\n",
    "\n",
    "# função\n",
    "f = sp.symbols('f', cls=sp.Function)\n",
    "\n",
    "# EDO\n",
    "edo = sp.Eq( f(tsym).diff(tsym) - 4*sp.exp(0.8*tsym) + 0.5*f(tsym),0)\n",
    "\n",
    "# solução \n",
    "sol = sp.dsolve(edo,f(tsym),ics={f(0):2})\n",
    "\n",
    "# usa membro direito e remove big-oh  \n",
    "sol = sol.rhs.removeO()\n",
    "\n",
    "# substitui expressão simbólica por numérica\n",
    "yt = [sol.subs(tsym,i) for i in xr]\n",
    "yt = np.asarray(yt)\n",
    "\n",
    "print(\"Solução analítica:\")\n",
    "sol"
   ]
  }
 ],
 "metadata": {
  "kernelspec": {
   "display_name": "Python 3",
   "language": "python",
   "name": "python3"
  },
  "language_info": {
   "codemirror_mode": {
    "name": "ipython",
    "version": 3
   },
   "file_extension": ".py",
   "mimetype": "text/x-python",
   "name": "python",
   "nbconvert_exporter": "python",
   "pygments_lexer": "ipython3",
   "version": "3.7.4"
  }
 },
 "nbformat": 4,
 "nbformat_minor": 4
}