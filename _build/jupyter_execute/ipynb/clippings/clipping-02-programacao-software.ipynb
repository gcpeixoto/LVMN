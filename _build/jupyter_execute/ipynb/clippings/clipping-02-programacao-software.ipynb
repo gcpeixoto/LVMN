{
 "cells": [
  {
   "cell_type": "markdown",
   "metadata": {},
   "source": [
    "# Recorte 2: Programação e _Software_\n",
    "\n",
    "## Pacotes e programação\n",
    "\n",
    "### Eis o dilema: usuário x desenvolvedor? \n",
    "\n",
    "Hoje em dia, grande parte de _softwares_, pacotes ou aplicativos com os quais interagimos possui uma interface gráfica, ou o que se chama em computação de **Interface Gráfica do Utilizador**. Em inglês, o esta nomenclatura é abreviado por GUI (_Graphical User Interface_). \n",
    "\n",
    "O propósito de uma GUI é, portanto, construir um ambiente amigável para que qualquer usuário interaja de modo simples, rápido e objetivo com a máquina a fim de atingir produtividade. Graças às interfaces, o usuário, através de cliques (com mouses) ou toques em tela (em dispositivos _touchscreen_), pode realizar diversas operações. No entanto, por trás desses \"botões\" pressionados por cliques de mouse ou por toques existe muitas instruções computacionais que são definidas por uma ou mais linguagens de programação. Às pessoas que programam essas instruções damos os nomes de _desenvolvedores_. Portanto, dois perfis surgem em um ambiente de programação de computadores: _usuário_ e _desenvolvedor_. Agora, o que isso tem a ver conosco? \n",
    "\n",
    "No universo dos métodos numéricos e disciplinas correlatas, nem sempre um cientista tem à sua disposição um software ou aplicativo com uma interface gráfica que facilite a sua vida. Além disso, na maioria das vezes, o aplicativo pode ser limitado na realização de funções específicas, ou ser ainda de \"código fechado\" - isto é, de caixa preta, _black-box_, em oposição ao que se conhece como código aberto - e, portanto, impossível de ser modificado por uma pessoa qualquer que não tenha acesso ao código-fonte do aplicativo. \n",
    "\n",
    "Quando não temos essas ferramentas específicas, o que fazemos? \n",
    "\n",
    " - podemos girar a _web_ de ponta cabeça à procura do nosso _software_ dos sonhos;\n",
    " - pesquisar por um pacote pré-existente;\n",
    " - desenvolver o que queremos;\n",
    "\n",
    "Como matemáticos, físicos, engenheiros, isto é, pessoas sem um perfil exímio de desenvolvedor de software, buscamos aplicações. No entanto, veremos também podemos programar um pouquinho. \n",
    "\n",
    "Pelo menos, uma qualidade que essa turma pode se gabar de ter é o espírito de correr atrás da solução de problemas. Então, se o software que você tem não calcula a solução para aquela exótica equação contra a qual você se deparou, que tal você tentar a sua própria solução? É assustador? Esperamos que não. \n",
    "\n",
    "Até mesmo o famoso Microsoft Excel pode se tornar uma ferramenta útil para você realizar alguns cálculos que seriam manualmente tediosos de fazer. Na verdade.\n",
    "\n",
    "\n",
    "### Programas computacionais\n",
    "\n",
    "_Programas computacionais_ são um conjunto de instruções que orientam o computador para executar tarefas específicas. Atualmente, diversas instruções, ou linguagens, existem por aí. O website [99 Bottles of Beer](http://www.99-bottles-of-beer.net), por exemplo, lista 1500 diferentes linguagens para uma música popular americana que leva o nome do próprio website! É claro que dessas 1500, algumas são mais adequadas para um estudante de métodos numéricos do que outras, tais como Matlab, C++ e Python.\n",
    "\n",
    "\n",
    "## Programação estruturada\n",
    "\n",
    "Hoje em dia, defende-se que um programa seja escrito de modo legível e organizado, prezando-se pela alta qualidade, uma característica que não era muito levada em conta no passado. Legibilidade é, portanto, sinônimo de eficiência, já que facilita o compartilhamento e a compreensão por parte de programadores que trabalham em um projeto colaborativo.\n",
    "\n",
    "A _programação estruturada_ é um conjunto de regras que tem por base o princípio de que qualquer algoritmo pode ser composto usando as três estruturas de controle fundamentais: i) sequencia; ii) seleção e iii) repetição.\n",
    "\n",
    "O entendimento dessas estruturas de controle pode ser facilitado por _fluxogramas_ e _pseudocódigos_, embora não haja consenso de preferência por essas técnicas. Ambos servem como ferramentas didáticas. Um algoritmo pode ser representado graficamente por símbolos que constituirão um fluxograma. Em contrapartida, um _pseudocódigo_ é uma técnica que utiliza palavras similares a códigos no lugar de símbolos. Essa palavras são especiais e reservadas. Em algumas linguagens, elas são também denominadas palavras-chave (_keywords_). É o caso de `if`, `else`, `switch` e `do`, por exemplo. "
   ]
  },
  {
   "cell_type": "markdown",
   "metadata": {},
   "source": [
    "### Representação lógica\n",
    "\n",
    "**Sequencia:** expressa a ideia de direção. No código computacional, a estrutura é implementada uma instrução por vez.\n",
    "\n",
    "**Seleção:** provê um meio de separar o fluxo do programa em ramos com base no valor lógico de uma condição. (`if... else... end`, `if... else... elseif... end`,\n",
    "`switch... case...`). O estudante interessado em saber mais sobre as estruturas de código deve pesquisar por estruturas de _controle de fluxo_ em livros introdutórios de programação. \n",
    "\n",
    "**Repetição:** provê os meios para executar uma instrução repetidamente. Os dois aspectos distintos são as estruturas `while... end` e `for... end`.\n",
    "\n",
    "## Programação modular \n",
    "\n",
    "Neste tipo de programação, o código é divido em subcódigos. Essas porções menores são chamadas de _módulos_. Por sua vez, a programação modular permite que o desenvolvimento seja particionado e localizado. Em um grande projeto, por exemplo, vários desenvolvedores podem concentrar esforços em uma parte do programa, enquanto outros trabalham em uma segunda parte. Entre os benefícios da programação modular estão a independência e o auto-conteúdo.\n",
    "\n",
    "A filosofia útil para nós é **pensar modularmente**, no sentido de que um programa particular possa ser agregado à uma classe maior, compondo uma biblioteca de funções. Por exemplo, supondo que queiramos construir uma biblioteca para realizar operações  matemáticas, podemos criar um módulo chamado `Vector` para realizar operações vetoriais, tais como adição, subtração e multiplicação por escalar. Assim, nosso módulo, em uma espécie de _pseudocódigo_ poderia ser como: \n",
    "\n",
    "```\n",
    "Vector:\n",
    "\tsumVec(v1,v2) { v1+v2 }\n",
    "\tsubtVec(v1,v2) { v1-v2 }\n",
    "\tmultVec(a,v) { a*v }\n",
    "``` \n",
    "Qualitativamente, os exemplos acima dizem que o módulo `Vector` contém 3 funções matemáticas que dependem de dois argumentos cada, de tipos diferentes. Ela podem ser definidas, abstratamente, como: \n",
    "\n",
    "$$\\oplus: V_1 \\times V_2 \\to V; \\\\ (v_1,v_2) \\in V_1 \\times V_2 \\mapsto v_1 + v_2 \\in V$$\n",
    "\n",
    "$$\\ominus: V_1 \\times V_2 \\to V; \\\\ (v_1,v_2) \\in V_1 \\times V_2 \\mapsto v_1 - v_2 \\in V$$\n",
    "\n",
    "$$\\otimes: A \\times V \\to U; \\\\ (a,v) \\in A \\times V \\mapsto av \\in U,$$ \n",
    "\n",
    "para subespaços vetoriais $U,V_1,V_2 \\subset V$ e $A \\in \\mathbb{R}$.\n"
   ]
  }
 ],
 "metadata": {
  "celltoolbar": "Edit Metadata",
  "ipub": {
   "listcode": false,
   "listfigures": false,
   "listtables": false,
   "titlepage": {
    "author": "Prof. Gustavo Oliveira",
    "email": "gustavo.oliveira@ci.ufpb.br",
    "institution": [
     "Universidade Federal da Paraíba"
    ],
    "tagline": "Cálculo Numérico (clippings).",
    "title": "Programação e Software"
   },
   "toc": false
  },
  "kernelspec": {
   "display_name": "Python 3",
   "language": "python",
   "name": "python3"
  },
  "language_info": {
   "codemirror_mode": {
    "name": "ipython",
    "version": 3
   },
   "file_extension": ".py",
   "mimetype": "text/x-python",
   "name": "python",
   "nbconvert_exporter": "python",
   "pygments_lexer": "ipython3",
   "version": "3.6.4"
  }
 },
 "nbformat": 4,
 "nbformat_minor": 2
}