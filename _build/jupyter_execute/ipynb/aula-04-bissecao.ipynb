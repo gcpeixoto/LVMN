{
 "cells": [
  {
   "cell_type": "code",
   "execution_count": 31,
   "metadata": {
    "tags": [
     "remove-input"
    ]
   },
   "outputs": [],
   "source": [
    "import matplotlib.pyplot as plt\n",
    "plt.style.use('../styles/gcpeixoto-book.mplstyle')"
   ]
  },
  {
   "cell_type": "markdown",
   "metadata": {},
   "source": [
    "(cap:bissecao)=\n",
    "# Método da Bisseção: A Arte de Cindir e Convergir\n",
    "\n",
    "<div class=\"chapter-thumb\">\n",
    "    <div class=\"chapter-oa\">\n",
    "        <h2>Objetivos de aprendizagem</h2>\n",
    "        <ul>\n",
    "        <li>Compreender o funcionamento do método da bisseção, seu algoritmo e as condições necessárias para sua aplicação;</li>\n",
    "\t    <li>Aplicar o método da bisseção na resolução de equações não lineares;</li>\n",
    "\t    <li>Analisar o comportamento da convergência do método da bisseção, sua precisão e limitações.</li>\t    \n",
    "        </ul>\n",
    "    </div>        \n",
    "    <div class=\"quote-box\">\n",
    "        <p><em>\"Divide et impera.\" (Júlio César)\n",
    "        </p></em>\n",
    "    </div>        \n",
    "</div>\n",
    "\n",
    "\n",
    "O método da bisseção (MB) é uma das técnicas mais fundamentais para busca de raízes de equações não-lineares. Robusto e de fácil implementação, ele está estruturado sobre o _Teorema do Valor Intermediário_, que afirma que se uma função contínua $f(x)$ tem sinais opostos em dois pontos $a$ e $b$, condição que se verifica quando $f(a) f(b) < 0$ é verdadeira, então existe pelo menos uma raiz da função no intervalo $[a, b]$. Em termos simples, o método envolve dividir repetidamente o intervalo ao meio e selecionar o subintervalo onde a raiz deve estar, baseando-se nos sinais de $f$.\n",
    "\n",
    "O MB tem garantia de convergência, desde que a função seja contínua e o intervalo inicial seja escolhido corretamente. No entanto, a convergência pode ser lenta em comparação com outros métodos, especialmente quando a função tiver múltiplas raízes próximas. Neste capítulo, apresentaremos uma implementação funcional do método da bisseção para equações não-lineares unidimensionais. O algoritmo é capaz de lidar com as principais funções matemáticas da biblioteca `numpy`, possui alguns comandos para checagem de validade e usa a estrutura `while` para o laço do processo iterativo.\n",
    "\n",
    "```{figure} ../figs/while-ai.png\n",
    "---\n",
    "width: 250px\n",
    "name: fig-whileai\n",
    "---\n",
    "```"
   ]
  },
  {
   "cell_type": "markdown",
   "metadata": {},
   "source": [
    "## Explicação do algoritmo\n",
    "\n",
    "O algoritmo funciona da seguinte forma: calcula-se o ponto médio do intervalo atual,\n",
    "\n",
    "$$\n",
    "c = \\frac{a + b}{2},\n",
    "$$\n",
    "\n",
    "e avalia-se o sinal de $f(c)$. Se $f(a) f(c) < 0$, a raiz está no intervalo $[a, c]$; caso contrário, está em $[c, b]$. O intervalo é então atualizado, e o processo é repetido até que o tamanho do intervalo $|b - a|$ seja menor que uma tolerância $\\epsilon$ definida previamente, ou até que $f(c)$ seja suficientemente próximo de zero.\n",
    "\n",
    "\n",
    "### Pseudocódigo\n",
    "\n",
    "Entrada: função f(x), intervalo [a, b], tolerância ε, número máximo de iterações N\n",
    "Saída: aproximação da raiz ou mensagem de erro\n",
    "\n",
    "1. Verifique se $f(a)f(b) < 0$ e avance. Se não, lance erro (sem garantia de raiz no intervalo) e pare.\n",
    "\n",
    "2. Para $k$ de 1 até $N$:\n",
    "\n",
    "    a. $c \\leftarrow (a + b) / 2$ (ponto médio do intervalo)\n",
    "    \n",
    "    b. Se $(b - a)/2 < \\epsilon$:\n",
    "         Retorne $c$ como raiz aproximada\n",
    "    \n",
    "    c. Se $f(a)f(c) < 0$:\n",
    "         $b \\leftarrow c$\n",
    "       Senão:\n",
    "         $a \\leftarrow c$\n",
    "\n",
    "3. Lance mensagem de número máximo de iterações atingido e retorne $c$ como melhor estimativa\n"
   ]
  },
  {
   "cell_type": "markdown",
   "metadata": {},
   "source": [
    "## Implementação do algoritmo\n",
    "\n",
    "No algoritmo proposto abaixo, a função `bissecao` requererá 5 argumentos: \n",
    "\n",
    "- a função $f(x)$ propriamente dita, representada por `f`;\n",
    "- duas estimativas iniciais `a` e `b`, que representam o intervalo de busca da raiz $[a,b]$;\n",
    "- o erro absoluto desejado $EA_d$, representado por `e`;\n",
    "- o número máximo de iterações $N$ para tentativa de solução, representado por `N`."
   ]
  },
  {
   "cell_type": "code",
   "execution_count": 32,
   "metadata": {
    "tags": [
     "hide-input"
    ]
   },
   "outputs": [],
   "source": [
    "import inspect, re \n",
    "import numpy as np\n",
    "from matplotlib.pyplot import plot\n",
    "from warnings import warn\n",
    "from prettytable import PrettyTable as pt\n",
    "\n",
    "def bissecao(f,a,b,tol,N):\n",
    "    \"\"\"Algoritmo para determinação de raízes de equações não lineares \n",
    "       unidimensionais pelo método da bisseção.\n",
    "\n",
    "    Parâmetros: \n",
    "        f: string dependendo de uma variável, i.e., a função-alvo\n",
    "            (e.g., 'x**2 - 1', 'x**2*cos(x)', etc.) \n",
    "        a: estimativa inferior\n",
    "        b: estimativa superior\n",
    "        tol: erro desejado (tolerância)\n",
    "        N: número máximo de iterações a repetir\n",
    "\n",
    "    Retorno: \n",
    "        x: aproximação para a raiz da função   \n",
    "    \"\"\"\n",
    "    \n",
    "    # construtor de tabela\n",
    "    table = pt()\n",
    "    \n",
    "    # substitui expressões da string pelas chamadas das funções do numpy\n",
    "    f = re.sub('(sin|sinh|cos|cosh|tan|tanh|exp|log|sqrt|log10|arcsin|arccos|arctan|arcsinh|arccosh|arctanh)', r'np.\\1', f)\n",
    "    \n",
    "    # identifica a variável independente\n",
    "    var = re.search(r'([a-zA-Z][\\w]*) ?([\\+\\-\\/*]|$|\\))', f).group(1)\n",
    "    \n",
    "    # cria função anônima\n",
    "    f = eval('lambda ' + var + ' :' + f)\n",
    "    \n",
    "    # checa se a função é de uma variável, senão lança erro        \n",
    "    if len(inspect.getfullargspec(f).args) - 1 > 0:    \n",
    "        raise ValueError('O código é válido apenas para uma variável.')\n",
    "\n",
    "    # calcula valor da função nos extremos\n",
    "    fa = f(a) \n",
    "    fb = f(b)\n",
    "    \n",
    "    # verifica sinal da função para o intervalo passado     \n",
    "    if fa*fb >= 0:\n",
    "        raise ValueError('A função deve ter sinais opostos em a e b!')\n",
    "    \n",
    "    # flag usada para marcar caso f(xm) = 0\n",
    "    done = False;\n",
    "        \n",
    "    # no. iterações mínimo\n",
    "    niter = int(np.ceil(np.log((b-a)/tol)/np.log(2)))\n",
    "    if N < niter:\n",
    "        print(f'São necessárias pelo menos {niter} iterações, mas N = {N}.\\n')\n",
    "\n",
    "    \n",
    "    # cabeçalho de tabela\n",
    "    table.field_names = ['i','xm','f(xm)','a','b','f(a)','f(b)','EA']\n",
    "\n",
    "    # bisecta o intervalo\n",
    "    xm = (a+b)/2\n",
    "    \n",
    "    # contador \n",
    "    i = 1 \n",
    "    \n",
    "    # loop \n",
    "    while abs(a-b) > tol and (not done and N != 0):    \n",
    "        \n",
    "        # avalia a função no ponto médio\n",
    "        fxm = f(xm) \n",
    "                        \n",
    "        # adiciona linha de tabela de resultado\n",
    "        table.add_row([i,np.round(xm,8),np.round(f(xm),8),\n",
    "                   np.round(a,4),np.round(b,4),\n",
    "                   np.round(f(a),4),np.round(f(b),4),\n",
    "                   f'{abs(a-b):e}'])\n",
    "   \n",
    "        if fa*fxm < 0:      # Raiz esta à esquerda de xm\n",
    "            b = xm\n",
    "            fb = fxm\n",
    "            xm = (a+b)/2\n",
    "        elif fxm*fb < 0:    # Raiz esta à direita de xm\n",
    "            a = xm\n",
    "            fa = fxm\n",
    "            xm = (a+b)/2\n",
    "        else:               # Achamos a raiz\n",
    "            done = True            \n",
    "    \n",
    "        N -= 1              # Atualiza passo\n",
    "        i += 1              # Atualiza contador\n",
    "    \n",
    "    # impressão de tabela\n",
    "    table.add_row([i,np.round(xm,8),np.round(f(xm),8),\n",
    "                   np.round(a,4),np.round(b,4),\n",
    "                   np.round(f(a),4),np.round(f(b),4),\n",
    "                   f'{abs(a-b):e}'])\n",
    "    table.align = 'c'; print(table)\n",
    "    \n",
    "    return xm"
   ]
  },
  {
   "cell_type": "markdown",
   "metadata": {},
   "source": [
    "Note que o cerne desta função é o trecho abaixo. O resto do código é constituído de algumas especializações e comandos acessórios.\n",
    "\n",
    "```python\n",
    "while abs(a-b) > tol and (not done and N != 0):    \n",
    "    \n",
    "    # avalia a função no ponto médio\n",
    "    fxm = f(xm) \n",
    "\n",
    "    if fa*fxm < 0:      # Raiz esta à esquerda de xm\n",
    "        b = xm\n",
    "        fb = fxm\n",
    "        xm = (a+b)/2\n",
    "    elif fxm*fb < 0:    # Raiz esta à direita de xm\n",
    "        a = xm\n",
    "        fa = fxm\n",
    "        xm = (a+b)/2\n",
    "    else:               # Achamos a raiz\n",
    "        done = True            \n",
    "\n",
    "    N -= 1              # Atualiza passo\n",
    "    i += 1              # Atualiza contador"
   ]
  },
  {
   "cell_type": "markdown",
   "metadata": {},
   "source": [
    "## _Playground_ interativo\n",
    "\n",
    "Utilize o _playground_ interativo abaixo para testar o método da bisseção para funções não lineares quaisquer. Como dado de entrada para $f(x)$, utilize funções escritas nos moldes de Python científico como um tipo `str`. Para os parâmetros do intervalo inicial e de erro, utilize `float`."
   ]
  },
  {
   "cell_type": "code",
   "execution_count": 34,
   "metadata": {
    "tags": [
     "remove-input"
    ]
   },
   "outputs": [
    {
     "name": "stdout",
     "output_type": "stream",
     "text": [
      "Dash is running on http://127.0.0.1:8050/\n",
      "\n",
      " * Serving Flask app '__main__'\n",
      " * Debug mode: off\n"
     ]
    },
    {
     "name": "stderr",
     "output_type": "stream",
     "text": [
      "WARNING: This is a development server. Do not use it in a production deployment. Use a production WSGI server instead.\n",
      " * Running on http://127.0.0.1:8050\n",
      "Press CTRL+C to quit\n"
     ]
    }
   ],
   "source": [
    "import dash, re \n",
    "from dash import dcc, html, Input, Output\n",
    "import numpy as np\n",
    "import plotly.graph_objects as go\n",
    "import sympy as sp\n",
    "\n",
    "# Initialize the Dash app\n",
    "app = dash.Dash(__name__)\n",
    "\n",
    "# Layout of the app\n",
    "app.layout = html.Div([\n",
    "    \n",
    "    #html.H1(\"Método da Bisseção (Interativo)\"),\n",
    "    \n",
    "    # Function input\n",
    "    \n",
    "    html.Label(\"f(x): \",\n",
    "               style={'display': 'inline-block', 'padding': '5px'}),\n",
    "    dcc.Input(id=\"function-input\",\n",
    "              type=\"text\",\n",
    "              placeholder=\"Insira f(x)...\",\n",
    "              value=\"x/(1 - 2*x) - tan(x+1)\",\n",
    "              style={'width': '30%', 'margin-right': '20px'}),\n",
    "    \n",
    "    # Interval input\n",
    "    html.Label(\"a: \",\n",
    "               style={'display': 'inline-block', 'padding': '5px'}),\n",
    "    dcc.Input(id=\"a-input\",\n",
    "              type=\"number\",\n",
    "              placeholder=\"Insira o lim. inf. ...\",\n",
    "              value=4,\n",
    "              style={'width': '10%', 'margin-right': '20px'}),\n",
    "    \n",
    "    html.Label(\"b: \",\n",
    "               style={'display': 'inline-block', 'padding': '5px'}),\n",
    "    dcc.Input(id=\"b-input\",\n",
    "              type=\"number\",\n",
    "              placeholder=\"Insira o lim. sup. ...\",\n",
    "              value=6,\n",
    "              style={'width': '10%', 'margin-right': '20px'}),\n",
    "    \n",
    "    # Tolerance input\n",
    "   html.Label(\"eps: \",\n",
    "               style={'display': 'inline-block', 'padding': '5px'}),\n",
    "    dcc.Input(id=\"tol-input\",\n",
    "              type=\"number\",\n",
    "              placeholder=\"Insira a tol. ...\",\n",
    "              value=1e-3,\n",
    "              style={'width': '10%', 'margin-right': '20px'}),\n",
    "    \n",
    "    html.Hr(),\n",
    "    \n",
    "    # Graph to display the bisection visualization\n",
    "    dcc.Graph(id=\"bisection-graph\"),\n",
    "    \n",
    "    html.Hr(),\n",
    "    \n",
    "    # Information about the method\n",
    "    html.Div(id=\"info-output\")\n",
    "    \n",
    "], style={'font-family': 'Inter'})\n",
    "\n",
    "# Algoritmo da bisseção\n",
    "def bisection_method(f, a, b, tol=1e-5, max_iter=100):\n",
    "    \n",
    "    # substitui expressões da string pelas chamadas das funções do numpy\n",
    "    f = re.sub('(sin|sinh|cos|cosh|tan|tanh|exp|log|sqrt|log10|arcsin|arccos|arctan|arcsinh|arccosh|arctanh)', r'np.\\1', f)\n",
    "    \n",
    "    # identifica a variável independente\n",
    "    var = re.search(r'([a-zA-Z][\\w]*) ?([\\+\\-\\/*]|$|\\))', f).group(1)\n",
    "    \n",
    "    # cria função anônima\n",
    "    f = eval('lambda ' + var + ' :' + f)\n",
    "    \n",
    "    # checa se a função é de uma variável, senão lança erro        \n",
    "    if len(inspect.getfullargspec(f).args) - 1 > 0:    \n",
    "        raise ValueError('O código é válido apenas para uma variável.')\n",
    "    \n",
    "    if f(a) * f(b) >= 0:\n",
    "        return None, \"sgn( f(a)f(b) ) != -1! Verifique a função e o intervalo\"\n",
    "    \n",
    "    # Pontos de corte \n",
    "    points = [] \n",
    "    \n",
    "    for i in range(max_iter):\n",
    "        c = (a + b) / 2\n",
    "        points.append(c)\n",
    "        \n",
    "        if abs(f(c)) < tol:\n",
    "            break\n",
    "        \n",
    "        if f(a) * f(c) < 0:\n",
    "            b = c\n",
    "        else:\n",
    "            a = c\n",
    "            \n",
    "    return c, points, f \n",
    "\n",
    "# Callback\n",
    "@app.callback(\n",
    "    [Output(\"bisection-graph\", \"figure\"),\n",
    "     Output(\"info-output\", \"children\")],\n",
    "    [Input(\"function-input\", \"value\"),\n",
    "     Input(\"a-input\", \"value\"),\n",
    "     Input(\"b-input\", \"value\"),\n",
    "     Input(\"tol-input\", \"value\")]\n",
    ")\n",
    "\n",
    "def update_bisection_graph(func_str, a, b, tol):\n",
    "        \n",
    "    # Run\n",
    "    root, points, func = bisection_method(func_str, a, b, tol)\n",
    "    \n",
    "    if root is None:\n",
    "        return {}, \"O método não pode ser aplicado.\"\n",
    "    \n",
    "    # Graph\n",
    "    x_vals = np.linspace(a, b, 100)\n",
    "    y_vals = func(x_vals)\n",
    "    \n",
    "    # Figure\n",
    "    fig = go.Figure()\n",
    "    \n",
    "    # y = 0 \n",
    "    fig.add_trace(go.Scatter(x=[a, b], y=[0, 0], \n",
    "                             mode='lines', \n",
    "                             name=\"y=0\", \n",
    "                             line=dict(\n",
    "                                 color='#b2b2b2',\n",
    "                                 dash='dash')))\n",
    "    \n",
    "\n",
    "    # Plot the function curve\n",
    "    fig.add_trace(go.Scatter(x=x_vals,\n",
    "                             y=y_vals,\n",
    "                             mode='lines',\n",
    "                             name=\"f(x)\",\n",
    "                             line=dict(color='#4c9265')))\n",
    "    \n",
    "    # Intervalos encaixantes\n",
    "    points_y = [func(p)*0 for p in points]    \n",
    "    fig.add_trace(go.Scatter(x=points,\n",
    "                             y=points_y,\n",
    "                             mode='markers+lines',\n",
    "                             name=\"[a,b]\",\n",
    "                             marker=dict(\n",
    "                                 color='#000000',\n",
    "                                 symbol='circle',\n",
    "                                 size=8)))\n",
    "    \n",
    "    \n",
    "    # Imagens de intervalos\n",
    "    points_y = [func(p) for p in points]\n",
    "    fig.add_trace(go.Scatter(x=points,\n",
    "                             y=points_y,\n",
    "                             mode='markers',\n",
    "                             name=\"f([a,b])\",\n",
    "                             marker=dict(\n",
    "                                 color='#969696',\n",
    "                                 symbol='cross',\n",
    "                                 size=8)))\n",
    "    \n",
    "    # Root point\n",
    "    fig.add_trace(go.Scatter(x=[root],\n",
    "                             y=[func(root)],\n",
    "                             mode='markers',\n",
    "                             name=\"Raiz\",\n",
    "                             marker=dict(\n",
    "                                 color='#eeab00',\n",
    "                                 symbol='square',\n",
    "                                 size=10)))\n",
    "    \n",
    "    \n",
    "    # Update the layout of the graph\n",
    "    fig.update_layout(\n",
    "        template='simple_white',\n",
    "        width=600,\n",
    "        height=500,\n",
    "        margin=dict(l=40, r=40, b=10, t=40),\n",
    "        xaxis_title=\"x\",\n",
    "        yaxis_title=\"f(x)\",\n",
    "        showlegend=True\n",
    "    )\n",
    "    \n",
    "    # Display information about the result\n",
    "    info_text = f\"Raiz encontrada: {root:.6f}\\n\"\n",
    "    info_text += f\"Número de iterações: {len(points)}\"\n",
    "    \n",
    "    return fig, info_text\n",
    "\n",
    "# Run the app\n",
    "if __name__ == '__main__':\n",
    "    #app.run(debug=True)\n",
    "    app.run()"
   ]
  },
  {
   "cell_type": "markdown",
   "metadata": {},
   "source": [
    "## Aplicações\n",
    "\n",
    "**Exemplo:** Resolva o problema $f(x) = 0$, para $f(x) = -\\text{arccos}(x) + 4\\text{sen}(x) + 1.7$, no intervalo $-0.2 \\le x \\le 1.0$ e $\\epsilon = 10^{-3}$."
   ]
  },
  {
   "cell_type": "markdown",
   "metadata": {},
   "source": [
    "- Primeiramente, façamos uma análise gráfica para verificar o comportamento da função."
   ]
  },
  {
   "cell_type": "code",
   "execution_count": 38,
   "metadata": {},
   "outputs": [
    {
     "data": {
      "image/png": "[encoded data removed]",
      "text/plain": [
       "<Figure size 460.8x288 with 1 Axes>"
      ]
     },
     "metadata": {},
     "output_type": "display_data"
    }
   ],
   "source": [
    "x = np.linspace(-0.2,1,100)\n",
    "plot(x,-np.arccos(x) + 4*np.sin(x) + 1.7,'g',x,0*x,'k:');"
   ]
  },
  {
   "cell_type": "markdown",
   "metadata": {},
   "source": [
    "- Uma vez que a raiz é única, basta aplicar o método que construímos à função desejada."
   ]
  },
  {
   "cell_type": "code",
   "execution_count": 39,
   "metadata": {},
   "outputs": [
    {
     "name": "stdout",
     "output_type": "stream",
     "text": [
      "+----+-------------+-------------+---------+---------+---------+--------+--------------+\n",
      "| i  |      xm     |    f(xm)    |    a    |    b    |   f(a)  |  f(b)  |      EA      |\n",
      "+----+-------------+-------------+---------+---------+---------+--------+--------------+\n",
      "| 1  |     0.0     |  0.12920367 |   -0.2  |   0.2   | -0.8668 | 1.1252 | 4.000000e-01 |\n",
      "| 2  |     -0.1    | -0.37029741 |   -0.2  |   0.0   | -0.8668 | 0.1292 | 2.000000e-01 |\n",
      "| 3  |    -0.05    | -0.12073386 |   -0.1  |   0.0   | -0.3703 | 0.1292 | 1.000000e-01 |\n",
      "| 4  |    -0.025   |  0.00421148 |  -0.05  |   0.0   | -0.1207 | 0.1292 | 5.000000e-02 |\n",
      "| 5  |   -0.0375   | -0.05826997 |  -0.05  |  -0.025 | -0.1207 | 0.0042 | 2.500000e-02 |\n",
      "| 6  |   -0.03125  | -0.02703107 | -0.0375 |  -0.025 | -0.0583 | 0.0042 | 1.250000e-02 |\n",
      "| 7  |  -0.028125  | -0.01141021 | -0.0312 |  -0.025 |  -0.027 | 0.0042 | 6.250000e-03 |\n",
      "| 8  |  -0.0265625 | -0.00359946 | -0.0281 |  -0.025 | -0.0114 | 0.0042 | 3.125000e-03 |\n",
      "| 9  | -0.02578125 |  0.00030599 | -0.0266 |  -0.025 | -0.0036 | 0.0042 | 1.562500e-03 |\n",
      "| 10 | -0.02617188 | -0.00164674 | -0.0266 | -0.0258 | -0.0036 | 0.0003 | 7.812500e-04 |\n",
      "| 11 | -0.02597656 | -0.00067038 | -0.0262 | -0.0258 | -0.0016 | 0.0003 | 3.906250e-04 |\n",
      "| 12 | -0.02587891 | -0.00018219 |  -0.026 | -0.0258 | -0.0007 | 0.0003 | 1.953125e-04 |\n",
      "| 13 | -0.02583008 |   6.19e-05  | -0.0259 | -0.0258 | -0.0002 | 0.0003 | 9.765625e-05 |\n",
      "| 14 | -0.02585449 |  -6.015e-05 | -0.0259 | -0.0258 | -0.0002 | 0.0001 | 4.882812e-05 |\n",
      "| 15 | -0.02584229 |   8.8e-07   | -0.0259 | -0.0258 | -0.0001 | 0.0001 | 2.441406e-05 |\n",
      "| 16 | -0.02584839 |  -2.964e-05 | -0.0259 | -0.0258 | -0.0001 |  0.0   | 1.220703e-05 |\n",
      "| 17 | -0.02584534 |  -1.438e-05 | -0.0258 | -0.0258 |   -0.0  |  0.0   | 6.103516e-06 |\n",
      "| 18 | -0.02584381 |  -6.75e-06  | -0.0258 | -0.0258 |   -0.0  |  0.0   | 3.051758e-06 |\n",
      "| 19 | -0.02584305 |  -2.94e-06  | -0.0258 | -0.0258 |   -0.0  |  0.0   | 1.525879e-06 |\n",
      "| 20 | -0.02584267 |  -1.03e-06  | -0.0258 | -0.0258 |   -0.0  |  0.0   | 7.629395e-07 |\n",
      "| 21 | -0.02584248 |    -8e-08   | -0.0258 | -0.0258 |   -0.0  |  0.0   | 3.814697e-07 |\n",
      "| 22 | -0.02584238 |    4e-07    | -0.0258 | -0.0258 |   -0.0  |  0.0   | 1.907349e-07 |\n",
      "| 23 | -0.02584243 |   1.6e-07   | -0.0258 | -0.0258 |   -0.0  |  0.0   | 9.536743e-08 |\n",
      "| 24 | -0.02584245 |    4e-08    | -0.0258 | -0.0258 |   -0.0  |  0.0   | 4.768372e-08 |\n",
      "| 25 | -0.02584246 |    -2e-08   | -0.0258 | -0.0258 |   -0.0  |  0.0   | 2.384186e-08 |\n",
      "| 26 | -0.02584246 |    1e-08    | -0.0258 | -0.0258 |   -0.0  |  0.0   | 1.192093e-08 |\n",
      "| 27 | -0.02584246 |     -0.0    | -0.0258 | -0.0258 |   -0.0  |  0.0   | 5.960464e-09 |\n",
      "| 28 | -0.02584246 |     0.0     | -0.0258 | -0.0258 |   -0.0  |  0.0   | 2.980232e-09 |\n",
      "| 29 | -0.02584246 |     -0.0    | -0.0258 | -0.0258 |   -0.0  |  0.0   | 1.490116e-09 |\n",
      "| 30 | -0.02584246 |     0.0     | -0.0258 | -0.0258 |   -0.0  |  0.0   | 7.450581e-10 |\n",
      "+----+-------------+-------------+---------+---------+---------+--------+--------------+\n"
     ]
    }
   ],
   "source": [
    "xm = bissecao('-arccos(x) + 4*sin(x) + 1.7',-0.2,0.2,1e-9,30)"
   ]
  },
  {
   "cell_type": "markdown",
   "metadata": {},
   "source": [
    "- A raiz aproximada $x^{*}$, tal que para $f(x^{*}) = 0$ no intervalo-alvo é mostrada na última linha da tabela. Isto é,"
   ]
  },
  {
   "cell_type": "code",
   "execution_count": 40,
   "metadata": {},
   "outputs": [
    {
     "data": {
      "text/plain": [
       "-0.025842459872364998"
      ]
     },
     "execution_count": 40,
     "metadata": {},
     "output_type": "execute_result"
    }
   ],
   "source": [
    "# raiz aproximada\n",
    "xm"
   ]
  },
  {
   "cell_type": "markdown",
   "metadata": {},
   "source": [
    "**Exemplo:** Resolva o problema $h(z) = 0$, para $h(z) = -z(1-2z)^{-1} - \\text{tan}(z+1)$, no intervalo $[1,8]$ e $\\epsilon = 10^{-5}$."
   ]
  },
  {
   "cell_type": "markdown",
   "metadata": {},
   "source": [
    "- Primeiramente, façamos uma análise gráfica para verificar o comportamento da função."
   ]
  },
  {
   "cell_type": "code",
   "execution_count": 41,
   "metadata": {},
   "outputs": [
    {
     "data": {
      "image/png": "[encoded data removed]",
      "text/plain": [
       "<Figure size 460.8x288 with 1 Axes>"
      ]
     },
     "metadata": {},
     "output_type": "display_data"
    }
   ],
   "source": [
    "z = np.linspace(1,8,100)\n",
    "plot(z,z/(1 - 2*z) - np.tan(z+1),'g',z,0*z,'k:');"
   ]
  },
  {
   "cell_type": "markdown",
   "metadata": {},
   "source": [
    "- Neste caso, a função apresenta sensibilidades e mais de uma raiz no intervalo dado. Vamos buscar a raiz que está no subintervalo $[4,6]$. Para tanto, vamos deamplificar a plotagem."
   ]
  },
  {
   "cell_type": "code",
   "execution_count": 20,
   "metadata": {},
   "outputs": [
    {
     "data": {
      "image/png": "[encoded data removed]",
      "text/plain": [
       "<Figure size 640x400 with 1 Axes>"
      ]
     },
     "metadata": {},
     "output_type": "display_data"
    }
   ],
   "source": [
    "z = np.linspace(4,6,100)\n",
    "plot(z,z/(1 - 2*z) - np.tan(z+1),'g',z,0*z,'k:');"
   ]
  },
  {
   "cell_type": "markdown",
   "metadata": {},
   "source": [
    "- Uma vez que a raiz é única, basta aplicar o método que construímos à função desejada."
   ]
  },
  {
   "cell_type": "code",
   "execution_count": 42,
   "metadata": {},
   "outputs": [
    {
     "name": "stdout",
     "output_type": "stream",
     "text": [
      "+----+------------+-------------+--------+--------+--------+---------+--------------+\n",
      "| i  |     xm     |    f(xm)    |   a    |   b    |  f(a)  |   f(b)  |      EA      |\n",
      "+----+------------+-------------+--------+--------+--------+---------+--------------+\n",
      "| 1  |    5.0     | -0.26454936 |   4    |   6    | 2.8091 | -1.4169 | 2.000000e+00 |\n",
      "| 2  |    4.5     |  0.43308405 |   4    |  5.0   | 2.8091 | -0.2645 | 1.000000e+00 |\n",
      "| 3  |    4.75    |  0.03138032 |  4.5   |  5.0   | 0.4331 | -0.2645 | 5.000000e-01 |\n",
      "| 4  |   4.875    | -0.12466745 |  4.75  |  5.0   | 0.0314 | -0.2645 | 2.500000e-01 |\n",
      "| 5  |   4.8125   | -0.04914268 |  4.75  | 4.875  | 0.0314 | -0.1247 | 1.250000e-01 |\n",
      "| 6  |  4.78125   | -0.00957612 |  4.75  | 4.8125 | 0.0314 | -0.0491 | 6.250000e-02 |\n",
      "| 7  |  4.765625  |  0.01071879 |  4.75  | 4.7812 | 0.0314 | -0.0096 | 3.125000e-02 |\n",
      "| 8  | 4.7734375  |  0.00052675 | 4.7656 | 4.7812 | 0.0107 | -0.0096 | 1.562500e-02 |\n",
      "| 9  | 4.77734375 | -0.00453568 | 4.7734 | 4.7812 | 0.0005 | -0.0096 | 7.812500e-03 |\n",
      "| 10 | 4.77539062 | -0.00200723 | 4.7734 | 4.7773 | 0.0005 | -0.0045 | 3.906250e-03 |\n",
      "| 11 | 4.77441406 | -0.00074094 | 4.7734 | 4.7754 | 0.0005 |  -0.002 | 1.953125e-03 |\n",
      "| 12 | 4.77392578 | -0.00010727 | 4.7734 | 4.7744 | 0.0005 | -0.0007 | 9.765625e-04 |\n",
      "| 13 | 4.77368164 |  0.0002097  | 4.7734 | 4.7739 | 0.0005 | -0.0001 | 4.882812e-04 |\n",
      "| 14 | 4.77380371 |   5.12e-05  | 4.7737 | 4.7739 | 0.0002 | -0.0001 | 2.441406e-04 |\n",
      "| 15 | 4.77386475 |  -2.803e-05 | 4.7738 | 4.7739 | 0.0001 | -0.0001 | 1.220703e-04 |\n",
      "| 16 | 4.77383423 |  1.158e-05  | 4.7738 | 4.7739 | 0.0001 |   -0.0  | 6.103516e-05 |\n",
      "| 17 | 4.77384949 |  -8.23e-06  | 4.7738 | 4.7739 |  0.0   |   -0.0  | 3.051758e-05 |\n",
      "| 18 | 4.77384186 |   1.68e-06  | 4.7738 | 4.7738 |  0.0   |   -0.0  | 1.525879e-05 |\n",
      "| 19 | 4.77384567 |  -3.27e-06  | 4.7738 | 4.7738 |  0.0   |   -0.0  | 7.629395e-06 |\n",
      "+----+------------+-------------+--------+--------+--------+---------+--------------+\n"
     ]
    }
   ],
   "source": [
    "zm = bissecao('z/(1 - 2*z) - tan(z+1)',4,6,1e-5,20)"
   ]
  },
  {
   "cell_type": "markdown",
   "metadata": {},
   "source": [
    "- A raiz aproximada $z^{*}$, tal que para $h(z^{*}) = 0$ é mostrada na última linha da tabela. Isto é,"
   ]
  },
  {
   "cell_type": "code",
   "execution_count": 22,
   "metadata": {},
   "outputs": [
    {
     "data": {
      "text/plain": [
       "4.773845672607422"
      ]
     },
     "execution_count": 22,
     "metadata": {},
     "output_type": "execute_result"
    }
   ],
   "source": [
    "# raiz aproximada\n",
    "zm"
   ]
  },
  {
   "cell_type": "markdown",
   "metadata": {},
   "source": [
    "Por fim, vamos aplicar nosso método da bisseção ao problema do paraquedista apresentado no capítulo introdutório para buscar o coeficiente de arrasto adequado para os parâmetros de projeto impostos. \n",
    "\n",
    "Primeiramente, definiremos uma função para retornar a equação particular."
   ]
  },
  {
   "cell_type": "code",
   "execution_count": 43,
   "metadata": {
    "tags": [
     "hide-input"
    ]
   },
   "outputs": [],
   "source": [
    "def eq_paraq(tempo,massa,vel,grav):\n",
    "    \"\"\" Define equação particular para cálculo de coeficiente de arrasto \n",
    "        em salto de paraquedista. (Ver introdução.)\n",
    "        \n",
    "        Parâmetros: \n",
    "        \n",
    "            tempo: duração de salto até velocidade terminal [s]\n",
    "            massa: massa do paraquedista [kg]\n",
    "            vel: velocidade terminal desejada [m/s]\n",
    "            grav: aceleração gravitacional ambiente [m/s**2]\n",
    "        \n",
    "        Retorno: \n",
    "        \n",
    "            f: expressão numérica para equação particular\n",
    "               do coeficiente de arrasto\n",
    "                \n",
    "    \"\"\"\n",
    "    \n",
    "    # variáveis simbólicas    \n",
    "    from sympy import symbols, exp, lambdify\n",
    "    \n",
    "    g,m,t,v,c = symbols('g,m,t,v,c')\n",
    "    \n",
    "    # expressão geral\n",
    "    f = (g*m/c)*(1 - exp((-c/m)*t)) - v\n",
    "    \n",
    "    # expressão particular com valores substituídos convertidos para str\n",
    "    fs = f.subs({'g':grav,'m':massa,'v':vel,'t':tempo})\n",
    "    \n",
    "    # expressão simbólica convertida para expessão numérica\n",
    "    fn = lambdify(c,fs,\"numpy\")\n",
    "    \n",
    "    # imprime para \n",
    "    print(f'Equação particular: f(c) = {fs}')\n",
    "    \n",
    "    return (fs,fn)"
   ]
  },
  {
   "cell_type": "markdown",
   "metadata": {},
   "source": [
    "Em seguida, inserimos valores de entrada para teste. "
   ]
  },
  {
   "cell_type": "code",
   "execution_count": 49,
   "metadata": {},
   "outputs": [
    {
     "name": "stdout",
     "output_type": "stream",
     "text": [
      "Equação particular: f(c) = -42 + 686.7*(1 - exp(-6*c/35))/c\n"
     ]
    }
   ],
   "source": [
    "# parâmetros de entrada\n",
    "tempo, massa, vel, grav = 12, 70, 42, 9.81\n",
    "\n",
    "# equação particular\n",
    "fs,fn = eq_paraq(tempo,massa,vel,grav)"
   ]
  },
  {
   "cell_type": "markdown",
   "metadata": {},
   "source": [
    "O próximo passo realiza a análise gráfica para localização do intervalo de aproximação da raiz."
   ]
  },
  {
   "cell_type": "code",
   "execution_count": 47,
   "metadata": {},
   "outputs": [
    {
     "data": {
      "image/png": "[encoded data removed]",
      "text/plain": [
       "<Figure size 460.8x288 with 1 Axes>"
      ]
     },
     "metadata": {},
     "output_type": "display_data"
    }
   ],
   "source": [
    "c = np.linspace(1,20)\n",
    "plot(c,fn(c),'g',c,0*c,'k:');"
   ]
  },
  {
   "cell_type": "markdown",
   "metadata": {},
   "source": [
    "Encerrando, chamamos a função."
   ]
  },
  {
   "cell_type": "code",
   "execution_count": 50,
   "metadata": {},
   "outputs": [
    {
     "name": "stdout",
     "output_type": "stream",
     "text": [
      "+----+-------------+-------------+---------+---------+--------+---------+--------------+\n",
      "| i  |      xm     |    f(xm)    |    a    |    b    |  f(a)  |   f(b)  |      EA      |\n",
      "+----+-------------+-------------+---------+---------+--------+---------+--------------+\n",
      "| 1  |     15.5    | -0.80457281 |    14   |   17.0  | 2.6003 |  -3.797 | 3.000000e+00 |\n",
      "| 2  |    14.75    |  0.84203047 |    14   |   15.5  | 2.6003 | -0.8046 | 1.500000e+00 |\n",
      "| 3  |    15.125   |  0.00533671 |  14.75  |   15.5  | 0.842  | -0.8046 | 7.500000e-01 |\n",
      "| 4  |   15.3125   | -0.40289836 |  15.125 |   15.5  | 0.0053 | -0.8046 | 3.750000e-01 |\n",
      "| 5  |   15.21875  | -0.19960925 |  15.125 | 15.3125 | 0.0053 | -0.4029 | 1.875000e-01 |\n",
      "| 6  |  15.171875  | -0.09734443 |  15.125 | 15.2188 | 0.0053 | -0.1996 | 9.375000e-02 |\n",
      "| 7  |  15.1484375 | -0.04605603 |  15.125 | 15.1719 | 0.0053 | -0.0973 | 4.687500e-02 |\n",
      "| 8  | 15.13671875 | -0.02037272 |  15.125 | 15.1484 | 0.0053 | -0.0461 | 2.343750e-02 |\n",
      "| 9  | 15.13085938 | -0.00752127 |  15.125 | 15.1367 | 0.0053 | -0.0204 | 1.171875e-02 |\n",
      "| 10 | 15.12792969 |  -0.0010931 |  15.125 | 15.1309 | 0.0053 | -0.0075 | 5.859375e-03 |\n",
      "| 11 | 15.12646484 |  0.0021216  |  15.125 | 15.1279 | 0.0053 | -0.0011 | 2.929688e-03 |\n",
      "| 12 | 15.12719727 |  0.0005142  | 15.1265 | 15.1279 | 0.0021 | -0.0011 | 1.464844e-03 |\n",
      "| 13 | 15.12756348 | -0.00028946 | 15.1272 | 15.1279 | 0.0005 | -0.0011 | 7.324219e-04 |\n",
      "| 14 | 15.12738037 |  0.00011237 | 15.1272 | 15.1276 | 0.0005 | -0.0003 | 3.662109e-04 |\n",
      "| 15 | 15.12747192 |  -8.855e-05 | 15.1274 | 15.1276 | 0.0001 | -0.0003 | 1.831055e-04 |\n",
      "| 16 | 15.12742615 |  1.191e-05  | 15.1274 | 15.1275 | 0.0001 | -0.0001 | 9.155273e-05 |\n",
      "+----+-------------+-------------+---------+---------+--------+---------+--------------+\n"
     ]
    }
   ],
   "source": [
    "cm = bissecao(str(fs),14,17.0,1e-4,20)"
   ]
  },
  {
   "cell_type": "markdown",
   "metadata": {},
   "source": [
    "Como se vê, o coeficiente de arrasto aproximado para este caso é dado por:"
   ]
  },
  {
   "cell_type": "code",
   "execution_count": 27,
   "metadata": {},
   "outputs": [
    {
     "data": {
      "text/plain": [
       "15.127426147460938"
      ]
     },
     "execution_count": 27,
     "metadata": {},
     "output_type": "execute_result"
    }
   ],
   "source": [
    "cm"
   ]
  },
  {
   "cell_type": "markdown",
   "metadata": {},
   "source": [
    "## Problemas propostos \n",
    "\n",
    "Para cada problema, dispondo de seu enunciado e informações, siga os 3 passos a seguir:\n",
    "\n",
    "1. Faça a análise gráfica do modelo matemático do problema.\n",
    "2. Defina o(s)intervalo(s) adequados(s) de localização.\n",
    "3. Aplique o método da bisseção.\n",
    "\n",
    "**Problema 1**. Uma reação química reversível $2A+B \\iff C$ pode ser caracterizada pela relação de equilíbrio $K = \\dfrac{c_c}{c_a^2c_b}$, onde $c_i$ representa a concentração do constituinte $i$. Suponha que:\n",
    "\n",
    "- $x$ é o número de moles de $C$ que são produzidos\n",
    "- a conservação da massa pode ser usada para reformular a relação de equilíbrio como\n",
    "\n",
    "$$\n",
    "K = \\dfrac{(c_{c,0} + x)}{(c_{a,0} - 2x)^2 (c_{b,0} - x)},\n",
    "$$ \n",
    "\n",
    "onde o subscrito $0$ designa a concentração inicial de cada constituinte. \n",
    "\n",
    "- $K = 0,016$, $c_{a,0} = 42$, $c_{b,0} = 28$ e $c_{c,0} = 4$.\n",
    "\n",
    "Determine uma aproximação para $x$ com erro inferior a $10^{-5}$.\n",
    "\n",
    "**Problema 2**. A potência de saída de uma célula solar varia com a tensão que ela fornece. A saída $V_{mp}$ para a qual a potência de saída é máxima é dada pela equação:\n",
    "\n",
    "$$\n",
    "\\text{exp}(qV_{mp}/k_BT) \\Big( 1 + \\dfrac{qV_{mp}}{k_B T} \\Big) = \\text{exp}(qV_{oc}/k_B T)\n",
    "$$\n",
    "\n",
    "onde:\n",
    "\n",
    "- $V_{oc}$ é a tensão de circuito aberto [V];\n",
    "- $T$ é a temperatura [K];\n",
    "- $q$ = 1.6022e-19 [C] é a carga de um elétron;\n",
    "- $k$ = 1.3806e23 [J/K] é a constante de Boltzmann. \n",
    "\n",
    "Para $V_{oc}$ = 0.5 V e uma temperatura $T$ = 297 K, determine a tensão $V_{mp}$ na qual a potência de saída da célula solar é máxima."
   ]
  },
  {
   "cell_type": "code",
   "execution_count": 28,
   "metadata": {
    "tags": [
     "remove-input"
    ]
   },
   "outputs": [],
   "source": [
    "plt.rcdefaults()"
   ]
  }
 ],
 "metadata": {
  "kernelspec": {
   "display_name": "LVMN",
   "language": "python",
   "name": "python3"
  },
  "language_info": {
   "codemirror_mode": {
    "name": "ipython",
    "version": 3
   },
   "file_extension": ".py",
   "mimetype": "text/x-python",
   "name": "python",
   "nbconvert_exporter": "python",
   "pygments_lexer": "ipython3",
   "version": "3.13.2"
  }
 },
 "nbformat": 4,
 "nbformat_minor": 4
}