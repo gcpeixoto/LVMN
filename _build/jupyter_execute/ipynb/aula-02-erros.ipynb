{
 "cells": [
  {
   "cell_type": "code",
   "execution_count": 1,
   "metadata": {
    "tags": [
     "remove-input"
    ]
   },
   "outputs": [],
   "source": [
    "import matplotlib.pyplot as plt\n",
    "plt.style.use('../styles/gcpeixoto-book.mplstyle')"
   ]
  },
  {
   "cell_type": "markdown",
   "metadata": {},
   "source": [
    "# Do Contínuo ao Computável: Discretização e Erros Numéricos\n",
    "\n",
    "<div class=\"chapter-thumb\">\n",
    "    <div class=\"chapter-oa\">\n",
    "        <h2>Objetivos de aprendizagem</h2>\n",
    "        <ul>\n",
    "        <li>Compreender a representação numérica em computadores, o sistema de ponto flutuante e os limites impostos pela finitude dos sistemas computacionais;</li>\n",
    "\t    <li>Reconhecer situações de <em>overflow</em>, <em>underflow</em>, perda de precisão e outros casos especiais de operações numéricas;</li>\n",
    "\t    <li>Analisar os diferentes tipos de erros computacionais e suas implicações na robustez e confiabilidade de algoritmos. </li>\t    \n",
    "        </ul>\n",
    "    </div>        \n",
    "    <div class=\"quote-box\">\n",
    "        <p><em> \"Toda investigação cifra-se numa proporção comparativa fácil ou difícil. Eis a razão porque o infinito enquanto infinito, por subtrair-se a toda e qualquer proporção, é desconhecido.\" (Nicolau de Cusa, <em>De Docta Ignorantia</em>, 1440) \n",
    "        </p></em>\n",
    "    </div>        \n",
    "</div>\n",
    "\n",
    "Os computadores, em sua essência, operam sobre representações discretas e finitas da informação. Diferente do mundo físico e das formulações matemáticas clássicas, as quais, na maioria das vezes, pressupõem um universo contínuo e infinitamente preciso, os sistemas computacionais lidam com números armazenados em memória finita, com quantidade limitada de dígitos binários. Esse contraste entre o mundo contínuo e o mundo discreto estabelece a base para compreender os desafios e limitações presentes na implementação de modelos matemáticos por meio de algoritmos.\n",
    "\n",
    "Quando resolvemos numericamente problemas formulados na linguagem do Cálculo — que envolve conceitos como continuidade, derivadas e integrais —, precisamos realizar um processo chamado _discretização_. Esse processo consiste em transformar variáveis, domínios e operações contínuas em versões finitas e manipuláveis por algoritmos. Contudo, essa transformação introduz inevitavelmente erros computacionais, que podem ser classificados em diversas categorias: erros de arredondamento, decorrentes da representação finita dos números; erros de truncamento, provenientes da aproximação de processos infinitos (como séries ou integrais) por expressões finitas; e erros algorítmicos ou de método, que surgem das escolhas específicas dos procedimentos numéricos adotados.\n",
    "\n",
    "Compreender a origem, o comportamento e os impactos desses erros é fundamental para qualquer profissional que utiliza simulações numéricas ou algoritmos computacionais. Mais do que uma questão técnica, essa compreensão permite avaliar a confiabilidade dos resultados, projetar métodos mais robustos e, quando possível, minimizar os efeitos adversos da discretização. Em última análise, o estudo dos métodos numéricos é, em grande parte, um estudo sobre como transpor, com inteligência e controle, a fronteira que separa o contínuo idealizado da matemática do discreto real dos computadores."
   ]
  },
  {
   "cell_type": "markdown",
   "metadata": {},
   "source": [
    "## Aritmética computacional\n",
    "\n",
    "Computadores representam números inteiros de forma exata [{ref}`clipping-decimal`]. No entanto, a representação de números reais é sempre aproximada e limitada a um conjunto finito de valores. Essa limitação decorre da necessidade de codificar números contínuos em uma estrutura binária finita. A aritmética computacional, portanto, lida tanto com números inteiros quanto com os chamados números em ponto flutuante, que permitem representar aproximações de números reais.\n",
    "\n",
    "O estudo da aritmética computacional concentra-se em dois aspectos fundamentais:\n",
    "\n",
    "1. a representação dos números no formato de máquina, isto é, em base binária, com precisão e alcance finitos; e\n",
    "\n",
    "2. o desenvolvimento de algoritmos capazes de realizar operações aritméticas fundamentais, como adição, subtração, multiplicação e divisão, de forma eficiente e consistente dentro dos limites impostos pelo hardware.\n",
    "\n",
    "Métodos numéricos são, essencialmente, algoritmos que utilizam essas quatro operações como blocos fundamentais, aplicando-as de forma estruturada e sofisticada para resolver problemas matemáticos de interesse científico e de engenharia. Atualmente, o padrão IEEE 754 [{ref}`clipping-ieee754`] é adotado globalmente pelos fabricantes de processadores. Esse padrão define as regras para a representação, as operações e os comportamentos dos números em ponto flutuante, assegurando portabilidade e previsibilidade dos cálculos entre diferentes arquiteturas, seja em 16, 32, 64 ou 128 bits. Sua primeira versão foi publicada em 1985, com a atualização mais recente ocorrendo em 2019 {cite:p}`fasi2021algorithms`."
   ]
  },
  {
   "cell_type": "markdown",
   "metadata": {},
   "source": [
    "### Unidade Lógica e Aritmética\n",
    "\n",
    "A _Unidade Lógica e Aritmética_ (ULA) é a parte do hardware computacional conectada à unidade central de processamento (CPU) que realiza as operações aritméticas e lógicas sobre os dados processados ({numref}`fig-ula`). A ULA é um componente eletrônico que funciona segundo a lógica dos cicuitos digitais, ou seja, interpretando operações em lógica Booleana (`and`, `or`, `not`).\n",
    "\n",
    "Há muito mais por trás das operações fundamentais executadas pelos computadores. Em Python, por exemplo, há casos de aproximações que chegam a ser curiosos. Isto ocorre devido ao erro inerente da representação numérica, principalmente quando os números são fracionários.\n",
    "\n",
    "```{figure} ../figs/ula-ai.png\n",
    "---\n",
    "width: 250px\n",
    "name: fig-ula\n",
    "---\n",
    "Ilustração de um chip de computador destacando as interconexões responsáveis por operações lógicas, aritméticas e troca de informação com a unidade de controle.\n",
    "```"
   ]
  },
  {
   "cell_type": "markdown",
   "metadata": {},
   "source": [
    "### Casos curiosos\n",
    "\n",
    "A aritmética de ponto flutuante possui situações inusitadas e respostas estranhas que podem levar-nos a duvidar se estamos realizando operações corretamente. Abaixo, mostramos alguns casos curiosos (coloquialmentem) que ocorrem devido à representação finita de números pelo computador. Outras indagações sobre ponto flutuante são respondidas em [{ref}`extra-float`].\n",
    "\n",
    "\n",
    "- A fração $1/3 = 0.3333\\ldots$ é uma dízima. O seu triplo é?"
   ]
  },
  {
   "cell_type": "code",
   "execution_count": 3,
   "metadata": {},
   "outputs": [
    {
     "data": {
      "text/plain": [
       "0.3333333333333333"
      ]
     },
     "execution_count": 3,
     "metadata": {},
     "output_type": "execute_result"
    }
   ],
   "source": [
    "1/3"
   ]
  },
  {
   "cell_type": "code",
   "execution_count": 7,
   "metadata": {},
   "outputs": [
    {
     "data": {
      "text/plain": [
       "1.0"
      ]
     },
     "execution_count": 7,
     "metadata": {},
     "output_type": "execute_result"
    }
   ],
   "source": [
    "1/3 + 1/3 + 1/3"
   ]
  },
  {
   "cell_type": "markdown",
   "metadata": {},
   "source": [
    "- A soma $0.3 + 0.3 + 0.3$ difere de $0.9$."
   ]
  },
  {
   "cell_type": "code",
   "execution_count": 4,
   "metadata": {},
   "outputs": [
    {
     "data": {
      "text/plain": [
       "0.8999999999999999"
      ]
     },
     "execution_count": 4,
     "metadata": {},
     "output_type": "execute_result"
    }
   ],
   "source": [
    "0.3 + 0.3 + 0.3"
   ]
  },
  {
   "cell_type": "markdown",
   "metadata": {},
   "source": [
    "- $1/10 + 1/10 + 1/10 \\neq 3/10$"
   ]
  },
  {
   "cell_type": "code",
   "execution_count": 5,
   "metadata": {},
   "outputs": [
    {
     "data": {
      "text/plain": [
       "False"
      ]
     },
     "execution_count": 5,
     "metadata": {},
     "output_type": "execute_result"
    }
   ],
   "source": [
    "1/10 + 1/10 + 1/10 == 3/10"
   ]
  },
  {
   "cell_type": "markdown",
   "metadata": {},
   "source": [
    "- Multiplicação por fracionários"
   ]
  },
  {
   "cell_type": "code",
   "execution_count": 7,
   "metadata": {},
   "outputs": [
    {
     "name": "stdout",
     "output_type": "stream",
     "text": [
      "3*0.3         = 0.8999999999999999\n",
      "3*0.33        = 0.99\n",
      "3*0.333       = 0.9990000000000001\n",
      "3*0.3333      = 0.9999\n",
      "3*0.33333     = 0.99999\n",
      "3*0.333333    = 0.999999\n",
      "3*0.3333333   = 0.9999998999999999\n",
      "3*0.333333333 = 0.999999999\n"
     ]
    }
   ],
   "source": [
    "# note a variabilidade de dígitos após o ponto\n",
    "for x in [0.3, 0.33, 0.333, 0.3333, 0.33333, 0.333333, 0.3333333, 0.333333333]:\n",
    "    print(f'3*{x}'.ljust(13,' '),'=', 3*x, sep=' ')"
   ]
  },
  {
   "cell_type": "markdown",
   "metadata": {},
   "source": [
    "#### A finitude explicada\n",
    "\n",
    "Os casos acima possuem uma razão comum: a capacidade finita dos computadores para representar números fracionários. Vamos analisar de modo breve o caso da fração 1/10 sem nos aprofundar em detalhes.\n",
    "\n",
    "Em um computador de arquitetura 64 bits que segue o padrão IEEE 754, a melhor aproximação para 1/10 é um número com 55 dígitos decimais."
   ]
  },
  {
   "cell_type": "code",
   "execution_count": 8,
   "metadata": {},
   "outputs": [
    {
     "name": "stdout",
     "output_type": "stream",
     "text": [
      "0.1000000000000000055511151231257827021181583404541015625\n"
     ]
    }
   ],
   "source": [
    "# imprime número com 55 dígitos\n",
    "print(format(0.1,'.55f'))"
   ]
  },
  {
   "cell_type": "markdown",
   "metadata": {},
   "source": [
    "Notemos que tentar aumentar os dígitos não produzirá significância:"
   ]
  },
  {
   "cell_type": "code",
   "execution_count": 9,
   "metadata": {},
   "outputs": [
    {
     "name": "stdout",
     "output_type": "stream",
     "text": [
      "0.100000000000000005551115123125782702118158340454101562500000\n"
     ]
    }
   ],
   "source": [
    "# imprime número com 60 dígitos\n",
    "print(format(0.1,'.60f'))"
   ]
  },
  {
   "cell_type": "code",
   "execution_count": 10,
   "metadata": {},
   "outputs": [
    {
     "name": "stdout",
     "output_type": "stream",
     "text": [
      "0.10000000000000000555111512312578270211815834045410156250000000000000000000000000\n"
     ]
    }
   ],
   "source": [
    "# imprime número com 80 dígitos\n",
    "print(format(0.1,'.80f'))"
   ]
  },
  {
   "cell_type": "markdown",
   "metadata": {},
   "source": [
    "Portanto, quando somamos 1/10 + 1/10 + 1/10 vemos um número diferente de 3/10."
   ]
  },
  {
   "cell_type": "code",
   "execution_count": 11,
   "metadata": {},
   "outputs": [
    {
     "name": "stdout",
     "output_type": "stream",
     "text": [
      "0.3000000000000000444089209850062616169452667236328125000\n"
     ]
    }
   ],
   "source": [
    "# imprime número com 55 dígitos\n",
    "print(format(0.1 + 0.1 + 0.1,'.55f'))"
   ]
  },
  {
   "cell_type": "markdown",
   "metadata": {},
   "source": [
    "### Notação científica\n",
    "\n",
    "Números em ponto flutuante são a versão computacional da notação científica. Escrevemos um número decimal em notação científica da seguinte forma:\n",
    "\n",
    "$$x = f \\times 10^e,$$\n",
    "\n",
    "com a fração (ou mantissa) $f$ determinando a precisão e o expoente $e$ a ordem de grandeza. Pontos flutuantes admitem $f$ na forma _normalizada_, isto é, menor do que 1. A tabela abaixo mostra alguns exemplos de como usamos essas notações.\n",
    "\n",
    "\n",
    "| Número decimal | Notação científica | Repr. ponto flutuante\n",
    "|:---------------|--------------------|------:|\n",
    "|$2.65$ | $2.65 \\times 10^0$ | $0.265 \\times 10^1$|\n",
    "|$0.0000012$ | $1.2 \\times 10^{-6}$ | $0.12 \\times 10^{-5}$|\n",
    "|$4532$ | $4.532 \\times 10^{3}$ | $0.4532 \\times 10^{4}$|\n",
    "\n",
    "Em termos de código Python – e em outras linguagen smte, a notação científica em base 10 pode ser realizada da seguinte forma:"
   ]
  },
  {
   "cell_type": "code",
   "execution_count": 12,
   "metadata": {},
   "outputs": [
    {
     "data": {
      "text/plain": [
       "(2.65, 1.2e-06, 4532000.0)"
      ]
     },
     "execution_count": 12,
     "metadata": {},
     "output_type": "execute_result"
    }
   ],
   "source": [
    "2.65e0, 1.2e-6, 4532e3"
   ]
  },
  {
   "cell_type": "markdown",
   "metadata": {},
   "source": [
    "## Ponto flutuante: a reta \"perfurada\" \n",
    "\n",
    "Desde os primórdios dos computadores mecânicos e eletrônicos, a precisão e a confiabilidade dos cálculos têm estado no centro das atenções e ambas são afetadas pelas discrepâncias entre números reais, infinitos e contínuos, e suas representações em máquina, finitas e discretas. Nas décadas de 1940 e 1950, houve uma clara percepção de que o sistema de ponto fixo, até então utilizado, era bastante limitado para dar precisão aos cálculos e que o aparato de _hardware_ disponível na época era incapaz de lidar com situações de \"sobrecarga\" (_overflow_) ou \"subfluxo\" (_underflow_). Em outras palavras, representar números muito pequenos ou muito grandes, como $10^{-30}$ ou $543.671^3$, era algo impensável.\n",
    "\n",
    "Com a introdução da aritmética de ponto flutuante nos anos 1950 e 1960, os computadores passaram a representar uma quantidade significativa de números. Porém, o preço que se pagou por esse progresso foi a aparição de novos tipos de erros, como os erros de arredondamento, que ocorrem quando os números são aproximados para caber no formato de ponto flutuante. Mesmo com a implantação do padrão IEEE-754 em 1985, o qual uniformizou a representação e a manipulação de números em ponto flutuante, os erros inerentes não foram eliminados. A pesquisa em computação científica e de alto desempenho, reveladora de que os erros são obstinados, está bastante ativa e expandindo o conhecimento. Recentemente, um grupo de espanhois trouxe perspectivas promissoras para o formato _posit64_ {cite:p}`mallasen2024big`, uma alternativa potencialmente superior ao padrão IEEE-754. Através de diversos testes, eles concluíram que o sistema baseado na arquitetura RISC-V (quinta geração da _Reduced Instruction Set Computer_), oferece maior precisão, resiliência a erros de arredondamento e eficiência de armazenamento.\n",
    "\n",
    "Em vez de operar sobre o conjunto dos números reais (conjunto $\\mathbb{R}$), a matemática computacional está definida no domínio $\\mathbb{F}$, o conjunto dos números em ponto flutuante representáveis pela máquina. Vejamos um exemplo.\n",
    "\n",
    "Um sistema de ponto flutuante simplório em base binária, com apenas 3 dígitos de precisão e limites de _underflow_ e _overflow_ com expoentes variando de -1 a 2 possui 32 números representáveis, além do zero. Os 16 números positivos, derivados das mantissas $0.100$, $0.101$, $0.110$ e $0.111$, são os seguintes:\n",
    "\n",
    "- $(0.100 \\times 2^{-1})_{2} = (0.01)_2 = 0.2^0 + 0.2^{-1} + 1.2^{-2} = 1/4$\n",
    "- $(0.100 \\times 2^{0})_{2} = (0.1)_2 = 0.2^0 + 1.2^{-1} = 1/2$\n",
    "- $(0.100 \\times 2^{1})_{2} = (1.0)_2 = 1.2^0 + 0.2^{-1} = 1$\n",
    "- $(0.100 \\times 2^{2})_{2} = (10.0)_2 = 1.2^1 + 0.2^{1} + 0.2^{-1} = 2$\n",
    "\n",
    "- $(0.101 \\times 2^{-1})_{2} = (0.0101)_2 = 0.2^0 + 0.2^{-1} + 1.2^{-2} + 0.2^{-3} + 1.2^{-4}= 5/16$\n",
    "- $(0.101 \\times 2^{0})_{2} = (0.101)_2 = 0.2^0 + 1.2^{-1} + 0.2^{-2} + 1.2^{-3} = 5/8$\n",
    "- $(0.101 \\times 2^{1})_{2} = (1.01)_2 = 1.2^0 + 0.2^{-1} + 1.2^{-2} = 1$\n",
    "- $(0.101 \\times 2^{2})_{2} = (10.1)_2 = 1.2^1 + 0.2^{1} + 0.2^{-1} = 2$\n",
    "\n",
    "(...)\n",
    "\n",
    "Prosseguindo para os números restantes, obtemos a seguinte tabela: \n",
    "\n",
    "|     | m  | 0.100 | 0.101 | 0.110 | 0.111 |\n",
    "|-----|----|------ |-------|-------|-------|\n",
    "|**e**|    |       |       |       |       |\n",
    "| -1  |    | 1/4   | 5/16  | 3/8   | 7/16  |\n",
    "| 0   |    | 1/2   | 5/8   | 3/4   | 7/8   |\n",
    "| 1   |    | 1     | 5/4   | 3/2   | 7/4   |\n",
    "| 2   |    | 2     | 5/2   | 3     | 7/2   |\n",
    "\n",
    "Na reta real, esses valores ficariam dispostos da seguinte forma: "
   ]
  },
  {
   "cell_type": "code",
   "execution_count": 13,
   "metadata": {
    "tags": [
     "remove-input"
    ]
   },
   "outputs": [
    {
     "data": {
      "image/png": "[encoded data removed]",
      "text/plain": [
       "<Figure size 800x100 with 1 Axes>"
      ]
     },
     "metadata": {
      "filenames": {
       "image/png": "/Users/gustavo/Dropbox/courses/calculo-numerico/LVMN/_build/jupyter_execute/ipynb/aula-02-erros_23_0.png"
      }
     },
     "output_type": "display_data"
    }
   ],
   "source": [
    "from matplotlib.pyplot import subplots\n",
    "import matplotlib.ticker as mticker\n",
    "from fractions import Fraction\n",
    "\n",
    "x = [1/4,1/2,1,2,5/16,5/8,5/4,5/2,3/8,3/4,3/2,3,7/16,7/8,7/4,7/2]\n",
    "x = sorted(x)\n",
    "\n",
    "fig, ax = subplots(figsize=(8,1),constrained_layout=True)\n",
    "ax.plot(x,16*[0],':k')\n",
    "ax.plot(x,16*[0],'og');\n",
    "ax.spines['top'].set_visible(False)\n",
    "ax.spines['left'].set_visible(False)\n",
    "ax.spines['right'].set_visible(False)\n",
    "ax.get_yaxis().set_visible(False)\n",
    "ax.xaxis.set_major_locator(mticker.FixedLocator(x))\n",
    "ax.set_xticklabels([str(Fraction(xi)) for xi in x],fontsize=5)\n",
    "ax.set_xlim([0.23,3.6]);"
   ]
  },
  {
   "cell_type": "markdown",
   "metadata": {},
   "source": [
    "Isto é, $\\mathbb{F}$ é uma reta \"perfurada\", para a qual apenas 16 números positivos, 16 simétricos destes (que seriam refletidos na origem para o extremo negativo) e mais o 0 são representáveis. Logo, esse sistema seria capaz de representar apenas 33 números."
   ]
  },
  {
   "cell_type": "markdown",
   "metadata": {},
   "source": [
    "### Simulador de $\\mathbb{F}$\n",
    "\n",
    "\n",
    "Clássicamente, um sistema de ponto flutuante é descrito por $\\mathbb{F}(b, t, L, U)$, onde $b$ é a base (geralmente binária nos sistemas modernos), $t$ são os dígitos significativos da mantissa, que determina a precisão, $L$ é o menor expoente inteiro possível (que controal o limite de _underflow_) e $U$ é o maior expoente inteiro possível (que controla o limite de _overflow_). No exemplo acima, o sistema é $\\mathbb{F}(2, 3, -1, 2)$. \n",
    "\n",
    "O código abaixa gera uma reta perfurada para um sistema computacional de interesse."
   ]
  },
  {
   "cell_type": "code",
   "execution_count": 14,
   "metadata": {
    "tags": [
     "hide-input"
    ]
   },
   "outputs": [
    {
     "data": {
      "image/png": "[encoded data removed]",
      "text/plain": [
       "<Figure size 800x100 with 1 Axes>"
      ]
     },
     "metadata": {
      "filenames": {
       "image/png": "/Users/gustavo/Dropbox/courses/calculo-numerico/LVMN/_build/jupyter_execute/ipynb/aula-02-erros_26_0.png"
      }
     },
     "output_type": "display_data"
    }
   ],
   "source": [
    "import numpy as np\n",
    "import matplotlib.pyplot as plt\n",
    "\n",
    "\n",
    "def simulacao_F(b,t,L,U):\n",
    "    x = []\n",
    "    epsm = b**(1-t) # epsilon de máquina\n",
    "    M = np.arange(1.,b-epsm,epsm)\n",
    "\n",
    "    E = 1\n",
    "    for e in range(0,U+1):\n",
    "        x = np.concatenate([x,M*E])\n",
    "        E *= b    \n",
    "    E = b**(-1)\n",
    "    \n",
    "    y = []\n",
    "    for e in range(-1,L-1,-1):\n",
    "        y = np.concatenate([y,M*E])\n",
    "        E /= b    \n",
    "    yy = np.asarray(y)\n",
    "    xx = np.asarray(x)    \n",
    "    x = np.concatenate([yy,np.array([0.]),xx])\n",
    "    return x\n",
    "\n",
    "Y = simulacao_F(2,4,-3,5)\n",
    "X = np.zeros(Y.shape)\n",
    "\n",
    "\n",
    "# plotagem\n",
    "fig, ax = subplots(figsize=(8,1),constrained_layout=True)\n",
    "ax.scatter(Y,X,marker='o',color='g');\n",
    "ax.get_yaxis().set_visible(False)\n"
   ]
  },
  {
   "cell_type": "markdown",
   "metadata": {},
   "source": [
    "### Limites de máquina para ponto flutuante"
   ]
  },
  {
   "cell_type": "markdown",
   "metadata": {},
   "source": [
    "Nos sistemas mais modernos, os parâmetros de $\\mathbb{F}$ crescem vertiginosamente com o aumento dos _bits_ ({numref}`Tabela %s <tbl-F>`). A quantidade de números representáveis no Float64 é aproximadamente 1.84e19 apenas considerando os números normais.\n",
    "\n",
    "```{table} Parâmetros de $\\mathbb{F}$ para as arquiteturas modernas.\n",
    ":name: tbl-F\n",
    "| Formato       | Base ($b$)   | Dígitos significativos ($t$)  | Expoente inferior ($L$)   | Expoente superior ($U$) |\n",
    "|:--------------|--------------|-------------------------------|---------------------------|------------------------:|\n",
    "| float16       | 2            | 11                            | -14                        | +15                    |\n",
    "| float32       | 2            | 24                            | -126                       | +127                   |\n",
    "| float64       | 2            | 53                            | -1022                      | +1023                  |\n",
    "| float128 (*)  | 2            | 113                           | -16382                     | +16383                 |\n",
    "```\n",
    "\n",
    "(*) Nem todos os processadores oferecem suporte nativo para `float128`. É frequentemente implementado em software.\n",
    "\n",
    "Em Python, podemos utilizar diferentes sistemas de ponto flutuante. Cada um possui suas particularidades. Os mais comuns são:\n",
    "\n",
    "- `float16` (meia precisão): ideal para aplicações onde a velocidade e o uso de memória são críticos, como em inferências de aprendizado profundo em dispositivos com recursos limitados.\n",
    "- `float32` (precisão simples): comumente usado em jogos, gráficos, e muitas aplicações de aprendizado de máquina devido ao bom equilíbrio entre precisão e eficiência.\n",
    "- `float64` (precisão dupla; _alias_ para `float`): essencial para simulações científicas, finanças e outras áreas onde a precisão é crucial e a memória não é preocupação.\n",
    "\n",
    "O `numpy` suporta todos os três na maioria dos computadores de hoje ({numref}`Tabela %s <tbl-float>`). "
   ]
  },
  {
   "cell_type": "markdown",
   "metadata": {},
   "source": [
    "```{table} Comparativo entre sistemas de ponto flutuante\n",
    ":name: tbl-float\n",
    "\n",
    "| Atributo              | `float16`                  | `float32`                  | `float64`                  |\n",
    "|:-----------------------|:----------------------------|:----------------------------|:----------------------------|\n",
    "| **Tamanho**           | 16 bits (2 bytes)          | 32 bits (4 bytes)          | 64 bits (8 bytes)          |\n",
    "| **Precisão**          | Baixa                      | Moderada                   | Alta                       |\n",
    "| **Intervalo de Valores** | $\\approx 5.96 \\times 10^{-8}$ a $6.55 \\times 10^{4} $ | $\\approx 1.18 \\times 10^{-38} $ a $3.4 \\times 10^{38} $ | $\\approx 2.23 \\times 10^{-308} $ a $1.8 \\times 10^{308} $ |\n",
    "| **Bits de Sinal**     | 1                          | 1                          | 1                          |\n",
    "| **Bits de Expoente**  | 5                          | 8                          | 11                         |\n",
    "| **Bits de Mantissa**  | 10                         | 23                         | 52                         |\n",
    "| **Uso de Memória**    | Muito baixo                | Moderado                   | Alto                       |\n",
    "| **Aplicações**        | Aprendizado profundo em dispositivos de recursos limitados | Gráficos de computador, simulações científicas, aprendizado de máquina | Cálculos científicos, engenharia, finanças de alta precisão |\n",
    "| **Exemplo de Valores** | $3.140625$ para representar aproximadamente $\\pi$ | $3.1415927$ para representar aproximadamente $\\pi$ | $3.141592653589793$ para representar aproximadamente $\\pi$ |\n",
    "| **Vantagens**         | Usa menos memória e é mais rápido em termos de computação. Ideal para aplicações onde a memória é restrita e a precisão pode ser sacrificada. | Oferece um bom equilíbrio entre precisão e uso de memória. Amplamente utilizado em gráficos e aprendizado de máquina. | Alta precisão e amplo intervalo dinâmico. Ideal para cálculos científicos e de engenharia onde a precisão é crucial. |\n",
    "| **Desvantagens**      | Precisão muito limitada, o que pode levar a erros significativos em cálculos complexos. | Pode não ser suficientemente preciso para cálculos científicos muito precisos. | Usa mais memória e pode ser mais lento em termos de computação comparado com float16 e float32. |\n",
    "```"
   ]
  },
  {
   "cell_type": "markdown",
   "metadata": {},
   "source": [
    "A seguinte função imprime os valores dos principais atributos de `numpy.finfo` que nos ajudam a entender melhor os limites de máquina em Python para esses sistemas de ponto flutuante."
   ]
  },
  {
   "cell_type": "code",
   "execution_count": 15,
   "metadata": {
    "tags": [
     "hide-input"
    ]
   },
   "outputs": [],
   "source": [
    "import numpy as np \n",
    "\n",
    "def print_attribute(dtype: str, attrib: str) -> None:\n",
    "    \"\"\"\n",
    "    Imprime informações de atributo para os sistemas de ponto flutuante \\\n",
    "        de 16, 32 e 64 bits operados pelo numpy\n",
    "        \n",
    "    Atributos relevantes: \n",
    "    \n",
    "        - eps: menor valor x, tal que 1.0 + x > 1.0 (epsilon de máquina)\n",
    "        - max: maior número finito que pode ser representado pelo tipo de dado de ponto flutuante.\n",
    "        - min: menor número finito negativo que pode ser representado pelo tipo de dado de ponto flutuante.\n",
    "        - tiny: menor número positivo normalizado que pode ser representado.\n",
    "        - nexp: número de bits no expoente       \n",
    "        - nmant: número de bits na mantissa\n",
    "    \"\"\"\n",
    "    \n",
    "    # checagem de sistema permitido\n",
    "    assert dtype in ['float16', 'float32', 'float64'], 'Sistema não permitido!'\n",
    "    \n",
    "    # impressão    \n",
    "    print(f'{attrib}:')\n",
    "    exec(f'print(np.finfo(np.{dtype}).{attrib})')"
   ]
  },
  {
   "cell_type": "markdown",
   "metadata": {},
   "source": [
    "A partir daí, podemos verificar os valores para cada sistema individualmente:"
   ]
  },
  {
   "cell_type": "code",
   "execution_count": 16,
   "metadata": {
    "tags": [
     "hide-output"
    ]
   },
   "outputs": [
    {
     "name": "stdout",
     "output_type": "stream",
     "text": [
      "--- float16 \n",
      "\n",
      "eps:\n",
      "0.000977\n",
      "max:\n",
      "65500.0\n",
      "min:\n",
      "-65500.0\n",
      "tiny:\n",
      "6.104e-05\n",
      "nexp:\n",
      "5\n",
      "nmant:\n",
      "10\n",
      "\n",
      "--- float32 \n",
      "\n",
      "eps:\n",
      "1.1920929e-07\n",
      "max:\n",
      "3.4028235e+38\n",
      "min:\n",
      "-3.4028235e+38\n",
      "tiny:\n",
      "1.1754944e-38\n",
      "nexp:\n",
      "8\n",
      "nmant:\n",
      "23\n",
      "\n",
      "--- float64 (float) \n",
      "\n",
      "eps:\n",
      "2.220446049250313e-16\n",
      "max:\n",
      "1.7976931348623157e+308\n",
      "min:\n",
      "-1.7976931348623157e+308\n",
      "tiny:\n",
      "2.2250738585072014e-308\n",
      "nexp:\n",
      "11\n",
      "nmant:\n",
      "52\n"
     ]
    }
   ],
   "source": [
    "print('--- float16 \\n')\n",
    "for attrib in ['eps', 'max', 'min', 'tiny', 'nexp', 'nmant']:\n",
    "    print_attribute('float16', attrib)\n",
    "    \n",
    "print('\\n--- float32 \\n')\n",
    "for attrib in ['eps', 'max', 'min', 'tiny', 'nexp', 'nmant']:\n",
    "    print_attribute('float32', attrib)\n",
    "    \n",
    "print('\\n--- float64 (float) \\n')\n",
    "for attrib in ['eps', 'max', 'min', 'tiny', 'nexp', 'nmant']:\n",
    "    print_attribute('float64', attrib)"
   ]
  },
  {
   "cell_type": "markdown",
   "metadata": {},
   "source": [
    "#### O épsilon de máquina\n",
    "\n",
    "A unidade de arredondamento, comumente chamada de \"épsilon de máquina\" e aqui denotada por $\\epsilon_M$, é definida como o menor número positivo que, somado à unidade, produz um resultado diferente de 1 na máquina. Em termos matemáticos:\n",
    "\n",
    "$$1.0 + \\epsilon_M > 1.0$$\n",
    "\n",
    "De outra forma, essa definição pode ser interpretada como: $\\epsilon_M$ é a menor diferença entre 1 e o próximo número maior que pode ser representado no sistema numérico da máquina. \n",
    "\n",
    "Para ilustrar este conceito, consideremos um sistema hipotético de 8 bits, no qual cada número é codificado como uma sequência de 8 dígitos binários, segundo a seguinte estrutura:\n",
    "\n",
    "- 1 bit para o sinal;\n",
    "\n",
    "- 3 bits para o expoente (com bias);\n",
    "\n",
    "- 4 bits para a mantissa (ou parte fracionária).\n",
    "\n",
    "Neste sistema, o número 1 em base decimal é representado pelo binário 00110000. O próximo número representável é 00110001, que corresponde ao valor decimal 1.0625. Assim, o épsilon de máquina para este sistema é:\n",
    "\n",
    "$$\\epsilon_M = 1.0625 - 1 = 0.0625$$\n",
    "\n",
    "Para este cálculo, utilizamos a fórmula geral de ponto flutuante: $x = (-1)^s 2^{(c - \\text{bias})} \\cdot (1 + f)$.\n",
    "\n",
    "- O bias, para 3 bits de expoente, é calculado como: $\\text{bias} = \\frac{2^3 - 1}{2} = 3$\n",
    "\n",
    "- No caso do número 1, os bits do expoente são 011, que correspondem ao valor: $c = (0) 2^2 + (1) 2^1 + (1) 2^0 = 3$\n",
    "\n",
    "- Como o sinal é positivo $(s = 0)$ e a mantissa está zerada $(f = 0)$, o cálculo resulta em: $x = (1) 2^{(3-3)} (1 + 0) = 1$\n",
    "\n",
    "A representação binária 00110000 corresponde, portanto, ao número decimal 1.\n",
    "\n",
    "No próximo número representável, a menor alteração ocorre no _bit_ menos significativo da mantissa, que vale $2^{-4} = 0.0625$. Isso significa que a sequência binária 00110001 representa: 1 + 0.0625 = 1.0625. Portanto, $\\epsilon_M = 0.0625$. Se adicionarmos outro _bit_ da mantissa (o segundo bit menos significativo), obteremos uma contribuição de $2^{-3} = 0.125$, que somada à anterior resulta em: 0.0625 + 0.125 = 0.1875. Assim, o número subsequente seria 1.1875, e a diferença entre 1.1875 e 1.0625 é 0.125, maior que $\\epsilon_M$.\n",
    "\n",
    "Esse exemplo evidencia um ponto fundamental: a unidade de arredondamento ($\\epsilon_M$) não corresponde a uma \"distância constante\" na reta dos números reais. A densidade dos números representáveis na máquina não é uniforme — ela depende diretamente do valor do expoente. Assim, embora $\\epsilon_M$ defina a menor diferença ao redor de 1, para números muito maiores ou muito menores, essa distância aumenta ou diminui exponencialmente, como a figura da reta perfurada anterior mostra."
   ]
  },
  {
   "cell_type": "markdown",
   "metadata": {},
   "source": [
    "#### Sensibilidade numérica\n",
    "\n",
    "A sensibilidade numérica mede o quanto a saída de um problema ou algoritmo é afetada por pequenas variações na entrada. Se pequenas perturbações nos dados de entrada causam grandes variações na saída, dizemos que o problema (ou o algoritmo) é sensível, ou seja, mal condicionado. Se, ao contrário, a saída varia pouco frente a pequenas perturbações, dizemos que o problema é bem condicionado, portanto, pouco sensível.\n",
    "\n",
    "Quando subtraímos 1 de valores de $\\epsilon$ cada vez menores, a subtração no denominador da fração\n",
    "\n",
    "$$f(\\epsilon) = \\dfrac{ (1 + \\epsilon) - 1}{\\epsilon}$$\n",
    "\n",
    "começa a se aproximar de zero por cancelamento subtrativo e o valor de $f$ torna-se cada vez mais instável até cair a \"zero\". O efeito de $\\epsilon_M$ em cálculos pode ser mostrado na figura abaixo. "
   ]
  },
  {
   "cell_type": "code",
   "execution_count": 17,
   "metadata": {
    "tags": [
     "remove-input"
    ]
   },
   "outputs": [
    {
     "data": {
      "image/png": "[encoded data removed]",
      "text/plain": [
       "<Figure size 600x300 with 1 Axes>"
      ]
     },
     "metadata": {
      "filenames": {
       "image/png": "/Users/gustavo/Dropbox/courses/calculo-numerico/LVMN/_build/jupyter_execute/ipynb/aula-02-erros_36_0.png"
      }
     },
     "output_type": "display_data"
    }
   ],
   "source": [
    "from matplotlib.pyplot import subplots\n",
    "from numpy import linspace,finfo\n",
    "\n",
    "fig, ax = subplots(figsize=(6,3), constrained_layout=True)\n",
    "\n",
    "e = linspace(1e-17, 1e-12, num=200)\n",
    "f = ((1 + e) - 1)/e\n",
    "\n",
    "ax.loglog(e, f, 'g')\n",
    "ax.axhline(y=1, ls=':', c=[0.6,0.6,0.6])\n",
    "ax.axvline(x=finfo(float).eps, ls=':', c=[0.6,0.6,0.6])\n",
    "\n",
    "ax.set_xlabel(r'$\\epsilon$', fontsize=10)\n",
    "ax.set_ylabel(r'$[(1+\\epsilon)-1)] / \\epsilon$', fontsize=10)\n",
    "ax.set_title(r'Variação relativa a $\\epsilon \\to \\epsilon_M $');"
   ]
  },
  {
   "cell_type": "markdown",
   "metadata": {},
   "source": [
    "### Valores e operações especiais\n",
    "\n",
    "O padrão IEEE 754 traz alguns valores especiais para representar cadeias de bits especiais. São eles:\n",
    "\n",
    "- _NaN_ (_not a number_): representa um valor que é um erro.\n",
    "- _Inf_ (_infinity_): representa o infinito (em ambos os sentidos, positivo e negativo).\n",
    "\n",
    "A partir desses valores especiais, operáveis pelo módulo _numpy_ com `numpy.nan` e `numpy.inf`, respectivamente, podemos imitar operações matemáticas \"equivalentes\". Primeiramente, façamos:"
   ]
  },
  {
   "cell_type": "code",
   "execution_count": 18,
   "metadata": {},
   "outputs": [],
   "source": [
    "from numpy import nan, inf"
   ]
  },
  {
   "cell_type": "markdown",
   "metadata": {},
   "source": [
    "Em seguida, analisemos qual é o comportamento de algumas operações especiais: \n",
    "\n",
    "- $n \\div \\pm \\infty \\to \\pm 0, \\ \\ n \\in \\mathbb{F}$"
   ]
  },
  {
   "cell_type": "code",
   "execution_count": 19,
   "metadata": {},
   "outputs": [
    {
     "data": {
      "text/plain": [
       "(0.0, -0.0, -0.0, -0.0)"
      ]
     },
     "execution_count": 19,
     "metadata": {},
     "output_type": "execute_result"
    }
   ],
   "source": [
    "2.1/inf, -4/inf, 5.2/-inf, 6/-inf"
   ]
  },
  {
   "cell_type": "markdown",
   "metadata": {},
   "source": [
    "- $\\pm \\infty \\times \\pm \\infty \\to \\pm \\infty$"
   ]
  },
  {
   "cell_type": "code",
   "execution_count": 20,
   "metadata": {},
   "outputs": [
    {
     "data": {
      "text/plain": [
       "(inf, -inf, -inf, inf)"
      ]
     },
     "execution_count": 20,
     "metadata": {},
     "output_type": "execute_result"
    }
   ],
   "source": [
    "inf*inf, inf*(-inf), -inf*inf, (-inf)*(-inf)"
   ]
  },
  {
   "cell_type": "markdown",
   "metadata": {},
   "source": [
    "- $n \\div \\pm 0 \\to \\ \\ !, \\ \\ n \\in \\mathbb{F}^{*}$ (neste caso, teremos um erro de divisão por zero)"
   ]
  },
  {
   "cell_type": "code",
   "execution_count": 21,
   "metadata": {},
   "outputs": [
    {
     "ename": "ZeroDivisionError",
     "evalue": "division by zero",
     "output_type": "error",
     "traceback": [
      "\u001b[31m---------------------------------------------------------------------------\u001b[39m",
      "\u001b[31mZeroDivisionError\u001b[39m                         Traceback (most recent call last)",
      "\u001b[36mCell\u001b[39m\u001b[36m \u001b[39m\u001b[32mIn[21]\u001b[39m\u001b[32m, line 1\u001b[39m\n\u001b[32m----> \u001b[39m\u001b[32m1\u001b[39m \u001b[32m1\u001b[39m/\u001b[32m0\u001b[39m, -\u001b[32m2\u001b[39m/\u001b[32m0\u001b[39m, \u001b[32m3\u001b[39m/(-\u001b[32m0\u001b[39m), \u001b[32m4\u001b[39m/(-\u001b[32m0\u001b[39m)\n",
      "\u001b[31mZeroDivisionError\u001b[39m: division by zero"
     ]
    }
   ],
   "source": [
    "1/0, -2/0, 3/(-0), 4/(-0)"
   ]
  },
  {
   "cell_type": "markdown",
   "metadata": {},
   "source": [
    "- $n \\times \\pm \\infty \\to \\pm \\infty, n \\in \\mathbb{F}$"
   ]
  },
  {
   "cell_type": "code",
   "execution_count": 22,
   "metadata": {},
   "outputs": [
    {
     "data": {
      "text/plain": [
       "(inf, -inf, -inf, inf)"
      ]
     },
     "execution_count": 22,
     "metadata": {},
     "output_type": "execute_result"
    }
   ],
   "source": [
    "1*inf, -2*inf, 3.1112*(-inf), -111*(-inf)"
   ]
  },
  {
   "cell_type": "markdown",
   "metadata": {},
   "source": [
    "- $\\pm \\infty \\pm \\infty \\to \\pm \\infty \\vee \\text{nan}$"
   ]
  },
  {
   "cell_type": "code",
   "execution_count": 23,
   "metadata": {},
   "outputs": [
    {
     "data": {
      "text/plain": [
       "(inf, nan, nan, -inf)"
      ]
     },
     "execution_count": 23,
     "metadata": {},
     "output_type": "execute_result"
    }
   ],
   "source": [
    "inf + inf, inf - inf, - inf + inf, -inf - inf "
   ]
  },
  {
   "cell_type": "markdown",
   "metadata": {},
   "source": [
    "- $\\pm 0 \\div \\pm 0 \\to \\ \\ !$ (neste caso, também teremos um erro de divisão por zero)"
   ]
  },
  {
   "cell_type": "code",
   "execution_count": 24,
   "metadata": {},
   "outputs": [
    {
     "ename": "ZeroDivisionError",
     "evalue": "division by zero",
     "output_type": "error",
     "traceback": [
      "\u001b[31m---------------------------------------------------------------------------\u001b[39m",
      "\u001b[31mZeroDivisionError\u001b[39m                         Traceback (most recent call last)",
      "\u001b[36mCell\u001b[39m\u001b[36m \u001b[39m\u001b[32mIn[24]\u001b[39m\u001b[32m, line 1\u001b[39m\n\u001b[32m----> \u001b[39m\u001b[32m1\u001b[39m \u001b[32m0\u001b[39m/-\u001b[32m0\u001b[39m\n",
      "\u001b[31mZeroDivisionError\u001b[39m: division by zero"
     ]
    }
   ],
   "source": [
    "0/-0"
   ]
  },
  {
   "cell_type": "markdown",
   "metadata": {},
   "source": [
    "- $\\pm \\infty \\div \\pm \\infty \\to \\text{nan}$"
   ]
  },
  {
   "cell_type": "code",
   "execution_count": 25,
   "metadata": {},
   "outputs": [
    {
     "data": {
      "text/plain": [
       "(nan, nan, nan, nan)"
      ]
     },
     "execution_count": 25,
     "metadata": {},
     "output_type": "execute_result"
    }
   ],
   "source": [
    "inf/inf, inf/-inf, -inf/inf, -inf/-inf"
   ]
  },
  {
   "cell_type": "markdown",
   "metadata": {},
   "source": [
    "- $\\pm \\infty \\times 0 \\to \\text{nan}$"
   ]
  },
  {
   "cell_type": "code",
   "execution_count": 26,
   "metadata": {},
   "outputs": [
    {
     "data": {
      "text/plain": [
       "(nan, nan)"
      ]
     },
     "execution_count": 26,
     "metadata": {},
     "output_type": "execute_result"
    }
   ],
   "source": [
    "inf*0,-inf*0"
   ]
  },
  {
   "cell_type": "markdown",
   "metadata": {},
   "source": [
    "- $\\text{nan} \\neq \\text{nan}$"
   ]
  },
  {
   "cell_type": "code",
   "execution_count": 27,
   "metadata": {},
   "outputs": [
    {
     "data": {
      "text/plain": [
       "(False, True)"
      ]
     },
     "execution_count": 27,
     "metadata": {},
     "output_type": "execute_result"
    }
   ],
   "source": [
    "nan == nan, nan != nan"
   ]
  },
  {
   "cell_type": "code",
   "execution_count": 28,
   "metadata": {},
   "outputs": [
    {
     "data": {
      "text/plain": [
       "False"
      ]
     },
     "execution_count": 28,
     "metadata": {},
     "output_type": "execute_result"
    }
   ],
   "source": [
    "nan + inf == nan + inf"
   ]
  },
  {
   "cell_type": "markdown",
   "metadata": {},
   "source": [
    "## Erros e seus efeitos\n",
    "\n",
    "Credita-se a Alexander Pope (1688 - 1744), poeta inglês, a autoria do provérbio: _\"errar é humano; perdoar é divino\"_ [[phrases.org.uk]](https://www.phrases.org.uk/meanings/to-err-is-human.html). Apesar de sua motivação, no século XVIII, ser o apontamento da indelével falibilidade humana – que Nicolau de Cusa (citado na epígrafe) via como elemento positivo para que a humanidade construa seu conhecimento gradativamente com percepção intelectual de sua insipiência –, esta máxima tem uma tênue relação com os diversos tipos de erros que persistem em cálculos realizados por máquinas. Discutiremos a seguir algumas definições de erros computacionais e como eles se manifestam ou se propagam em cálculos numéricos aplicáveis a qualquer área do conhecimento. \n",
    "\n",
    "```{figure} ../figs/errare-ai.png\n",
    "---\n",
    "width: 250px\n",
    "name: fig-errareai\n",
    "---\n",
    "```\n"
   ]
  },
  {
   "cell_type": "markdown",
   "metadata": {},
   "source": [
    "### Motivação"
   ]
  },
  {
   "cell_type": "markdown",
   "metadata": {},
   "source": [
    "Como forma de demonstrar que cômputos podem ter resultados distintos, consideremos a somatória (descendente, da maior para a menor parcela)\n",
    "\n",
    "$$S_D(n) = \\sum_{k=1}^n \\frac{1}{k} = 1 + \\frac{1}{2} + \\ldots + \\frac{1}{n-1} + \\frac{1}{n},$$\n",
    "\n",
    "e a sua versão escrita de forma \"refletida\" (ascendente, da menor para a maior parcela), ou seja,\n",
    "\n",
    "$$S_A(n) = \\sum_{k=n}^1 \\frac{1}{k} = \\frac{1}{n} + 1 + \\frac{1}{n-1} + \\ldots + \\frac{1}{2} + 1.$$\n",
    "\n",
    "É evidente que $S_A(n)$ e $S_D(n)$ são matematicamente equivalentes e devem produzir o mesmo resultado independentemente de $n$ e do sentido em que forem somadas. Porém, vejamos o que acontece ao programarmos uma pequena função para computar ambas as formas."
   ]
  },
  {
   "cell_type": "code",
   "execution_count": 30,
   "metadata": {},
   "outputs": [
    {
     "name": "stdout",
     "output_type": "stream",
     "text": [
      "+--------+--------------------+--------------------+------------------------+\n",
      "|   n    |       S_A(n)       |       S_D(n)       |    S_D(n) - S_A(n)     |\n",
      "+--------+--------------------+--------------------+------------------------+\n",
      "|   10   | 2.9289682539682538 | 2.9289682539682538 |          0.0           |\n",
      "|  100   | 5.187377517639621  | 5.1873775176396215 | -8.881784197001252e-16 |\n",
      "|  1000  | 7.485470860550343  | 7.485470860550341  | 2.6645352591003757e-15 |\n",
      "| 10000  | 9.787606036044348  | 9.787606036044386  | -3.730349362740526e-14 |\n",
      "| 100000 | 12.090146129863335 | 12.090146129863408 | -7.283063041541027e-14 |\n",
      "+--------+--------------------+--------------------+------------------------+\n"
     ]
    }
   ],
   "source": [
    "from prettytable import PrettyTable as pt\n",
    "\n",
    "# define séries\n",
    "def S(n):\n",
    "    \n",
    "    S_D = 0\n",
    "    for k in range(1,n+1):\n",
    "        S_D += 1/k        \n",
    "         \n",
    "    S_A = 0\n",
    "    for k in range(n,0,-1):\n",
    "        S_A += 1/k       \n",
    "    \n",
    "    # diferença    \n",
    "    E = S_D - S_A\n",
    "    \n",
    "    return S_D, S_A, E\n",
    "    \n",
    "# cria objeto para tabela\n",
    "tbl = pt()\n",
    "tbl.field_names = ['n','S_A(n)','S_D(n)','S_D(n) - S_A(n)']\n",
    "tbl.align = 'c'\n",
    "\n",
    "# loop de teste\n",
    "for n in [10**1, 10**2, 10**3, 10**4, 10**5]:\n",
    "    sd, sa, e = S(n)    \n",
    "    row = [n,sd,sa,e]\n",
    "    tbl.add_row(row)\n",
    "   \n",
    "# imprime tabela\n",
    "print(tbl)"
   ]
  },
  {
   "cell_type": "markdown",
   "metadata": {},
   "source": [
    "Como se percebe pela última coluna, os valores produzidos pelas somas para $n > 10$ não são exatamente iguais. Embora existam diferenças ínfimas nos resultados, elas não são zero, assim indicando que a maneira como computamos expressões matemáticas cujos resultados são idênticos pode levar a resultados distintos. Ter-se $S_A(n) - S_D(n) \\neq 0$ equivale a admitir a presença de um \"erro\" – ainda que ele seja pequeno e desprezível – cuja magnitude depende da escolha de $n$."
   ]
  },
  {
   "cell_type": "markdown",
   "metadata": {},
   "source": [
    "\n",
    "Naturalmente, se tomássemos a versão _infinita_ de $S_D$ (ou $S_A$), chamando-a apenas de $S$ e substituindo $n$ por $\\infty$, isto é, \n",
    "\n",
    "$$S = \\sum_{k=1}^{\\infty} \\frac{1}{k},$$\n",
    "\n",
    "tanto $S_D(n)$ e $S_A(n)$ seriam consideradas _aproximações_ para $S$. \n",
    "\n",
    "Supondo que somente $S_D(n)$ é a forma correta de \"chegar perto\" de $S$, a implicação\n",
    "\n",
    "$$S = S_D(n) + \\epsilon_n \\Rightarrow \\epsilon_n = S - S_D(n)$$\n",
    "\n",
    "revelaria o acréscimo $\\epsilon_n$ como uma quantidade não-nula coexistindo com o valor finito $n$. Uma vez que computadores são incapazes de calcular somas infinitas por limitação de memória, $\\epsilon_n$ define um tipo de _erro_. Este erro é inerente ao processo de cálculo aproximado de séries infinitas. Além disso, ele dependerá de $n$, ou seja, da quantidade de termos utilizados na soma $S_D$ para aproximar o real valor de $S$.\n",
    "\n",
    "Entretanto, estamos ainda diante de um problema de difícil tratamento, visto que a soma $S$ só pode ser obtida aproximadamente, pois $\\sum_{k=1}^{\\infty} \\frac{1}{k}$ não é convergente. Logo, é impossível estabelecer um valor \"exato\" para $S$, a fim de compará-lo com suas aproximações. Caso intentássemos medir discrepâncias no cálculo desta série, teríamos que adotar um valor já aproximado para cumprir o papel de exato e utilizar outros valores também aproximados como \"aproximações de uma aproximação\". Embora pareça estranho e paradoxal, o que acontece em muitas situações práticas quando lidamos com um _processo iterativo_ ou de _aproximações sucessivas_ é justamente isso.\n",
    "\n",
    "Vamos tomar os valores da tabela de $S_D(n)$. Suponhamos que $S_D(100000) = 12.090146129863408$ assumisse o papel de valor \"exato\" de $S$. Fosse este o caso, poderíamos calcular pelo menos quatro erros:\n",
    "\n",
    "$$E_{10000} = S_D(100000) - S_D(10000) = 2.3025400938190224$$\n",
    "$$E_{1000} = S_D(100000) - S_D(1000) = 4.604675269313067$$\n",
    "$$E_{100} = S_D(100000) - S_D(100) = 6.902768612223786$$\n",
    "$$E_{10} = S_D(100000) - S_D(10) = 9.161177875895154$$\n",
    "\n",
    "Para obter cada valor acima, poderíamos escrever:"
   ]
  },
  {
   "cell_type": "code",
   "execution_count": 31,
   "metadata": {},
   "outputs": [
    {
     "name": "stdout",
     "output_type": "stream",
     "text": [
      "12.090146129863408\n",
      "2.3025400938190224\n",
      "4.604675269313067\n",
      "6.902768612223786\n",
      "9.161177875895154\n"
     ]
    }
   ],
   "source": [
    "# O valor de S_D(n) está na entrada (i,2) da tabela, para i = 0,1,2,3,4.\n",
    "# Em Python, cada um é acessível por indexação na forma [i][2]\n",
    "\n",
    "E_100000 = tbl.rows[4][2]           # i = 4\n",
    "E_10000 = E_100000 - tbl.rows[3][2] # i = 3\n",
    "E_1000 = E_100000 - tbl.rows[2][2]  # i = 2\n",
    "E_100 = E_100000 - tbl.rows[1][2]   # i = 1\n",
    "E_10 = E_100000 - tbl.rows[0][2]    # i = 0\n",
    "\n",
    "# Impressão de valores\n",
    "print(E_100000)\n",
    "print(E_10000)\n",
    "print(E_1000)\n",
    "print(E_100)\n",
    "print(E_10)"
   ]
  },
  {
   "cell_type": "markdown",
   "metadata": {},
   "source": [
    "Não é difícil ver que o valor de $E$ em relação a $S_D(100000)$ aumenta quando tomamos valores de $n$ cada vez menores. Em outras palavras, nossas aproximações de um valor supostamente exato (aproximado) tornam-se cada vez mais pobres quando não dispomos de parcelas suficientes para somar. Além disso, usar $S_D(100000)$ como ponto de referência não é nada confiável, já que ele apenas fará com que tenhamos uma sensação ilusória de exatidão."
   ]
  },
  {
   "cell_type": "markdown",
   "metadata": {},
   "source": [
    "Se, em vez de uma série divergente, escolhermos outra, convergente, poderemos fazer cálculos de erro tomando como referência um valor definitivamente exato. Então, consideremos a série\n",
    "\n",
    "$$S_2 = \\sum_{k=1}^{\\infty} \\frac{1}{k^2}$$\n",
    "\n",
    "A série $S_2$ ficou conhecida como [_Problema de Basel_](https://en.wikipedia.org/wiki/Basel_problem), proposto em 1650 pelo matemático italiano Pietro Mengoli, e solucionado por Leonhard Euler em 1734 – _Basel_ é o nome de uma cidade da Suíça, onde Euler nasceu. Graças a Euler e a teoria matemática operante nos bastidores, existe certeza suficiente de que $S_2 = \\frac{\\pi^2}{6}$.\n",
    "\n",
    "Do mesmo modo como fizemos no caso anterior, geraremos uma nova tabela para valores de $S_2(n)$ com $n$ crescente até o limite de 100.000, até porque não temos como computar $S_2$ _ad infinitum_. Então, vejamos um código similar:"
   ]
  },
  {
   "cell_type": "code",
   "execution_count": 32,
   "metadata": {},
   "outputs": [
    {
     "name": "stdout",
     "output_type": "stream",
     "text": [
      "+--------+--------------------+--------------------+-----------------------+\n",
      "|   n    |        S_2         |       S_2(n)       |      S_2 - S_2(n)     |\n",
      "+--------+--------------------+--------------------+-----------------------+\n",
      "|   10   | 1.6449340668482264 | 1.5497677311665408 |  0.09516633568168564  |\n",
      "|  100   | 1.6449340668482264 | 1.6349839001848923 |  0.009950166663334148 |\n",
      "|  1000  | 1.6449340668482264 | 1.6439345666815615 | 0.0009995001666649461 |\n",
      "| 10000  | 1.6449340668482264 | 1.6448340718480652 | 9.999500016122376e-05 |\n",
      "| 100000 | 1.6449340668482264 | 1.6449240668982423 | 9.999949984074163e-06 |\n",
      "+--------+--------------------+--------------------+-----------------------+\n"
     ]
    }
   ],
   "source": [
    "from math import pi\n",
    "\n",
    "# define série\n",
    "def S2(n):\n",
    "    \n",
    "    S_2 = 0\n",
    "    for k in range(1,n+1):\n",
    "        S_2 += 1/k**2        \n",
    "             \n",
    "    # valor exato\n",
    "    S_2ex = pi**2/6 \n",
    "    \n",
    "    # diferença    \n",
    "    E = S_2ex - S_2\n",
    "    \n",
    "    return S_2ex, S_2, E\n",
    "    \n",
    "# cria objeto para tabela\n",
    "tbl2 = pt()\n",
    "tbl2.field_names = ['n','S_2','S_2(n)','S_2 - S_2(n)']\n",
    "tbl2.align = 'c'\n",
    "\n",
    "# loop de teste\n",
    "for n in [10**1, 10**2, 10**3, 10**4, 10**5]:\n",
    "    s2, s2n, e = S2(n)    \n",
    "    row = [n,s2,s2n,e]\n",
    "    tbl2.add_row(row)\n",
    "   \n",
    "# imprime tabela\n",
    "print(tbl2)"
   ]
  },
  {
   "cell_type": "markdown",
   "metadata": {},
   "source": [
    "Neste caso, a diferença existente na última coluna caracteriza, de fato, o _erro real_ entre o valor exato $S_2$ e suas aproximações, de modo que, neste caso,\n",
    "\n",
    "$$E_{100000} = \\frac{\\pi^2}{6} - S_2(100000) = 0.000009999949984074163$$\n",
    "$$E_{10000} = \\frac{\\pi^2}{6} - S_2(10000) = 0.00009999500016122376$$\n",
    "$$E_{1000} = \\frac{\\pi^2}{6} - S_2(1000) = 0.0009995001666649461$$\n",
    "$$E_{100} = \\frac{\\pi^2}{6} - S_2(100) = 0.009950166663334148$$\n",
    "$$E_{10} = \\frac{\\pi^2}{6} - S_2(10) = 0.09516633568168564$$"
   ]
  },
  {
   "cell_type": "markdown",
   "metadata": {},
   "source": [
    "A partir daí, notamos que o erro reduz-se a quase zero à medida que o valor de $n$ aumenta, assim dando-nos uma constatação, pelo menos aproximada, de que a soma, de fato, é $\\pi^2/6 \\approx 1.6449340668482264$. Para obtermos os valores dos erros, um código similar poderia ser implementado:"
   ]
  },
  {
   "cell_type": "code",
   "execution_count": 33,
   "metadata": {},
   "outputs": [
    {
     "name": "stdout",
     "output_type": "stream",
     "text": [
      "9.999949984074163e-06\n",
      "9.999500016122376e-05\n",
      "0.0009995001666649461\n",
      "0.009950166663334148\n",
      "0.09516633568168564\n"
     ]
    }
   ],
   "source": [
    "# Expressões do erro real\n",
    "E_100000 = pi**2/6 - tbl2.rows[4][2] # i = 4\n",
    "E_10000 = pi**2/6 - tbl2.rows[3][2]  # i = 3\n",
    "E_1000 = pi**2/6 - tbl2.rows[2][2]   # i = 2\n",
    "E_100 = pi**2/6 - tbl2.rows[1][2]    # i = 1\n",
    "E_10 = pi**2/6 - tbl2.rows[0][2]     # i = 0\n",
    "\n",
    "# Impressão\n",
    "print(E_100000)\n",
    "print(E_10000)\n",
    "print(E_1000)\n",
    "print(E_100)\n",
    "print(E_10)"
   ]
  },
  {
   "cell_type": "markdown",
   "metadata": {},
   "source": [
    "Talvez não tenha sido percebido, mas, até aqui, já tratamos, conceitualmente, de três tipificações de erro, a saber:\n",
    "\n",
    "1. _erro de truncamento_, quando limitamos o número de termos de uma expansão infinita, tornando-a finita.\n",
    "2. _erro real aproximado_ (ou _erro verdadeiro aproximado_), quando assumimos que o valor exato da expansão infinita (série divergente) é a soma obtida até a parcela $n$, com $n$ muito grande, mas finito, e calculamos a diferença entre este valor e a soma obtida até uma parcela anterior à $n$-ésima;\n",
    "3. _erro real_ (ou _erro verdadeiro_), quando calculamos a diferença entre a soma exata (série convergente) e a soma obtida até a parcela $n$."
   ]
  },
  {
   "cell_type": "markdown",
   "metadata": {},
   "source": [
    "Curioso, não? E não para por aí! Ainda há outras definições de erro. Veremos mais algumas no decorrer do curso."
   ]
  },
  {
   "cell_type": "markdown",
   "metadata": {},
   "source": [
    "### Tipos de erros"
   ]
  },
  {
   "cell_type": "markdown",
   "metadata": {},
   "source": [
    "Consideremos avaliar o polinômio $P(x) = 0.172x^3 - 0.878x^2 + 0.042x + 0.583$\n",
    "no ponto $x=79.9$.\n",
    "\n",
    "Vamos fazer o seguinte:\n",
    "\n",
    "1. Assumir que $82132.957032$ seja o valor exato para o polinômio em $x = 79.9$.\n",
    "2. Calcular $P(79.9)$ utilizando duas formas."
   ]
  },
  {
   "cell_type": "code",
   "execution_count": 34,
   "metadata": {},
   "outputs": [],
   "source": [
    "# Código para gerar polinômio cúbico com raízes reais\n",
    "\n",
    "from numpy import random\n",
    "from sympy.abc import x, a, b, c, d\n",
    "from sympy import roots, lambdify\n",
    "\n",
    "# Semente aleatória\n",
    "random.seed(1)\n",
    "\n",
    "# Um polinômio do terceiro grau terá as 3 raízes reais e distintas\n",
    "# se o discriminante for > 0. Aqui, criamos um polinômio que \n",
    "# satisfaz tais condições por busca aleatória\n",
    "Delta = -1\n",
    "a,b,c,d = 0,0,0,0\n",
    "while Delta <= 0:\n",
    "    A,B,C,D = random.randn(1,4)[0,:]\n",
    "    Delta = -27*A**2*D**2 + 18*A*B*C*D -4*A*C**3 - 4*B**3*D + B**2*C**2\n",
    "    a,b,c,d = A,B,C,D\n",
    "    \n",
    "# Polinômio cúbico simbólico\n",
    "P3 = a*x**3 + b*x**2 + c*x + d\n",
    "\n",
    "# Polinômio cúbico numérico\n",
    "P3n = lambdify(x,P3,'numpy')\n",
    "\n",
    "# Raízes simbólicas\n",
    "r = list(roots(P3,x).keys())\n",
    "r1 = r[0]\n",
    "r2 = r[1]\n",
    "r3 = r[2]\n",
    "\n",
    "# Raízes numéricas com os valores encontrados\n",
    "r1n = r1.subs({'a':a, 'b':b, 'c':c, 'd': d}).evalf(10)\n",
    "r2n = r2.subs({'a':a, 'b':b, 'c':c, 'd': d}).evalf(10)\n",
    "r3n = r3.subs({'a':a, 'b':b, 'c':c, 'd': d}).evalf(10)\n",
    "\n",
    "#print(P3)\n",
    "#P3_ex = 0.172428207550436*x**3 - 0.877858417921372*x**2 + 0.0422137467155928*x + 0.582815213715822"
   ]
  },
  {
   "cell_type": "code",
   "execution_count": 35,
   "metadata": {},
   "outputs": [
    {
     "name": "stdout",
     "output_type": "stream",
     "text": [
      "P(79.9) = 82132.95064800001273\n",
      "PH(79.9) = 82132.95064799999818\n"
     ]
    }
   ],
   "source": [
    "# Valor (comentários)\n",
    "x = 79.9\n",
    "\n",
    "# Forma padrão\n",
    "Px = 0.172*x**3 - 0.878*x**2 + 0.042*x + 0.583\n",
    "\n",
    "# Forma estruturada (Hörner)\n",
    "PHx = x*(x*(0.172*x - 0.878) + 0.042) + 0.583 \n",
    "\n",
    "# Impressão\n",
    "print(f'P({x}) = {Px:.14f}')\n",
    "print(f'PH({x}) = {PHx:.14f}')\n",
    "    "
   ]
  },
  {
   "cell_type": "markdown",
   "metadata": {},
   "source": [
    "Como se vê, a partir da 7a. casa decimal, começamos a notar uma leve diferença do valor do polinômio, embora ambas as formas, padrão de Hörner (estruturada), sejam matematicamente equivalentes. Embora os valores sejam próximos, a forma estruturada é uma opção menos _custosa_, sob o ponto de vista computacional, visto que ela possui menos avaliações de operações aritméticas.\n",
    "\n",
    "A forma polinomial padrão, escrita de maneira ampliada, resulta em \n",
    "\n",
    "$$P(x) = 0.172{\\color{red}.}x{\\color{red}.}x{\\color{red}.}x {\\color{blue}-} 0.878{\\color{red}.}x{\\color{red}.}x {\\color{blue}+} 0.042{\\color{red}.}x {\\color{blue}+} 0.583,$$\n",
    "\n",
    "ao passo que a forma de Hörner é escrita como:\n",
    "\n",
    "$$P_H(x) = x{\\color{red}.}(x{\\color{red}.}(0.172{\\color{red}.}x {\\color{blue}-} 0.878) {\\color{blue}+} 0.042) {\\color{blue}+} 0.583$$\n",
    "\n",
    "Qual é a diferença entre ambas? O número de multiplicações (vermelho) e adições/subtrações (azul) é diferente. Enquanto na forma $P(x)$, temos 6 multiplicações e 3 adições/subtrações, a forma $P_H(x)$ reduz as operações para 3 multiplicações e 3 adições/subtrações. Isso é o mesmo que dizer que o número de operações aritméticas de multiplicação foi reduzido em 50%!\n",
    "\n",
    "A conclusão é: a avaliação de polinômios pela forma de Hörner é mais lucrativa e propensa a um erro menor."
   ]
  },
  {
   "cell_type": "markdown",
   "metadata": {},
   "source": [
    "#### Erro real"
   ]
  },
  {
   "cell_type": "markdown",
   "metadata": {},
   "source": [
    "O erro real (ou verdadeiro), $E$, não sinalizado, entre o valor \n",
    "exato $x$ e o aproximado $\\hat{x}$ é dado por:\n",
    "\n",
    "$$E = \\hat{x} - x.$$\n",
    "\n",
    "Note que, por convenção, se $E > 0$, erramos por superestimação (\"excesso\"). Por outro lado, se $E < 0$, erramos por subestimação (\"omissão\").\n",
    "\n",
    "Calculamos o erro real operando com diferença simples. \n",
    "\n",
    "Utilizando o exemplo da seção anterior, temos:"
   ]
  },
  {
   "cell_type": "code",
   "execution_count": 36,
   "metadata": {},
   "outputs": [
    {
     "name": "stdout",
     "output_type": "stream",
     "text": [
      "-0.0063839999929768965\n",
      "-0.006384000007528812\n"
     ]
    }
   ],
   "source": [
    "# Valor exato\n",
    "Px_ex = 82132.957032\n",
    "\n",
    "# Erro real (forma padrão)\n",
    "E_P = Px - Px_ex\n",
    "print(E_P)\n",
    "\n",
    "# Erro real (forma de Hörner)\n",
    "E_PH = PHx - Px_ex\n",
    "print(E_PH)\n"
   ]
  },
  {
   "cell_type": "markdown",
   "metadata": {},
   "source": [
    "#### Erro absoluto\n",
    "\n",
    "O erro absoluto, $EA$, é a versão sinalizada de $E$. Dado por\n",
    "\n",
    "$$EA = | \\hat{x} - x |,$$\n",
    "\n",
    "ele ignora a condição de subestimação ou superestimação e se atém à diferença absoluta entre o valor exato e o valor aproximado.\n",
    "\n",
    "A função módulo, $f(x) = | x |$, pode ser diretamente calculada com `abs`."
   ]
  },
  {
   "cell_type": "code",
   "execution_count": 37,
   "metadata": {},
   "outputs": [
    {
     "name": "stdout",
     "output_type": "stream",
     "text": [
      "0.0063839999929768965\n",
      "0.006384000007528812\n"
     ]
    }
   ],
   "source": [
    "# Erro absoluto (forma padrão)\n",
    "EA_P = abs(Px - Px_ex)\n",
    "print(EA_P)\n",
    "\n",
    "# Erro absoluto (forma de Hörner)\n",
    "EA_PH = abs(PHx - Px_ex)\n",
    "print(EA_PH)\n"
   ]
  },
  {
   "cell_type": "markdown",
   "metadata": {},
   "source": [
    "É evidente que $E_{PH} > E_P$. Entretanto, podemos verificar isso pelo seguinte teste lógico:"
   ]
  },
  {
   "cell_type": "code",
   "execution_count": 38,
   "metadata": {},
   "outputs": [
    {
     "data": {
      "text/plain": [
       "True"
      ]
     },
     "execution_count": 38,
     "metadata": {},
     "output_type": "execute_result"
    }
   ],
   "source": [
    "# O teste é verdadeiro\n",
    "EA_PH > EA_P"
   ]
  },
  {
   "cell_type": "markdown",
   "metadata": {},
   "source": [
    "#### Erro relativo\n",
    "\n",
    "O erro relativo, $ER$, aperfeiçoa a idea de erro absoluto a partir do momento que passa a considerar a ordem de grandeza das quantidades envolvidas, mensurando uma variação que se limita ao valor exato. Assim,\n",
    "\n",
    "$$ER = \\dfrac{ | \\hat{x} - x | }{|x|} = \\dfrac{ EA }{|x|}.$$\n",
    "\n",
    "expressão que, devido à simetria da função módulo, pode ainda ser expandida para \n",
    "$$ER = \\dfrac{ | x - \\hat{x} | }{|x|} = \n",
    "\\dfrac{|x(1 - \\frac{\\hat{x}}{x})|}{|x|} = \\dfrac{|x| |1 - \\frac{\\hat{x}}{x}|}{|x|} = \\bigg|1 - \\frac{\\hat{x}}{x}\\bigg|.$$"
   ]
  },
  {
   "cell_type": "markdown",
   "metadata": {},
   "source": [
    "Os erros relativos podem ser computados como:"
   ]
  },
  {
   "cell_type": "code",
   "execution_count": 39,
   "metadata": {},
   "outputs": [
    {
     "name": "stdout",
     "output_type": "stream",
     "text": [
      "7.772762875796146e-08\n",
      "7.772762893513656e-08\n"
     ]
    }
   ],
   "source": [
    "ER_P = EA_P/abs(Px_ex)\n",
    "print(ER_P)\n",
    "\n",
    "ER_PH = EA_PH/abs(Px_ex)\n",
    "print(ER_PH)"
   ]
  },
  {
   "cell_type": "markdown",
   "metadata": {},
   "source": [
    "#### Erro relativo percentual\n",
    "\n",
    "O erro relativo percentual é outra forma útil de expressar a disparidade relativa entre valores. Ele é definido por:\n",
    "\n",
    "$$ER_{\\%} = ER \\times 100\\% = \\bigg|1 - \\frac{\\hat{x}}{x}\\bigg| \\times 100\\%.$$\n",
    "\n",
    "Como não temos uma forma explícita de percentual, por cálculo, o melhor a fazer é algo como:"
   ]
  },
  {
   "cell_type": "code",
   "execution_count": 40,
   "metadata": {},
   "outputs": [
    {
     "name": "stdout",
     "output_type": "stream",
     "text": [
      "7.772763e-06 %\n",
      "7.772763e-06 %\n"
     ]
    }
   ],
   "source": [
    "ER_Pp = ER_P * 100\n",
    "print(f'{ER_Pp:e} %')\n",
    "\n",
    "ER_PHp = ER_PH * 100\n",
    "print(f'{ER_PHp:e} %')"
   ]
  },
  {
   "cell_type": "markdown",
   "metadata": {},
   "source": [
    "#### Erro relativo aproximado (_benchmark_)\n",
    "\n",
    "Como vimos no exemplo motivacional deste capítulo, há casos (a maioria deles) em que não dispomos de valores exatos (obtidos por soluções analíticas, por exemplo), sendo possível estimar erros relativos apenas aproximadamente usando um _valor de referência_. Costuma-se chamar este valor de _benchmark_. Definido o _benchmark_ por $x'$, o _erro relativo aproximado_ é dado:\n",
    " \n",
    "$$ER' = \\dfrac{ | \\hat{x} - x' | }{|x'|} = \\dfrac{ EA }{|x'|}.$$\n",
    "\n",
    "\n",
    "No exemplo da avaliação dos polinômios, se não dispuséssemos do valor exato, ou $P(x=79.9)$ ou $P_H(x=79.9)$ deveria ser adotado como _benchmark_. Se optássemos pelo segundo, apenas um erro relativo aproximado poderia ser calculado, a saber:"
   ]
  },
  {
   "cell_type": "code",
   "execution_count": 41,
   "metadata": {},
   "outputs": [
    {
     "name": "stdout",
     "output_type": "stream",
     "text": [
      "1.771751e-16\n"
     ]
    }
   ],
   "source": [
    "ER_ =  abs(PHx - Px)/abs(PHx)\n",
    "print(f'{ER_:e}')"
   ]
  },
  {
   "cell_type": "markdown",
   "metadata": {},
   "source": [
    "#### Erro relativo aproximado percentual\n",
    "\n",
    "O erro relativo aproximado percentual é, meramente, a versão percentual do erro relativo aproximado, logo, dado por\n",
    "\n",
    "$$ER'_{\\%} = ER' \\times 100 \\%.$$"
   ]
  },
  {
   "cell_type": "markdown",
   "metadata": {},
   "source": [
    "#### Erro de cancelamento\n",
    "\n",
    "O erro de cancelamento ocorre quando números de grandezas próximas são subtraídos. Como exemplo de situação crítica, induzimos uma divisão por zero usando o valor do épsilon de máquina $\\epsilon_M$ ao fazer \n",
    "\n",
    "$$\\dfrac{1}{(1 + 0.25\\epsilon_M) - 1}.$$\n",
    "\n",
    "Isto ocorre porque o denominador sofre um _cancelamento subtrativo_ Uma vez que $0.25\\epsilon_M < \\epsilon_M$, a operação $0.25\\epsilon_M$ não produz efeito sobre 1, de modo que a computação encontra um \"limbo\". Para a matemática exata, a operação deveria ser \"diferente de zero\"."
   ]
  },
  {
   "cell_type": "code",
   "execution_count": 42,
   "metadata": {},
   "outputs": [
    {
     "data": {
      "text/plain": [
       "np.float64(inf)"
      ]
     },
     "execution_count": 42,
     "metadata": {},
     "output_type": "execute_result"
    }
   ],
   "source": [
    "# inf\n",
    "from numpy import finfo\n",
    "from warnings import filterwarnings; \n",
    "filterwarnings(\"ignore\")\n",
    "\n",
    "e = finfo(float).eps\n",
    "1/(1 + 0.25*e - 1)"
   ]
  },
  {
   "cell_type": "code",
   "execution_count": 43,
   "metadata": {},
   "outputs": [
    {
     "data": {
      "text/plain": [
       "np.False_"
      ]
     },
     "execution_count": 43,
     "metadata": {},
     "output_type": "execute_result"
    }
   ],
   "source": [
    "1+0.5*e > 1"
   ]
  },
  {
   "cell_type": "markdown",
   "metadata": {},
   "source": [
    "#### Erros de truncamento e de arredondamento\n",
    "\n",
    "O erro de truncamento está relacionado ao \"corte\" abrupto de dígitos de precisão em um valor numérico ou de parcelas em uma expansão infinita. No início do capítulo, exemplificamos como uma série pode ser aproximada truncando um ou mais termos de sua expansão. \n",
    "\n",
    "No caso de números, o truncamento ocorre quando se ignora o valor da $k+1$-ésima casa decimal para finalidades de aproximação até a $k$-ésima casa. Por exemplo, se $x = 13.4256$, a aproximação de $x$ por truncamento até a terceira casa seria $x = 13.425$. O dígito 6 é ignorado nos cálculos. \n",
    "\n",
    "No caso do arredondamento, o $k$-ésimo dígito é somado de 1 se o dígito da $k+1$-ésima casa for maior ou igual a 5. A aproximação de $x$ por arredondamento até a terceira casa seria $x = 13.426$, visto que o dígito 6 é maior do que 5. A regra de arredondamento é a que usamos no cotidiano."
   ]
  },
  {
   "cell_type": "markdown",
   "metadata": {},
   "source": [
    "## Erros e funções de perda no contexto da inteligência artificial\n",
    "\n",
    "Diversas definições de erro também existem no contexto da inteligência artificial (IA). Todavia, em modelos de IA, o conceito de erro está profundamente vinculado à diferença entre a saída produzida por um modelo e um valor considerado verdadeiro, chamado de \"gabarito\" (_ground truth_). O gabarito representa o conhecimento correto sobre um fenômeno, seja a classificação correta de uma imagem, o preço real de um imóvel, ou a demanda energética observada em determinado dia. O modelo, por sua vez, gera uma saída predita — e a diferença entre predição e realidade constitui o erro. \n",
    "\n",
    "Essa diferença é quantificada por meio de uma _função de perda_ (_loss function_), que mede o quão ruim uma predição foi em relação ao gabarito. Portanto, a conotação do erro nesse contexto é de uma _métrica de desempenho_. Várias métricas existem e tendem a expressar distâncias entre valores reais e valores preditos. A seguir, descrevemos algumas dessas métricas sob o ponto de vista de vetores no espaço de $n$ dimensões. Em todas as fórmulas, $\\bf{x}$ é o vetor de dados reais, cuja $i$-ésima componente é representada por $x_i$, e $\\bf{\\hat{x}}$ é o vetor de dados preditos (aproximados), cuja $i$-ésima componente é representada por $\\hat{x_i}$. Assim, $n$ reflete o número de pontos de amostragem.\n",
    "\n",
    "### Erro absoluto médio\n",
    "\n",
    "O erro absoluto médio (_mean absolute error_, MAE) é definido como:\n",
    "\n",
    "$$MAE = \\dfrac{1}{n}\\sum_{i=1}^n |x_i - \\hat{x}_i|$$\n",
    "\n",
    "O MAE é útil quando queremos minimizar a soma das diferenças absolutas.\n",
    "\n",
    "### Erro quadrático médio\n",
    "\n",
    "O erro quadrático médio (_mean squared error_, MSE) é definido como:\n",
    "\n",
    "$$MSE = \\dfrac{1}{n}\\sum_{i=1}^n (x_i - \\hat{x}_i)^2$$\n",
    "\n",
    "### Erro absoluto médio percentual\n",
    "\n",
    "O erro absoluto médio percentual (_mean absolute percentage error_, MAPE) é definido como:\n",
    "\n",
    "$$MAPE = \\dfrac{1}{n}\\sum_{i=1}^n \\dfrac { |x_i - \\hat{x}_i| }{ | x_i | } \\times 100$$\n",
    "\n",
    "### Erro logarítmico quadrático médio \n",
    "\n",
    "O erro logarítmico quadrático médio (_mean squared logarithmic error_, MSLE) é definido como:\n",
    "\n",
    "$$MSLE = \\dfrac{1}{n}\\sum_{i=1}^n [ \\log(1 + x_i) - \\log(1 + \\hat{x}_i) ]^2$$\n",
    "\n",
    "### Erro induzido pela norma $p$ e erro máximo\n",
    "\n",
    "O MAE e o MSE, por exemplo, são casos particulares da definição genérica dada por:\n",
    "\n",
    "$$\n",
    "E_p = || {\\bf x} - {\\bf \\hat{x}} ||_p = \\left( \\sum_{i=1}^n |x_i - \\hat{x}_i|^p \\right)^{\\frac{1}{p}}, \\ \\ 1 \\le p < \\infty,\n",
    "$$\n",
    "\n",
    "para $p=1$ e $p=2$, respectivamente. Em particular, a chamada \"norma do máximo\" é definida por\n",
    "\n",
    "$$\n",
    "E_{\\infty} = || {\\bf x} - {\\bf \\hat{x}} ||_{\\infty} = \\max \\{ |x_i - \\hat{x}_i| \\}, \n",
    "$$\n",
    "\n",
    "que mede a maior diferença absoluta entre o vetor de valores reais e o vetor de valores preditos.\n",
    "\n",
    "A norma $p$ é chamada de _norma de Minkowski_. As diferentes normas decorrentes da escolha de $p$ são usadas em contextos diferentes para medir mudanças específicas. Quanto maior é o valor de $p$, mais ela se concentra em captar discrepâncias maiores. Assim, normas menores são mais robustas a _outliers_. Quando $p=1$, temos a _norma de Manhattan_; quando $p=2$, temos a _norma Euclidiana_, bastante conhecida de outras disciplinas."
   ]
  },
  {
   "cell_type": "markdown",
   "metadata": {},
   "source": [
    "```{admonition} Curiosidade - IA aplicada ao armazenamento geológico de carbono\n",
    ":class: dropdown\n",
    "\n",
    "Nos últimos anos, métodos de aprendizagem profunda vêm sendo aplicados à identificação automatizada de corpos salinos em imagens sísmicas tanto para finalidades de exploração de combustíveis fósseis, como também para armazenamento geológico de carbono. Em aplicações dessa natureza, o gabarito, em geral, é uma imagem interpretada por um geólogo profissional. Algoritmos de classificação, por sua vez, tentam delinear a mesma estrutura geológica obtida pelo humano baseando-se em métricas formuladas a partir de definições de erro como as que estudamos nesta seção. Para saber mais, veja os artigos: {cite:p}`milosavljevic2020identification`, {cite:p}`shokouhi2021physics` e {cite:p}`wang2024hybrid`.\n",
    "```"
   ]
  },
  {
   "cell_type": "markdown",
   "metadata": {},
   "source": [
    "### Calculando o desempenho\n",
    "\n",
    "Usando a biblioteca `scikit-learn`, é possível utilizar funções já disponíveis no módulo `sklearn.metrics` para calcular essas métricas. Abaixo, utilizamos um exemplo genérico para um conjunto de valores reais e valores preditos associados aos reais para $n=4$. As plotagens resumem a dispersão entre valores reais e preditos e os erros dados por cada métrica."
   ]
  },
  {
   "cell_type": "code",
   "execution_count": 45,
   "metadata": {},
   "outputs": [
    {
     "data": {
      "image/png": "[encoded data removed]",
      "text/plain": [
       "<Figure size 1300x300 with 4 Axes>"
      ]
     },
     "metadata": {
      "filenames": {
       "image/png": "/Users/gustavo/Dropbox/courses/calculo-numerico/LVMN/_build/jupyter_execute/ipynb/aula-02-erros_100_0.png"
      }
     },
     "output_type": "display_data"
    }
   ],
   "source": [
    "from sklearn.metrics import mean_squared_error as MSE\n",
    "from sklearn.metrics import mean_absolute_error as MAE\n",
    "from sklearn.metrics import mean_absolute_percentage_error as MAPE\n",
    "from sklearn.metrics import mean_squared_log_error as MSLE\n",
    "from sklearn.metrics.pairwise import pairwise_distances as pNorm\n",
    "\n",
    "from numpy import array\n",
    "from matplotlib.pyplot import subplots\n",
    "from mpl_toolkits.axes_grid1.inset_locator import inset_axes\n",
    "import matplotlib.ticker as mticker\n",
    "\n",
    "# conjunto de dados\n",
    "x = array([3.0, 1.7, 4.0, 7.0]) # valores reais\n",
    "xhat = array([2.8, 1.4, 3.0, 8.0]) # valores preditos\n",
    "\n",
    "# erros\n",
    "mae = MAE(x,xhat)\n",
    "mse = MSE(x,xhat)\n",
    "mape = MAPE(x,xhat)\n",
    "msle = MSLE(x,xhat)\n",
    "\n",
    "# normas de Minkowski\n",
    "norms = []\n",
    "P = [0.5, 0.8, 1.2, 4.0, 6.0, 10.0] # valores p\n",
    "\n",
    "# calcula por matrizes de distâncias, mas armazena valor único\n",
    "for p in P:\n",
    "    norms.append(pNorm([x],[xhat],metric='minkowski',p=p).ravel()[0])\n",
    "\n",
    "\n",
    "# gráficos\n",
    "fig, ax = subplots(1,3,figsize=(13,3),constrained_layout=True)\n",
    "ax[0].plot(x,x,'k:',lw=1.0)\n",
    "ax[0].plot(x,xhat,'og')\n",
    "ax[0].set_xlabel('real'); ax[0].set_ylabel('predito')\n",
    "\n",
    "ax[1].bar(x=['MAE','MSE','MAPE','MSLE'],height=[mae,mse,mape,msle],color='g')\n",
    "ax[1].set_xlabel('métricas'); ax[1].set_ylabel('erro')\n",
    "\n",
    "ax[2].plot(P[3:],norms[3:],'sg')\n",
    "ax[2].xaxis.set_major_locator(mticker.FixedLocator(P[3:]))\n",
    "ax[2].set_xticklabels(list(map(lambda x: f'p={x:.1f}',P[3:])))\n",
    "\n",
    "# eixo embutido\n",
    "axi = inset_axes(ax[2],width=\"50%\", height=\"40%\", loc=\"upper right\")\n",
    "axi.plot(P[:3],norms[:3],'sg')\n",
    "axi.xaxis.set_major_locator(mticker.FixedLocator(P[:3]))\n",
    "axi.set_xticklabels(list(map(lambda x: f'p={x:.1f}',P[:3])))\n",
    "\n",
    "ax[2].set_xlabel('normas de Minkowski'); ax[1].set_ylabel('erro');"
   ]
  },
  {
   "cell_type": "markdown",
   "metadata": {},
   "source": [
    "Percebe-se que cada métrica retorna um valor diferente para o erro entre os valores exatos e os aproximados. Cabe ao usuário interpretar qual faz mais sentido para o conjunto de dados em análise."
   ]
  },
  {
   "cell_type": "markdown",
   "metadata": {},
   "source": [
    "## Aplicações\n",
    "\n",
    "### Erros pontuais na função de Airy\n",
    "\n",
    "A função de Airy é solução da [equação de Schrödinger](https://pt.wikipedia.org/wiki/Equação_de_Schrödinger) da mecânica quântica. Ela muda o seu comportamento de oscilatório para exponencial. A fim de demonstrar como o erro é uma função, dependente do ponto onde é avaliado, criaremos uma função \"perturbada\" que simulará o papel de função de Airy aproximada, enquanto manteremos a função de Airy verdadeira como exata. Em seguida, criaremos outra função de utilidade para calcular diretamente o erro relativo pontual.\n"
   ]
  },
  {
   "cell_type": "code",
   "execution_count": 46,
   "metadata": {},
   "outputs": [],
   "source": [
    "from scipy import special\n",
    "import numpy as np\n",
    "\n",
    "# Eixo das abscissas\n",
    "x = np.linspace(-10, -2, 100)\n",
    "\n",
    "# Funções de Airy e suas derivadas (solução exata)\n",
    "A, aip, bi, bip = special.airy(x)\n",
    "\n",
    "# Função de Airy perturbada\n",
    "A_ = 1.152*A + 0.056*np.cos(x) "
   ]
  },
  {
   "cell_type": "markdown",
   "metadata": {},
   "source": [
    "Podemos usar o conceito de _função anônima_ (`lambda`) para calcular diretamente o erro relativo percentual para cada ponto $x$. Assim, seja:\n",
    "\n",
    "$$ER_{\\text{Airy}}(x) = \\frac{\\mid \\ \\hat{A}(x) - A(x) \\ \\mid}{\\mid \\ A(x) \\ \\mid},$$\n",
    "\n",
    "onde $\\hat{A}(x)$ é a função de Airy aproximada e $A(x)$ é a função de Airy exata. Então:"
   ]
  },
  {
   "cell_type": "code",
   "execution_count": 47,
   "metadata": {},
   "outputs": [],
   "source": [
    "# Define função anônima para erro relativo\n",
    "ai = lambda f,f_: (abs(f_ - f)/abs(f))*100\n",
    "\n",
    "# calcula erro relativo para função de Airy e sua aproximação\n",
    "E_airy = ai(A,A_)"
   ]
  },
  {
   "cell_type": "markdown",
   "metadata": {},
   "source": [
    "A seguir, mostramos a plotagem das funções exatas e aproximadas, bem como do erro relativo pontual."
   ]
  },
  {
   "cell_type": "code",
   "execution_count": 48,
   "metadata": {},
   "outputs": [
    {
     "data": {
      "image/png": "[encoded data removed]",
      "text/plain": [
       "<Figure size 640x400 with 1 Axes>"
      ]
     },
     "metadata": {
      "filenames": {
       "image/png": "/Users/gustavo/Dropbox/courses/calculo-numerico/LVMN/_build/jupyter_execute/ipynb/aula-02-erros_107_0.png"
      }
     },
     "output_type": "display_data"
    }
   ],
   "source": [
    "# Plotagem das funções \n",
    "from matplotlib.pyplot import plot, grid, legend\n",
    "\n",
    "plot(x, A, 'g-', label='Airy exata')\n",
    "plot(x, A_, 'g:', label='Airy aprox.')\n",
    "legend(loc='upper right');"
   ]
  },
  {
   "cell_type": "code",
   "execution_count": 49,
   "metadata": {},
   "outputs": [
    {
     "data": {
      "text/plain": [
       "[<matplotlib.lines.Line2D at 0x186cb4f50>]"
      ]
     },
     "execution_count": 49,
     "metadata": {},
     "output_type": "execute_result"
    },
    {
     "data": {
      "image/png": "[encoded data removed]",
      "text/plain": [
       "<Figure size 640x400 with 1 Axes>"
      ]
     },
     "metadata": {
      "filenames": {
       "image/png": "/Users/gustavo/Dropbox/courses/calculo-numerico/LVMN/_build/jupyter_execute/ipynb/aula-02-erros_108_1.png"
      }
     },
     "output_type": "display_data"
    }
   ],
   "source": [
    "# Plotagem do erro \n",
    "plot(x, E_airy,'g')"
   ]
  },
  {
   "cell_type": "markdown",
   "metadata": {},
   "source": [
    "### Avaliação de algoritmos de ordenação\n",
    "\n",
    "Vamos considerar um cenário em que estamos avaliando a eficiência de dois algoritmos de ordenação: o algoritmo de ordenação por inserção (_insertion sort_) e o algoritmo de ordenação rápida (_quick sort_). Suponha que temos um conjunto de dados com 10.000 elementos e queremos comparar o tempo de execução teórico e o medido para ambos os algoritmos.\n",
    "\n",
    "Consideremos: \n",
    "\n",
    "- $x$: tempo de execução teórico do algoritmo.\n",
    "- $\\hat{x}$: tempo de execução medido do algoritmo.\n",
    "- $ER = 1 - \\dfrac{\\hat{x}}{x}$\n",
    "\n",
    "O _insertion sort_ possui complexidade teórica de $O(n^2)$. Consideremos que o tempo teórico para 10.000 elementos seja de 50 segundos. O _quick sort_ possui complexidade teórica de $O(n \\, \\log \\, n)$. Consideremos que o tempo teórico para 10.000 elementos seja de 2 segundos.\n",
    "\n",
    "Após executar os algoritmos em uma máquina específica, suponhamos que tenhamos obtido os seguintes tempos de execução:\n",
    "\n",
    "- _insertion sort_: 55 segundos.\n",
    "- _quick sort_: 2.5 segundos.\n",
    "\n",
    "O cálculo do erro relativo mostra que:\n",
    "\n",
    "- _insertion sort_: $ER = 1 - \\frac{55}{50} = 1 - 1.1 = -0.1 = -10\\%$\n",
    "- _quick sort_: $ER = 1 - \\frac{2.5}{2} = 1 - 1.25 = -0.25 = -25\\%$.\n",
    "\n",
    "Ou seja, para o _insertion sort_, o erro relativo de -10% indica que o algoritmo demorou 10% mais do que o esperado, o que pode ser atribuído a fatores como sobrecarga de processamento ou otimizações que não foram realizadas. Para o _quick sort_, o erro relativo de -25% indica que o algoritmo demorou 25% mais do que o esperado, sugerindo que o algoritmo pode não ter se comportado da melhor maneira para este conjunto de dados específico, ou que a implementação usada não foi a mais eficiente.\n",
    "\n",
    "Esses cálculos de erro relativo são essenciais para avaliar o desempenho dos algoritmos em ambientes reais, comparando-os com as expectativas teóricas. Eles ajudam a identificar discrepâncias que podem surgir devido a vários fatores, como características do hardware, implementações específicas do algoritmo, e peculiaridades dos dados de entrada."
   ]
  },
  {
   "cell_type": "markdown",
   "metadata": {},
   "source": [
    "### Erros de precificação imobiliária por redes neurais\n",
    "\n",
    "Vamos considerar um cenário onde estamos treinando uma rede neural para prever preços de imóveis com base em características como área, número de quartos, localização, etc. Para avaliar o desempenho da rede neural, usaremos o MSE e o MAE.\n",
    "\n",
    "1. **Dados do Conjunto de Treinamento e Teste**\n",
    "\n",
    "   - Temos um conjunto de dados com 1.000 amostras de preços de imóveis.\n",
    "\n",
    "2. **Treinamento da Rede Neural**\n",
    "\n",
    "   - A rede neural é treinada com um conjunto de treinamento e avaliada com um conjunto de teste.\n",
    "\n",
    "3. **Resultados do Conjunto de Teste**\n",
    "\n",
    "   - Valores reais dos preços dos imóveis: $\\mathbf{x} = [200 \\ \\ 300 \\ \\ 250 \\ \\ 500 \\ \\ 400]^T$\n",
    "   \n",
    "   - Valores previstos pela rede neural $\\mathbf{\\hat{x}} = [210 \\ \\ 290 \\ \\ 240 \\ \\ 520 \\ \\ 410]^T$\n",
    "\n",
    "4. **Cálculo do MSE**\n",
    "\n",
    "$\\text{MSE} = \\frac{1}{5} \\left[ (200 - 210)^2 + (300 - 290)^2 + (250 - 240)^2 + (500 - 520)^2 + (400 - 410)^2 \\right]$\n",
    "\n",
    "$\\text{MSE} = \\frac{1}{5} \\left[ 100 + 100 + 100 + 400 + 100 \\right] = \\frac{1}{5} \\times 800 = 160$\n",
    "\n",
    "5. **Cálculo do MAE**\n",
    "\n",
    "$\\text{MAE} = \\frac{1}{5} \\left[ |200 - 210| + |300 - 290| + |250 - 240| + |500 - 520| + |400 - 410| \\right]$\n",
    "\n",
    "$\\text{MAE} = \\frac{1}{5} \\left[ 10 + 10 + 10 + 20 + 10 \\right] = \\frac{1}{5} \\times 60 = 12$\n",
    "\n",
    "6. **Interpretação dos Resultados**\n",
    "\n",
    "   - **MSE**: Um valor de 160 indica que, em média, os quadrados dos erros são relativamente altos. Como o MSE penaliza mais fortemente os grandes erros, este valor sugere que há algumas previsões com grandes discrepâncias.\n",
    "\n",
    "   - **MAE**: Um valor de 12 indica que, em média, os erros absolutos entre as previsões e os valores reais são de 12 unidades monetárias. O MAE sendo menor que o MSE sugere que a maioria dos erros são pequenos, mas existem alguns grandes erros que estão influenciando o MSE.\n",
    "\n",
    "   - **Ajuste do Modelo**: Se o MSE for muito maior que o MAE, isto pode indicar a presença de outliers que estão afetando negativamente o desempenho do modelo. Nesse caso, pode ser útil investigar os outliers e ajustar o modelo ou os dados de treinamento.\n",
    "\n",
    "7. **Avaliação de Desempenho**\n",
    "\n",
    "Ambas as métricas são úteis para avaliar a precisão do modelo, mas cada uma tem suas vantagens. O MSE é mais sensível a grandes erros, enquanto o MAE é mais intuitivo e menos sensível a outliers. O uso de MSE e MAE permite uma avaliação completa do desempenho de uma rede neural. Enquanto o MSE fornece uma visão detalhada dos erros grandes, o MAE oferece uma métrica mais robusta contra outliers, facilitando a interpretação dos resultados e a melhoria do modelo."
   ]
  },
  {
   "cell_type": "markdown",
   "metadata": {},
   "source": [
    "## Referências\n",
    "\n",
    "```{bibliography}\n",
    ":filter: docname in docnames\n",
    "```"
   ]
  },
  {
   "cell_type": "code",
   "execution_count": 50,
   "metadata": {
    "tags": [
     "remove-input"
    ]
   },
   "outputs": [],
   "source": [
    "plt.rcdefaults()"
   ]
  }
 ],
 "metadata": {
  "celltoolbar": "Edit Metadata",
  "kernelspec": {
   "display_name": "LVMN",
   "language": "python",
   "name": "python3"
  },
  "language_info": {
   "codemirror_mode": {
    "name": "ipython",
    "version": 3
   },
   "file_extension": ".py",
   "mimetype": "text/x-python",
   "name": "python",
   "nbconvert_exporter": "python",
   "pygments_lexer": "ipython3",
   "version": "3.13.2"
  }
 },
 "nbformat": 4,
 "nbformat_minor": 4
}