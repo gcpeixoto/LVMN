{
 "cells": [
  {
   "cell_type": "markdown",
   "metadata": {},
   "source": [
    "# _Code Session_ 6: Interpolação"
   ]
  },
  {
   "cell_type": "markdown",
   "metadata": {
    "tags": []
   },
   "source": [
    "## `interp1d`\n",
    "\n",
    "A classe `interp1d` do submódulo `scipy.interpolate` pode ser usada como uma estrutura genérica para o cálculo de interpolação unidimensional do tipo $y_k = f(x_k)$.\n",
    "\n",
    "Para usar `interp1d`, precisamos de, no mínimo, uma tabela de dados fornecida por dois parâmetros:\n",
    "\n",
    "1. `x`: array de valores independentes \n",
    "2. `y`: array de valores dependentes \n",
    "\n",
    "Um dos argumentos opcionais relevantes de `interp1d` é:\n",
    "\n",
    "- `kind`: tipo de dado `str` ou `int` que especifica o tipo de interpolação.\n",
    "\n",
    "O valor padrão de `kind` é `'linear'`, o qual equivale à configuração de uma interpolação linear. Outras opções relevantes, bem como o que elas realizam estão dispostas na tabela a seguir: \n",
    "\n",
    "|opção|interpolação|\n",
    "|:---:|:---:|\n",
    "|`'nearest'`| vizinho mais próximo |\n",
    "|`'zero'`| interpolação por spline de ordem 0|\n",
    "|`'slinear'`| interpolação por spline de ordem 1|\n",
    "|`'quadratic'`| interpolação por spline de ordem 2|\n",
    "|`'cubic'`| interpolação por spline de ordem 3|\n",
    "\n",
    "Se um valor inteiro for passado para `'kind'`, ele indicará a ordem da spline interpolatória. Por exemplo, `'kind' = 4` indica uma interpolação por spline de ordem 4.\n",
    "\n",
    "Em Python, a classe `interp1d` é chamada da seguinte forma:\n",
    "\n",
    "```python\n",
    "from scipy.interpolate import interp1d\n",
    "```\n",
    "\n",
    "Podemos, agora, resolver alguns problemas de interpolação unidimensional por meio desta classe."
   ]
  },
  {
   "cell_type": "markdown",
   "metadata": {},
   "source": [
    "Em primeiro lugar, vamos importar alguns módulos necessários para nossos cálculos."
   ]
  },
  {
   "cell_type": "code",
   "execution_count": 1,
   "metadata": {},
   "outputs": [],
   "source": [
    "import numpy as np\n",
    "import matplotlib.pyplot as plt \n",
    "from scipy.interpolate import interp1d"
   ]
  },
  {
   "cell_type": "markdown",
   "metadata": {},
   "source": [
    "### Problema 1\n",
    "\n",
    "Valores de entalpia por unidade de massa, $h$, de um plasma de Argônio em equilíbrio _versus_ temperatura estão tabelados no arquivo `file-cs6-entalpia.csv`. Usando esses dados:\n",
    "\n",
    "\n",
    "- Escreva um programa para interpolar valores de $h$ para temperaturas no intervalo $5000 - 30000 \\, ^{\\circ}K$, com incrementos de $500 \\, ^{\\circ}K$. \n",
    "\n",
    "- Plote o gráfico de dispersão marcando com asteriscos os valores de entalpia tabelados. Em seguida, plote gráficos de linha para as seguintes interpolações: `'nearest'`, `'zero'`, `'slinear'` e `'quadratic'`. \n",
    "\n",
    "- Compare os valores interpolados de $h$ para cada um dos métodos de interpolação \n",
    "`'zero'`, `'slinear'` e `'quadratic'` do item anterior para $T= 15150 \\, ^{\\circ}K$. \n",
    "\n",
    "**Observação:** note que a temperatura da tabela deve ser multiplicada por 1000."
   ]
  },
  {
   "cell_type": "markdown",
   "metadata": {},
   "source": [
    "#### Resolução\n",
    "\n",
    "Em primeiro lugar, vamos ler a tabela de dados, atribuir os valores tabelados em arrays e corrigir os valores de temperatura pelo fator 1000."
   ]
  },
  {
   "cell_type": "code",
   "execution_count": 10,
   "metadata": {},
   "outputs": [
    {
     "data": {
      "text/plain": [
       "(array([  3.3,   7.5,  41.8,  51.8,  61. , 101.1, 132.9, 145.5, 171.4,\n",
       "        225.8, 260.9]),\n",
       " array([ 5000.,  7500., 10000., 12500., 15000., 17500., 20000., 22500.,\n",
       "        25000., 27500., 30000.]))"
      ]
     },
     "execution_count": 10,
     "metadata": {},
     "output_type": "execute_result"
    }
   ],
   "source": [
    "# atribuindo colunas da matriz de dados em h e T\n",
    "h, T = np.loadtxt('../file-cs6-entalpia.csv', delimiter=',', skiprows=1, unpack=True)\n",
    "\n",
    "# temperatura em milhares de Kelvin\n",
    "T = 1e3*T \n",
    "\n",
    "h, T"
   ]
  },
  {
   "cell_type": "markdown",
   "metadata": {},
   "source": [
    "Criamos um array para o intervalo de temperaturas desejado para interpolação usando `arange`. Notemos que esta função exige um deslocamento do valor do incremento no último elemento do array, isto é, 30000 + 500 = 30500."
   ]
  },
  {
   "cell_type": "code",
   "execution_count": 12,
   "metadata": {},
   "outputs": [
    {
     "data": {
      "text/plain": [
       "array([ 5000.,  5500.,  6000.,  6500.,  7000.,  7500.,  8000.,  8500.,\n",
       "        9000.,  9500., 10000., 10500., 11000., 11500., 12000., 12500.,\n",
       "       13000., 13500., 14000., 14500., 15000., 15500., 16000., 16500.,\n",
       "       17000., 17500., 18000., 18500., 19000., 19500., 20000., 20500.,\n",
       "       21000., 21500., 22000., 22500., 23000., 23500., 24000., 24500.,\n",
       "       25000., 25500., 26000., 26500., 27000., 27500., 28000., 28500.,\n",
       "       29000., 29500., 30000.])"
      ]
     },
     "execution_count": 12,
     "metadata": {},
     "output_type": "execute_result"
    }
   ],
   "source": [
    "# array de temperaturas com incremento de 500 K\n",
    "t = np.arange(5000.0,30500.0,500)\n",
    "t"
   ]
  },
  {
   "cell_type": "markdown",
   "metadata": {},
   "source": [
    "Em seguida, usamos os valores tabelados para posterior aplicação de `interp1d` sobre `t` como uma função e imprimimos os valores interpolados de entalpia:"
   ]
  },
  {
   "cell_type": "code",
   "execution_count": 23,
   "metadata": {},
   "outputs": [
    {
     "data": {
      "text/plain": [
       "array([  3.3 ,   4.14,   4.98,   5.82,   6.66,   7.5 ,  14.36,  21.22,\n",
       "        28.08,  34.94,  41.8 ,  43.8 ,  45.8 ,  47.8 ,  49.8 ,  51.8 ,\n",
       "        53.64,  55.48,  57.32,  59.16,  61.  ,  69.02,  77.04,  85.06,\n",
       "        93.08, 101.1 , 107.46, 113.82, 120.18, 126.54, 132.9 , 135.42,\n",
       "       137.94, 140.46, 142.98, 145.5 , 150.68, 155.86, 161.04, 166.22,\n",
       "       171.4 , 182.28, 193.16, 204.04, 214.92, 225.8 , 232.82, 239.84,\n",
       "       246.86, 253.88, 260.9 ])"
      ]
     },
     "execution_count": 23,
     "metadata": {},
     "output_type": "execute_result"
    }
   ],
   "source": [
    "# montagem da interpolação\n",
    "f = interp1d(T,h)\n",
    "\n",
    "# valores interpolados\n",
    "hi = f(t)\n",
    "hi"
   ]
  },
  {
   "cell_type": "markdown",
   "metadata": {},
   "source": [
    "Vamos determinar os valores interpolados para cada método de interpolação e plotá-los juntamente com o gráfico de dispersão dos valores tabelados."
   ]
  },
  {
   "cell_type": "code",
   "execution_count": 37,
   "metadata": {},
   "outputs": [
    {
     "data": {
      "image/png": "[encoded data removed]",
      "text/plain": [
       "<Figure size 432x288 with 1 Axes>"
      ]
     },
     "metadata": {
      "filenames": {
       "image/png": "/Users/gustavo/Dropbox/courses/calculo-numerico/LVMN/_build/jupyter_execute/ipynb/code-sessions/codeSession-6-interp_12_0.png"
      },
      "needs_background": "light"
     },
     "output_type": "display_data"
    }
   ],
   "source": [
    "# métodos de interpolação\n",
    "m = ['zero','slinear', 'quadratic','cubic',5,7,9]\n",
    "\n",
    "# objetos de interpolação para cada método \n",
    "F = [interp1d(T,h,kind=k) for k in m]\n",
    "\n",
    "# valores interpolados\n",
    "him = [f(t) for f in F]\n",
    "\n",
    "# plotagem dos valores tabelados\n",
    "plt.plot(T,h,'*',label='tabelado');\n",
    "\n",
    "# plotagem dos métodos\n",
    "for i in range(len(m)):\n",
    "    plt.plot(t,him[i],label=m[i])\n",
    "\n",
    "# legenda\n",
    "plt.legend(); "
   ]
  },
  {
   "cell_type": "markdown",
   "metadata": {},
   "source": [
    "Até aqui, já cumprimos os dois primeiros requisitos do problema. Para o terceiro, usaremos as informações pré-computadas na lista `F` para estimar os valores de entalpia quando $T = 15150 \\, ^{\\circ} K$. Teremos os seguintes três valores:"
   ]
  },
  {
   "cell_type": "code",
   "execution_count": 40,
   "metadata": {},
   "outputs": [
    {
     "data": {
      "text/plain": [
       "[array(61.),\n",
       " array(63.406),\n",
       " array(62.60353522),\n",
       " array(62.64452478),\n",
       " array(62.63805504),\n",
       " array(62.68643145),\n",
       " array(62.73084339)]"
      ]
     },
     "execution_count": 40,
     "metadata": {},
     "output_type": "execute_result"
    }
   ],
   "source": [
    "# calcula h(15150) para os métodos 'zero', 'slinear' e 'quadratic'\n",
    "h_15150 = [f(15150) for f in F[0:]]\n",
    "\n",
    "h_15150"
   ]
  },
  {
   "cell_type": "markdown",
   "metadata": {},
   "source": [
    "Isto é, os valores de entalpia em $T = 15150 \\, ^{\\circ} K$ podem ser organizdos na tabela a seguir:\n",
    "\n",
    "|método|valor|\n",
    "|:---:|:---:|\n",
    "|`'zero'`| 61.0 MJ/kg |\n",
    "|`'slinear'`| 63.406 MJ/kg |\n",
    "|`'quadratic'`| 62.604 MJ/kg |"
   ]
  },
  {
   "cell_type": "markdown",
   "metadata": {},
   "source": [
    "Levando em conta que quanto mais alta é a ordem de interpolação, melhor é a interpolação, podemos inferir que desses três valores, $62.604 \\, MJ/kg$ é o mais confiável para usar."
   ]
  },
  {
   "cell_type": "markdown",
   "metadata": {},
   "source": [
    "### Problema 2\n",
    "\n",
    "O arquivo `file-cs6-salinidade.csv` tabela valores de salinidade da água (em ppt) em função da profundidade oceânica (em metros). Use interpolação por spline cúbica para gerar uma tabela de salinidades para profundidades de 0 a 3000 m com espaçamento de 10 m e estime os valores nas profundidades de 250 m, 750 m e 1800 m."
   ]
  },
  {
   "cell_type": "markdown",
   "metadata": {},
   "source": [
    "### Problema 3\n",
    "\n",
    "A tabela a seguir apresenta a potência de um motor a Diesel (em hp) em diferentes rotações (em rpm). Gere uma tabela de valores interpolados com espaçamento de 10 rpm e destaque as potências em 2300 rpm e 3650 rpm.\n",
    "\n",
    "\n",
    "|velocidade (rpm) | potência (hp) |\n",
    "|:---:|:---:|\n",
    "|1200|65|\n",
    "|1500|130|\n",
    "|2000|185|\n",
    "|2500|225|\n",
    "|3000|255|\n",
    "|3250|266|\n",
    "|3500|275|\n",
    "|3750|272|\n",
    "|4000|260|\n",
    "|4400|230|"
   ]
  }
 ],
 "metadata": {
  "kernelspec": {
   "display_name": "Python 3 (ipykernel)",
   "language": "python",
   "name": "python3"
  },
  "language_info": {
   "codemirror_mode": {
    "name": "ipython",
    "version": 3
   },
   "file_extension": ".py",
   "mimetype": "text/x-python",
   "name": "python",
   "nbconvert_exporter": "python",
   "pygments_lexer": "ipython3",
   "version": "3.9.16"
  }
 },
 "nbformat": 4,
 "nbformat_minor": 4
}