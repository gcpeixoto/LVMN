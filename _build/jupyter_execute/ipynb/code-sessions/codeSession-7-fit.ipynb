{
 "cells": [
  {
   "cell_type": "markdown",
   "metadata": {},
   "source": [
    "# _Code Session 7_: Ajuste de Curvas"
   ]
  },
  {
   "cell_type": "code",
   "execution_count": 1,
   "metadata": {},
   "outputs": [],
   "source": [
    "import numpy as np \n",
    "import matplotlib.pyplot as plt \n",
    "import matplotlib as mpl\n",
    "\n",
    "mpl.rcParams['figure.figsize'] = (6,4)"
   ]
  },
  {
   "cell_type": "markdown",
   "metadata": {},
   "source": [
    "## Regressão Linear\n",
    "\n",
    "### `linregress`\n",
    "\n",
    "A regressão linear é o modelo mais básico para realizar ajuste de dados e frequentemente aplicado em estudos estatísticos. Em Python, a regressão linear pode ser realizada com a função `linregress`. Esta função calcula a regressão linear por mínimos quadrados (a rigor, o termo deveria ser traduzido como _quadrados mínimos_) para dois conjuntos de medição. \n",
    "\n",
    "Os argumentos de entrada obrigatórios desta função são: \n",
    "\n",
    "1. o primeiro conjunto de dados `x` (lista ou objeto tipo _array_)\n",
    "2. o segundo conjunto de dados `y` (lista ou objeto tipo _array_)\n",
    "\n",
    "Os argumentos de saída principais são\n",
    "\n",
    "- `slope`: coeficiente angular da reta obtida pela regressão linear\n",
    "- `intercept`: coeficiente linear da reta obtida pela regressão linear\n",
    "- `rvalue`: valor do coeficiente de correlação\n",
    "- `pvalue`: valor-_p_ do teste de hipótese\n",
    "\n",
    "Por enquanto, desconsideraremos o valor-_p_.\n",
    "\n",
    "**Nota:** para obter o valor do _coeficiente de determinação_ $R^2$, o valor de `rvalue` deve ser elevado ao quadrado, i.e. `R2 = rvalue**2.`\n",
    "\n",
    "Como importar a função?"
   ]
  },
  {
   "cell_type": "code",
   "execution_count": 9,
   "metadata": {},
   "outputs": [],
   "source": [
    "from scipy.stats import linregress"
   ]
  },
  {
   "cell_type": "markdown",
   "metadata": {},
   "source": [
    "### Problema 1\n",
    "\n",
    "A tabela a seguir lista a massa $M$ e o consumo médio $C$ de automóveis fabricados pela Ford e Honda em 2008. Faça um ajuste linear $C = b + aM$ aos dados e calcule o desvio padrão. \n",
    "\n",
    "modelo | massa (kg) | C (km/litro)\n",
    "---|---|---\n",
    "Focus| 1198 | 11.90\n",
    "Crown Victoria| 1715 | 6.80\n",
    "Expedition| 2530 | 5.53\n",
    "Explorer| 2014 | 6.38\n",
    "F-150| 2136 | 5.53\n",
    "Fusion| 1492 | 8.50\n",
    "Taurus| 1652 | 7.65\n",
    "Fit| 1168 | 13.60\n",
    "Accord| 1492 | 9.78\n",
    "CR-V| 1602 | 8.93\n",
    "Civic| 1192 | 11.90\n",
    "Ridgeline| 2045 | 6.38\n",
    "\n",
    "**Nota**: esta tabela está disponível em formato .csv no arquivo `file-cs7-autos.csv`."
   ]
  },
  {
   "cell_type": "markdown",
   "metadata": {},
   "source": [
    "### Resolução"
   ]
  },
  {
   "cell_type": "code",
   "execution_count": 10,
   "metadata": {},
   "outputs": [
    {
     "name": "stdout",
     "output_type": "stream",
     "text": [
      "modelo,massa (kg),C (km/litro)\n",
      "Focus,1198,11.90\n",
      "Crown Victoria,1715,6.80\n",
      "Expedition,2530,5.53\n",
      "Explorer,2014,6.38\n",
      "F-150,2136,5.53\n",
      "Fusion,1492,8.50\n",
      "Taurus,1652,7.65\n",
      "Fit,1168,13.60\n",
      "Accord,1492,9.78\n",
      "CR-V,1602,8.93\n",
      "Civic,1192,11.90\n",
      "Ridgeline,2045,6.38"
     ]
    }
   ],
   "source": [
    "cat '../file-cs7-autos.csv'"
   ]
  },
  {
   "cell_type": "markdown",
   "metadata": {},
   "source": [
    "Vamos ler o arquivo de dados e converter diretamente a matriz de dados em dois _arrays_, um para valores de massa e outro para consumo."
   ]
  },
  {
   "cell_type": "code",
   "execution_count": 11,
   "metadata": {},
   "outputs": [],
   "source": [
    "\n",
    "M, C = np.loadtxt(fname='../file-cs7-autos.csv', # nome do arquivo\n",
    "                  delimiter=',', # separador dos dados\n",
    "                  skiprows=1, # ignora 1a. linha do arquivo\n",
    "                  usecols=(1,2), # lê apenas 2a. e 3a. colunas\n",
    "                  unpack=True # desempactamento\n",
    "                  ) "
   ]
  },
  {
   "cell_type": "markdown",
   "metadata": {},
   "source": [
    "Em seguida, fazemos a regressão linear:"
   ]
  },
  {
   "cell_type": "code",
   "execution_count": 12,
   "metadata": {},
   "outputs": [
    {
     "name": "stdout",
     "output_type": "stream",
     "text": [
      "Regressão linear executada com a = -0.006, b = 18.410 e R2 = 0.83\n"
     ]
    }
   ],
   "source": [
    "a, b, R, _, _ = linregress(M,C)\n",
    "print(f'Regressão linear executada com a = {a:.3f}, b = {b:.3f} e R2 = {R*R:.2f}')"
   ]
  },
  {
   "cell_type": "markdown",
   "metadata": {},
   "source": [
    "Enfim, podemos visualizar o resultado: "
   ]
  },
  {
   "cell_type": "code",
   "execution_count": 5,
   "metadata": {},
   "outputs": [
    {
     "data": {
      "image/png": "[encoded data removed]",
      "text/plain": [
       "<Figure size 600x400 with 1 Axes>"
      ]
     },
     "metadata": {},
     "output_type": "display_data"
    }
   ],
   "source": [
    "# ajuste\n",
    "C2 = a*M + b\n",
    "\n",
    "# figura\n",
    "fig, ax = plt.subplots(constrained_layout=True)\n",
    "ax.plot(M,C2,'r--',alpha=0.6,label='modelo')\n",
    "ax.scatter(M,C,label='medição')\n",
    "ax.legend()\n",
    "ax.set_xlabel('massa [kg]')\n",
    "ax.set_ylabel('consumo [km/L]')\n",
    "ax.annotate(f'y = {b:.2f} - {-a:.2f}x',\n",
    "            (2180,10),\n",
    "            fontsize=12,\n",
    "            c='r');"
   ]
  },
  {
   "cell_type": "markdown",
   "metadata": {},
   "source": [
    "## Medindo o desvio padrão do ajuste por mínimos quadrados \n",
    "\n",
    "Para calcular o desvio padrão do ajuste, precisamos reconhecer o número de amostras $n$, o número de parâmetros do modelo de ajuste $m$ e calcular a soma $S$ dos quadrados. A fórmula utilizada é a seguinte: \n",
    "\n",
    "$$\\sigma = \\sqrt{ \\dfrac{S}{n-m} },$$\n",
    "\n",
    "\n",
    "onde $S = \\sum\\limits_{k=0}^n [y_i - \\phi(x_i)]^2$.\n",
    "\n",
    "Notemos que se $n = m$ (caso da interpolação), $\\sigma = \\infty$, i.e. seria indefinido, já que o denominador anular-se-ia. \n",
    "\n",
    "O modelo de ajuste $\\phi(x)$ é considerado polinomial. Então, no caso da regressão linear, temos apenas 2 parâmetros: o coeficiente linear e o angular.\n",
    "\n",
    "Sabemos que $m=2$. Agora, resta usar $n$ e calcular $S$. Isto é tudo de que precisamos para calcular $\\sigma$ para o nosso problema. "
   ]
  },
  {
   "cell_type": "code",
   "execution_count": 6,
   "metadata": {},
   "outputs": [
    {
     "name": "stdout",
     "output_type": "stream",
     "text": [
      "n = 12\n"
     ]
    }
   ],
   "source": [
    "n = M.size # número de amostras\n",
    "m = 2 # número de parâmetros\n",
    "print(f'n = {n:.0f}')"
   ]
  },
  {
   "cell_type": "markdown",
   "metadata": {},
   "source": [
    "O cálculo de $S$ pode ser feito da seguinte maneira:"
   ]
  },
  {
   "cell_type": "code",
   "execution_count": 7,
   "metadata": {},
   "outputs": [
    {
     "name": "stdout",
     "output_type": "stream",
     "text": [
      "S = 13.553\n"
     ]
    }
   ],
   "source": [
    "S = np.dot(C - C2, C - C2) # soma dos quadrados (resíduos)\n",
    "print(f'S = {S:.3f}')"
   ]
  },
  {
   "cell_type": "markdown",
   "metadata": {},
   "source": [
    "Enfim, $\\sigma$ será dado por:"
   ]
  },
  {
   "cell_type": "code",
   "execution_count": 8,
   "metadata": {},
   "outputs": [
    {
     "name": "stdout",
     "output_type": "stream",
     "text": [
      "σ = 1.164\n"
     ]
    }
   ],
   "source": [
    "sigma = np.sqrt(S/(n-m)) # desvio padrão\n",
    "print(f'σ = {sigma:.3f}')"
   ]
  },
  {
   "cell_type": "markdown",
   "metadata": {},
   "source": [
    "## Ajuste polinomial (linear)\n",
    "\n",
    "O ajuste de formas lineares de ordem superior (polinomial) pode ser realizado por meio da função `polyfit`.\n",
    "\n",
    "\n",
    "### `polyfit`\n",
    "\n",
    "Esta função ajusta um polinômio de grau $g$ à tabela de dados.\n",
    "\n",
    "Os argumentos de entrada obrigatórios desta função são: \n",
    "\n",
    "1. o primeiro conjunto de dados `x` (lista ou objeto tipo _array_)\n",
    "2. o segundo conjunto de dados `y` (lista ou objeto tipo _array_)\n",
    "3. o grau do polinômio `g`\n",
    "\n",
    "O principal argumento de saída é:\n",
    "\n",
    "- `p`: lista dos g+1 coeficientes do modelo (ordenados do maior para o menor grau)\n",
    "\n",
    "\n",
    "Como importá-la? \n",
    "\n",
    "```python \n",
    "from numpy import polyfit\n",
    "```\n",
    "\n",
    "Como já importamos o `numpy`, basta chamar a função com:\n",
    "\n",
    "```python\n",
    "np.polyfit(x,y,deg)\n",
    "```"
   ]
  },
  {
   "cell_type": "markdown",
   "metadata": {},
   "source": [
    "### Problema 2 \n",
    "\n",
    "Refaça o Problema 1 ajustando os dados com polinômios de grau 2, 3, 4 e 5 e plote os gráficos dos modelos ajustados aos dados em apenas uma figura.  "
   ]
  },
  {
   "cell_type": "markdown",
   "metadata": {},
   "source": [
    "#### Resolução\n",
    "\n",
    "Uma vez que já temos as variáveis armazenadas na memória, basta criarmos os ajustes."
   ]
  },
  {
   "cell_type": "code",
   "execution_count": 13,
   "metadata": {},
   "outputs": [],
   "source": [
    "p2 = np.polyfit(M,C,2)\n",
    "p3 = np.polyfit(M,C,3) \n",
    "p4 = np.polyfit(M,C,4) \n",
    "p5 = np.polyfit(M,C,5) "
   ]
  },
  {
   "cell_type": "markdown",
   "metadata": {},
   "source": [
    "Nota: o código abaixo realiza o mesmo, de forma compacta."
   ]
  },
  {
   "cell_type": "code",
   "execution_count": 14,
   "metadata": {},
   "outputs": [],
   "source": [
    "for g in range(2,6):\n",
    "    exec(f'p{g} = np.polyfit(M,C,g)')"
   ]
  },
  {
   "cell_type": "markdown",
   "metadata": {},
   "source": [
    "Para imprimir a lista dos coeficientes, basta fazer:"
   ]
  },
  {
   "cell_type": "code",
   "execution_count": 15,
   "metadata": {},
   "outputs": [
    {
     "name": "stdout",
     "output_type": "stream",
     "text": [
      "5.26020025147925e-06, -0.024582932608248086, 34.199195235449906\n",
      "-1.8913566501289084e-09, 1.5605099762465975e-05, -0.04275565798726278, 44.427911273714024\n",
      "3.371763317273691e-12, -2.6652321095782617e-08, 8.210414248684593e-05, -0.12006675173298169, 77.22226942351008\n",
      "-3.128534116773908e-14, 2.8613273579644486e-10, -1.0320518728742421e-06, 0.001839906143292905, -1.6309631822598512, 587.8122971513164\n"
     ]
    }
   ],
   "source": [
    "for p in [p2, p3, p4, p5]:\n",
    "    print(*p, sep=', ', end='\\n')"
   ]
  },
  {
   "cell_type": "markdown",
   "metadata": {},
   "source": [
    "Para plotarmos as curvas, devemos nos atentar para o grau dos modelos. Podemos criá-las da seguinte forma:"
   ]
  },
  {
   "cell_type": "code",
   "execution_count": 24,
   "metadata": {},
   "outputs": [
    {
     "data": {
      "image/png": "[encoded data removed]",
      "text/plain": [
       "<Figure size 432x288 with 1 Axes>"
      ]
     },
     "metadata": {
      "needs_background": "light"
     },
     "output_type": "display_data"
    }
   ],
   "source": [
    "# modelos\n",
    "C22 = p2[0]*M**2 + p2[1]*M    + p2[2] # modelo quadrático\n",
    "C23 = p3[0]*M**3 + p3[1]*M**2 + p3[2]*M    + p3[3] # modelo cúbico\n",
    "C24 = p4[0]*M**4 + p4[1]*M**3 + p4[2]*M**2 + p4[3]*M    + p4[4] # modelo de quarta ordem\n",
    "C25 = p5[0]*M**5 + p5[1]*M**4 + p5[2]*M**3 + p5[3]*M**2 + p5[4]*M + p5[5] # modelo de quinta ordem\n",
    "\n",
    "# plotagem\n",
    "fig, ax = plt.subplots(constrained_layout=True)\n",
    "ax.grid(True)\n",
    "\n",
    "ax.plot(M,C,  'ko',ms=6, mfc='black', label='dado') \n",
    "ax.plot(M,C22,'rs',ms=8, mfc='None', label='Ord2') \n",
    "ax.plot(M,C23,'gd',ms=8, mfc='None', label='Ord3')\n",
    "ax.plot(M,C24,'cv',ms=8, mfc='None', label='Ord4')\n",
    "ax.plot(M,C25,'m*',ms=8, mfc='None', label='Ord5') \n",
    "\n",
    "ax.set_xlabel('massa [kg]')\n",
    "ax.set_ylabel('consumo [km/L]')\n",
    "ax.legend(loc='best');"
   ]
  },
  {
   "cell_type": "markdown",
   "metadata": {},
   "source": [
    "#### Exercício complementar \n",
    "\n",
    "Escreva uma função genérica que recebe a tabela de dados e o grau do modelo polinomial de ajuste e retorna os coeficientes do modelo, o desvio padrão do ajuste e os gráficos de dispersão conjuntamente com os dos modelos de ajuste."
   ]
  },
  {
   "cell_type": "markdown",
   "metadata": {},
   "source": [
    "### Problema 3\n",
    "\n",
    "A intensidade de radiação de uma substância radioativa foi medida em intervalos semestrais. A tabela de valores está disponível no arquivo `file-cs7-radiacao.csv`, onte $t$ é o tempo e $\\gamma$ é a intensidade relativa de radiação. Sabendo que a radioatividade decai exponencialmente com o tempo, $\\gamma(t) = ate^{-bt}$, estime a meia-vida radioativa (tempo no qual $\\gamma$ atinge metade de seu valor) da substância. "
   ]
  },
  {
   "cell_type": "markdown",
   "metadata": {},
   "source": [
    "#### Resolução"
   ]
  },
  {
   "cell_type": "markdown",
   "metadata": {},
   "source": [
    "Primeiramente, vamos ler o arquivo."
   ]
  },
  {
   "cell_type": "code",
   "execution_count": 25,
   "metadata": {},
   "outputs": [],
   "source": [
    "t, g = np.loadtxt(fname='../file-cs7-radiacao.csv',\n",
    "                   delimiter=',',\n",
    "                   skiprows=1,\n",
    "                   unpack=True)"
   ]
  },
  {
   "cell_type": "code",
   "execution_count": 27,
   "metadata": {},
   "outputs": [
    {
     "data": {
      "text/plain": [
       "(array([0.5, 1. , 1.5, 2. , 2.5]), array([0.541, 0.398, 0.232, 0.106, 0.052]))"
      ]
     },
     "execution_count": 27,
     "metadata": {},
     "output_type": "execute_result"
    }
   ],
   "source": [
    "t,g"
   ]
  },
  {
   "cell_type": "markdown",
   "metadata": {},
   "source": [
    "Agora, vamos plotar os dados apenas para verificar o comportamento da dispersão."
   ]
  },
  {
   "cell_type": "code",
   "execution_count": 28,
   "metadata": {},
   "outputs": [
    {
     "data": {
      "image/png": "[encoded data removed]",
      "text/plain": [
       "<Figure size 432x288 with 1 Axes>"
      ]
     },
     "metadata": {
      "needs_background": "light"
     },
     "output_type": "display_data"
    }
   ],
   "source": [
    "plt.plot(t,g,'o-');"
   ]
  },
  {
   "cell_type": "markdown",
   "metadata": {},
   "source": [
    "#### Teste de alinhamento \n",
    "\n",
    "Para ajustarmos um modelo não-linear à exponencial, antes precisamos convertê-la a uma forma linear, ou seja, linearizá-la. Para isso, aplicamos $\\log$ (nome da função _logaritmo natural_ em Python) em ambos os lados da função. Ao deslocar o termo $t$ fora da exponencial para o lado esquerdo da equação, teremos:\n",
    "\n",
    "$$\\log\\left(\\frac{\\gamma}{t}\\right) = \\log(a) - bt$$\n",
    "\n",
    "Definindo $z = \\log(\\frac{\\gamma}{t})$, $x = \\log(a)$, podemos agora fazer uma regressão linear nas variáveis $t$ e $z$ para o modelo \n",
    "\n",
    "$$z = x - bt$$\n",
    "\n",
    "Agora, plotando a dispersão no plano $(t,z)$, verificamos se a curva é aproximadamente uma reta.  "
   ]
  },
  {
   "cell_type": "code",
   "execution_count": 31,
   "metadata": {},
   "outputs": [
    {
     "data": {
      "image/png": "[encoded data removed]",
      "text/plain": [
       "<Figure size 432x288 with 1 Axes>"
      ]
     },
     "metadata": {
      "needs_background": "light"
     },
     "output_type": "display_data"
    }
   ],
   "source": [
    "z = np.log(g/t)\n",
    "plt.plot(t,z);"
   ]
  },
  {
   "cell_type": "markdown",
   "metadata": {},
   "source": [
    "Como se vê, o teste de alinhamento mostra que a função exponencial é um modelo não-linear satisfatório para modelar o comportamento físico em questão."
   ]
  },
  {
   "cell_type": "markdown",
   "metadata": {},
   "source": [
    "Computando a regressão linear, temos:"
   ]
  },
  {
   "cell_type": "code",
   "execution_count": 32,
   "metadata": {},
   "outputs": [
    {
     "name": "stdout",
     "output_type": "stream",
     "text": [
      "Regressão linear executada com inclinação = -1.984, interceptação = 1.072 e R2 = 1.00\n"
     ]
    }
   ],
   "source": [
    "b,x,R,_,_ = linregress(t,z)\n",
    "print(f'Regressão linear executada com inclinação = {b:.3f}, interceptação = {x:.3f} e R2 = {R*R:.2f}')"
   ]
  },
  {
   "cell_type": "markdown",
   "metadata": {},
   "source": [
    "Vemos que, de fato, as variáveis têm uma altíssima correlação, visto que $R^2 \\approx 1$. Agora, para plotar o modelo de ajuste, recuperamos o valor de $a$ operando inversamente e o usamos na curva do modelo para comparar com os dados experimentais."
   ]
  },
  {
   "cell_type": "code",
   "execution_count": 33,
   "metadata": {},
   "outputs": [
    {
     "data": {
      "image/png": "[encoded data removed]",
      "text/plain": [
       "<Figure size 432x288 with 1 Axes>"
      ]
     },
     "metadata": {
      "needs_background": "light"
     },
     "output_type": "display_data"
    }
   ],
   "source": [
    "a = np.exp(x); # recuperando parâmetro de ajuste\n",
    "mod = lambda t: a*t*np.exp(b*t)\n",
    "\n",
    "plt.plot(t,g,'o',mfc=\"None\");\n",
    "plt.plot(t,mod(t),'o',mfc=\"None\");\n",
    "plt.legend(('experimento','ajuste'));"
   ]
  },
  {
   "cell_type": "markdown",
   "metadata": {},
   "source": [
    "O modelo está bem ajustado. Para estimar a meia-vida da substância, devemos encontrar o instante de tempo $t_m$  tal que $\\gamma(t_m) = 0.5\\gamma_0$. Então, notemos que: \n",
    "\n",
    "$$\\gamma(t_m) = at_me^{-bt_m} \\Rightarrow 0.5\\gamma_0 = at_me^{-bt_m}$$\n",
    "\n",
    "Todavia, não conseguimos uma relação explícita para $t_m$, fato que nos leva a resolver um segundo problema de determinação de raízes do tipo $f(t_m) = 0$ com \n",
    "\n",
    "\n",
    "$$f(t_m) = at_me^{-bt_m} - 0.5\\gamma_0$$"
   ]
  },
  {
   "cell_type": "markdown",
   "metadata": {},
   "source": [
    "Vamos resolver este problema usando a função `fsolve` do módulo `scipy.optimize`, mas antes precisamos passar a ela uma estimativa inicial. Rapidamente, façamos uma análise gráfica da curva $f(t_m)$ para $t_m = [0,2]$ (este intervalo é obtido após algumas plotagens prévias)."
   ]
  },
  {
   "cell_type": "code",
   "execution_count": 34,
   "metadata": {},
   "outputs": [
    {
     "data": {
      "image/png": "[encoded data removed]",
      "text/plain": [
       "<Figure size 432x288 with 1 Axes>"
      ]
     },
     "metadata": {
      "needs_background": "light"
     },
     "output_type": "display_data"
    }
   ],
   "source": [
    "f = lambda tm: mod(tm) - 0.5*g[0]\n",
    "ttm = np.linspace(0,2)\n",
    "plt.plot(ttm,f(ttm),ttm,0*f(ttm));"
   ]
  },
  {
   "cell_type": "markdown",
   "metadata": {},
   "source": [
    "Existem duas raízes no intervalo. Porém, observando os valores tabelados de $t$, é fácil ver que o valor para a condição inicial deve ser maior do que $t_0 = 0.5$ e, portanto, mais próximo da segunda raiz no gráfico. Então, escolhamos para `fsolve` o valor inicial de $t_m^0 = 1.25$."
   ]
  },
  {
   "cell_type": "code",
   "execution_count": 35,
   "metadata": {},
   "outputs": [
    {
     "name": "stdout",
     "output_type": "stream",
     "text": [
      "Meia-vida localizada em tm = 1.351.\n"
     ]
    }
   ],
   "source": [
    "from scipy.optimize import fsolve \n",
    "\n",
    "tm = fsolve(f,1.25)\n",
    "print(f'Meia-vida localizada em tm = {tm[0]:.3f}.')"
   ]
  },
  {
   "cell_type": "markdown",
   "metadata": {},
   "source": [
    "Uma última verificação mostra que este valor de $t_m$ é condizente com os dados experimentais, pois o seguinte erro é pequeno."
   ]
  },
  {
   "cell_type": "code",
   "execution_count": 20,
   "metadata": {},
   "outputs": [
    {
     "data": {
      "text/plain": [
       "array([1.11022302e-16])"
      ]
     },
     "execution_count": 20,
     "metadata": {},
     "output_type": "execute_result"
    }
   ],
   "source": [
    "mod(tm) - 0.5*g[0]"
   ]
  }
 ],
 "metadata": {
  "celltoolbar": "Edit Metadata",
  "kernelspec": {
   "display_name": "Python 3 (ipykernel)",
   "language": "python",
   "name": "python3"
  },
  "language_info": {
   "codemirror_mode": {
    "name": "ipython",
    "version": 3
   },
   "file_extension": ".py",
   "mimetype": "text/x-python",
   "name": "python",
   "nbconvert_exporter": "python",
   "pygments_lexer": "ipython3",
   "version": "3.9.16"
  }
 },
 "nbformat": 4,
 "nbformat_minor": 4
}