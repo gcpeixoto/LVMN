{
 "cells": [
  {
   "cell_type": "code",
   "execution_count": 1,
   "metadata": {},
   "outputs": [],
   "source": [
    "import matplotlib.pyplot as plt\n",
    "plt.style.use('../styles/gcpeixoto-book.mplstyle')"
   ]
  },
  {
   "cell_type": "markdown",
   "metadata": {},
   "source": [
    "# Sistemas Lineares na Prática Computacional: Métodos Diretos e Fatoração LU\n",
    "\n",
    "<div class=\"chapter-thumb\">\n",
    "    <div class=\"chapter-oa\">\n",
    "        <h2>Objetivos de aprendizagem</h2>\n",
    "        <ul>\n",
    "        <li>Compreender os fundamentos dos métodos diretos para a resolução de sistemas lineares e sua relação com a fatoração de matrizes.; </li>\n",
    "\t    <li>Aplicar a fatoração LU como estratégia eficiente para resolver sistemas lineares;</li>\n",
    "\t    <li>Implementar algoritmos de fatoração LU e resolver sistemas computacionalmente;</li>\t    \n",
    "        <li>Analisar o condicionamento de matrizes e compreender seu impacto na estabilidade numérica das soluções computacionais;</li>\n",
    "        </ul>\n",
    "    </div>        \n",
    "    <div class=\"quote-box\">\n",
    "        <p><em>\"\"\n",
    "        </p></em>\n",
    "    </div>        \n",
    "</div>"
   ]
  },
  {
   "cell_type": "markdown",
   "metadata": {},
   "source": [
    "## Métodos diretos\n",
    "\n",
    "A resolução de sistemas lineares é uma das tarefas mais fundamentais da engenharia computacional, estando no cerne de aplicações que vão desde a análise estrutural até a simulação de escoamentos e processos térmicos. Um sistema linear é tipicamente representado na forma matricial $\\mathbf{A} \\mathbf{x} = \\mathbf{b}$, onde $\\mathbf{A}$ é uma matriz de coeficientes conhecida, $\\mathbf{b}$ é um vetor de termos independentes conhecido, e $\\mathbf{x}$ é o vetor de incógnitas a ser determinado. Para resolver esse tipo de problema, pode-se recorrer a métodos iterativos ou diretos. Os métodos diretos visam encontrar a solução exata (dentro dos limites da precisão numérica da máquina) por meio de um número finito de operações. Esses métodos são preferidos quando a matriz $\\mathbf{A}$ é de tamanho moderado e bem condicionada, pois permitem resolver o sistema com robustez e sem necessidade de aproximações sucessivas. \n",
    "\n",
    "### Fatoração de matrizes\n",
    "\n",
    "O conceito de fatoração em álgebra linear tem forte analogia com a fatoração algébrica aprendida ainda no ensino médio, como quando escrevemos $x^2 - 9$ como $(x - 3)(x + 3)$, ou $x^2 + 5x + 6$ como $(x + 2)(x + 3)$. Nessas expressões, decompor um polinômio em fatores mais simples permite resolver equações com mais facilidade. Da mesma forma, na álgebra matricial, a fatoração de uma matriz busca expressar uma matriz $\\mathbf{A}$ como o produto de duas ou mais matrizes com estrutura conhecida e propriedades computacionalmente vantajosas. Por exemplo, dada uma matriz\n",
    "\n",
    "$$\\mathbf{A} =\\begin{bmatrix}2 & 4 \\\\4 & 10\\end{bmatrix},$$\n",
    "\n",
    "podemos reescrevê-la como o produto\n",
    "\n",
    "$$\\mathbf{A} = \\mathbf{L} \\mathbf{U} =\\begin{bmatrix}1 & 0 \\\\2 & 1\\end{bmatrix} = \\begin{bmatrix} 2 & 4 \\\\ 0 & 2 \\end{bmatrix},$$\n",
    "\n",
    "onde $\\mathbf{L}$ é uma matriz triangular inferior com 1s na diagonal, e $\\mathbf{U}$ é uma matriz triangular superior. Essa fatoração, em particular, é chamada de _fatoração LU_, que generaliza a ideia da eliminação Gaussiana, de transformar a matriz densa associada ao sistema em uma matriz triangular superior, para facilitar a resolução. Essa técnica é especialmente poderosa e serve como base para variações mais sofisticadas, como a fatoração com pivotamento e a decomposição de Cholesky para matrizes simétricas positivas definidas. O quadro abaixo resume os principais esquemas de fatoração conhecidos e as condições de funcionamento.\n",
    "\n",
    "| Fatoração         | Forma da Decomposição                     | Condições / Observações                                                        |\n",
    "|-------------------|--------------------------------------------|---------------------------------------------------------------------------------|\n",
    "| LU (genérica)     | $\\mathbf{A}$ = $\\mathbf{LU}$                                 | A quadrada e não singular. Pode requerer pivotamento para estabilidade.         |\n",
    "| LU de Doolittle   | $\\mathbf{A}$ = $\\mathbf{LU}$, com $\\textrm{diag}(L) = 1$            | A quadrada. $\\mathbf{L}$ com 1s na diagonal; facilita implementação.                   |\n",
    "| LU de Crout       | $\\mathbf{A}$ = $\\mathbf{LU}$, com $\\textrm{diag}(U) = 1$            | A quadrada. $\\mathbf{U}$ com 1s na diagonal; alternativa ao Doolittle.                 |\n",
    "| LU com pivotamento| $\\mathbf{P}\\mathbf{A} = \\mathbf{LU}$ ou $\\mathbf{PAQ}$ = $\\mathbf{LU}$                  | Usa permutação $\\mathbf{P}$ e $\\mathbf{Q}$ para melhorar estabilidade numérica.                     |\n",
    "| Cholesky          | $\\mathbf{A}$ = $\\mathbf{LL}^T$                                | A simétrica, definida positiva. Muito eficiente; reduz pela metade o custo.     |\n",
    "| LDL$^T$             | $\\mathbf{A}$ = $\\mathbf{LDL}^T$                               | A simétrica. $\\mathbf{D}$ é diagonal; útil em substituição ao Cholesky quando $\\mathbf{A}$ não é positiva definida. |\n",
    "| QR                | $\\mathbf{A} = QR$                                 | $\\mathbf{Q}$ ortogonal, $\\mathbf{R}$ triangular superior. Muito usada em problemas de mínimos quadrados. |\n",
    "| Thomas            | $\\mathbf{A}$ = $\\mathbf{LU}$ otimizada                       | Para matrizes tridiagonais. Complexidade linear $\\mathcal{O}(n)$.                       |\n",
    "| LU blocada          | $\\mathbf{A}$ = $\\mathbf{LU}$, por blocos                     | Usado para matrizes muito grandes ou estruturadas em blocos.                    |\n",
    "| SVD               | $\\mathbf{A}$ = $\\mathbf{U\\Sigma V}^T$                               | Decomposição de valores singulares. Mais geral, usada em problemas mal-condicionados. \n",
    "\n",
    "Neste capítulo, exploraremos o processo de _fatoração LU de Doolittle_ cujo algoritmo busca resolver o sistema $\\mathbf{A}\\mathbf{x} = \\mathbf{b}$, em duas etapas principais. Ambas as etapas envolvem apenas substituições diretas — progressiva e regressiva — que são muito mais eficientes do ponto de vista computacional do que operar diretamente com $\\mathbf{A}$. Assim, a fatoração transforma o problema original em uma sequência de tarefas mais simples e rápidas de resolver, além de permitir reaproveitamento em casos com múltiplos vetores $\\mathbf{b}$. \n"
   ]
  },
  {
   "cell_type": "markdown",
   "metadata": {},
   "source": [
    "## Fatoração LU por substituição de recorrência\n",
    "\n",
    "Consideraremos que as matrizes triangulares inferiores $\\mathbf{L}$ sempre terão a sua diagonal principal formada por entradas iguais a 1.\n",
    "\n",
    "$${\\bf A} = \\begin{bmatrix}\n",
    "1 & 2 & 4\\\\\n",
    "3 & 8 & 14\\\\\n",
    "2 & 6 & 13\n",
    "\\end{bmatrix} = \\mathbf{L}\\mathbf{U}$$\n",
    "onde\n",
    "\n",
    "$${\\bf L} = \\begin{bmatrix}\n",
    "1 & 0 & 0\\\\\n",
    "L_{21} & 1 & 0\\\\\n",
    "L_{31} & L_{32} & 1\n",
    "\\end{bmatrix}\n",
    "\\quad \\text{e} \\quad\n",
    "{\\bf U} = \\begin{bmatrix}\n",
    "U_{11} & U_{12} & U_{13}\\\\\n",
    "0 & U_{22} & U_{23}\\\\\n",
    "0 & 0 & U_{33}\n",
    "\\end{bmatrix}\n",
    "$$\n",
    "\n",
    "Multiplicando $\\mathbf{L}\\mathbf{U}$ e definindo a resposta igual a $\\mathbf{A}$ temos:\n",
    "\n",
    "$$\\begin{bmatrix}\n",
    "U_{11} & U_{12} & U_{13}\\\\\n",
    "L_{21} U_{11} & L_{21} U_{12} + U_{22} & L_{21} U_{13} + U_{23}\\\\\n",
    "L_{31} U_{11} & L_{31} U_{12} + L_{32} U_{22} & L_{31} U_{13} + L_{32} U_{23} + U_{33}\n",
    "\\end{bmatrix} = \\begin{bmatrix}\n",
    "1 & 2 & 4\\\\\n",
    "3 & 8 & 14\\\\\n",
    "2 & 6 & 13\n",
    "\\end{bmatrix}\n",
    "$$\n",
    "\n",
    "Agora, através de substituição de recorrência, facilmente encontramos $\\mathbf{L}$ e $\\mathbf{U}$.\n",
    "\n",
    "$$\n",
    "{\\bf A} = \\begin{bmatrix}\n",
    "1 & 2 & 4\\\\\n",
    "3 & 8 & 14\\\\\n",
    "2 & 6 & 13\n",
    "\\end{bmatrix} = \\begin{bmatrix}\n",
    "1 & 0 & 0\\\\\n",
    "3 & 1 & 0\\\\\n",
    "2 & 1 & 1\n",
    "\\end{bmatrix} \\begin{bmatrix}\n",
    "1 & 2 & 4\\\\\n",
    "0 & 2 & 2\\\\\n",
    "0 & 0 & 3\n",
    "\\end{bmatrix}\n",
    "$$"
   ]
  },
  {
   "cell_type": "markdown",
   "metadata": {},
   "source": [
    "## Algoritmo da fatoração LU\n",
    "\n",
    "Uma vez decomposta a matriz $\\mathbf{A}$ no produto $\\mathbf{L}\\mathbf{U}$, podemos obter a solução $\\mathbf{x}$ de forma direta. O procedimento, equivalente à substituição de recorrência mencionada anteriormente, pode ser resumido como segue: dada $\\mathbf{A}$, encontre $\\mathbf{L}$ e $\\mathbf{U}$ tal que $\\mathbf{A} = \\mathbf{L}\\mathbf{U}$, ou seja, $(\\mathbf{L}\\mathbf{U})\\mathbf{x} = \\mathbf{b}$. Em outras palavras:\n",
    "\n",
    "- Defina $\\mathbf{y} = \\mathbf{U}\\mathbf{x}$.\n",
    "- Resolva o sistema triangular $\\mathbf{L}\\mathbf{y} = \\mathbf{b}$ para $\\mathbf{y}$.\n",
    "- Finalmente, resolva o sistema triangular $\\mathbf{U}\\mathbf{x} = \\mathbf{y}$ para $\\mathbf{x}$.\n",
    "\n",
    "O benefício desta abordagem é a resolução de somente sistemas triangulares. Por outro lado, o custo empregado é termos de resolver dois sistemas."
   ]
  },
  {
   "cell_type": "markdown",
   "metadata": {},
   "source": [
    "### Exemplo\n",
    "\n",
    "Encontre a solução $\\mathbf{x} = \\begin{bmatrix} x_1 \\\\ x_2 \\\\ x_3 \\end{bmatrix}$ do sistema \n",
    "\n",
    "$$\n",
    "\\begin{bmatrix} \n",
    "1 & 2 & 4\\\\ \n",
    "3 & 8 & 14\\\\ \n",
    "2 & 6 & 13 \n",
    "\\end{bmatrix} \n",
    "\\begin{bmatrix} \n",
    "x_1 \\\\ x_2 \\\\ x_3 \n",
    "\\end{bmatrix} \n",
    "= \n",
    "\\begin{bmatrix} \n",
    "3 \\\\ 13 \\\\ 4\n",
    "\\end{bmatrix}.\n",
    "$$"
   ]
  },
  {
   "cell_type": "markdown",
   "metadata": {},
   "source": [
    "- As matrizes $\\mathbf{L}$ e $\\mathbf{U}$ já foram obtidas anteriormente.\n",
    "\n",
    "$$\\mathbf{L} = \\begin{bmatrix}\n",
    "1 & 0 & 0\\\\\n",
    "3 & 1 & 0\\\\\n",
    "2 & 1 & 1\n",
    "\\end{bmatrix},\n",
    "\\quad \n",
    "\\mathbf{U} = \\begin{bmatrix}\n",
    "1 & 2 & 4\\\\\n",
    "0 & 2 & 2\\\\\n",
    "0 & 0 & 3\n",
    "\\end{bmatrix}$$\n",
    "\n",
    "- A próxima etapa é resolver $\\mathbf{L}\\mathbf{y} = \\mathbf{b}$, para o vetor $\\mathbf{y} = \\begin{bmatrix} y_1 \\\\ y_2 \\\\ y_3 \\end{bmatrix}$.\n",
    "\n",
    "$$\\mathbf{L}\\mathbf{y} = \\begin{bmatrix}\n",
    "1 & 0 & 0\\\\\n",
    "3 & 1 & 0\\\\\n",
    "2 & 1 & 1\n",
    "\\end{bmatrix}\n",
    "\\begin{bmatrix}\n",
    "y_1 \\\\ y_2 \\\\ y_3\n",
    "\\end{bmatrix} =\n",
    "\\begin{bmatrix}\n",
    "3 \\\\ 13 \\\\ 4\n",
    "\\end{bmatrix} = \\mathbf{b}$$\n",
    "\n",
    "Este sistema pode ser resolvido por substituição direta, obtendo $\\mathbf{y} = \\begin{bmatrix} 3 \\\\ 4 \\\\ -6 \\end{bmatrix}$.\n",
    "\n",
    "- Agora que encontramos $\\mathbf{y}$, concluímos o procedimento resolvendo $\\mathbf{U}\\mathbf{x} = \\mathbf{y}$ para $\\mathbf{x}$. Ou seja, resolvemos:\n",
    "\n",
    "$$\n",
    "\\mathbf{U}\\mathbf{x} = \\begin{bmatrix}\n",
    "1 & 2 & 4\\\\\n",
    "0 & 2 & 2\\\\\n",
    "0 & 0 & 3\n",
    "\\end{bmatrix}\n",
    "\\begin{bmatrix} x_1 \\\\ x_2 \\\\ x_3 \\end{bmatrix} = \n",
    "\\begin{bmatrix} 3 \\\\ 4 \\\\ -6 \\end{bmatrix}\n",
    "$$\n",
    "\n",
    "Realizando a substituição regressiva (baixo para cima; direita para esquerda), obtemos a solução do problema.\n",
    "\n",
    "$$\\mathbf{x} = \\begin{bmatrix} 3 \\\\ 4 \\\\ -2 \\end{bmatrix}$$"
   ]
  },
  {
   "cell_type": "markdown",
   "metadata": {},
   "source": [
    "### Implementação computacional\n",
    "\n",
    "Em implementações computacionais, é comum armazenar as matrizes $\\mathbf{L}$ e $\\mathbf{U}$ sobre a própria estrutura da matriz original, economizando memória: os elementos abaixo da diagonal representam $\\mathbf{L}$ (sem armazenar os 1s da diagonal), e os elementos da diagonal para cima representam $\\mathbf{U}$. Além disso, o custo computacional da fatoração LU é da ordem de $\\mathcal{O}(n^3)$ para matrizes densas, com $n$ sendo o número de variáveis, mas isso pode ser reduzido consideravelmente em matrizes esparsas ou com estrutura especial (como tridiagonais).\n",
    "\n",
    "Abaixo, temos uma implementação de uma fatoração LU sem pivoteamento."
   ]
  },
  {
   "cell_type": "code",
   "execution_count": 88,
   "metadata": {},
   "outputs": [],
   "source": [
    "import numpy as np \n",
    "\n",
    "def lu_nopivot(A):\n",
    "    '''\n",
    "    Realiza fatoração LU para a matriz A\n",
    "    \n",
    "    entrada: \n",
    "        A  -  matriz:  array (nxn) \n",
    "    \n",
    "    saida: \n",
    "        L,U  - matriz triangular inferior, superior : array (nxn)         \n",
    "    '''\n",
    "        \n",
    "    n = np.shape(A)[0] # dimensao\n",
    "    L = np.eye(n) # auxiliar \n",
    "    \n",
    "    for k in np.arange(n):\n",
    "        L[k+1:n,k] = A[k+1:n,k]/A[k,k]        \n",
    "        for l in np.arange(k+1,n):\n",
    "            A[l,:] = A[l,:] - np.dot(L[l,k],A[k,:])\n",
    "            \n",
    "    U = A\n",
    "    return (L,U)"
   ]
  },
  {
   "cell_type": "markdown",
   "metadata": {},
   "source": [
    "Vamos testar a implementação anterior para uma matriz de quarta ordem:\n",
    "\n",
    "$${\\bf A} =\n",
    "\\begin{bmatrix}\n",
    "4 & -2 & -3 &  6 \\\\  \n",
    "1 &  4 &  2 &  3 \\\\\n",
    "2 & -3 &  3 & -2 \\\\ \n",
    "1 &  5 &  3 &  4\n",
    "\\end{bmatrix}$$"
   ]
  },
  {
   "cell_type": "code",
   "execution_count": 3,
   "metadata": {},
   "outputs": [],
   "source": [
    "A = np.array([[ 4., -2., -3.,  6.],[ 1.,  4.,  2.,  3.],[ 2.,  -3.,  3., -2.],[ 1.,  5.,  3.,  4.]])\n",
    "\n",
    "L,U = lu_nopivot(A)"
   ]
  },
  {
   "cell_type": "code",
   "execution_count": 4,
   "metadata": {},
   "outputs": [
    {
     "data": {
      "text/plain": [
       "(array([[ 1.        ,  0.        ,  0.        ,  0.        ],\n",
       "        [ 0.25      ,  1.        ,  0.        ,  0.        ],\n",
       "        [ 0.5       , -0.44444444,  1.        ,  0.        ],\n",
       "        [ 0.25      ,  1.22222222,  0.06796117,  1.        ]]),\n",
       " array([[ 4.        , -2.        , -3.        ,  6.        ],\n",
       "        [ 0.        ,  4.5       ,  2.75      ,  1.5       ],\n",
       "        [ 0.        ,  0.        ,  5.72222222, -4.33333333],\n",
       "        [ 0.        ,  0.        ,  0.        ,  0.96116505]]))"
      ]
     },
     "execution_count": 4,
     "metadata": {},
     "output_type": "execute_result"
    }
   ],
   "source": [
    "L, U"
   ]
  },
  {
   "cell_type": "markdown",
   "metadata": {},
   "source": [
    "## Resolução de sistemas com `scipy.linalg`"
   ]
  },
  {
   "cell_type": "markdown",
   "metadata": {},
   "source": [
    "Métodos adequados para a resolução de sistemas lineares e realizar operações no escopo da Álgebra Linear são encontrados no submódulo `linalg` do `scipy`. Importamos essas funcionalidades com: \n",
    "\n",
    "```python\n",
    "from scipy import linalg\n",
    "```\n",
    "\n",
    "Vamos calcular a solução do sistema linear ${\\bf A}{\\bf x} = {\\bf b}$ com\n",
    "\n",
    "$${\\bf A} = \\begin{bmatrix}\n",
    "4   & -2  & -3   & 6   &  \\\\\n",
    "-6  & 7   & 6.5  & -6  &  \\\\\n",
    "1   & 7.5 & 6.25 & 5.5 &  \\\\\n",
    "-12 & 22  & 15.5 & -1 \n",
    "\\end{bmatrix},\n",
    "\\quad\n",
    "{\\bf b} = \\begin{bmatrix}\n",
    "12   \\\\\n",
    "-6.5 \\\\\n",
    "16   \\\\\n",
    "17 \n",
    "\\end{bmatrix}$$"
   ]
  },
  {
   "cell_type": "markdown",
   "metadata": {},
   "source": [
    "Vamos importar os módulos e escrever a matriz ${\\bf A}$."
   ]
  },
  {
   "cell_type": "code",
   "execution_count": 5,
   "metadata": {},
   "outputs": [
    {
     "name": "stdout",
     "output_type": "stream",
     "text": [
      "[[  4.    -2.    -3.     6.  ]\n",
      " [ -6.     7.     6.5   -6.  ]\n",
      " [  1.     7.5    6.25   5.5 ]\n",
      " [-12.    22.    15.5   -1.  ]]\n"
     ]
    }
   ],
   "source": [
    "import numpy as np\n",
    "from scipy import linalg\n",
    "\n",
    "A = np.array([[4,-2,-3,6],[-6,7,6.5,-6],[1,7.5,6.25,5.5],[-12,22,15.5,-1]])\n",
    "print(A)"
   ]
  },
  {
   "cell_type": "markdown",
   "metadata": {},
   "source": [
    "Agora, vamos escrever o vetor ${\\bf b}$."
   ]
  },
  {
   "cell_type": "code",
   "execution_count": 6,
   "metadata": {},
   "outputs": [
    {
     "name": "stdout",
     "output_type": "stream",
     "text": [
      "[12.  -6.5 16.  17. ]\n"
     ]
    }
   ],
   "source": [
    "b = np.array([12,-6.5,16,17])\n",
    "print(b)"
   ]
  },
  {
   "cell_type": "markdown",
   "metadata": {},
   "source": [
    "Podemos checar as dimensões com"
   ]
  },
  {
   "cell_type": "code",
   "execution_count": 7,
   "metadata": {},
   "outputs": [
    {
     "data": {
      "text/plain": [
       "(4, 4)"
      ]
     },
     "execution_count": 7,
     "metadata": {},
     "output_type": "execute_result"
    }
   ],
   "source": [
    "# dimensões de A\n",
    "A.shape"
   ]
  },
  {
   "cell_type": "code",
   "execution_count": 8,
   "metadata": {},
   "outputs": [
    {
     "data": {
      "text/plain": [
       "(4,)"
      ]
     },
     "execution_count": 8,
     "metadata": {},
     "output_type": "execute_result"
    }
   ],
   "source": [
    "# dimensão de b\n",
    "b.shape"
   ]
  },
  {
   "cell_type": "markdown",
   "metadata": {},
   "source": [
    "A solução do sistema pode ser obtida através do método `linalg.solve`."
   ]
  },
  {
   "cell_type": "code",
   "execution_count": 9,
   "metadata": {},
   "outputs": [
    {
     "name": "stdout",
     "output_type": "stream",
     "text": [
      "[ 2.   4.  -3.   0.5]\n"
     ]
    }
   ],
   "source": [
    "x = linalg.solve(A,b)\n",
    "print(x)"
   ]
  },
  {
   "cell_type": "markdown",
   "metadata": {},
   "source": [
    "Matematicamente, a solução do sistema anterior é dada por ${\\bf x} = {\\bf A}^{-1}{\\bf b}$. Podemos até invocar a matriz inversa aqui com `linalg.inv(A).dot(b)` e a solução é a mesma que no caso anterior."
   ]
  },
  {
   "cell_type": "code",
   "execution_count": 10,
   "metadata": {},
   "outputs": [
    {
     "name": "stdout",
     "output_type": "stream",
     "text": [
      "[ 2.   4.  -3.   0.5]\n"
     ]
    }
   ],
   "source": [
    "x2 = linalg.inv(A).dot(b)\n",
    "print(x2)"
   ]
  },
  {
   "cell_type": "markdown",
   "metadata": {},
   "source": [
    " Por outro lado, este método é ineficiente. Computacionalmente, a inversão de matrizes **não** é aconselhável. "
   ]
  },
  {
   "cell_type": "markdown",
   "metadata": {},
   "source": [
    "### Verificação da solução \n",
    "\n",
    "Podemos usar o fato de que ${\\bf A}{\\bf A}^{-1}{\\bf b} - {\\bf b} = {\\bf 0}$."
   ]
  },
  {
   "cell_type": "code",
   "execution_count": 11,
   "metadata": {},
   "outputs": [
    {
     "name": "stdout",
     "output_type": "stream",
     "text": [
      "[-2.48689958e-14  4.26325641e-14  3.55271368e-15  8.52651283e-14]\n"
     ]
    }
   ],
   "source": [
    "x3 = A.dot(linalg.inv(A).dot(b)) - b\n",
    "print(x3)"
   ]
  },
  {
   "cell_type": "markdown",
   "metadata": {},
   "source": [
    "Note que o vetor é próximo do vetor nulo, mas não identicamente nulo."
   ]
  },
  {
   "cell_type": "markdown",
   "metadata": {},
   "source": [
    "Podemos também computar a **norma do resíduo (erro)**: $||{\\bf r}|| = ||{\\bf b} - {\\bf A}{\\bf x}|| =  \\langle {\\bf b} - {\\bf A}{\\bf x}, {\\bf b} - {\\bf A}{\\bf x} \\rangle^{1/2}$"
   ]
  },
  {
   "cell_type": "code",
   "execution_count": 12,
   "metadata": {},
   "outputs": [
    {
     "data": {
      "text/plain": [
       "5.0242958677880805e-15"
      ]
     },
     "execution_count": 12,
     "metadata": {},
     "output_type": "execute_result"
    }
   ],
   "source": [
    "r = b - A.dot(x) \n",
    "np.sqrt(r.dot(r))"
   ]
  },
  {
   "cell_type": "markdown",
   "metadata": {},
   "source": [
    "Como a norma do resíduo é próxima de zero, a solução do sistema linear é assumida como correta."
   ]
  },
  {
   "cell_type": "markdown",
   "metadata": {},
   "source": [
    "## Eliminação Gaussiana\n",
    "\n",
    "A Eliminação Gaussiana (EG) é um algoritmo utilizado para resolver sistemas de equações lineares ao reduzir a matriz plena associada do sistema a uma matriz triangular. Este processo também é chamado de _escalonamento_. Abaixo, usaremos uma matriz genérica 3x3 para exemplificação.\n",
    "\n",
    "Os passos para a EG são os seguintes:"
   ]
  },
  {
   "cell_type": "markdown",
   "metadata": {},
   "source": [
    "1. Escrever o sistema linear na forma de _matriz estendida_ usando os coeficientes das variáveis como elementos da matriz e o vetor independente como sendo a última coluna;\n",
    "\n",
    "$$\\begin{array}{c}a_{11}x_1+a_{12}x_2+a_{13}x_3 = b_1 \\quad(L_1)\\\\\n",
    "a_{21}x_1+a_{22}x_2+a_{23}x_3 = b_2 \\quad(L_2)\\\\\n",
    "a_{31}x_1+a_{32}x_2+a_{33}x_3 = b_3 \\quad(L_3)\\\\\n",
    "\\downarrow\\\\\n",
    "\\left[\n",
    "\\begin{array}{ccc|c}\n",
    "\ta_{11}&a_{12}&a_{13}&b_{1}\\\\\n",
    "\ta_{21}&a_{22}&a_{23}&b_{2}\\\\\n",
    "\ta_{31}&a_{32}&a_{33}&b_{3}\n",
    "\\end{array}\n",
    "\\right]\n",
    "\\end{array}$$"
   ]
  },
  {
   "cell_type": "markdown",
   "metadata": {},
   "source": [
    "2. Realizar operações elementares de combinação linear e permutação entre linhas;\n",
    "\n",
    "- Multiplicação por escalar:    \n",
    "$$\n",
    "\\begin{array}{c}\n",
    "L_2 \\leftarrow L_2 .w\\ \\Rightarrow\\ \n",
    "\\begin{bmatrix}\n",
    "a_{11}&a_{12}\\\\\n",
    "a_{21}&a_{22}\\\\\n",
    "\\end{bmatrix} \\rightarrow\n",
    "\\begin{bmatrix}\n",
    "a_{11}&a_{12}\\\\\n",
    "w.a_{21}&w.a_{22}\\\\\n",
    "\\end{bmatrix}\n",
    "\\end{array}\n",
    "$$\n",
    "\n",
    "- Combinação linear:    \n",
    "$$\n",
    "\\begin{array}{c}\n",
    "L_2 \\leftarrow L_2 - L_1.w\\ \\Rightarrow\\ \n",
    "\\begin{bmatrix}\n",
    "a_{11}&a_{12}\\\\\n",
    "a_{21}&a_{22}\\\\\n",
    "\\end{bmatrix} \\rightarrow\n",
    "\\begin{bmatrix}\n",
    "a_{11}&a_{12}\\\\\n",
    "a_{21}-a_{11}.w&a_{22}-a_{12}.w\\\\\n",
    "\\end{bmatrix}\n",
    "\\end{array}\n",
    "$$\n",
    "\n",
    "- Permutação:\n",
    "    \n",
    "$$\n",
    "\\begin{array}{c}\n",
    "L_2 \\leftarrow L_1\\ e\\ L_1\\leftarrow L_2\\ \\Rightarrow\\ \n",
    "\\begin{bmatrix}\n",
    "a_{11}&a_{12}\\\\\n",
    "a_{21}&a_{22}\\\\\n",
    "\\end{bmatrix} \\rightarrow\n",
    "\\begin{bmatrix}\n",
    "a_{21}&a_{22}\\\\\n",
    "a_{11}&a_{12}\\\\\n",
    "\\end{bmatrix}\n",
    "\\end{array}\n",
    "$$"
   ]
  },
  {
   "cell_type": "markdown",
   "metadata": {},
   "source": [
    "3. Anular todos os elementos na porção triangular inferior da matriz original, isto é, todas as entradas exatamente abaixo das entradas dispostas na diagonal principal;\n",
    "\n",
    "$$\\left[\n",
    "\\begin{array}{ccc|c}\n",
    "\ta_{11}&a_{12}&a_{13}&b_{1}\\\\\n",
    "\ta_{21}&a_{22}&a_{23}&b_{2}\\\\\n",
    "\ta_{31}&a_{32}&a_{33}&b_{3}\n",
    "\\end{array}\n",
    "\\right]\\ \\rightarrow\\ \n",
    "\\left[\n",
    "\\begin{array}{ccc|c}\n",
    "\ta_{11}^{(k)}&a_{12}^{(k)}&a_{13}^{(k)}&b_{1}^{(k)}\\\\\n",
    "\t0&a_{22}^{(k)}&a_{23}^{(k)}&b_{2}^{(k)}\\\\\n",
    "\t0&0&a_{33}^{(k)}&b_{3}^{(k)}\n",
    "\\end{array}\n",
    "\\right]$$"
   ]
  },
  {
   "cell_type": "markdown",
   "metadata": {},
   "source": [
    "4. A partir da forma triangular, realizar a substituição regressiva.\n",
    "\n",
    "$$\n",
    "\\left[\n",
    "\\begin{array}{ccc|c}\n",
    "\ta_{11}^{(k)}&a_{12}^{(k)}&a_{13}^{(k)}&b_{1}^{(k)}\\\\\n",
    "\t0&a_{22}^{(k)}&a_{23}^{(k)}&b_{2}^{(k)}\\\\\n",
    "\t0&0&a_{33}^{(k)}&b_{3}^{(k)}\n",
    "\\end{array}\n",
    "\\right]\\ \\rightarrow\\ \n",
    "\\left\\{\n",
    "\\begin{array}{c}\n",
    "x_3 = \\frac{b_3^{(k)}}{a_{33}^{(k)}},\\ a_{33}^{(k)} \\neq 0\\\\\\\\\n",
    "x_2 = \\frac{b_2^{(k)}-a_{23}^{(k)}.x_3}{a_{22}^{(k)}},\\ a_{22}^{(k)} \\neq 0\\\\\\\\\n",
    "x_1 = \\frac{b_1^{(k)}-a_{12}^{(k)}.x_2-a_{13}^{(k)}.x_3}{a_{11}^{(k)}},\\ a_{11}^{(k)} \\neq 0\\\\\\\\\n",
    "\\end{array}\n",
    "\\right.\n",
    "$$"
   ]
  },
  {
   "cell_type": "markdown",
   "metadata": {},
   "source": [
    "Vejamos um exemplo numérico de como funciona a Eliminação Gaussiana."
   ]
  },
  {
   "cell_type": "code",
   "execution_count": 13,
   "metadata": {},
   "outputs": [
    {
     "name": "stdout",
     "output_type": "stream",
     "text": [
      "[[ 1.   1.5 -2. ]\n",
      " [ 2.   1.  -1. ]\n",
      " [ 3.  -1.   2. ]]\n"
     ]
    }
   ],
   "source": [
    "# matriz\n",
    "M = np.array([[1.0,1.5,-2.0],[2.0,1.0,-1.0],[3.0,-1.0,2.0]])\n",
    "print(M)"
   ]
  },
  {
   "cell_type": "code",
   "execution_count": 14,
   "metadata": {},
   "outputs": [
    {
     "name": "stdout",
     "output_type": "stream",
     "text": [
      "[[ 1.   1.5 -2. ]\n",
      " [ 0.  -2.   3. ]\n",
      " [ 3.  -1.   2. ]]\n"
     ]
    }
   ],
   "source": [
    "# zeramento da segunda linha \n",
    "m1 = M[1,0]/M[0,0]\n",
    "M[1,:] += - m1*M[0,:]\n",
    "print(M)"
   ]
  },
  {
   "cell_type": "code",
   "execution_count": 15,
   "metadata": {},
   "outputs": [
    {
     "name": "stdout",
     "output_type": "stream",
     "text": [
      "[[ 1.   1.5 -2. ]\n",
      " [ 0.  -2.   3. ]\n",
      " [ 0.  -5.5  8. ]]\n"
     ]
    }
   ],
   "source": [
    "# zeramento da terceira linha\n",
    "m2 = M[2,0]/M[0,0]\n",
    "M[2,:] += - m2*M[0,:]\n",
    "print(M)"
   ]
  },
  {
   "cell_type": "code",
   "execution_count": 16,
   "metadata": {},
   "outputs": [
    {
     "name": "stdout",
     "output_type": "stream",
     "text": [
      "[[ 1.    1.5  -2.  ]\n",
      " [ 0.   -2.    3.  ]\n",
      " [ 0.    0.   -0.25]]\n"
     ]
    }
   ],
   "source": [
    "# eliminação\n",
    "M = np.array([[1.0,1.5,-2.0],[2.0,1.0,-1.0],[3.0,-1.0,2.0]])\n",
    "b = np.array([-2,3,1])\n",
    "\n",
    "m,n = M.shape\n",
    "for i in range(m):\n",
    "    for j in range(i+1,n):\n",
    "        pivo = M[j,i]/M[i,i]                        \n",
    "        for k in range(m):\n",
    "            M[j,k] += -pivo*M[i,k]\n",
    "\n",
    "print(M)            "
   ]
  },
  {
   "cell_type": "code",
   "execution_count": 17,
   "metadata": {},
   "outputs": [],
   "source": [
    "# função simples para eliminação\n",
    "def eliminacao(M):\n",
    "    m,n = M.shape\n",
    "    for i in range(m):\n",
    "        for j in range(i+1,n):\n",
    "            pivo = M[j,i]/M[i,i]                        \n",
    "            for k in range(m):\n",
    "                M[j,k] += -pivo*M[i,k]\n",
    "    return M"
   ]
  },
  {
   "cell_type": "code",
   "execution_count": 18,
   "metadata": {},
   "outputs": [
    {
     "name": "stdout",
     "output_type": "stream",
     "text": [
      "[[ 2.17290028e-01  1.53718524e-01  3.21754779e-01  3.57012363e-01\n",
      "   6.51351085e-01]\n",
      " [ 2.77555756e-17  1.05316462e-01  3.77045560e-01 -2.32541306e-01\n",
      "  -6.30255349e-01]\n",
      " [-3.41761440e-17  0.00000000e+00 -3.75397868e-01 -3.83992779e-01\n",
      "  -7.23027923e-01]\n",
      " [ 3.90760482e-17  0.00000000e+00 -2.77555756e-17 -7.46062713e-01\n",
      "  -1.94455006e+00]\n",
      " [-1.00315604e-16  0.00000000e+00  5.47203352e-17  0.00000000e+00\n",
      "  -7.23561110e-01]]\n"
     ]
    }
   ],
   "source": [
    "# matriz randômica 5x5\n",
    "M2 = np.random.rand(5,5)\n",
    "print(eliminacao(M2))"
   ]
  },
  {
   "cell_type": "markdown",
   "metadata": {},
   "source": [
    "## Condicionamento de matrizes\n",
    "\n",
    "O condicionamento de uma matriz está relacionado à sensibilidade da solução de um sistema linear $\\mathbf{A}\\mathbf{x} = \\mathbf{b}$ a pequenas perturbações nos dados, sejam elas no vetor $\\mathbf{b}$ ou nos coeficientes da própria matriz $\\mathbf{A}$. Uma matriz é considerada *bem condicionada* quando pequenas variações em $\\mathbf{b}$ produzem pequenas variações na solução $\\mathbf{x}$; caso contrário, diz-se que a matriz é *mal condicionada*, o que compromete a estabilidade numérica e a confiabilidade da solução computacional. \n",
    "\n",
    "O número de condição da matriz, denotado por $\\kappa(\\mathbf{A})$, é uma medida quantitativa desse comportamento, sendo definido, por exemplo, como\n",
    "\n",
    "$$\\kappa(\\mathbf{A}) = \\|\\mathbf{A}\\| \\cdot \\|\\mathbf{A}^{-1}\\|$$\n",
    "\n",
    "para uma dada norma. Quanto maior esse número, pior o condicionamento. Em problemas de engenharia e ciências aplicadas, identificar o condicionamento da matriz é fundamental para avaliar a precisão da solução e escolher algoritmos adequados, como métodos com pivotamento ou regularizações."
   ]
  },
  {
   "cell_type": "markdown",
   "metadata": {},
   "source": [
    "Vejamos como pequenas \"perturbações\" em matrizes podem provocar mudanças drásticas nas soluções de sistemas. Isto ocorre quando temos um problema *mal condicionado*."
   ]
  },
  {
   "cell_type": "code",
   "execution_count": 19,
   "metadata": {},
   "outputs": [
    {
     "name": "stdout",
     "output_type": "stream",
     "text": [
      "matriz\n",
      "[[1.  2. ]\n",
      " [1.1 2. ]]\n",
      "vetor\n",
      "[10.  10.4]\n"
     ]
    }
   ],
   "source": [
    "A1 = np.array([[1,2],[1.1,2]])\n",
    "b1 = np.array([10,10.4])\n",
    "print('matriz')\n",
    "print(A1)\n",
    "print('vetor')\n",
    "print(b1)"
   ]
  },
  {
   "cell_type": "code",
   "execution_count": 20,
   "metadata": {},
   "outputs": [
    {
     "name": "stdout",
     "output_type": "stream",
     "text": [
      "[4. 3.]\n"
     ]
    }
   ],
   "source": [
    "# solução do sistema A1x1 = b1\n",
    "x1 = linalg.solve(A1,b1)\n",
    "print(x1)"
   ]
  },
  {
   "cell_type": "code",
   "execution_count": 21,
   "metadata": {},
   "outputs": [
    {
     "name": "stdout",
     "output_type": "stream",
     "text": [
      "matriz\n",
      "[[1.    2.   ]\n",
      " [1.055 2.   ]]\n",
      "vetor\n",
      "[10.  10.4]\n"
     ]
    }
   ],
   "source": [
    "d = 0.045\n",
    "A2 = np.array([[1,2],[1.1-d,2]])\n",
    "b2 = np.array([10,10.4])\n",
    "print('matriz')\n",
    "print(A2)\n",
    "print('vetor')\n",
    "print(b2)"
   ]
  },
  {
   "cell_type": "code",
   "execution_count": 22,
   "metadata": {},
   "outputs": [
    {
     "name": "stdout",
     "output_type": "stream",
     "text": [
      "[7.27272727 1.36363636]\n"
     ]
    }
   ],
   "source": [
    "# solução do sistema perturbado A2x1 = b2\n",
    "x2 = linalg.solve(A2,b2)\n",
    "print(x2)"
   ]
  },
  {
   "cell_type": "markdown",
   "metadata": {},
   "source": [
    "A solução muda drasticamente aqui! Isto se deve à quase dependência linear em que a matriz se encontra. Ou seja, $\\det({\\bf A}_2) \\approx 0$."
   ]
  },
  {
   "cell_type": "code",
   "execution_count": 23,
   "metadata": {},
   "outputs": [
    {
     "name": "stdout",
     "output_type": "stream",
     "text": [
      "-0.20000000000000018 -0.11000000000000032\n"
     ]
    }
   ],
   "source": [
    "print(linalg.det(A1),linalg.det(A2))"
   ]
  },
  {
   "cell_type": "code",
   "execution_count": 24,
   "metadata": {},
   "outputs": [
    {
     "data": {
      "text/plain": [
       "169.2838804582743"
      ]
     },
     "execution_count": 24,
     "metadata": {},
     "output_type": "execute_result"
    }
   ],
   "source": [
    "linalg.norm(A)*linalg.norm(linalg.inv(A))"
   ]
  },
  {
   "cell_type": "markdown",
   "metadata": {},
   "source": [
    "## Método de Gauss-Jordan\n",
    "\n",
    "O método de Gauss-Jordan é uma variação da EG, em que não apenas as entradas da porção inferior da matriz plena do sistema são anuladas, mas também as entradas da porção superior, resultando em uma matriz diagonal. \n",
    "\n",
    "Além disso, todas as linhas são normalizadas através da sua divisão pelo respectivo elemento pivô. Por exemplo, $a_{11}$ é o elemento pivô da primeira equação, $a_{22}$ da segunda, e assim por diante). A partir daí, a obtenção dos valores das variáveis é imediata. \n",
    "\n",
    "O método é melhor ilustrado no seguinte exemplo."
   ]
  },
  {
   "cell_type": "code",
   "execution_count": 25,
   "metadata": {},
   "outputs": [
    {
     "name": "stdout",
     "output_type": "stream",
     "text": [
      "[[  3.    -0.1   -0.2    7.85]\n",
      " [  0.1    7.    -0.3  -19.3 ]\n",
      " [  0.3   -0.2   10.    71.4 ]]\n"
     ]
    }
   ],
   "source": [
    "# Matriz aumentada\n",
    "AB = np.array([[3. , -0.1, -0.2, 7.85], [0.1, 7., -0.3, -19.3], [0.3, -0.2, 10., 71.4]])\n",
    "print(AB)"
   ]
  },
  {
   "cell_type": "code",
   "execution_count": 26,
   "metadata": {},
   "outputs": [
    {
     "name": "stdout",
     "output_type": "stream",
     "text": [
      "[[ 1.00000000e+00 -3.33333333e-02 -6.66666667e-02  2.61666667e+00]\n",
      " [ 1.00000000e-01  7.00000000e+00 -3.00000000e-01 -1.93000000e+01]\n",
      " [ 3.00000000e-01 -2.00000000e-01  1.00000000e+01  7.14000000e+01]]\n"
     ]
    }
   ],
   "source": [
    "# Normalização da 1a. linha\n",
    "AB[0,:] /= AB[0,0] # L1 <- L1/a11\n",
    "print(AB)"
   ]
  },
  {
   "cell_type": "code",
   "execution_count": 27,
   "metadata": {},
   "outputs": [
    {
     "name": "stdout",
     "output_type": "stream",
     "text": [
      "[[ 1.00000000e+00 -3.33333333e-02 -6.66666667e-02  2.61666667e+00]\n",
      " [ 0.00000000e+00  7.00333333e+00 -2.93333333e-01 -1.95616667e+01]\n",
      " [ 0.00000000e+00 -1.90000000e-01  1.00200000e+01  7.06150000e+01]]\n"
     ]
    }
   ],
   "source": [
    "# Eliminação de x1 da 2a. e 3a. linhas\n",
    "m1 = AB[1,0]\n",
    "AB[1,:] -= m1*AB[0,:] # L2 <- L2 - m1*L1\n",
    "m2 = AB[2,0]\n",
    "AB[2,:] -= m2*AB[0,:] # L3 <- L3 - m2*L1\n",
    "print(AB)"
   ]
  },
  {
   "cell_type": "code",
   "execution_count": 28,
   "metadata": {},
   "outputs": [
    {
     "name": "stdout",
     "output_type": "stream",
     "text": [
      "[[ 1.00000000e+00 -3.33333333e-02 -6.66666667e-02  2.61666667e+00]\n",
      " [ 0.00000000e+00  1.00000000e+00 -4.18848168e-02 -2.79319372e+00]\n",
      " [ 0.00000000e+00 -1.90000000e-01  1.00200000e+01  7.06150000e+01]]\n"
     ]
    }
   ],
   "source": [
    "# Normalização da 2a. linha\n",
    "AB[1,:] /= AB[1,1] # L2 <- L2/a22\n",
    "print(AB)"
   ]
  },
  {
   "cell_type": "code",
   "execution_count": 29,
   "metadata": {},
   "outputs": [
    {
     "name": "stdout",
     "output_type": "stream",
     "text": [
      "[[ 1.00000000e+00  0.00000000e+00 -6.80628272e-02  2.52356021e+00]\n",
      " [ 0.00000000e+00  1.00000000e+00 -4.18848168e-02 -2.79319372e+00]\n",
      " [ 0.00000000e+00  0.00000000e+00  1.00120419e+01  7.00842932e+01]]\n"
     ]
    }
   ],
   "source": [
    "# Eliminação de x2 da 1a. e 3a. linhas\n",
    "m3 = AB[0,1]\n",
    "AB[0,:] -= m3*AB[1,:] # L1 <- L1 - m3*L2  \n",
    "m4 = AB[2,1]\n",
    "AB[2,:] -= m4*AB[1,:] # L3 <- L3 - m4*L2 \n",
    "print(AB)"
   ]
  },
  {
   "cell_type": "code",
   "execution_count": 30,
   "metadata": {},
   "outputs": [
    {
     "name": "stdout",
     "output_type": "stream",
     "text": [
      "[[ 1.          0.         -0.06806283  2.52356021]\n",
      " [ 0.          1.         -0.04188482 -2.79319372]\n",
      " [ 0.          0.          1.          7.        ]]\n"
     ]
    }
   ],
   "source": [
    "# Normalização da 3a. linha\n",
    "AB[2,:] /= AB[2,2] # L3 <- L3/a33\n",
    "print(AB)"
   ]
  },
  {
   "cell_type": "code",
   "execution_count": 31,
   "metadata": {},
   "outputs": [
    {
     "name": "stdout",
     "output_type": "stream",
     "text": [
      "[[ 1.   0.   0.   3. ]\n",
      " [ 0.   1.   0.  -2.5]\n",
      " [ 0.   0.   1.   7. ]]\n"
     ]
    }
   ],
   "source": [
    "# Eliminação de x3 da 1a. e 2a. linhas\n",
    "m5 = AB[0,2]\n",
    "AB[0,:] -= m5*AB[2,:] # L1 <- L1 - m5*L3\n",
    "m6 = AB[1,2]\n",
    "AB[1,:] -= m6*AB[2,:] # L2 <- L2 - m5*L3\n",
    "print(AB)"
   ]
  },
  {
   "cell_type": "markdown",
   "metadata": {},
   "source": [
    "Do último resultado, vemos que a matriz identidade é obtida, apontando para o vetor solução $[3 \\ \\ -2.5 \\ \\ 7]^T$."
   ]
  }
 ],
 "metadata": {
  "kernelspec": {
   "display_name": "Python 3 (ipykernel)",
   "language": "python",
   "name": "python3"
  },
  "language_info": {
   "codemirror_mode": {
    "name": "ipython",
    "version": 3
   },
   "file_extension": ".py",
   "mimetype": "text/x-python",
   "name": "python",
   "nbconvert_exporter": "python",
   "pygments_lexer": "ipython3",
   "version": "3.9.16"
  }
 },
 "nbformat": 4,
 "nbformat_minor": 4
}