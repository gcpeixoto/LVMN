{
 "cells": [
  {
   "cell_type": "markdown",
   "metadata": {},
   "source": [
    "# Estabilidade Numérica para o Método de Euler\n",
    "\n",
    "A seguir, aplicaremos um resultado derivado do contexto da estabilidade teórica do PVI ao método de Euler e estudar alguns aspectos de sua estabilidade numérica.\n",
    "\n",
    "Definamos uma solução numérica $\\{z_n\\}$ tal que \n",
    "\n",
    "$$z_{n+1} = z_n + h f(t_n,z_n), \\quad n = 0,1,\\ldots,N(h)-1, \\qquad z_0 = y_0 + \\epsilon.$$\n",
    "\n",
    "De modo análogo ao que sabemos para o PVI, usamos uma condição inicial perturbada para verificar que $\\{z_n\\}$ comporta-se como uma segunda solução $\\{ y_n \\}$ à medida que $h \\to 0$. \n",
    "\n",
    "Tomemos o erro $e_n = z_n - y_n, \\quad n \\geq 0$. Então, $e_0 = \\epsilon$. Subtraindo $y_{n+1} = y_n + h f(t_n,y_n)$ da anterior, obtemos\n",
    "\n",
    "$$e_{n+1} = e_n + h [ f(t_n,z_n) - f(t_n,y_n).$$\n",
    "\n",
    "Isto tem exatamente o mesmo formato que o erro total para o método de Euler considerando nulo o erro de truncamento. A partir do teorema do limite do erro, podemos concluir que (consultar demonstração): \n",
    "\n",
    "$$\\max_{0 \\leq n \\leq N(h)} |z_n - y_n| \\leq e^{(b-t_0)K}|\\epsilon| \\leq \\kappa |\\epsilon|,$$\n",
    "\n",
    "para uma constante $\\kappa \\geq 0$. Vale relembrar que $K$ é a constante de Lipschitz. Este resultado diz-nos que, ressalvadas as condições teóricas do PVI, a estabilidade numérica do método é encontrada. \n",
    "\n",
    "## Notas sobre análise de estabilidade \n",
    "\n",
    "Consideremos o PVI\n",
    "\n",
    "$$\\begin{cases}\n",
    "y'(t) = -100y(t)\\\\\n",
    "y(0) = y_0\n",
    "\\end{cases}$$\n",
    "\n",
    "cuja solução analítica é $y(t) = y_0e^{-100t}$. Se $y_0 > 0$, a solução é positiva e decai rapidamente com $t \\to \\infty$. Se o método de Euler explícito for aplicado a este PVI, teremos \n",
    "\n",
    "$$w_{n+1} = (1 - 100h)w_n.$$\n",
    "\n",
    "Com um passo $h = 0.1$, a aproximação numérica $w_{n+1} = -9w_n$ cresce de acordo com $w_n = (-9)^n w_0$ e oscilla com uma amplitude crescente sem, de fato, aproximar a solução verdadeira. Ao se reduzir o passo para $h = 0.001$, a solução numérica transforma-se para  $w_{n+1} = 0.9w_n$, de modo que $w_n = 0.9^n w_0$ significa um decaimento suave.\n",
    "\n",
    "Reutilizemos nosso código do método de Euler para realizar este teste numérico."
   ]
  },
  {
   "cell_type": "code",
   "execution_count": 1,
   "metadata": {},
   "outputs": [],
   "source": [
    "from numpy import *\n",
    "\n",
    "def euler_expl(t0,tf,y0,h,fun):\n",
    "    \"\"\"\n",
    "    Resolve o PVI y' = f(t,y), t0 <= t <= tf, y(t0) = y0\n",
    "    com passo h usando o metodo de Euler explicito. \n",
    "    \n",
    "    Entrada: \n",
    "        t0  - tempo inicial\n",
    "        tf  - tempo final \n",
    "        y0  - condicao inicial \n",
    "        h   - passo \n",
    "        fun - funcao f(t,y) (anonima)\n",
    "        \n",
    "    Saida:\n",
    "        t   - nos da malha numerica \n",
    "        y   - solucao aproximada\n",
    "    \"\"\"\n",
    "    \n",
    "    n = round((tf - t0)/h + 1)\n",
    "    t = linspace(t0,t0+(n-1)*h,n)\n",
    "    y = linspace(t0,t0+(n-1)*h,n)\n",
    "    y = zeros((n,))\n",
    "    \n",
    "    y[0] = y0\n",
    "\n",
    "    for i in range(1,n):\n",
    "        y[i] = y[i-1] + h*f(t[i-1],y[i-1])\n",
    "\n",
    "    return (t,y)"
   ]
  },
  {
   "cell_type": "code",
   "execution_count": 2,
   "metadata": {},
   "outputs": [
    {
     "data": {
      "image/png": "[encoded data removed]",
      "text/plain": [
       "<Figure size 432x288 with 2 Axes>"
      ]
     },
     "metadata": {
      "needs_background": "light"
     },
     "output_type": "display_data"
    }
   ],
   "source": [
    "import matplotlib.pyplot as plt\n",
    "f = lambda t,y: -100*y\n",
    "\n",
    "# h = 0.1\n",
    "plt.subplot(121)\n",
    "for y0 in [0.5,1,2,5]:\n",
    "    (t,ynum) = euler_expl(0,2,y0,0.1,f)    \n",
    "    plt.plot(t,ynum)\n",
    "    plt.title('$h=0.1$')\n",
    "\n",
    "# h = 0.001\n",
    "plt.subplot(122)    \n",
    "for y0 in [0.5,1,2,5]:\n",
    "    (t,ynum) = euler_expl(0,2,y0,0.001,f)    \n",
    "    plt.plot(t,ynum)\n",
    "    plt.title('$h=0.001$')\n",
    "\n"
   ]
  },
  {
   "cell_type": "markdown",
   "metadata": {},
   "source": [
    "**Exercício:** Repita o mesmo experimento numérico anterior para o PVI \n",
    "\n",
    "$$\\begin{cases}\n",
    "y'(t) = \\lambda(y - \\textrm{sen}(t)) + \\cos(t) \\\\\n",
    "y(\\pi/4) = 1/2\n",
    "\\end{cases}$$\n",
    "\n",
    "para $\\lambda = 2$ e $\\lambda = - 0.2$. Compare as soluções numéricas obtidas pelo método de Euler para $h = \\pi/10$ e $h = \\pi/20$ para cada valor de $\\lambda$.\n"
   ]
  },
  {
   "cell_type": "markdown",
   "metadata": {},
   "source": [
    "### Região de estabilidade \n",
    "\n",
    "Considere o PVI mais geral \n",
    "\n",
    "$$\\begin{cases}\n",
    "y'(t) = \\lambda y(t)\\\\\n",
    "y(0) = y_0\n",
    "\\end{cases},$$\n",
    "\n",
    "em que $\\lambda \\in \\mathbb{C}$. A EDO teste é estável, i.e. a taxa de crescimento da perturbação é limitada quando $\\Re\\{\\lambda\\} = \\alpha < 0$. Neste, a solução numérica pelo método de Euler explícito corresponde ao processo\n",
    "\n",
    "$$w_{n+1} = (1 + h\\lambda)w_n$$\n",
    "\n",
    "e a solução numérica será estável se, e somente se, o _fator de amplificação_ for limitado por 1, ou seja, \n",
    "\n",
    "$$|1 + h\\lambda| \\leq 1.$$\n",
    "\n",
    "Assim, diz-se que o método de Euler será **estável** para esta EDO teste para valores de $h$ que satisfizerem a condição acima (para $\\lambda$ real e negativo, $h \\leq -2/\\lambda$). O conjunto \n",
    "\n",
    "$$\\mathcal{S} = \\{ h \\lambda \\in \\mathbb{C}; |1 + h\\lambda| \\leq 1 \\}$$\n",
    "\n",
    "é chamado de _região de estabilidade_ para o método de Euler e trata-se de um disco de raio unitário centrado em $(-1,0)$ no plano de Argand-Gauss. "
   ]
  }
 ],
 "metadata": {
  "celltoolbar": "Edit Metadata",
  "ipub": {
   "language": "portuguese",
   "listcode": true,
   "listfigures": true,
   "listtables": false,
   "titlepage": {
    "author": "Prof. Dr. Gustavo Oliveira",
    "date": "",
    "institution": [
     "Universidade Federal da Paraíba"
    ],
    "tagline": "Aula 4",
    "title": "Soluções Numéricas de EDOs."
   },
   "toc": true
  },
  "kernelspec": {
   "display_name": "Python 3",
   "language": "python",
   "name": "python3"
  },
  "language_info": {
   "codemirror_mode": {
    "name": "ipython",
    "version": 3
   },
   "file_extension": ".py",
   "mimetype": "text/x-python",
   "name": "python",
   "nbconvert_exporter": "python",
   "pygments_lexer": "ipython3",
   "version": "3.8.2"
  }
 },
 "nbformat": 4,
 "nbformat_minor": 4
}