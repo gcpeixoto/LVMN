{
 "cells": [
  {
   "attachments": {},
   "cell_type": "markdown",
   "metadata": {},
   "source": [
    "# Método de Euler Implícito\n",
    "\n",
    "A forma do _Método de Euler Implícito_ (MEI) é similar àquela do MEE, exceto por uma característica distintiva. Em vez de a inclinação utilizada para avanço ser tomada em $t_i$, ela é tomada em $t_{i+1}$. Isto é, o processo numérico avança com a estimativa $f(t_{i+1},y_{i+1})$ e não $f(t_i,y_i)$. O fato de usar esta inclinação ainda desconhecida é a razão de o método ser denominado \"implícito\". O esquema numérico resultante é o processo iterativo: \n",
    "\n",
    "\\begin{align*}\n",
    "w_0 &= \\alpha \\\\\n",
    "w_{i+1} &= w_i + h f(t_{i+1},w_{i+1}) \\ \\ i = 0,1,\\dots,N-1.\n",
    "\\end{align*}\n",
    "\n",
    "Note, entretanto, que $w_{i+1}$ aparece não apenas no lado esquerdo, mas também no lado direito da equaçõe. Esta incógnita nem sempre é obtenível de modo explícito, isto é, por isolamento. Quando este é o caso, $f$ é linear ou uma função simples, mas, em geral, $f$ é não-linear e dependente do valor futuro $w_{i+1}$.\n",
    "\n",
    "## Código preditor/corretor\n"
   ]
  },
  {
   "cell_type": "code",
   "execution_count": 1,
   "metadata": {},
   "outputs": [],
   "source": [
    "import matplotlib.pyplot as plt"
   ]
  },
  {
   "cell_type": "code",
   "execution_count": 2,
   "metadata": {},
   "outputs": [],
   "source": [
    "# MEI: preditor/corretor\n",
    "\n",
    "def euler_impl(t0,tf,y0,h,f,tol):\n",
    "    \n",
    "    n = round((tf - t0)/h) + 1\n",
    "    t = linspace(t0,t0+(n-1)*h,n)\n",
    "    y = zeros(n)\n",
    "    y[0] = y0\n",
    "    \n",
    "    i = 1\n",
    "    # iteracoes \n",
    "    while i < n:\n",
    "        \n",
    "        # preditor (MEE)\n",
    "        yf = y[i-1] + h*f(t[i-1],y[i-1])\n",
    "        \n",
    "        # iteracoes internas (maximo 10)\n",
    "        count = 0\n",
    "        diff = 1.0\n",
    "        while diff > tol and count < 10:\n",
    "            \n",
    "            # corretor (MEI)\n",
    "            yf2 = y[i-1] + h*f(t[i],yf)\n",
    "            \n",
    "            diff = abs(yf2-yf)\n",
    "            yf = yf2\n",
    "            count += 1\n",
    "        \n",
    "        if count >= 10:\n",
    "            print('Nao convergindo apos 10 passos em t = {0:f}'.format(t[i]))\n",
    "        \n",
    "        y[i] = yf2\n",
    "        i += 1\n",
    "    \n",
    "    return t,y"
   ]
  },
  {
   "cell_type": "code",
   "execution_count": 3,
   "metadata": {},
   "outputs": [],
   "source": [
    "from numpy import linspace, zeros\n",
    "\n",
    "def euler_expl(t0,tf,y0,h,fun):\n",
    "    \"\"\"\n",
    "    Resolve o PVI y' = f(t,y), t0 <= t <= tf, y(t0) = y0\n",
    "    com passo h usando o metodo de Euler explicito. \n",
    "    \n",
    "    Entrada: \n",
    "        t0  - tempo inicial\n",
    "        tf  - tempo final \n",
    "        y0  - condicao inicial \n",
    "        h   - passo \n",
    "        fun - funcao f(t,y) (anonima)\n",
    "        \n",
    "    Saida:\n",
    "        t   - nos da malha numerica \n",
    "        y   - solucao aproximada\n",
    "    \"\"\"\n",
    "    \n",
    "    n = round((tf - t0)/h) + 1\n",
    "    t = linspace(t0,t0+(n-1)*h,n)\n",
    "    y = linspace(t0,t0+(n-1)*h,n)\n",
    "    y = zeros((n,))\n",
    "    \n",
    "    y[0] = y0\n",
    "\n",
    "    for i in range(1,n):\n",
    "        y[i] = y[i-1] + h*f(t[i-1],y[i-1])\n",
    "\n",
    "    return (t,y)"
   ]
  },
  {
   "cell_type": "code",
   "execution_count": 4,
   "metadata": {},
   "outputs": [
    {
     "data": {
      "image/png": "[encoded data removed]",
      "text/plain": [
       "<Figure size 432x288 with 1 Axes>"
      ]
     },
     "metadata": {
      "needs_background": "light"
     },
     "output_type": "display_data"
    }
   ],
   "source": [
    "from numpy import log \n",
    "\n",
    "# define funcao\n",
    "f = lambda t,y: (y + t**2 - 2)/(t+1)\n",
    "\n",
    "# invoca metodo\n",
    "t0 = 0.0\n",
    "tf = 6.0\n",
    "y0 = 2.0\n",
    "h = 0.5\n",
    "tol = 1e-3\n",
    "t,y1 = euler_expl(t0,tf,y0,h,f)\n",
    "t,y2 = euler_impl(t0,tf,y0,h,f,tol)\n",
    "\n",
    "\n",
    "# plota funcoes \n",
    "yex = t**2 + 2*t + 2 - 2*(t+1)*log(t+1)\n",
    "plt.plot(t,y1,'b-',label='$y_{MEE}(t)$')\n",
    "plt.plot(t,y2,'r-',label='$y_{MEI}(t)$')\n",
    "plt.plot(t,yex,'k--',label='$y(t)$')\n",
    "plt.legend();"
   ]
  },
  {
   "attachments": {},
   "cell_type": "markdown",
   "metadata": {},
   "source": [
    "## Método Trapezoidal"
   ]
  },
  {
   "cell_type": "code",
   "execution_count": 5,
   "metadata": {},
   "outputs": [],
   "source": [
    "\n",
    "def trapezoidal(t0,tf,y0,h,f,tol):\n",
    "    \n",
    "    n = round((tf - t0)/h) + 1\n",
    "    t = linspace(t0,t0+(n-1)*h,n)\n",
    "    y = zeros(n)\n",
    "    y[0] = y0\n",
    "    \n",
    "    i = 1\n",
    "    # iteracoes \n",
    "    while i < n:\n",
    "        \n",
    "        # f(tn,yn)        \n",
    "        fyt = f(t[i-1],y[i-1])\n",
    "\n",
    "        # Euler\n",
    "        yt1 = y[i-1] + h*fyt\n",
    "                \n",
    "        # iteracoes internas (maximo 10)\n",
    "        count = 0\n",
    "        diff = 1.0\n",
    "        while diff > tol and count < 10:\n",
    "            \n",
    "            # corretor (Trapezoidal)\n",
    "            yt2 = y[i-1] + 0.5*h*( fyt + f(t[i],yt1) )\n",
    "            diff = abs(yt2-yt1)\n",
    "            yt1 = yt2\n",
    "            count += 1\n",
    "        \n",
    "        if count >= 10:\n",
    "            print('Nao convergindo apos 10 passos em t = {0:f}'.format(t[i]))\n",
    "        \n",
    "        y[i] = yt2\n",
    "        i += 1\n",
    "    \n",
    "    return t,y"
   ]
  },
  {
   "cell_type": "code",
   "execution_count": 6,
   "metadata": {},
   "outputs": [
    {
     "name": "stdout",
     "output_type": "stream",
     "text": [
      "Nao convergindo apos 10 passos em t = 1.000000\n"
     ]
    },
    {
     "data": {
      "image/png": "[encoded data removed]",
      "text/plain": [
       "<Figure size 432x288 with 1 Axes>"
      ]
     },
     "metadata": {
      "needs_background": "light"
     },
     "output_type": "display_data"
    }
   ],
   "source": [
    "# define funcao\n",
    "f = lambda t,y: (y + t**2 - 2)/(t+1)\n",
    "\n",
    "# invoca metodo\n",
    "t0 = 0.0\n",
    "tf = 6.0\n",
    "y0 = 2.0\n",
    "h = 1.0\n",
    "tol = 1e-3\n",
    "t,y1 = euler_expl(t0,tf,y0,h,f)\n",
    "t,y2 = euler_impl(t0,tf,y0,h,f,tol)\n",
    "t,y3 = trapezoidal(t0,tf,y0,h,f,tol)\n",
    "\n",
    "\n",
    "# plota funcoes \n",
    "yex = t**2 + 2*t + 2 - 2*(t+1)*log(t+1)\n",
    "plt.plot(t,y1,'b-',label='$y_{MEE}(t)$')\n",
    "plt.plot(t,y2,'r-',label='$y_{MEI}(t)$')\n",
    "plt.plot(t,y3,'g-',label='$y_{MT}(t)$')\n",
    "plt.plot(t,yex,'k--',label='$y(t)$')\n",
    "plt.legend();"
   ]
  }
 ],
 "metadata": {
  "kernelspec": {
   "display_name": "Python 3",
   "language": "python",
   "name": "python3"
  },
  "language_info": {
   "codemirror_mode": {
    "name": "ipython",
    "version": 3
   },
   "file_extension": ".py",
   "mimetype": "text/x-python",
   "name": "python",
   "nbconvert_exporter": "python",
   "pygments_lexer": "ipython3",
   "version": "3.8.2"
  }
 },
 "nbformat": 4,
 "nbformat_minor": 4
}