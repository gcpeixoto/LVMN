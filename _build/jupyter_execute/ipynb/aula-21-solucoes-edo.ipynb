{
 "cells": [
  {
   "cell_type": "markdown",
   "metadata": {},
   "source": [
    "# Introdução à solução numérica de EDOs\n",
    "\n",
    "Equações diferenciais ordinárias (EDOs) surgem em diversos problemas aplicados. Alguns exemplos: \n",
    "\n",
    "- _Química_: decréscimo radioativo de carbono 14;\n",
    "- _Engenharia_: queda da pressão atmosférica;\n",
    "- _Economia_: precificação de ativos financeiros.\n",
    "\n",
    "Nem sempre é possível obter soluções analíticas (forma fechada) para EDOs. Então, precisamos obter soluções aproximadas por meio de métodos numéricos.\n",
    "\n",
    "No passado, muito esforço era empregado para se desenvolver métodos computacionais ótimos, mas a insuficiência de poder computacional era um entrave. Hoje em dia, com a evolução tecnológica, a capacidade computacional de alto desempenho permite que soluções numéricas sejam obtidas com menor esforço de processamento e margem de erro satisfatória. A seguir, faremos uma breve introdução teórica sobre modelos clássicos descritos por EDOs e a resolubilidade das equações.\n",
    "\n",
    "## Modelos clássicos\n",
    "\n",
    "### EDOs de primeira ordem\n",
    "\n",
    "- **Crescimento e decrescimento**: modelo (de Malthus) utilizado em crescimento populacional, mor- talidade de espécies biológicas.\n",
    "\n",
    "$$y'(t)=ky\\Rightarrow y(t)=ce^{kt}, c,k \\in \\mathbb{R}$$\n",
    "\n",
    "**Interpretação:** taxa de mudança da quantidade $y$ é proporcional à própria quantidade ao longo do\n",
    "tempo. Se $k > 0$, temos uma lei de crescimento; se $k < 0$, temos uma lei de descrescimento (ou queda).\n",
    "\n",
    "- **Lei do resfriamento de Newton:** modelo utilizado para determinar a troca de calor entre um corpo material e um meio externo.\n",
    "\n",
    "$$T'(t) = k(T − T_{\\infty}) \\Rightarrow T(t) = T_0 + (T_{\\infty} − T_0)e^{kt},$$\n",
    "\n",
    "onde $T$ é a _temperatura do corpo_, $k > 0 \\in \\mathbb{R}$ a _condutividade térmica_ (dependente do material do corpo e nem sempre constante), $T_{\\infty}$ a _temperatura do ambiente_ e $T_0$ a _temperatura inicial_. \n",
    "\n",
    "**Interpretação**: taxa de mudança da temperatura é proporcional a diferença entre a temperatura do objeto e do ambiente com o qual troca calor.\n",
    "\n",
    "### EDOs de segunda ordem\n",
    "\n",
    "- **Variação da quantidade de movimento em um sistema (2a. lei de Newton)**: modelo utilizado para descrever a perda de equilíbrio de sistemas mecânicos (cordas vibrantes, molas amortecidas, escoamentos de fluidos viscosos).\n",
    "\n",
    "$$my''(t) = −by'(t) − ky + f(t),$$\n",
    "\n",
    "onde $m$ é a _massa_, $y$ é um _deslocamento_, $t$ o _tempo_, b > 0 uma _constante de amortecimento_ (absorvedor de choque), $k > 0$ um _parâmetro da mola/empuxo_ e $f(t)$ uma _força externa_. \n",
    "\n",
    "**Interpretação**: taxa de mudança da quantidade de movimento do corpo é igual às forças aplicadas sobre o mesmo. A solução geral desta equação não homogênea será omitida aqui (cf. Weiglholfer and Lindsay, p.32).\n",
    "\n",
    "- **2a. lei de Kirchhoff**: modelo usado em circuitos elétricos e eletromagnetismo. \n",
    "\n",
    "$$LQ''(t) + RQ'(t) + \\frac{1}{C}Q(t) = U(t),$$\n",
    "\n",
    "onde $Q(t)$ é a _carga elétrica_, $L$ é a _indutância_, $R$ a _resistência_, $C$ a _capacitância_ e $U(t)$ a _força eletromotora_ (tensão elétrica). \n",
    "\n",
    "**Interpretação**: a força eletromotora (bateria, por exemplo) em qualquer circuito fechado equilibra todas as diferenças de potencial (d.d.p.) naquele circuito. Em outras palavras: em um circuito fechado, a soma de todas as d.d.p. é nula.\n",
    "\n",
    "\n",
    "## Teoria geral de resolubilidade de EDOs\n",
    "\n",
    "\n",
    "### Problema de Valor Inicial (PVI)  \n",
    "\n",
    "Um _problema de valor inicial_ (PVI) é formado por uma EDO e uma _condição inicial_.\n",
    "\n",
    "$$\\begin{cases}\n",
    "y'(t) = f(t,y(t)) \\\\\n",
    "y(t_0) = y_0\n",
    "\\end{cases},$$\n",
    "\n",
    "Acima, $t$ é a _variável independente_, $y(t)$ é a _variável dependente_ (solução da EDO) e $t_0$ é a _condição inicial_.\n",
    "\n",
    "**Exemplo:** A EDO $y'(t) = -[y(t)]^2 + y(t)$ possui a chamada solução trivial $y(t) \\equiv 0$ e a solução geral: \n",
    "\n",
    "$$y(t) = \\dfrac{1}{1+ce^{-t}}$$\n",
    "\n",
    "Observemos que $y(t)$ é indefinida quando $1+ce^{-t}=0$, ou $t = \\ln(-c)$. Se $y(0) = y_0 \\neq 0$ for uma condição inicial geral, $c = \\frac{1}{y_0} - 1$ e teremos os seguintes resultados adicionais: \n",
    "\n",
    "|condição inicial|valores de $c$|existência de solução\n",
    "|---|---|---|\n",
    "|$y_0 > 0$|$c > -1$|$0 \\leq t < \\infty$ |\n",
    "|$y_0 < 0$|$c < -1$|$0 < t < \\ln(1 - y_0^{-1})$|\n",
    "\n",
    "\n",
    "Abaixo vemos os gráficos de $Y(t)$ quando $c = \\{-0.8,-0.5,-0.4,0,0.5,1,0,2.5\\}$ e para a solução trivial."
   ]
  },
  {
   "cell_type": "code",
   "execution_count": 1,
   "metadata": {},
   "outputs": [
    {
     "data": {
      "image/png": "[encoded data removed]",
      "text/plain": [
       "<Figure size 432x288 with 1 Axes>"
      ]
     },
     "metadata": {
      "needs_background": "light"
     },
     "output_type": "display_data"
    }
   ],
   "source": [
    "import numpy as np \n",
    "import matplotlib.pyplot as plt \n",
    "\n",
    "# variavel independente\n",
    "t = np.linspace(0,6,100)\n",
    "\n",
    "# condicao inicial\n",
    "C = [-0.8,-0.5,-0.4,0,0.5,1,0,2.5]\n",
    "\n",
    "for c in C:    \n",
    "\n",
    "    # solucoes não triviais\n",
    "    if c != 0:\n",
    "        plt.plot(t,1./(1 + c*np.exp(-t)))\n",
    "    \n",
    "    # solucao trivial\n",
    "    else:\n",
    "        plt.plot(t,0*t,'k--')    \n",
    "            "
   ]
  }
 ],
 "metadata": {
  "kernelspec": {
   "display_name": "Python 3",
   "language": "python",
   "name": "python3"
  },
  "language_info": {
   "codemirror_mode": {
    "name": "ipython",
    "version": 3
   },
   "file_extension": ".py",
   "mimetype": "text/x-python",
   "name": "python",
   "nbconvert_exporter": "python",
   "pygments_lexer": "ipython3",
   "version": "3.8.2"
  }
 },
 "nbformat": 4,
 "nbformat_minor": 4
}