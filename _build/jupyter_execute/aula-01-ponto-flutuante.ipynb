{
 "cells": [
  {
   "cell_type": "code",
   "execution_count": 1,
   "metadata": {
    "tags": [
     "remove-input"
    ]
   },
   "outputs": [],
   "source": [
    "import matplotlib.pyplot as plt\n",
    "plt.style.use('styles/gcpeixoto-book.mplstyle')"
   ]
  },
  {
   "cell_type": "markdown",
   "metadata": {},
   "source": [
    "# Aritmética computacional\n",
    "\n",
    "Computadores representam números inteiros de maneira exata [{ref}`clipping-decimal`]. Entretanto, números reais possuem apenas representações aproximadas e em quantidades finitas. A aritmética computacional comumente opera com números inteiros e com os chamados _números em ponto flutuante._\n",
    "\n",
    "O interesse da aritmética computacional resume-se em dois pontos principais: i) a representação de números no formato de máquina (binário) e ii) a construção de algoritmos que realizam as operações fundamentais (adição, subtração, multiplicação e divisão). Em linhas gerais, métodos numéricos resultam de algoritmos sofisticados que utilizam essas quatro operações. \n",
    "\n",
    "Atualmente, o padrão IEEE 754 [{ref}`clipping-ieee754`] é o mais amplamente seguido pelos fabricantes de processadores modernos. O documento orienta sobre como números em ponto flutuante devem ser representados, operados e comportar-se em qualquer arquitetura, seja de 16, 32, 64 ou mesmo 128 bits. A última atualização do padrão, cujo ano de origem é 1985, ocorreu em 2019 [[IEEE 754-2019]](https://ieeexplore.ieee.org/document/8766229)."
   ]
  },
  {
   "cell_type": "markdown",
   "metadata": {},
   "source": [
    "## Unidade Lógica e Aritmética\n",
    "\n",
    "A _Unidade Lógica e Aritmética_ (ULA) é a parte do hardware computacional conectada à unidade central de processamento (CPU) que realiza as operações aritméticas e lógicas sobre os dados processados ({numref}`fig-ula`). A ULA é um componente eletrônico que funciona segundo a lógica dos cicuitos digitais, ou seja, interpretando operações em lógica Booleana (`and`, `or`, `not`).\n",
    "\n",
    "Há muito mais por trás das operações fundamentais executadas pelos computadores. Em Python, por exemplo, há casos de aproximações que chegam a ser curiosos. Isto ocorre devido ao erro inerente da representação numérica, principalmente quando os números são fracionários.\n",
    "\n",
    "```{figure} figs/ula-ai.png\n",
    "---\n",
    "width: 400px\n",
    "name: fig-ula\n",
    "---\n",
    "Ilustração de um chip de computador destacando as interconexões responsáveis por operações lógicas, aritméticas e troca de informação com a unidade de controle.\n",
    "```"
   ]
  },
  {
   "cell_type": "markdown",
   "metadata": {},
   "source": [
    "## Casos curiosos\n",
    "\n",
    "A aritmética de ponto flutuante possui situações inusitadas e respostas estranhas que podem levar-nos a duvidar se estamos realizando operações corretamente. Abaixo, mostramos alguns casos curiosos que ocorrem devido à representação finita de números pelo computador. Outras indagações sobre ponto flutuante são respondidas em [{ref}`extra-float`].\n",
    "\n",
    "\n",
    "- A fração $1/3 \\approx 0.3333\\ldots$ é uma dízima. O seu triplo é?"
   ]
  },
  {
   "cell_type": "code",
   "execution_count": 2,
   "metadata": {},
   "outputs": [
    {
     "data": {
      "text/plain": [
       "0.3333333333333333"
      ]
     },
     "execution_count": 2,
     "metadata": {},
     "output_type": "execute_result"
    }
   ],
   "source": [
    "1/3"
   ]
  },
  {
   "cell_type": "code",
   "execution_count": 3,
   "metadata": {},
   "outputs": [
    {
     "data": {
      "text/plain": [
       "1.0"
      ]
     },
     "execution_count": 3,
     "metadata": {},
     "output_type": "execute_result"
    }
   ],
   "source": [
    "1/3 + 1/3 + 1/3"
   ]
  },
  {
   "cell_type": "markdown",
   "metadata": {},
   "source": [
    "- A soma $0.3 + 0.3 + 0.3$ difere de $0.9$."
   ]
  },
  {
   "cell_type": "code",
   "execution_count": 4,
   "metadata": {},
   "outputs": [
    {
     "data": {
      "text/plain": [
       "0.8999999999999999"
      ]
     },
     "execution_count": 4,
     "metadata": {},
     "output_type": "execute_result"
    }
   ],
   "source": [
    "0.3 + 0.3 + 0.3"
   ]
  },
  {
   "cell_type": "markdown",
   "metadata": {},
   "source": [
    "- $1/10 + 1/10 + 1/10 \\neq 3/10$"
   ]
  },
  {
   "cell_type": "code",
   "execution_count": 5,
   "metadata": {},
   "outputs": [
    {
     "data": {
      "text/plain": [
       "False"
      ]
     },
     "execution_count": 5,
     "metadata": {},
     "output_type": "execute_result"
    }
   ],
   "source": [
    "1/10 + 1/10 + 1/10 == 3/10"
   ]
  },
  {
   "cell_type": "markdown",
   "metadata": {},
   "source": [
    "- Multiplicação por fracionários"
   ]
  },
  {
   "cell_type": "code",
   "execution_count": 6,
   "metadata": {},
   "outputs": [
    {
     "name": "stdout",
     "output_type": "stream",
     "text": [
      "3*0.3         = 0.8999999999999999\n",
      "3*0.33        = 0.99\n",
      "3*0.333       = 0.9990000000000001\n",
      "3*0.3333      = 0.9999\n",
      "3*0.33333     = 0.99999\n",
      "3*0.333333    = 0.999999\n",
      "3*0.3333333   = 0.9999998999999999\n",
      "3*0.333333333 = 0.999999999\n"
     ]
    }
   ],
   "source": [
    "# note a variabilidade de dígitos após o ponto\n",
    "for x in [0.3, 0.33, 0.333, 0.3333, 0.33333, 0.333333, 0.3333333, 0.333333333]:\n",
    "    print(f'3*{x}'.ljust(13,' '),'=', 3*x, sep=' ')"
   ]
  },
  {
   "cell_type": "markdown",
   "metadata": {},
   "source": [
    "## A finitude explicada\n",
    "\n",
    "Os casos acima possuem uma razão comum: a capacidade finita dos computadores para representar números fracionários. Vamos analisar de modo breve o caso da fração 1/10 sem nos aprofundar em detalhes.\n",
    "\n",
    "Em um computador de arquitetura 64 bits que segue o padrão IEEE 754, a melhor aproximação para 1/10 é um número com 55 dígitos decimais."
   ]
  },
  {
   "cell_type": "code",
   "execution_count": 7,
   "metadata": {},
   "outputs": [
    {
     "name": "stdout",
     "output_type": "stream",
     "text": [
      "0.1000000000000000055511151231257827021181583404541015625\n"
     ]
    }
   ],
   "source": [
    "# imprime número com 55 dígitos\n",
    "print(format(0.1,'.55f'))"
   ]
  },
  {
   "cell_type": "markdown",
   "metadata": {},
   "source": [
    "Notemos que tentar aumentar os dígitos não produzirá significância:"
   ]
  },
  {
   "cell_type": "code",
   "execution_count": 8,
   "metadata": {},
   "outputs": [
    {
     "name": "stdout",
     "output_type": "stream",
     "text": [
      "0.100000000000000005551115123125782702118158340454101562500000\n"
     ]
    }
   ],
   "source": [
    "# imprime número com 60 dígitos\n",
    "print(format(0.1,'.60f'))"
   ]
  },
  {
   "cell_type": "code",
   "execution_count": 9,
   "metadata": {},
   "outputs": [
    {
     "name": "stdout",
     "output_type": "stream",
     "text": [
      "0.10000000000000000555111512312578270211815834045410156250000000000000000000000000\n"
     ]
    }
   ],
   "source": [
    "# imprime número com 80 dígitos\n",
    "print(format(0.1,'.80f'))"
   ]
  },
  {
   "cell_type": "markdown",
   "metadata": {},
   "source": [
    "Portanto, quando somamos 1/10 + 1/10 + 1/10 vemos um número diferente de 3/10."
   ]
  },
  {
   "cell_type": "code",
   "execution_count": 10,
   "metadata": {},
   "outputs": [
    {
     "name": "stdout",
     "output_type": "stream",
     "text": [
      "0.3000000000000000444089209850062616169452667236328125000\n"
     ]
    }
   ],
   "source": [
    "# imprime número com 55 dígitos\n",
    "print(format(0.1 + 0.1 + 0.1,'.55f'))"
   ]
  },
  {
   "cell_type": "markdown",
   "metadata": {},
   "source": [
    "## Notação científica\n",
    "\n",
    "Números em ponto flutuante são a versão computacional da notação científica. Escrevemos um número decimal em notação científica da seguinte forma:\n",
    "\n",
    "$$x = f \\times 10^e,$$\n",
    "\n",
    "com a fração (ou mantissa) $f$ determinando a precisão e o expoente $e$ a ordem de grandeza. Pontos flutuantes admitem $f$ na forma _normalizada_, isto é, menor do que 1. A tabela abaixo mostra alguns exemplos de como usamos essas notações.\n",
    "\n",
    "\n",
    "| Número decimal | Notação científica | Repr. ponto flutuante\n",
    "|:---------------|--------------------|------:|\n",
    "|$2.65$ | $2.65 \\times 10^0$ | $0.265 \\times 10^1$|\n",
    "|$0.0000012$ | $1.2 \\times 10^{-6}$ | $0.12 \\times 10^{-5}$|\n",
    "|$4532$ | $4.532 \\times 10^{3}$ | $0.4532 \\times 10^{4}$|\n",
    "\n",
    "Em termos de código, a notação científica em base 10 pode ser realizada da seguinte forma:"
   ]
  },
  {
   "cell_type": "code",
   "execution_count": 11,
   "metadata": {},
   "outputs": [
    {
     "data": {
      "text/plain": [
       "(2.65, 1.2e-06, 4532.0, 10.0)"
      ]
     },
     "execution_count": 11,
     "metadata": {},
     "output_type": "execute_result"
    }
   ],
   "source": [
    "2.65e0, 1.2e-6, 0.4532e4, 1e1"
   ]
  },
  {
   "cell_type": "markdown",
   "metadata": {},
   "source": [
    "## Conversão numérica entre sistemas\n",
    "\n",
    "Nesta seção são dados exemplos de como converter números entre os sistemas mais comuns: binário, decimal e hexadecimal.\n"
   ]
  },
  {
   "cell_type": "code",
   "execution_count": 12,
   "metadata": {},
   "outputs": [
    {
     "name": "stdout",
     "output_type": "stream",
     "text": [
      "4\n",
      "4\n",
      "0b100\n"
     ]
    }
   ],
   "source": [
    "# (100)_2 -> base 10\n",
    "c = int('100',base=2)\n",
    "print(c)\n",
    "\n",
    "# representação  \n",
    "print(1*2**2 + 0*2**1 + 0*2**0)\n",
    "\n",
    "# (4)_10 -> base 2\n",
    "# obs: note que '0b' indica que o número é binário\n",
    "c = bin(4)\n",
    "print(c)"
   ]
  },
  {
   "cell_type": "code",
   "execution_count": 13,
   "metadata": {},
   "outputs": [
    {
     "name": "stdout",
     "output_type": "stream",
     "text": [
      "146\n",
      "146\n",
      "0o222\n"
     ]
    }
   ],
   "source": [
    "# (222)_8\n",
    "c = int('222',base=8)\n",
    "print(c)\n",
    "\n",
    "# representação  \n",
    "print(2*8**2 + 2*8**1 + 2*8**0)\n",
    "\n",
    "# (146)_10 -> base 8\n",
    "\n",
    "c = oct(146)\n",
    "# obs: note que '0o' indica que o número é octal\n",
    "print(c)"
   ]
  },
  {
   "cell_type": "code",
   "execution_count": 14,
   "metadata": {},
   "outputs": [
    {
     "name": "stdout",
     "output_type": "stream",
     "text": [
      "10980\n",
      "10980\n",
      "0o222\n"
     ]
    }
   ],
   "source": [
    "# (2AE4)_16\n",
    "c = int('2ae4',base=16)\n",
    "print(c)\n",
    "\n",
    "# representação  \n",
    "# obs: A = 10; E = 14\n",
    "print(2*16**3 + 10*16**2 + 14*16**1 + 4*166**0)\n",
    "\n",
    "# (146)_10 -> base 8\n",
    "\n",
    "c = oct(146)\n",
    "# obs: note que '0o' indica que o número é octal\n",
    "print(c)"
   ]
  },
  {
   "cell_type": "markdown",
   "metadata": {},
   "source": [
    "## Máquina binária \n",
    "\n",
    "O código abaixo é um protótipo para implementação de uma máquina binária. Uma versão muito mais robusta e melhor implementada pode ser vista aqui: https://vnicius.github.io/numbiosis/conversor/index.html."
   ]
  },
  {
   "cell_type": "code",
   "execution_count": 15,
   "metadata": {
    "tags": [
     "hide-input"
    ]
   },
   "outputs": [
    {
     "name": "stdout",
     "output_type": "stream",
     "text": [
      "*** MÁQUINA BINÁRIA ***\n"
     ]
    }
   ],
   "source": [
    "\"\"\"\n",
    "Converte inteiro para binário\n",
    "por divisões sucessvvvas.\n",
    "! Confronte com a função residente 'bin()'\n",
    "\"\"\"\n",
    "def int2bin(N):\n",
    "\n",
    "    b = [] # lista auxiliar\n",
    "\n",
    "    # divisões sucessivas\n",
    "    while N >= 2:\n",
    "        b.append(N % 2)\n",
    "        N = N//2\n",
    "\n",
    "    b.append(N)\n",
    "    b.reverse()\n",
    "    b = [str(i) for i in b] # converte para string\n",
    "    s = ''\n",
    "    s = s.join(b)\n",
    "\n",
    "    return s # retorna string\n",
    "\n",
    "\n",
    "\"\"\"\n",
    "Converte parte fracionária para binário\n",
    "por multiplicações sucessivas.\n",
    "\"\"\"\n",
    "def frac2bin(Q):\n",
    "\n",
    "    count = 0 # contador (limite manual posto em 10!)\n",
    "    b = []  # lista auxiliar\n",
    "\n",
    "    # multiplicações sucessivas\n",
    "    Q *= 2\n",
    "    while Q > 0 and count <= 10:\n",
    "        if Q > 1:\n",
    "            Q = Q-1\n",
    "            b.append(1)\n",
    "        else:\n",
    "            b.append(0)\n",
    "        Q *= 2\n",
    "        count += 1\n",
    "\n",
    "    b = [str(i) for i in b] # converte para string\n",
    "    s = ''\n",
    "    s = s.join(b)\n",
    "\n",
    "    return s # retorna string\n",
    "\n",
    "\n",
    "def convert(app,btn):\n",
    "    print(btn)\n",
    "\n",
    "\n",
    "\n",
    "# Função principal\n",
    "def main():\n",
    "\n",
    "    # Pré-criação da interface com usuário\n",
    "\n",
    "    # todo: tratamento de exceção no tipo de entrada\n",
    "    #       contagem de casas decimais no caso de dízimas\n",
    "         print('*** MÁQUINA BINÁRIA ***')\n",
    "    #     N = input('Selecione a parte inteira:\\n')\n",
    "    #     Q = input('Selecione a parte fracionária:\\n')\n",
    "    #     print('Seu número é: ' + int2bin( int(N) ) + '.' + frac2bin( float(Q) )  + '.')\n",
    "    #     print('*** ***')\n",
    "\n",
    "\n",
    "if __name__ == \"__main__\":\n",
    "    main()"
   ]
  },
  {
   "cell_type": "markdown",
   "metadata": {},
   "source": [
    "## Visualizando um sistema de ponto flutuante \n",
    "\n",
    "### A reta \"perfurada\" \n",
    "\n",
    "Em vez de operar sobre o conjunto dos números reais (conjunto $\\mathbb{R}$), a matemática computacional está definida no domínio $\\mathbb{F}$, o conjunto dos números em ponto flutuante representáveis pela máquina. Vejamos um exemplo.\n",
    "\n",
    "Considerando o sistema de ponto flutuante $\\mathbb{F}(2,3,-1,2)$, determinemos todos os seus números representáveis.\n",
    "\n",
    "Como a base é $2$, os dígitos possíveis são $0$ e $1$ com mantissas: \n",
    "\n",
    "- $0.100$\n",
    "- $0.101$\n",
    "- $0.110$\n",
    "- $0.111$\n",
    "\n",
    "Para cada expoente no conjunto $e=\\{-1,0,1,2\\}$, obteremos 16 números positivos, a saber: \n",
    "\n",
    "- $(0.100 \\times 2^{-1})_{2} = (0.01)_2 = 0.2^0 + 0.2^{-1} + 1.2^{-2} = 1/4$\n",
    "- $(0.100 \\times 2^{0})_{2} = (0.1)_2 = 0.2^0 + 1.2^{-1} = 1/2$\n",
    "- $(0.100 \\times 2^{1})_{2} = (1.0)_2 = 1.2^0 + 0.2^{-1} = 1$\n",
    "- $(0.100 \\times 2^{2})_{2} = (10.0)_2 = 1.2^1 + 0.2^{1} + 0.2^{-1} = 2$\n",
    "\n",
    "- $(0.101 \\times 2^{-1})_{2} = (0.0101)_2 = 0.2^0 + 0.2^{-1} + 1.2^{-2} + 0.2^{-3} + 1.2^{-4}= 5/16$\n",
    "- $(0.101 \\times 2^{0})_{2} = (0.101)_2 = 0.2^0 + 1.2^{-1} + 0.2^{-2} + 1.2^{-3} = 5/8$\n",
    "- $(0.101 \\times 2^{1})_{2} = (1.01)_2 = 1.2^0 + 0.2^{-1} + 1.2^{-2} = 1$\n",
    "- $(0.101 \\times 2^{2})_{2} = (10.1)_2 = 1.2^1 + 0.2^{1} + 0.2^{-1} = 2$\n",
    "\n",
    "(...)\n",
    "\n",
    "Fazendo as contas para os números restantes, obtemos a seguinte tabela: \n",
    "\n",
    "|     | m  | 0.100 | 0.101 | 0.110 | 0.111 |\n",
    "|-----|----|------ |-------|-------|-------|\n",
    "|**e**|    |       |       |       |       |\n",
    "| -1  |    | 1/4   | 5/16  | 3/8   | 7/16  |\n",
    "| 0   |    | 1/2   | 5/8   | 3/4   | 7/8   |\n",
    "| 1   |    | 1     | 5/4   | 3/2   | 7/4   |\n",
    "| 2   |    | 2     | 5/2   | 3     | 7/2   |\n",
    "\n",
    "Na reta real, esses valores ficariam dispostos da seguinte forma: "
   ]
  },
  {
   "cell_type": "code",
   "execution_count": 25,
   "metadata": {
    "tags": [
     "remove-input"
    ]
   },
   "outputs": [
    {
     "data": {
      "image/png": "[encoded data removed]",
      "text/plain": [
       "<Figure size 800x100 with 1 Axes>"
      ]
     },
     "metadata": {
      "filenames": {
       "image/png": "/Users/gustavo/Dropbox/courses/calculo-numerico/LVMN/_build/jupyter_execute/aula-01-ponto-flutuante_28_0.png"
      }
     },
     "output_type": "display_data"
    }
   ],
   "source": [
    "from matplotlib.pyplot import subplots\n",
    "import matplotlib.ticker as mticker\n",
    "from fractions import Fraction\n",
    "\n",
    "x = [1/4,1/2,1,2,5/16,5/8,5/4,5/2,3/8,3/4,3/2,3,7/16,7/8,7/4,7/2]\n",
    "x = sorted(x)\n",
    "\n",
    "fig, ax = subplots(figsize=(8,1),constrained_layout=True)\n",
    "ax.plot(x,16*[0],':k')\n",
    "ax.plot(x,16*[0],'og');\n",
    "ax.spines['top'].set_visible(False)\n",
    "ax.spines['left'].set_visible(False)\n",
    "ax.spines['right'].set_visible(False)\n",
    "ax.get_yaxis().set_visible(False)\n",
    "ax.xaxis.set_major_locator(mticker.FixedLocator(x))\n",
    "ax.set_xticklabels([str(Fraction(xi)) for xi in x],fontsize=5)\n",
    "ax.set_xlim([0.23,3.6]);"
   ]
  },
  {
   "cell_type": "markdown",
   "metadata": {},
   "source": [
    "Isto é, $\\mathbb{F}$ é uma reta \"perfurada\", para a qual apenas 16 números positivos, 16 simétricos destes e mais o 0 são representáveis. Logo, o conjunto contém apenas 33 elementos."
   ]
  },
  {
   "cell_type": "markdown",
   "metadata": {},
   "source": [
    "## Simulador de $\\mathbb{F}$\n",
    "\n",
    "O código abaixa gera uma reta perfurada para o sistema computacional de interesse."
   ]
  },
  {
   "cell_type": "code",
   "execution_count": 28,
   "metadata": {
    "tags": [
     "hide-input"
    ]
   },
   "outputs": [
    {
     "data": {
      "image/png": "[encoded data removed]",
      "text/plain": [
       "<Figure size 800x100 with 1 Axes>"
      ]
     },
     "metadata": {
      "filenames": {
       "image/png": "/Users/gustavo/Dropbox/courses/calculo-numerico/LVMN/_build/jupyter_execute/aula-01-ponto-flutuante_31_0.png"
      }
     },
     "output_type": "display_data"
    }
   ],
   "source": [
    "import numpy as np\n",
    "import matplotlib.pyplot as plt\n",
    "\n",
    "\n",
    "def simulacao_F(b,t,L,U):\n",
    "    x = []\n",
    "    epsm = b**(1-t) # epsilon de máquina\n",
    "    M = np.arange(1.,b-epsm,epsm)\n",
    "\n",
    "    E = 1\n",
    "    for e in range(0,U+1):\n",
    "        x = np.concatenate([x,M*E])\n",
    "        E *= b    \n",
    "    E = b**(-1)\n",
    "    \n",
    "    y = []\n",
    "    for e in range(-1,L-1,-1):\n",
    "        y = np.concatenate([y,M*E])\n",
    "        E /= b    \n",
    "    yy = np.asarray(y)\n",
    "    xx = np.asarray(x)    \n",
    "    x = np.concatenate([yy,np.array([0.]),xx])\n",
    "    return x\n",
    "\n",
    "Y = simulacao_F(2,4,-3,5)\n",
    "X = np.zeros(Y.shape)\n",
    "\n",
    "\n",
    "# plotagem\n",
    "fig, ax = subplots(figsize=(8,1),constrained_layout=True)\n",
    "ax.scatter(Y,X,marker='o',color='g');\n",
    "ax.get_yaxis().set_visible(False)\n"
   ]
  },
  {
   "cell_type": "markdown",
   "metadata": {},
   "source": [
    "## Limites de máquina para ponto flutuante"
   ]
  },
  {
   "cell_type": "markdown",
   "metadata": {},
   "source": [
    "Em Python, podemos utilizar diferentes sistemas de ponto flutuante. Cada um possui suas particularidades. Os mais comuns são:\n",
    "\n",
    "- `float16` (meia precisão): ideal para aplicações onde a velocidade e o uso de memória são críticos, como em inferências de aprendizado profundo em dispositivos com recursos limitados.\n",
    "- `float32` (precisão simples): comumente usado em jogos, gráficos, e muitas aplicações de aprendizado de máquina devido ao bom equilíbrio entre precisão e eficiência.\n",
    "- `float64` (precisão dupla; _alias_ para `float`): essencial para simulações científicas, finanças e outras áreas onde a precisão é crucial e a memória não é preocupação.\n",
    "\n",
    "O `numpy` suporta todos os três na maioria dos computadores de hoje ({numref}`Tabela %s <tbl-float>`). "
   ]
  },
  {
   "cell_type": "markdown",
   "metadata": {},
   "source": [
    "```{table} Comparativo entre sistemas de ponto flutuante\n",
    ":name: tbl-float\n",
    "\n",
    "| Atributo              | `float16`                  | `float32`                  | `float64`                  |\n",
    "|:-----------------------|:----------------------------|:----------------------------|:----------------------------|\n",
    "| **Tamanho**           | 16 bits (2 bytes)          | 32 bits (4 bytes)          | 64 bits (8 bytes)          |\n",
    "| **Precisão**          | Baixa                      | Moderada                   | Alta                       |\n",
    "| **Intervalo de Valores** | $\\approx 5.96 \\times 10^{-8}$ a $6.55 \\times 10^{4} $ | $\\approx 1.18 \\times 10^{-38} $ a $3.4 \\times 10^{38} $ | $\\approx 2.23 \\times 10^{-308} $ a $1.8 \\times 10^{308} $ |\n",
    "| **Bits de Sinal**     | 1                          | 1                          | 1                          |\n",
    "| **Bits de Expoente**  | 5                          | 8                          | 11                         |\n",
    "| **Bits de Mantissa**  | 10                         | 23                         | 52                         |\n",
    "| **Uso de Memória**    | Muito baixo                | Moderado                   | Alto                       |\n",
    "| **Aplicações**        | Aprendizado profundo em dispositivos de recursos limitados | Gráficos de computador, simulações científicas, aprendizado de máquina | Cálculos científicos, engenharia, finanças de alta precisão |\n",
    "| **Exemplo de Valores** | $3.140625$ para representar aproximadamente $\\pi$ | $3.1415927$ para representar aproximadamente $\\pi$ | $3.141592653589793$ para representar aproximadamente $\\pi$ |\n",
    "| **Vantagens**         | Usa menos memória e é mais rápido em termos de computação. Ideal para aplicações onde a memória é restrita e a precisão pode ser sacrificada. | Oferece um bom equilíbrio entre precisão e uso de memória. Amplamente utilizado em gráficos e aprendizado de máquina. | Alta precisão e amplo intervalo dinâmico. Ideal para cálculos científicos e de engenharia onde a precisão é crucial. |\n",
    "| **Desvantagens**      | Precisão muito limitada, o que pode levar a erros significativos em cálculos complexos. | Pode não ser suficientemente preciso para cálculos científicos muito precisos. | Usa mais memória e pode ser mais lento em termos de computação comparado com float16 e float32. |\n",
    "```"
   ]
  },
  {
   "cell_type": "markdown",
   "metadata": {},
   "source": [
    "A seguinte função imprime os valores dos principais atributos de `numpy.finfo` que nos ajudam a entender melhor os limites de máquina em Python para esses sistemas de ponto flutuante."
   ]
  },
  {
   "cell_type": "code",
   "execution_count": 18,
   "metadata": {
    "tags": [
     "hide-input"
    ]
   },
   "outputs": [],
   "source": [
    "import numpy as np \n",
    "\n",
    "def print_attribute(dtype: str, attrib: str) -> None:\n",
    "    \"\"\"\n",
    "    Imprime informações de atributo para os sistemas de ponto flutuante \\\n",
    "        de 16, 32 e 64 bits operados pelo numpy\n",
    "        \n",
    "    Atributos relevantes: \n",
    "    \n",
    "        - eps: menor valor x, tal que 1.0 + x > 1.0 (epsilon de máquina)\n",
    "        - max: maior número finito que pode ser representado pelo tipo de dado de ponto flutuante.\n",
    "        - min: menor número finito negativo que pode ser representado pelo tipo de dado de ponto flutuante.\n",
    "        - tiny: menor número positivo normalizado que pode ser representado.\n",
    "        - nexp: número de bits no expoente       \n",
    "        - nmant: número de bits na mantissa\n",
    "    \"\"\"\n",
    "    \n",
    "    # checagem de sistema permitido\n",
    "    assert dtype in ['float16', 'float32', 'float64'], 'Sistema não permitido!'\n",
    "    \n",
    "    # impressão    \n",
    "    print(f'{attrib}:')\n",
    "    exec(f'print(np.finfo(np.{dtype}).{attrib})')\n",
    "\n",
    "# # função para calculo do epsilon: erro relativo\n",
    "# def eps_mach(func=float):\n",
    "#     eps = func(1)\n",
    "#     while func(1) + func(eps) != func(1):\n",
    "#         epsf = eps\n",
    "#         eps = func(eps) / func(2)\n",
    "#     return epsf"
   ]
  },
  {
   "cell_type": "markdown",
   "metadata": {},
   "source": [
    "A partir daí, podemos verificar os valores para cada sistema individualmente:"
   ]
  },
  {
   "cell_type": "code",
   "execution_count": 19,
   "metadata": {
    "tags": [
     "hide-output"
    ]
   },
   "outputs": [
    {
     "name": "stdout",
     "output_type": "stream",
     "text": [
      "--- float16 \n",
      "\n",
      "eps:\n",
      "0.000977\n",
      "max:\n",
      "65500.0\n",
      "min:\n",
      "-65500.0\n",
      "tiny:\n",
      "6.104e-05\n",
      "nexp:\n",
      "5\n",
      "nmant:\n",
      "10\n",
      "\n",
      "--- float32 \n",
      "\n",
      "eps:\n",
      "1.1920929e-07\n",
      "max:\n",
      "3.4028235e+38\n",
      "min:\n",
      "-3.4028235e+38\n",
      "tiny:\n",
      "1.1754944e-38\n",
      "nexp:\n",
      "8\n",
      "nmant:\n",
      "23\n",
      "\n",
      "--- float64 (float) \n",
      "\n",
      "eps:\n",
      "2.220446049250313e-16\n",
      "max:\n",
      "1.7976931348623157e+308\n",
      "min:\n",
      "-1.7976931348623157e+308\n",
      "tiny:\n",
      "2.2250738585072014e-308\n",
      "nexp:\n",
      "11\n",
      "nmant:\n",
      "52\n"
     ]
    }
   ],
   "source": [
    "print('--- float16 \\n')\n",
    "for attrib in ['eps', 'max', 'min', 'tiny', 'nexp', 'nmant']:\n",
    "    print_attribute('float16', attrib)\n",
    "    \n",
    "print('\\n--- float32 \\n')\n",
    "for attrib in ['eps', 'max', 'min', 'tiny', 'nexp', 'nmant']:\n",
    "    print_attribute('float32', attrib)\n",
    "    \n",
    "print('\\n--- float64 (float) \\n')\n",
    "for attrib in ['eps', 'max', 'min', 'tiny', 'nexp', 'nmant']:\n",
    "    print_attribute('float64', attrib)"
   ]
  },
  {
   "cell_type": "markdown",
   "metadata": {},
   "source": [
    "### O épsilon de máquina\n",
    "\n",
    "A unidade de arredondamedssdnto, $\\epsilon_M$, comumente chamada de \"épsilon de máquina\", é definida como o menor número do sistema computacional tal que\n",
    "\n",
    "$$1.0 + \\epsilon_M > 1.0.$$\n",
    "\n",
    "Esta inequação também pode ser lida da seguinte forma: $\\epsilon_M$ é a diferença entre a unidade e o próximo número mais próximo dela representável pela máquina.\n",
    "\n",
    "Para entender isto, vamos usar um sistema hipotético de 8 bits, no qual cada número é representado por uma sequencia de até 8 dígitos binários. Em um sistema de 8 bits, uma \"palavra\" (termo da Arquitetura Computacional) armazena um número real da seguinte forma: \n",
    "\n",
    "- o primeiro bit é reservado para o sinal do número\n",
    "- os próximos 3 bits são reservados para o expoente (com _bias_)\n",
    "- os últimos 4 bits são reservados para a mantissa. \n",
    "\n",
    "Neste sistema, a unidade $(1)_{10}$ é representada em forma binária por: $00110000$. \n",
    "\n",
    "O próximo número de máquina neste sistema seria $00110001$, que equivale a $(1.0625)_{10}$.\n",
    "\n",
    "Portanto, para este sistema $\\epsilon_M = (1.0625)_{10} - (1)_{10} = 0.0625$.\n",
    "\n",
    "Explicando um pouco mais...\n",
    "\n",
    "Para 8 bits, o _bias_ é o quociente inteiro resultante da divisão de $(2^3 - 1)/2 = 3$. Então, usando a expressão de ponto flutuante\n",
    "\n",
    "$$x = (-1)^s \\, 2^{(c-bias)} \\, (1 + f),$$ \n",
    "\n",
    "temos que\n",
    "\n",
    "$c = 0 \\times 2^2 + 1 \\times 2^1 + 1 \\times 2^0 = 3$ (esquerda para a direita, correspondendo às posições 2,3 e 4). Como o número é positivo, $s = 0$. A mantissa corresponde às 4 últimas caixas, que são zero, i.e. $f = 0$.\n",
    "\n",
    "Por fim, $x = (-1)^0 \\, 2^{(3-3)} \\, (1+0) = 1$ e a representação de 8 bits de 1 é $00110000$.\n",
    "\n",
    "Para $\\epsilon_M$, note que o próximo número tem uma contribuição de $2^{-4} = 0.0625$. Ou seja, a mantissa decresce para a direita $2^{-1}, 2^{-2}, 2^{-3}, 2^{-4}$. O ponto \"decimal\" (radix) fica implícito e o expoente cresce para a esquerda, $2^0, 2^1$, e $2^2$.\n",
    "\n",
    "Em seguida, o próximo número representável (depois de $1.0625$) teria uma contribuição de $2^{-4} + 2^{-3} = 0.1875$, sendo, pois, $1.1875$. Evidentemente, $1.1875 - 1.0625 = 0.125$, mas $\\epsilon_M < 0.125$. Isto mostra que a unidade de arredondamento não equivale a uma \"distância\" no sentido dos números reais como se vê na representação de reta perfurada. "
   ]
  },
  {
   "cell_type": "markdown",
   "metadata": {},
   "source": [
    "### Sensibilidade\n",
    "\n",
    "O efeito de $\\epsilon_M$ em cálculos pode ser mostrado na figura abaixo. Quando subtraímos 1 de valores de $\\epsilon$ cada vez menores, a subtração no denominador da fração\n",
    "\n",
    "$$f(\\epsilon) = \\dfrac{ (1 + \\epsilon) - 1}{\\epsilon}$$\n",
    "\n",
    "começa a se aproximar de zero por cancelamento subtrativo e o valor de $f$ torna-se cada vez mais instável até cair a \"zero\"."
   ]
  },
  {
   "cell_type": "code",
   "execution_count": 29,
   "metadata": {
    "tags": [
     "remove-input"
    ]
   },
   "outputs": [
    {
     "data": {
      "image/png": "[encoded data removed]",
      "text/plain": [
       "<Figure size 600x300 with 1 Axes>"
      ]
     },
     "metadata": {
      "filenames": {
       "image/png": "/Users/gustavo/Dropbox/courses/calculo-numerico/LVMN/_build/jupyter_execute/aula-01-ponto-flutuante_41_0.png"
      }
     },
     "output_type": "display_data"
    }
   ],
   "source": [
    "from matplotlib.pyplot import subplots\n",
    "from numpy import linspace,finfo\n",
    "\n",
    "fig, ax = subplots(figsize=(6,3),constrained_layout=True)\n",
    "\n",
    "e = linspace(1e-17,1e-12,num=200)\n",
    "f = ((1+e)-1)/e\n",
    "ax.loglog(e,f,'g')\n",
    "ax.axhline(y=1,ls=':',c=[0.6,0.6,0.6])\n",
    "ax.axvline(x=finfo(float).eps,ls=':',c=[0.6,0.6,0.6])\n",
    "ax.set_xlabel('$\\epsilon$',fontsize=10)\n",
    "ax.set_ylabel('$[(1+\\epsilon)-1)] / \\epsilon$',fontsize=10)\n",
    "ax.set_title('Variação relativa a $\\epsilon \\\\to \\epsilon_M $');"
   ]
  },
  {
   "cell_type": "markdown",
   "metadata": {},
   "source": [
    "## Valores especiais\n",
    "\n",
    "O padrão IEEE 754 traz alguns valores especiais para representar cadeias de bits especiais. São eles:\n",
    "\n",
    "- _NaN_ (_not a number_): representa um valor que é um erro.\n",
    "- _Inf_ (_infinity_): representa o infinito (em ambos os sentidos, positivo e negativo).\n",
    "\n",
    "A partir desses valores especiais, operáveis pelo módulo _numpy_ com `numpy.nan` e `numpy.inf`, respectivamente, podemos imitar operações matemáticas \"equivalentes\". Primeiramente, façamos:"
   ]
  },
  {
   "cell_type": "code",
   "execution_count": 21,
   "metadata": {},
   "outputs": [],
   "source": [
    "from numpy import nan, inf"
   ]
  },
  {
   "cell_type": "markdown",
   "metadata": {},
   "source": [
    "\n",
    "### Operações especiais\n",
    "\n",
    "- $n \\div \\pm \\infty \\to \\pm 0, n \\in \\mathbb{F}$"
   ]
  },
  {
   "cell_type": "code",
   "execution_count": 22,
   "metadata": {},
   "outputs": [
    {
     "data": {
      "text/plain": [
       "(0.0, -0.0, -0.0, -0.0)"
      ]
     },
     "execution_count": 22,
     "metadata": {},
     "output_type": "execute_result"
    }
   ],
   "source": [
    "2.1/inf, -4/inf, 5.2/-inf, 6/-inf"
   ]
  },
  {
   "cell_type": "markdown",
   "metadata": {},
   "source": [
    "- $\\pm \\infty \\times \\pm \\infty \\to \\pm \\infty$"
   ]
  },
  {
   "cell_type": "code",
   "execution_count": 23,
   "metadata": {},
   "outputs": [
    {
     "data": {
      "text/plain": [
       "(inf, -inf, -inf, inf)"
      ]
     },
     "execution_count": 23,
     "metadata": {},
     "output_type": "execute_result"
    }
   ],
   "source": [
    "inf*inf, inf*(-inf), -inf*inf, (-inf)*(-inf)"
   ]
  },
  {
   "cell_type": "markdown",
   "metadata": {},
   "source": [
    "- $n \\div \\pm 0 \\to \\ \\ !, n \\in \\mathbb{F}^{*}$"
   ]
  },
  {
   "cell_type": "code",
   "execution_count": 24,
   "metadata": {},
   "outputs": [
    {
     "ename": "ZeroDivisionError",
     "evalue": "division by zero",
     "output_type": "error",
     "traceback": [
      "\u001b[0;31m---------------------------------------------------------------------------\u001b[0m",
      "\u001b[0;31mZeroDivisionError\u001b[0m                         Traceback (most recent call last)",
      "Cell \u001b[0;32mIn [24], line 1\u001b[0m\n\u001b[0;32m----> 1\u001b[0m \u001b[38;5;241;43m1\u001b[39;49m\u001b[38;5;241;43m/\u001b[39;49m\u001b[38;5;241;43m0\u001b[39;49m, \u001b[38;5;241m-\u001b[39m\u001b[38;5;241m2\u001b[39m\u001b[38;5;241m/\u001b[39m\u001b[38;5;241m0\u001b[39m, \u001b[38;5;241m3\u001b[39m\u001b[38;5;241m/\u001b[39m(\u001b[38;5;241m-\u001b[39m\u001b[38;5;241m0\u001b[39m), \u001b[38;5;241m4\u001b[39m\u001b[38;5;241m/\u001b[39m(\u001b[38;5;241m-\u001b[39m\u001b[38;5;241m0\u001b[39m)\n",
      "\u001b[0;31mZeroDivisionError\u001b[0m: division by zero"
     ]
    }
   ],
   "source": [
    "1/0, -2/0, 3/(-0), 4/(-0)"
   ]
  },
  {
   "cell_type": "markdown",
   "metadata": {},
   "source": [
    "- $n \\times \\pm \\infty \\to \\pm \\infty, n \\in \\mathbb{F}$"
   ]
  },
  {
   "cell_type": "code",
   "execution_count": null,
   "metadata": {},
   "outputs": [],
   "source": [
    "1*inf, -2*inf, 3.1112*(-inf), -111*(-inf)"
   ]
  },
  {
   "cell_type": "markdown",
   "metadata": {},
   "source": [
    "- $\\pm \\infty \\pm \\infty \\to \\pm \\infty \\vee \\text{nan}$"
   ]
  },
  {
   "cell_type": "code",
   "execution_count": null,
   "metadata": {},
   "outputs": [],
   "source": [
    "inf + inf, inf - inf, - inf + inf, -inf - inf "
   ]
  },
  {
   "cell_type": "markdown",
   "metadata": {},
   "source": [
    "- $\\pm 0 \\div \\pm 0 \\to \\ \\ !$"
   ]
  },
  {
   "cell_type": "code",
   "execution_count": null,
   "metadata": {},
   "outputs": [],
   "source": [
    "0/-0"
   ]
  },
  {
   "cell_type": "markdown",
   "metadata": {},
   "source": [
    "- $\\pm \\infty \\div \\pm \\infty \\to \\text{nan}$"
   ]
  },
  {
   "cell_type": "code",
   "execution_count": null,
   "metadata": {},
   "outputs": [],
   "source": [
    "inf/inf, inf/-inf, -inf/inf, -inf/-inf"
   ]
  },
  {
   "cell_type": "markdown",
   "metadata": {},
   "source": [
    "- $\\pm \\infty \\times 0 \\to \\text{nan}$"
   ]
  },
  {
   "cell_type": "code",
   "execution_count": null,
   "metadata": {},
   "outputs": [],
   "source": [
    "inf*0, -inf*0"
   ]
  },
  {
   "cell_type": "markdown",
   "metadata": {},
   "source": [
    "- $\\text{nan} \\neq \\text{nan}$"
   ]
  },
  {
   "cell_type": "code",
   "execution_count": null,
   "metadata": {},
   "outputs": [],
   "source": [
    "nan == nan, nan != nan"
   ]
  },
  {
   "cell_type": "markdown",
   "metadata": {},
   "source": [
    "## Exemplos\n",
    "\n",
    "### Sistema de 16 bits\n",
    "\n",
    "- Comporta faixa de binários de $0000000000000000$ a $1111111111111111$\n",
    "- Limite superior: $(1 \\times 2^{14}) + (1 \\times 2^{13}) + \\ldots + (1 \\times 2^1) + (1 \\times 2^0) = 32767$\n",
    "- Uma vez que $+0 = 0000000000000000$, $-0 = 1000000000000000$ é um negativo a mais\n",
    "- Intervalo de inteiros representáveis: $[-32768,32767]$\n"
   ]
  },
  {
   "cell_type": "markdown",
   "metadata": {},
   "source": [
    "### Limites de _underflow_ e _overflow_\n",
    "\n",
    "Para o sistema $\\mathbb{F}(10,3,-5,5)$, vejamos os seguintes casos: \n",
    "\n",
    "#### Caso I: número representável x número não representável\n",
    "\n",
    "- $x = 235.89 = 0.23589 \\times 10^3$ (5 dígitos na mantissa)\n",
    "- $0.235 \\times 10^3$ e $0.236 \\times 10^3$ são representáveis\n",
    "- $0.23589 \\times 10^3$ não é representável (perda de dígitos significativos)\n",
    "\n",
    "#### Caso II: número não representável por causa de _underflow_\n",
    "\n",
    "- $x = 0.654 \\times 10^{-7}$ (expoente rompeu o limite $L=-5$)\n",
    "\n",
    "#### Caso III: número não representável por causa de _overflow_\n",
    "\n",
    "- $x = 0.923 \\times 10^{12}$ (expoente rompeu o limite $U=5$)"
   ]
  },
  {
   "cell_type": "markdown",
   "metadata": {},
   "source": [
    "Considere $\\mathbb{F}(2,3,-1,2)$. Represente os seguintes números, dados na base $10$, neste sistema de ponto flutuante normalizado.\n",
    "\n",
    "a) $x = 0.25$\n",
    "\n",
    "b) $x = 3.5$\n",
    "\n",
    "c) $x = 0.125$\n",
    "\n",
    "d) $x = 4$\n",
    "\n",
    "e) $x = 0.3$\n",
    "\n",
    "#### Solução \n",
    "\n",
    "Devemos ter $x = \\pm 0.d_1d_2d_3 \\times 2^e$, com $d_1 =1$, $d_2 \\in \\left\\{0, 1\\right\\}$, $d_3 \\in \\left\\{0, 1\\right\\}$\n",
    "e $e \\in \\left\\{-1, 0, 1, 2 \\right\\}$.\n",
    "\n",
    "a) $x = 0.25$\n",
    "\n",
    "Note que, $(0.25)_{10} = (0.01)_2 = 0.1 \\times 2^{-1}$, i.e. $d_1 = 1$ e $ e  = -1$. Logo, a representação de $x$ neste sistema de ponto flutuante é: $x = + \\,0.100 \\times 2^{-1}$.\n",
    "\n",
    "b) $ x = 3.5$ \n",
    "\n",
    "Aqui: $(3.5)_{10} = (11.1)_2 = 0.111 \\times 2^{2}$, i.e. $d_1 = 1$ e $e = 2$. Como $2_{10} = (10)_2$, a representação de $x$ neste sistema de ponto flutuante é: $x = + \\, 0.111 \\times 2^{10}$.\n",
    "\n",
    "c) $x = 0.125$\n",
    "\n",
    "Aqui: $(0.125)_{10} = (0.001)_2 = 0.1 \\times 2^{-2}$ , i.e, $d_1 = 1$ e $e = -2$. Como $e < L = -1$, \n",
    "temos _underflow_ (não representável).\n",
    "\n",
    "d) $x = 4$\n",
    "\n",
    "Note que, $(4)_{10} = (100)_2 = 0.1\\times 2^{3}$, i.e $d_1 = 1$ e $e = 3$. Como $e > U = 2$, temos\n",
    "_overflow_ (não representável).\n",
    "\n",
    "e) $x = 0.3$\n",
    "\n",
    "Note que, $(0.3)_{10} = (0.0\\,1001\\,1001\\dots)_2 =(0.1001\\,1001\\dots)\\times 2^{-1}$, i.e. $d_1 = 1$ e $e = {-1}$. Como devemos ter apenas 3 dígitos, este número **não é representável** neste sistema de ponto flutuante.\n",
    "\n",
    "Se truncarmos em 3 dígitos, então temos uma aproximação para $x$ dada por \n",
    "$$0.100 \\times 2^{-1} =(0.0100)_2 = \\\\\n",
    "0\\times \\frac{1}{2} + 1\\times \\frac{1}{4} + 0 \\times \\frac{1}{8}+ 0 \\times \\frac{1}{16} + 0 \\times \\frac{1}{32} = \\\\ (0.25)_{10} \\ne (0.3)_{10}.$$"
   ]
  },
  {
   "cell_type": "markdown",
   "metadata": {},
   "source": [
    "### Maior e menor número representável\n",
    "\n",
    "Considerando o mesmo sistema de ponto flutuante do exemplo anterior, determinar:\n",
    "\n",
    "a) O menor número real positivo representável neste sistema\n",
    "\n",
    "b) O maior número real positivo representável neste sistema\n",
    "\n",
    "#### Solução\n",
    "\n",
    "O menor número real positivo representável neste sistema é \n",
    "\n",
    "$$x_{min} = 0.100\\times 2^{-1} = (0.010)_{2} = 0\\times \\frac{1}{2} + 1 \\times \\frac{1}{4} = (0.25)_{10}.$$\n",
    "\n",
    "O maior número real positivo representável neste sistema é\n",
    "$$x_{max} = 0.111\\times 2^2 = (11.1)_{2} = 1\\times 2^1 + 1 \\times 2^0 + 1\\times \\frac{1}{2} =(3.5)_{10}.$$\n",
    "\n",
    "Lembre que no Exemplo 1.4, c), com $x = (0.125)_{10}$, e no Exemplo 1.4 d), com $ x = 4_{10}$, tivemos\n",
    "situações de _underflow_ e _overflow_, respectivamente.\n",
    "\n",
    "Já no Exemplo anterior, e), com $x = (0.3)_{10}$, tivemos  truncamento/aproximação."
   ]
  },
  {
   "cell_type": "markdown",
   "metadata": {},
   "source": [
    "### Números representáveis\n",
    "\n",
    "Determinar todos os números reais que são *representáveis exatamente* no sistema $\\mathbb{F}(2,3,-1,2)$.\n",
    "\n",
    "#### Solução\n",
    "\n",
    "Como $ t = 3 $, as possíveis mantissas não nulas são: $ (0.100)_2, (0.101)_2, (0.110)_2 $ e $(0.111)_2 $.\n",
    "Como $L=−1$ e $U=2$, os possíveis expoentes são: $−1 0,1$ e $2$. Assim, os números positivos \n",
    "com representação exata são:\n",
    "\n",
    "$$\n",
    "(0.100)_2 \\times 2^{-1} = \\frac{1}{2} \\times 2^{-1} = (0.25)_{10} = x_{min} \\\\\n",
    "(0.100)_2 \\times 2^{-1} = \\frac{1}{2} \\times 2^{-1} = (0.5)_{10} \\\\\n",
    "(0.100)_2 \\times 2^1    = \\frac{1}{2} \\times 2^1    = (1.0)_{10} \\\\\n",
    "(0.100)_2 \\times 2^2    = \\frac{1}{2} \\times 2^2    = (2.0)_{10} \\\\\n",
    "\\phantom{2} \\\\\n",
    "(0.101)_2 \\times 2^{-1} = \\left( \\frac{1}{2} + \\frac{1}{8} \\right) \\times 2^{-1} = (0.3125)_{10} \\\\\n",
    "(0.101)_2 \\times 2^{-1} = \\left( \\frac{1}{2} + \\frac{1}{8} \\right) \\times 2^{-1} = (0.625)_{10} \\\\\n",
    "(0.101)_2 \\times 2^1    = \\left( \\frac{1}{2} + \\frac{1}{8} \\right) \\times 2^1    = (1.25)_{10} \\\\\n",
    "(0.101)_2 \\times 2^2    = \\left( \\frac{1}{2} + \\frac{1}{8} \\right) \\times 2^2    = (2.5)_{10} \\\\\n",
    "\\phantom{2} \\\\\n",
    "(0.110)_2 \\times 2^{-1} = \\left( \\frac{1}{2} + \\frac{1}{4} \\right) \\times 2^{-1} = (0.375)_{10} \\\\\n",
    "(0.110)_2 \\times 2^{-1} = \\left( \\frac{1}{2} + \\frac{1}{4} \\right) \\times 2^{-1} = (0.75)_{10} \\\\\n",
    "(0.110)_2 \\times 2^1    = \\left( \\frac{1}{2} + \\frac{1}{4} \\right) \\times 2^1    = (1.5)_{10} \\\\\n",
    "(0.110)_2 \\times 2^2    = \\left( \\frac{1}{2} + \\frac{1}{4} \\right) \\times 2^2    = (3.0)_{10} \\\\\n",
    "\\phantom{2} \\\\\n",
    "(0.111)_2 \\times 2^{-1} = \\left( \\frac{1}{2} + \\frac{1}{4} + \\frac{1}{8} \\right) \\times 2^{-1} = (0.4375)_{10} \\\\\n",
    "(0.111)_2 \\times 2^{-1} = \\left( \\frac{1}{2} + \\frac{1}{4} + \\frac{1}{8} \\right) \\times 2^{-1} = (0.875)_{10} \\\\\n",
    "(0.111)_2 \\times 2^1    = \\left( \\frac{1}{2} + \\frac{1}{4} + \\frac{1}{8} \\right) \\times 2^1    = (1.75)_{10} \\\\\n",
    "(0.111)_2 \\times 2^2    = \\left( \\frac{1}{2} + \\frac{1}{4} + \\frac{1}{8} \\right) \\times 2^2    = (3.5)_{10} = x_{max} \\\\\n",
    "$$\n",
    "Portanto, temos apenas **33** números reais _representáveis exatamente_ neste sistema. \n",
    "Todos os acima e os negativos, i.e.:\n",
    "\n",
    "$$0.0, \\pm 0.25, \\pm 0.3125, \\dots, \\pm 3.5$$"
   ]
  },
  {
   "cell_type": "code",
   "execution_count": null,
   "metadata": {
    "tags": [
     "remove-input"
    ]
   },
   "outputs": [],
   "source": [
    "plt.rcdefaults()"
   ]
  }
 ],
 "metadata": {
  "celltoolbar": "Edit Metadata",
  "kernelspec": {
   "display_name": "Python 3 (ipykernel)",
   "language": "python",
   "name": "python3"
  },
  "language_info": {
   "codemirror_mode": {
    "name": "ipython",
    "version": 3
   },
   "file_extension": ".py",
   "mimetype": "text/x-python",
   "name": "python",
   "nbconvert_exporter": "python",
   "pygments_lexer": "ipython3",
   "version": "3.10.10"
  },
  "vscode": {
   "interpreter": {
    "hash": "b0fa6594d8f4cbf19f97940f81e996739fb7646882a419484c72d19e05852a7e"
   }
  }
 },
 "nbformat": 4,
 "nbformat_minor": 4
}