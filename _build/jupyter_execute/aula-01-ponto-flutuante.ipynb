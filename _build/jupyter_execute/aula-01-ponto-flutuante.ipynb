{
 "cells": [
  {
   "cell_type": "markdown",
   "metadata": {},
   "source": [
    "# Conversão numérica e ponto flutuante"
   ]
  },
  {
   "cell_type": "markdown",
   "metadata": {},
   "source": [
    "## Sistema binário\n",
    "\n",
    "Neste capítulo, exploramos exercícios simples de conversão numérica como parte do conhecimento introdutó à computação numérica com Python."
   ]
  },
  {
   "cell_type": "code",
   "execution_count": 1,
   "metadata": {},
   "outputs": [
    {
     "name": "stdout",
     "output_type": "stream",
     "text": [
      "4\n",
      "4\n",
      "0b100\n"
     ]
    }
   ],
   "source": [
    "# (100)_2 -> base 10\n",
    "c = int('100',base=2)\n",
    "print(c)\n",
    "\n",
    "# representação  \n",
    "print(1*2**2 + 0*2**1 + 0*2**0)\n",
    "\n",
    "# (4)_10 -> base 2\n",
    "# obs: note que '0b' indica que o número é binário\n",
    "c = bin(4)\n",
    "print(c)"
   ]
  },
  {
   "cell_type": "code",
   "execution_count": 3,
   "metadata": {},
   "outputs": [
    {
     "name": "stdout",
     "output_type": "stream",
     "text": [
      "146\n",
      "146\n",
      "0o222\n"
     ]
    }
   ],
   "source": [
    "# (222)_8\n",
    "c = int('222',base=8)\n",
    "print(c)\n",
    "\n",
    "# representação  \n",
    "print(2*8**2 + 2*8**1 + 2*8**0)\n",
    "\n",
    "# (146)_10 -> base 8\n",
    "\n",
    "c = oct(146)\n",
    "# obs: note que '0o' indica que o número é octal\n",
    "print(c)"
   ]
  },
  {
   "cell_type": "code",
   "execution_count": 4,
   "metadata": {},
   "outputs": [
    {
     "name": "stdout",
     "output_type": "stream",
     "text": [
      "10980\n",
      "10980\n",
      "0o222\n"
     ]
    }
   ],
   "source": [
    "# (2AE4)_16\n",
    "c = int('2ae4',base=16)\n",
    "print(c)\n",
    "\n",
    "# representação  \n",
    "# obs: A = 10; E = 14\n",
    "print(2*16**3 + 10*16**2 + 14*16**1 + 4*166**0)\n",
    "\n",
    "# (146)_10 -> base 8\n",
    "\n",
    "c = oct(146)\n",
    "# obs: note que '0o' indica que o número é octal\n",
    "print(c)"
   ]
  },
  {
   "cell_type": "markdown",
   "metadata": {},
   "source": [
    "## Sistema de ponto flutuante \n",
    "\n",
    "### A reta \"perfurada\" \n",
    "\n",
    "Na realidade, a matemática computacional opera sobre um universo discreto e \"descontínuo (conjunto $\\mathbb{F}$), de pontos flutuantes, ao invés de trabalhar com números reais (conjunto $\\mathbb{R}$). Por exemplo, o sistema de ponto flutuante $\\mathbb{F}(2,3,-1,2)$ seria bastante limitado em sua capacidade de representar números. Determinemos todos eles.\n",
    "\n",
    "Como a base é 2 e a precisão é 3, os dígitos possíveis são $0$ e $1$ com mantissas: \n",
    "\n",
    "- $0.100$\n",
    "- $0.101$\n",
    "- $0.110$\n",
    "- $0.111$\n",
    "\n",
    "Para cada expoente no conjunto $e=\\{-1,0,1,2\\}$, obteremos 16 números positivos, a saber: \n",
    "\n",
    "- $(0.100 \\times 2^{-1})_{2} = (0.01)_2 = 0.2^0 + 0.2^{-1} + 1.2^{-2} = 1/4$\n",
    "- $(0.100 \\times 2^{0})_{2} = (0.1)_2 = 0.2^0 + 1.2^{-1} = 1/2$\n",
    "- $(0.100 \\times 2^{1})_{2} = (1.0)_2 = 1.2^0 + 0.2^{-1} = 1$\n",
    "- $(0.100 \\times 2^{2})_{2} = (10.0)_2 = 1.2^1 + 0.2^{1} + 0.2^{-1} = 2$\n",
    "\n",
    "\n",
    "- $(0.101 \\times 2^{-1})_{2} = (0.0101)_2 = 0.2^0 + 0.2^{-1} + 1.2^{-2} + 0.2^{-3} + 1.2^{-4}= 5/16$\n",
    "- $(0.101 \\times 2^{0})_{2} = (0.101)_2 = 0.2^0 + 1.2^{-1} + 0.2^{-2} + 1.2^{-3} = 5/8$\n",
    "- $(0.101 \\times 2^{1})_{2} = (1.01)_2 = 1.2^0 + 0.2^{-1} + 1.2^{-2} = 1$\n",
    "- $(0.101 \\times 2^{2})_{2} = (10.1)_2 = 1.2^1 + 0.2^{1} + 0.2^{-1} = 2$\n",
    "\n",
    "$\\vdots$\n",
    "\n",
    "\n",
    "\n",
    "Fazendo as contas para os números restantes, obtemos a seguinte tabela: \n",
    "\n",
    "|     | m  | 0.100 | 0.101 | 0.110 | 0.111 |\n",
    "|-----|----|------ |-------|-------|-------|\n",
    "|**e**|    |       |       |       |       |\n",
    "| -1  |    | 1/4   | 5/16  | 3/8   | 7/16  |\n",
    "| 0   |    | 1/2   | 5/8   | 3/4   | 7/8   |\n",
    "| 1   |    | 1     | 5/4   | 3/2   | 7/4   |\n",
    "| 2   |    | 2     | 5/2   | 3     | 7/2   |\n",
    "\n",
    "Na reta real, esses valores ficariam dispostos da seguinte forma: "
   ]
  },
  {
   "cell_type": "code",
   "execution_count": 21,
   "metadata": {},
   "outputs": [
    {
     "data": {
      "image/png": "[encoded data removed]",
      "text/plain": [
       "<Figure size 432x288 with 1 Axes>"
      ]
     },
     "metadata": {
      "filenames": {
       "image/png": "/Users/gustavo/Dropbox/courses/calculo-numerico/ipynb-lab-metodos-numericos/_build/jupyter_execute/aula-01-ponto-flutuante_6_0.png"
      },
      "needs_background": "light"
     },
     "output_type": "display_data"
    }
   ],
   "source": [
    "from matplotlib.pyplot import plot\n",
    "x = [1/4,1/2,1,2,5/16,5/8,5/4,5/2,3/8,3/4,3/2,3,7/16,7/8,7/4,7/2]\n",
    "x = sorted(x)\n",
    "\n",
    "plot(x,16*[0],':')\n",
    "plot(x,16*[0],'o');"
   ]
  },
  {
   "cell_type": "markdown",
   "metadata": {},
   "source": [
    "Isto é, $\\mathbb{F}$ é uma reta \"perfurada\", para a qual apenas 16 números positivos, 16 simétricos destes e mais o 0 são representáveis. Logo, o conjunto contém apenas 33 elementos."
   ]
  },
  {
   "cell_type": "markdown",
   "metadata": {},
   "source": [
    "## Simulador de $\\mathbb{F}$\n",
    "\n",
    "O programa abaixo permite-nos simular sistemas de pontos flutuantes básicos que plotam apenas a parte positiva do eixo."
   ]
  },
  {
   "cell_type": "code",
   "execution_count": 23,
   "metadata": {},
   "outputs": [
    {
     "data": {
      "image/png": "[encoded data removed]",
      "text/plain": [
       "<Figure size 432x288 with 1 Axes>"
      ]
     },
     "metadata": {
      "filenames": {
       "image/png": "/Users/gustavo/Dropbox/courses/calculo-numerico/ipynb-lab-metodos-numericos/_build/jupyter_execute/aula-01-ponto-flutuante_9_0.png"
      },
      "needs_background": "light"
     },
     "output_type": "display_data"
    }
   ],
   "source": [
    "def simulacao_F(b,t,L,U):\n",
    "    x = []\n",
    "    epsm = b**(1-t) # epsilon de máquina\n",
    "    M = np.arange(1.,b-epsm,epsm)\n",
    "\n",
    "    E = 1\n",
    "    for e in range(0,U+1):\n",
    "        x = np.concatenate([x,M*E])\n",
    "        E *= b    \n",
    "    E = b**(-1)\n",
    "    \n",
    "    y = []\n",
    "    for e in range(-1,L-1,-1):\n",
    "        y = np.concatenate([y,M*E])\n",
    "        E /= b    \n",
    "    yy = np.asarray(y)\n",
    "    xx = np.asarray(x)    \n",
    "    x = np.concatenate([yy,np.array([0.]),xx])\n",
    "    return x\n",
    "\n",
    "Y = simulacao_F(2,2,-3,2)\n",
    "X = np.zeros(Y.shape)\n",
    "\n",
    "plt.scatter(Y,X,c='r',marker='+');"
   ]
  },
  {
   "cell_type": "markdown",
   "metadata": {},
   "source": [
    "## Limites de máquina para ponto flutuante\n",
    "\n",
    "As informações sobre os limites de máquina para um sistema de 64 bits utilizados na computação científica com Python podem ser obtidas com a ajuda do _numpy_. Detalhes são exibidos com\n",
    "\n",
    "```python\n",
    "help(np.finfo)\n",
    "```\n",
    "\n"
   ]
  },
  {
   "cell_type": "code",
   "execution_count": 27,
   "metadata": {},
   "outputs": [
    {
     "name": "stdout",
     "output_type": "stream",
     "text": [
      "Epsilon de máquina do numpy - 64 bits\n",
      "2.220446049250313e-16\n",
      "\n",
      "Número máximo representável:\n",
      "1.7976931348623157e+308\n",
      "\n",
      "Número mínimo representável:\n",
      "-1.7976931348623157e+308\n",
      "\n",
      "Número de bits no expoente\n",
      "11\n",
      "\n",
      "Número de bits na mantissa\n",
      "52\n"
     ]
    }
   ],
   "source": [
    "import numpy as np \n",
    "\n",
    "# epsilon de máquina para tipo float (64 bits)\n",
    "print('Epsilon de máquina do numpy - 64 bits')\n",
    "print(np.finfo(float).eps)\n",
    "\n",
    "# número máximo representável \n",
    "print('\\nNúmero máximo representável:')\n",
    "print(np.finfo(float).max)\n",
    "\n",
    "# número mínimo representável \n",
    "print('\\nNúmero mínimo representável:') \n",
    "print(np.finfo(float).min)\n",
    "\n",
    "# número de bits no expoente \n",
    "print('\\nNúmero de bits no expoente') \n",
    "print(np.finfo(float).nexp)\n",
    "\n",
    "# número de bits na mantissa\n",
    "print('\\nNúmero de bits na mantissa')\n",
    "print(np.finfo(float).nmant)"
   ]
  },
  {
   "cell_type": "markdown",
   "metadata": {},
   "source": [
    "O cálculo do _epsilon de máquina_ pode ser realizado da seguinte forma:"
   ]
  },
  {
   "cell_type": "code",
   "execution_count": 36,
   "metadata": {},
   "outputs": [
    {
     "data": {
      "text/plain": [
       "2.220446049250313e-16"
      ]
     },
     "execution_count": 36,
     "metadata": {},
     "output_type": "execute_result"
    }
   ],
   "source": [
    "def eps_mach(func=float):\n",
    "    eps = func(1)\n",
    "    while func(1) + func(eps) != func(1):\n",
    "        epsf = eps\n",
    "        eps = func(eps) / func(2)\n",
    "    return epsf\n",
    "\n",
    "eps_mach()"
   ]
  },
  {
   "cell_type": "markdown",
   "metadata": {},
   "source": [
    "Em termos relativos, a estagnação do _epsilon de máquina_ pode ser graficamente representada através dos seguintes comandos."
   ]
  },
  {
   "cell_type": "code",
   "execution_count": 39,
   "metadata": {},
   "outputs": [
    {
     "data": {
      "image/png": "[encoded data removed]",
      "text/plain": [
       "<Figure size 432x288 with 1 Axes>"
      ]
     },
     "metadata": {
      "filenames": {
       "image/png": "/Users/gustavo/Dropbox/courses/calculo-numerico/ipynb-lab-metodos-numericos/_build/jupyter_execute/aula-01-ponto-flutuante_15_0.png"
      },
      "needs_background": "light"
     },
     "output_type": "display_data"
    }
   ],
   "source": [
    "from matplotlib.pyplot import plot\n",
    "\n",
    "x = np.linspace(1e-15,1e-20,num=100)\n",
    "f = ((1+x)-1)/x\n",
    "plot(x,f);"
   ]
  },
  {
   "cell_type": "markdown",
   "metadata": {},
   "source": [
    "## Exercícios\n",
    "\n",
    "1. Use o simulador de $\\mathbb{F}$ para construir outros sistemas computacionais."
   ]
  }
 ],
 "metadata": {
  "celltoolbar": "Edit Metadata",
  "kernelspec": {
   "display_name": "Python 3",
   "language": "python",
   "name": "python3"
  },
  "language_info": {
   "codemirror_mode": {
    "name": "ipython",
    "version": 3
   },
   "file_extension": ".py",
   "mimetype": "text/x-python",
   "name": "python",
   "nbconvert_exporter": "python",
   "pygments_lexer": "ipython3",
   "version": "3.8.8"
  }
 },
 "nbformat": 4,
 "nbformat_minor": 4
}