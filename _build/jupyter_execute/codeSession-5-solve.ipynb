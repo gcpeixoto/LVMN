{
 "cells": [
  {
   "cell_type": "markdown",
   "metadata": {},
   "source": [
    "# Code session 5"
   ]
  },
  {
   "cell_type": "code",
   "execution_count": 6,
   "metadata": {},
   "outputs": [],
   "source": [
    "import numpy as np"
   ]
  },
  {
   "cell_type": "markdown",
   "metadata": {},
   "source": [
    "## `linalg.solve`\n",
    "\n",
    "A função `solve` é o método mais simples disponibilizado pelos módulos `numpy` e `scipy` para resolver sistemas matriciais lineares. Como a função pertence ao escopo da Álgebra Linear, ela está localizada em submódulo chamado `linalg`. `solve` calculará a solução exata do sistema como um método direto se a matriz do sistema for determinada (quadrada e sem colunas linearmente dependentes). Se a matriz for singular, o método retorna um erro. Se for de posto deficiente, o método resolve o sistema linear usando um algoritmo de mínimos quadrados. \n",
    "\n",
    "Os argumentos de entrada obrigatórios desta função são: \n",
    "\n",
    "1. a matriz `A` dos coeficientes\n",
    "2. o vetor independente `b`\n",
    "\n",
    "O argumento de saída é:\n",
    "\n",
    "- `x`: o vetor-solução do sistema.\n",
    "\n",
    "Como importá-la? \n",
    "\n",
    "```python \n",
    "from numpy.linalg import solve\n",
    "```"
   ]
  },
  {
   "cell_type": "code",
   "execution_count": 7,
   "metadata": {},
   "outputs": [],
   "source": [
    "from numpy.linalg import solve"
   ]
  },
  {
   "cell_type": "markdown",
   "metadata": {},
   "source": [
    "### Problema 1\n",
    "\n",
    "Uma rede elétrica contém 3 _loops_. Ao aplicar a lei de Kirchoff a cada _loop_, o cientista Hely Johnson obteve as seguintes equações para as correntes $i_1$, $i_2$ e $i_3$ em cada _loop:_\n",
    "\n",
    "$$\\begin{eqnarray}\n",
    "(50 + R)i_1 - Ri_2 - 30i_3 &=& 0 \\\\\n",
    "- Ri_1 + (65 + R)i_2 - 15i_3 &=& 0 \\\\\n",
    "-30i_1 - 15i_2 + 45i_3 &=& 120 \n",
    "\\end{eqnarray}$$\n",
    "\n",
    "Ajude Hely Johnson em seus experimentos e calcule as correntes para os valores de resistência $R = \\{ 5 \\Omega, 10 \\Omega, 20 \\Omega \\}$."
   ]
  },
  {
   "cell_type": "markdown",
   "metadata": {},
   "source": [
    "### Resolução"
   ]
  },
  {
   "cell_type": "markdown",
   "metadata": {},
   "source": [
    "Podemos começar definindo uma lista para armazenar os valores das resistências de teste:"
   ]
  },
  {
   "cell_type": "code",
   "execution_count": 8,
   "metadata": {},
   "outputs": [],
   "source": [
    "R = [5.,10.,15.]"
   ]
  },
  {
   "cell_type": "markdown",
   "metadata": {},
   "source": [
    "Em seguida, escreveremos a matriz dos coeficientes e o vetor independente (lado direito). Note que precisamos de uma \"lista de listas\", ou melhor, um _\"array de arrays\"_, onde cada _array_ está associado à uma linha da matriz.\n",
    "\n",
    "Todavia, vamos definir uma função para montar o sistema em função do valor de $R$ e resolvê-lo. "
   ]
  },
  {
   "cell_type": "code",
   "execution_count": 9,
   "metadata": {},
   "outputs": [],
   "source": [
    "# montagem do sistema\n",
    "def resolve_sistema(R):\n",
    "    A = np.array([ [50+R,-R,-30],[-R,65+R,-15],[-30,-15,45] ])\n",
    "    b = np.array([0,0,120])\n",
    "    x = solve(A,b)\n",
    "    return x"
   ]
  },
  {
   "cell_type": "markdown",
   "metadata": {},
   "source": [
    "Além disso, usaremos um laço `for` para calcularmos todas as respostas necessárias de uma só vez e organizaremos os resultados em dicionário (objeto `dict`):"
   ]
  },
  {
   "cell_type": "code",
   "execution_count": 10,
   "metadata": {},
   "outputs": [
    {
     "name": "stdout",
     "output_type": "stream",
     "text": [
      "Para o valor de resistência R = 5 ohms: i1 = 2.82927 A, i2 = 1.26829 A, i3 = 4.97561 A\n",
      "Para o valor de resistência R = 10 ohms: i1 = 2.66667 A, i2 = 1.33333 A, i3 = 4.88889 A\n",
      "Para o valor de resistência R = 15 ohms: i1 = 2.54545 A, i2 = 1.38182 A, i3 = 4.82424 A\n"
     ]
    }
   ],
   "source": [
    "# salva soluções agrupadas em um dicionário\n",
    "sols = {}\n",
    "for r in R:\n",
    "    sols[r] = resolve_sistema(r)\n",
    "    print('Para o valor de resistência R = {0:g} ohms: i1 = {1:g} A, i2 = {2:g} A, i3 = {3:g} A'.format(r, sols[r][0], sols[r][1], sols[r][2]))"
   ]
  },
  {
   "cell_type": "markdown",
   "metadata": {},
   "source": [
    "### Tarefa"
   ]
  },
  {
   "cell_type": "markdown",
   "metadata": {},
   "source": [
    "Retorne ao notebook da [Aula 09](aula-09-eliminacao-gauss.ipynb) e use o conteúdo da aula para fazer uma verificação das soluções encontradas para este problema em cada caso. Use a função `linalg.cond` para calcular o _número de condicionamento_ da matriz do sistema em cada caso. (**Sugestão:** vide `numpy.allclose`)"
   ]
  },
  {
   "cell_type": "markdown",
   "metadata": {},
   "source": [
    "## `linalg.cholesky`\n",
    "\n",
    "Assim como `solve`, a função `cholesky` está disponível tanto via `numpy` como `scipy` para determinar a decomposição de Cholesky de uma matriz simétrica e positiva definida.\n",
    "\n",
    "Na prática, não é recomendável verificar se uma matriz é positiva definida através dos critérios teóricos. A função `cholesky` não realiza essa checagem. Portanto, é importante que, pelo menos, se saiba que a matriz é simétrica. Para testar se ela atende a propriedade de definição positiva, a abordagem mais direta é usar `cholesky` e verificar se ela retorna uma decomposição de Cholesky. Se não for o caso, um erro será lançado.\n",
    "\n",
    "O argumento de entrada desta função é: \n",
    "\n",
    "- `A`: matriz dos coeficientes\n",
    "\n",
    "O argumento de saída é:\n",
    "\n",
    "- `L`: o fator de Cholesky\n",
    "\n",
    "Como importá-la? \n",
    "\n",
    "```python \n",
    "from numpy.linalg import cholesky\n",
    "```"
   ]
  },
  {
   "cell_type": "code",
   "execution_count": 11,
   "metadata": {},
   "outputs": [],
   "source": [
    "from numpy.linalg import cholesky"
   ]
  },
  {
   "cell_type": "markdown",
   "metadata": {},
   "source": [
    "### Problema 2\n",
    "\n",
    "Calcule o fator de Cholesky para a matriz $A$ do Problema 1 para $R = 5$."
   ]
  },
  {
   "cell_type": "code",
   "execution_count": 13,
   "metadata": {},
   "outputs": [
    {
     "data": {
      "text/plain": [
       "array([[ 7.41619849,  0.        ,  0.        ],\n",
       "       [-0.67419986,  8.33939174,  0.        ],\n",
       "       [-4.04519917, -2.12572731,  4.91097211]])"
      ]
     },
     "execution_count": 13,
     "metadata": {},
     "output_type": "execute_result"
    }
   ],
   "source": [
    "R = 5.\n",
    "B = np.array([ [50+R,-R,-30],[-R,65+R,-15],[-30,-15,45] ])\n",
    "\n",
    "L = cholesky(B)\n",
    "L"
   ]
  },
  {
   "cell_type": "markdown",
   "metadata": {},
   "source": [
    "Podemos verificar a decomposição multiplicando a matriz triangular (fator de Cholesky) pela sua transposta."
   ]
  },
  {
   "cell_type": "code",
   "execution_count": 19,
   "metadata": {},
   "outputs": [
    {
     "data": {
      "text/plain": [
       "array([[ 55.,  -5., -30.],\n",
       "       [ -5.,  70., -15.],\n",
       "       [-30., -15.,  45.]])"
      ]
     },
     "execution_count": 19,
     "metadata": {},
     "output_type": "execute_result"
    }
   ],
   "source": [
    "np.matmul(L,L.T)"
   ]
  },
  {
   "cell_type": "code",
   "execution_count": 20,
   "metadata": {},
   "outputs": [
    {
     "data": {
      "text/plain": [
       "array([[ 55.,  -5., -30.],\n",
       "       [ -5.,  70., -15.],\n",
       "       [-30., -15.,  45.]])"
      ]
     },
     "execution_count": 20,
     "metadata": {},
     "output_type": "execute_result"
    }
   ],
   "source": [
    "B"
   ]
  },
  {
   "cell_type": "markdown",
   "metadata": {},
   "source": [
    "Entretanto, não é verdade que"
   ]
  },
  {
   "cell_type": "code",
   "execution_count": 21,
   "metadata": {},
   "outputs": [
    {
     "data": {
      "text/plain": [
       "array([[ True, False,  True],\n",
       "       [False,  True, False],\n",
       "       [ True, False,  True]])"
      ]
     },
     "execution_count": 21,
     "metadata": {},
     "output_type": "execute_result"
    }
   ],
   "source": [
    "# por que a igualdade falha \n",
    "# para algumas entradas?\n",
    "B == np.matmul(L,L.T)"
   ]
  },
  {
   "cell_type": "markdown",
   "metadata": {},
   "source": [
    "## Problema 3\n",
    "\n",
    "Verificar se uma matriz simétrica é positiva definida."
   ]
  },
  {
   "cell_type": "code",
   "execution_count": 50,
   "metadata": {},
   "outputs": [
    {
     "data": {
      "text/plain": [
       "array([[ -5., -65., -90.],\n",
       "       [-65.,  10., -75.],\n",
       "       [-90., -75., -15.]])"
      ]
     },
     "execution_count": 50,
     "metadata": {},
     "output_type": "execute_result"
    }
   ],
   "source": [
    "# cria matriz simétrica \n",
    "C = np.tril(B) - 60\n",
    "C = np.tril(C) + np.tril(C,-1).T\n",
    "C"
   ]
  },
  {
   "cell_type": "code",
   "execution_count": 48,
   "metadata": {},
   "outputs": [],
   "source": [
    "# erro! \n",
    "# matriz não é PD\n",
    "#cholesky(C)"
   ]
  },
  {
   "cell_type": "code",
   "execution_count": 51,
   "metadata": {},
   "outputs": [
    {
     "data": {
      "text/plain": [
       "array([[ 56.,  -4., -29.],\n",
       "       [ -4.,  71., -14.],\n",
       "       [-29., -14.,  46.]])"
      ]
     },
     "execution_count": 51,
     "metadata": {},
     "output_type": "execute_result"
    }
   ],
   "source": [
    "# cria outra matriz simétrica\n",
    "D = np.tril(B) + 1\n",
    "D = np.tril(D) + np.tril(D,-1).T\n",
    "D"
   ]
  },
  {
   "cell_type": "code",
   "execution_count": 52,
   "metadata": {},
   "outputs": [
    {
     "data": {
      "text/plain": [
       "array([[ 7.48331477,  0.        ,  0.        ],\n",
       "       [-0.53452248,  8.40917866,  0.        ],\n",
       "       [-3.87528801, -1.91117697,  5.22776678]])"
      ]
     },
     "execution_count": 52,
     "metadata": {},
     "output_type": "execute_result"
    }
   ],
   "source": [
    "# matriz é PD\n",
    "cholesky(D)"
   ]
  },
  {
   "cell_type": "markdown",
   "metadata": {},
   "source": [
    "## Problema 4\n",
    "\n",
    "Resolva o Problema 1 para $R = 10$ usando a fatoração de Cholesky."
   ]
  },
  {
   "cell_type": "code",
   "execution_count": 55,
   "metadata": {},
   "outputs": [
    {
     "data": {
      "text/plain": [
       "array([2.66666667, 1.33333333, 4.88888889])"
      ]
     },
     "execution_count": 55,
     "metadata": {},
     "output_type": "execute_result"
    }
   ],
   "source": [
    "R = 10.\n",
    "D = np.array([ [50+R,-R,-30],[-R,65+R,-15],[-30,-15,45] ])\n",
    "b = np.array([0,0,120])\n",
    "\n",
    "# fator \n",
    "L = cholesky(D)\n",
    "\n",
    "# passo 1\n",
    "# Ly = b\n",
    "y = solve(L,b)\n",
    "\n",
    "# passo 2\n",
    "# L^T x = y\n",
    "x = solve(L.T,y)\n",
    "\n",
    "# solução\n",
    "x"
   ]
  },
  {
   "cell_type": "markdown",
   "metadata": {},
   "source": [
    "Compare a solução via Cholesky com a do Problema 1:"
   ]
  },
  {
   "cell_type": "code",
   "execution_count": 59,
   "metadata": {},
   "outputs": [
    {
     "data": {
      "text/plain": [
       "(array([2.66666667, 1.33333333, 4.88888889]),\n",
       " array([2.66666667, 1.33333333, 4.88888889]))"
      ]
     },
     "execution_count": 59,
     "metadata": {},
     "output_type": "execute_result"
    }
   ],
   "source": [
    "x, sols[10]"
   ]
  },
  {
   "cell_type": "markdown",
   "metadata": {},
   "source": [
    "Mais uma vez, note que:"
   ]
  },
  {
   "cell_type": "code",
   "execution_count": 60,
   "metadata": {},
   "outputs": [
    {
     "data": {
      "text/plain": [
       "array([False,  True,  True])"
      ]
     },
     "execution_count": 60,
     "metadata": {},
     "output_type": "execute_result"
    }
   ],
   "source": [
    "# A comparação falha.\n",
    "# Por quê?\n",
    "x == sols[10]"
   ]
  }
 ],
 "metadata": {
  "kernelspec": {
   "display_name": "Python 3",
   "language": "python",
   "name": "python3"
  },
  "language_info": {
   "codemirror_mode": {
    "name": "ipython",
    "version": 3
   },
   "file_extension": ".py",
   "mimetype": "text/x-python",
   "name": "python",
   "nbconvert_exporter": "python",
   "pygments_lexer": "ipython3",
   "version": "3.8.8"
  }
 },
 "nbformat": 4,
 "nbformat_minor": 4
}