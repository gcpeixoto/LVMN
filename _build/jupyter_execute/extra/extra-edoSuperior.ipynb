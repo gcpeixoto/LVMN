{
 "cells": [
  {
   "attachments": {},
   "cell_type": "markdown",
   "metadata": {},
   "source": [
    "# EDOs de ordem superior (redução de ordem) \n",
    "\n",
    "EDOs de ordem superior podem ser reescritas como sistemas de EDOs de primeira ordem. A fim de verificarmos como isto pode ser feito, consideremos, inicialmente o caso geral de uma EDO de segunda ordem. \n",
    "\n",
    "$$\\begin{cases}\n",
    "y''(t) = f(t,y,y') \\\\\n",
    "y(t_0) = y_0 \\\\ \n",
    "y'(t_0) = y_0'\n",
    "\\end{cases}$$\n",
    "\n",
    "Se fizermos $y_1(t) = y(t)$ e $y_2(t) = y'(t)$, o PVI acima pode ser reformulado como um sistema de duas EDOs de primeira ordem como: \n",
    "\n",
    "$$\\begin{cases}\n",
    "y_1'(t) = y_2(t) \\\\\n",
    "y_2'(t) = f(t,y_1,y_2) \\\\\n",
    "y_1(t_0) = y_0 \\\\\n",
    "y_2(t_0) = y_0'\n",
    "\\end{cases}$$"
   ]
  },
  {
   "attachments": {},
   "cell_type": "markdown",
   "metadata": {},
   "source": [
    "## Movimento pendular simples\n",
    "\n",
    "Como exemplo (simplificado) prático derivado de uma EDO de segunda ordem, temos o movimento de um pêndulo submetido apenas à força gravitacional como mostra a figura abaixo. O pêndulo de massa $m$ fica pendurado por uma corda de comprimento $l$ e se move em relação ao eixo $\\theta = 0$. O movimento é completamente descrito com a especificação da posição inicial $\\theta(0) = \\theta_0$ e a velocidade angular inicial $\\theta'(0) = \\theta_0'$."
   ]
  },
  {
   "cell_type": "code",
   "execution_count": 5,
   "metadata": {},
   "outputs": [
    {
     "data": {
      "image/png": "[encoded data removed]",
      "text/plain": [
       "<Figure size 216x216 with 1 Axes>"
      ]
     },
     "metadata": {
      "filenames": {
       "image/png": "/Users/gustavo/Dropbox/courses/calculo-numerico/LVMN/_build/jupyter_execute/extra/extra-edoSuperior_2_0.png"
      }
     },
     "output_type": "display_data"
    }
   ],
   "source": [
    "import numpy as np\n",
    "import matplotlib.pyplot as plt \n",
    "\n",
    "#plt.autoscale(enable=True, axis='x', tight=True)\n",
    "plt.figure(figsize=(3,3))\n",
    "\n",
    "theta = np.pi/10\n",
    "x = np.linspace(0,1,10)\n",
    "plt.axvline(x=0.5,ymin=0,ymax=1.0,linestyle='--',linewidth=1.0)\n",
    "plt.plot([0.5,0.5 + np.sin(theta)],[1.0,1.0-np.cos(theta)],linewidth=1.0)\n",
    "plt.scatter([0.5 + np.sin(theta)],[1.0-np.cos(theta)],s=300)\n",
    "plt.box(False); locs, labels = plt.xticks(); plt.tick_params(axis='both',width=0.0,labelleft=False,labelbottom=False)\n",
    "x1,x2 = plt.xlim([0,1])\n",
    "y1,y2 = plt.ylim([-0.3,1])\n",
    "\n",
    "plt.annotate('$\\\\theta$',xy=(0.52,0.72),fontsize=14);"
   ]
  },
  {
   "attachments": {},
   "cell_type": "markdown",
   "metadata": {},
   "source": [
    "Uma vez que o comprimento do arco realizado pelo pêndulo é $s = l\\theta$ e a força-peso tangente ao arco oposta ao movimento é determinada em função de $\\theta$ por $-mg{\\rm sen}(\\theta)$, a segunda lei de Newton diz-nos que \n",
    "\n",
    "$$m\\dfrac{d^2s}{dt^2} = -mg{\\rm sen}(\\theta) \\Rightarrow \\dfrac{d^2 \\theta}{dt^2} + \\dfrac{g}{l}{\\rm sen}(\\theta) = 0$$\n",
    "\n",
    "Tomando a EDO acima juntamente com as condições iniciais e valendo-se das substituições $y_1(t) = \\theta(t)$ e $y_2(t) = \\theta'(t)$, obtemos um sistema de EDOs de primeira ordem que nos conduz ao seguinte PVI:\n",
    "$$\\begin{cases}\n",
    "y_1'(t) = y_2(t) \\\\\n",
    "y_2'(t) = - \\dfrac{g}{l}{\\rm sen}(\\theta) \\\\\n",
    "y_1(0) = \\theta(0) = \\theta_0 \\\\\n",
    "y_2(0) = \\theta'(0) = \\theta_0'\n",
    "\\end{cases}$$"
   ]
  },
  {
   "attachments": {},
   "cell_type": "markdown",
   "metadata": {},
   "source": [
    "## Hipótese de ângulos pequenos \n",
    "\n",
    "No movimento pendular, se $\\theta$ for considerado muito pequeno, podemos dizer que $\\theta \\approx {\\rm sen}(\\theta)$. Logo, a EDO de segunda ordem reduz-se a \n",
    "\n",
    "$$\\dfrac{d^2 \\theta}{dt^2} + \\dfrac{g}{l}\\theta = 0,$$\n",
    "\n",
    "de maneira que, analogamente ao caso anterior, temos um novo sistema levemente modificado na segunda equação: \n",
    "$$\\begin{cases}\n",
    "y_1'(t) = y_2(t) \\\\\n",
    "y_2'(t) = - \\dfrac{g}{l}y_1(t) \\\\\n",
    "y_1(0) = \\theta(0) = \\theta_0 \\\\\n",
    "y_2(0) = \\theta'(0) = \\theta_0'\n",
    "\\end{cases}$$\n",
    "\n",
    "Vale dizer que a solução analítica para este caso é dada por $\\theta(t) = \\theta_0 \\cos \\left( \\sqrt{\\dfrac{g}{l}} t \\right)$."
   ]
  },
  {
   "attachments": {},
   "cell_type": "markdown",
   "metadata": {},
   "source": [
    "## Caso geral de ordem $m$\n",
    "\n",
    "De modo similar, uma EDO de ordem $m$ pode gerar um sistema de EDOs de ordem 1. Considerando o PVI generalizado \n",
    "$$\\begin{cases}\n",
    "\\dfrac{d^m y(t)}{dt^m} = f(t,y,y',\\ldots,y^{(m-1)}) \\\\\n",
    "y(t_0) = y_0, \\ \\ y'(t_0) = y_0', \\ldots y^{(m-1)}(t_0) = y_0^{(m-1)},\n",
    "\\end{cases}$$\n",
    "usamos as substituições \n",
    "\n",
    "$$\\begin{align}\n",
    "y_1(t) &= y(t) \\\\\n",
    "y_2(t) &= y'(t) \\\\\n",
    "\\vdots &\\vdots  \\vdots \\\\\n",
    "y_m(t) &= y^{(m-1)}(t) \\\\\n",
    "\\end{align}$$\n",
    "\n",
    "para reformular o PVI original no sistema:\n",
    "\n",
    "$$\\begin{cases}\n",
    "y_1'(t) = y_2(t) \\\\\n",
    "y_2'(t) = y_3(t) \\\\\n",
    "\\vdots \\\\\n",
    "y_{m-1}'(t) = y_m(t) \\\\\n",
    "y_m'(t) = f(t,y_1,\\ldots,y_m) \\\\\n",
    "y_1(t_0) = y_0 \\\\\n",
    "y_2(t_0) = y_0'' \\\\\n",
    "\\vdots \\\\\n",
    "y_m(t_0) = y_0^{(m-1)} \\\\\n",
    "\\end{cases}$$"
   ]
  },
  {
   "attachments": {},
   "cell_type": "markdown",
   "metadata": {},
   "source": [
    "**Exemplo:** O PVI \n",
    "\n",
    "$$\\begin{cases}\n",
    "y'''(t) + 3y''(t) + 3y'(t) + y(t) = -4{\\rm sen}(t) \\\\\n",
    "y(0) = y'(0) = 1, y''(0) = -1\n",
    "\\end{cases}$$\n",
    "pode ser reformulado no sistema\n",
    "\n",
    "$$\\begin{cases}\n",
    "y_1'(t) = y_2(t) \\\\\n",
    "y_2'(t) = y_3(t) \\\\\n",
    "y_3'(t) = - y_1(t) -3y_2(t) - 3y_3(t) -4{\\rm sen}(t) \\\\\n",
    "y_1(0) = 1 \\\\\n",
    "y_2(0) = 1 \\\\\n",
    "y_3(0) = -1.\n",
    "\\end{cases}$$"
   ]
  },
  {
   "attachments": {},
   "cell_type": "markdown",
   "metadata": {},
   "source": [
    "**Exercício resolvido:** utilizando os parâmetros $g=9.867 \\, m/s^2$, $\\theta_0 = \\pi/25$ e $\\theta_0' = 0.5 \\, m/s$, resolva numericamente o sistema de EDOs do movimento pendular sob a hipótese de ângulos pequenos. \n",
    "\n",
    "Para resolver o exercício, utilizaremos o método de Euler que implementamos anteriormente. Basta definirmos uma nova função `fsys` e os parâmetros necessários para o funcionamento da função `euler_sys`."
   ]
  },
  {
   "cell_type": "code",
   "execution_count": 2,
   "metadata": {},
   "outputs": [],
   "source": [
    "from numpy import *\n",
    "\n",
    "def euler_sys(t0,tf,y0,h,f):\n",
    "    \"\"\"\n",
    "    Resolve o PVI de um sistema de EDOs escalares\n",
    "    y’ = f(t,y), t0 <= t <= b, y(t0)=y0 pelo metodo de Euler com tamanho de passo h.\n",
    "    O usuario deve fornecer um vetor f contendo as funcoes a serem avaliadas como \n",
    "    membro direito.\n",
    "    \n",
    "    Entrada: \n",
    "        t0  - tempo inicial\n",
    "        tf  - tempo final \n",
    "        y0  - condicao inicial \n",
    "        h   - passo \n",
    "        f   - vetor de funcoes f(t,y) (anonima)\n",
    "    \n",
    "    Saída:\n",
    "        t   - vetor contendo os valores nodais t[i], i = 1,2,...,n\n",
    "        Y   - matriz de dimensoes n x m, com m sendo o numero de EDOs\n",
    "             (a i-esima linha y[i,:] traz as estimativas de todas \n",
    "              as funcoes y_j no tempo t[i])\n",
    "    \"\"\"    \n",
    "    \n",
    "    m = y0.size\n",
    "    n = round((tf - t0)/h + 1)\n",
    "    t = linspace(t0,t0+(n-1)*h,n)\n",
    "    Y = zeros((n,m))\n",
    "    \n",
    "    Y[0,:] = y0\n",
    "    \n",
    "    \n",
    "    for i in range(1,n):  \n",
    "        Y[i,:] = Y[i-1,:] + h*f(t[i-1],Y[i-1,:])     \n",
    "        \n",
    "    return t,Y\n"
   ]
  },
  {
   "cell_type": "code",
   "execution_count": 3,
   "metadata": {},
   "outputs": [],
   "source": [
    "# define funcao f(t,y)\n",
    "\n",
    "def params(g,l):\n",
    "    return g,l\n",
    "\n",
    "def fsys(t,y):\n",
    "    \n",
    "    aux = params(g,l) \n",
    "    # considera g e l como parâmetros\n",
    "    F = array([y[1],-aux[0]/aux[1]*y[0]])\n",
    "    \n",
    "    return F\n"
   ]
  },
  {
   "cell_type": "code",
   "execution_count": 4,
   "metadata": {},
   "outputs": [
    {
     "data": {
      "text/plain": [
       "<matplotlib.legend.Legend at 0x7fb2d222e100>"
      ]
     },
     "execution_count": 4,
     "metadata": {},
     "output_type": "execute_result"
    },
    {
     "data": {
      "image/png": "[encoded data removed]",
      "text/plain": [
       "<Figure size 432x288 with 1 Axes>"
      ]
     },
     "metadata": {
      "filenames": {
       "image/png": "/Users/gustavo/Dropbox/courses/calculo-numerico/LVMN/_build/jupyter_execute/extra/extra-edoSuperior_10_1.png"
      },
      "needs_background": "light"
     },
     "output_type": "display_data"
    }
   ],
   "source": [
    "from matplotlib.pyplot import plot,legend\n",
    "\n",
    "\n",
    "# parametros\n",
    "t0,tf = 0,5\n",
    "h = 0.05\n",
    "\n",
    "theta0 = np.pi/25\n",
    "dtheta0 = 0.5\n",
    "y0 = array([theta0,dtheta0])\n",
    "g, l = 9.867, 1.0\n",
    "\n",
    "# solucao numerica do sistema\n",
    "t,Y = euler_sys(t0,tf,y0,h,fsys)\n",
    "y1_num = Y[:,0]\n",
    "y2_num = Y[:,1]\n",
    "\n",
    "# solucao analitica\n",
    "y1_an = theta0*np.cos(np.sqrt(g/l)*t)\n",
    "\n",
    "# plotagem\n",
    "plot(t,y1_num,'r--',label='$y_{1,h}(t)$')\n",
    "#plot(t,y2_num,'b--',label='$y_{2,h}(t)$')\n",
    "\n",
    "plot(t,y1_an,'r',label='$y_1(t)$')\n",
    "#plot(t,y2_an,'b',label='$y_2(t)$')\n",
    "\n",
    "# erro absoluto\n",
    "plot(t,abs(y1_an - y1_num),'r:',label='$EA_1(t)$')\n",
    "#plot(t,abs(y2_an - y2_num),'b:',label='$EA_2(t)$')\n",
    "\n",
    "legend(loc=3,fontsize=10)"
   ]
  },
  {
   "attachments": {},
   "cell_type": "markdown",
   "metadata": {},
   "source": [
    "**Exercício:** Converta as EDOs de ordem superior abaixo para sistemas de EDOs escalares.\n",
    "\n",
    "1. \n",
    "$$\\begin{cases}\n",
    "y'''(t) + 4y''(t) + 5y'(t) + 2y(t) = 2t^2 + 10t + 8 \\\\\n",
    "y(0) = 1, y'(0) = -1, y''(0) = 3\n",
    "\\end{cases}$$\n",
    "Solução analítica: $y(t) = \\exp(-t) + t^2$.\n",
    "\n",
    "2. \n",
    "$$\\begin{cases}\n",
    "y''(t) + 4y'(t) + 13y(t) = 40\\cos(t) \\\\\n",
    "y(0) = 3, y'(0) = 4, y''(0) = 3\n",
    "\\end{cases}$$\n",
    "Solução analítica: $y(t) = 3\\cos(t) + {\\rm sen}(t) + \\exp(-2t){\\rm sen}(3t)$."
   ]
  },
  {
   "attachments": {},
   "cell_type": "markdown",
   "metadata": {},
   "source": [
    "## Problemas"
   ]
  },
  {
   "attachments": {},
   "cell_type": "markdown",
   "metadata": {},
   "source": [
    "**Problema:** Converta o seguinte sistema de EDOs de 2a. ordem para um sistema maior de EDOs de primeira ordem. Este sistema surge do estudo da atração gravitacional de uma massa por outra:\n",
    "\n",
    "$$\\begin{cases}\n",
    "x''(t) = \\dfrac{-cx(t)}{r(t)^3} \\\\\n",
    "y''(t) = \\dfrac{-cy(t)}{r(t)^3} \\\\\n",
    "z''(t) = \\dfrac{-cz(t)}{r(t)^3},\n",
    "\\end{cases}$$ \n",
    "onde $c$ é uma constante positiva e $r(t) = [x(t)^2 + y(t)^2 + z(t)^2]^{1/2}$, com $t$ denotando o tempo."
   ]
  },
  {
   "attachments": {},
   "cell_type": "markdown",
   "metadata": {},
   "source": [
    "**Problema:** Resolva o problema do pêndulo numericamente pelo método de Euler. Considere $l = 1$ e $g = 32.2 \\, pés/s^2$. Como valores iniciais, escolha $0 < \\theta(0) \\le \\pi/2$ e $\\theta'(0) = 1$. Experimente vários valores de $h$ de modo a obter erros pequenos. Plote os gráficos $t \\, vs. \\, \\theta(t)$, $t \\, vs. \\theta'(t)$ e $\\theta(t) \\, vs. \\theta'(t)$. O movimento parece periódico no tempo? (Use a hipótese de pequenos ângulos.)"
   ]
  }
 ],
 "metadata": {
  "celltoolbar": "Edit Metadata",
  "ipub": {
   "listcode": false,
   "listfigures": false,
   "listtables": false,
   "titlepage": {
    "author": "Prof. Dr. Gustavo Oliveira",
    "email": "gustavo.oliveira@ci.ufpb.br",
    "institution": [
     "Universidade Federal da Paraíba"
    ],
    "tagline": "Aula 8.",
    "title": "Soluções Numéricas de EDOs"
   },
   "toc": true
  },
  "kernelspec": {
   "display_name": "Python 3",
   "language": "python",
   "name": "python3"
  },
  "language_info": {
   "codemirror_mode": {
    "name": "ipython",
    "version": 3
   },
   "file_extension": ".py",
   "mimetype": "text/x-python",
   "name": "python",
   "nbconvert_exporter": "python",
   "pygments_lexer": "ipython3",
   "version": "3.8.2"
  }
 },
 "nbformat": 4,
 "nbformat_minor": 4
}