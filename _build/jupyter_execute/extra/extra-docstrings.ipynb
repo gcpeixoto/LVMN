{
 "cells": [
  {
   "attachments": {},
   "cell_type": "markdown",
   "metadata": {},
   "source": [
    "# Documentação de código"
   ]
  },
  {
   "attachments": {},
   "cell_type": "markdown",
   "metadata": {},
   "source": [
    "O _Python Enhancement Proposal_ 257 ([PEP 257](https://peps.python.org/pep-0257/)) trata das convenções para uso de _docstrings_ em Python.\n",
    "\n",
    "_Docstring_ é uma string literal usada para documentar um módulo, função, classe ou método. Ela pode ser acessada pelo atributo especial `__doc__`."
   ]
  },
  {
   "cell_type": "code",
   "execution_count": 3,
   "metadata": {},
   "outputs": [
    {
     "data": {
      "text/plain": [
       "'This is function fun.'"
      ]
     },
     "execution_count": 3,
     "metadata": {},
     "output_type": "execute_result"
    }
   ],
   "source": [
    "# modelo\n",
    "def fun():\n",
    "    \"\"\"This is function fun.\"\"\"\n",
    "    pass\n",
    "\n",
    "# acesso\n",
    "fun.__doc__"
   ]
  },
  {
   "attachments": {},
   "cell_type": "markdown",
   "metadata": {},
   "source": [
    "## Tipos de _docstrings_\n",
    "\n",
    "Uma _docstring_ deve ser sempre confinada por um par de aspas triplas, podendo ser (definição própria):\n",
    "\n",
    "- _Simples_: Não contém caracter especial. Exemplo: `\"\"\"ao.\"\"\"`\n",
    "- _Literal_: Precedida por `r`. Contém pelo menos um caracter \"barra invertida\" (_backslash_), isto é, `\\`. Exemplo: `r\"\"\"a\\o.\"\"\"`\n",
    "- _Unicode_: Precedida por `u`. Contém pelo menos um caracter unicode. Exemplo: `u\"\"\"áò\"\"\"`.\n",
    "\n",
    "\n",
    "A docstring utilizada em `fun()` acima é simples. Abaixo, vemos exemplos equivalentes para os outros dois tipos."
   ]
  },
  {
   "cell_type": "code",
   "execution_count": 15,
   "metadata": {},
   "outputs": [
    {
     "data": {
      "text/plain": [
       "'This is fun_1 with a \\n.'"
      ]
     },
     "execution_count": 15,
     "metadata": {},
     "output_type": "execute_result"
    }
   ],
   "source": [
    "def fun_1():\n",
    "    \"\"\"This is fun_1 with a \\n.\"\"\"\n",
    "    pass\n",
    "\n",
    "fun_1.__doc__    "
   ]
  },
  {
   "cell_type": "code",
   "execution_count": 17,
   "metadata": {},
   "outputs": [
    {
     "data": {
      "text/plain": [
       "'This is fun_2 with a \\\\n.'"
      ]
     },
     "execution_count": 17,
     "metadata": {},
     "output_type": "execute_result"
    }
   ],
   "source": [
    "def fun_2():\n",
    "    r\"\"\"This is fun_2 with a \\n.\"\"\"\n",
    "    pass\n",
    "\n",
    "fun_2.__doc__    "
   ]
  },
  {
   "attachments": {},
   "cell_type": "markdown",
   "metadata": {},
   "source": [
    "No exemplo abaixo, seria necessário usar `u` à frente da docstring caso trabalhássemos fora do encoding `UTF-8`."
   ]
  },
  {
   "cell_type": "code",
   "execution_count": 23,
   "metadata": {},
   "outputs": [
    {
     "data": {
      "text/plain": [
       "'fun_3: Zażółć gęślą jaźń. Em português e polonês...'"
      ]
     },
     "execution_count": 23,
     "metadata": {},
     "output_type": "execute_result"
    }
   ],
   "source": [
    "def fun_3():\n",
    "    u\"\"\"fun_3: Zażółć gęślą jaźń. Em português e polonês...\"\"\"\n",
    "    pass\n",
    "\n",
    "fun_3.__doc__  "
   ]
  },
  {
   "attachments": {},
   "cell_type": "markdown",
   "metadata": {},
   "source": [
    "## Modos de docstring\n",
    "\n",
    "_Docstrings_ podem ser escritas em modo de _linha única_ ou de _múltiplas linhas_\n"
   ]
  },
  {
   "attachments": {},
   "cell_type": "markdown",
   "metadata": {},
   "source": [
    "No exemplo abaixo, a docstring é de linha única."
   ]
  },
  {
   "cell_type": "code",
   "execution_count": 27,
   "metadata": {},
   "outputs": [
    {
     "data": {
      "text/plain": [
       "[1, 3, 5, 7]"
      ]
     },
     "execution_count": 27,
     "metadata": {},
     "output_type": "execute_result"
    }
   ],
   "source": [
    "def s(a:int, b:int):\n",
    "    \"\"\"Adiciona a e b.\"\"\"\n",
    "    return a + b\n",
    "\n",
    "[s(i,j) for i,j in zip(range(4),range(1,5))]"
   ]
  },
  {
   "attachments": {},
   "cell_type": "markdown",
   "metadata": {},
   "source": [
    "Agora, a docstring é de de linha múltipla (mas fora do padrão)."
   ]
  },
  {
   "cell_type": "code",
   "execution_count": 28,
   "metadata": {},
   "outputs": [
    {
     "data": {
      "text/plain": [
       "[(1, 0), (3, 2), (5, 6), (7, 12)]"
      ]
     },
     "execution_count": 28,
     "metadata": {},
     "output_type": "execute_result"
    }
   ],
   "source": [
    "def sp(a:int, b:int):\n",
    "    \"\"\"\n",
    "    Adiciona e\n",
    "    multiplica a e b.\n",
    "    \"\"\"\n",
    "    return (a + b, a*b)\n",
    "\n",
    "[sp(i,j) for i,j in zip(range(4),range(1,5))]"
   ]
  },
  {
   "attachments": {},
   "cell_type": "markdown",
   "metadata": {},
   "source": [
    "## Estrutura de docstrings de múltiplas linhas\n",
    "\n",
    "_Docstrings_ de linha única são úteis para descrever ações simples. Quando precisamos documentar algo mais complexo, usamos docstrings com algumas estruturas (ou estilos). Existem diversas estruturas de documetnação, mas entre as mais populares, estão:\n",
    "\n",
    "- [Google](https://github.com/google/styleguide/blob/gh-pages/pyguide.md#38-comments-and-docstrings)\n",
    "- [numpydoc](https://numpydoc.readthedocs.io/en/latest/)\n",
    "- reST (reStructured Text)"
   ]
  },
  {
   "attachments": {},
   "cell_type": "markdown",
   "metadata": {},
   "source": [
    "### Estrutura Google"
   ]
  },
  {
   "cell_type": "code",
   "execution_count": null,
   "metadata": {},
   "outputs": [],
   "source": [
    "\"\"\"\n",
    "Esta é uma docstring em estilo Google.\n",
    "\n",
    "Args:\n",
    "    param1: Primeiro parâmetro.\n",
    "    param2: Segundo parâmetro.\n",
    "\n",
    "Returns:\n",
    "    Descrição do retorno.\n",
    "\n",
    "Raises:\n",
    "    KeyError: Exceção lançada.\n",
    "\"\"\""
   ]
  },
  {
   "attachments": {},
   "cell_type": "markdown",
   "metadata": {},
   "source": [
    "### Estrutura numpydoc"
   ]
  },
  {
   "cell_type": "code",
   "execution_count": null,
   "metadata": {},
   "outputs": [],
   "source": [
    "\"\"\"\n",
    "Esta é uma docstring em estilo numpydoc exaustiva.\n",
    "\n",
    "Parameters\n",
    "----------\n",
    "first : array_like\n",
    "    primeiro parâmetro\n",
    "second :\n",
    "    segundo parâmetro\n",
    "third : {'value', 'other'}, optional\n",
    "    terceiro parâmetro, by default 'value'\n",
    "\n",
    "Returns\n",
    "-------\n",
    "string\n",
    "    a value in a string\n",
    "\n",
    "Raises\n",
    "------\n",
    "KeyError\n",
    "    when a key error\n",
    "OtherError\n",
    "    when an other error\n",
    "\"\"\""
   ]
  },
  {
   "attachments": {},
   "cell_type": "markdown",
   "metadata": {},
   "source": [
    "### Estrutura reST"
   ]
  },
  {
   "cell_type": "code",
   "execution_count": null,
   "metadata": {},
   "outputs": [],
   "source": [
    "\"\"\"\n",
    "Esta é uma docstring em estilo reST.\n",
    "\n",
    ":param param1: Primeiro parâmetro.\n",
    ":param param2: Segundo parâmetro.\n",
    ":returns: Descrição do retorno.\n",
    ":raises keyError: Exceção lançada.\n",
    "\"\"\""
   ]
  },
  {
   "attachments": {},
   "cell_type": "markdown",
   "metadata": {},
   "source": [
    "### Sphinx\n",
    "\n",
    "[Sphinx](https://www.sphinx-doc.org/en/master/) é um gerador de documentação em Python baseado no estilo reST de grande utilidade para desenvolvedores de código. Ele possui diversas características, tais como múltiplos formatos de saída, extensões, temas etc.\n",
    "\n",
    "A seguir, temos um exemplo de função apropriadamente documentada para o Sphinx."
   ]
  },
  {
   "cell_type": "code",
   "execution_count": 55,
   "metadata": {},
   "outputs": [],
   "source": [
    "def hamming(s1: str,s2: str):\n",
    "    \"\"\"Calcula a distância de Hamming entre strings.\n",
    "    \n",
    "    :param s1: primeira string .\n",
    "    :param s2: segunda string.\n",
    "    :returns: distância entre s1 e s2 pela métrica de Hamming.\n",
    "    :raises RuntimeError: strings devem ter o mesmo comprimento.\n",
    "    \"\"\"\n",
    "    \n",
    "    # Strings devem possuir mesmo comprimento para serem comparadas.\n",
    "    # Caso contrário, lança exceção\n",
    "    if len(s1) != len(s2):\n",
    "        raise RuntimeError\n",
    "    \n",
    "    # Associa False(True) para caracteres diferentes(iguais) e soma a quantidade de True. \n",
    "    return sum(c1 != c2 for c1, c2 in zip(s1,s2))"
   ]
  },
  {
   "attachments": {},
   "cell_type": "markdown",
   "metadata": {},
   "source": [
    "- Teste da função de Hamming"
   ]
  },
  {
   "cell_type": "code",
   "execution_count": 56,
   "metadata": {},
   "outputs": [
    {
     "data": {
      "text/plain": [
       "(1, 2, 3)"
      ]
     },
     "execution_count": 56,
     "metadata": {},
     "output_type": "execute_result"
    }
   ],
   "source": [
    "s31, s32 = 'pão', 'são'\n",
    "s33, s34 = 'teu', 'tua'\n",
    "s35, s36 = 'ali', 'seu'\n",
    "\n",
    "hamming(s31,s32), hamming(s33,s34), hamming(s35,s36)"
   ]
  },
  {
   "attachments": {},
   "cell_type": "markdown",
   "metadata": {},
   "source": [
    "- Impressão da documentação"
   ]
  },
  {
   "cell_type": "code",
   "execution_count": 57,
   "metadata": {},
   "outputs": [
    {
     "name": "stdout",
     "output_type": "stream",
     "text": [
      "Calcula a distância de Hamming entre strings.\n",
      "    \n",
      "    :param s1: primeira string .\n",
      "    :param s2: segunda string.\n",
      "    :returns: distância entre s1 e s2 pela métrica de Hamming.\n",
      "    :raises RuntimeError: strings devem ter o mesmo comprimento.\n",
      "    \n"
     ]
    }
   ],
   "source": [
    "print(hamming.__doc__)"
   ]
  },
  {
   "attachments": {},
   "cell_type": "markdown",
   "metadata": {},
   "source": [
    "- Documentação reescrita no estilo numpydoc"
   ]
  },
  {
   "cell_type": "code",
   "execution_count": 58,
   "metadata": {},
   "outputs": [],
   "source": [
    "def hamming_numpydoc(s1: str,s2: str):\n",
    "    \"\"\"Calcula a distância de Hamming entre strings.\n",
    " \n",
    "    Parameters\n",
    "    ----------\n",
    "    first : str\n",
    "        primeira string.\n",
    "    second: str\n",
    "        segunda string.\n",
    "\n",
    "    Returns\n",
    "    -------\n",
    "    int\n",
    "        distância de Hamming.\n",
    "\n",
    "    Raises\n",
    "    ------\n",
    "    RuntimeError\n",
    "        Se strings tiverem comprimento distinto\n",
    "    \"\"\"\n",
    "    \n",
    "    # Strings devem possuir mesmo comprimento para serem comparadas.\n",
    "    # Caso contrário, lança exceção\n",
    "    if len(s1) != len(s2):\n",
    "        raise RuntimeError\n",
    "    \n",
    "    # Associa False(True) para caracteres diferentes(iguais) e soma a quantidade de True. \n",
    "    return sum(c1 != c2 for c1, c2 in zip(s1,s2))"
   ]
  },
  {
   "attachments": {},
   "cell_type": "markdown",
   "metadata": {},
   "source": [
    "- Impressão da nova documentação"
   ]
  },
  {
   "cell_type": "code",
   "execution_count": 61,
   "metadata": {},
   "outputs": [
    {
     "name": "stdout",
     "output_type": "stream",
     "text": [
      "Calcula a distância de Hamming entre strings.\n",
      " \n",
      "    Parameters\n",
      "    ----------\n",
      "    first : str\n",
      "        primeira string.\n",
      "    second: str\n",
      "        segunda string.\n",
      "\n",
      "    Returns\n",
      "    -------\n",
      "    int\n",
      "        distância de Hamming.\n",
      "\n",
      "    Raises\n",
      "    ------\n",
      "    RuntimeError\n",
      "        Se strings tiverem comprimento distinto\n",
      "    \n"
     ]
    }
   ],
   "source": [
    "print(hamming_numpydoc.__doc__)"
   ]
  }
 ],
 "metadata": {
  "kernelspec": {
   "display_name": "dataviz",
   "language": "python",
   "name": "python3"
  },
  "language_info": {
   "codemirror_mode": {
    "name": "ipython",
    "version": 3
   },
   "file_extension": ".py",
   "mimetype": "text/x-python",
   "name": "python",
   "nbconvert_exporter": "python",
   "pygments_lexer": "ipython3",
   "version": "3.9.13"
  },
  "vscode": {
   "interpreter": {
    "hash": "62aa3616d1d4e8dca987b405e9154085c089eb3c5a17f4da4310667e0712ec96"
   }
  }
 },
 "nbformat": 4,
 "nbformat_minor": 2
}