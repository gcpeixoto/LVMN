{
 "cells": [
  {
   "cell_type": "markdown",
   "metadata": {},
   "source": [
    "# Variações do Método de Euler\n",
    "\n",
    "## Método de Euler Melhorado\n",
    "\n",
    "O _Método de Euler Melhorado_ (MEM) é uma técnica numérica explícita de passo simples usada para resolver EDOs que modifica o método explícito de Euler. O MEM usa uma _inclinação ponderada_ com derivadas computadas em $t_i$ e $t_{i+1}$. No início do intervalo, a inclinação é \n",
    "\n",
    "$$\\dfrac{dy}{dt}\\Bigg|_{t = t_i} = f(t_i,y_i),$$\n",
    "\n",
    "a mesma assumida no Método de Euler Explícito. Todavia, existe uma diferença fundamental na estimativa da inclinação em $t_{i+1}$. Primeiramente, um valor aproximado para $y_{i+1}$ é determinado como  \n",
    "\n",
    "$$\\tilde{y}_{i+1} = y_i + h f(t_i,y_i),$$ \n",
    "\n",
    "que corresponde à estimativa calculada pelo Método de Euler (reta com inclinação constante $f(t_i,y_i)$). Em seguida, usamos este valor para determinar uma nova inclinação que será usada para a integração da EDO, a saber: \n",
    "\n",
    "$$\\dfrac{dy}{dt}\\Bigg|_{t = t_{i+1}, y = \\tilde{y}_{i+1}} = f(t_{i+1},\\tilde{y}_i),$$\n",
    "\n",
    "O valor $\\tilde{y}_{i+1}$ é usado como um _preditor_. Então, dispondo dessas duas inclinações, uma inclinação ponderada pela média resulta da seguinte equação:\n",
    "\n",
    "$$\\overline{\\dfrac{dy}{dt}}\\Bigg|_{t = t_i} = \\dfrac{1}{2}\\left( \\dfrac{dy}{dt}\\Bigg|_{t = t_i} + \\dfrac{dy}{dt}\\Bigg|_{t = t_{i+1}, y = \\tilde{y}_{i+1}} \\right)$$\n",
    "\n",
    "\n",
    "Por sua vez, construímos a _equação de correção_ (ou _corretor_) como: \n",
    "\n",
    "$$y_{i+1} = y_i + \\phi(t_i,y_i)h = y_i + \\frac{f(t_i,y_i) + f(t_{i+1},\\tilde{y}_{i+1})}{2}h$$\n",
    "\n",
    "Na realidade, o MEM é um algoritmo da família _preditor-corretor_. A rigor de notação, a aproximação para a solução do PVI é dada pelo processo iterativo a seguir:\n",
    "\n",
    "\\begin{align*}\n",
    "w_0 &= \\alpha \\\\\n",
    "\\tilde{w}_{i+1} &= w_i + h f(t_i,w_i) \\\\\n",
    "\t\t{w}_{i+1} &= w_i + \\frac{h}{2}[f(t_i,w_i) + f(t_{i+1}, \\tilde{w}_{i+1})], \\quad i = 0,1,\\dots,N-1.\n",
    "\\end{align*}"
   ]
  },
  {
   "cell_type": "markdown",
   "metadata": {},
   "source": [
    "### Implementação computacional \n",
    "\n",
    "O seguinte código implementa o MEM:"
   ]
  },
  {
   "cell_type": "code",
   "execution_count": 1,
   "metadata": {},
   "outputs": [],
   "source": [
    "from numpy import *\n",
    "\n",
    "def euler_melh(t0,tf,y0,h,fun):\n",
    "    \"\"\"\n",
    "    Resolve o PVI y' = f(t,y), t0 <= t <= tf, y(t0) = y0\n",
    "    com passo h usando o metodo de Euler melhorado. \n",
    "    \n",
    "    Entrada: \n",
    "        t0  - tempo inicial\n",
    "        tf  - tempo final \n",
    "        y0  - condicao inicial \n",
    "        h   - passo \n",
    "        fun - funcao f(t,y) (anonima)\n",
    "        \n",
    "    Saida:\n",
    "        t   - nos da malha numerica \n",
    "        y   - solucao aproximada\n",
    "    \"\"\"\n",
    "    \n",
    "    n = round((tf - t0)/h + 1)\n",
    "    t = linspace(t0,t0+(n-1)*h,n)\n",
    "    y = linspace(t0,t0+(n-1)*h,n)\n",
    "    y = zeros((n,))\n",
    "    \n",
    "    y[0] = y0\n",
    "\n",
    "    for i in range(1,n):        \n",
    "        ytilde = y[i-1] + h*f(t[i-1],y[i-1])\n",
    "        ymean = 0.5*( f(t[i-1],y[i-1]) + f(t[i],ytilde) )\n",
    "        y[i] = y[i-1] + h*ymean                \n",
    "    \n",
    "    return (t,y)\n",
    "\n",
    "### COPIA  \n",
    "\n",
    "def euler_expl(t0,tf,y0,h,fun):\n",
    "    \"\"\"\n",
    "    Resolve o PVI y' = f(t,y), t0 <= t <= tf, y(t0) = y0\n",
    "    com passo h usando o metodo de Euler explicito. \n",
    "    \n",
    "    Entrada: \n",
    "        t0  - tempo inicial\n",
    "        tf  - tempo final \n",
    "        y0  - condicao inicial \n",
    "        h   - passo \n",
    "        fun - funcao f(t,y) (anonima)\n",
    "        \n",
    "    Saida:\n",
    "        t   - nos da malha numerica \n",
    "        y   - solucao aproximada\n",
    "    \"\"\"\n",
    "    \n",
    "    n = round((tf - t0)/h + 1)\n",
    "    t = linspace(t0,t0+(n-1)*h,n)\n",
    "    y = linspace(t0,t0+(n-1)*h,n)\n",
    "    y = zeros((n,))\n",
    "    \n",
    "    y[0] = y0\n",
    "\n",
    "    for i in range(1,n):\n",
    "        y[i] = y[i-1] + h*f(t[i-1],y[i-1])\n",
    "\n",
    "    return (t,y)"
   ]
  },
  {
   "cell_type": "markdown",
   "metadata": {},
   "source": [
    "O exemplo a seguir é o mesmo que resolvemos com o Método de Euler Explícito."
   ]
  },
  {
   "cell_type": "markdown",
   "metadata": {},
   "source": [
    "**Exemplo:** Resolva numericamente\n",
    "\n",
    "$$\\begin{cases}\n",
    "y'(t) = \\frac{y(t) + t^2 - 2}{t+1}\\\\\n",
    "y(0) = 2 \\\\\n",
    "0 \\le t \\le 6 \\\\ \n",
    "h = 0.5\n",
    "\\end{cases}$$\n",
    "\n",
    "Defina $y_{mem}(t)$ como a solução numérica obtida pelo método de Euler melhorado e $y_{mee}(t)$ como a solução numérica obtida pelo método de Euler explícito. Plote o gráfico das funções aproximadas juntamente com o da solução exata $y(t) = t^2 + 2t + 2 - 2(t+1)\\ln(t+1)$"
   ]
  },
  {
   "cell_type": "code",
   "execution_count": 2,
   "metadata": {},
   "outputs": [
    {
     "data": {
      "text/plain": [
       "<matplotlib.legend.Legend at 0x7f83ac799f10>"
      ]
     },
     "execution_count": 2,
     "metadata": {},
     "output_type": "execute_result"
    },
    {
     "data": {
      "image/png": "[encoded data removed]",
      "text/plain": [
       "<Figure size 432x288 with 1 Axes>"
      ]
     },
     "metadata": {
      "filenames": {
       "image/png": "/Users/gustavo/Dropbox/courses/calculo-numerico/LVMN/_build/jupyter_execute/extra/extra-eulerMelhorado_5_1.png"
      },
      "needs_background": "light"
     },
     "output_type": "display_data"
    }
   ],
   "source": [
    "import matplotlib.pyplot as plt \n",
    "\n",
    "# define funcao\n",
    "f = lambda t,y: (y + t**2 - 2)/(t+1)\n",
    "\n",
    "# invoca metodo\n",
    "t0 = 0.0\n",
    "tf = 6.0\n",
    "y0 = 2.0\n",
    "h = 1.5\n",
    "t,ymem = euler_melh(t0,tf,y0,h,f)\n",
    "t,ymee = euler_expl(t0,tf,y0,h,f)\n",
    "\n",
    "# plota funcoes \n",
    "yex = t**2 + 2*t + 2 - 2*(t+1)*log(t+1)\n",
    "plt.plot(t,ymem,'b--',label='$y_{mem}(t)$')\n",
    "plt.plot(t,ymee,'go-',label='$y_{mee}(t)$')\n",
    "plt.plot(t,yex,'k',label='$y(t)$')\n",
    "plt.grid(True)\n",
    "plt.legend()"
   ]
  },
  {
   "cell_type": "markdown",
   "metadata": {},
   "source": [
    "## Método do Ponto Médio (ou Ponto Central)\n",
    "\n",
    "O _Método do Ponto Médio_ (MPM) é outra variação do Método de Euler e sua dedução é feita de maneira semelhante à anterior. Neste caso, a inclinação utilizada para o avanço é calculada no ponto médio $t_{i+1/2}$ do passo discreto e dada pela expressão \n",
    "\n",
    "$$\\dfrac{dy}{dt}\\Bigg|_{t = t_i + 1/2} = f( t_{i + 1/2}, y_{i+1/2})$$\n",
    "\n",
    "O MPM pode ser formalmente escrito pelo processo iterativo: \n",
    "\n",
    "\\begin{align*}\n",
    "w_0 &= \\alpha \\\\ \n",
    "t_m &= t_i + \\frac{h}{2} \\\\\n",
    "w_m &= w_i + \\frac{h}{2} f(t_i,w_i) \\\\\n",
    "w_{i+1} &=w_i + h f(t_m, w_m), \\quad i = 0,1,\\dots,N-1\n",
    "\\end{align*}\n",
    "\n",
    "O MPM é assim chamado pela relação com a fórmula de quadratura de mesmo nome. Juntamente com o MEM, exige maior esforço computacional, mas são recompensados com redução de erro e melhor acurácia. Além disso, ambos são casos particulares da família de métodos de Runge-Kutta. "
   ]
  },
  {
   "cell_type": "markdown",
   "metadata": {},
   "source": [
    "**Exercício:** usando os códigos anteriores como bases, implemente o método do Ponto Médio com o Python. "
   ]
  }
 ],
 "metadata": {
  "celltoolbar": "Edit Metadata",
  "ipub": {
   "listcode": false,
   "listfigures": false,
   "listtables": false,
   "titlepage": {
    "author": "Prof. Dr. Gustavo Oliveira",
    "email": "gustavo.oliveira@ci.ufpb.br",
    "institution": [
     "Universidade Federal da Paraíba"
    ],
    "tagline": "Aula 5.",
    "title": "Soluções Numéricas de EDOs"
   },
   "toc": true
  },
  "kernelspec": {
   "display_name": "Python 3",
   "language": "python",
   "name": "python3"
  },
  "language_info": {
   "codemirror_mode": {
    "name": "ipython",
    "version": 3
   },
   "file_extension": ".py",
   "mimetype": "text/x-python",
   "name": "python",
   "nbconvert_exporter": "python",
   "pygments_lexer": "ipython3",
   "version": "3.8.2"
  }
 },
 "nbformat": 4,
 "nbformat_minor": 4
}