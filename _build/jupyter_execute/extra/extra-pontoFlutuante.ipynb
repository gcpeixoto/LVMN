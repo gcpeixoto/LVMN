{
 "cells": [
  {
   "cell_type": "markdown",
   "id": "3e1b0c93-de46-430e-8431-3e4dff42b79e",
   "metadata": {},
   "source": [
    "# Números em ponto flutuante e seus problemas\n",
    "\n",
    "Este capítulo é um compêndio sobre a representação numérica em computadores, sistema de ponto flutuante, bem como notas sobre causas de erros. O texto é essencialmente uma reprodução adaptada do conteúdo encontrado no site [floating-point-gui.de](https://floating-point-gui.de).\n",
    "\n",
    "## Perguntas e respostas\n",
    "\n",
    "### Por que a soma `0.1 + 0.2` não é exatamente 0.3, mas resulta em `0.30000000000000004`?"
   ]
  },
  {
   "cell_type": "markdown",
   "id": "87521dfd-05df-4ff4-9105-ee090282e02a",
   "metadata": {},
   "source": [
    "Porque, internamente, os computadores usam um formato de ponto flutuante binário limitado que não pode representar com precisão números como 0.1, 0.2 ou 0.3. Quando o código é compilado ou interpretado, `0.1` já é arredondado para o número mais próximo consoante este formato, o que resulta em um pequeno erro de arredondamento antes mesmo de o cálculo acontecer."
   ]
  },
  {
   "cell_type": "code",
   "execution_count": 1,
   "id": "35e89ce8-c664-45a1-b2ce-d369d05013c0",
   "metadata": {},
   "outputs": [
    {
     "data": {
      "text/plain": [
       "0.30000000000000004"
      ]
     },
     "execution_count": 1,
     "metadata": {},
     "output_type": "execute_result"
    }
   ],
   "source": [
    "# ?!\n",
    "0.1 + 0.2"
   ]
  },
  {
   "cell_type": "markdown",
   "id": "9960008f-5623-46d3-9fe0-dfeaa520288b",
   "metadata": {},
   "source": [
    "### Este sistema parece um tanto estúpido. Por que os computadores o utilizam para fazer cálculos?\n",
    "\n",
    "Não se trata de estupidez. O sistema é apenas diferente. Números decimais não podem representar com precisão qualquer número, a exemplo da fração `1/3`. Então, temos que usar algum tipo de arredondamento para algo como `0.33`. Afinal, não podemos esperar que a soma `0.33 + 0.33 + 0.33` seja exatamente igual a `1`, não é mesmo?\n",
    "\n",
    "Os computadores usam números binários porque são mais rápidos ao lidar com eles e, para a maioria dos cálculos usuais, um pequeno erro na 17a. casa decimal não é relevante, pois, de qualquer maneira, os números com os quais trabalhamos não são \"redondos\" (ou exatamente \"precisos\"). "
   ]
  },
  {
   "cell_type": "markdown",
   "id": "1a2fa71d-07a2-44be-a12d-5a57be52b75c",
   "metadata": {},
   "source": [
    "### O que pode ser feito para evitar este problema? \n",
    "\n",
    "Isso depende do tipo de cálculo pretendido.\n",
    "\n",
    "Se a precisão dos resultados for absoluta, especialmente quando se trabalha com cálculos monetários, é melhor usar um tipo de dado especial, a saber o `decimal`. Em Python, por exemplo, há um [módulo de mesmo nome](https://docs.python.org/3/library/decimal.html) para esta finalidade específica. Por exemplo:"
   ]
  },
  {
   "cell_type": "code",
   "execution_count": 8,
   "id": "87b8cc34-7731-40ec-8c26-c2a899a88dcd",
   "metadata": {},
   "outputs": [
    {
     "name": "stdout",
     "output_type": "stream",
     "text": [
      "0.3\n"
     ]
    }
   ],
   "source": [
    "# 0.1 + 0.2 \n",
    "from decimal import Decimal \n",
    "\n",
    "a,b = Decimal('0.1'), Decimal('0.2')\n",
    "print(a+b)"
   ]
  },
  {
   "cell_type": "markdown",
   "id": "6bbd133d-0f3a-4da4-9a88-b9113fc9e674",
   "metadata": {},
   "source": [
    "Se apenas se deseja enxergar algumas casas decimais, pode-se formatar o resultado para um número fixo de casas decimais que será exibido de forma arredondada."
   ]
  },
  {
   "cell_type": "code",
   "execution_count": 25,
   "id": "a80cba1c-39e1-4543-9d92-04d7b1c3515d",
   "metadata": {},
   "outputs": [
    {
     "name": "stdout",
     "output_type": "stream",
     "text": [
      "0.30000000000000004\n",
      "0.300\n"
     ]
    }
   ],
   "source": [
    "# imprime resultado como float\n",
    "print(0.1 + 0.2)\n",
    "\n",
    "# imprime resultado com 3 casas decimais\n",
    "print(f'{0.1 + 0.2:.3f}')"
   ]
  },
  {
   "cell_type": "markdown",
   "id": "ee16331c-a391-4c17-838e-b0dfa0c99f19",
   "metadata": {},
   "source": [
    "### Por que outros cálculos como `0.1 + 0.4` funcionam corretamente?\n",
    "\n",
    "Nesse caso, o resultado, `0.5`, **pode** ser representado exatamente como um número de ponto flutuante e é possível que haja erro de cancelamento nos números de entrada. Porém, pode não podemos confiar interamente nisto. Por exemplo, quando tais dois números são primeiro armazenados em representações de ponto flutuante de tamanhos diferentes, os erros de arredondamento podem não compensar um com o outro.\n",
    "\n",
    "Em outros casos, como `0.1 + 0.3`, o resultado **não é realmente** `0.4`, mas próximo o suficiente para que `0.4` seja o menor número mais próximo do resultado do que qualquer outro número em ponto flutuante. Muitas linguagens de programação exibem esse número em vez de converter o resultado real de volta para a fração decimal mais próxima. Por exemplo:"
   ]
  },
  {
   "cell_type": "code",
   "execution_count": 36,
   "id": "f7cb743d-aba6-4251-8921-39037e22b850",
   "metadata": {},
   "outputs": [
    {
     "name": "stdout",
     "output_type": "stream",
     "text": [
      "0.5\n",
      "5.551115123125783e-17\n"
     ]
    }
   ],
   "source": [
    "print(0.1 + 0.4)\n",
    "print(0.1 + 0.1 + 0.1 - 0.3) # 0 !"
   ]
  },
  {
   "cell_type": "markdown",
   "id": "cd18014c-75c3-4ed0-ab29-cd61d888d978",
   "metadata": {},
   "source": [
    "## Comparação de números em ponto flutuante\n",
    "\n",
    "Devido a erros de arredondamento, a representação da maioria dos números em ponto flutuante torna-se  imprecisa. Enquanto essa imprecisão permanecer pequena, ela poderá ser geralmente ignorada. No entanto, às vezes, os números que esperamos ser iguais (por exemplo, ao calcular o mesmo resultado por diferentes métodos corretos) diferem ligeiramente de tal forma que um mero teste de igualdade implica em falha. Por exemplo:"
   ]
  },
  {
   "cell_type": "code",
   "execution_count": 47,
   "id": "f62033e2-f5cb-45a0-a7af-116a1c276426",
   "metadata": {},
   "outputs": [
    {
     "name": "stdout",
     "output_type": "stream",
     "text": [
      "False\n",
      "False\n"
     ]
    }
   ],
   "source": [
    "a = 0.15 + 0.15\n",
    "b = 0.1 + 0.2\n",
    "\n",
    "# Os resultados abaixo deveriam ser verdadeiros (True),\n",
    "# mas não o são!\n",
    "print(a == b) \n",
    "print(a >= b) "
   ]
  },
  {
   "cell_type": "markdown",
   "id": "e0a05584-a6c2-49bf-87ee-c21b34fee1b1",
   "metadata": {},
   "source": [
    "### Margens de erro: absoluto x relativo\n",
    "\n",
    "Ao compararmos dois números reais, o melhor caminho a seguir não é verificar se os números são exatamente iguais, mas se a _diferença entre ambos é muito pequena_. A margem de erro com a qual a diferença é comparada costuma ser chamada de \"epsilon\". A forma mais simples seria por meio do erro absoluto. Por exemplo:"
   ]
  },
  {
   "cell_type": "code",
   "execution_count": 48,
   "id": "2f2fe1bd-3fa4-435d-9320-32009271ab91",
   "metadata": {},
   "outputs": [
    {
     "name": "stdout",
     "output_type": "stream",
     "text": [
      "OK!\n"
     ]
    }
   ],
   "source": [
    "# comparação por erro absoluto\n",
    "if abs(a - b) < 1e-5:\n",
    "    print('OK!')"
   ]
  },
  {
   "cell_type": "markdown",
   "id": "63859157-f46d-45f1-b289-9994ef2da89d",
   "metadata": {},
   "source": [
    "Isto é, a expressão acima é matematicamente equivalente a $|a - b| < \\epsilon$ para $\\epsilon=10^{-5}$. "
   ]
  },
  {
   "cell_type": "markdown",
   "id": "12813d23-31dd-43d3-983a-3439daf5e5b1",
   "metadata": {},
   "source": [
    "Entretanto, essa é uma maneira ruim de comparar números reais, porque um _epsilon_ fixo escolhido que parece \"pequeno\" pode, na verdade, ser muito grande quando os números comparados também forem muito pequenos. A comparação retornaria _verdadeiro_ para números bastante diferentes. E quando os números são muito grandes, o _epsilon_ pode acabar sendo menor que o menor erro de arredondamento, de forma que a comparação sempre retorna _falso_. \n",
    "\n",
    "Assim, é razoável verificar se o _erro relativo_ é menor que o _epsilon_."
   ]
  },
  {
   "cell_type": "code",
   "execution_count": 66,
   "id": "a99a103f-79fe-4199-a23b-23792a489cda",
   "metadata": {},
   "outputs": [
    {
     "name": "stdout",
     "output_type": "stream",
     "text": [
      "OK!\n"
     ]
    }
   ],
   "source": [
    "# comparação por erro relativo\n",
    "if abs((a - b)/b) < 1e-5:\n",
    "    print('OK!')"
   ]
  },
  {
   "cell_type": "markdown",
   "id": "7a076eec-491e-475d-8437-ddca692bc7b9",
   "metadata": {},
   "source": [
    "Mas, esta forma ainda não é inteiramente correta para alguns casos especiais, a saber: \n",
    "\n",
    "- quando tanto `a` quanto `b` são iguais a zero, a fração resultante `0.0/0.0` é uma indefinição do tipo _not a number_ (`NaN`), a qual gera uma exceção em algumas plataformas, ou retorna _falso_ para todas as comparações;"
   ]
  },
  {
   "cell_type": "code",
   "execution_count": 175,
   "id": "03e7438e-90a7-4427-8822-531b06e13614",
   "metadata": {},
   "outputs": [
    {
     "ename": "ZeroDivisionError",
     "evalue": "division by zero",
     "output_type": "error",
     "traceback": [
      "\u001b[0;31m---------------------------------------------------------------------------\u001b[0m",
      "\u001b[0;31mZeroDivisionError\u001b[0m                         Traceback (most recent call last)",
      "\u001b[0;32m<ipython-input-175-fb6d2c8ce8ce>\u001b[0m in \u001b[0;36m<module>\u001b[0;34m\u001b[0m\n\u001b[1;32m      1\u001b[0m \u001b[0ma\u001b[0m\u001b[0;34m,\u001b[0m\u001b[0mb\u001b[0m \u001b[0;34m=\u001b[0m \u001b[0;36m0\u001b[0m\u001b[0;34m,\u001b[0m\u001b[0;36m0\u001b[0m\u001b[0;34m\u001b[0m\u001b[0;34m\u001b[0m\u001b[0m\n\u001b[0;32m----> 2\u001b[0;31m \u001b[0mabs\u001b[0m\u001b[0;34m(\u001b[0m\u001b[0;34m(\u001b[0m\u001b[0ma\u001b[0m\u001b[0;34m-\u001b[0m\u001b[0mb\u001b[0m\u001b[0;34m)\u001b[0m\u001b[0;34m/\u001b[0m\u001b[0mb\u001b[0m\u001b[0;34m)\u001b[0m \u001b[0;31m# exceção 'ZeroDivisionError'\u001b[0m\u001b[0;34m\u001b[0m\u001b[0;34m\u001b[0m\u001b[0m\n\u001b[0m",
      "\u001b[0;31mZeroDivisionError\u001b[0m: division by zero"
     ]
    }
   ],
   "source": [
    "a,b = 0,0\n",
    "abs((a-b)/b) # exceção 'ZeroDivisionError'"
   ]
  },
  {
   "cell_type": "markdown",
   "id": "52826297-a890-472f-8cca-45b798092337",
   "metadata": {},
   "source": [
    "- quando apenas `b` é igual a zero, a divisão produz o _infinito_ ($\\infty$), que pode gerar uma exceção ou ser maior do que epsilon mesmo quando `a` for menor;"
   ]
  },
  {
   "cell_type": "code",
   "execution_count": 176,
   "id": "6ae12ec5-21ae-4143-b747-b67fa26cdc2e",
   "metadata": {},
   "outputs": [
    {
     "ename": "ZeroDivisionError",
     "evalue": "float division by zero",
     "output_type": "error",
     "traceback": [
      "\u001b[0;31m---------------------------------------------------------------------------\u001b[0m",
      "\u001b[0;31mZeroDivisionError\u001b[0m                         Traceback (most recent call last)",
      "\u001b[0;32m<ipython-input-176-4bc2e683f9ff>\u001b[0m in \u001b[0;36m<module>\u001b[0;34m\u001b[0m\n\u001b[1;32m      1\u001b[0m \u001b[0ma\u001b[0m\u001b[0;34m,\u001b[0m\u001b[0mb\u001b[0m \u001b[0;34m=\u001b[0m \u001b[0;36m1e-1\u001b[0m\u001b[0;34m,\u001b[0m\u001b[0;36m0\u001b[0m\u001b[0;34m\u001b[0m\u001b[0;34m\u001b[0m\u001b[0m\n\u001b[0;32m----> 2\u001b[0;31m \u001b[0mabs\u001b[0m\u001b[0;34m(\u001b[0m\u001b[0;34m(\u001b[0m\u001b[0ma\u001b[0m\u001b[0;34m-\u001b[0m\u001b[0mb\u001b[0m\u001b[0;34m)\u001b[0m\u001b[0;34m/\u001b[0m\u001b[0mb\u001b[0m\u001b[0;34m)\u001b[0m \u001b[0;31m# exceção 'ZeroDivisionError'\u001b[0m\u001b[0;34m\u001b[0m\u001b[0;34m\u001b[0m\u001b[0m\n\u001b[0m",
      "\u001b[0;31mZeroDivisionError\u001b[0m: float division by zero"
     ]
    }
   ],
   "source": [
    "a,b = 1e-1,0\n",
    "abs((a-b)/b) # exceção 'ZeroDivisionError'"
   ]
  },
  {
   "cell_type": "markdown",
   "id": "9f4d8297-97fd-4d8b-82a2-3f41a17ff022",
   "metadata": {},
   "source": [
    "- quando `a` e `b` são muito pequenos, mas estão em lados opostos a zero, a comparação retorna _falso_, ainda que ambos sejam os menores números diferentes de zero possíveis."
   ]
  },
  {
   "cell_type": "code",
   "execution_count": 178,
   "id": "e34c8f82-1979-4320-a9eb-502f72800012",
   "metadata": {},
   "outputs": [
    {
     "data": {
      "text/plain": [
       "False"
      ]
     },
     "execution_count": 178,
     "metadata": {},
     "output_type": "execute_result"
    }
   ],
   "source": [
    "a,b = -0.009e-20,1.2e-19\n",
    "abs((a-b)/b) < 1e-5"
   ]
  },
  {
   "cell_type": "markdown",
   "id": "465811d6-4f77-4ec4-9bf1-990f0090b0b7",
   "metadata": {},
   "source": [
    "Além disso, o resultado pode não ser sempre comutativo. Isto é, `abs((a-b)/b)` pode ser diferente de  `abs((b-a)/b)`."
   ]
  },
  {
   "cell_type": "markdown",
   "id": "ec5cd176-aff1-45d2-a5cb-eb155bc45acb",
   "metadata": {},
   "source": [
    "É possível escrever uma função – veja abaixo – capaz de passar em vários testes para casos especiais, porém ela usa uma lógica com pouca obviedade. A margem de erro deve ser definida de maneira diferente dependendo dos valores de `a` ou `b`, porque a definição clássica de erro relativo torna-se insignificante nesses casos. "
   ]
  },
  {
   "cell_type": "code",
   "execution_count": 297,
   "id": "8b696122-77d9-41f8-ac92-1dd26d9053aa",
   "metadata": {},
   "outputs": [],
   "source": [
    "def compare_float(a:float,b:float,eps:float) -> bool: # \":\" e \"->\" são apenas anotações didáticas    \n",
    "    \n",
    "    import sys\n",
    "    MIN = sys.float_info.min # menor float : ~ 1.80e+308\n",
    "    MAX = sys.float_info.max # maior float : ~ -2.23e+308\n",
    "        \n",
    "    diff = abs(a-b)   \n",
    "    a = abs(a)\n",
    "    b = abs(b) \n",
    "    \n",
    "    if (a == b): # trata 'inf'\n",
    "        return True\n",
    "    elif (a == 0 or b == 0 or (a + b < MIN)): # a ou b = 0 ou ambos extremamente próximos de 0\n",
    "        return diff < (eps*MIN)\n",
    "    else: # erro relativo\n",
    "        return diff/(min(a + b, MAX)) < eps"
   ]
  },
  {
   "cell_type": "markdown",
   "id": "0656a3e3-cda3-4c1c-a8ab-bf6709ecf1db",
   "metadata": {},
   "source": [
    "Exemplos:"
   ]
  },
  {
   "cell_type": "code",
   "execution_count": 298,
   "id": "094e36be-a958-4e4c-b3b8-e69634c2b739",
   "metadata": {},
   "outputs": [
    {
     "name": "stdout",
     "output_type": "stream",
     "text": [
      "True\n",
      "False\n",
      "True\n",
      "False\n"
     ]
    }
   ],
   "source": [
    "print(compare_float(1e-3,1e-3,1e-10))\n",
    "print(compare_float(1e-3,1.1e-3,0.01))\n",
    "print(compare_float(10.111,10.1111,1e-5))\n",
    "print(compare_float(10.111,10.1111,1e-6))"
   ]
  },
  {
   "cell_type": "markdown",
   "id": "ae210e80-b045-4c73-b489-1c259c7673e5",
   "metadata": {},
   "source": [
    "### Referências para estudo\n",
    "\n",
    "#### Miscelânea\n",
    "\n",
    "- [IEEE 754-2019 - IEEE Standard for Floating-Point Arithmetic](https://standards.ieee.org/content/ieee-standards/en/standard/754-2019.html)\n",
    "- [What Every Computer Scientist Should Know About Floating-Point Arithmetic](http://download.oracle.com/docs/cd/E19957-01/806-3568/ncg_goldberg.html), artigo publicado por David Goldberg na ACM Computing Surveys, Vol. 23 (1), 1991. DOI: [10.1145/103162.103163](https://dl.acm.org/doi/abs/10.1145/103162.103163)\n",
    "- [William Kahan's Homepage (arquiteto do padrão IEEE 754, e vários outros links)](http://www.cs.berkeley.edu/~wkahan/)\n",
    "- [Decimal Arithmetic FAQ \n",
    "(Frequently Asked Questions)](http://speleotrove.com/decimal/decifaq.html)\n",
    "- [Python documentation - `decimal` module](https://docs.python.org/3/library/decimal.html)\n",
    "- [Is floating point math broken? @StackOverflow](https://stackoverflow.com/questions/588004/is-floating-point-math-broken)\n",
    "- [The Perils of Floating Point](https://www.lahey.com/float.htm)\n",
    "\n",
    "#### Visualizadores interativos de números no padrão IEEE 754\n",
    "\n",
    "- [IEEE 754 Visualization](https://bartaz.github.io/ieee754-visualization/)\n",
    "- [float.exposed](https://float.exposed/)\n",
    "\n",
    "#### Exemplos de comparação de números em ponto flutuante\n",
    "\n",
    "- [Random ASCII – tech blog of Bruce Dawson](https://randomascii.wordpress.com/2012/02/25/comparing-floating-point-numbers-2012-edition/)\n",
    "\n",
    "#### Livros\n",
    "\n",
    "- Modern Computer Architecture and Organization, por Jim Ledin\n",
    "- Computer Organization and Architecture Designing for Performance, por William Stallings\n",
    "- Numerical Computing with IEEE Floating Point Arithmetic, por Michael L. Overton"
   ]
  }
 ],
 "metadata": {
  "kernelspec": {
   "display_name": "Python 3",
   "language": "python",
   "name": "python3"
  },
  "language_info": {
   "codemirror_mode": {
    "name": "ipython",
    "version": 3
   },
   "file_extension": ".py",
   "mimetype": "text/x-python",
   "name": "python",
   "nbconvert_exporter": "python",
   "pygments_lexer": "ipython3",
   "version": "3.8.8"
  }
 },
 "nbformat": 4,
 "nbformat_minor": 5
}