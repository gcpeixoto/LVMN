{
 "cells": [
  {
   "cell_type": "markdown",
   "metadata": {},
   "source": [
    "# Malhas numéricas\n",
    "\n",
    "Ao transferir a informação de nossos modelos matemáticos do universo _contínuo_ para o universo _discreto_ do computador, precisamos criar uma _malha numérica_ (a construção Cartesiana em gradeado recebe o nome de _grade numérica_), que pode ser estruturada por uma sucessão de pontos tal como uma imitação de uma reta \"furada\". Em uma dimensão, uma malha numérica _uniforme_, cujo espaçamento entre seus pontos é igual, pode ser definida como uma progressão aritmética: \n",
    "\n",
    "$$t_n = t_0 \\pm n h, \\ \\ n = 1,2,\\ldots,N,$$\n",
    "\n",
    "onde $h$ é conhecido como _passo_.\n",
    "\n",
    "## Malhas uniformes\n",
    "\n",
    "A figura abaixo mostra os pontos de uma malha numérica uniforme. A linha pontilhada foi desenhada meramente para representar a porção do contínuo que o computador **não** captura, isto é, a informação que é perdida."
   ]
  },
  {
   "cell_type": "code",
   "execution_count": 1,
   "metadata": {},
   "outputs": [
    {
     "data": {
      "image/png": "[encoded data removed]",
      "text/plain": [
       "<Figure size 460.8x36 with 1 Axes>"
      ]
     },
     "metadata": {
      "filenames": {
       "image/png": "/Users/gustavo/Dropbox/courses/calculo-numerico/ipynb-lab-metodos-numericos/_build/jupyter_execute/extra/extra-malhasNumericas_1_0.png"
      },
      "needs_background": "light"
     },
     "output_type": "display_data"
    }
   ],
   "source": [
    "# desenha uma malha numerica uniforme\n",
    "\n",
    "import numpy as np\n",
    "import matplotlib.pyplot as plt \n",
    "\n",
    "# pontos\n",
    "x = np.arange(9)\n",
    "y = 0*x\n",
    "\n",
    "# configuracoes\n",
    "plt.figure(figsize=(6.4,0.5))\n",
    "plt.plot(x,y,'ok',markersize=4)\n",
    "plt.plot(x,y,':k',linewidth=1)\n",
    "plt.ylim((-0.02,0.1))\n",
    "plt.box(False)\n",
    "locs, labels = plt.xticks()\n",
    "plt.xticks(x, ('$t_{-N}$','$\\ldots$','$t_{-2}$','$t_{-1}$','$t_{0}$','$t_{1}$','$t_{2}$','$\\ldots$','$t_{N}$') )\n",
    "plt.tick_params(axis='both',width=0.0,labelleft=False)"
   ]
  },
  {
   "cell_type": "markdown",
   "metadata": {},
   "source": [
    "## Malhas não uniformes\n",
    "\n",
    "Uma malha numérica _não uniforme_ é aquela para a qual o tamanho do passo não é constante, como\n",
    "vemos na Figura a seguir. Neste caso, podemos ter comprimentos arbitrários $h_0 \\neq h_1 \\neq \\ldots \\neq h_{N-1}$ todos distintos, tanto à esquerda quanto à direita de $t_0$. "
   ]
  },
  {
   "cell_type": "code",
   "execution_count": 2,
   "metadata": {},
   "outputs": [
    {
     "data": {
      "image/png": "[encoded data removed]",
      "text/plain": [
       "<Figure size 460.8x36 with 1 Axes>"
      ]
     },
     "metadata": {
      "filenames": {
       "image/png": "/Users/gustavo/Dropbox/courses/calculo-numerico/ipynb-lab-metodos-numericos/_build/jupyter_execute/extra/extra-malhasNumericas_3_0.png"
      },
      "needs_background": "light"
     },
     "output_type": "display_data"
    }
   ],
   "source": [
    "# desenha uma malha numerica nao-uniforme\n",
    "\n",
    "# pontos\n",
    "x = np.array([-0.01,0.06,0.15,0.21,0.28,0.45,0.65,0.9,1.2])\n",
    "y = 0*x\n",
    "\n",
    "# configuracoes\n",
    "plt.figure(figsize=(6.4,0.5))\n",
    "plt.plot(x,y,'ok',markersize=4)\n",
    "plt.plot(x,y,':k',linewidth=1)\n",
    "plt.ylim((-0.02,0.1))\n",
    "plt.box(False)\n",
    "locs, labels = plt.xticks()\n",
    "plt.xticks(x, ('$t_{-N}$','$\\ldots$','$t_{-2}$','$t_{-1}$','$t_{0}$','$t_{1}$','$t_{2}$','$\\ldots$','$t_{N}$') )\n",
    "plt.tick_params(axis='both',width=0.0,labelleft=False)"
   ]
  },
  {
   "cell_type": "markdown",
   "metadata": {},
   "source": [
    "## Refinamento de malha \n",
    "\n",
    "Quando uma malha não uniforme possui uma ou mais regiões onde há uma acumulação de pontos, dizemos que ela está _refinada_ nessas regiões. Na figura, os pontos $t_{-2}, t_{-1}$ e $t_{0}$, por exemplo, acumulam-se próximos um do outro, ao passo que os pontos $t_1, t_2$ e $t_N$ afastam-se cada vez mais um do outro e da região de refinamento. Então, poderíamos dizer que a malha foi refinada entre $t_{-2}$ e $t_0$. \n",
    "\n",
    "O refinamento faz mais sentido apenas quando queremos capturar informações localizadas com mais precisão. Esta situação ocorre, por exemplo, em problemas práticos que envolvem variações ou mudanças abruptas de propriedades, como é o caso da massa específica nas proximidades de uma interface de dois fluidos imiscíveis.\n",
    "\n",
    "Nos esquemas acima, os nós com índice negativo são apenas ilustrativos e têm pouco efeito prático. Podemos trabalhar apenas com a indexação positiva sem problema algum."
   ]
  },
  {
   "cell_type": "markdown",
   "metadata": {},
   "source": [
    "## Malha numérica bidimensional uniforme\n",
    "\n",
    "Em particular, uma _malha numérica_ bidimensional dependerá de cópias de _arrays_ unidimensionais que formam as coordenadas do plano Cartesiano em cada dimensão"
   ]
  },
  {
   "cell_type": "code",
   "execution_count": 3,
   "metadata": {},
   "outputs": [
    {
     "data": {
      "image/png": "[encoded data removed]",
      "text/plain": [
       "<Figure size 432x288 with 1 Axes>"
      ]
     },
     "metadata": {
      "filenames": {
       "image/png": "/Users/gustavo/Dropbox/courses/calculo-numerico/ipynb-lab-metodos-numericos/_build/jupyter_execute/extra/extra-malhasNumericas_6_0.png"
      },
      "needs_background": "light"
     },
     "output_type": "display_data"
    }
   ],
   "source": [
    "import numpy as np\n",
    "import matplotlib.pyplot as plt\n",
    "\n",
    "# limites do domínio:\n",
    "# região do plano [a,b] x [c,d]\n",
    "a, b = -4.0, 5.0\n",
    "c, d = -2.0, 3.0\n",
    "\n",
    "# no. de pontos em cada direção\n",
    "nx, ny = 10, 20 \n",
    "\n",
    "# distribuição dos pontos\n",
    "x = np.linspace(a,b,nx)\n",
    "y = np.linspace(c,d,ny)\n",
    "\n",
    "# grade numérica 2D\n",
    "[X,Y] = np.meshgrid(x,y)\n",
    "\n",
    "# plotando pontos da grade numérica\n",
    "plt.scatter(X,Y,s=3,c='k');\n",
    "plt.title('Grade numérica 2D: pontos (x,y)')\n",
    "plt.xlabel('x'); plt.ylabel('y');"
   ]
  },
  {
   "cell_type": "markdown",
   "metadata": {},
   "source": [
    "### Plotando curvas de nível\n",
    "\n",
    "Plotaremos as curvas de nível 0 de funções não-lineares é útil para realizarmos análise gráfica e escolher vetores de estimativa inicial.\n",
    "\n",
    "Para plotar curvas de nível das funções sobre a grade numérica anterior, fazemos o seguinte:"
   ]
  },
  {
   "cell_type": "code",
   "execution_count": 4,
   "metadata": {},
   "outputs": [
    {
     "data": {
      "image/png": "[encoded data removed]",
      "text/plain": [
       "<Figure size 432x288 with 1 Axes>"
      ]
     },
     "metadata": {
      "filenames": {
       "image/png": "/Users/gustavo/Dropbox/courses/calculo-numerico/ipynb-lab-metodos-numericos/_build/jupyter_execute/extra/extra-malhasNumericas_8_0.png"
      },
      "needs_background": "light"
     },
     "output_type": "display_data"
    }
   ],
   "source": [
    "# funções definidas sobre a grade 2D\n",
    "F = X**2 + Y**2 - 2\n",
    "G = X**2 - Y**2 - 1\n",
    "\n",
    "# contorno de nível 0\n",
    "plt.contour(X,Y,F,colors='red',levels=0);\n",
    "plt.contour(X,Y,G,colors='blue',levels=0);\n",
    "plt.grid()"
   ]
  },
  {
   "cell_type": "markdown",
   "metadata": {},
   "source": [
    "Por que a figura está meio \"tosca\"? Porque temos poucos pontos na grade. Vamos aumentar o número de pontos. Este processo é conhecido como _refinamento de malha_."
   ]
  },
  {
   "cell_type": "code",
   "execution_count": 5,
   "metadata": {},
   "outputs": [
    {
     "data": {
      "image/png": "[encoded data removed]",
      "text/plain": [
       "<Figure size 432x288 with 1 Axes>"
      ]
     },
     "metadata": {
      "filenames": {
       "image/png": "/Users/gustavo/Dropbox/courses/calculo-numerico/ipynb-lab-metodos-numericos/_build/jupyter_execute/extra/extra-malhasNumericas_10_0.png"
      },
      "needs_background": "light"
     },
     "output_type": "display_data"
    }
   ],
   "source": [
    "# refinando a malha numérica\n",
    "nx2, ny2 = 100, 200\n",
    "\n",
    "# redistribuição dos pontos\n",
    "x2 = np.linspace(a,b,nx2)\n",
    "y2 = np.linspace(c,d,ny2)\n",
    "\n",
    "# grade numérica 2D refinada\n",
    "[X2,Y2] = np.meshgrid(x2,y2)\n",
    "\n",
    "# plotando pontos da grade numérica\n",
    "plt.scatter(X2,Y2,s=0.1,c='b');\n",
    "plt.title('Grade numérica 2D refinada: muitos pontos (x,y)')\n",
    "plt.xlabel('x'); plt.ylabel('y');"
   ]
  },
  {
   "cell_type": "markdown",
   "metadata": {},
   "source": [
    "Vamos plotar novamente as curvas de nível das funções sobre a grade numérica refinada."
   ]
  },
  {
   "cell_type": "code",
   "execution_count": 75,
   "metadata": {},
   "outputs": [
    {
     "data": {
      "image/png": "[encoded data removed]",
      "text/plain": [
       "<Figure size 432x288 with 1 Axes>"
      ]
     },
     "metadata": {
      "filenames": {
       "image/png": "/Users/gustavo/Dropbox/courses/calculo-numerico/ipynb-lab-metodos-numericos/_build/jupyter_execute/extra/extra-malhasNumericas_12_0.png"
      },
      "needs_background": "light"
     },
     "output_type": "display_data"
    }
   ],
   "source": [
    "# funções definidas sobre a grade 2D refinada\n",
    "F2 = X2**2 + Y2**2 - 2\n",
    "G2 = X2**2 - Y2**2 - 1\n",
    "\n",
    "# contorno de nível 0 na malha refinada\n",
    "plt.contour(X2,Y2,F2,colors='red',levels=0);\n",
    "plt.contour(X2,Y2,G2,colors='blue',levels=0);\n",
    "plt.grid()"
   ]
  }
 ],
 "metadata": {
  "celltoolbar": "Edit Metadata",
  "ipub": {
   "listcode": false,
   "listfigures": false,
   "listtables": false,
   "titlepage": {
    "author": "Prof. Dr. Gustavo Oliveira",
    "email": "gustavo.oliveira@ci.ufpb.br",
    "institution": [
     "Universidade Federal da Paraíba"
    ],
    "tagline": "Aula 2.",
    "title": "Soluções Numéricas de EDOs"
   },
   "toc": true
  },
  "kernelspec": {
   "display_name": "Python 3",
   "language": "python",
   "name": "python3"
  },
  "language_info": {
   "codemirror_mode": {
    "name": "ipython",
    "version": 3
   },
   "file_extension": ".py",
   "mimetype": "text/x-python",
   "name": "python",
   "nbconvert_exporter": "python",
   "pygments_lexer": "ipython3",
   "version": "3.8.2"
  }
 },
 "nbformat": 4,
 "nbformat_minor": 4
}