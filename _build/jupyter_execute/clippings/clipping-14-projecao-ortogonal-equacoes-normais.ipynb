{
 "cells": [
  {
   "cell_type": "markdown",
   "metadata": {},
   "source": [
    "#  Recorte 14: Projeção ortogonal e equações normais\n",
    "\n",
    "## Projeção ortogonal de um vetor sobre um subespaço\n",
    "\n",
    "Seja $E$ um espaço Euclidiano e seja $E'$, de dimensão finita $n$, um subespaço de $E$. Seja $v$ um vetor de $E$ não pertencente a $E'$.\n",
    "\n",
    "**Problema**: obter um vetor $v_0 \\in E'$ tal que $v − v_0$ seja ortogonal a todo vetor de $E'$. Na figura abaixo, $E = \\mathbb{R}^3$ e $E' = \\mathbb{R}^2$.\n",
    "\n",
    "**Solução**: seja $\\{ e_1, e_2, \\ldots, e_n \\}$ uma uma base de $E'$. Como $v_0 \\in E'$, podemos escrevê-lo pela combinação linear:\n",
    "\n",
    "$$v_0 = \\gamma_1e_1 + \\gamma_2e_2 + \\ldots + \\gamma_ne_n.$$\n",
    "\n",
    "Devemos determinar, caso possível, as coordenadas $\\gamma_1, \\gamma_2, \\ldots \\gamma_n$.\n",
    "\n",
    "Para $v - v_0$ ser ortogonal a $E'$, ele deve ser ortogonal a todo vetor de $E'$. Logo, basta que seja ortogonal a todo vetor de uma base de $E'$. Então, \n",
    "\n",
    "$$\\langle v - v_0, e_j \\rangle = \\langle v - (\\gamma_1e_1 + \\gamma_2e_2 + \\ldots + \\gamma_ne_n), e_j \\rangle = 0 \\qquad \\text{para} \\ \\ j = 1,2,\\ldots,n$$ \n",
    "\n",
    "Expandindo o produto vetorial, observamos que a seguinte equação deve ser satisfeita\n",
    "\n",
    "$$\\gamma_1 \\langle e_1, e_j \\rangle + \\gamma_2 \\langle e_2, e_j \\rangle + \\ldots + \\gamma_n \\langle e_n, e_j \\rangle = \\langle v, e_j \\rangle, \\ \\ j = 1,2,\\ldots,n.$$\n",
    "\n",
    "Equações desse tipo são conhecidas como **equações normais**.\n",
    "\n",
    "Assim, para obtermos as coordenadas de $V_0$ na base$ \\{ e_1, e_2, \\ldots, e_n \\}$, devemos resolver o sistema de equações lineares:\n",
    "\n",
    "$$\\begin{bmatrix}\n",
    "\\langle e_1,e_1 \\rangle & \\langle e_2,e_1 \\rangle & \\ldots & \\langle e_n,e_1 \\rangle \\\\\n",
    "\\langle e_1,e_2 \\rangle & \\langle e_2,e_2 \\rangle & \\ldots & \\langle e_n,e_2 \\rangle \\\\\n",
    "\\vdots & \\vdots & \\ddots & \\vdots \\\\\n",
    "\\langle e_1,e_n \\rangle & \\langle e_2,e_n \\rangle & \\ldots & \\langle e_n,e_n \\rangle\n",
    "\\end{bmatrix}\n",
    "\\begin{bmatrix}\n",
    "\\gamma_1 \\\\\n",
    "\\gamma_2 \\\\\n",
    "\\vdots \\\\\n",
    "\\gamma_n \\\\\n",
    "\\end{bmatrix}\n",
    "\\,\n",
    " =\n",
    "\\,\n",
    "\\begin{bmatrix}\n",
    "\\langle v,e_1 \\rangle \\\\\n",
    "\\langle v,e_2 \\rangle \\\\\n",
    "\\vdots \\\\\n",
    "\\langle v,e_n \\rangle\n",
    "\\end{bmatrix},$$\n",
    "\n",
    "cuja matriz é simétrica. Pode-se mostrar que o sistema acima possui solução **única**, implicando que $v_0$ é a **projeção ortogonal** de $v$ sobre o subespaço $E'$."
   ]
  }
 ],
 "metadata": {
  "celltoolbar": "Edit Metadata",
  "ipub": {
   "listcode": false,
   "listfigures": false,
   "listtables": false,
   "titlepage": {
    "author": "Prof. Gustavo Oliveira",
    "email": "gustavo.oliveira@ci.ufpb.br",
    "institution": [
     "Universidade Federal da Paraíba"
    ],
    "tagline": "Cálculo Numérico (clippings).",
    "title": "Projeção ortogonal e equações normais"
   },
   "toc": false
  },
  "kernelspec": {
   "display_name": "Python 3",
   "language": "python",
   "name": "python3"
  },
  "language_info": {
   "codemirror_mode": {
    "name": "ipython",
    "version": 3
   },
   "file_extension": ".py",
   "mimetype": "text/x-python",
   "name": "python",
   "nbconvert_exporter": "python",
   "pygments_lexer": "ipython3",
   "version": "3.6.4"
  }
 },
 "nbformat": 4,
 "nbformat_minor": 2
}