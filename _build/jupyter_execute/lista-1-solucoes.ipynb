{
 "cells": [
  {
   "cell_type": "markdown",
   "metadata": {},
   "source": [
    "# Lista de Exercícios 1\n",
    "\n",
    "Solucionário matemático e computacional de exercícios selecionados da Lista de Exercícios 1."
   ]
  },
  {
   "cell_type": "markdown",
   "metadata": {},
   "source": [
    "## Exercícios computacionais"
   ]
  },
  {
   "cell_type": "markdown",
   "metadata": {},
   "source": [
    "### Q\n",
    "Considere a função quadrática $f(x) = x^2 - 100.0001 + 0.01$:\n",
    "\n",
    "a) Implemente a fórmula de Bhaskara para calcular suas raízes\n",
    "\n",
    "b) Racionalize a fórmula de Bhaskara para a solução $x_2$ (multiplique por $\\frac{-b + \\sqrt{\\Delta}}{-b + \\sqrt{\\Delta}}$) e refaça o cálculo para $x_2$.\n",
    "\n",
    "c) Compare os resultados para $x_2$."
   ]
  },
  {
   "cell_type": "markdown",
   "metadata": {},
   "source": [
    "### S"
   ]
  },
  {
   "cell_type": "code",
   "execution_count": 1,
   "metadata": {},
   "outputs": [
    {
     "name": "stdout",
     "output_type": "stream",
     "text": [
      "x1 = 100.0\n",
      "x2 = 0.00010000000000331966\n",
      "x2b = 0.0001\n",
      "99.9999\n",
      "Diferença no numerador: 0.0002000000000066393\n",
      "Erro absoluto na solução: 3.3196508692975857e-15\n"
     ]
    }
   ],
   "source": [
    "from math import sqrt\n",
    "\n",
    "# a)\n",
    "\n",
    "# fórmula de Bhaskara \n",
    "a, b, c = 1, -100.0001, 0.01\n",
    "Delta = b**2 - 4*a*c\n",
    "\n",
    "# raízes\n",
    "x1 = (- b + sqrt(Delta))/2*a\n",
    "x2 = (- b - sqrt(Delta))/2*a\n",
    "\n",
    "print('x1 = {0}'.format(x1))\n",
    "print('x2 = {0}'.format(x2))\n",
    "\n",
    "# b)\n",
    "\n",
    "# Racionalizando, obtemos \n",
    "\n",
    "x2b = 2*c/(-b + sqrt(Delta))\n",
    "print('x2b = {0}'.format(x2b))\n",
    "\n",
    "\n",
    "# c) \n",
    "\n",
    "\"\"\"\n",
    "Discussão: o valor calculado em b) possui um erro de arredondamento. \n",
    "           Como b < 0, o numerador envolve a subtração de\n",
    "           dois números quase iguais (erro de cancelamento)\n",
    "           e isto afeta o resultado. \n",
    "           \n",
    "           Com a racionalização da expressão, obtemos uma fórmula\n",
    "           menos propensa a erros. \n",
    "\"\"\"\n",
    "b2 = sqrt(Delta)\n",
    "print(b2)\n",
    "print('Diferença no numerador: ' + str(-b - b2))\n",
    "print('Erro absoluto na solução: ' + str(abs(x2 - x2b)))\n",
    "\n"
   ]
  }
 ],
 "metadata": {
  "kernelspec": {
   "display_name": "Python 3",
   "language": "python",
   "name": "python3"
  },
  "language_info": {
   "codemirror_mode": {
    "name": "ipython",
    "version": 3
   },
   "file_extension": ".py",
   "mimetype": "text/x-python",
   "name": "python",
   "nbconvert_exporter": "python",
   "pygments_lexer": "ipython3",
   "version": "3.7.4"
  }
 },
 "nbformat": 4,
 "nbformat_minor": 4
}