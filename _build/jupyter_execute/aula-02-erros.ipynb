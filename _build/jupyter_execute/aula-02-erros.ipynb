{
 "cells": [
  {
   "cell_type": "markdown",
   "metadata": {},
   "source": [
    "# Erros numéricos e seus efeitos"
   ]
  },
  {
   "cell_type": "code",
   "execution_count": 1,
   "metadata": {},
   "outputs": [],
   "source": [
    "%matplotlib inline"
   ]
  },
  {
   "cell_type": "markdown",
   "metadata": {},
   "source": [
    "## Motivação"
   ]
  },
  {
   "cell_type": "markdown",
   "metadata": {},
   "source": [
    "**Exemplo**: Avaliar o polinômio $P(x) = x^3 - 6x^2 + 4x - 0.1$\n",
    "no ponto $x=5.24$ e comparar com o resultado exato.\n",
    "\n",
    "Vamos fazer o seguinte:\n",
    "\n",
    "1. Com uma calculadora, computar o valor de $P(5.24)$ e assuma que este é seu valor exato.\n",
    "\n",
    "2. Calcular $P(5.24)$ usando arredondamento com dois dígitos de precisão.\n",
    "\n",
    "**Passo 1**\n",
    "\n",
    "Faça as suas contas! Suponhamos que seja -0.007776.\n",
    "\n",
    "**Passo 2**\n",
    "\n",
    "Vamos \"imitar\" as contas feitas na mão... "
   ]
  },
  {
   "cell_type": "code",
   "execution_count": 2,
   "metadata": {},
   "outputs": [
    {
     "name": "stdout",
     "output_type": "stream",
     "text": [
      "p1: 143.87782400000000393\n",
      "p1 (com arredondamento): 143.88\n",
      "\n",
      "\n",
      "p2: -164.74560000000002447\n",
      "p2 (com arredondamento): -164.75\n",
      "\n",
      "\n",
      "p3: 20.960000000000000853\n",
      "p3 (com arredondamento): 20.96\n",
      "\n",
      "\n",
      "p4: -0.10000000000000000555\n",
      "p4 (com arredondamento): -0.10\n",
      "\n",
      "\n",
      "Px: -0.0077760000000196838332\n",
      "Px: (com arredondamento): -0.01\n"
     ]
    }
   ],
   "source": [
    "# parcelas \n",
    "\n",
    "p1 = 5.24**3\n",
    "print('p1: {0:.20g}'.format(p1)) # 20 dígitos significativos\n",
    "print('p1 (com arredondamento): {0:.2f}'.format(p1)) \n",
    "\n",
    "print('\\n')\n",
    "\n",
    "p2 = - 6*5.24**2\n",
    "print('p2: {0:.20g}'.format(p2))\n",
    "print('p2 (com arredondamento): {0:.2f}'.format(p2))\n",
    "\n",
    "print('\\n')\n",
    "\n",
    "p3 = 4*5.24\n",
    "print('p3: {0:.20g}'.format(p3))\n",
    "print('p3 (com arredondamento): {0:.2f}'.format(p3))\n",
    "\n",
    "print('\\n')\n",
    "\n",
    "p4 = - 0.1\n",
    "print('p4: {0:.20g}'.format(p4))\n",
    "print('p4 (com arredondamento): {0:.2f}'.format(p4))\n",
    "\n",
    "print('\\n')\n",
    "\n",
    "Px = p1 + p2 + p3 + p4\n",
    "print('Px: {0:.20g}'.format(Px))\n",
    "print('Px: (com arredondamento): {0:.2f}'.format(Px))"
   ]
  },
  {
   "cell_type": "markdown",
   "metadata": {},
   "source": [
    "**Conclusão:** o cálculo com dois dígitos afeta o resultado drasticamente!"
   ]
  },
  {
   "cell_type": "markdown",
   "metadata": {},
   "source": [
    "Agora, vamos comparar o resultado de se avaliar $P(5.24)$ com as duas formas do polinômio e 16 dígitos de precisão:"
   ]
  },
  {
   "cell_type": "code",
   "execution_count": 4,
   "metadata": {},
   "outputs": [
    {
     "name": "stdout",
     "output_type": "stream",
     "text": [
      "-0.0077760000000197\n",
      "-0.0077759999999939\n"
     ]
    }
   ],
   "source": [
    "# ponto de análise\n",
    "x = 5.24\n",
    "\n",
    "# P1(x) \n",
    "P1x = x**3 - 6*x**2 + 4*x - 0.1 \n",
    "print('{0:.16f}'.format(P1x))\n",
    "\n",
    "# P2(x) \n",
    "P2x = x*(x*(x - 6) + 4) - 0.1 # forma estruturada (forma de Hörner)\n",
    "print('{0:.16f}'.format(P2x))\n"
   ]
  },
  {
   "cell_type": "markdown",
   "metadata": {},
   "source": [
    "O que temos acima? Dois valores levemente distintos. Se computarmos os erros absoluto e relativo entre esses valores e nosso valor supostamente assumido como exato, teríamos: \n",
    "\n",
    "**Erros absolutos**"
   ]
  },
  {
   "cell_type": "code",
   "execution_count": 4,
   "metadata": {},
   "outputs": [
    {
     "name": "stdout",
     "output_type": "stream",
     "text": [
      "1.968390728190883e-14\n",
      "6.1287780406260595e-15\n"
     ]
    }
   ],
   "source": [
    "x_exato = -0.007776\n",
    "EA1 = abs(P1x - x_exato)\n",
    "print(EA1)\n",
    "\n",
    "EA2 = abs(P2x - x_exato)\n",
    "print(EA2)"
   ]
  },
  {
   "cell_type": "markdown",
   "metadata": {},
   "source": [
    "Claro que $EA_1 > EA_2$. Entretanto, podemos verificar pelo seguinte teste lógico:"
   ]
  },
  {
   "cell_type": "code",
   "execution_count": 5,
   "metadata": {},
   "outputs": [
    {
     "data": {
      "text/plain": [
       "True"
      ]
     },
     "execution_count": 5,
     "metadata": {},
     "output_type": "execute_result"
    }
   ],
   "source": [
    "# teste é verdadeiro\n",
    "EA1 > EA2"
   ]
  },
  {
   "cell_type": "markdown",
   "metadata": {},
   "source": [
    "**Erros relativos**\n",
    "\n",
    "Os erros relativos também podem ser computados como:"
   ]
  },
  {
   "cell_type": "code",
   "execution_count": 6,
   "metadata": {},
   "outputs": [
    {
     "name": "stdout",
     "output_type": "stream",
     "text": [
      "2.5313666772002096e-12\n",
      "7.881659002862731e-13\n"
     ]
    }
   ],
   "source": [
    "ER1 = EA1/abs(x_exato)\n",
    "print(ER1)\n",
    "\n",
    "ER2 = EA2/abs(x_exato)\n",
    "print(ER2)"
   ]
  },
  {
   "cell_type": "markdown",
   "metadata": {},
   "source": [
    "**Gráfico de $P(x)$**"
   ]
  },
  {
   "cell_type": "code",
   "execution_count": 7,
   "metadata": {},
   "outputs": [
    {
     "data": {
      "image/png": "[encoded data removed]",
      "text/plain": [
       "<Figure size 432x288 with 1 Axes>"
      ]
     },
     "metadata": {
      "filenames": {
       "image/png": "/Users/gustavo/Dropbox/courses/calculo-numerico/ipynb-lab-metodos-numericos/_build/jupyter_execute/aula-02-erros_15_0.png"
      },
      "needs_background": "light"
     },
     "output_type": "display_data"
    }
   ],
   "source": [
    "import numpy as np\n",
    "import matplotlib.pyplot as plt\n",
    "\n",
    "# eixo x com 20 pontos\n",
    "x = np.linspace(-3,3,num=20,endpoint=True)\n",
    "\n",
    "# plotagem de P1(x) e P2(x)\n",
    "P1x = lambda x: x**3 - 6*x**2 + 4*x - 0.1\n",
    "P2x = lambda x: x*(x*(x - 6) + 4) - 0.1\n",
    "plt.plot(x,P1x(x),'r',x,P2x(x),'bo');"
   ]
  },
  {
   "cell_type": "markdown",
   "metadata": {},
   "source": [
    "### Função de Airy\n",
    "\n",
    "A função de Airy é solução da equação de Schrödinger da mecânica quântica. Muda o comportamento de oscilatório para exponencial.\n",
    "\n",
    "Abaixo, vamos criar uma função aproximada (perturbada) para a função de Airy (assumindo-a como uma aproximação daquela que é exata) e outra para calcular diretamente o erro relativo para valores dessas funções.\n"
   ]
  },
  {
   "cell_type": "code",
   "execution_count": 8,
   "metadata": {},
   "outputs": [],
   "source": [
    "from scipy import special\n",
    "import matplotlib.pyplot as plt \n",
    "\n",
    "# eixo x \n",
    "x = np.linspace(-10, -2, 100)\n",
    "\n",
    "# funções de Airy e derivadas (solução exata)\n",
    "ai, aip, bi, bip = special.airy(x)\n",
    "\n",
    "# função de Airy (fazendo papel de solução aproximada)\n",
    "ai2 = 1.1*ai + 0.05*np.cos(x) "
   ]
  },
  {
   "cell_type": "markdown",
   "metadata": {},
   "source": [
    "Podemos usar o conceito de _função anônima_ para calcular diretamente o **erro relativo percentual** para cada ponto $x$:\n",
    "\n",
    "$$ER_p(x) = \\frac{\\mid \\ f_{aprox}(x) - f_{ex}(x) \\ \\mid}{\\mid \\ f_{ex}(x) \\ \\mid},$$\n",
    "\n",
    "onde $f_{aprox}(x)$ é o valor da função aproximada (de Airy) e \n",
    "onde $f_{ex}(x)$ é o valor da função exata (de Airy)."
   ]
  },
  {
   "cell_type": "code",
   "execution_count": 9,
   "metadata": {},
   "outputs": [],
   "source": [
    "# define função anônima para erro relativo\n",
    "r = lambda fex,faprox: (np.abs(fex-faprox)/np.abs(fex))/100\n",
    "\n",
    "# calcula erro relativo para função de Airy e sua aproximação\n",
    "rel = r(ai,ai2)"
   ]
  },
  {
   "cell_type": "markdown",
   "metadata": {},
   "source": [
    "A seguir, mostramos a plotagem das funções exatas e aproximadas, bem como do erro relativo pontual."
   ]
  },
  {
   "cell_type": "code",
   "execution_count": 10,
   "metadata": {},
   "outputs": [
    {
     "data": {
      "image/png": "[encoded data removed]",
      "text/plain": [
       "<Figure size 432x288 with 1 Axes>"
      ]
     },
     "metadata": {
      "filenames": {
       "image/png": "/Users/gustavo/Dropbox/courses/calculo-numerico/ipynb-lab-metodos-numericos/_build/jupyter_execute/aula-02-erros_21_0.png"
      },
      "needs_background": "light"
     },
     "output_type": "display_data"
    },
    {
     "data": {
      "image/png": "[encoded data removed]",
      "text/plain": [
       "<Figure size 432x288 with 1 Axes>"
      ]
     },
     "metadata": {
      "filenames": {
       "image/png": "/Users/gustavo/Dropbox/courses/calculo-numerico/ipynb-lab-metodos-numericos/_build/jupyter_execute/aula-02-erros_21_1.png"
      },
      "needs_background": "light"
     },
     "output_type": "display_data"
    }
   ],
   "source": [
    "# plotagens \n",
    "plt.plot(x, ai, 'r', label='sol exata')\n",
    "plt.plot(x, ai2, 'b', label='sol aprox')\n",
    "plt.grid()\n",
    "plt.legend(loc='upper right')\n",
    "plt.show()\n",
    "\n",
    "plt.plot(x,rel,'-', label='err rel %')\n",
    "plt.grid()\n",
    "plt.legend(loc='upper right');"
   ]
  },
  {
   "cell_type": "markdown",
   "metadata": {},
   "source": [
    "## Erro de cancelamento\n",
    "\n",
    "Ocorre quando números de grandezas próximas são subtraídos. No exemplo, a seguir, induzimos uma divisão por zero usando o valor do épsilon de máquina $\\epsilon_m$ ao fazer \n",
    "\n",
    "$$\\dfrac{1}{(1 + 0.25\\epsilon_m) - 1}$$\n",
    "\n",
    "Isto ocorre porque o denominador sofre um _cancelamento subtrativo_, quando, para a matemática precisa, deveria valer $0.25\\epsilon_m$."
   ]
  },
  {
   "cell_type": "markdown",
   "metadata": {},
   "source": [
    "## Propagação de erros\n",
    "\n",
    "Vamos comparar duas situações. Calcular \n",
    "\n",
    "$$e^{-v} = \\sum_{i=0}^{\\infty} (-1)^i \\frac{v^i}{i!}$$\n",
    "\n",
    "e comparar com a identidade $$e^{-v} = \\dfrac{1}{e^v}.$$"
   ]
  },
  {
   "cell_type": "code",
   "execution_count": 11,
   "metadata": {},
   "outputs": [
    {
     "name": "stdout",
     "output_type": "stream",
     "text": [
      "    0\n",
      "    1\n",
      "-4.25\n",
      "9.53125\n",
      "-14.5859\n",
      "17.0679\n",
      "-16.1686\n",
      "12.9133\n",
      "-8.89814\n",
      "5.41562\n",
      "-2.93407\n",
      "1.44952\n",
      "-0.642652\n",
      "0.272671\n",
      "-0.0969786\n",
      "0.0416401\n",
      "-0.00687642\n",
      "0.00904307\n",
      "0.00412676\n",
      "0.00556069\n",
      "\n",
      "caso 1: 0.00516447\n",
      "caso 2: 0.00524752\n"
     ]
    }
   ],
   "source": [
    "# somatória (primeiros 20 termos)\n",
    "v = 5.25\n",
    "s = 0\n",
    "for i in range(20):    \n",
    "    print('{0:5g}'.format(s))    \n",
    "    s += ((-1)**i*v**i)/np.math.factorial(i)\n",
    "\n",
    "print('\\ncaso 1: {0:5g}'.format(s))    \n",
    "\n",
    "print('caso 2: {0:5g}'.format(1/np.exp(v)))"
   ]
  },
  {
   "cell_type": "code",
   "execution_count": null,
   "metadata": {
    "jupyter": {
     "source_hidden": true
    }
   },
   "outputs": [],
   "source": []
  }
 ],
 "metadata": {
  "kernelspec": {
   "display_name": "Python 3",
   "language": "python",
   "name": "python3"
  },
  "language_info": {
   "codemirror_mode": {
    "name": "ipython",
    "version": 3
   },
   "file_extension": ".py",
   "mimetype": "text/x-python",
   "name": "python",
   "nbconvert_exporter": "python",
   "pygments_lexer": "ipython3",
   "version": "3.8.5"
  }
 },
 "nbformat": 4,
 "nbformat_minor": 4
}