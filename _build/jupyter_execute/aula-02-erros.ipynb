{
 "cells": [
  {
   "cell_type": "markdown",
   "metadata": {},
   "source": [
    "# Erros e seus efeitos\n",
    "\n",
    "Diferentemente da infindável capacidade humana para raciocinar, imaginar e criar, computadores, como máquinas de calcular, são limitados em memória e em habilidades aritméticas. Diante disso, pelo menos três situações simplificadoras ocorrem:\n",
    "\n",
    "- o contínuo torna-se _discreto_;\n",
    "- o infinito reduz-se ao _finito_ e \n",
    "- a exatidão limita-se à _aproximação_.\n",
    "\n",
    "Algumas idéias impactadas por essas simplificações, por sua vez, tornam-se inadmissíveis em sentido estrito. Por exemplo:\n",
    "\n",
    "- números reais convertem-se em números aproximados;\n",
    "- limites são exibidos através de sequências;\n",
    "- derivadas são aproximadas por quocientes de diferenças finitas;\n",
    "- integrais definidas são calculáveis por meio de somas finitas.\n",
    "\n",
    "Por isso é comum chamar o processo de transferência de cálculos contínuos para cômputos discretos de _discretização_. \n",
    "\n",
    "Quando tratamos da resolução numérica de problemas realistas formulados com auxílio da Matemática, qual seja o campo do conhecimento, é quase impossível desviar-se do _erro_. Erros subsistem em qualquer formulação que tente explicar o funcionamento exato de um fenômeno, em geral, estudado pelas ciências naturais.\n",
    "\n",
    "De forma abstrata, se um fenômeno físico $\\mathcal{F}$ pode ser descrito por um modelo matemático $\\mathcal{M}$ cuja solução exata é $\\mathcal{S}$, a impossibilidade de obtê-la\n",
    "sugere pelo menos uma solução aproximada $\\mathcal{S}'$, tal que $\\mathcal{S} = \\mathcal{S}' + \\mathcal{E}$. Então, diremos que $\\mathcal{E}$ é o _erro_. De outro modo, $\\mathcal{E} = \\mathcal{S} - \\mathcal{S}'$.\n",
    "\n",
    "Neste capítulo, estudaremos as diversas formas assumidas por $\\mathcal{E}$ quando $\\mathcal{S}'$ é implementável por meio de métodos numéricos. Evidentemente, pode haver mais de uma forma de obter $\\mathcal{S}'$. Além disso, em situações difícies, é preciso estabelecer, com rigor, se $\\mathcal{S}$ existe e se é única. Todavia, não discutiremos os procedimentos teóricos de verificação em profundidade."
   ]
  },
  {
   "cell_type": "markdown",
   "metadata": {},
   "source": [
    "## Motivação"
   ]
  },
  {
   "cell_type": "markdown",
   "metadata": {},
   "source": [
    "Como forma de demonstrar que cômputos podem ter resultados distintos, consideremos a somatória (descendente, da maior para a menor parcela)\n",
    "\n",
    "$$S_D(n) = \\sum_{k=1}^n \\frac{1}{k} = 1 + \\frac{1}{2} + \\ldots + \\frac{1}{n-1} + \\frac{1}{n},$$\n",
    "\n",
    "e a sua versão escrita de forma \"refletida\" (ascendente, da menor para a maior parcela), ou seja,\n",
    "\n",
    "$$S_A(n) = \\sum_{k=n}^1 \\frac{1}{k} = \\frac{1}{n} + 1 + \\frac{1}{n-1} + \\ldots + \\frac{1}{2} + 1.$$\n",
    "\n",
    "É evidente que $S_A(n)$ e $S_D(n)$ são matematicamente equivalentes e devem produzir o mesmo resultado independentemente de $n$ e do sentido em que forem somadas. Porém, vejamos o que acontece ao programarmos uma pequena função para computar ambas as formas."
   ]
  },
  {
   "cell_type": "code",
   "execution_count": 1,
   "metadata": {
    "tags": [
     "hide-input"
    ]
   },
   "outputs": [
    {
     "name": "stdout",
     "output_type": "stream",
     "text": [
      "+--------+--------------------+--------------------+------------------------+\n",
      "|   n    |       S_A(n)       |       S_D(n)       |    S_D(n) - S_A(n)     |\n",
      "+--------+--------------------+--------------------+------------------------+\n",
      "|   10   | 2.9289682539682538 | 2.9289682539682538 |          0.0           |\n",
      "|  100   | 5.187377517639621  | 5.1873775176396215 | -8.881784197001252e-16 |\n",
      "|  1000  | 7.485470860550343  | 7.485470860550341  | 2.6645352591003757e-15 |\n",
      "| 10000  | 9.787606036044348  | 9.787606036044386  | -3.730349362740526e-14 |\n",
      "| 100000 | 12.090146129863335 | 12.090146129863408 | -7.283063041541027e-14 |\n",
      "+--------+--------------------+--------------------+------------------------+\n"
     ]
    }
   ],
   "source": [
    "from prettytable import PrettyTable as pt\n",
    "\n",
    "# define séries\n",
    "def S(n):\n",
    "    \n",
    "    S_D = 0\n",
    "    for k in range(1,n+1):\n",
    "        S_D += 1/k        \n",
    "         \n",
    "    S_A = 0\n",
    "    for k in range(n,0,-1):\n",
    "        S_A += 1/k       \n",
    "    \n",
    "    # diferença    \n",
    "    E = S_D - S_A\n",
    "    \n",
    "    return S_D, S_A, E\n",
    "    \n",
    "# cria objeto para tabela\n",
    "tbl = pt()\n",
    "tbl.field_names = ['n','S_A(n)','S_D(n)','S_D(n) - S_A(n)']\n",
    "tbl.align = 'c'\n",
    "\n",
    "# loop de teste\n",
    "for n in [10**1, 10**2, 10**3, 10**4, 10**5]:\n",
    "    sd, sa, e = S(n)    \n",
    "    row = [n,sd,sa,e]\n",
    "    tbl.add_row(row)\n",
    "   \n",
    "# imprime tabela\n",
    "print(tbl)"
   ]
  },
  {
   "cell_type": "markdown",
   "metadata": {},
   "source": [
    "Como se percebe pela última coluna, os valores produzidos pelas somas para $n > 10$ não são exatamente iguais. Embora exista diferenças ínfimas nos resultados, elas não são zero, assim indicando que a maneira como computamos expressões matemáticas cujos resultados são idênticos pode levar a resultados distintos. \n",
    "\n",
    "O fato de $S_A(n) - S_D(n) > 0$ caracteriza um \"erro\" de magnitude $\\epsilon$, visto que, se $S_A(n)$ fosse tomado como o valor exato, $S_D(n) = S_A(n) + \\epsilon$ seria uma aproximação para $S_A(n)$. Inversamente, se $S_D(n)$ fosse tomado como o valor exato, $S_A(n) = S_D(n) + \\epsilon$ seria uma aproximação para $S_D(n)$."
   ]
  },
  {
   "cell_type": "markdown",
   "metadata": {},
   "source": [
    "\n",
    "Naturalmente, se tomássemos a versão _infinita_ de $S_D$ (ou $S_A$), chamando-a apenas de $S$ e substituindo $n$ por $\\infty$, isto é, \n",
    "\n",
    "$$S = \\sum_{k=1}^{\\infty} \\frac{1}{k},$$\n",
    "\n",
    "tanto $S_D(n)$ e $S_A(n)$ seriam consideradas _aproximações_ para $S$. \n",
    "\n",
    "Supondo que somente $S_D(n)$ é a forma correta de \"chegar perto\" de $S$, a implicação\n",
    "\n",
    "$$S = S_D(n) + \\epsilon_n \\Rightarrow \\epsilon_n = S - S_D(n)$$\n",
    "\n",
    "revelaria o acréscimo $\\epsilon_n$ como uma quantidade não-nula coexistindo com o valor finito $n$. Uma vez que computadores são incapazes de calcular somas infinitas por limitação de memória, $\\epsilon_n$ define um tipo de _erro_. Este erro é inerente ao processo de cálculo aproximado de séries infinitas. Além disso, ele dependerá de $n$, ou seja, da quantidade de termos utilizados na soma $S_D$ para aproximar o real valor de $S$.\n",
    "\n",
    "Entretanto, estamos ainda diante de um problema de difícil tratamento, visto que a soma $S$ só pode ser obtida aproximadamente, pois $\\sum_{k=1}^{\\infty} \\frac{1}{k}$ não é convergente. Logo, é impossível estabelecer um valor \"exato\" para $S$, a fim de compará-lo com suas aproximações. Caso intentássemos medir discrepâncias no cálculo desta série, teríamos que adotar um valor já aproximado para cumprir o papel de exato e utilizar outros valores também aproximados como \"aproximações de uma aproximação\". Embora pareça estranho e paradoxal, o que acontece em muitas situações práticas quando lidamos com um _processo iterativo_ ou de _aproximações sucessivas_ é justamente isso.\n",
    "\n",
    "Vamos tomar os valores da tabela de $S_D(n)$. Suponhamos que $S_D(100000) = 12.090146129863408$ assumisse o papel de valor \"exato\" de $S$. Fosse este o caso, poderíamos calcular pelo menos quatro erros:\n",
    "\n",
    "$$E_{10000} = S_D(100000) - S_D(10000) = 2.3025400938190224$$\n",
    "$$E_{1000} = S_D(100000) - S_D(1000) = 4.604675269313067$$\n",
    "$$E_{100} = S_D(100000) - S_D(100) = 6.902768612223786$$\n",
    "$$E_{10} = S_D(100000) - S_D(10) = 9.161177875895154$$\n",
    "\n",
    "Para obter cada valor acima, poderíamos escrever:"
   ]
  },
  {
   "cell_type": "code",
   "execution_count": 25,
   "metadata": {},
   "outputs": [
    {
     "name": "stdout",
     "output_type": "stream",
     "text": [
      "12.090146129863408\n",
      "2.3025400938190224\n",
      "4.604675269313067\n",
      "6.902768612223786\n",
      "9.161177875895154\n"
     ]
    }
   ],
   "source": [
    "# O valor de S_D(n) está na entrada (i,2) da tabela, para i = 0,1,2,3,4.\n",
    "# Em Python, cada um é acessível por indexação na forma [i][2]\n",
    "\n",
    "E_100000 = tbl.rows[4][2]           # i = 4\n",
    "E_10000 = E_100000 - tbl.rows[3][2] # i = 3\n",
    "E_1000 = E_100000 - tbl.rows[2][2]  # i = 2\n",
    "E_100 = E_100000 - tbl.rows[1][2]   # i = 1\n",
    "E_10 = E_100000 - tbl.rows[0][2]    # i = 0\n",
    "\n",
    "# Impressão de valores\n",
    "print(E_100000)\n",
    "print(E_10000)\n",
    "print(E_1000)\n",
    "print(E_100)\n",
    "print(E_10)"
   ]
  },
  {
   "cell_type": "markdown",
   "metadata": {},
   "source": [
    "Não é difícil ver que o valor de $E$ em relação a $S_D(100000)$ aumenta quando tomamos valores de $n$ cada vez menores. Em outras palavras, nossas aproximações de um valor supostamente exato (aproximado) tornam-se cada vez mais pobres quando não dispomos de parcelas suficientes para somar. Além disso, usar $S_D(100000)$ como ponto de referência não é nada confiável, já que ele apenas fará com que tenhamos uma sensação ilusória de exatidão."
   ]
  },
  {
   "cell_type": "markdown",
   "metadata": {},
   "source": [
    "Se, em vez de uma série divergente, escolhermos outra, convergente, poderemos fazer cálculos de erro tomando como referência um valor definitivamente exato. Então, consideremos a série\n",
    "\n",
    "$$S_2 = \\sum_{k=1}^{\\infty} \\frac{1}{k^2}$$\n",
    "\n",
    "A série $S_2$ ficou conhecida como [_Problema de Basel_](https://en.wikipedia.org/wiki/Basel_problem), proposto em 1650 pelo matemático italiano Pietro Mengoli, e solucionado por Leonhard Euler em 1734 – _Basel_ é o nome de uma cidade da Suíça, onde Euler nasceu. Graças a Euler e a teoria matemática operante nos bastidores, existe certeza suficiente de que $S_2 = \\frac{\\pi^2}{6}$.\n",
    "\n",
    "Do mesmo modo como fizemos no caso anterior, geraremos uma nova tabela para valores de $S_2(n)$ com $n$ crescente até o limite de 100.000, até porque não temos como computar $S_2$ _ad infinitum_. Então, vejamos um código similar:"
   ]
  },
  {
   "cell_type": "code",
   "execution_count": 26,
   "metadata": {
    "tags": [
     "hide-input"
    ]
   },
   "outputs": [
    {
     "name": "stdout",
     "output_type": "stream",
     "text": [
      "+--------+--------------------+--------------------+-----------------------+\n",
      "|   n    |        S_2         |       S_2(n)       |      S_2 - S_2(n)     |\n",
      "+--------+--------------------+--------------------+-----------------------+\n",
      "|   10   | 1.6449340668482264 | 1.5497677311665408 |  0.09516633568168564  |\n",
      "|  100   | 1.6449340668482264 | 1.6349839001848923 |  0.009950166663334148 |\n",
      "|  1000  | 1.6449340668482264 | 1.6439345666815615 | 0.0009995001666649461 |\n",
      "| 10000  | 1.6449340668482264 | 1.6448340718480652 | 9.999500016122376e-05 |\n",
      "| 100000 | 1.6449340668482264 | 1.6449240668982423 | 9.999949984074163e-06 |\n",
      "+--------+--------------------+--------------------+-----------------------+\n"
     ]
    }
   ],
   "source": [
    "from math import pi\n",
    "\n",
    "# define série\n",
    "def S2(n):\n",
    "    \n",
    "    S_2 = 0\n",
    "    for k in range(1,n+1):\n",
    "        S_2 += 1/k**2        \n",
    "             \n",
    "    # valor exato\n",
    "    S_2ex = pi**2/6 \n",
    "    \n",
    "    # diferença    \n",
    "    E = S_2ex - S_2\n",
    "    \n",
    "    return S_2ex, S_2, E\n",
    "    \n",
    "# cria objeto para tabela\n",
    "tbl2 = pt()\n",
    "tbl2.field_names = ['n','S_2','S_2(n)','S_2 - S_2(n)']\n",
    "tbl2.align = 'c'\n",
    "\n",
    "# loop de teste\n",
    "for n in [10**1, 10**2, 10**3, 10**4, 10**5]:\n",
    "    s2, s2n, e = S2(n)    \n",
    "    row = [n,s2,s2n,e]\n",
    "    tbl2.add_row(row)\n",
    "   \n",
    "# imprime tabela\n",
    "print(tbl2)"
   ]
  },
  {
   "cell_type": "markdown",
   "metadata": {},
   "source": [
    "Neste caso, a diferença existente na última coluna caracteriza, de fato, o _erro real_ entre o valor exato $S_2$ e suas aproximações, de modo que, neste caso,\n",
    "\n",
    "$$E_{100000} = \\frac{\\pi^2}{6} - S_2(100000) = 0.000009999949984074163$$\n",
    "$$E_{10000} = \\frac{\\pi^2}{6} - S_2(10000) = 0.00009999500016122376$$\n",
    "$$E_{1000} = \\frac{\\pi^2}{6} - S_2(1000) = 0.0009995001666649461$$\n",
    "$$E_{100} = \\frac{\\pi^2}{6} - S_2(100) = 0.009950166663334148$$\n",
    "$$E_{10} = \\frac{\\pi^2}{6} - S_2(10) = 0.09516633568168564$$"
   ]
  },
  {
   "cell_type": "markdown",
   "metadata": {},
   "source": [
    "A partir daí, notamos que o erro reduz-se a quase zero à medida que o valor de $n$ aumenta, assim dando-nos uma constatação, pelo menos aproximada, de que a soma, de fato, é $\\pi^2/6 \\approx 1.6449340668482264$. Para obtermos os valores dos erros, um código similar poderia ser implementado:"
   ]
  },
  {
   "cell_type": "code",
   "execution_count": 27,
   "metadata": {},
   "outputs": [
    {
     "name": "stdout",
     "output_type": "stream",
     "text": [
      "9.999949984074163e-06\n",
      "9.999500016122376e-05\n",
      "0.0009995001666649461\n",
      "0.009950166663334148\n",
      "0.09516633568168564\n"
     ]
    }
   ],
   "source": [
    "# Expressões do erro real\n",
    "E_100000 = pi**2/6 - tbl2.rows[4][2] # i = 4\n",
    "E_10000 = pi**2/6 - tbl2.rows[3][2]  # i = 3\n",
    "E_1000 = pi**2/6 - tbl2.rows[2][2]   # i = 2\n",
    "E_100 = pi**2/6 - tbl2.rows[1][2]    # i = 1\n",
    "E_10 = pi**2/6 - tbl2.rows[0][2]     # i = 0\n",
    "\n",
    "# Impressão\n",
    "print(E_100000)\n",
    "print(E_10000)\n",
    "print(E_1000)\n",
    "print(E_100)\n",
    "print(E_10)"
   ]
  },
  {
   "cell_type": "markdown",
   "metadata": {},
   "source": [
    "Talvez não tenha sido percebido por você, mas, até aqui, já tratamos, conceitualmente, de três tipificações de erro, a saber:\n",
    "\n",
    "1. _erro de truncamento_, quando limitamos o número de termos de uma expansão infinita, tornando-a finita.\n",
    "2. _erro real aproximado_ (ou _erro verdadeiro aproximado_), quando assumimos que o valor exato da expansão infinita (série divergente) é a soma obtida até a parcela $n$, com $n$ muito grande, mas finito, e calculamos a diferença entre este valor e a soma obtida até uma parcela anterior à $n$-ésima;\n",
    "3. _erro real_ (ou _erro verdadeiro_), quando calculamos a diferença entre a soma exata (série convergente) e a soma obtida até a parcela $n$."
   ]
  },
  {
   "cell_type": "markdown",
   "metadata": {},
   "source": [
    "Curioso, não? E não para por aí! Ainda há outras definições de erro. Veremos mais algumas no decorrer do curso."
   ]
  },
  {
   "cell_type": "markdown",
   "metadata": {},
   "source": [
    "## Tipos de erros"
   ]
  },
  {
   "cell_type": "markdown",
   "metadata": {},
   "source": [
    "Consideremos avaliar o polinômio $P(x) = 0.172x^3 - 0.878x^2 + 0.042x + 0.583$\n",
    "no ponto $x=79.9$.\n",
    "\n",
    "Vamos fazer o seguinte:\n",
    "\n",
    "1. Assumir que $82132.957032$ seja o valor exato para o polinômio em $x = 79.9$.\n",
    "2. Calcular $P(79.9)$ utilizando duas formas."
   ]
  },
  {
   "cell_type": "code",
   "execution_count": 8,
   "metadata": {
    "tags": [
     "remove-cell"
    ]
   },
   "outputs": [],
   "source": [
    "# Código para gerar polinômio cúbico com raízes reais\n",
    "\n",
    "from numpy import random\n",
    "from sympy.abc import x, a, b, c, d\n",
    "from sympy import roots, lambdify\n",
    "\n",
    "# Semente aleatória\n",
    "random.seed(1)\n",
    "\n",
    "# Um polinômio do terceiro grau terá as 3 raízes reais e distintas\n",
    "# se o discriminante for > 0. Aqui, criamos um polinômio que \n",
    "# satisfaz tais condições por busca aleatória\n",
    "Delta = -1\n",
    "a,b,c,d = 0,0,0,0\n",
    "while Delta <= 0:\n",
    "    A,B,C,D = random.randn(1,4)[0,:]\n",
    "    Delta = -27*A**2*D**2 + 18*A*B*C*D -4*A*C**3 - 4*B**3*D + B**2*C**2\n",
    "    a,b,c,d = A,B,C,D\n",
    "    \n",
    "# Polinômio cúbico simbólico\n",
    "P3 = a*x**3 + b*x**2 + c*x + d\n",
    "\n",
    "# Polinômio cúbico numérico\n",
    "P3n = lambdify(x,P3,'numpy')\n",
    "\n",
    "# Raízes simbólicas\n",
    "r = list(roots(P3,x).keys())\n",
    "r1 = r[0]\n",
    "r2 = r[1]\n",
    "r3 = r[2]\n",
    "\n",
    "# Raízes numéricas com os valores encontrados\n",
    "r1n = r1.subs({'a':a, 'b':b, 'c':c, 'd': d}).evalf(10)\n",
    "r2n = r2.subs({'a':a, 'b':b, 'c':c, 'd': d}).evalf(10)\n",
    "r3n = r3.subs({'a':a, 'b':b, 'c':c, 'd': d}).evalf(10)\n",
    "\n",
    "#print(P3)\n",
    "#P3_ex = 0.172428207550436*x**3 - 0.877858417921372*x**2 + 0.0422137467155928*x + 0.582815213715822"
   ]
  },
  {
   "cell_type": "code",
   "execution_count": 9,
   "metadata": {},
   "outputs": [
    {
     "name": "stdout",
     "output_type": "stream",
     "text": [
      "P(79.9) = 82132.95064800001273\n",
      "PH(79.9) = 82132.95064799999818\n"
     ]
    }
   ],
   "source": [
    "# Valor\n",
    "x = 79.9\n",
    "\n",
    "# Forma padrão\n",
    "Px = 0.172*x**3 - 0.878*x**2 + 0.042*x + 0.583\n",
    "\n",
    "# Forma estruturada (Hörner)\n",
    "PHx = x*(x*(0.172*x - 0.878) + 0.042) + 0.583 \n",
    "\n",
    "# Impressão\n",
    "print(f'P({x}) = {Px:.14f}')\n",
    "print(f'PH({x}) = {PHx:.14f}')\n",
    "    "
   ]
  },
  {
   "cell_type": "markdown",
   "metadata": {},
   "source": [
    "Como se vê, a partir da 7a. casa decimal, começamos a notar uma leve diferença do valor do polinômio, embora ambas as formas, padrão de Hörner (estruturada), sejam matematicamente equivalentes. Embora os valores sejam próximos, a forma estruturada é uma opção menos _custosa_, sob o ponto de vista computacional, visto que ela possui menos avaliações de operações aritméticas.\n",
    "\n",
    "A forma polinomial padrão, escrita de maneira ampliada, resulta em \n",
    "\n",
    "$$P(x) = 0.172{\\color{red}.}x{\\color{red}.}x{\\color{red}.}x {\\color{blue}-} 0.878{\\color{red}.}x{\\color{red}.}x {\\color{blue}+} 0.042{\\color{red}.}x {\\color{blue}+} 0.583,$$\n",
    "\n",
    "ao passo que a forma de Hörner é escrita como:\n",
    "\n",
    "$$P_H(x) = x{\\color{red}.}(x{\\color{red}.}(0.172{\\color{red}.}x {\\color{blue}-} 0.878) {\\color{blue}+} 0.042) {\\color{blue}+} 0.583$$\n",
    "\n",
    "Qual é a diferença entre ambas? O número de multiplicações (vermelho) e adições/subtrações (azul) é diferente. Enquanto na forma $P(x)$, temos 6 multiplicações e 3 adições/subtrações, a forma $P_H(x)$ reduz as operações para 3 multiplicações e 3 adições/subtrações. Isso é o mesmo que dizer que o número de operações aritméticas de multiplicação foi reduzido em 50%!\n",
    "\n",
    "A conclusão é: a avaliação de polinômios pela forma de Hörner é mais lucrativa e propensa a um erro menor."
   ]
  },
  {
   "cell_type": "markdown",
   "metadata": {},
   "source": [
    "### Erro real"
   ]
  },
  {
   "cell_type": "markdown",
   "metadata": {},
   "source": [
    "O erro real (ou verdadeiro), $E$, não sinalizado, entre o valor \n",
    "exato $x$ e o aproximado $\\hat{x}$ é dado por:\n",
    "\n",
    "$$E = \\hat{x} - x.$$\n",
    "\n",
    "Note que, por convenção, se $E > 0$, erramos por superestimação (\"excesso\"). Por outro lado, se $E < 0$, erramos por subestimação (\"omissão\").\n",
    "\n",
    "Calculamos o erro real operando com diferença simples. \n",
    "\n",
    "Utilizando o exemplo da seção anterior, temos:"
   ]
  },
  {
   "cell_type": "code",
   "execution_count": 10,
   "metadata": {},
   "outputs": [
    {
     "name": "stdout",
     "output_type": "stream",
     "text": [
      "-0.0063839999929768965\n",
      "-0.006384000007528812\n"
     ]
    }
   ],
   "source": [
    "# Valor exato\n",
    "Px_ex = 82132.957032\n",
    "\n",
    "# Erro real (forma padrão)\n",
    "E_P = Px - Px_ex\n",
    "print(E_P)\n",
    "\n",
    "# Erro real (forma de Hörner)\n",
    "E_PH = PHx - Px_ex\n",
    "print(E_PH)\n"
   ]
  },
  {
   "cell_type": "markdown",
   "metadata": {},
   "source": [
    "### Erro absoluto\n",
    "\n",
    "O erro absoluto, $EA$, é a versão sinalizada de $E$. Dado por\n",
    "\n",
    "$$EA = | \\hat{x} - x |,$$\n",
    "\n",
    "ele ignora a condição de subestimação ou superestimação e se atém à diferença absoluta entre o valor exato e o valor aproximado.\n",
    "\n",
    "A função módulo, $f(x) = | x |$, pode ser diretamente calculada com `abs`."
   ]
  },
  {
   "cell_type": "code",
   "execution_count": 11,
   "metadata": {},
   "outputs": [
    {
     "name": "stdout",
     "output_type": "stream",
     "text": [
      "0.0063839999929768965\n",
      "0.006384000007528812\n"
     ]
    }
   ],
   "source": [
    "# Erro absoluto (forma padrão)\n",
    "EA_P = abs(Px - Px_ex)\n",
    "print(EA_P)\n",
    "\n",
    "# Erro absoluto (forma de Hörner)\n",
    "EA_PH = abs(PHx - Px_ex)\n",
    "print(EA_PH)"
   ]
  },
  {
   "cell_type": "markdown",
   "metadata": {},
   "source": [
    "É evidente que $E_{PH} > E_P$. Entretanto, podemos verificar isso pelo seguinte teste lógico:"
   ]
  },
  {
   "cell_type": "code",
   "execution_count": 32,
   "metadata": {},
   "outputs": [
    {
     "data": {
      "text/plain": [
       "True"
      ]
     },
     "execution_count": 32,
     "metadata": {},
     "output_type": "execute_result"
    }
   ],
   "source": [
    "# O teste é verdadeiro\n",
    "EA_PH > EA_P"
   ]
  },
  {
   "cell_type": "markdown",
   "metadata": {},
   "source": [
    "### Erro relativo\n",
    "\n",
    "O erro relativo, $ER$, aperfeiçoa a idea de erro absoluto a partir do momento que passa a considerar a ordem de grandeza das quantidades envolvidas, mensurando uma variação que se limita ao valor exato. Assim,\n",
    "\n",
    "$$ER = \\dfrac{ | \\hat{x} - x | }{|x|} = \\dfrac{ EA }{|x|} = 1 - \n",
    "\\dfrac{ |\\hat{x}| }{|x|}.$$"
   ]
  },
  {
   "cell_type": "markdown",
   "metadata": {},
   "source": [
    "Os erros relativos podem ser computados como:"
   ]
  },
  {
   "cell_type": "code",
   "execution_count": 16,
   "metadata": {},
   "outputs": [
    {
     "name": "stdout",
     "output_type": "stream",
     "text": [
      "7.772762875796146e-08\n",
      "7.772762893513656e-08\n"
     ]
    }
   ],
   "source": [
    "ER_P = EA_P/abs(Px_ex)\n",
    "print(ER_P)\n",
    "\n",
    "ER_PH = EA_PH/abs(Px_ex)\n",
    "print(ER_PH)"
   ]
  },
  {
   "cell_type": "markdown",
   "metadata": {},
   "source": [
    "### Erro relativo percentual\n",
    "\n",
    "O erro relativo percentual é outra forma útil de expressar a disparidade relativa entre valores. Ele é definido por:\n",
    "\n",
    "$$ER_{\\%} = ER \\times 100\\% = \\left(1 - \n",
    "\\dfrac{ |\\hat{x}| }{|x|} \\right) \\times 100\\%.$$\n",
    "\n",
    "Como não temos uma forma explícita de percentual, por cálculo, o melhor a fazer é algo como:"
   ]
  },
  {
   "cell_type": "code",
   "execution_count": 23,
   "metadata": {},
   "outputs": [
    {
     "name": "stdout",
     "output_type": "stream",
     "text": [
      "7.772763e-06 %\n",
      "7.772763e-06 %\n"
     ]
    }
   ],
   "source": [
    "ER_Pp = ER_P * 100\n",
    "print(f'{ER_Pp:e} %')\n",
    "\n",
    "ER_PHp = ER_PH * 100\n",
    "print(f'{ER_PHp:e} %')"
   ]
  },
  {
   "cell_type": "markdown",
   "metadata": {},
   "source": [
    "### Erro relativo aproximado (_benchmark_)\n",
    "\n",
    "Como vimos no exemplo motivacional deste capítulo, há casos (a maioria deles) em que não dispomos de valores exatos (obtidos por soluções analíticas, por exemplo), sendo possível estimar erros relativos apenas aproximadamente usando um _valor de referência_. Costuma-se chamar este valor de _benchmark_. Definido o _benchmark_ por $x'$, o _erro relativo aproximado_ é dado:\n",
    " \n",
    "$$ER' = \\dfrac{ | \\hat{x} - x' | }{|x'|} = \\dfrac{ EA }{|x'|} = 1 - \n",
    "\\dfrac{ |\\hat{x}| }{|x'|}.$$\n",
    "\n",
    "\n",
    "No exemplo da avaliação dos polinômios, se não dispuséssemos do valor exato, ou $P(x=79.9)$ ou $P_H(x=79.9)$ deveria ser adotado como _benchmark_. Se optássemos pelo segundo, apenas um erro relativo aproximado poderia ser calculado, a saber:"
   ]
  },
  {
   "cell_type": "code",
   "execution_count": 35,
   "metadata": {},
   "outputs": [
    {
     "name": "stdout",
     "output_type": "stream",
     "text": [
      "1.771751e-16\n"
     ]
    }
   ],
   "source": [
    "ER_ =  abs(PHx - Px)/abs(PHx)\n",
    "print(f'{ER_:e}')"
   ]
  },
  {
   "cell_type": "markdown",
   "metadata": {},
   "source": [
    "### Erro relativo aproximado percentual\n",
    "\n",
    "O erro relativo aproximado percentual é, meramente, a versão percentual do erro relativo aproximado, logo, dado por\n",
    "\n",
    "$$ER'_{\\%} = ER' \\times 100 \\%.$$"
   ]
  },
  {
   "cell_type": "markdown",
   "metadata": {},
   "source": [
    "### Erro de cancelamento\n",
    "\n",
    "O erro de cancelamento ocorre quando números de grandezas próximas são subtraídos. Como exemplo de situação crítica, induzimos uma divisão por zero usando o valor do épsilon de máquina $\\epsilon_M$ ao fazer \n",
    "\n",
    "$$\\dfrac{1}{(1 + 0.25\\epsilon_M) - 1}.$$\n",
    "\n",
    "Isto ocorre porque o denominador sofre um _cancelamento subtrativo_ Uma vez que $0.25\\epsilon_M < \\epsilon_M$, a operação $0.25\\epsilon_M$ não produz efeito sobre 1, de modo que a computação encontra um \"limbo\". Para a matemática exata, a operação deveria ser \"diferente de zero\"."
   ]
  },
  {
   "cell_type": "code",
   "execution_count": 24,
   "metadata": {},
   "outputs": [
    {
     "data": {
      "text/plain": [
       "inf"
      ]
     },
     "execution_count": 24,
     "metadata": {},
     "output_type": "execute_result"
    }
   ],
   "source": [
    "# inf\n",
    "from numpy import finfo\n",
    "from warnings import filterwarnings; \n",
    "filterwarnings(\"ignore\")\n",
    "\n",
    "e = finfo(float).eps\n",
    "1/(1 + 0.25*e - 1)"
   ]
  },
  {
   "cell_type": "markdown",
   "metadata": {},
   "source": [
    "### Erros de truncamento e de arredondamento\n",
    "\n",
    "O erro de truncamento está relacionado ao \"corte\" abrupto de dígitos de precisão em um valor numérico ou de parcelas em uma expansão infinita. No início do capítulo, exemplificamos como uma série pode ser aproximada truncando um ou mais termos de sua expansão. \n",
    "\n",
    "No caso de números, o truncamento ocorre quando se ignora o valor da $k+1$-ésima casa decimal para finalidades de aproximação até a $k$-ésima casa. Por exemplo, se $x = 13.4256$, a aproximação de $x$ por truncamento até a terceira casa seria $x = 13.425$. O dígito 6 é ignorado nos cálculos. \n",
    "\n",
    "No caso do arredondamento, o $k$-ésimo dígito é somado de 1 se o dígito da $k+1$-ésima casa for maior ou igual a 5. A aproximação de $x$ por arredondamento até a terceira casa seria $x = 13.426$, visto que o dígito 6 é maior do que 5. A regra de arredondamento é a que usamos no cotidiano."
   ]
  },
  {
   "cell_type": "markdown",
   "metadata": {},
   "source": [
    "## Exemplo aplicado: erros pontuais na função de Airy\n",
    "\n",
    "A função de Airy é solução da equação de Schrödinger da mecânica quântica. Ela muda o seu comportamento de oscilatório para exponencial. A fim de demonstrar como o erro é uma função, dependente do ponto onde é avaliado, criaremos uma simulação.\n",
    "\n",
    "Criaremos uma função \"perturbada\" que desempenhará o papel de função de Airy aproximada, enquanto menteremos a função de Airy verdadeira como exata. Em seguida, criaremos outra função de utilidade para calcular diretamente o erro relativo pontual.\n"
   ]
  },
  {
   "cell_type": "code",
   "execution_count": 37,
   "metadata": {},
   "outputs": [],
   "source": [
    "from scipy import special\n",
    "import numpy as np\n",
    "\n",
    "# Eixo das abscissas\n",
    "x = np.linspace(-10, -2, 100)\n",
    "\n",
    "# Funções de Airy e suas derivadas (solução exata)\n",
    "A, aip, bi, bip = special.airy(x)\n",
    "\n",
    "# Função de Airy perturbada\n",
    "A_ = 1.152*A + 0.056*np.cos(x) "
   ]
  },
  {
   "cell_type": "markdown",
   "metadata": {},
   "source": [
    "Podemos usar o conceito de _função anônima_ (`lambda`) para calcular diretamente o erro relativo percentual para cada ponto $x$. Assim, seja:\n",
    "\n",
    "$$ER_{\\text{Airy}}(x) = \\frac{\\mid \\ \\hat{A}(x) - A(x) \\ \\mid}{\\mid \\ A(x) \\ \\mid},$$\n",
    "\n",
    "onde $\\hat{A}(x)$ é a função de Airy aproximada e $A(x)$ é a função de Airy exata. Então:"
   ]
  },
  {
   "cell_type": "code",
   "execution_count": 38,
   "metadata": {},
   "outputs": [],
   "source": [
    "# Define função anônima para erro relativo\n",
    "ai = lambda f,f_: (abs(f_ - f)/abs(f))*100\n",
    "\n",
    "# calcula erro relativo para função de Airy e sua aproximação\n",
    "E_airy = ai(A,A_)"
   ]
  },
  {
   "cell_type": "markdown",
   "metadata": {},
   "source": [
    "A seguir, mostramos a plotagem das funções exatas e aproximadas, bem como do erro relativo pontual."
   ]
  },
  {
   "cell_type": "code",
   "execution_count": 39,
   "metadata": {},
   "outputs": [
    {
     "data": {
      "image/png": "[encoded data removed]",
      "text/plain": [
       "<Figure size 640x480 with 1 Axes>"
      ]
     },
     "metadata": {
      "filenames": {
       "image/png": "/Users/gustavo/Dropbox/courses/calculo-numerico/LVMN/_build/jupyter_execute/aula-02-erros_43_0.png"
      }
     },
     "output_type": "display_data"
    }
   ],
   "source": [
    "# Plotagem das funções \n",
    "from matplotlib.pyplot import plot, grid, legend\n",
    "\n",
    "plot(x, A, 'k', label='Airy exata')\n",
    "plot(x, A_, 'r', label='Airy aprox.')\n",
    "grid()\n",
    "legend(loc='upper right');"
   ]
  },
  {
   "cell_type": "code",
   "execution_count": 40,
   "metadata": {},
   "outputs": [
    {
     "data": {
      "image/png": "[encoded data removed]",
      "text/plain": [
       "<Figure size 640x480 with 1 Axes>"
      ]
     },
     "metadata": {
      "filenames": {
       "image/png": "/Users/gustavo/Dropbox/courses/calculo-numerico/LVMN/_build/jupyter_execute/aula-02-erros_44_0.png"
      }
     },
     "output_type": "display_data"
    }
   ],
   "source": [
    "# Plotagem do erro \n",
    "plot(x, E_airy)\n",
    "grid()"
   ]
  },
  {
   "cell_type": "markdown",
   "metadata": {},
   "source": [
    "## Definições de erro em aprendizagem de máquina\n",
    "\n",
    "No século XXI, muito se tem falado em aprendizagem de máquina, inteligência artificial e dados. Diversas definições de erro também existem neste contexto, quando o interesse é medir erros em conjuntos de dados. Por exemplo, no campo das redes neurais convolucionais, o cálculo da função de _perda_ (_loss function_) entre pixels de uma imagem legendada como _ground truth_ (gabarito) e de outra imagem processada, é geralmente realizado por meio de expressões que caracterizam erros. A seguir, exploraremos algumas dessas métricas. Em todos os cálculos, $y_i$ é o valor do gabarito (exato), $\\hat{y_i}$ é o valor aproximado e $n$ é o número de pontos de amostragem."
   ]
  },
  {
   "cell_type": "markdown",
   "metadata": {},
   "source": [
    "### Erro quadrático médio\n",
    "\n",
    "O erro quadrático médio (_mean squared error_, MSE) é definido como:\n",
    "\n",
    "$$MSE = \\dfrac{1}{n}\\sum_{i=1}^n (y_i - \\hat{y}_i)^2$$"
   ]
  },
  {
   "cell_type": "markdown",
   "metadata": {},
   "source": [
    "### Erro absoluto médio\n",
    "\n",
    "O erro absoluto médio (_mean absolute error_, MAE) é definido como:\n",
    "\n",
    "$$MAE = \\dfrac{1}{n}\\sum_{i=1}^n |y_i - \\hat{y}_i|$$"
   ]
  },
  {
   "cell_type": "markdown",
   "metadata": {},
   "source": [
    "### Erro absoluto médio percentual\n",
    "\n",
    "O erro absoluto médio percentual (_mean absolute percentage error_, MAPE) é definido como:\n",
    "\n",
    "$$MAPE = \\dfrac{1}{n}\\sum_{i=1}^n \\dfrac { |y_i - \\hat{y}_i| }{ | y_i | } \\times 100$$"
   ]
  },
  {
   "cell_type": "markdown",
   "metadata": {},
   "source": [
    "### Erro logarítmico quadrático médio \n",
    "\n",
    "O erro logarítmico quadrático médio (_mean squared logarithmic error_, MSLE) é definido como:\n",
    "\n",
    "$$MSLE = \\dfrac{1}{n}\\sum_{i=1}^n [ \\log(1+ y_i) - \\log(1 + \\hat{y}_i) ]^2$$"
   ]
  },
  {
   "cell_type": "markdown",
   "metadata": {},
   "source": [
    "```{admonition} Curiosidade\n",
    ":class: dropdown\n",
    "\n",
    "Nos últimos anos, métodos de aprendizagem profunda vem sendo aplicados à identificação automatizada de corpos salinos em imagens sísmicas tanto para finalidades de exploração de combustíveis fósseis, como também para armazenamento geológico de carbono. Em aplicações dessa natureza, o gabarito, em geral, é uma imagem interpretada por um geólogo profissional. Algoritmos de classificação, por sua vez, tentam delinear a mesma estrutura geológica obtida pelo humano baseando-se em métricas formuladas a partir de definições de erro como as que estudamos nesta seção. Para saber mais, veja o artigo [Identification of Salt Deposits on Seismic Images Using Deep Learning Method for Semantic Segmentation](https://www.mdpi.com/2220-9964/9/1/24).\n",
    "```"
   ]
  }
 ],
 "metadata": {
  "kernelspec": {
   "display_name": "Python 3 (ipykernel)",
   "language": "python",
   "name": "python3"
  },
  "language_info": {
   "codemirror_mode": {
    "name": "ipython",
    "version": 3
   },
   "file_extension": ".py",
   "mimetype": "text/x-python",
   "name": "python",
   "nbconvert_exporter": "python",
   "pygments_lexer": "ipython3",
   "version": "3.10.10"
  },
  "vscode": {
   "interpreter": {
    "hash": "b0fa6594d8f4cbf19f97940f81e996739fb7646882a419484c72d19e05852a7e"
   }
  }
 },
 "nbformat": 4,
 "nbformat_minor": 4
}