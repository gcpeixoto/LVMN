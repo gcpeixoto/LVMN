{
 "cells": [
  {
   "cell_type": "markdown",
   "metadata": {},
   "source": [
    "## `fsolve`\n",
    "\n",
    "A função `fsolve` do submódulo `scipy.optimize` pode ser usada como método geral para busca de raízes de equações não-lineares escalares ou vetoriais. \n",
    "\n",
    "Para usar `fsolve` em uma equação escalar, precisamos de, no mínimo:\n",
    "\n",
    "- uma função que possui pelo menos um argumento\n",
    "- estimativa inicial para a raiz\n",
    "\n",
    "Para equações vetoriais (sistemas), precisamos de mais argumentos. Vejamos o exemplo do paraquedista:"
   ]
  },
  {
   "cell_type": "code",
   "execution_count": 1,
   "metadata": {},
   "outputs": [
    {
     "name": "stdout",
     "output_type": "stream",
     "text": [
      "Minha raiz é 15.127432\n",
      "Minha raiz é 15.127432\n"
     ]
    }
   ],
   "source": [
    "import numpy as np\n",
    "import matplotlib.pyplot as plt \n",
    "from scipy.optimize import fsolve \n",
    "\n",
    "t = 12.0\n",
    "v = 42.0\n",
    "m = 70.0\n",
    "g = 9.81\n",
    "\n",
    "def param(t,v,m,g):    \n",
    "    return [t,v,m,g]\n",
    "\n",
    "def fun(c):\n",
    "    p = param(t,v,m,g)\n",
    "    return p[3]*p[2]/c*(1 - np.exp(-c/p[2]*p[0])) - p[1]\n",
    "\n",
    "# estimativa inicial \n",
    "c0 = -1000.0\n",
    "\n",
    "# raiz \n",
    "c_raiz = fsolve(fun,c0)\n",
    "\n",
    "# impressao (estilo Python 2)\n",
    "print('Minha raiz é %.6f' % c_raiz)\n",
    "\n",
    "# impressao (estilo Python 3)\n",
    "print(\"Minha raiz é {0:.6f}\".format(c_raiz[0]))"
   ]
  },
  {
   "cell_type": "markdown",
   "metadata": {},
   "source": [
    "### Como incorporar tudo em uma só função "
   ]
  },
  {
   "cell_type": "code",
   "execution_count": 2,
   "metadata": {},
   "outputs": [],
   "source": [
    "def minha_fun(t,v,m,g,c0):\n",
    "    \n",
    "    p = [t,v,m,g] \n",
    "    f = lambda c: p[3]*p[2]/c*(1 - np.exp(-c/p[2]*p[0])) - p[1]\n",
    "    c_raiz = fsolve(f,c0)    \n",
    "    print(\"---> Minha raiz é {0:.6f}\".format(c_raiz[0]))\n",
    "    return f,c_raiz[0]"
   ]
  },
  {
   "cell_type": "code",
   "execution_count": 3,
   "metadata": {},
   "outputs": [
    {
     "name": "stdout",
     "output_type": "stream",
     "text": [
      "---> Minha raiz é 15.127432\n"
     ]
    }
   ],
   "source": [
    "fc,c_raiz = minha_fun(t,v,m,g,c0)"
   ]
  },
  {
   "cell_type": "code",
   "execution_count": 4,
   "metadata": {},
   "outputs": [
    {
     "data": {
      "image/png": "[encoded data removed]",
      "text/plain": [
       "<Figure size 432x288 with 1 Axes>"
      ]
     },
     "metadata": {
      "needs_background": "light"
     },
     "output_type": "display_data"
    }
   ],
   "source": [
    "a,b = 14,16\n",
    "c = np.linspace(a,b,100)\n",
    "\n",
    "delta = 0.1\n",
    "plt.plot(c,fc(c),c,0*c,'r--',c_raiz,fc(c_raiz),'o');\n",
    "plt.axvline(c_raiz - delta,c='k',ls='--');\n",
    "plt.axvline(c_raiz + delta,c='k',ls='--');"
   ]
  }
 ],
 "metadata": {
  "kernelspec": {
   "display_name": "Python 3",
   "language": "python",
   "name": "python3"
  },
  "language_info": {
   "codemirror_mode": {
    "name": "ipython",
    "version": 3
   },
   "file_extension": ".py",
   "mimetype": "text/x-python",
   "name": "python",
   "nbconvert_exporter": "python",
   "pygments_lexer": "ipython3",
   "version": "3.7.3"
  }
 },
 "nbformat": 4,
 "nbformat_minor": 2
}
