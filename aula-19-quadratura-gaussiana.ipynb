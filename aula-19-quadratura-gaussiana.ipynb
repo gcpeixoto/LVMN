{
 "cells": [
  {
   "cell_type": "code",
   "execution_count": 1,
   "metadata": {},
   "outputs": [],
   "source": [
    "%matplotlib inline \n",
    "import matplotlib.pyplot as plt"
   ]
  },
  {
   "cell_type": "markdown",
   "metadata": {},
   "source": [
    "## Quadratura Gaussiana\n",
    "\n",
    "Vamos implementar abaixo o código para gerar a tabela de pontos (nós) e pesos para integração numérica consoante as fórmulas de quadratura de **Gauss-Legendre**. "
   ]
  },
  {
   "cell_type": "code",
   "execution_count": 2,
   "metadata": {},
   "outputs": [],
   "source": [
    "import numpy.polynomial.legendre as leg\n",
    "import numpy as np\n",
    "\n",
    "# número de pontos de quadratura\n",
    "n = 4\n",
    "\n",
    "# pontos e pesos\n",
    "(pontos,pesos) = leg.leggauss(n)        "
   ]
  },
  {
   "cell_type": "markdown",
   "metadata": {},
   "source": [
    "Isto é, para a regra de 2 pontos, os nós de Gauss-Legendre são"
   ]
  },
  {
   "cell_type": "code",
   "execution_count": 3,
   "metadata": {},
   "outputs": [
    {
     "name": "stdout",
     "output_type": "stream",
     "text": [
      "[-0.86113631 -0.33998104  0.33998104  0.86113631]\n"
     ]
    }
   ],
   "source": [
    "print(pontos)"
   ]
  },
  {
   "cell_type": "markdown",
   "metadata": {},
   "source": [
    "e os pesos correspondentes são:"
   ]
  },
  {
   "cell_type": "code",
   "execution_count": 4,
   "metadata": {},
   "outputs": [
    {
     "name": "stdout",
     "output_type": "stream",
     "text": [
      "[0.34785485 0.65214515 0.65214515 0.34785485]\n"
     ]
    }
   ],
   "source": [
    "print(pesos)"
   ]
  },
  {
   "cell_type": "code",
   "execution_count": 5,
   "metadata": {},
   "outputs": [
    {
     "data": {
      "image/png": "[encoded data removed]",
      "text/plain": [
       "<Figure size 432x288 with 1 Axes>"
      ]
     },
     "metadata": {
      "needs_background": "light"
     },
     "output_type": "display_data"
    }
   ],
   "source": [
    "plt.plot(pontos,pesos)\n",
    "plt.autoscale;"
   ]
  },
  {
   "cell_type": "markdown",
   "metadata": {},
   "source": [
    "### Tabela de pesos/pontos - Quadratura de Gauss-Legendre"
   ]
  },
  {
   "cell_type": "markdown",
   "metadata": {},
   "source": [
    "Para gerarmos uma tabela de pontos e pesos, basta fazer:"
   ]
  },
  {
   "cell_type": "code",
   "execution_count": 6,
   "metadata": {},
   "outputs": [
    {
     "name": "stdout",
     "output_type": "stream",
     "text": [
      "REGRA DE 1 PONTO(S):\n",
      "-> Pontos:\n",
      "[0.]\n",
      "-> Pesos:\n",
      "[2.]\n",
      "\n",
      "\n",
      "REGRA DE 2 PONTO(S):\n",
      "-> Pontos:\n",
      "[-0.57735027  0.57735027]\n",
      "-> Pesos:\n",
      "[1. 1.]\n",
      "\n",
      "\n",
      "REGRA DE 3 PONTO(S):\n",
      "-> Pontos:\n",
      "[-0.77459667  0.          0.77459667]\n",
      "-> Pesos:\n",
      "[0.55555556 0.88888889 0.55555556]\n",
      "\n",
      "\n",
      "REGRA DE 4 PONTO(S):\n",
      "-> Pontos:\n",
      "[-0.86113631 -0.33998104  0.33998104  0.86113631]\n",
      "-> Pesos:\n",
      "[0.34785485 0.65214515 0.65214515 0.34785485]\n",
      "\n",
      "\n",
      "REGRA DE 5 PONTO(S):\n",
      "-> Pontos:\n",
      "[-0.90617985 -0.53846931  0.          0.53846931  0.90617985]\n",
      "-> Pesos:\n",
      "[0.23692689 0.47862867 0.56888889 0.47862867 0.23692689]\n",
      "\n",
      "\n",
      "REGRA DE 6 PONTO(S):\n",
      "-> Pontos:\n",
      "[-0.93246951 -0.66120939 -0.23861919  0.23861919  0.66120939  0.93246951]\n",
      "-> Pesos:\n",
      "[0.17132449 0.36076157 0.46791393 0.46791393 0.36076157 0.17132449]\n",
      "\n",
      "\n",
      "REGRA DE 7 PONTO(S):\n",
      "-> Pontos:\n",
      "[-0.94910791 -0.74153119 -0.40584515  0.          0.40584515  0.74153119\n",
      "  0.94910791]\n",
      "-> Pesos:\n",
      "[0.12948497 0.27970539 0.38183005 0.41795918 0.38183005 0.27970539\n",
      " 0.12948497]\n",
      "\n",
      "\n",
      "REGRA DE 8 PONTO(S):\n",
      "-> Pontos:\n",
      "[-0.96028986 -0.79666648 -0.52553241 -0.18343464  0.18343464  0.52553241\n",
      "  0.79666648  0.96028986]\n",
      "-> Pesos:\n",
      "[0.10122854 0.22238103 0.31370665 0.36268378 0.36268378 0.31370665\n",
      " 0.22238103 0.10122854]\n",
      "\n",
      "\n",
      "REGRA DE 9 PONTO(S):\n",
      "-> Pontos:\n",
      "[-0.96816024 -0.83603111 -0.61337143 -0.32425342  0.          0.32425342\n",
      "  0.61337143  0.83603111  0.96816024]\n",
      "-> Pesos:\n",
      "[0.08127439 0.18064816 0.2606107  0.31234708 0.33023936 0.31234708\n",
      " 0.2606107  0.18064816 0.08127439]\n",
      "\n",
      "\n",
      "REGRA DE 10 PONTO(S):\n",
      "-> Pontos:\n",
      "[-0.97390653 -0.86506337 -0.67940957 -0.43339539 -0.14887434  0.14887434\n",
      "  0.43339539  0.67940957  0.86506337  0.97390653]\n",
      "-> Pesos:\n",
      "[0.06667134 0.14945135 0.21908636 0.26926672 0.29552422 0.29552422\n",
      " 0.26926672 0.21908636 0.14945135 0.06667134]\n",
      "\n",
      "\n",
      "REGRA DE 11 PONTO(S):\n",
      "-> Pontos:\n",
      "[-0.97822866 -0.8870626  -0.73015201 -0.51909613 -0.26954316  0.\n",
      "  0.26954316  0.51909613  0.73015201  0.8870626   0.97822866]\n",
      "-> Pesos:\n",
      "[0.05566857 0.12558037 0.18629021 0.23319376 0.26280454 0.27292509\n",
      " 0.26280454 0.23319376 0.18629021 0.12558037 0.05566857]\n",
      "\n",
      "\n",
      "REGRA DE 12 PONTO(S):\n",
      "-> Pontos:\n",
      "[-0.98156063 -0.90411726 -0.76990267 -0.58731795 -0.3678315  -0.12523341\n",
      "  0.12523341  0.3678315   0.58731795  0.76990267  0.90411726  0.98156063]\n",
      "-> Pesos:\n",
      "[0.04717534 0.10693933 0.16007833 0.20316743 0.23349254 0.24914705\n",
      " 0.24914705 0.23349254 0.20316743 0.16007833 0.10693933 0.04717534]\n",
      "\n",
      "\n",
      "REGRA DE 13 PONTO(S):\n",
      "-> Pontos:\n",
      "[-0.98418305 -0.9175984  -0.80157809 -0.64234934 -0.44849275 -0.23045832\n",
      "  0.          0.23045832  0.44849275  0.64234934  0.80157809  0.9175984\n",
      "  0.98418305]\n",
      "-> Pesos:\n",
      "[0.040484   0.0921215  0.13887351 0.17814598 0.20781605 0.22628318\n",
      " 0.23255155 0.22628318 0.20781605 0.17814598 0.13887351 0.0921215\n",
      " 0.040484  ]\n",
      "\n",
      "\n",
      "REGRA DE 14 PONTO(S):\n",
      "-> Pontos:\n",
      "[-0.98628381 -0.92843488 -0.82720132 -0.6872929  -0.51524864 -0.31911237\n",
      " -0.10805495  0.10805495  0.31911237  0.51524864  0.6872929   0.82720132\n",
      "  0.92843488  0.98628381]\n",
      "-> Pesos:\n",
      "[0.03511946 0.08015809 0.12151857 0.15720317 0.1855384  0.20519846\n",
      " 0.21526385 0.21526385 0.20519846 0.1855384  0.15720317 0.12151857\n",
      " 0.08015809 0.03511946]\n",
      "\n",
      "\n",
      "REGRA DE 15 PONTO(S):\n",
      "-> Pontos:\n",
      "[-0.98799252 -0.93727339 -0.84820658 -0.72441773 -0.57097217 -0.39415135\n",
      " -0.20119409  0.          0.20119409  0.39415135  0.57097217  0.72441773\n",
      "  0.84820658  0.93727339  0.98799252]\n",
      "-> Pesos:\n",
      "[0.03075324 0.07036605 0.10715922 0.13957068 0.16626921 0.186161\n",
      " 0.19843149 0.20257824 0.19843149 0.186161   0.16626921 0.13957068\n",
      " 0.10715922 0.07036605 0.03075324]\n",
      "\n",
      "\n",
      "REGRA DE 16 PONTO(S):\n",
      "-> Pontos:\n",
      "[-0.98940093 -0.94457502 -0.8656312  -0.75540441 -0.61787624 -0.45801678\n",
      " -0.28160355 -0.09501251  0.09501251  0.28160355  0.45801678  0.61787624\n",
      "  0.75540441  0.8656312   0.94457502  0.98940093]\n",
      "-> Pesos:\n",
      "[0.02715246 0.06225352 0.09515851 0.12462897 0.14959599 0.16915652\n",
      " 0.18260342 0.18945061 0.18945061 0.18260342 0.16915652 0.14959599\n",
      " 0.12462897 0.09515851 0.06225352 0.02715246]\n",
      "\n",
      "\n"
     ]
    }
   ],
   "source": [
    "# número máximo de pontos\n",
    "N = 16\n",
    "\n",
    "for i in range(1,N+1):\n",
    "    (pontos,pesos) = leg.leggauss(i)       \n",
    "    print('REGRA DE {0} PONTO(S):\\n-> Pontos:'.format(i))\n",
    "    print(pontos)\n",
    "    print('-> Pesos:')\n",
    "    print(pesos)\n",
    "    print('\\n')\n"
   ]
  },
  {
   "cell_type": "markdown",
   "metadata": {},
   "source": [
    "A partir daí, podemos organizar uma tabela para a regra de até 8 pontos/pesos como segue:"
   ]
  },
  {
   "cell_type": "code",
   "execution_count": 7,
   "metadata": {},
   "outputs": [
    {
     "name": "stdout",
     "output_type": "stream",
     "text": [
      "| Regra | nó(s) | peso(s) |\n",
      "|---|---|---|\n",
      "|1|0.0|2.0|\n",
      "|2|-0.5773502691896257, 0.5773502691896257|1.0, 1.0|\n",
      "|3|-0.7745966692414834, 0.0, 0.7745966692414834|0.5555555555555557, 0.8888888888888888, 0.5555555555555557|\n",
      "|4|-0.8611363115940526, -0.33998104358485626, 0.33998104358485626, 0.8611363115940526|0.3478548451374537, 0.6521451548625462, 0.6521451548625462, 0.3478548451374537|\n",
      "|5|-0.906179845938664, -0.5384693101056831, 0.0, 0.5384693101056831, 0.906179845938664|0.23692688505618942, 0.4786286704993662, 0.568888888888889, 0.4786286704993662, 0.23692688505618942|\n",
      "|6|-0.932469514203152, -0.6612093864662645, -0.23861918608319693, 0.23861918608319693, 0.6612093864662645, 0.932469514203152|0.17132449237916975, 0.36076157304813894, 0.46791393457269137, 0.46791393457269137, 0.36076157304813894, 0.17132449237916975|\n",
      "|7|-0.9491079123427585, -0.7415311855993945, -0.4058451513773972, 0.0, 0.4058451513773972, 0.7415311855993945, 0.9491079123427585|0.12948496616887065, 0.2797053914892766, 0.3818300505051183, 0.41795918367346896, 0.3818300505051183, 0.2797053914892766, 0.12948496616887065|\n",
      "|8|-0.9602898564975362, -0.7966664774136267, -0.525532409916329, -0.18343464249564978, 0.18343464249564978, 0.525532409916329, 0.7966664774136267, 0.9602898564975362|0.10122853629037669, 0.22238103445337434, 0.31370664587788705, 0.36268378337836177, 0.36268378337836177, 0.31370664587788705, 0.22238103445337434, 0.10122853629037669|\n"
     ]
    }
   ],
   "source": [
    "# número máximo de pontos\n",
    "N = 8\n",
    "\n",
    "header='| Regra | nó(s) | peso(s) |\\n|---|---|---|'\n",
    "print(header)\n",
    "for i in range(1,N+1):\n",
    "    (pontos,pesos) = leg.leggauss(i)       \n",
    "    p = ', '.join([str(p) for p in pontos])\n",
    "    w = ', '.join([str(p) for p in pesos])    \n",
    "    row = '|' + str(i) + '|' + p + '|' + w + '|'\n",
    "    print(row)                   "
   ]
  },
  {
   "cell_type": "markdown",
   "metadata": {},
   "source": [
    "#### Tabela de quadratura de Gauss-Legendre \n",
    "| Regra | nó(s) | peso(s) |\n",
    "|---|---|---|\n",
    "|1|0.0|2.0|\n",
    "|2|-0.57735026919, 0.57735026919|1.0, 1.0|\n",
    "|3|-0.774596669241, 0.0, 0.774596669241|0.555555555556, 0.888888888889, 0.555555555556|\n",
    "|4|-0.861136311594, -0.339981043585, 0.339981043585, 0.861136311594|0.347854845137, 0.652145154863, 0.652145154863, 0.347854845137|\n",
    "|5|-0.906179845939, -0.538469310106, 0.0, 0.538469310106, 0.906179845939|0.236926885056, 0.478628670499, 0.568888888889, 0.478628670499, 0.236926885056|\n",
    "|6|-0.932469514203, -0.661209386466, -0.238619186083, 0.238619186083, 0.661209386466, 0.932469514203|0.171324492379, 0.360761573048, 0.467913934573, 0.467913934573, 0.360761573048, 0.171324492379|\n",
    "|7|-0.949107912343, -0.741531185599, -0.405845151377, 0.0, 0.405845151377, 0.741531185599, 0.949107912343|0.129484966169, 0.279705391489, 0.381830050505, 0.417959183673, 0.381830050505, 0.279705391489, 0.129484966169|\n",
    "|8|-0.960289856498, -0.796666477414, -0.525532409916, -0.183434642496, 0.183434642496, 0.525532409916, 0.796666477414, 0.960289856498|0.10122853629, 0.222381034453, 0.313706645878, 0.362683783378, 0.362683783378, 0.313706645878, 0.222381034453, 0.10122853629|"
   ]
  },
  {
   "cell_type": "markdown",
   "metadata": {},
   "source": [
    "## Transformação de variáveis\n",
    "\n",
    "Uma integral $\\int_a^b f(x) \\, dx$ sobre $[a,b]$ arbitrário ser transformada em uma integral em $[-1,1]$ utilizando a mudança de variáveis:\n",
    "\n",
    "$$t = \\dfrac{2x - a - b}{b - a} \\Rightarrow x = \\dfrac{1}{2}[(b-a)t + a + b]$$"
   ]
  },
  {
   "cell_type": "code",
   "execution_count": 8,
   "metadata": {},
   "outputs": [
    {
     "data": {
      "image/png": "[encoded data removed]",
      "text/plain": [
       "<Figure size 432x288 with 1 Axes>"
      ]
     },
     "metadata": {
      "needs_background": "light"
     },
     "output_type": "display_data"
    }
   ],
   "source": [
    "x = np.linspace(2,4)\n",
    "y = x - 3\n",
    "plt.plot(x,y);\n",
    "plt.plot(x,x*0);\n",
    "plt.xticks([2,4],['a','b']);\n",
    "plt.yticks([-1,1],['-1','1']);\n",
    "plt.annotate('$t = \\dfrac{2x - a - b}{b - a}$',(2.8,0.5));\n"
   ]
  },
  {
   "cell_type": "markdown",
   "metadata": {},
   "source": [
    "### Tarefa \n",
    "\n",
    "Defina uma função como a seguinte que retorne `output`, tal que `type(output)` seja `str`. \n",
    "```python\n",
    "def print_gauss_legendre_table(N):\n",
    "    header='| Regra | nó(s) | peso(s) |\\n|---|---|---|'\n",
    "    print(header)\n",
    "    for i in range(1,N+1):\n",
    "        (pontos,pesos) = leg.leggauss(i)       \n",
    "        p = ', '.join([str(p) for p in pontos])\n",
    "        w = ', '.join([str(p) for p in pesos])    \n",
    "        row = '|' + str(i) + '|' + p + '|' + w + '|'\n",
    "        print(row)             \n",
    "```\n",
    "\n",
    "Então, reimprima a tabela para 8 pesos/pontos anterior com o código. \n",
    "\n",
    "```\n",
    "output = print_gauss_legendre_table(8)\n",
    "```\n",
    "\n",
    "Em seguida, use o código abaixo para converter a saída da célula de código do Jupyter diretamente para Markdown. \n",
    "```python\n",
    "from IPython.display import display, Markdown\n",
    "display(Markdown(output))\n",
    "```\n",
    "\n",
    "Por último, incorpore esta funcionalidade em `print_gauss_legendre_table(N)`, para `N` dado."
   ]
  },
  {
   "cell_type": "markdown",
   "metadata": {},
   "source": [
    "| Regra | nó(s) | peso(s) |\n",
    "|---|---|---|\n",
    "|1|0.0|2.0|\n",
    "|2|-0.57735026919, 0.57735026919|1.0, 1.0|\n",
    "|3|-0.774596669241, 0.0, 0.774596669241|0.555555555556, 0.888888888889, 0.555555555556|\n",
    "|4|-0.861136311594, -0.339981043585, 0.339981043585, 0.861136311594|0.347854845137, 0.652145154863, 0.652145154863, 0.347854845137|\n",
    "|5|-0.906179845939, -0.538469310106, 0.0, 0.538469310106, 0.906179845939|0.236926885056, 0.478628670499, 0.568888888889, 0.478628670499, 0.236926885056|\n",
    "|6|-0.932469514203, -0.661209386466, -0.238619186083, 0.238619186083, 0.661209386466, 0.932469514203|0.171324492379, 0.360761573048, 0.467913934573, 0.467913934573, 0.360761573048, 0.171324492379|\n",
    "|7|-0.949107912343, -0.741531185599, -0.405845151377, 0.0, 0.405845151377, 0.741531185599, 0.949107912343|0.129484966169, 0.279705391489, 0.381830050505, 0.417959183673, 0.381830050505, 0.279705391489, 0.129484966169|\n",
    "|8|-0.960289856498, -0.796666477414, -0.525532409916, -0.183434642496, 0.183434642496, 0.525532409916, 0.796666477414, 0.960289856498|0.10122853629, 0.222381034453, 0.313706645878, 0.362683783378, 0.362683783378, 0.313706645878, 0.222381034453, 0.10122853629|\n",
    "|9|-0.968160239508, -0.836031107327, -0.613371432701, -0.324253423404, 0.0, 0.324253423404, 0.613371432701, 0.836031107327, 0.968160239508|0.0812743883616, 0.180648160695, 0.260610696403, 0.31234707704, 0.330239355001, 0.31234707704, 0.260610696403, 0.180648160695, 0.0812743883616|\n",
    "|10|-0.973906528517, -0.865063366689, -0.679409568299, -0.433395394129, -0.148874338982, 0.148874338982, 0.433395394129, 0.679409568299, 0.865063366689, 0.973906528517|0.0666713443087, 0.149451349151, 0.219086362516, 0.26926671931, 0.295524224715, 0.295524224715, 0.26926671931, 0.219086362516, 0.149451349151, 0.0666713443087|\n",
    "|11|-0.978228658146, -0.887062599768, -0.730152005574, -0.519096129207, -0.269543155952, 0.0, 0.269543155952, 0.519096129207, 0.730152005574, 0.887062599768, 0.978228658146|0.0556685671162, 0.125580369465, 0.186290210928, 0.233193764592, 0.26280454451, 0.272925086778, 0.26280454451, 0.233193764592, 0.186290210928, 0.125580369465, 0.0556685671162|\n",
    "|12|-0.981560634247, -0.90411725637, -0.769902674194, -0.587317954287, -0.367831498998, -0.125233408511, 0.125233408511, 0.367831498998, 0.587317954287, 0.769902674194, 0.90411725637, 0.981560634247|0.0471753363865, 0.106939325995, 0.160078328543, 0.203167426723, 0.233492536538, 0.249147045813, 0.249147045813, 0.233492536538, 0.203167426723, 0.160078328543, 0.106939325995, 0.0471753363865|"
   ]
  }
 ],
 "metadata": {
  "kernelspec": {
   "display_name": "Python 3",
   "language": "python",
   "name": "python3"
  },
  "language_info": {
   "codemirror_mode": {
    "name": "ipython",
    "version": 3
   },
   "file_extension": ".py",
   "mimetype": "text/x-python",
   "name": "python",
   "nbconvert_exporter": "python",
   "pygments_lexer": "ipython3",
   "version": "3.7.3"
  }
 },
 "nbformat": 4,
 "nbformat_minor": 4
}
