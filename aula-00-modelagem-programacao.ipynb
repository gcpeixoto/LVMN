{
 "cells": [
  {
   "cell_type": "code",
   "execution_count": 1,
   "metadata": {},
   "outputs": [],
   "source": [
    "%matplotlib inline"
   ]
  },
  {
   "cell_type": "markdown",
   "metadata": {},
   "source": [
    "# Modelagem Matemática em Ciências Computacionais e Engenharias\n",
    "\n",
    "**Prof. Dr. Gustavo Oliveira, gustavo.oliveira@ci.ufpb.br** \n",
    "\n",
    "\n",
    "## O que é um modelo matemático \n",
    "\n",
    "Um modelo matemático pode ser definido, de forma geral, como uma formulação ou equação que expressa as características essenciais de um sistema ou processo físico em termos matemáticos. A fórmula pode variar de uma simples relação algébrica a um conjunto grande e complicado de equações diferenciais. \n",
    "\n",
    "Por exemplo, com base em suas observações, Newton formulou sua segunda lei do movimento. Se escrevermos a taxa de variação temporal da velocidade pela derivada $\\frac{dv}{dt}$ (em $m/s)$, um modelo matemático que obtemos para a segunda lei de Newton é\n",
    "\n",
    "$$\\dfrac{dv}{dt} = \\dfrac{F}{m},$$\n",
    "\n",
    "onde $F$ é a força resultante (em $N$) agindo sobre o corpo e $m$ a massa (em $kg$).\n",
    "\n",
    "Este modelo matemático, assim como vários outros, possui as seguintes características:\n",
    "\n",
    "- descrevem um processo ou sistema natural em termos matemáticos;\n",
    "\n",
    "- representam uma idealização (simplificação) da realidade. Isto é, o modelo ignora alguns \"detalhes\" do processo natural e se concentra em suas manifestações essenciais;\n",
    " \n",
    "- produzem resultados que podem ser reproduzidos e usados para propósitos de previsão. Por exemplo, se a força sobre um corpo e a sua massa forem conhecidas, o modelo pode ser usado para estimar a aceleração $a=\\frac{dv}{dt}$ do corpo.\n",
    "\n",
    "Consideremos um paraquedista em queda livre. Durante seu movimento, duas forças principais atuam sobre ele. A força gravitacional $F_G$, com sentido para baixo, e a força da resistência do ar (arrasto) $F_D$, em sentido oposto. Se o sentido positivo for conferido à força gravitacional, podemos modelar a força resultante como\n",
    "\n",
    "$$F = F_G - F_D = mg - cv$$, \n",
    "\n",
    "onde $g$ é a constante gravitacional e $c$ o _coeficiente de arrasto_, medido em $kg/s$. Vale ressaltar que ao assumirmos $F_D = cv$, estamos dizendo que a força de arrasto é linearmente proporcional à velocidade. Entretanto, na realidade, esta relação é não-linear. \n",
    "\n",
    "Dessa maneira, podemos chegar a um modelo mais completo substituindo a força resultante assim obtendo:\n",
    "\n",
    "$$\\dfrac{dv}{dt} = \\dfrac{mg - cv}{m} = g - \\dfrac{c}{m}v.$$\n",
    "\n",
    "Esta _equação diferencial ordinária_ (EDO) possui uma solução geral que pode ser encontrada por técnicas analíticas. Uma solução particular para esta EDO é obtida ao impormos uma _condição inicial_. Visto que o paraquedista está em repouso antes da queda, temos que $v=0$ quando $t=0$. Usando esta informação, concluímos que o perfil de velocidade é dado por\n",
    "\n",
    "$$v(t) = \\dfrac{gm}{c}(1 - e^{-(c/m)t}).$$\n",
    "\n",
    "Como veremos adiante em um estado de caso real apresentado por Yan Ferreira, esta função cresce exponencialmente até atingir uma estabilização na _velocidade terminal_."
   ]
  },
  {
   "cell_type": "markdown",
   "metadata": {},
   "source": [
    "## O salto de paraquedas de Yan e Celso \n",
    "\n",
    "Como exemplo, veremos a análise do salto de paraquedas de Yan com seu irmão Celso. Vamos calcular a aceleração que seria atingida por Yan desde o salto até o momento da abertura de seu paraquedas. Na época do salto, Yan estava com 65 kg e o ar apresentava um coeficiente de arrasto estimado em 12,5 kg/s.\n",
    "\n",
    "Utilizando a fórmula dada, podemos calcular a velocidade atingida por Yan em relação ao tempo. A seguir, criamos uma função para calcular $v(t)$ nos 10 primeiros segundos do salto, que foi o tempo que Yan permaneceu em queda até a abertura do paraquedas."
   ]
  },
  {
   "cell_type": "code",
   "execution_count": 2,
   "metadata": {},
   "outputs": [
    {
     "name": "stdout",
     "output_type": "stream",
     "text": [
      "0.0000 m/s\n",
      "8.9153 m/s\n",
      "16.2709 m/s\n",
      "22.3397 m/s\n",
      "27.3467 m/s\n",
      "31.4778 m/s\n",
      "34.8861 m/s\n",
      "37.6982 m/s\n",
      "40.0183 m/s\n",
      "41.9325 m/s\n",
      "43.5119 m/s\n",
      "==> Abertura do paraquedas.\n"
     ]
    },
    {
     "data": {
      "image/png": "[encoded data removed]",
      "text/plain": [
       "<matplotlib.figure.Figure at 0x10e2b5518>"
      ]
     },
     "metadata": {},
     "output_type": "display_data"
    }
   ],
   "source": [
    "# velocidade no salto de Yan\n",
    "import numpy as np\n",
    "import matplotlib.pyplot as plt\n",
    "\n",
    "\n",
    "arr_yan = 11*[0]\n",
    "contador = 0\n",
    "while (contador <= 10):\n",
    "    a = ((9.8 * 65)/12.5)*(1 - np.exp(-(12.5/65)*contador))   \n",
    "    arr_yan[contador] = a\n",
    "    print(\"{0:.4f} m/s\".format(a))\n",
    "    contador += 1\n",
    "else:\n",
    "    print('==> Abertura do paraquedas.')\n",
    "    \n",
    "plt.plot(arr_yan,'o-b')\n",
    "plt.xlabel('tempo')\n",
    "plt.ylabel('velocidade')\n",
    "plt.grid()\n",
    "plt.axhline(a,color='r',ls='--')\n",
    "plt.show()"
   ]
  },
  {
   "cell_type": "markdown",
   "metadata": {},
   "source": [
    "Porém, Celso, irmão de Yan, também saltou com ele, em separado. Celso, tem mais 20kg a mais do que Yan. Então, vamos ver como a massa influenciou a velocidade no salto de Celso e comparas as curvas."
   ]
  },
  {
   "cell_type": "code",
   "execution_count": 3,
   "metadata": {},
   "outputs": [
    {
     "name": "stdout",
     "output_type": "stream",
     "text": [
      "0.0000 m/s\n",
      "9.1135 m/s\n",
      "16.9806 m/s\n",
      "23.7719 m/s\n",
      "29.6344 m/s\n",
      "34.6952 m/s\n",
      "39.0638 m/s\n",
      "42.8351 m/s\n",
      "46.0905 m/s\n",
      "48.9008 m/s\n",
      "51.3268 m/s\n",
      "==> Abertura do paraquedas\n"
     ]
    },
    {
     "data": {
      "image/png": "[encoded data removed]",
      "text/plain": [
       "<matplotlib.figure.Figure at 0x10e398a20>"
      ]
     },
     "metadata": {},
     "output_type": "display_data"
    }
   ],
   "source": [
    "# velocidade no salto de Yan\n",
    "\n",
    "\n",
    "from math import exp\n",
    "import matplotlib.pyplot as plt\n",
    "\n",
    "arr_celso = arr_yan[:]\n",
    "contador = 0\n",
    "while (contador <= 10):       \n",
    "    b = ((9.8 * 85)/12.5)*(1- exp(-(12.5/85)*contador))   \n",
    "    arr_celso[contador] = b\n",
    "    print(\"{0:.4f} m/s\".format(b))\n",
    "    contador += 1\n",
    "else:\n",
    "    print('==> Abertura do paraquedas')\n",
    "    \n",
    "plt.plot(arr_yan,'o-b')\n",
    "plt.plot(arr_celso,'o-g')\n",
    "plt.xlabel('tempo')\n",
    "plt.ylabel('velocidade')\n",
    "plt.grid()\n",
    "plt.axhline(a,color='r',ls='--')\n",
    "plt.axhline(b,color='m',ls='--')\n",
    "plt.show()"
   ]
  },
  {
   "cell_type": "markdown",
   "metadata": {},
   "source": [
    "Podemos observar que quanto maior a massa, maior é a velocidade atingida. Por esta razão, Celso chegou ao solo antes de Yan.\n",
    "\n",
    "Este breve exemplo nos mostra a implementação de um modelo matemático em Python, onde utilizamos partes de programação_ estruturada_ e _modular_. Estruturada, no sentido das instruções e modular no sentido de que aproveitamos os pacotes (ou **módulos**) _math_ e _numpy_ para invocarmos a função exponencial `exp` e os as funções para plotagens gráficas."
   ]
  },
  {
   "cell_type": "markdown",
   "metadata": {},
   "source": [
    "### Deslocamento até a abertura do paraquedas\n",
    "\n",
    "Sabemos da Física e do Cálculo que o deslocamento é a integral da velocidade com relação ao tempo. Portanto, se $D_Y$ e $D_C$ foram os deslocamentos de Yan e Celso em seus saltos, podemo usar a integral:\n",
    "\n",
    "$$D = \\int_0^{10} v(t) \\, dt,$$\n",
    "\n",
    "em cada caso para computar esses deslocamentos. No Python, podemos fazer isso com o código abaixo (que você entenderá mais tarde como fazer)."
   ]
  },
  {
   "cell_type": "code",
   "execution_count": 4,
   "metadata": {},
   "outputs": [
    {
     "name": "stdout",
     "output_type": "stream",
     "text": [
      "Yan voou incríveis DY = 283.34 metros em 10 segundos!\n",
      "Celso voou incríveis DC = 317.38 metros em 10 segundos!\n"
     ]
    }
   ],
   "source": [
    "import sympy as sy\n",
    "\n",
    "t,g,m,c = sy.symbols('t g m c')\n",
    "v = g*m/c*(1 - sy.exp(-c/m*t))\n",
    "s1 = sy.integrate(v,(t,0,10)).subs({'m':65.0,'g':9.8,'c':12.5})\n",
    "s2 = sy.integrate(v,(t,0,10)).subs({'m':85.0,'g':9.8,'c':12.5})\n",
    "print(\"Yan voou incríveis DY = {0:.2f} metros em 10 segundos!\".format(s1))\n",
    "print(\"Celso voou incríveis DC = {0:.2f} metros em 10 segundos!\".format(s2))"
   ]
  },
  {
   "cell_type": "markdown",
   "metadata": {},
   "source": [
    "## Programação estruturada e modular\n",
    "\n",
    "\n",
    "#### Prgramação estruturada\n",
    "\n",
    "A idéia central por trás da programação estruturada é que qualquer algoritmo numérico pode ser composto de três estruturas de controle fundamentais: _sequencia_, _seleção_ e _repetição_.\n",
    "\n",
    "Nos primórdios da computação, os programadores usualmente não prestavam muita atenção ao fato de o programa ser claro e fácil de entender. Hoje, é reconhecido que existem muitos benefícios em escrever um código bem organizado e bem estruturado. Além do benefício óbvio de tornar o software mais fácil de ser compartilhado, isso também ajuda a garantir um desenvolvimento de programa mais eficiente.\n",
    "\n",
    "Portanto, algoritmos bem estruturados são, invariavelmente, fáceis de corrigir e testar, resultando em programas que têm um tempo de desenvolvimento e atualização menor. Embora a programação estruturada seja flexível o suficiente para permitir criatividade e expressões pessoais, suas regras impõem restrições suficientes para garantir um código final de mais qualidade, mais limpo e mais elegante, quando comparada à versão não estruturada.\n",
    "\n",
    "#### Programação modular \n",
    "\n",
    "Na programação modular, a idéia é que cada módulo desenvolva uma tarefa específica e tenha um único ponto de entrada e um único ponto de saída, de modo que o desenvolvedor possa reutilizá-lo invariavelmente em várias aplicações. \n",
    "\n",
    "Dividir tarefas ou objetivos em partes mais simples é uma maneira de torná-los mais fáceis de tratar. Pensando dessa maneira, os programadores começaram a dividir grandes problemas em subproblemas menores, ou **módulos**, que podem ser desenvolvidos de forma separada e até mesmo por pessoas diferentes, sem que isso interfira no resultado final.\n",
    "\n",
    "Hoje em dia, todas as linguagens de programação modernas, tais como C++, Java, Javascript e a própria Python utilizam módulos (também conhecidos como _pacotes_ ou _bibliotecas_). Algumas características diferenciais da programação modular são a manutençao facilitada e a reusabilidade do código em programas posteriores.\n",
    "\n",
    "Abaixo, mostramos um exemplo avançado de como criar um módulo em Python para lidar com pontos na Geometria Plana. \n",
    "Nosso módulo poderia ser salvo em um arquivo chamado `ponto.py`, por exemplo e utilizado em programas próprios que viermos a desenvolver. Neste exemplo, a _classe_ `Ponto` possui funções para realizar as seguintes operações: \n",
    "\n",
    "- criar um novo ponto;\n",
    "\n",
    "- calcular a distância Euclidiana entre dois pontos;\n",
    "\n",
    "- calcular a área de um triângulo pela fórmula de Heron e \n",
    "\n",
    "- imprimir o valor da área de um triângulo.\n"
   ]
  },
  {
   "cell_type": "code",
   "execution_count": 3,
   "metadata": {},
   "outputs": [],
   "source": [
    "\"\"\"\n",
    "Módulo: ponto.py\n",
    "Exemplo de programação modular. \n",
    "Classe para trabalhar com pontos do espaço 2D.\n",
    "\"\"\"\n",
    "\n",
    "import numpy as np \n",
    "import matplotlib.pyplot as plt\n",
    "\n",
    "class Ponto:\n",
    "\n",
    "    # inicialização de um ponto arbitrário com coordenadas (xp,yp)\n",
    "    def __init__(self, xp, yp):\n",
    "        self.x = xp\n",
    "        self.y = yp\n",
    "\n",
    "    # fórmula da distância entre dois pontos\n",
    "    def dist(P1,P2):                                        \n",
    "        return ( (P2.x - P1.x)**2 + (P2.y - P1.y)**2 )**0.5\n",
    "    \n",
    "    # área de um triângulo ABC pela fórmula de Heron \n",
    "    def area_heron(P1,P2,P3):\n",
    "                \n",
    "        a = Ponto.dist(P1,P2)  # comprimento |AB|\n",
    "        b = Ponto.dist(P2,P3)  # comprimento |BC|\n",
    "        c = Ponto.dist(P3,P1)  # comprimento |CA|\n",
    "        \n",
    "        p = 0.5*(a + b + c)  # semiperímetro \n",
    "        \n",
    "        A = ( p*(p - a)*(p - b)*(p - c) )**0.5  # área\n",
    "        \n",
    "        return A\n",
    "    \n",
    "    def imprime_area_triangulo(P1,P2,P3):\n",
    "        \n",
    "        txt = 'Area do triângulo P1 = ({0}.{1}); P2 = ({2}.{3}); P3 = ({4}.{5}) :: A = {6}'        \n",
    "        area = Ponto.area_heron(P1,P2,P3)\n",
    "        \n",
    "        print(txt.format(P1.x,P1.y,P2.x,P2.y,P3.x,P3.y,area))\n",
    "    "
   ]
  },
  {
   "cell_type": "markdown",
   "metadata": {},
   "source": [
    "### Exemplo: usando a classe `ponto.py` para calcular a área de um triângulo retângulo"
   ]
  },
  {
   "cell_type": "code",
   "execution_count": 4,
   "metadata": {},
   "outputs": [
    {
     "name": "stdout",
     "output_type": "stream",
     "text": [
      "Area do triângulo P1 = (0.0.0.0); P2 = (1.0.0.0); P3 = (0.0.1.0) :: A = 0.49999999999999983\n"
     ]
    }
   ],
   "source": [
    "# Cálculo da área para o triângulo \n",
    "# P1 = (0,0);  P2 = (1,0);  P3 = (0,1)\n",
    "\n",
    "P1 = Ponto(0.0,0.0)\n",
    "P2 = Ponto(1.0,0.0)\n",
    "P3 = Ponto(0.0,1.0)\n",
    "Ponto.imprime_area_triangulo(P1,P2,P3)"
   ]
  },
  {
   "cell_type": "code",
   "execution_count": 5,
   "metadata": {},
   "outputs": [
    {
     "data": {
      "text/plain": [
       "<matplotlib.patches.Polygon at 0x105aeeba8>"
      ]
     },
     "execution_count": 5,
     "metadata": {},
     "output_type": "execute_result"
    },
    {
     "data": {
      "image/png": "[encoded data removed]",
      "text/plain": [
       "<Figure size 432x288 with 1 Axes>"
      ]
     },
     "metadata": {},
     "output_type": "display_data"
    }
   ],
   "source": [
    "# plotagem do triângulo\n",
    "P = np.array([[P1.x,P1.y],[P2.x,P2.y],[P3.x,P3.y]])\n",
    "plt.figure()\n",
    "pol = plt.Polygon(P,color='red',alpha=0.4)\n",
    "plt.gca().add_patch(pol)"
   ]
  },
  {
   "cell_type": "markdown",
   "metadata": {},
   "source": [
    "### Exemplo: usando a classe `ponto.py` para calcular a área de um triângulo qualquer"
   ]
  },
  {
   "cell_type": "code",
   "execution_count": 10,
   "metadata": {},
   "outputs": [
    {
     "name": "stdout",
     "output_type": "stream",
     "text": [
      "Area do triângulo P1 = (4.0.2.0); P2 = (1.5.1.5); P3 = (2.0.-3.0) :: A = 5.75\n"
     ]
    },
    {
     "data": {
      "text/plain": [
       "[<matplotlib.patches.Polygon at 0x106f36358>]"
      ]
     },
     "execution_count": 10,
     "metadata": {},
     "output_type": "execute_result"
    },
    {
     "data": {
      "image/png": "[encoded data removed]",
      "text/plain": [
       "<Figure size 432x288 with 1 Axes>"
      ]
     },
     "metadata": {},
     "output_type": "display_data"
    }
   ],
   "source": [
    "# Cálculo da área para o triângulo \n",
    "# P1 = (4,2);  P2 = (3,2);  P3 = (2,-3)\n",
    "\n",
    "P4 = Ponto(4.0,2.0)\n",
    "P5 = Ponto(1.5,1.5)\n",
    "P6 = Ponto(2.0,-3.0)\n",
    "Ponto.imprime_area_triangulo(P4,P5,P6)\n",
    "\n",
    "plt.figure()\n",
    "plt.scatter(P4.x,P4.y,color='blue')\n",
    "plt.scatter(P5.x,P5.y,color='blue')\n",
    "plt.scatter(P6.x,P6.y,color='blue')\n",
    "\n",
    "Px = [P4.x,P5.x,P6.x]\n",
    "Py = [P4.y,P5.y,P6.y]\n",
    "plt.fill(Px,Py,color='red',alpha=0.4)"
   ]
  }
 ],
 "metadata": {
  "kernelspec": {
   "display_name": "Python 3",
   "language": "python",
   "name": "python3"
  },
  "language_info": {
   "codemirror_mode": {
    "name": "ipython",
    "version": 3
   },
   "file_extension": ".py",
   "mimetype": "text/x-python",
   "name": "python",
   "nbconvert_exporter": "python",
   "pygments_lexer": "ipython3",
   "version": "3.7.3"
  }
 },
 "nbformat": 4,
 "nbformat_minor": 2
}
