{
 "cells": [
  {
   "cell_type": "markdown",
   "metadata": {},
   "source": [
    "# Laboratório Computacional de Métodos Numéricos\n",
    "\n",
    "## Conteúdo \n",
    "\n",
    "- [Aula 00 - Modelagem](aula-00-modelagem-programacao.ipynb)\n",
    "- [Aula 01 - Ponto flutuante](aula-01-ponto-flutuante.ipynb)\n",
    "- [Aula 02 - Erros numéricos](aula-02-erros.ipynb)\n",
    "- [Aula 03 - Análise gráfica](aula-03-analise-grafica.ipynb)\n",
    "- [Aula 04 - Bisseção](aula-04-bissecao.ipynb)\n",
    "- [Aula 05 - Ponto fixo](aula-05-ponto-fixo.ipynb)\n",
    "- [Aula 06 - Newton](aula-06-newton.ipynb)\n",
    "- [Aula 07 - Secante](aula-06-secante.ipynb)\n",
    "\n",
    "## _Code sessions_\n",
    "- [Code session 1 - bisect](code-session-1-bisect.ipynb)\n",
    "- [Code session 2 - newton](code-session-2-newton.ipynb)\n",
    "\n"
   ]
  }
 ],
 "metadata": {
  "kernelspec": {
   "display_name": "Python 3",
   "language": "python",
   "name": "python3"
  },
  "language_info": {
   "codemirror_mode": {
    "name": "ipython",
    "version": 3
   },
   "file_extension": ".py",
   "mimetype": "text/x-python",
   "name": "python",
   "nbconvert_exporter": "python",
   "pygments_lexer": "ipython3",
   "version": "3.7.3"
  }
 },
 "nbformat": 4,
 "nbformat_minor": 2
}
