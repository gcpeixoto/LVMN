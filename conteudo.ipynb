{
 "cells": [
  {
   "cell_type": "markdown",
   "metadata": {},
   "source": [
    "# Laboratório Computacional de Métodos Numéricos\n",
    "\n",
    "## Conteúdo \n",
    "\n",
    "- [Aula 00 - Modelagem](00-modelagem-programacao.ipynb)\n",
    "- [Aula 01 - Ponto flutuante](01-ponto-flutuante.ipynb)\n",
    "- [Aula 02 - Erros numéricos](02-erros.ipynb)"
   ]
  }
 ],
 "metadata": {
  "kernelspec": {
   "display_name": "Python 3",
   "language": "python",
   "name": "python3"
  },
  "language_info": {
   "codemirror_mode": {
    "name": "ipython",
    "version": 3
   },
   "file_extension": ".py",
   "mimetype": "text/x-python",
   "name": "python",
   "nbconvert_exporter": "python",
   "pygments_lexer": "ipython3",
   "version": "3.7.3"
  }
 },
 "nbformat": 4,
 "nbformat_minor": 2
}
