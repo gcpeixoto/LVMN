{
 "cells": [
  {
   "cell_type": "code",
   "execution_count": 5,
   "metadata": {
    "collapsed": true
   },
   "outputs": [],
   "source": [
    "%matplotlib inline"
   ]
  },
  {
   "cell_type": "markdown",
   "metadata": {},
   "source": [
    "## Implementação do Método da Secante "
   ]
  },
  {
   "cell_type": "code",
   "execution_count": 1,
   "metadata": {},
   "outputs": [
    {
     "name": "stdout",
     "output_type": "stream",
     "text": [
      "Estimativas iniciais: xa = 1.0; xb = 2.0 \n",
      "\n",
      "0  4.300000  -6.831000  5.348837e-01\n",
      "1  2.579345  0.897168  6.670898e-01\n",
      "2  2.779097  0.273423  7.187654e-02\n",
      "3  2.866660  -0.022642  3.054518e-02\n",
      "4  2.859963  0.000487  2.341478e-03\n",
      "5  2.860104  0.000001  4.933559e-05\n",
      "Solução obtida: x = 2.8601041641\n"
     ]
    }
   ],
   "source": [
    "# Método de Newton\n",
    "\n",
    "from numpy import linspace\n",
    "from matplotlib.pyplot import plot\n",
    "\n",
    "def secante(xa,xb,f,tol,nmax,var,plotar):\n",
    "\n",
    "    f = eval('lambda x:' + f)\n",
    "\n",
    "    # imprime estimativas iniciais\n",
    "    print('Estimativas iniciais: xa = {0}; xb = {1} \\n'.format(xa,xb))  \n",
    "\n",
    "    # Loop \n",
    "    for i in range(0,nmax):\n",
    "        \n",
    "        x = (xa*f(xb) - xb*f(xa))/(f(xb) - f(xa))\n",
    "                        \n",
    "        e = abs(x-xb)/abs(x) # erro\n",
    "        \n",
    "        # tabela\n",
    "        print('{0:d}  {1:f}  {2:f}  {3:e}'.format(i,x,f(x),e))\n",
    "        \n",
    "        if e < tol:\n",
    "            break\n",
    "        xa = xb\n",
    "        xb = x\n",
    "        \n",
    "    if i == nmax:\n",
    "        print('Solução não obtida em {0:d} iterações'.format(nmax))\n",
    "    else:\n",
    "        print('Solução obtida: x = {0:.10f}'.format(x))\n",
    "\n",
    "    # plotagem\n",
    "    if plotar:        \n",
    "        delta = 3*x\n",
    "        dom = linspace(x-delta,x+delta,30)\n",
    "        plot(dom,f(dom),x,f(x),'ro')\n",
    "\n",
    "    return x\n",
    "      \n",
    "    \n",
    "# parametros    \n",
    "xa = 1.0 # estimativa inicial 1\n",
    "xb = 2.0 # estimativa inicial 2\n",
    "tol = 1e-3 # tolerancia\n",
    "nmax = 100 # numero maximo de iteracoes\n",
    "f = '-0.9*x**2 + 1.7*x + 2.5'   # funcao\n",
    "var = 'x'\n",
    "plotar = True\n",
    "\n",
    "# chamada da função\n",
    "xm = secante(xa,xb,f,tol,nmax,var,plotar)"
   ]
  }
 ],
 "metadata": {
  "kernelspec": {
   "display_name": "Python 3",
   "language": "python",
   "name": "python3"
  },
  "language_info": {
   "codemirror_mode": {
    "name": "ipython",
    "version": 3
   },
   "file_extension": ".py",
   "mimetype": "text/x-python",
   "name": "python",
   "nbconvert_exporter": "python",
   "pygments_lexer": "ipython3",
   "version": "3.7.3"
  }
 },
 "nbformat": 4,
 "nbformat_minor": 2
}
