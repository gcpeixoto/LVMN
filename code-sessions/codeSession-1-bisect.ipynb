{
 "cells": [
  {
   "cell_type": "markdown",
   "metadata": {},
   "source": [
    "# _Code Session_ 1: Bisseção"
   ]
  },
  {
   "cell_type": "markdown",
   "metadata": {},
   "source": [
    "O propósito desta _Code Session_ é resolver problemas aplicados de determinação de raízes de equações não lineares polinomiais e transcendentais utilizando a função `bisect` do módulo `scipy.optimize`."
   ]
  },
  {
   "cell_type": "code",
   "execution_count": 1,
   "metadata": {},
   "outputs": [],
   "source": [
    "# Importação de módulos (boilerplate)\n",
    "import numpy as np, matplotlib.pyplot as plt"
   ]
  },
  {
   "cell_type": "markdown",
   "metadata": {},
   "source": [
    "## A função `bisect`\n",
    "\n",
    "A função `bisect` localiza a raiz de uma função dentro de um intervalo dado usando o método da bisseção, ressalvada a hipótese de que satisfaz o Teorema de Bolzano no intervalo. Os argumentos de entrada obrigatórios de `bisect` são: \n",
    "\n",
    "1. a função-alvo `f` (contínua)\n",
    "2. o limite esquerdo `a`\n",
    "3. o limite direito `b`\n",
    "\n",
    "Os parâmetros opcionais relevantes são: \n",
    "\n",
    "- `xtol`: tolerância (padrão: 2e-12)\n",
    "- `maxiter`: número máximo de iterações (padrão: 100)\n",
    "- `disp`: mostra erro se algoritmo não convergir (padrão: True)\n",
    "- `full_output`: mostra informações completas sobre a execução da função\n",
    "\n",
    "O parâmetro de saída é:\n",
    "\n",
    "- `x`: a estimativa para a raiz de `f`"
   ]
  },
  {
   "cell_type": "code",
   "execution_count": 2,
   "metadata": {},
   "outputs": [],
   "source": [
    "# Importação de bisect\n",
    "from scipy.optimize import bisect"
   ]
  },
  {
   "cell_type": "markdown",
   "metadata": {},
   "source": [
    "### Problema 1\n",
    "\n",
    "Encontre a menor raiz positiva (real) de $f(x) = x^{3} - 3.23x^{2} - 5.54x + 9.84$."
   ]
  },
  {
   "cell_type": "markdown",
   "metadata": {},
   "source": [
    "#### Resolução"
   ]
  },
  {
   "cell_type": "code",
   "execution_count": 3,
   "metadata": {},
   "outputs": [],
   "source": [
    "# Definição da função polinomial\n",
    "def f(x): \n",
    "    return x**3 - 3.23*x**2 - 5.54*x + 9.84"
   ]
  },
  {
   "cell_type": "code",
   "execution_count": 4,
   "metadata": {},
   "outputs": [
    {
     "data": {
      "image/png": "[encoded data removed]",
      "text/plain": [
       "<Figure size 432x288 with 1 Axes>"
      ]
     },
     "metadata": {
      "needs_background": "light"
     },
     "output_type": "display_data"
    }
   ],
   "source": [
    "# Analise gráfica simples\n",
    "x = np.linspace(-4,5)\n",
    "plt.plot(x,f(x))\n",
    "plt.axhline(y=0,color='r', linestyle=':');\n",
    "plt.axvline(x=0,color='r', linestyle=':');"
   ]
  },
  {
   "cell_type": "markdown",
   "metadata": {},
   "source": [
    "Pelo gráfico, vemos que a menor raiz positiva está localizada no intervalo $(0,2]$. Vamos determiná-la utilizando este intervalo de confinamento. "
   ]
  },
  {
   "cell_type": "code",
   "execution_count": 5,
   "metadata": {},
   "outputs": [
    {
     "name": "stdout",
     "output_type": "stream",
     "text": [
      "Raiz: x = 1.230000\n"
     ]
    }
   ],
   "source": [
    "# Resolução com bisect\n",
    "x = bisect(f,0,2) # raiz\n",
    "print(f'Raiz: x = {x:.6f}') # impressão de valor"
   ]
  },
  {
   "cell_type": "markdown",
   "metadata": {},
   "source": [
    "A mesma execução com `full_output=True` retornaria:"
   ]
  },
  {
   "cell_type": "code",
   "execution_count": 6,
   "metadata": {},
   "outputs": [
    {
     "data": {
      "text/plain": [
       "(1.2300000000013824,\n",
       "       converged: True\n",
       "            flag: converged\n",
       "  function_calls: 42\n",
       "      iterations: 40\n",
       "            root: 1.2300000000013824\n",
       "          method: bisect)"
      ]
     },
     "execution_count": 6,
     "metadata": {},
     "output_type": "execute_result"
    }
   ],
   "source": [
    "x = bisect(f,0,2,full_output=True) # tupla \n",
    "x"
   ]
  },
  {
   "cell_type": "markdown",
   "metadata": {},
   "source": [
    "### Problema 2\n",
    "\n",
    "Determine a raiz de menor módulo de $\\cosh(x) \\cos(x) - 1 = 0$."
   ]
  },
  {
   "cell_type": "markdown",
   "metadata": {},
   "source": [
    "#### Resolução\n",
    "\n",
    "Sigamos o procedimento aprendido com `bisect`. "
   ]
  },
  {
   "cell_type": "code",
   "execution_count": 7,
   "metadata": {},
   "outputs": [],
   "source": [
    "# Definição da função transcendental\n",
    "def f(x): \n",
    "    return np.cosh(x)*np.cos(x) - 1 "
   ]
  },
  {
   "cell_type": "code",
   "execution_count": 8,
   "metadata": {},
   "outputs": [
    {
     "data": {
      "image/png": "[encoded data removed]",
      "text/plain": [
       "<Figure size 432x288 with 1 Axes>"
      ]
     },
     "metadata": {
      "needs_background": "light"
     },
     "output_type": "display_data"
    }
   ],
   "source": [
    "# Analise gráfica \n",
    "x = np.linspace(-5,5)\n",
    "plt.plot(x,f(x));\n",
    "plt.axhline(y=0,color='r',linestyle=':');\n",
    "plt.axvline(x=0,color='r',linestyle=':');"
   ]
  },
  {
   "cell_type": "code",
   "execution_count": 9,
   "metadata": {},
   "outputs": [
    {
     "name": "stdout",
     "output_type": "stream",
     "text": [
      "Raiz: x = -4.730041\n"
     ]
    }
   ],
   "source": [
    "# Resolução\n",
    "x = bisect(f,-5,-4) # raiz de menor módulo \n",
    "print(f'Raiz: x = {x:.6f}') # impressão de valor"
   ]
  },
  {
   "cell_type": "markdown",
   "metadata": {},
   "source": [
    "### Problema 3\n",
    "\n",
    "Determine a raiz da equação $\\tan(x) - \\tanh(x) = 0$ que encontra-se em $(7.0,7.4)$. Determine esta raiz com três casas decimais de precisão pelo método da bisseção."
   ]
  },
  {
   "cell_type": "markdown",
   "metadata": {},
   "source": [
    "#### Resolução"
   ]
  },
  {
   "cell_type": "code",
   "execution_count": 10,
   "metadata": {},
   "outputs": [],
   "source": [
    "# função\n",
    "def f(x): \n",
    "    return np.tan(x) - np.tanh(x)"
   ]
  },
  {
   "cell_type": "markdown",
   "metadata": {},
   "source": [
    "Como o processo de análise gráfica é repetitivo, podemos criar outra função auxiliar dedicada à plotagem para refinamento."
   ]
  },
  {
   "cell_type": "code",
   "execution_count": 11,
   "metadata": {},
   "outputs": [],
   "source": [
    "def aux_plot(a,b,fun):\n",
    "    \"\"\"Função auxiliar de plotagem\n",
    "    \n",
    "    Parâmetros: \n",
    "        a: limite inferior de plotagem (float)\n",
    "        b: limite superior de plotagem (float)\n",
    "        fun: função a ser plotada (function)\n",
    "\n",
    "    Retorno: \n",
    "        None\n",
    "    \"\"\"\n",
    "    x = np.linspace(a,b,100)\n",
    "    plt.plot(x,f(x))\n",
    "    plt.axhline(y=0,color='r',linestyle=':');\n",
    "    "
   ]
  },
  {
   "cell_type": "code",
   "execution_count": 12,
   "metadata": {},
   "outputs": [
    {
     "data": {
      "image/png": "[encoded data removed]",
      "text/plain": [
       "<Figure size 432x288 with 1 Axes>"
      ]
     },
     "metadata": {
      "needs_background": "light"
     },
     "output_type": "display_data"
    }
   ],
   "source": [
    "# Analise gráfica \n",
    "aux_plot(6.5,7.5,f) # intervalo estendido"
   ]
  },
  {
   "cell_type": "markdown",
   "metadata": {},
   "source": [
    "Para obter as 3 casas decimas, vamos imprimir o valor final com 3 casas decimais. "
   ]
  },
  {
   "cell_type": "code",
   "execution_count": 13,
   "metadata": {},
   "outputs": [
    {
     "name": "stdout",
     "output_type": "stream",
     "text": [
      "Raiz: x = 7.069\n"
     ]
    }
   ],
   "source": [
    "# Resolução\n",
    "x = bisect(f,7.0,7.4) # raiz de menor módulo \n",
    "print(f'Raiz: x = {x:.3f}') # impressão de valor"
   ]
  },
  {
   "cell_type": "markdown",
   "metadata": {},
   "source": [
    "### Problema 4\n",
    "\n",
    "Determine as raízes de $\\text{sen}(x) + 3\\cos(x) - 1 = 0$ no intervalo $(-2,2)$."
   ]
  },
  {
   "cell_type": "markdown",
   "metadata": {},
   "source": [
    "#### Resolução"
   ]
  },
  {
   "cell_type": "code",
   "execution_count": 14,
   "metadata": {},
   "outputs": [],
   "source": [
    "# função\n",
    "def f(x): \n",
    "    return np.sin(x) + np.cos(x) - 1"
   ]
  },
  {
   "cell_type": "code",
   "execution_count": 15,
   "metadata": {},
   "outputs": [
    {
     "data": {
      "image/png": "[encoded data removed]",
      "text/plain": [
       "<Figure size 432x288 with 1 Axes>"
      ]
     },
     "metadata": {
      "needs_background": "light"
     },
     "output_type": "display_data"
    }
   ],
   "source": [
    "# Analise gráfica \n",
    "aux_plot(-2,2,f)"
   ]
  },
  {
   "cell_type": "markdown",
   "metadata": {},
   "source": [
    "A análise gráfica mostra duas raízes. Vamos encontrar uma de cada vez."
   ]
  },
  {
   "cell_type": "code",
   "execution_count": 16,
   "metadata": {},
   "outputs": [
    {
     "name": "stdout",
     "output_type": "stream",
     "text": [
      "Raízes: x1 = -4.547474e-13; x2 = 1.570796e+00\n"
     ]
    }
   ],
   "source": [
    "# Resolução\n",
    "\n",
    "x1 = bisect(f,-2,1) # raiz 1  \n",
    "x2 = bisect(f,1,2) # raiz 2 \n",
    "\n",
    "print(f'Raízes: x1 = {x1:e}; x2 = {x2:e}')"
   ]
  },
  {
   "cell_type": "markdown",
   "metadata": {},
   "source": [
    "### Problema 5\n",
    "\n",
    "Determine todas as raízes reais de $f(x) = x^4 + 0.9x^3 - 2.3x^2 + 3.6x - 25.2$"
   ]
  },
  {
   "cell_type": "markdown",
   "metadata": {},
   "source": [
    "#### Resolução"
   ]
  },
  {
   "cell_type": "code",
   "execution_count": 17,
   "metadata": {},
   "outputs": [],
   "source": [
    "# função \n",
    "def f(x):\n",
    "    return x**4 + 0.9*x**3 - 2.3*x**2 + 3.6*x - 25.2"
   ]
  },
  {
   "cell_type": "code",
   "execution_count": 18,
   "metadata": {},
   "outputs": [
    {
     "data": {
      "image/png": "[encoded data removed]",
      "text/plain": [
       "<Figure size 432x288 with 1 Axes>"
      ]
     },
     "metadata": {
      "needs_background": "light"
     },
     "output_type": "display_data"
    }
   ],
   "source": [
    "# Analise gráfica \n",
    "aux_plot(-100,100,f)"
   ]
  },
  {
   "cell_type": "code",
   "execution_count": 19,
   "metadata": {},
   "outputs": [
    {
     "data": {
      "image/png": "[encoded data removed]",
      "text/plain": [
       "<Figure size 432x288 with 1 Axes>"
      ]
     },
     "metadata": {
      "needs_background": "light"
     },
     "output_type": "display_data"
    }
   ],
   "source": [
    "# Refinamento\n",
    "aux_plot(-20,20,f)"
   ]
  },
  {
   "cell_type": "code",
   "execution_count": 20,
   "metadata": {},
   "outputs": [
    {
     "data": {
      "image/png": "[encoded data removed]",
      "text/plain": [
       "<Figure size 432x288 with 1 Axes>"
      ]
     },
     "metadata": {
      "needs_background": "light"
     },
     "output_type": "display_data"
    }
   ],
   "source": [
    "# Refinamento\n",
    "aux_plot(-5,5,f)"
   ]
  },
  {
   "cell_type": "code",
   "execution_count": 21,
   "metadata": {},
   "outputs": [
    {
     "name": "stdout",
     "output_type": "stream",
     "text": [
      "Raízes: x1 = -3.000000e+00; x2 = 2.100000e+00\n"
     ]
    }
   ],
   "source": [
    "# Resolução\n",
    "\n",
    "x1 = bisect(f,-4,-2) # raiz 1  \n",
    "x2 = bisect(f,1,3) # raiz 2 \n",
    "\n",
    "print(f'Raízes: x1 = {x1:e}; x2 = {x2:e}')"
   ]
  },
  {
   "cell_type": "markdown",
   "metadata": {},
   "source": [
    "### Problema 6\n",
    "\n",
    "Um jogador de futebol americano está prestes a fazer um lançamento para outro jogador de seu time. O lançador tem uma altura de 1,82 m e o outro jogador está afastado de 18,2 m. A expressão que descreve o movimento da bola é a familiar equação da física que descreve o movimento de um projétil:\n",
    "\n",
    "$$y = x\\tan(\\theta) - \\dfrac{1}{2}\\dfrac{x^2 g}{v_0^2}\\dfrac{1}{\\cos^2(\\theta)} + h,$$\n",
    "\n",
    "onde $x$ e $y$ são as distâncias horizontal e verical, respectivamente, $g=9,8 \\, m/s^2$ é a aceleração da gravidade, $v_0$ é a velocidade inicial da bola quando deixa a mão do lançador e $\\theta$ é o Ângulo que a bola faz com o eixo horizontal nesse mesmo instante. Para $v_0 = 15,2 \\, m/s$, $x = 18,2 \\, m$, $h = 1,82 \\, m$ e $y = 2,1 \\, m$, determine o ângulo $\\theta$ no qual o jogador deve lançar a bola. "
   ]
  },
  {
   "cell_type": "markdown",
   "metadata": {},
   "source": [
    "#### Resolução"
   ]
  },
  {
   "cell_type": "code",
   "execution_count": 22,
   "metadata": {},
   "outputs": [],
   "source": [
    "# parâmetros do problema\n",
    "v0 = 15.2\n",
    "x = 18.2\n",
    "h = 1.82\n",
    "y = 2.1\n",
    "g = 9.8\n",
    "\n",
    "# função f(theta) = 0\n",
    "f = lambda theta: x*np.tan(theta) - 0.5*(x**2*g/v0**2)*(1/(np.cos(theta)**2)) + h - y"
   ]
  },
  {
   "cell_type": "code",
   "execution_count": 23,
   "metadata": {},
   "outputs": [
    {
     "data": {
      "image/png": "[encoded data removed]",
      "text/plain": [
       "<Figure size 432x288 with 1 Axes>"
      ]
     },
     "metadata": {
      "needs_background": "light"
     },
     "output_type": "display_data"
    }
   ],
   "source": [
    "# Análise gráfica\n",
    "aux_plot(0,0.96*np.pi/2,f)"
   ]
  },
  {
   "cell_type": "code",
   "execution_count": 24,
   "metadata": {},
   "outputs": [
    {
     "data": {
      "image/png": "[encoded data removed]",
      "text/plain": [
       "<Figure size 432x288 with 1 Axes>"
      ]
     },
     "metadata": {
      "needs_background": "light"
     },
     "output_type": "display_data"
    }
   ],
   "source": [
    "# Refinamento\n",
    "aux_plot(0,np.pi/4,f)"
   ]
  },
  {
   "cell_type": "code",
   "execution_count": 25,
   "metadata": {},
   "outputs": [
    {
     "name": "stdout",
     "output_type": "stream",
     "text": [
      "Ângulo de lançamento: 26.41 graus\n"
     ]
    }
   ],
   "source": [
    "# Resolução\n",
    "xr = bisect(f,0.1,0.6)\n",
    "print('Ângulo de lançamento: %.2f graus' % np.rad2deg(xr))"
   ]
  },
  {
   "cell_type": "markdown",
   "metadata": {},
   "source": [
    "### Problema 7\n",
    "\n",
    "A equação de Bernoulli para o escoamento de um fluido em um canal aberto com um pequeno ressalto é \n",
    "\n",
    "$$\\dfrac{Q^2}{2gb^2h_0^2} + h_0 = \\dfrac{Q^2}{2gb^2h^2} + h + H,$$\n",
    "\n",
    "onde $Q = 1.2 \\, m^3/s$ é a vazão volumétrica, $g = 9.81 \\, m/s^2$ é a aceleração gravitacional, $b = 1.8 \\, m$ a largura do canal, $h_0 = 0.6 \\, m$ o nível da água à montante, $H = 0.075 \\, m$ a altura do ressalto e $h$ o nível da água acima do ressalto. Determine $h$."
   ]
  },
  {
   "cell_type": "markdown",
   "metadata": {},
   "source": [
    "#### Resolução\n",
    "\n",
    "Para este problema, definiremos duas funções, uma auxiliar, que chamaremos `a`, e a função `f(h)` que reescreve a equação de Bernoulli acima em função de $h$. "
   ]
  },
  {
   "cell_type": "code",
   "execution_count": 26,
   "metadata": {},
   "outputs": [],
   "source": [
    "# função para cálculo de parâmetros\n",
    "def a(Q,g,b,H,h0):\n",
    "    return Q,g,b,H,h0\n",
    "\n",
    "# função do nível de água\n",
    "def f(h):\n",
    "    frate,grav,width,bHeight,ups = a(Q,g,b,H,h0)\n",
    "    c = lambda arg: frate**2/(2*grav*width**2*arg**2)\n",
    "    return c(h) - c(h0) + h - h0 + H "
   ]
  },
  {
   "cell_type": "markdown",
   "metadata": {},
   "source": [
    "Note que a função `a` é apenas uma conveniência para o cálculo do termo comum envolvendo a vazão e para construírmos uma generalização para os dados de entrada. Em seguida, definiremos os parâmetros de entrada do problema. "
   ]
  },
  {
   "cell_type": "code",
   "execution_count": 27,
   "metadata": {},
   "outputs": [],
   "source": [
    "# parâmetros de entrada\n",
    "Q = 1.2 # m3/s \n",
    "g = 9.81 # m/s2\n",
    "b = 1.8 # m\n",
    "h0 = 0.6 # m\n",
    "H = 0.075 # m"
   ]
  },
  {
   "cell_type": "markdown",
   "metadata": {},
   "source": [
    "A partir daí, podemos realizar a análise gráfica para verificar o comportamento de `f(h)`."
   ]
  },
  {
   "cell_type": "code",
   "execution_count": 28,
   "metadata": {},
   "outputs": [
    {
     "data": {
      "image/png": "[encoded data removed]",
      "text/plain": [
       "<Figure size 432x288 with 1 Axes>"
      ]
     },
     "metadata": {
      "needs_background": "light"
     },
     "output_type": "display_data"
    }
   ],
   "source": [
    "# Análise gráfica\n",
    "aux_plot(0.1,6,f)"
   ]
  },
  {
   "cell_type": "markdown",
   "metadata": {},
   "source": [
    "Ampliemos a localização."
   ]
  },
  {
   "cell_type": "code",
   "execution_count": 29,
   "metadata": {},
   "outputs": [
    {
     "data": {
      "image/png": "[encoded data removed]",
      "text/plain": [
       "<Figure size 432x288 with 1 Axes>"
      ]
     },
     "metadata": {
      "needs_background": "light"
     },
     "output_type": "display_data"
    }
   ],
   "source": [
    "aux_plot(0.25,0.6,f)"
   ]
  },
  {
   "cell_type": "markdown",
   "metadata": {},
   "source": [
    "Verificamos que `f(h)` admite duas soluções. Vamos determinar cada uma delas. "
   ]
  },
  {
   "cell_type": "code",
   "execution_count": 30,
   "metadata": {},
   "outputs": [
    {
     "name": "stdout",
     "output_type": "stream",
     "text": [
      "Raiz: h1 = 0.26475526\n",
      "Raiz: h2 = 0.49575512\n"
     ]
    }
   ],
   "source": [
    "# Resolução  \n",
    "h1 = bisect(f,0.25,0.32)\n",
    "print(f'Raiz: h1 = {h1:.8f}')\n",
    "\n",
    "h2 = bisect(f,0.4,0.55)\n",
    "print(f'Raiz: h2 = {h2:.8f}')"
   ]
  },
  {
   "cell_type": "markdown",
   "metadata": {},
   "source": [
    "**Nota:** as duas soluções viáveis dizem respeito ao regime de escoamento no canal aberto. Enquanto $h_1$ é um limite para escoamento supercrítico (rápido), $h_2$ é um limite para escoamento subcrítico (lento)."
   ]
  },
  {
   "cell_type": "markdown",
   "metadata": {},
   "source": [
    "### Problema 8\n",
    "\n",
    "A velocidade $v$ de um foguete Saturn V em voo vertical próximo à superfície da Terra pode ser aproximada por\n",
    "\n",
    "$$v = u\\textrm{ln}\\left(\\dfrac{M_0}{M_0 - \\dot{m}t} \\right) - gt,$$\n",
    "\n",
    "onde $u = 2510 \\, m/s$ é a velocidade de escape relativa ao foguete, $M_0 = 2.8 \\times 10^6 \\, kg$ é a massa do foguete no momento do lançamento, $\\dot{m} = 13.3 \\times 10^3 \\, kg/s$ é a taxa de consumo de combustível, $g = 9.81 \\, m/s^2$ a aceleração gravitacional e $t$ o tempo medido a partir do lançamento. \n",
    "\n",
    "Determine o instante de tempo $t^*$ quando o foguete atinge a velocidade do som ($335 \\, m/s$)."
   ]
  },
  {
   "cell_type": "markdown",
   "metadata": {},
   "source": [
    "#### Resolução\n",
    "\n",
    "Seguiremos a mesma ideia utilizada no Problema 7. Primeiramente, construímos uma função auxiliar para calcular parâmetros e, em seguida, definimos uma função `f(t)`.  "
   ]
  },
  {
   "cell_type": "code",
   "execution_count": 31,
   "metadata": {},
   "outputs": [],
   "source": [
    "# função para cálculo de parâmetros\n",
    "def a(u,M0,m,g,v):\n",
    "    return u,M0,m,g,v\n",
    "\n",
    "# função do tempo\n",
    "def f(t):\n",
    "    escape,mass,fuel,grav,vel = a(u,M0,m,g,v)    \n",
    "    return escape*np.log(mass/(mass - fuel*t)) - g*t - vel"
   ]
  },
  {
   "cell_type": "markdown",
   "metadata": {},
   "source": [
    "Definimos os parâmetros do problema."
   ]
  },
  {
   "cell_type": "code",
   "execution_count": 32,
   "metadata": {},
   "outputs": [],
   "source": [
    "# parâmetros de entrada\n",
    "u = 2510.0 # m/s \n",
    "M0 = 2.8e6 # kg\n",
    "m = 13.3e3 # kg/s\n",
    "g = 9.81 # m/s2\n",
    "v = 335.0 # m/s"
   ]
  },
  {
   "cell_type": "markdown",
   "metadata": {},
   "source": [
    "Utilizaremos a análise gráfica para determinar o intervalo de refinamento da raiz. "
   ]
  },
  {
   "cell_type": "code",
   "execution_count": 33,
   "metadata": {},
   "outputs": [
    {
     "data": {
      "image/png": "[encoded data removed]",
      "text/plain": [
       "<Figure size 432x288 with 1 Axes>"
      ]
     },
     "metadata": {
      "needs_background": "light"
     },
     "output_type": "display_data"
    }
   ],
   "source": [
    "# Análise gráfica\n",
    "aux_plot(0.5,100,f)"
   ]
  },
  {
   "cell_type": "markdown",
   "metadata": {},
   "source": [
    "Podemos verificar que a raiz está entre 60 e 80 segundos. Utilizaremos estes limitantes. "
   ]
  },
  {
   "cell_type": "code",
   "execution_count": 34,
   "metadata": {},
   "outputs": [
    {
     "name": "stdout",
     "output_type": "stream",
     "text": [
      "Raiz: tr = 70.88s = 1min 10.88s\n"
     ]
    }
   ],
   "source": [
    "# solução  \n",
    "tr = bisect(f,60,80)\n",
    "print(f'Raiz: tr = {tr:.2f}s = {tr // 60:g}min {tr % 60:.2f}s')"
   ]
  },
  {
   "cell_type": "markdown",
   "metadata": {},
   "source": [
    "O foguete rompe a barreira do som em pouco mais de 1 minuto!"
   ]
  }
 ],
 "metadata": {
  "kernelspec": {
   "display_name": "Python 3.10.6 64-bit",
   "language": "python",
   "name": "python3"
  },
  "language_info": {
   "codemirror_mode": {
    "name": "ipython",
    "version": 3
   },
   "file_extension": ".py",
   "mimetype": "text/x-python",
   "name": "python",
   "nbconvert_exporter": "python",
   "pygments_lexer": "ipython3",
   "version": "3.9.7"
  },
  "vscode": {
   "interpreter": {
    "hash": "b0fa6594d8f4cbf19f97940f81e996739fb7646882a419484c72d19e05852a7e"
   }
  }
 },
 "nbformat": 4,
 "nbformat_minor": 4
}
