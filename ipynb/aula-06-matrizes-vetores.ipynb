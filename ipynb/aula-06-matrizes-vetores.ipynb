{
 "cells": [
  {
   "cell_type": "code",
   "execution_count": 3,
   "metadata": {
    "tags": [
     "remove-input"
    ]
   },
   "outputs": [],
   "source": [
    "import matplotlib.pyplot as plt\n",
    "plt.style.use('../styles/gcpeixoto-book.mplstyle')"
   ]
  },
  {
   "cell_type": "markdown",
   "metadata": {},
   "source": [
    "# Do Vetor ao _Array_: Computação Vetorizada Na Prática\n",
    "\n",
    "<div class=\"chapter-thumb\">\n",
    "    <div class=\"chapter-oa\">\n",
    "        <h2>Objetivos de aprendizagem</h2>\n",
    "        <ul>\n",
    "        <li>Associar conceitos abstratos de Álgebra Linear a estruturas computacionais; </li>\n",
    "\t    <li>Realizar operações básicas com matrizes e vetores;</li>\n",
    "\t    <li>Saber como resolver sistemas lineares de pequeno porte;</li>\t    \n",
    "        <li>Reconhecer e calcular operações comuns entre matrizes e vetores;</li>\n",
    "        </ul>\n",
    "    </div>        \n",
    "    <div class=\"quote-box\">\n",
    "        <p><em>\"Como em tudo o mais, também numa teoria matemática: a beleza pode ser percebida, mas não explicada. (Arthur Cayley)\"\n",
    "        </p></em>\n",
    "    </div>        \n",
    "</div>"
   ]
  },
  {
   "cell_type": "markdown",
   "metadata": {},
   "source": [
    "## Introdução\n",
    "\n",
    "Matrizes e vetores são estruturas fundamentais nas ciências aplicadas, em especial na engenharia e na computação, pois oferecem uma linguagem unificada para modelar sistemas, representar dados e realizar cálculos eficientes. Do ponto de vista algébrico, vetores podem representar estados de um sistema, enquanto matrizes atuam como operadores que transformam esses estados — como em sistemas de equações lineares usados para modelar circuitos elétricos, fluxos de calor ou estruturas mecânicas. Na economia, vetores podem representar cestas de bens ou variáveis macroeconômicas, e matrizes podem modelar interações entre setores produtivos em modelos insumo-produto. Já em engenharia computacional, matrizes são onipresentes em métodos numéricos para resolução de equações diferenciais que modela um problema físico e são discretizadas em sistemas lineares matriciais.\n",
    "\n",
    "No plano geométrico, vetores representam pontos ou direções em espaços de qualquer dimensão, enquanto matrizes podem ser interpretadas como transformações lineares — rotações, escalamentos ou projeções — aplicadas a esses vetores. Essa visão é central, por exemplo, na computação gráfica, onde transformações matriciais controlam a renderização de cenas tridimensionais. Já na ciência de dados e no processamento de sinais, vetores de alta dimensão representam amostras de áudio, imagens ou vídeos — com cada dimensão correspondendo a um pixel, uma intensidade sonora, ou uma característica extraída. A manipulação de dados n-dimensionais, por meio de operações matriciais como multiplicação, decomposição ou diagonalização, é essencial para reduzir dimensionalidade (como na análise de componentes principais), filtrar ruído, identificar padrões e treinar modelos de aprendizado de máquina. Assim, além de seu papel teórico, matrizes e vetores são ferramentas práticas para interpretar, simular e interagir com os fenômenos complexos do mundo real.\n",
    "\n",
    "Neste capítulo, mostraremos como realizar operações básicas entre matrizes e vetores usando o computador como utilidade para a compreensão de armazenamento de dados principalmente em estruturas uni ou bidimensionais. O estudo da relação entre algoritmos e métodos computacionais para trabalhar eficientemente com matrizes e vetores é realizado no âmbito da _Álgebra Linear Computacional_, porém, aqui, enfantizaremos aplicações práticas e o uso de operações comuns.\n",
    "\n",
    "\n",
    "```{figure} ../figs/matrix-world.png\n",
    "---\n",
    "width: 550px\n",
    "name: fig-matrix-world\n",
    "---\n",
    "\"O mundo das matrizes\": ilustração produzida por Kenji Hiranabe e Gilbert Strang para o livro [_Linear Algebra for Everyone_](https://math.mit.edu/~gs/everyone/).\n",
    "```\n"
   ]
  },
  {
   "cell_type": "markdown",
   "metadata": {},
   "source": [
    "```{admonition} Curiosidade: a origem da \"matrix\"\n",
    ":class: dropdown\n",
    "\n",
    "O termo \"matriz\" (matrix) deriva da palavra arcaica francesa \"matrice\", que significa \"útero\". Etimologicamente, está ligada à ideia de \"origem\", por \"mater\", de onde vem o significado de \"mother\" (mãe). Isso ajuda a explicar bastante o enredo da franquia de filmes \"Matrix\", protagonizada por Keanu Reeves, onde o personagem Neo e seus amigos nascem em um ambiente artificial em que os corpos são cultivados em cápsulas e as mentes conectadas à Matriz, uma simulação de realidade. Surpreendentemente, essa mesma ideia é a que subsiste na matemática.\n",
    "\n",
    "Credita-se ao matemático inglês [James Joseph Sylvester](https://en.wikipedia.org/wiki/James_Joseph_Sylvester) (1814 - 1897) o primeiro uso do termo \"matriz\", que apareceu em um [artigo de sua autoria publicado em 1850](https://doi.org/10.1080/14786445008646629). Sylvester assim disse, em tradução livre do [original](https://www.kevinhouston.net/blog/2017/10/why-is-it-called-a-matrix/): \n",
    "\n",
    "\"Para esse propósito, devemos começar, não com um quadrado, mas com uma disposição retangular de termos composta, suponhamos, por m linhas e n colunas. Isso, por si só não representa um determinante, mas é, por assim dizer, uma matriz a partir da qual podemos formar diversos sistemas de determinantes ao fixarmos um número p e selecionarmos, à vontade, p linhas e p colunas — os quadrados correspondentes a essas seleções podem ser chamados de determinantes de ordem p.\"\n",
    "\n",
    "E daí nasceu o conceito de matriz, como uma associação ao que chamamos de \"array\" em computação. Entretanto, na Matemática, a definição de uma matriz não é tão simples quanto parece, sendo necessário compreendê-la como uma \"função\" que associa um espaço vetorial a outro. É por isso que nem sempre quando falamos do conceito de \"dimensão\" (size) ou \"comprimento\" (length), como atributos de arrays computacionais, existe um paralelo imediato com o conceito de dimensão (\"dimension\") utilizado pela álgebra linear.\n",
    "```\n"
   ]
  },
  {
   "cell_type": "markdown",
   "metadata": {},
   "source": [
    "## Computação vetorizada\n",
    "\n",
    "O conceito de computação vetorizada, ou computação baseada em _arrays_, está relacionado à execução de operações que podem ser feitas de uma só vez a um conjunto amplo de valores. A ideia principal da computação vetorizada é evitar laços e cálculos com repetições a fim de acelerar operações matemáticas e permite que essas estruturas multidimensionais sejam identificadas com a nossa compreensão de vetores, matrizes e tensores. Vetores são arrays unidimensionais. Matrizes são arrays bidimensionais. Tensores são arrays de três ou mais dimensões. _Arrays_ possuem alguns atributos, tais como \"comprimento\", \"formato\" e \"dimensão, os quais dizem respeito, de certa forma, à quantidade de seus elementos e ao modo como ocupam a memória. Esses nomes variam de linguagem para linguagem. Em Python, existem funções e métodos específicos para verificar comprimento, formato e dimensão, tais como `len`, `shape` e `ndim`.  Entretanto, esses conceitos possuem sentidos um pouco diferentes quando queremos descrever os conceitos matemáticos.\n",
    "\n",
    "### Comprimento, tamanho e dimensão\n",
    "\n",
    "Para exemplificar o que queremos dizer com \"comprimento\", \"tamanho\" e \"dimensão\", vejamos uma ilustração. Se `x1` e `x2` são dois números inteiros, a lista `[x1,x2]` seria um _array_ unidimensional, mas de comprimento dois. Agora, imagine que $(x_1,x_2)$ seja a notação matemática para representar as coordenadas de um ponto do plano cartesiano. Sabemos da geometria que o plano cartesiano tem duas dimensões. Porém, poderíamos, computacionalmente, usar a mesma lista anterior para armazenar no computador essas duas coordenadas. A lista continuaria sendo unidimensional, porém de tamanho dois. Logo, embora a entidade matemática seja bidimensional, não necessariamente a sua representação computacional deve ser bidimensional.\n",
    "\n",
    "Vejamos outra ilustração. Uma esfera é um sólido geométrico. Cada ponto da esfera está no espaço tridimensional. Isto significa que precisamos de 3 coordenadas para localizar cada um desses pontos. Do mesmo modo que o caso anterior, suponha que você tenha não apenas `x1` e `x2` como dois números inteiros, mas também um terceiro, `x3`, para montar as coordenadas do seu ponto espacial. Você poderia representá-lo, matematicamente, por uma tripla $(x_1,x_2,x_3)$ sem problema algum. Por outro lado, no computador, a lista `[x1,x2,x3]` seria um _array_ adequado para armazenar os valores das suas coordendas. Entretanto, esta lista continuaria sendo um _array_ unidimensional, mas com tamanho 3. Portanto, _arrays_ unidimensionais podem representar dados em dimensões maiores do que um. \n",
    "\n",
    "### `numpy`\n",
    "\n",
    "Em Python, _numpy_ é a ferramenta ideal para lidar com tudo isso, a biblioteca padrão em Python para trabalhar com _arrays_ multidimensionais e computação vetorizada. Ela praticamente dá \"superpoderes\" às listas e permite que trabalhemos com cálculos numéricos de maneira ágil, simples e eficiente. Com _numpy_, também podemos ler e escrever arquivos, trabalhar com sistemas lineares e realizar muito mais. O exemplo abaixo compara a eficiência de operações feitas com listas comuns e com arrays do _numpy_.\n",
    "\n"
   ]
  },
  {
   "cell_type": "code",
   "execution_count": 4,
   "metadata": {},
   "outputs": [
    {
     "name": "stdout",
     "output_type": "stream",
     "text": [
      "Overhead normalizado para 10 elementos: -0.950\n",
      "Overhead normalizado para 100 elementos: 0.071\n",
      "Overhead normalizado para 500 elementos: 1.645\n",
      "Overhead normalizado para 1000 elementos: 9.431\n",
      "Overhead normalizado para 5000 elementos: 47.239\n",
      "Overhead normalizado para 10000 elementos: 51.317\n",
      "Overhead normalizado para 50000 elementos: 85.217\n"
     ]
    }
   ],
   "source": [
    "import timeit\n",
    "import numpy as np\n",
    "\n",
    "# Função de teste\n",
    "def test_cube(n: int, method: str):\n",
    "    if method == 'numpy':        \n",
    "        return np.power(np.arange(n), 3)\n",
    "    elif method == 'list':\n",
    "        return [i**3 for i in range(n)]\n",
    "    else:\n",
    "        raise ValueError(\"Método indefinido\")\n",
    "\n",
    "# Número de repetições para a medição do tempo\n",
    "reps = 50\n",
    "\n",
    "# Número de elementos\n",
    "nel = [10, 100, 500, 1000, 5000, 10000, 50000]\n",
    "\n",
    "# Loop para diferentes tamanhos de entrada\n",
    "for n in nel:\n",
    "\n",
    "    # Medindo o tempo de execução para o método 'list'\n",
    "    t_list = timeit.timeit(lambda: test_cube(n, 'list'), number=reps)\n",
    "\n",
    "    # Medindo o tempo de execução para o método 'numpy'\n",
    "    t_numpy = timeit.timeit(lambda: test_cube(n, 'numpy'), number=reps)\n",
    "\n",
    "    # Calculando o overhead normalizado\n",
    "    overhead = (t_list - t_numpy) / t_numpy    \n",
    "\n",
    "    # Exibindo os resultados\n",
    "    #print(f\"Tempo gasto com 'list' para {n} elementos: {t_list:.6f} s\")\n",
    "    #print(f\"Tempo gasto com 'numpy' para {n} elementos: {t_numpy:.6f} s\")\n",
    "    print(f\"Overhead normalizado para {n} elementos: {overhead:.3f}\")\n"
   ]
  },
  {
   "cell_type": "markdown",
   "metadata": {},
   "source": [
    "## Compreendendo notações\n",
    "\n",
    "A diversidade de notações utilizadas para representar vetores e matrizes reflete não apenas preferências estilísticas, mas sobretudo a influência das diferentes tradições científicas e áreas de aplicação. Vetores podem ser indicados por letras em negrito, letras com setas, letas entre colchetes e ainda por índices subscritos conforme o contexto. Na física, a notação com setas é comum; na matemática aplicada, encontra-se o uso de negrito tipográfico; nas engenharias, por vezes encontramos o uso de chaves ou colchetes para representar matrizes e também subíndices; na computação, o uso é variado. \n",
    "\n",
    "A notação indicial, por exemplo, também conhecida como [notação de Einstein](https://en.wikipedia.org/wiki/Einstein_notation) — onde se assume uma soma implícita sobre índices repetidos —, é fundamental em teorias de tensores e na mecânica do contínuo, permitindo expressar operações complexas de forma compacta e elegante. A escola de [Gibbs](https://pt.wikipedia.org/wiki/Josiah_Willard_Gibbs), por sua vez, introduziu notações específicas para produtos vetoriais e escalares, ainda largamente utilizadas, predominante nos símbolos em negrito. Em computação, há uma tendência a representar vetores como arrays unidimensionais e matrizes em forma tabular, alinhando a abstração matemática à estrutura de dados. Enquanto essa pluralidade de notações deve-se a fatores históricos e culturais, ela pode influenciar ativamente a maneira como os conceitos são compreendidos, manipulados e ensinados.\n",
    "\n",
    "Para os nossos interesses, o fundamental a saber não é a notação em si, mas como os conceitos fundamentais da álgebra linear, que têm impacto em quase tudo o que fazemos com dados, são transportados para o computador a ponto de serem manipulados com precisão. O quadro abaixo resume algumas notações para operações clássicas e as áreas onde predominam.\n",
    "\n",
    "| **Notação**              | **Significado**                 | **Área(s) predominante(s)** |\n",
    "|--------------------------|---------------------------------|-----------------------------|\n",
    "| $\\mathbf{A}, \\mathbf{v}$ | matriz e vetor em negrito       | Matemática, Computação |\n",
    "| $\\vec{v}$                | vetor com seta                  | Física, Engenharias, Computação |\n",
    "| $\\overrightarrow{A}$     | matriz com seta maior           | Física |\n",
    "| $v_i$, $A_{ij}$          | notação indicial para componente de vetor ou matriz | Matemática, Engenharias |\n",
    "| $[a_{ij}]$, $\\{a_{ij}\\}$  | matriz com notação indicial de componentes | Engenharias |\n",
    "\n",
    "Por conveniência, priorizaremos a notação em negrito.\n",
    "\n",
    " Além do significado algébrico, geométrico ou computacional que representam nas ciências, matrizes e vetores podem ser vistos sob diferentes perspectivas que enriquecem não só a intuição, mas também a capacidade de aplicar conceitos a contextos diversos, principalmente ao se lidar com áreas computacionais. Formas interessantes de compreender matrizes e vetores através de visualizações são propostas por [Kenji Hiranabe](https://github.com/kenjihiranabe/The-Art-of-Linear-Algebra/), co-autor do artigo [The Art of Linear Algebra](https://doi.org/10.1080/10511970.2024.2321349).\n",
    "\n",
    "```{admonition} Dica: a origem da \"matrix\"\n",
    ":class: hint, dropdown\n",
    "\n",
    "Existem vídeos excelentes com aulas do Prof. Gilbert Strang sobre como melhor enxergar a Álgebra Linear nesta página do [MIT/OCW](https://ocw.mit.edu/courses/res-18-010-a-2020-vision-of-linear-algebra-spring-2020/pages/about-the-videos/). Vale a pena assistir.\n",
    " ```"
   ]
  },
  {
   "cell_type": "markdown",
   "metadata": {},
   "source": [
    "## Matrizes e vetores\n",
    "\n",
    "Uma matriz ${\\bf A}$ de ordem $m \\times n$ pode ser escrita como:\n",
    "\n",
    "$${\\bf A} = \n",
    "\\begin{bmatrix}\n",
    "a_{11} & a_{12} & \\ldots & a_{1n} \\\\\n",
    "a_{21} & a_{22} & \\ldots & a_{2n} \\\\\n",
    "\\vdots & \\vdots & \\ddots & \\vdots \\\\\n",
    "a_{m1} & a_{m2} & \\ldots & a_{mn}\n",
    "\\end{bmatrix}$$\n"
   ]
  },
  {
   "cell_type": "markdown",
   "metadata": {},
   "source": [
    "As colunas de uma matriz com $m$ linhas correspondem a $n$ vetores $\\vec{v}_1, \\vec{v}_2, \\ldots,\\vec{v}_n$, de maneira que\n",
    "\n",
    "$${\\bf A} = \n",
    "\\begin{bmatrix}\n",
    "\\vec{v}_1 & \\vec{v}_2 & \\ldots & \\vec{v}_n \\\\\n",
    "\\end{bmatrix}$$\n",
    "\n",
    "é uma representação equivalente para a matriz anterior."
   ]
  },
  {
   "cell_type": "markdown",
   "metadata": {},
   "source": [
    "Em Python, usamos o módulo _numpy_ para trabalhar com matrizes e vetores. Vetores são _arrays_ 1D, ao passo que matrizes são _arrays_ 2D, ou seja, um \"_array_ de _arrays_\"."
   ]
  },
  {
   "cell_type": "markdown",
   "metadata": {},
   "source": [
    "**Exemplo.** Represente computacionalmente os vetores do $\\mathbb{R}^3$ a seguir:\n",
    "\n",
    "- $\\vec{u} = 3\\vec{i} - 2\\vec{j} + 9\\vec{k}$\n",
    "- $\\vec{v} = -2\\vec{i} + 4\\vec{j}$\n",
    "- $\\vec{w} = \\vec{i}$"
   ]
  },
  {
   "cell_type": "markdown",
   "metadata": {},
   "source": [
    "```{admonition} Curiosidade: ndarray\n",
    ":class: dropdown\n",
    "\n",
    "O _NumPy_ possui uma classe especial para se trabalhar com matrizes e vetores em uma ou duas dimensões, a saber o tipo `matrix`, ou `mat`. Com objetos `matrix`, as  operações particulares de multiplicação matriz-matriz ou matriz-vetor comportam-se diferentemente daquelas na classe `ndarray`. Neste texto, abordaremos apenas os tipos `ndarray` porque são aplicáveis também a matrizes multidimensionais.\n",
    "```"
   ]
  },
  {
   "cell_type": "code",
   "execution_count": 5,
   "metadata": {},
   "outputs": [
    {
     "name": "stdout",
     "output_type": "stream",
     "text": [
      "[ 3 -2  9]\n",
      "[-2  4  0]\n",
      "[1 0 0]\n"
     ]
    }
   ],
   "source": [
    "import numpy as np\n",
    "\n",
    "u = np.array([3,-2,9])\n",
    "v = np.array([-2,4,0])\n",
    "w = np.array([1,0,0])\n",
    "print(u), print(v), print(w);\n"
   ]
  },
  {
   "cell_type": "markdown",
   "metadata": {},
   "source": [
    "**Exemplo.** Represente computacionalmente a matriz 3 x 3 dada por\n",
    "\n",
    "$${\\bf A} = \n",
    "\\begin{bmatrix}\n",
    "\\vec{u} & \\vec{v} & \\vec{w} \\\\\n",
    "\\end{bmatrix}$$"
   ]
  },
  {
   "cell_type": "markdown",
   "metadata": {},
   "source": [
    "Observe que os vetores devem ser escritos como \"coluna\"."
   ]
  },
  {
   "cell_type": "code",
   "execution_count": 6,
   "metadata": {},
   "outputs": [],
   "source": [
    "A = np.array([u,v,w]).T"
   ]
  },
  {
   "cell_type": "markdown",
   "metadata": {},
   "source": [
    "**Exemplo.** Represente computacionalmente a matriz \n",
    "\n",
    "$$ \n",
    "\\begin{bmatrix}\n",
    "2 & -2 \\\\\n",
    "4 & 1 \\\\\n",
    "2 & 1 \n",
    "\\end{bmatrix}$$\n"
   ]
  },
  {
   "cell_type": "markdown",
   "metadata": {},
   "source": [
    "Vamos escrever linha por linha."
   ]
  },
  {
   "cell_type": "code",
   "execution_count": 7,
   "metadata": {},
   "outputs": [
    {
     "name": "stdout",
     "output_type": "stream",
     "text": [
      "[[ 2 -2]\n",
      " [ 4  1]\n",
      " [ 2  1]]\n"
     ]
    }
   ],
   "source": [
    "L1 = np.array([2,-2]) # linha 1\n",
    "L2 = np.array([4,1]) # linha 2\n",
    "L3 = np.array([2,1]) # linha 3\n",
    "\n",
    "A2 = np.array([L1,L2,L3]) # lista de listas\n",
    "print(A2)"
   ]
  },
  {
   "cell_type": "markdown",
   "metadata": {},
   "source": [
    "Diretamente, poderíamos também definir: "
   ]
  },
  {
   "cell_type": "code",
   "execution_count": 8,
   "metadata": {},
   "outputs": [
    {
     "name": "stdout",
     "output_type": "stream",
     "text": [
      "[[ 2 -2]\n",
      " [ 4  1]\n",
      " [ 2  1]]\n"
     ]
    }
   ],
   "source": [
    "A3 = np.array([[2,-2],[4,1],[2,1]])\n",
    "print(A3)"
   ]
  },
  {
   "cell_type": "markdown",
   "metadata": {},
   "source": [
    "Note que cada lista representa uma linha. "
   ]
  },
  {
   "cell_type": "markdown",
   "metadata": {},
   "source": [
    "### Transposição \n",
    "\n",
    "Matrizes e vetores podem ser transpostos com `.T`:"
   ]
  },
  {
   "cell_type": "code",
   "execution_count": 9,
   "metadata": {},
   "outputs": [
    {
     "name": "stdout",
     "output_type": "stream",
     "text": [
      "[[ 2  4  2]\n",
      " [-2  1  1]]\n"
     ]
    }
   ],
   "source": [
    "A2T = A2.T\n",
    "print(A2T)"
   ]
  },
  {
   "cell_type": "code",
   "execution_count": 10,
   "metadata": {},
   "outputs": [
    {
     "data": {
      "text/plain": [
       "(list, numpy.ndarray)"
      ]
     },
     "execution_count": 10,
     "metadata": {},
     "output_type": "execute_result"
    }
   ],
   "source": [
    "uu0 = [1,2,3]\n",
    "uu1 = np.array(uu0)\n",
    "type(uu0), type(uu1)"
   ]
  },
  {
   "cell_type": "markdown",
   "metadata": {},
   "source": [
    "Assim, com as variáveis antes definidas, poderíamos, equivalentemente, fazer para ${\\bf A}$:"
   ]
  },
  {
   "cell_type": "code",
   "execution_count": 11,
   "metadata": {},
   "outputs": [
    {
     "name": "stdout",
     "output_type": "stream",
     "text": [
      "[[ 3 -2  1]\n",
      " [-2  4  0]\n",
      " [ 9  0  0]]\n"
     ]
    }
   ],
   "source": [
    "# modo 2: matriz transposta\n",
    "At = np.array([u,v,w]).T \n",
    "print(At)"
   ]
  },
  {
   "cell_type": "markdown",
   "metadata": {},
   "source": [
    "### Teste de igualdade \n",
    "\n",
    "Podemos verificar a igualdade entre matrizes como"
   ]
  },
  {
   "cell_type": "code",
   "execution_count": 12,
   "metadata": {},
   "outputs": [
    {
     "data": {
      "text/plain": [
       "array([[ 1,  2,  3],\n",
       "       [-4,  2,  1],\n",
       "       [ 3,  3,  1]])"
      ]
     },
     "execution_count": 12,
     "metadata": {},
     "output_type": "execute_result"
    }
   ],
   "source": [
    "np.array([np.array([1,2,3]), np.array([-4,2,1]), np.array([3,3,1])])\n",
    "\n"
   ]
  },
  {
   "cell_type": "markdown",
   "metadata": {},
   "source": [
    "No caso de vetores:"
   ]
  },
  {
   "cell_type": "code",
   "execution_count": 13,
   "metadata": {},
   "outputs": [
    {
     "data": {
      "text/plain": [
       "array([ True,  True,  True])"
      ]
     },
     "execution_count": 13,
     "metadata": {},
     "output_type": "execute_result"
    }
   ],
   "source": [
    "# vetor \"linha\" não difere\n",
    "# do vetor \"coluna\"\n",
    "u == u.T "
   ]
  },
  {
   "cell_type": "markdown",
   "metadata": {},
   "source": [
    "## Operações fundamentais\n",
    "\n",
    "Veremos algumas operações fundamentais entre matrizes e vetores e destacar algumas, como as do quadro abaixo.\n",
    "\n",
    "| **Nome em Português**    | **Nome em Inglês**    | **Notações Comuns**              | **Exemplo de Aplicação**                                                                                         |\n",
    "|--------------------------|-----------------------|----------------------------------|------------------------------------------------------------------------------------------------------------------|\n",
    "| Produto escalar ou interno | _scalar (or dot) product_           | $ \\mathbf{u} \\cdot \\mathbf{v} $, $ \\mathbf{u}^T \\mathbf{v} $ | Similaridade entre dois vetores |\n",
    "| Produto tensorial (diádico)        | _tensor (outer) product_ | $ \\mathbf{u} \\otimes \\mathbf{v} $, $\\mathbf{u} \\mathbf{v}$ | Gerar uma matriz a partir de dois vetores |\n",
    "| Produto vetorial         | _cross product_         | $ \\mathbf{u} \\times \\mathbf{v} $ | Calcular a direção perpendicular a dois vetores em 3D |\n",
    "| Produto elemento-a-elemento    | _Hadamard (or Schur) product_      | $ \\mathbf{u} \\circ \\mathbf{v} $, $ \\mathbf{u} \\odot \\mathbf{v} $  | Operações de redes neurais e métodos numéricos    |\n",
    "| Produto escalar          | _Fröbenius inner product_ | $ \\langle A, B \\rangle $ | Produto escalar entre duas matrizes |\n",
    "\n",
    "Notas: \n",
    "- o símbolo $\\otimes$ também é usado para denotar o [produto de Kronecker](https://en.wikipedia.org/wiki/Kronecker_product).\n",
    "- na operação $\\mathbf{u} \\mathbf{v}$, quando originalmente chamada de \"produto externo\", $\\mathbf{u}$ é um vetor coluna e $\\mathbf{v}$ é um vetor linha. No Brasil, o o termo \"produto externo\" é menos frequente e usado como sinônimo de produto vetorial.\n",
    "- na operação $\\mathbf{u}^T \\mathbf{v}$, exibida como outra forma de produto interno, $\\mathbf{u}$ e $\\mathbf{v}$ são vetores coluna.\n",
    "\n",
    "\n",
    "```{admonition} Curiosidade: produto exterior\n",
    ":class: dropdown\n",
    "\n",
    "Na Geometria Diferencial, estuda-se o \"Cálculo Diferencial Exterior\", e lá se define também _outer product_ como \"produto exterior\", o que também é conhecido internacionalmente como _wedge product_, denotado por $\\mathbf{u} \\wedge \\mathbf{v}$, que é uma operação que combina dois vetores para produzir um elemento de ordem superior. Como nesta geometria estudam-se curvas e superfícies, o produto externo é frequentemente usado para definir grandezas como área e volume.\n",
    "```"
   ]
  },
  {
   "cell_type": "markdown",
   "metadata": {},
   "source": [
    "### Adição e subtração\n",
    "\n",
    "A adição (subtração) de matrizes e vetores pode ser realizada de modo usual com computação vetorizada."
   ]
  },
  {
   "cell_type": "markdown",
   "metadata": {},
   "source": [
    "**Exemplo:** $\\vec{u} \\pm \\vec{v}$"
   ]
  },
  {
   "cell_type": "code",
   "execution_count": 14,
   "metadata": {},
   "outputs": [
    {
     "name": "stdout",
     "output_type": "stream",
     "text": [
      "[1 2 9]\n",
      "[ 5 -6  9]\n"
     ]
    }
   ],
   "source": [
    "# adição \n",
    "ad = u + v\n",
    "print(ad)\n",
    "\n",
    "# subtração\n",
    "sub = u - v\n",
    "print(sub)"
   ]
  },
  {
   "cell_type": "markdown",
   "metadata": {},
   "source": [
    "**Exemplo:** $\\bf{A} \\pm \\bf{B}$, com \n",
    "    \n",
    "$${\\bf B} = \n",
    "\\begin{bmatrix}\n",
    "\\vec{u} & 2\\vec{u} & 3\\vec{v} \\\\\n",
    "\\end{bmatrix}$$    "
   ]
  },
  {
   "cell_type": "code",
   "execution_count": 15,
   "metadata": {},
   "outputs": [
    {
     "name": "stdout",
     "output_type": "stream",
     "text": [
      "[[ 6  4 -5]\n",
      " [-4  0 12]\n",
      " [18 18  0]]\n",
      "[[  0  -8   7]\n",
      " [  0   8 -12]\n",
      " [  0 -18   0]]\n"
     ]
    }
   ],
   "source": [
    "# adição\n",
    "\n",
    "B = np.array([u,2*u,3*v]).T\n",
    "\n",
    "ad2 = A + B\n",
    "print(ad2)\n",
    "\n",
    "sub2 = A - B\n",
    "print(sub2)"
   ]
  },
  {
   "cell_type": "markdown",
   "metadata": {},
   "source": [
    "### Produto interno\n",
    "\n",
    "O produto interno $\\langle \\vec{u}, \\vec{v}\\rangle$ é computado com `.dot`:"
   ]
  },
  {
   "cell_type": "code",
   "execution_count": 16,
   "metadata": {},
   "outputs": [
    {
     "name": "stdout",
     "output_type": "stream",
     "text": [
      "-14\n",
      "-4\n"
     ]
    }
   ],
   "source": [
    "pi = np.dot(u,v)\n",
    "print(pi)\n",
    "\n",
    "pi2 = np.dot(np.array([3,1]),np.array([-1,-1]))\n",
    "print(pi2)"
   ]
  },
  {
   "cell_type": "markdown",
   "metadata": {},
   "source": [
    "Uma segunda forma, mais imediata, emprega o operador infixo `@`:"
   ]
  },
  {
   "cell_type": "code",
   "execution_count": 17,
   "metadata": {},
   "outputs": [
    {
     "name": "stdout",
     "output_type": "stream",
     "text": [
      "-14\n",
      "-4\n"
     ]
    }
   ],
   "source": [
    "pii = u @ v\n",
    "print(pii)\n",
    "\n",
    "pii2 = np.array([3,1]) @ np.array([-1,-1])\n",
    "print(pii2)"
   ]
  },
  {
   "cell_type": "markdown",
   "metadata": {},
   "source": [
    "### Norma de vetor\n",
    "\n",
    "A norma $||\\vec{u}||$ de um vetor $\\vec{u}$ é calculada como:"
   ]
  },
  {
   "cell_type": "code",
   "execution_count": 18,
   "metadata": {},
   "outputs": [
    {
     "data": {
      "text/plain": [
       "np.float64(9.695359714832659)"
      ]
     },
     "execution_count": 18,
     "metadata": {},
     "output_type": "execute_result"
    }
   ],
   "source": [
    "np.sqrt(np.dot(u,u))"
   ]
  },
  {
   "cell_type": "markdown",
   "metadata": {},
   "source": [
    "### Produto de matrizes\n",
    "\n",
    "O produto $\\bf{A}\\bf{B}$ entre matrizes bidimensionais pode ser calculado com `np.dot`, mas recomenda-se usar `np.matmul`."
   ]
  },
  {
   "cell_type": "code",
   "execution_count": 19,
   "metadata": {},
   "outputs": [
    {
     "data": {
      "text/plain": [
       "array([[ 22,  44, -42],\n",
       "       [-14, -28,  60],\n",
       "       [ 27,  54, -54]])"
      ]
     },
     "execution_count": 19,
     "metadata": {},
     "output_type": "execute_result"
    }
   ],
   "source": [
    "# não tem o mesmo efeito para \n",
    "# matrizes A e B de tamanhos arbitrários\n",
    "np.dot(A,B)"
   ]
  },
  {
   "cell_type": "code",
   "execution_count": 20,
   "metadata": {},
   "outputs": [
    {
     "data": {
      "text/plain": [
       "array([[ 22,  44, -42],\n",
       "       [-14, -28,  60],\n",
       "       [ 27,  54, -54]])"
      ]
     },
     "execution_count": 20,
     "metadata": {},
     "output_type": "execute_result"
    }
   ],
   "source": [
    "# uso recomendado para a operação tradicional\n",
    "np.matmul(A,B)"
   ]
  },
  {
   "cell_type": "markdown",
   "metadata": {},
   "source": [
    "### Produto entre matriz e vetor\n",
    "\n",
    "Neste caso, sendo ${\\vec{\\vec A}}$ (dois símbolos indicam que a matriz é uma grandeza de ordem 2, ao passo que o vetor é de ordem 1 e aqui usamos para consistência de notação) uma matriz $m \\times n$ e ${\\vec{b}}$ e um vetor $n \\times 1$, respectivamente, o produto $\\vec{\\vec{A}}\\vec{b}$ é dado por:"
   ]
  },
  {
   "cell_type": "code",
   "execution_count": 21,
   "metadata": {},
   "outputs": [
    {
     "data": {
      "text/plain": [
       "array([ 2, 10, 27])"
      ]
     },
     "execution_count": 21,
     "metadata": {},
     "output_type": "execute_result"
    }
   ],
   "source": [
    "b = np.array([3,4,1])\n",
    "\n",
    "np.dot(A,b)"
   ]
  },
  {
   "cell_type": "markdown",
   "metadata": {},
   "source": [
    "## Demais operações com `numpy.linalg`\n",
    "\n",
    "Para outras operações, devemos utilizar o submódulo `numpy.linalg`. Para importá-lo com o _alias_ `lin`, fazemos:"
   ]
  },
  {
   "cell_type": "code",
   "execution_count": 22,
   "metadata": {},
   "outputs": [],
   "source": [
    "import numpy.linalg as lin"
   ]
  },
  {
   "cell_type": "markdown",
   "metadata": {},
   "source": [
    "### Determinante\n",
    "\n",
    "O determinante de ${\\bf A}$ é dado por $\\det({\\bf A})$ e pode ser computado pela função `det`."
   ]
  },
  {
   "cell_type": "code",
   "execution_count": 23,
   "metadata": {},
   "outputs": [
    {
     "name": "stdout",
     "output_type": "stream",
     "text": [
      "-36.0\n"
     ]
    }
   ],
   "source": [
    "# calculando o determinante da matriz\n",
    "det = lin.det(A)\n",
    "print(det)"
   ]
  },
  {
   "cell_type": "markdown",
   "metadata": {},
   "source": [
    "### Inversa de uma matriz\n",
    "\n",
    "A inversa de uma matriz é dada por ${\\bf A}^{-1}$, onde ${\\bf A}{\\bf A}^{-1}={\\bf I}$, e ${\\bf I}$ é a matriz identidade.\n",
    "Para usar esta função, devemos fazer:"
   ]
  },
  {
   "cell_type": "code",
   "execution_count": 24,
   "metadata": {},
   "outputs": [
    {
     "data": {
      "text/plain": [
       "array([[ True, False,  True],\n",
       "       [False, False,  True],\n",
       "       [ True,  True,  True]])"
      ]
     },
     "execution_count": 24,
     "metadata": {},
     "output_type": "execute_result"
    }
   ],
   "source": [
    "B2 = np.array([[1,2,3],\n",
    "              [2,3,4],\n",
    "              [1,2,0]]) \n",
    "\n",
    "B3 = lin.inv(B2)\n",
    "np.matmul(B3,B2) == np.eye(3)"
   ]
  },
  {
   "cell_type": "markdown",
   "metadata": {},
   "source": [
    "### Inversa de matriz\n",
    "\n",
    "A inversa de uma matriz (faça esta operação apenas para matrizes quadradas de pequena dimensão) pode ser encontrada como:"
   ]
  },
  {
   "cell_type": "code",
   "execution_count": 27,
   "metadata": {},
   "outputs": [
    {
     "name": "stdout",
     "output_type": "stream",
     "text": [
      "[[-0.40333333  0.2         0.21333333]\n",
      " [ 0.46333333 -0.2        -0.25333333]\n",
      " [-0.00333333  0.          0.01333333]]\n"
     ]
    }
   ],
   "source": [
    "Ainv = lin.inv(A)\n",
    "print(Ainv)"
   ]
  },
  {
   "cell_type": "markdown",
   "metadata": {},
   "source": [
    "Para realizar uma \"prova real\" da solução do sistema anterior, poderíamos fazer:"
   ]
  },
  {
   "cell_type": "code",
   "execution_count": 28,
   "metadata": {},
   "outputs": [
    {
     "name": "stdout",
     "output_type": "stream",
     "text": [
      "[-3.90666667  5.82666667  0.69333333]\n"
     ]
    }
   ],
   "source": [
    "x2 = np.dot(lin.inv(A), b)\n",
    "print(x2)"
   ]
  },
  {
   "cell_type": "markdown",
   "metadata": {},
   "source": [
    "Note, entretanto que:"
   ]
  },
  {
   "cell_type": "code",
   "execution_count": 29,
   "metadata": {},
   "outputs": [
    {
     "data": {
      "text/plain": [
       "array([False, False,  True])"
      ]
     },
     "execution_count": 29,
     "metadata": {},
     "output_type": "execute_result"
    }
   ],
   "source": [
    "x == x2"
   ]
  },
  {
   "cell_type": "markdown",
   "metadata": {},
   "source": [
    "Isto ocorre devido a erros numéricos. Um teste mais adequado deve computar a norma do vetor \"erro\", dado por ${\\bf e} = \\bf{b} - \\bf{A}\\bf{x}$. A norma pode ser calculada diretamente com:"
   ]
  },
  {
   "cell_type": "code",
   "execution_count": 30,
   "metadata": {},
   "outputs": [
    {
     "data": {
      "text/plain": [
       "np.float64(0.0)"
      ]
     },
     "execution_count": 30,
     "metadata": {},
     "output_type": "execute_result"
    }
   ],
   "source": [
    "e = b - np.dot(A,x)\n",
    "lin.norm(e)"
   ]
  },
  {
   "cell_type": "markdown",
   "metadata": {},
   "source": [
    "Isto é, esperamos que $||{\\bf e}|| \\approx 0$ quando a solução do sistema for exata, a menos de erros numéricos."
   ]
  },
  {
   "cell_type": "markdown",
   "metadata": {},
   "source": [
    "```{warning}\n",
    "Nunca compare dois números reais (`float`) usando igualdade. Ou seja, `x == y`, não é, em geral, um bom teste lógico para verificar se `x` e `y` possuem o mesmo valor numérico.\n",
    "```"
   ]
  },
  {
   "cell_type": "markdown",
   "metadata": {},
   "source": [
    "## Algumas matrizes especiais"
   ]
  },
  {
   "cell_type": "markdown",
   "metadata": {},
   "source": [
    "### Nula\n",
    "\n",
    "Para criar uma matriz nula de ordem _m x n_, usamos `zeros`."
   ]
  },
  {
   "cell_type": "code",
   "execution_count": 31,
   "metadata": {},
   "outputs": [
    {
     "data": {
      "text/plain": [
       "array([[0., 0., 0., 0., 0., 0.],\n",
       "       [0., 0., 0., 0., 0., 0.]])"
      ]
     },
     "execution_count": 31,
     "metadata": {},
     "output_type": "execute_result"
    }
   ],
   "source": [
    "m,n = 2,6\n",
    "np.zeros((m,n))"
   ]
  },
  {
   "cell_type": "markdown",
   "metadata": {},
   "source": [
    "### Identidade\n",
    "\n",
    "Uma matriz identidade (quadrada) de ordem _p_ é criada com `eye`."
   ]
  },
  {
   "cell_type": "code",
   "execution_count": 32,
   "metadata": {},
   "outputs": [
    {
     "data": {
      "text/plain": [
       "array([[1., 0., 0., 0.],\n",
       "       [0., 1., 0., 0.],\n",
       "       [0., 0., 1., 0.],\n",
       "       [0., 0., 0., 1.]])"
      ]
     },
     "execution_count": 32,
     "metadata": {},
     "output_type": "execute_result"
    }
   ],
   "source": [
    "p = 4\n",
    "np.eye(p)"
   ]
  },
  {
   "cell_type": "markdown",
   "metadata": {},
   "source": [
    "### Matriz de \"uns\"\n",
    "\n",
    "Uma matriz composta apenas de valores 1 de ordem _m x n_ pode ser criada com `ones`:"
   ]
  },
  {
   "cell_type": "code",
   "execution_count": 33,
   "metadata": {},
   "outputs": [
    {
     "data": {
      "text/plain": [
       "array([[1., 1., 1., 1., 1.],\n",
       "       [1., 1., 1., 1., 1.],\n",
       "       [1., 1., 1., 1., 1.]])"
      ]
     },
     "execution_count": 33,
     "metadata": {},
     "output_type": "execute_result"
    }
   ],
   "source": [
    "np.ones((3,5))\n"
   ]
  },
  {
   "cell_type": "markdown",
   "metadata": {},
   "source": [
    "### Triangular inferior\n",
    "\n",
    "A matriz triangular inferior de uma dada matriz pode ser criada com `tril`. Note que podemos também defini-la explicitamente, linha a linha."
   ]
  },
  {
   "cell_type": "code",
   "execution_count": 34,
   "metadata": {},
   "outputs": [
    {
     "data": {
      "text/plain": [
       "array([[ 3,  0,  0],\n",
       "       [-2, -4,  0],\n",
       "       [ 9, 18,  0]])"
      ]
     },
     "execution_count": 34,
     "metadata": {},
     "output_type": "execute_result"
    }
   ],
   "source": [
    "# os valores correspondentes\n",
    "# são zerados\n",
    "np.tril(B)"
   ]
  },
  {
   "cell_type": "markdown",
   "metadata": {},
   "source": [
    "### Triangular superior\n",
    "\n",
    "A matriz triangular superior de uma dada matriz pode ser criada com `triu`. Note que podemos também defini-la explicitamente, linha a linha."
   ]
  },
  {
   "cell_type": "code",
   "execution_count": 35,
   "metadata": {},
   "outputs": [
    {
     "data": {
      "text/plain": [
       "array([[ 3,  6, -6],\n",
       "       [ 0, -4, 12],\n",
       "       [ 0,  0,  0]])"
      ]
     },
     "execution_count": 35,
     "metadata": {},
     "output_type": "execute_result"
    }
   ],
   "source": [
    "np.triu(B)"
   ]
  },
  {
   "cell_type": "markdown",
   "metadata": {},
   "source": [
    "**Exercício.** Por que há dois valores `False` no teste a seguir? "
   ]
  },
  {
   "cell_type": "code",
   "execution_count": 36,
   "metadata": {},
   "outputs": [
    {
     "data": {
      "text/plain": [
       "array([[False,  True,  True],\n",
       "       [ True, False,  True],\n",
       "       [ True,  True,  True]])"
      ]
     },
     "execution_count": 36,
     "metadata": {},
     "output_type": "execute_result"
    }
   ],
   "source": [
    "B == np.tril(B) + np.triu(B)"
   ]
  },
  {
   "cell_type": "markdown",
   "metadata": {},
   "source": [
    "## Autovalores e autovetores\n",
    "\n",
    "Um vetor ${\\bf v} \\in V$, ${\\bf v} \\neq {\\bf 0}$ é vetor próprio de ${\\bf A}$ se existir $\\lambda \\in \\mathbb{R}$ tal que \n",
    "\n",
    "$${\\bf Av}=\\lambda {\\bf v}.$$\n",
    "\n",
    "O número real $\\lambda$ é denominado valor próprio (autovalor) de ${\\bf A}$ associado ao vetor próprio (autovetor) ${\\bf v}$."
   ]
  },
  {
   "cell_type": "code",
   "execution_count": 37,
   "metadata": {},
   "outputs": [
    {
     "name": "stdout",
     "output_type": "stream",
     "text": [
      "2.1400549446402586 -5.1400549446402595\n",
      "[0.99033427 0.13870121]\n",
      "[-0.13870121  0.99033427]\n"
     ]
    }
   ],
   "source": [
    "A = np.array([[2,1],\n",
    "              [1,-5]])\n",
    "\n",
    "w, v = lin.eig(A)\n",
    "a,b = w\n",
    "\n",
    "# autovalores\n",
    "print(a,b)\n",
    "\n",
    "# autovetor 1\n",
    "print(v[:,0])\n",
    "\n",
    "# autovetor 2\n",
    "print(v[:,1])"
   ]
  },
  {
   "cell_type": "markdown",
   "metadata": {},
   "source": [
    "## Somas e valores extremos \n",
    "\n",
    "Podemos calcular somas de elementos de matrizes e vetores de maneiras diferentes. Para matrizes, em particular, há soma total, por linha, ou por coluna. "
   ]
  },
  {
   "cell_type": "code",
   "execution_count": 38,
   "metadata": {},
   "outputs": [
    {
     "data": {
      "text/plain": [
       "np.int64(6)"
      ]
     },
     "execution_count": 38,
     "metadata": {},
     "output_type": "execute_result"
    }
   ],
   "source": [
    "a = np.array([1,-2,-3,10])\n",
    "\n",
    "# soma de todos os elementos \n",
    "np.sum(a)"
   ]
  },
  {
   "cell_type": "code",
   "execution_count": 39,
   "metadata": {},
   "outputs": [
    {
     "data": {
      "text/plain": [
       "np.int64(6)"
      ]
     },
     "execution_count": 39,
     "metadata": {},
     "output_type": "execute_result"
    }
   ],
   "source": [
    "# modo alternativo\n",
    "a.sum() "
   ]
  },
  {
   "cell_type": "code",
   "execution_count": 40,
   "metadata": {},
   "outputs": [
    {
     "data": {
      "text/plain": [
       "np.float64(15.0)"
      ]
     },
     "execution_count": 40,
     "metadata": {},
     "output_type": "execute_result"
    }
   ],
   "source": [
    "# soma total de matriz\n",
    "O = np.ones((5,3))\n",
    "\n",
    "np.sum(O)"
   ]
  },
  {
   "cell_type": "code",
   "execution_count": 41,
   "metadata": {},
   "outputs": [
    {
     "data": {
      "text/plain": [
       "np.float64(15.0)"
      ]
     },
     "execution_count": 41,
     "metadata": {},
     "output_type": "execute_result"
    }
   ],
   "source": [
    "# modo alternativo\n",
    "O.sum()"
   ]
  },
  {
   "cell_type": "code",
   "execution_count": 42,
   "metadata": {},
   "outputs": [
    {
     "data": {
      "text/plain": [
       "array([[[-1,  1],\n",
       "        [-1,  1]]])"
      ]
     },
     "execution_count": 42,
     "metadata": {},
     "output_type": "execute_result"
    }
   ],
   "source": [
    "# soma por linha \n",
    "\n",
    "M = np.array( [ [ [ [-1,0],[1,0] ], [ [-1,0],[1,0] ]] ])\n",
    "\n",
    "np.sum(M,axis=3)\n",
    "\n"
   ]
  },
  {
   "cell_type": "code",
   "execution_count": 43,
   "metadata": {},
   "outputs": [
    {
     "data": {
      "text/plain": [
       "array([3., 3., 3., 3., 3.])"
      ]
     },
     "execution_count": 43,
     "metadata": {},
     "output_type": "execute_result"
    }
   ],
   "source": [
    "# soma por coluna \n",
    "np.sum(O,axis=1)"
   ]
  },
  {
   "cell_type": "markdown",
   "metadata": {},
   "source": [
    "Valores máximos e mínimos, absolutos ou não, também podem ser computados com funções simples."
   ]
  },
  {
   "cell_type": "code",
   "execution_count": 44,
   "metadata": {},
   "outputs": [
    {
     "data": {
      "text/plain": [
       "np.int64(-3)"
      ]
     },
     "execution_count": 44,
     "metadata": {},
     "output_type": "execute_result"
    }
   ],
   "source": [
    "# min\n",
    "np.min(a)"
   ]
  },
  {
   "cell_type": "code",
   "execution_count": 45,
   "metadata": {},
   "outputs": [
    {
     "data": {
      "text/plain": [
       "np.int64(10)"
      ]
     },
     "execution_count": 45,
     "metadata": {},
     "output_type": "execute_result"
    }
   ],
   "source": [
    "# max\n",
    "np.max(a)"
   ]
  },
  {
   "cell_type": "code",
   "execution_count": 46,
   "metadata": {},
   "outputs": [
    {
     "data": {
      "text/plain": [
       "np.int64(-3)"
      ]
     },
     "execution_count": 46,
     "metadata": {},
     "output_type": "execute_result"
    }
   ],
   "source": [
    "# modo alternativo\n",
    "a.min()"
   ]
  },
  {
   "cell_type": "code",
   "execution_count": 47,
   "metadata": {},
   "outputs": [
    {
     "data": {
      "text/plain": [
       "np.int64(10)"
      ]
     },
     "execution_count": 47,
     "metadata": {},
     "output_type": "execute_result"
    }
   ],
   "source": [
    "a.max()"
   ]
  },
  {
   "cell_type": "code",
   "execution_count": 48,
   "metadata": {},
   "outputs": [
    {
     "data": {
      "text/plain": [
       "np.int64(1)"
      ]
     },
     "execution_count": 48,
     "metadata": {},
     "output_type": "execute_result"
    }
   ],
   "source": [
    "# mínimo absoluto \n",
    "np.abs(a).min()"
   ]
  },
  {
   "cell_type": "code",
   "execution_count": 49,
   "metadata": {},
   "outputs": [
    {
     "data": {
      "text/plain": [
       "np.int64(10)"
      ]
     },
     "execution_count": 49,
     "metadata": {},
     "output_type": "execute_result"
    }
   ],
   "source": [
    "# máximo absoluto\n",
    "np.abs(a).max()"
   ]
  },
  {
   "cell_type": "code",
   "execution_count": 50,
   "metadata": {},
   "outputs": [
    {
     "data": {
      "text/plain": [
       "np.int64(-4)"
      ]
     },
     "execution_count": 50,
     "metadata": {},
     "output_type": "execute_result"
    }
   ],
   "source": [
    "O2 = np.array([[-4,5],[2,7]])\n",
    "\n",
    "# min\n",
    "np.min(O2)"
   ]
  },
  {
   "cell_type": "code",
   "execution_count": 51,
   "metadata": {},
   "outputs": [
    {
     "data": {
      "text/plain": [
       "np.int64(7)"
      ]
     },
     "execution_count": 51,
     "metadata": {},
     "output_type": "execute_result"
    }
   ],
   "source": [
    "# max \n",
    "np.max(O2)"
   ]
  },
  {
   "cell_type": "code",
   "execution_count": 52,
   "metadata": {},
   "outputs": [
    {
     "data": {
      "text/plain": [
       "np.int64(-4)"
      ]
     },
     "execution_count": 52,
     "metadata": {},
     "output_type": "execute_result"
    }
   ],
   "source": [
    "O2.min()"
   ]
  },
  {
   "cell_type": "code",
   "execution_count": 53,
   "metadata": {},
   "outputs": [
    {
     "data": {
      "text/plain": [
       "np.int64(7)"
      ]
     },
     "execution_count": 53,
     "metadata": {},
     "output_type": "execute_result"
    }
   ],
   "source": [
    "O2.max()"
   ]
  },
  {
   "cell_type": "code",
   "execution_count": 54,
   "metadata": {},
   "outputs": [
    {
     "data": {
      "text/plain": [
       "np.int64(2)"
      ]
     },
     "execution_count": 54,
     "metadata": {},
     "output_type": "execute_result"
    }
   ],
   "source": [
    "np.abs(O2).min()"
   ]
  },
  {
   "cell_type": "code",
   "execution_count": 55,
   "metadata": {},
   "outputs": [
    {
     "data": {
      "text/plain": [
       "np.int64(7)"
      ]
     },
     "execution_count": 55,
     "metadata": {},
     "output_type": "execute_result"
    }
   ],
   "source": [
    "np.abs(O2).max()"
   ]
  },
  {
   "cell_type": "code",
   "execution_count": 56,
   "metadata": {
    "tags": [
     "remove-input"
    ]
   },
   "outputs": [],
   "source": [
    "plt.rcdefaults()"
   ]
  },
  {
   "cell_type": "code",
   "execution_count": 57,
   "metadata": {},
   "outputs": [
    {
     "data": {
      "text/plain": [
       "array([ 0, -2, -3])"
      ]
     },
     "execution_count": 57,
     "metadata": {},
     "output_type": "execute_result"
    }
   ],
   "source": [
    "np.min( np.array([[1,-2,-3], [0,0,4]]), axis=0)"
   ]
  }
 ],
 "metadata": {
  "kernelspec": {
   "display_name": "LVMN",
   "language": "python",
   "name": "python3"
  },
  "language_info": {
   "codemirror_mode": {
    "name": "ipython",
    "version": 3
   },
   "file_extension": ".py",
   "mimetype": "text/x-python",
   "name": "python",
   "nbconvert_exporter": "python",
   "pygments_lexer": "ipython3",
   "version": "3.13.2"
  }
 },
 "nbformat": 4,
 "nbformat_minor": 4
}
