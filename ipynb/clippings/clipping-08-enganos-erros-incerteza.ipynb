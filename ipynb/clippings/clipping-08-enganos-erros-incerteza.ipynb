{
 "cells": [
  {
   "cell_type": "markdown",
   "metadata": {},
   "source": [
    "# Recorte 8: Enganos, erros de formulação e incerteza nos dados\n",
    "\n",
    "## Enganos \n",
    "\n",
    "Na época em que os computadores nasceram, enganos eram uma fonte de erro aceitável em computações pela simples razão do mau funcionamento da máquina. Em nossos tempos modernos, esta fonte de erro praticamente desapareceu, de modo que, cometer enganos passou a ser uma deficiência puramente da imperfeição humana.\n",
    "\n",
    "Enganos podem ser cometidos em todas as fases da modelagem de um problema e são inevitáveis. Idealmente, o profundo conhecimento teórico e prático das técnicas aplicadas contribui para que enganos sejam evitados. Outras maneiras pelas quais eles podem ser minimizados ao se aplicar métodos numéricos são: _usar uma boa prática de programação_ e _técnicas de verificação_, tais como a _depuração de códigos_.\n",
    "\n",
    "## Erros de formulação\n",
    "\n",
    "Relacionam-se com a incompletude de modelos. Ou seja, destacam-se quando o tratamento de um problmea é feito de modo deficiente, precário ou indevido. Por exemplo, modelar o desempenho aerodinâmico de um veículo que se movimentará em grandes velocidades na tentativa de buscar uma forma ótima usando equações  que desprezam o arrasto é um erro de formulação. Evidentemente, o equacionamento nestas condições produzirá resultados imprecisos e contestáveis.\n",
    "\n",
    "## Incerteza nos dados\n",
    "\n",
    "Incertezas são provenientes de medições experimentais. Em geral, ao se fazer um experimento repetidas vezes, os dados coletados a cada execução podem diferir. Por esta razão, diversas estatísticas, tais como o cálculo de médias, desvio-padrão, coeficientes de correlação, são usadas para analisar se os dados mantêm-se acurados e precisos ou se dispersam em vieses. Atualmente, a _quantificação de incertezas_ tem se ampliado como uma área de estudos focada em  trazer mais confiabilidade a modelosdesenvolvidos experimentalmente.\n",
    "\n",
    "## O caminho ideal a percorrer... \n",
    "\n",
    "Independentemente dessas fontes de erro, devemos buscar ser cautelosos e prudentes com nossos modelos e cálculos, para que evitemos \"grosserias\" computacionais e sejamos capazes de criar modelos seguros e confiáveis."
   ]
  }
 ],
 "metadata": {
  "ipub": {
   "listcode": false,
   "listfigures": false,
   "listtables": false,
   "titlepage": {
    "author": "Prof. Gustavo Oliveira",
    "email": "gustavo.oliveira@ci.ufpb.br",
    "institution": [
     "Universidade Federal da Paraíba"
    ],
    "tagline": "Cálculo Numérico (clippings).",
    "title": "Enganos, erros e incerteza"
   },
   "toc": false
  },
  "kernelspec": {
   "display_name": "Python 3",
   "language": "python",
   "name": "python3"
  },
  "language_info": {
   "codemirror_mode": {
    "name": "ipython",
    "version": 3
   },
   "file_extension": ".py",
   "mimetype": "text/x-python",
   "name": "python",
   "nbconvert_exporter": "python",
   "pygments_lexer": "ipython3",
   "version": "3.6.4"
  }
 },
 "nbformat": 4,
 "nbformat_minor": 2
}
