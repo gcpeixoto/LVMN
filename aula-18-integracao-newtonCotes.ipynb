{
 "cells": [
  {
   "cell_type": "markdown",
   "metadata": {},
   "source": [
    "# Integração numérica: regras de Newton-Cotes"
   ]
  },
  {
   "cell_type": "code",
   "execution_count": 1,
   "metadata": {},
   "outputs": [],
   "source": [
    "%matplotlib inline\n",
    "import numpy as np\n",
    "import matplotlib.pyplot as plt\n",
    "import sympy as sy\n",
    "import scipy as sp\n",
    "from scipy import integrate"
   ]
  },
  {
   "cell_type": "code",
   "execution_count": 2,
   "metadata": {},
   "outputs": [],
   "source": [
    "## Implementações de Newton-Cotes: regra do trapézio e 1/3 Simpson generalizadas"
   ]
  },
  {
   "cell_type": "code",
   "execution_count": 3,
   "metadata": {},
   "outputs": [
    {
     "name": "stdout",
     "output_type": "stream",
     "text": [
      "Ingegral exata (simbólica): -9700*log(114000) + 9700*log(122649)\n",
      "Integral exata (numérica): 709.3432392521672\n",
      "*** Método de integração: TRAPEZIO ***\n",
      "no. de pontos de integração = 11 \t I = 644.6326388025 \t EREL = 9.1226076276%\n",
      "no. de pontos de integração = 101 \t I = 702.3175905243 \t EREL = 0.9904441657%\n",
      "no. de pontos de integração = 1001 \t I = 708.6345799441 \t EREL = 0.0999035825%\n",
      "no. de pontos de integração = 10001 \t I = 709.2723117737 \t EREL = 0.0099990350%\n",
      "no. de pontos de integração = 100001 \t I = 709.3361458882 \t EREL = 0.0009999903%\n",
      "*** Método de integração: 13SIMPSON ***\n",
      "no. de pontos de integração = 11 \t I = 644.8576901994 \t EREL = 9.0908809000%\n",
      "no. de pontos de integração = 101 \t I = 702.3200388852 \t EREL = 0.9900990068%\n",
      "no. de pontos de integração = 1001 \t I = 708.6346046475 \t EREL = 0.0999000999%\n",
      "no. de pontos de integração = 10001 \t I = 709.2723120210 \t EREL = 0.0099990001%\n",
      "no. de pontos de integração = 100001 \t I = 709.3361458907 \t EREL = 0.0009999900%\n"
     ]
    }
   ],
   "source": [
    "''' Newton-Cotes: Regra do Trapezio\n",
    "    assume Y igualmente espaçado e \n",
    "    com pelo menos 2 pontos \n",
    "'''\n",
    "def integral_trapezio(h,Y):\n",
    "    val = 0.0\n",
    "    for i in range(1,Y.size-1):\n",
    "        val += 2*Y[i]\n",
    "    val = 0.5*h*( val + Y[0] + Y[-1] )\n",
    "    return val\n",
    "\n",
    "''' Newton-Cotes: Regra 1/3 de Simpson\n",
    "    assume Y igualmente espaçado e \n",
    "    com pelo menos 3 pontos \n",
    "'''\n",
    "def integral_onethird_simpson(h,Y):\n",
    "    val = 0.0\n",
    "    for i in range(1,Y.size-1,2):\n",
    "        val += 4*Y[i]\n",
    "    \n",
    "    for i in range(2,Y.size-2,2):\n",
    "        val += 2*Y[i]        \n",
    "    \n",
    "    val = h/3.0*( val + Y[0] + Y[-1] )\n",
    "    return val\n",
    "\n",
    "''' HELPER''' \n",
    "def print_metodo(flag):            \n",
    "    print('*** Método de integração: ' + str.upper(flag) + ' ***')\n",
    "\n",
    "# limites de integração\n",
    "a = 0\n",
    "b = 93\n",
    "\n",
    "# integrando \n",
    "f = lambda v: 97000*v/(5*v**2 + 570000)\n",
    "\n",
    "# pontos de integração (ímpares para testar com 1/3 simpson)\n",
    "npi = [11,101,1001,10001,100001]\n",
    "\n",
    "# integral exata\n",
    "x = sy.Symbol('x')\n",
    "vex = sy.integrate(f(x),(x,a,b))\n",
    "print('Ingegral exata (simbólica): ' + str(vex))\n",
    "vex = float(vex)\n",
    "print('Integral exata (numérica): ' + str(vex))\n",
    "\n",
    "metodos = ['trapezio','13simpson']\n",
    "no = False\n",
    "\n",
    "# integração numérica\n",
    "for metodo in metodos:\n",
    "    I = []\n",
    "    EREL = []\n",
    "    for n in npi:\n",
    "        v = np.linspace(a,b,num=n,endpoint=True)\n",
    "        fv = f(v)\n",
    "        h = (b-a)/n    \n",
    "                \n",
    "        if metodo == 'trapezio':\n",
    "            if no == False:\n",
    "                print_metodo(metodo)\n",
    "                no = True            \n",
    "            val = integral_trapezio(h,fv)\n",
    "            erel = abs((vex - val)/vex)*100\n",
    "            I.append(val)\n",
    "            EREL.append(erel)\n",
    "            print(\"no. de pontos de integração = {0:d} \\t I = {1:.10f} \\t EREL = {2:.10f}%\".format(n,val,erel) )\n",
    "\n",
    "        elif metodo == '13simpson':\n",
    "            if no == False:\n",
    "                print_metodo(metodo)\n",
    "                no = True\n",
    "            val = integral_onethird_simpson(h,fv)\n",
    "            erel = abs((vex - val)/vex)*100\n",
    "            I.append(val)\n",
    "            EREL.append(erel)        \n",
    "            print(\"no. de pontos de integração = {0:d} \\t I = {1:.10f} \\t EREL = {2:.10f}%\".format(n,val,erel) )\n",
    "    \n",
    "    no = False\n"
   ]
  },
  {
   "cell_type": "markdown",
   "metadata": {},
   "source": [
    "### Tarefa\n",
    "Implemente uma função para realizar a integração numérica pela regra 3/8 de Simpson, use-a para calcular o valor de \n",
    "\n",
    "$$\\int_{a=3}^{b=93} \\frac{97000*v}{(5*v**2 + 570000)} \\, dx$$ \n",
    "\n",
    "e compare o resultado com os obtidos pelas anteriores."
   ]
  },
  {
   "cell_type": "markdown",
   "metadata": {},
   "source": [
    "## Integração simbólica \n",
    "\n",
    "Vamos ver alguns exemplos de integração simbólica. Para termos uma impressão mais elegante de expressões, antes usamos a seguinte instrução:"
   ]
  },
  {
   "cell_type": "code",
   "execution_count": 4,
   "metadata": {},
   "outputs": [],
   "source": [
    "sy.init_printing()"
   ]
  },
  {
   "cell_type": "markdown",
   "metadata": {},
   "source": [
    "### Regra quadratura de Simpson\n",
    "\n",
    "Vamos usar símbolos para chegar à expressão da regra de quadratura de Simpson."
   ]
  },
  {
   "cell_type": "code",
   "execution_count": 5,
   "metadata": {},
   "outputs": [],
   "source": [
    "a,b,X = sy.symbols(\"a, b, x\")\n",
    "f = sy.Function(\"f\")"
   ]
  },
  {
   "cell_type": "markdown",
   "metadata": {},
   "source": [
    "Definimos tuplas para os pontos de amostra e pesos."
   ]
  },
  {
   "cell_type": "code",
   "execution_count": 6,
   "metadata": {},
   "outputs": [],
   "source": [
    "x = a, (a + b)/2, b # ponto médio \n",
    "w = [sy.symbols(\"w_%d\" % i) for i in range(len(x))] # pesos "
   ]
  },
  {
   "cell_type": "code",
   "execution_count": 7,
   "metadata": {},
   "outputs": [
    {
     "data": {
      "image/png": "[encoded data removed]",
      "text/latex": [
       "$\\displaystyle w_{0} f{\\left(a \\right)} + w_{1} f{\\left(\\frac{a}{2} + \\frac{b}{2} \\right)} + w_{2} f{\\left(b \\right)}$"
      ],
      "text/plain": [
       "              ⎛a   b⎞          \n",
       "w₀⋅f(a) + w₁⋅f⎜─ + ─⎟ + w₂⋅f(b)\n",
       "              ⎝2   2⎠          "
      ]
     },
     "execution_count": 7,
     "metadata": {},
     "output_type": "execute_result"
    }
   ],
   "source": [
    "q = sum([w[i] * f(x[i]) for i in range(len(x))])\n",
    "q"
   ]
  },
  {
   "cell_type": "markdown",
   "metadata": {},
   "source": [
    "Para calcular valores aproximados dos pesos $w_i$, escolhemos a base polinomial \n",
    "\n",
    "$$\\{ \\phi_n(x) = x^n \\}_{n=0}^2$$\n",
    "\n",
    "para a interpolação de $f(x)$ e um objeto simbólico para representar cada uma dessas funções."
   ]
  },
  {
   "cell_type": "code",
   "execution_count": 8,
   "metadata": {},
   "outputs": [
    {
     "data": {
      "image/png": "[encoded data removed]",
      "text/latex": [
       "$\\displaystyle \\left[ \\left( x \\mapsto 1 \\right), \\  \\left( x \\mapsto x \\right), \\  \\left( x \\mapsto x^{2} \\right)\\right]$"
      ],
      "text/plain": [
       "⎡                   2⎤\n",
       "⎣x ↦ 1, x ↦ x, x ↦ x ⎦"
      ]
     },
     "execution_count": 8,
     "metadata": {},
     "output_type": "execute_result"
    }
   ],
   "source": [
    "phi = [sy.Lambda(X, X**n) for n in range(len(x))]\n",
    "phi"
   ]
  },
  {
   "cell_type": "markdown",
   "metadata": {},
   "source": [
    "Agora temos que descobrir os valores dos pesos. A integral $\\int_a^b \\phi_n(x) \\, dx$ pode ser calculada analiticamente para cada função de base. Isto nos ajuda a resolver o seguinte sistema:\n",
    "\n",
    "$$\\sum\\limits_{i=0}^2 w_i \\phi_n(x_i) = \\int_a^b \\phi_n(x) \\, dx$$"
   ]
  },
  {
   "cell_type": "markdown",
   "metadata": {},
   "source": [
    "O sistema pode ser construído no `sympy` da seguinte forma: "
   ]
  },
  {
   "cell_type": "code",
   "execution_count": 9,
   "metadata": {},
   "outputs": [
    {
     "data": {
      "image/png": "[encoded data removed]",
      "text/latex": [
       "$\\displaystyle \\left[ a - b + w_{0} + w_{1} + w_{2}, \\  \\frac{a^{2}}{2} + a w_{0} - \\frac{b^{2}}{2} + b w_{2} + w_{1} \\left(\\frac{a}{2} + \\frac{b}{2}\\right), \\  \\frac{a^{3}}{3} + a^{2} w_{0} - \\frac{b^{3}}{3} + b^{2} w_{2} + w_{1} \\left(\\frac{a}{2} + \\frac{b}{2}\\right)^{2}\\right]$"
      ],
      "text/plain": [
       "⎡                       2           2                       3            3    \n",
       "⎢                      a           b              ⎛a   b⎞  a     2      b     \n",
       "⎢a - b + w₀ + w₁ + w₂, ── + a⋅w₀ - ── + b⋅w₂ + w₁⋅⎜─ + ─⎟, ── + a ⋅w₀ - ── + b\n",
       "⎣                      2           2              ⎝2   2⎠  3            3     \n",
       "\n",
       "                 2⎤\n",
       "2         ⎛a   b⎞ ⎥\n",
       " ⋅w₂ + w₁⋅⎜─ + ─⎟ ⎥\n",
       "          ⎝2   2⎠ ⎦"
      ]
     },
     "execution_count": 9,
     "metadata": {},
     "output_type": "execute_result"
    }
   ],
   "source": [
    "eqs = [q.subs(f, phi[n]) - sy.integrate(phi[n](X), (X, a, b)) for n in range(len(phi))]\n",
    "eqs"
   ]
  },
  {
   "cell_type": "markdown",
   "metadata": {},
   "source": [
    "Em seguida, resolvemos o sistema para obter as expressões analíticas para os pesos:  "
   ]
  },
  {
   "cell_type": "code",
   "execution_count": 10,
   "metadata": {},
   "outputs": [
    {
     "data": {
      "image/png": "[encoded data removed]",
      "text/latex": [
       "$\\displaystyle \\left\\{ w_{0} : - \\frac{a}{6} + \\frac{b}{6}, \\  w_{1} : - \\frac{2 a}{3} + \\frac{2 b}{3}, \\  w_{2} : - \\frac{a}{6} + \\frac{b}{6}\\right\\}$"
      ],
      "text/plain": [
       "⎧      a   b        2⋅a   2⋅b        a   b⎫\n",
       "⎨w₀: - ─ + ─, w₁: - ─── + ───, w₂: - ─ + ─⎬\n",
       "⎩      6   6         3     3         6   6⎭"
      ]
     },
     "execution_count": 10,
     "metadata": {},
     "output_type": "execute_result"
    }
   ],
   "source": [
    "w_sol = sy.solve(eqs,w)\n",
    "w_sol"
   ]
  },
  {
   "cell_type": "markdown",
   "metadata": {},
   "source": [
    "Substituindo a solução na expressão simbólica para a regra de quadratura:"
   ]
  },
  {
   "cell_type": "code",
   "execution_count": 11,
   "metadata": {},
   "outputs": [
    {
     "data": {
      "image/png": "[encoded data removed]",
      "text/latex": [
       "$\\displaystyle - \\frac{\\left(a - b\\right) \\left(f{\\left(a \\right)} + f{\\left(b \\right)} + 4 f{\\left(\\frac{a}{2} + \\frac{b}{2} \\right)}\\right)}{6}$"
      ],
      "text/plain": [
       "         ⎛                 ⎛a   b⎞⎞ \n",
       "-(a - b)⋅⎜f(a) + f(b) + 4⋅f⎜─ + ─⎟⎟ \n",
       "         ⎝                 ⎝2   2⎠⎠ \n",
       "────────────────────────────────────\n",
       "                 6                  "
      ]
     },
     "execution_count": 11,
     "metadata": {},
     "output_type": "execute_result"
    }
   ],
   "source": [
    "q.subs(w_sol).simplify()"
   ]
  },
  {
   "cell_type": "markdown",
   "metadata": {},
   "source": [
    "Podemos verificar no material que esta é, de fato, a expressão para a regra de quadratura de Simpson."
   ]
  },
  {
   "cell_type": "markdown",
   "metadata": {},
   "source": [
    "## Integração múltipla\n",
    "\n",
    "A integração em 2 ou mais variáveis pode ser feita usando as funções `dblquad`, `tplquad` e `nquad`, onde o número de funções e de limites de integração deve se adequar ao tipo de integral.\n",
    "\n",
    "Abaixo, temos alguns exemplos: "
   ]
  },
  {
   "cell_type": "markdown",
   "metadata": {},
   "source": [
    "#### Integração dupla\n",
    "\n",
    "Neste exemplo, integramos \n",
    "$$\\int_0^1\\int_0^1 e^{-x^2 - y^2} \\, dx dy$$"
   ]
  },
  {
   "cell_type": "code",
   "execution_count": 12,
   "metadata": {},
   "outputs": [
    {
     "data": {
      "image/png": "[encoded data removed]",
      "text/latex": [
       "$\\displaystyle \\left( 0.5577462853510337, \\  8.291374381535408e-15\\right)$"
      ],
      "text/plain": [
       "(0.5577462853510337, 8.291374381535408e-15)"
      ]
     },
     "execution_count": 12,
     "metadata": {},
     "output_type": "execute_result"
    }
   ],
   "source": [
    "integrate.dblquad(lambda x, y: np.exp(-x**2-y**2), 0, 1, lambda x: 0, lambda x: 1)"
   ]
  },
  {
   "cell_type": "markdown",
   "metadata": {},
   "source": [
    "#### Integração tripla\n",
    "\n",
    "Neste exemplo, integramos \n",
    "$$\\int_0^1\\int_0^1\\int_0^1 e^{-x^2 - y^2 - z^2} \\, dx dy dz$$"
   ]
  },
  {
   "cell_type": "code",
   "execution_count": 13,
   "metadata": {},
   "outputs": [
    {
     "data": {
      "image/png": "[encoded data removed]",
      "text/latex": [
       "$\\displaystyle \\left( 0.4165383858866382, \\  8.291335287314424e-15\\right)$"
      ],
      "text/plain": [
       "(0.4165383858866382, 8.291335287314424e-15)"
      ]
     },
     "execution_count": 13,
     "metadata": {},
     "output_type": "execute_result"
    }
   ],
   "source": [
    "def f(x, y, z): \n",
    "    return np.exp(-x**2-y**2-z**2) \n",
    "\n",
    "a, b = 0, 1\n",
    "g, h = lambda x: 0, lambda x: 1\n",
    "q, r = lambda x, y: 0, lambda x, y: 1\n",
    "integrate.tplquad(f, 0, 1, g, h, q, r) "
   ]
  },
  {
   "cell_type": "code",
   "execution_count": 14,
   "metadata": {},
   "outputs": [],
   "source": [
    "from IPython.core.display import HTML\n",
    "\n",
    "def css_styling():\n",
    "    styles = open(\"styles/custom.css\", \"r\").read()\n",
    "    return HTML(styles)\n",
    "css_styling();"
   ]
  }
 ],
 "metadata": {
  "kernelspec": {
   "display_name": "Python 3",
   "language": "python",
   "name": "python3"
  },
  "language_info": {
   "codemirror_mode": {
    "name": "ipython",
    "version": 3
   },
   "file_extension": ".py",
   "mimetype": "text/x-python",
   "name": "python",
   "nbconvert_exporter": "python",
   "pygments_lexer": "ipython3",
   "version": "3.7.4"
  }
 },
 "nbformat": 4,
 "nbformat_minor": 4
}
