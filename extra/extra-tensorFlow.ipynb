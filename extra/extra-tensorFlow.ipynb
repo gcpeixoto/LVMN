{
 "cells": [
  {
   "cell_type": "code",
   "execution_count": 2,
   "metadata": {},
   "outputs": [],
   "source": [
    "import tensorflow as tf"
   ]
  },
  {
   "attachments": {},
   "cell_type": "markdown",
   "metadata": {},
   "source": [
    "## _Tensorflow_ e _numpy_\n",
    "\n",
    "- Ambas as bibliotecas compartilham similaridades. \n",
    "- _numpy_ serve para computação numérica genérica.\n",
    "- _tensorflow_ é especificamente projetado para aplicações de aprendizagem de máquina, mas também pode ser usado para computação numérica.\n",
    "- _tensorflow_ possui algumas características adicionais não encontradas no_numpy_:\n",
    "    - Diferenciação automática (DA): suporte direto à DA permite cálculos eficientes de gradientes de retropropagação (_backpropagation_).\n",
    "    - Aceleração de hardware: suporte a GPU e TPU, enquanto o numpy se sustenta em CPU.\n",
    "    - Computação distribuída: suporte nativo para escalabilidade em múltiplas plataformas e máquinas, enquanto o numpy é para máquina única.\n",
    "    - Compatibilidade com o ecossistema TensorFlow: fácil integração com datasets e o pipeline de ML.\n",
    "    - Grafos computacionais estáticos (GCEs): tensorflow opera sobre estruturas de grafos que pode ser otimizada. A natureza estática garante eficiência em aceleradores de hardware e sistemas distribuídos, enquanto o numpy opera em modo imediato sem o conceito de GCEs."
   ]
  },
  {
   "attachments": {},
   "cell_type": "markdown",
   "metadata": {},
   "source": [
    "## O tipo `Tensor`\n",
    "\n",
    "- Grosso modo, são arrays multidimensionais especializados.\n",
    "- Herdam todas as operações matemáticas do `numpy.array`, mas realizam outras mais.\n",
    "- Imutáveis.\n",
    "\n",
    "\n",
    "_Obs.:_ conceito paralelo ao tensor da física/mecânica."
   ]
  },
  {
   "cell_type": "code",
   "execution_count": 6,
   "metadata": {},
   "outputs": [
    {
     "data": {
      "text/plain": [
       "(<tf.Tensor: shape=(), dtype=float32, numpy=1.0>,\n",
       " <tf.Tensor: shape=(2,), dtype=float32, numpy=array([1., 2.], dtype=float32)>,\n",
       " <tf.Tensor: shape=(2, 2), dtype=float32, numpy=\n",
       " array([[1., 2.],\n",
       "        [3., 4.]], dtype=float32)>)"
      ]
     },
     "execution_count": 6,
     "metadata": {},
     "output_type": "execute_result"
    }
   ],
   "source": [
    "# 'constant' significa 'immutable'\n",
    "c1 = tf.constant(1.0)\n",
    "c2 = tf.constant([1.0,2.0])\n",
    "c3 = tf.constant([[1.0,2.0], [3.0,4.0]])\n",
    "c1,c2,c3"
   ]
  },
  {
   "attachments": {},
   "cell_type": "markdown",
   "metadata": {},
   "source": [
    "- Método e atributos principais"
   ]
  },
  {
   "cell_type": "code",
   "execution_count": 24,
   "metadata": {},
   "outputs": [
    {
     "data": {
      "text/plain": [
       "(1.0, TensorShape([2]), tf.float32)"
      ]
     },
     "execution_count": 24,
     "metadata": {},
     "output_type": "execute_result"
    }
   ],
   "source": [
    "c1.numpy(), c2.shape, c3.dtype"
   ]
  },
  {
   "attachments": {},
   "cell_type": "markdown",
   "metadata": {},
   "source": [
    "- Operações matemáticas comuns"
   ]
  },
  {
   "cell_type": "code",
   "execution_count": 31,
   "metadata": {},
   "outputs": [
    {
     "name": "stdout",
     "output_type": "stream",
     "text": [
      "tf.Tensor(2.0, shape=(), dtype=float32)\n",
      "tf.Tensor([0.5 1. ], shape=(2,), dtype=float32)\n",
      "tf.Tensor(\n",
      "[[-1. -1.]\n",
      " [-1. -1.]], shape=(2, 2), dtype=float32)\n"
     ]
    }
   ],
   "source": [
    "print(2*c1)\n",
    "print(c2/2)\n",
    "print(c3 - tf.matmul(c3 + 1,tf.eye(2)))"
   ]
  },
  {
   "attachments": {},
   "cell_type": "markdown",
   "metadata": {},
   "source": [
    "- Operador `@` realiza multiplicação tensorial"
   ]
  },
  {
   "cell_type": "code",
   "execution_count": 59,
   "metadata": {},
   "outputs": [
    {
     "name": "stdout",
     "output_type": "stream",
     "text": [
      "tf.Tensor(\n",
      "[[3. 3. 3.]\n",
      " [3. 3. 3.]\n",
      " [3. 3. 3.]], shape=(3, 3), dtype=float32)\n",
      "tf.Tensor(\n",
      "[[0. 0. 0. 1. 0.]\n",
      " [0. 1. 0. 0. 0.]\n",
      " [0. 0. 0. 0. 1.]], shape=(3, 5), dtype=float32)\n",
      "tf.Tensor(\n",
      "[[0. 0. 0.]\n",
      " [3. 3. 3.]\n",
      " [0. 0. 0.]\n",
      " [3. 3. 3.]\n",
      " [3. 3. 3.]], shape=(5, 3), dtype=float32)\n"
     ]
    }
   ],
   "source": [
    "c4 = tf.ones((3,3)) + tf.fill([3,3],2.0)\n",
    "c5 = tf.one_hot(indices=[3,1,4],depth=5)\n",
    "c6 = tf.transpose(c5) @ c4\n",
    "\n",
    "print(c4)\n",
    "print(c5)\n",
    "print(c6)"
   ]
  },
  {
   "attachments": {},
   "cell_type": "markdown",
   "metadata": {},
   "source": [
    "### Atribuição x imutabilidade\n",
    "\n",
    "- A imutabilidade do tensor está associada ao seu GCE.\n",
    "- Não podemos usar atribuição direta, mas isso não descreve a imutabilidae."
   ]
  },
  {
   "cell_type": "code",
   "execution_count": null,
   "metadata": {},
   "outputs": [
    {
     "name": "stdout",
     "output_type": "stream",
     "text": [
      "--> Não posso ser alterado por atribuição indexada!\n",
      " 'tensorflow.python.framework.ops.EagerTensor' object does not support item assignment\n"
     ]
    }
   ],
   "source": [
    "try:\n",
    "    c1[0] = 2\n",
    "except TypeError as e:\n",
    "    print('--> Não posso ser alterado por atribuição indexada!\\n', e)"
   ]
  },
  {
   "cell_type": "code",
   "execution_count": 101,
   "metadata": {},
   "outputs": [
    {
     "name": "stdout",
     "output_type": "stream",
     "text": [
      "[[-2.  8.]\n",
      " [14.  2.]]\n"
     ]
    }
   ],
   "source": [
    "# conda install -c conda-forge tensorboard\n",
    "\n",
    "with tf.compat.v1.Session() as sess:\n",
    "    c3a = tf.constant([[1.0,2.0], [3.0,4.0]], name = \"a\")\n",
    "    c3b = tf.constant([[-2.0,2.0], [4.0,-3.0]], name = \"b\")\n",
    "    c3c = tf.add(c3a, c3b, name = \"c\")\n",
    "    c3d = tf.multiply(2.0, c3c, name = \"d\")\n",
    "    print(sess.run(c3d))"
   ]
  },
  {
   "attachments": {},
   "cell_type": "markdown",
   "metadata": {},
   "source": [
    "## O tipo `Variable`"
   ]
  },
  {
   "cell_type": "code",
   "execution_count": 80,
   "metadata": {},
   "outputs": [
    {
     "name": "stdout",
     "output_type": "stream",
     "text": [
      "<tf.Variable 'Variable:0' shape=() dtype=int32, numpy=2>\n"
     ]
    }
   ],
   "source": [
    "v1 = tf.Variable(2)\n",
    "print(v1)"
   ]
  },
  {
   "cell_type": "code",
   "execution_count": 81,
   "metadata": {},
   "outputs": [
    {
     "ename": "TypeError",
     "evalue": "'ResourceVariable' object does not support item assignment",
     "output_type": "error",
     "traceback": [
      "\u001b[0;31m---------------------------------------------------------------------------\u001b[0m",
      "\u001b[0;31mTypeError\u001b[0m                                 Traceback (most recent call last)",
      "\u001b[0;32m/var/folders/ll/g0vl8b194pbfyp4cwpzz4p740000gn/T/ipykernel_68277/855469244.py\u001b[0m in \u001b[0;36m<module>\u001b[0;34m\u001b[0m\n\u001b[0;32m----> 1\u001b[0;31m \u001b[0mv1\u001b[0m\u001b[0;34m[\u001b[0m\u001b[0;36m0\u001b[0m\u001b[0;34m]\u001b[0m \u001b[0;34m=\u001b[0m \u001b[0;36m3\u001b[0m\u001b[0;34m\u001b[0m\u001b[0;34m\u001b[0m\u001b[0m\n\u001b[0m",
      "\u001b[0;31mTypeError\u001b[0m: 'ResourceVariable' object does not support item assignment"
     ]
    }
   ],
   "source": [
    "v1[0] = 3"
   ]
  },
  {
   "cell_type": "code",
   "execution_count": null,
   "metadata": {},
   "outputs": [],
   "source": []
  }
 ],
 "metadata": {
  "kernelspec": {
   "display_name": "base",
   "language": "python",
   "name": "python3"
  },
  "language_info": {
   "codemirror_mode": {
    "name": "ipython",
    "version": 3
   },
   "file_extension": ".py",
   "mimetype": "text/x-python",
   "name": "python",
   "nbconvert_exporter": "python",
   "pygments_lexer": "ipython3",
   "version": "3.11.3"
  },
  "orig_nbformat": 4
 },
 "nbformat": 4,
 "nbformat_minor": 2
}
