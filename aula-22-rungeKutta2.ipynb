{
 "cells": [
  {
   "cell_type": "code",
   "execution_count": 1,
   "metadata": {},
   "outputs": [],
   "source": [
    "%matplotlib inline\n",
    "import numpy as np\n",
    "import matplotlib.pyplot as plt"
   ]
  },
  {
   "cell_type": "markdown",
   "metadata": {},
   "source": [
    "## Métodos de Runge-Kutta de 2a. ordem\n",
    "\n",
    "Comparação de métodos: Euler explícito e modificado."
   ]
  },
  {
   "cell_type": "code",
   "execution_count": 2,
   "metadata": {},
   "outputs": [],
   "source": [
    "'''\n",
    "Método de Euler explícito\n",
    "\n",
    "  Entrada: \n",
    "    - ode: eq. diferencial f(x,y) (str)\n",
    "    - a: ponto inicial do domínio (float)\n",
    "    - b: ponto final do domínio (float)\n",
    "    - n: número de pontos discretos (int)\n",
    "    - w0: condição inicial (float)\n",
    "    \n",
    "  Saída:\n",
    "    - x: variável independente (list)\n",
    "    - w: variável dependente (list)\n",
    "\n",
    "    w é o vetor com a solução aproximada\n",
    "'''\n",
    "def ode_euler_expl(ode,a,b,n,w0):\n",
    "\n",
    "    x = n*[0]\n",
    "    w = n*[0]\n",
    "    x[0] = a\n",
    "    w[0] = w0\n",
    "    \n",
    "    h = (b-a)/(n-1)\n",
    "\n",
    "    f = lambda x,y: eval(ode)\n",
    "\n",
    "    for i in range(n-1):\n",
    "        x[i+1] = x[i] + h\n",
    "        s = f(x[i],w[i])        \n",
    "        w[i+1] = w[i] + h*s\n",
    "\n",
    "    return x,w\n",
    "\n",
    "'''\n",
    "Método de Euler Modificado\n",
    "\n",
    "  Entrada: \n",
    "    - ode: eq. diferencial f(x,y) (str)\n",
    "    - a: ponto inicial do domínio (float)\n",
    "    - b: ponto final do domínio (float)\n",
    "    - n: número de pontos discretos (int)\n",
    "    - w0: condição inicial (float)\n",
    "    \n",
    "  Saída:\n",
    "    - x: variável independente (list)\n",
    "    - w: variável dependente (list)\n",
    "\n",
    "    w é o vetor com a solução aproximada\n",
    "'''\n",
    "def ode_euler_mod(ode,a,b,n,w0):\n",
    "\n",
    "    x = n*[0]\n",
    "    w = n*[0]\n",
    "    x[0] = a\n",
    "    w[0] = w0\n",
    "    \n",
    "    h = (b-a)/(n-1)\n",
    "\n",
    "    f = lambda x,y: eval(ode)\n",
    "\n",
    "    for i in range(n-1):\n",
    "        x[i+1] = x[i] + h\n",
    "        s = f(x[i],w[i])\n",
    "        wtilde = w[i] + s*h\n",
    "        sf = f(x[i+1],wtilde)\n",
    "        w[i+1] = w[i] + 0.5*(s + sf)*h\n",
    "\n",
    "    return x,w"
   ]
  },
  {
   "cell_type": "markdown",
   "metadata": {},
   "source": [
    "Abaixo, vamos resolver o PVI: \n",
    "\n",
    "\\begin{cases}\n",
    "y' = -1.2y + 7e^(-0.3x) \\\\\n",
    "y(0) = 3 \\\\\n",
    "0 < x \\leq 2 \\\\\n",
    "h = 1,0.5,0.25,0.1\n",
    "\\end{cases}\n"
   ]
  },
  {
   "cell_type": "code",
   "execution_count": 3,
   "metadata": {},
   "outputs": [
    {
     "ename": "SyntaxError",
     "evalue": "invalid syntax (<ipython-input-3-3bda0e6269bf>, line 34)",
     "output_type": "error",
     "traceback": [
      "\u001b[0;36m  File \u001b[0;32m\"<ipython-input-3-3bda0e6269bf>\"\u001b[0;36m, line \u001b[0;32m34\u001b[0m\n\u001b[0;31m    tit = '$h = ' + str((b-a)/(n-1)$'\u001b[0m\n\u001b[0m                                   ^\u001b[0m\n\u001b[0;31mSyntaxError\u001b[0m\u001b[0;31m:\u001b[0m invalid syntax\n"
     ]
    }
   ],
   "source": [
    "# definição\n",
    "e = np.exp(1)\n",
    "\n",
    "# dados de entrada \n",
    "a = 0\n",
    "b = 3.0\n",
    "ns = [4,7,13,31]\n",
    "w0 = 3\n",
    "ode = '-1.2*y + 7*e**(-0.3*x)'\n",
    "\n",
    "# soluções numéricas\n",
    "\n",
    "for n in ns:\n",
    "    # MEE\n",
    "    x,we = ode_euler_expl(ode,a,b,n,w0)\n",
    "\n",
    "    # MEM\n",
    "    x,wm = ode_euler_mod(ode,a,b,n,w0)\n",
    "\n",
    "    # conversao de dados\n",
    "    x = np.asarray(x)\n",
    "    we = np.asarray(we)\n",
    "    wm = np.asarray(wm)\n",
    "\n",
    "    # solução exata\n",
    "    y = 70/9*e**(-0.3*x) - 43/9*e**(-1.2*x)\n",
    "\n",
    "    # curvas\n",
    "    plt.figure()\n",
    "    plt.plot(x,y,'r',label='exata')\n",
    "    plt.plot(x,we,'bo',label='Eu expl')\n",
    "    plt.plot(x,wm,'go',label='Eu mod')\n",
    "    plt.legend()\n",
    "    tit = '$h = ' + str((b-a)/(n-1)$' \n",
    "    plt.title('$h=$')\n",
    "    plt.grid()\n"
   ]
  },
  {
   "cell_type": "code",
   "execution_count": null,
   "metadata": {},
   "outputs": [],
   "source": [
    "def ode_euler_impl(ode,a,b,n,w0):\n",
    "\n",
    "    x = n*[0]\n",
    "    w = n*[0]\n",
    "    x[0] = a\n",
    "    w[0] = w0\n",
    "    \n",
    "    h = (b-a)/(n-1)\n",
    "\n",
    "    f = lambda x,y: eval(ode)\n",
    "\n",
    "    for i in range(n-1):\n",
    "        x[i+1] = x[i] + h\n",
    "        s = f(x[i],w[i])        \n",
    "        w[i+1] = w[i] + h*s\n",
    "\n",
    "    return x,w"
   ]
  },
  {
   "cell_type": "code",
   "execution_count": null,
   "metadata": {},
   "outputs": [],
   "source": [
    "ode = '-1.2*y + 7*e**(-0.3*x)'"
   ]
  }
 ],
 "metadata": {
  "kernelspec": {
   "display_name": "Python 3",
   "language": "python",
   "name": "python3"
  },
  "language_info": {
   "codemirror_mode": {
    "name": "ipython",
    "version": 3
   },
   "file_extension": ".py",
   "mimetype": "text/x-python",
   "name": "python",
   "nbconvert_exporter": "python",
   "pygments_lexer": "ipython3",
   "version": "3.7.3"
  }
 },
 "nbformat": 4,
 "nbformat_minor": 4
}
