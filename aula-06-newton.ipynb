{
 "cells": [
  {
   "cell_type": "code",
   "execution_count": 1,
   "metadata": {},
   "outputs": [],
   "source": [
    "%matplotlib inline"
   ]
  },
  {
   "cell_type": "markdown",
   "metadata": {},
   "source": [
    "# Implementação do método de Newton\n",
    "\n",
    "\n",
    "- Analisar a dependência da estimativa inicial. \n",
    "- Executar o código duas vezes: para $x_0=0.0$ e $x_0=1.0$ em $f(x) = -0.9x^2 + 1.7x + 2.5$."
   ]
  },
  {
   "cell_type": "code",
   "execution_count": 2,
   "metadata": {},
   "outputs": [
    {
     "name": "stdout",
     "output_type": "stream",
     "text": [
      "Estimativa inicial: x0 = 0.0\n",
      "\n",
      "0  -1.470588  -1.946367  4.347059  1.000000e+00\n",
      "1  -1.022845  -0.180427  3.541121  4.377432e-01\n",
      "2  -0.971893  -0.002336  3.449407  5.242539e-02\n",
      "3  -0.971216  -0.000000  3.448188  6.974331e-04\n",
      "Solução obtida: x = -0.9712156364\n"
     ]
    },
    {
     "data": {
      "image/png": "[encoded data removed]",
      "text/plain": [
       "<Figure size 432x288 with 1 Axes>"
      ]
     },
     "metadata": {
      "needs_background": "light"
     },
     "output_type": "display_data"
    }
   ],
   "source": [
    "# Método de Newton\n",
    "\n",
    "from numpy import linspace\n",
    "from matplotlib.pyplot import plot\n",
    "\n",
    "def newton(x0,f,df,tol,nmax,var,plotar):\n",
    "\n",
    "    f = eval('lambda x:' + f)\n",
    "    df = eval('lambda x:' + df)\n",
    "\n",
    "    it = 0 # contador de iteracoes\n",
    "\n",
    "    # imprime estimativa inicial\n",
    "    print('Estimativa inicial: x0 = {0}\\n'.format(x0))  \n",
    "\n",
    "    # Loop \n",
    "    for i in range(0,nmax):\n",
    "        \n",
    "        x = x0 - f(x0)/df(x0) # funcao de iteracao \n",
    "        \n",
    "        e = abs(x-x0)/abs(x) # erro\n",
    "        \n",
    "        # tabela\n",
    "        print('{0:d}  {1:f}  {2:f}  {3:f}  {4:e}'.format(i,x,f(x),df(x),e))\n",
    "        \n",
    "        if e < tol:\n",
    "            break\n",
    "        x0 = x                \n",
    "        \n",
    "    if i == nmax:\n",
    "        print('Solução não obtida em {0:d} iterações'.format(nmax))\n",
    "    else:\n",
    "        print('Solução obtida: x = {0:.10f}'.format(x))\n",
    "\n",
    "    # plotagem\n",
    "    if plotar:        \n",
    "        delta = 3*x\n",
    "        dom = linspace(x-delta,x+delta,30)\n",
    "        plot(dom,f(dom),x,f(x),'ro')\n",
    "\n",
    "    return x\n",
    "      \n",
    "    \n",
    "# parametros    \n",
    "x0 = 0. # estimativa inicial\n",
    "tol = 1e-3 # tolerancia\n",
    "nmax = 100 # numero maximo de iteracoes\n",
    "f = '-0.9*x**2 + 1.7*x + 2.5'   # funcao\n",
    "df = '-1.8*x + 1.7'   # derivada dafuncao\n",
    "var = 'x'\n",
    "plotar = True\n",
    "\n",
    "# chamada da função\n",
    "xm = newton(x0,f,df,tol,nmax,var,plotar)\n"
   ]
  },
  {
   "cell_type": "code",
   "execution_count": 3,
   "metadata": {},
   "outputs": [
    {
     "name": "stdout",
     "output_type": "stream",
     "text": [
      "Estimativa inicial: x0 = 1.0\n",
      "\n",
      "0  34.000000  -980.100000  -59.500000  9.705882e-01\n",
      "1  17.527731  -244.202079  -29.849916  9.397833e-01\n",
      "2  9.346734  -60.235844  -15.124121  8.752787e-01\n",
      "3  5.363967  -14.276187  -7.955141  7.425039e-01\n",
      "4  3.569381  -2.898486  -4.724886  5.027724e-01\n",
      "5  2.955930  -0.338690  -3.620674  2.075323e-01\n",
      "6  2.862387  -0.007875  -3.452297  3.268017e-02\n",
      "7  2.860106  -0.000005  -3.448190  7.975862e-04\n",
      "Solução obtida: x = 2.8601057637\n"
     ]
    },
    {
     "data": {
      "image/png": "[encoded data removed]",
      "text/plain": [
       "<Figure size 432x288 with 1 Axes>"
      ]
     },
     "metadata": {
      "needs_background": "light"
     },
     "output_type": "display_data"
    }
   ],
   "source": [
    "# chamada da função\n",
    "xm = newton(1.0,f,df,tol,nmax,var,plotar)"
   ]
  },
  {
   "cell_type": "markdown",
   "metadata": {},
   "source": [
    "## Desafio\n",
    "\n",
    "1. Generalize o código acima para que a expressão da derivada seja calculada diretamenta e não manualmente. (dica: use computação simbólica)\n",
    "2. Resolva o problema aplicado abaixo com este método ou desenvolva o seu para resolver e compare com a função residente do `scipy`."
   ]
  },
  {
   "cell_type": "markdown",
   "metadata": {},
   "source": [
    "### Problema aplicado\n",
    "\n",
    "Um jogador de futebol americano está prestes a fazer um lançamento para outro jogador de seu time. O lançador tem uma altura de 1,82 m e o outro jogador está afastado de 18,2 m. A expressão que descreve o movimento da bola é a familiar equação da física que descreve o movimento de um projétil:\n",
    "\n",
    "$$y = x\\tan(\\theta) - \\dfrac{1}{2}\\dfrac{x^2 g}{v_0^2}\\dfrac{1}{\\cos^2(\\theta)} + h,$$\n",
    "\n",
    "onde $x$ e $y$ são as distâncias horizontal e verical, respectivamente, $g=9,8 \\, m/s^2$ é a aceleração da gravidade, $v_0$ é a velocidade inicial da bola quando deixa a mão do lançador e $\\theta$ é o Ângulo que a bola faz com o eixo horizontal nesse mesmo instante. Para $v_0 = 15,2 \\, m/s$, $x = 18,2 \\, m$, $h = 1,82 \\, m$ e $y = 2,1 \\, m$, determine o ângulo $\\theta$ no qual o jogador deve lançar a bola. "
   ]
  },
  {
   "cell_type": "markdown",
   "metadata": {},
   "source": [
    "### Solução por função residente\n",
    "\n",
    "- Importar módulos\n",
    "- Definir função $f(\\theta)$"
   ]
  },
  {
   "cell_type": "code",
   "execution_count": 4,
   "metadata": {},
   "outputs": [],
   "source": [
    "from scipy.optimize import newton \n",
    "import numpy as np\n",
    "import matplotlib.pyplot as plt\n",
    "\n",
    "v0 = 15.2\n",
    "x = 18.2\n",
    "h = 1.82\n",
    "y = 2.1\n",
    "g = 9.8\n",
    "\n",
    "# f(theta) = 0\n",
    "f = lambda theta: x*np.tan(theta) - 0.5*(x**2*g/v0**2)*(1/(np.cos(theta)**2)) + h - y"
   ]
  },
  {
   "cell_type": "markdown",
   "metadata": {},
   "source": [
    "## Localização "
   ]
  },
  {
   "cell_type": "code",
   "execution_count": 5,
   "metadata": {},
   "outputs": [
    {
     "data": {
      "text/plain": [
       "Text(0.5, 0, 'angulo')"
      ]
     },
     "execution_count": 5,
     "metadata": {},
     "output_type": "execute_result"
    },
    {
     "data": {
      "image/png": "[encoded data removed]",
      "text/plain": [
       "<Figure size 432x288 with 1 Axes>"
      ]
     },
     "metadata": {
      "needs_background": "light"
     },
     "output_type": "display_data"
    }
   ],
   "source": [
    "th = np.linspace(0.1,1.4,100,True)\n",
    "plt.plot(th,f(th))\n",
    "plt.xlabel('angulo')"
   ]
  },
  {
   "cell_type": "code",
   "execution_count": 6,
   "metadata": {},
   "outputs": [
    {
     "data": {
      "text/plain": [
       "Text(0.5, 0, 'angulo')"
      ]
     },
     "execution_count": 6,
     "metadata": {},
     "output_type": "execute_result"
    },
    {
     "data": {
      "image/png": "[encoded data removed]",
      "text/plain": [
       "<Figure size 432x288 with 1 Axes>"
      ]
     },
     "metadata": {
      "needs_background": "light"
     },
     "output_type": "display_data"
    }
   ],
   "source": [
    "th = np.linspace(0.4,0.8,100,True)\n",
    "plt.plot(th,f(th))\n",
    "plt.xlabel('angulo')"
   ]
  },
  {
   "cell_type": "code",
   "execution_count": 7,
   "metadata": {},
   "outputs": [
    {
     "data": {
      "text/plain": [
       "Text(0.5, 0, 'angulo')"
      ]
     },
     "execution_count": 7,
     "metadata": {},
     "output_type": "execute_result"
    },
    {
     "data": {
      "image/png": "[encoded data removed]",
      "text/plain": [
       "<Figure size 432x288 with 1 Axes>"
      ]
     },
     "metadata": {
      "needs_background": "light"
     },
     "output_type": "display_data"
    }
   ],
   "source": [
    "th = np.linspace(0.45,0.47,100,True)\n",
    "plt.plot(th,f(th))\n",
    "plt.xlabel('angulo')"
   ]
  },
  {
   "cell_type": "markdown",
   "metadata": {},
   "source": [
    "## Refinamento\n",
    "\n",
    "Para a função residente, nem é preciso fazer um processo de localização prolongado de modo a entrar com uma estimativa inicial muito próxima. Plotar a função até um intervalo razoável já é suficiente para ter uma noção sobre onde a raiz está. \n",
    "\n",
    "Quanto à escolha da estimativa inicial, ainda que seja \"mal feita\", o método poderá encontrar a raiz de modo rápido, pois sua programação é robusta. \n",
    "\n",
    "Vejamos então, quale é a raiz com uma estimativa inicial de 0.47."
   ]
  },
  {
   "cell_type": "code",
   "execution_count": 8,
   "metadata": {},
   "outputs": [
    {
     "data": {
      "text/plain": [
       "0.4608834641642987"
      ]
     },
     "execution_count": 8,
     "metadata": {},
     "output_type": "execute_result"
    }
   ],
   "source": [
    "ang = newton(f,0.47)\n",
    "ang"
   ]
  },
  {
   "cell_type": "code",
   "execution_count": 9,
   "metadata": {},
   "outputs": [
    {
     "data": {
      "text/plain": [
       "26.406677343983237"
      ]
     },
     "execution_count": 9,
     "metadata": {},
     "output_type": "execute_result"
    }
   ],
   "source": [
    "np.rad2deg(ang)"
   ]
  }
 ],
 "metadata": {
  "celltoolbar": "Edit Metadata",
  "kernelspec": {
   "display_name": "Python 3",
   "language": "python",
   "name": "python3"
  },
  "language_info": {
   "codemirror_mode": {
    "name": "ipython",
    "version": 3
   },
   "file_extension": ".py",
   "mimetype": "text/x-python",
   "name": "python",
   "nbconvert_exporter": "python",
   "pygments_lexer": "ipython3",
   "version": "3.7.3"
  }
 },
 "nbformat": 4,
 "nbformat_minor": 2
}
