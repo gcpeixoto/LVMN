{
 "cells": [
  {
   "cell_type": "markdown",
   "metadata": {},
   "source": [
    "# Implementações do método da bisseção"
   ]
  },
  {
   "cell_type": "code",
   "execution_count": 1,
   "metadata": {},
   "outputs": [],
   "source": [
    "%matplotlib inline"
   ]
  },
  {
   "cell_type": "code",
   "execution_count": 2,
   "metadata": {},
   "outputs": [],
   "source": [
    "\"\"\"MB Metodo da bissecao para funcoes unidimensionais\n",
    "entrada: \n",
    "    f: uma string dependendo de x, i.e., a funcao\n",
    "           (e.g., 'x^2 + 1', 'x^2*cos(x)', etc.) \n",
    "    a: limite inferior do dominio\n",
    "    b: limite superior do dominio\n",
    "    tol: tolerancia    \n",
    "    N: numero maximo de iteracoes do metodo\n",
    "\n",
    "saida: \n",
    "    xm: raiz da funcao\n",
    "\"\"\"\n",
    "\n",
    "import inspect, re\n",
    "\n",
    "def bissecao(f,a,b,tol,N,var):\n",
    "        \n",
    "    # TODO identificar a variável usada na função \n",
    "    #      Aqui, tentei assumir que apenas uma era usada (e.g. 'x'),\n",
    "    #      mas foi complicado generalizar quando há objeto numpy\n",
    "    #var = re.search('[a-zA-Z]+',f)\n",
    "    #var = var.group()\n",
    "\n",
    "    # cria função anônima\n",
    "    f = eval('lambda ' + var + ' :' + f)\n",
    "\n",
    "    # Se função não for de uma variável, lança erro.\n",
    "    # Mais aplicável se o caso geral fosse implementado.        \n",
    "    if len(inspect.getfullargspec(f).args) - 1 > 0:    \n",
    "        raise ValueError('O código é válido apenas para uma variável.')\n",
    "\n",
    "    # calcula valor da função nos extremos\n",
    "    fa = f(a) \n",
    "    fb = f(b)\n",
    "    \n",
    "    # verifica sinal da função para o intervalo passado     \n",
    "    if fa*fb >= 0:\n",
    "        raise ValueError('A função deve ter sinais opostos em a e b!')\n",
    "    \n",
    "    # flag usada para prevenir a obtenção da raiz \n",
    "    # antes de o intervalo ter sido \n",
    "    # suficientemente reduzido\n",
    "    done = 0;\n",
    "\n",
    "    # loop principal\n",
    "\n",
    "    # bisecta o intervalo\n",
    "    xm = (a+b)/2\n",
    "\n",
    "    i = 1 # contador \n",
    "\n",
    "    while abs(a-b) > tol and ( not done or N != 0 ):\n",
    "    # avalia a função no ponto médio\n",
    "        fxm = f(xm)\n",
    "        print(\"(i = {0:d}) f(xm)={1:f} | f(a)={2:f} | f(b)={3:f}\".format(i,fxm,fa,fb))\n",
    "   \n",
    "        if fa*fxm < 0:       # Raiz esta à esquerda de xm\n",
    "            b = xm\n",
    "            fb = fxm\n",
    "            xm = (a+b)/2\n",
    "        elif fxm*fb < 0:     # Raiz esta à direita de xm\n",
    "            a = xm\n",
    "            fa = fxm\n",
    "            xm = (a+b)/2\n",
    "        else:               # Achamos a raiz\n",
    "            done = 1\n",
    "    \n",
    "        N -= 1              # Atualiza passo\n",
    "        i += 1              # Atualiza contador\n",
    "            \n",
    "    print(\"Solução encontrada: {0}\".format(xm))\n",
    "\n",
    "    return xm"
   ]
  },
  {
   "cell_type": "code",
   "execution_count": 3,
   "metadata": {},
   "outputs": [
    {
     "data": {
      "image/png": "[encoded data removed]",
      "text/plain": [
       "<Figure size 432x288 with 1 Axes>"
      ]
     },
     "metadata": {
      "needs_background": "light"
     },
     "output_type": "display_data"
    }
   ],
   "source": [
    "import numpy as np\n",
    "import matplotlib.pyplot as plt\n",
    "from scipy.optimize import bisect, newton\n",
    "\n",
    "# Dados de entrada\n",
    "\n",
    "t = np.arange(0,520,1)   # tempo [s]\n",
    "c = 1.46   # coeficiente de arrasto [kg/s]\n",
    "m = 90     # massa [kg]\n",
    "g = 9.81   # constante de gravidade [m/s2]\n",
    "\n",
    "# Dados de saída\n",
    "\n",
    "## velocidade terminal [m/s]\n",
    "v_ms1 = (g*m/c)*(1 - np.exp((-c/m)*t))\n",
    "\n",
    "# velocidade terminal [km/h]\n",
    "v_kh1 = (1/3.6)*v_ms1;\n",
    "\n",
    "# gráfico tempo x velocidade\n",
    "plt.figure\n",
    "plt.plot(t,v_ms1)\n",
    "plt.xlabel('t [s]')\n",
    "plt.ylabel('v [m/s]')\n",
    "plt.title('Velocidade terminal - paraquedista');"
   ]
  },
  {
   "cell_type": "code",
   "execution_count": 4,
   "metadata": {},
   "outputs": [
    {
     "name": "stdout",
     "output_type": "stream",
     "text": [
      "f(c) = -42 + 686.7*(1 - exp(-6*c/35))/c\n",
      "\n",
      "(i = 1) f(xm)=2.600284 | f(a)=7.910578 | f(b)=-1.844622\n",
      "(i = 2) f(xm)=0.281205 | f(a)=2.600284 | f(b)=-1.844622\n",
      "(i = 3) f(xm)=-0.804573 | f(a)=0.281205 | f(b)=-1.844622\n",
      "(i = 4) f(xm)=-0.267556 | f(a)=0.281205 | f(b)=-0.804573\n",
      "(i = 5) f(xm)=0.005337 | f(a)=0.281205 | f(b)=-0.267556\n",
      "(i = 6) f(xm)=-0.131479 | f(a)=0.005337 | f(b)=-0.267556\n",
      "(i = 7) f(xm)=-0.063164 | f(a)=0.005337 | f(b)=-0.131479\n",
      "(i = 8) f(xm)=-0.028937 | f(a)=0.005337 | f(b)=-0.063164\n",
      "(i = 9) f(xm)=-0.011806 | f(a)=0.005337 | f(b)=-0.028937\n",
      "(i = 10) f(xm)=-0.003236 | f(a)=0.005337 | f(b)=-0.011806\n",
      "(i = 11) f(xm)=0.001050 | f(a)=0.005337 | f(b)=-0.003236\n",
      "(i = 12) f(xm)=-0.001093 | f(a)=0.001050 | f(b)=-0.003236\n",
      "(i = 13) f(xm)=-0.000022 | f(a)=0.001050 | f(b)=-0.001093\n",
      "(i = 14) f(xm)=0.000514 | f(a)=0.001050 | f(b)=-0.000022\n",
      "(i = 15) f(xm)=0.000246 | f(a)=0.000514 | f(b)=-0.000022\n",
      "(i = 16) f(xm)=0.000112 | f(a)=0.000246 | f(b)=-0.000022\n",
      "(i = 17) f(xm)=0.000045 | f(a)=0.000112 | f(b)=-0.000022\n",
      "(i = 18) f(xm)=0.000012 | f(a)=0.000045 | f(b)=-0.000022\n",
      "(i = 19) f(xm)=-0.000005 | f(a)=0.000012 | f(b)=-0.000022\n",
      "Solução encontrada: 15.127429962158203\n"
     ]
    }
   ],
   "source": [
    "import sympy as sp\n",
    "\n",
    "time = 12     # tempo [s]\n",
    "mass = 70     # massa [kg]\n",
    "vel = 42     # velocidade [m/s]\n",
    "grav = 9.81   # constante de gravidade [m/s2]\n",
    "\n",
    "# defino variáveis simbólicas\n",
    "g,m,t,v,c = sp.symbols('g,m,t,v,c')\n",
    "\n",
    "# expressão geral\n",
    "f_g = (g*m/c)*(1 - sp.exp((-c/m)*t)) - v\n",
    "\n",
    "# expressão particular com valores substituídos \n",
    "# convertida para string\n",
    "f_s = str(f_g.subs({'g':grav,'m':mass,'v':vel,'t':time}))\n",
    "\n",
    "# TODO\n",
    "# para esta função, teremos que substituir 'exp' por 'np.exp')\n",
    "print('f(c) = ' + f_s + '\\n')\n",
    "f_s = '-42 + 686.7*(1 - np.exp(-6*c/35))/c'\n",
    "\n",
    "# resolve bisseção\n",
    "xm = bissecao(f_s,12,16,1e-5,100,'c')"
   ]
  },
  {
   "cell_type": "markdown",
   "metadata": {},
   "source": [
    "## Tarefas\n",
    "\n",
    "* Melhore o código Python tratando os TODOs: \n",
    "\n",
    "Tente generalizar o código da bisseção para que identifique automaticamente a variável de entrada utilizada pelo usuário (use expressões regulares e remova o argumento `var` da definição da função).\n",
    "\n",
    "Note que o trecho simbólico abaixo foi necessário para substituir a função da chamada `exp`, não interpretada por `eval` por uma nova string que usasse `np.exp`.\n",
    "```python\n",
    "# TODO\n",
    "# para esta função, teremos que substituir 'exp' por 'np.exp')\n",
    "print('f(c) = ' + f_s + '\\n')\n",
    "f_s = '-42 + 686.7*(1 - np.exp(-6*c/35))/c'\n",
    "```\n",
    "Tente fazer as correções necessárias no código. **Sugestão:** verifique a função `sympy.core.evalf` do módulo `sympy`)\n",
    "\n",
    "* Adicione mecanismos de plotagem no código Python \n",
    "\n",
    "* Crie um código em Javascript para adicionarmos na página do projeto Numbiosis com o máximo possível de GUI (labels + input data).\n",
    "\n",
    "* Teste a implementação com um problema realista."
   ]
  },
  {
   "cell_type": "markdown",
   "metadata": {},
   "source": [
    "**Problema sugerido:**\n",
    "Uma reação química reversível\n",
    "\n",
    "$$2A+B \\iff C$$\n",
    "\n",
    "pode ser caracterizada pela relação de equilíbrio\n",
    "\n",
    "$$K = \\dfrac{c_c}{c_a^2c_b},$$\n",
    "\n",
    "onde a nomenclatura $c_i$ representa a concentração do constituinte $i$. Suponha que definamos uma variável $x$ como o número de moles de $C$ que são produzidos. A conservação da massa pode ser usada para reformular a relação de equilíbrio como\n",
    "\n",
    "$$K = \\dfrac{(c_{c,0} + x)}{(c_{a,0} - 2x)^2 (c_{b,0} - x),}$$\n",
    "\n",
    "onde o subscrito $0$ designa a concentração inicial de cada constituinte. Se $K = 0,016$, $c_{a,0} = 42$, $c_{b,0} = 28$ e $c_{c,0} = 4$, determine o valor de $x$. \n",
    "\n",
    "(a) Obtenha a solução graficamente. \n",
    "\n",
    "(b) Com base em (a), resolva a raiz com suposições iniciais de $x_l = 0$ e $x_u = 20$, com critério de erro de $\\epsilon_s = 0,5\\%$. (Vide clipping _Definições de erro_ para entender $\\epsilon_s$.)\n",
    "\n",
    "(c) Use o método da bisseção."
   ]
  },
  {
   "cell_type": "markdown",
   "metadata": {},
   "source": [
    "## Tarefa: Falsa Posição\n",
    "Programe uma nova função para executar o método da falsa posição ou estenda o código anterior para uma nova função que contemple os dois casos (sugestão: use `switch... case...`).\n",
    "\n"
   ]
  },
  {
   "cell_type": "code",
   "execution_count": 5,
   "metadata": {},
   "outputs": [],
   "source": [
    "from IPython.core.display import HTML\n",
    "\n",
    "def css_styling():\n",
    "    styles = open(\"styles/custom.css\", \"r\").read()\n",
    "    return HTML(styles)\n",
    "css_styling();"
   ]
  }
 ],
 "metadata": {
  "kernelspec": {
   "display_name": "Python 3",
   "language": "python",
   "name": "python3"
  },
  "language_info": {
   "codemirror_mode": {
    "name": "ipython",
    "version": 3
   },
   "file_extension": ".py",
   "mimetype": "text/x-python",
   "name": "python",
   "nbconvert_exporter": "python",
   "pygments_lexer": "ipython3",
   "version": "3.8.5"
  }
 },
 "nbformat": 4,
 "nbformat_minor": 4
}
