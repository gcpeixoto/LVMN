{
 "cells": [
  {
   "cell_type": "markdown",
   "metadata": {},
   "source": [
    "# Implementação do método da bisseção\n",
    "\n",
    "Neste capítulo, utilizamos uma implementação própria do método da bisseção para resolver equações não-lineares unidimensionais. O algoritmo é capaz de lidar com uma quantidade razoável de funções matemáticas.\n",
    "\n",
    "Para ser executado, o método `bissecao` requer 5 parâmetros: \n",
    "\n",
    "- a função $f(x)$ propriamente dita, representada por `f`;\n",
    "- o domínio de busca da raiz $[a,b]$, representado pelas estimativas iniciais `a` e `b`;\n",
    "- o erro absoluto desejado $EA_d$, representado por `e`;\n",
    "- o número máximo de iterações $N$ para tentativa de solução, representado por `N`."
   ]
  },
  {
   "cell_type": "code",
   "execution_count": 1,
   "metadata": {},
   "outputs": [],
   "source": [
    "import inspect, re\n",
    "import numpy as np\n",
    "from matplotlib.pyplot import plot\n",
    "from warnings import warn\n",
    "from prettytable import PrettyTable as pt\n",
    "\n",
    "\n",
    "def bissecao(f,a,b,tol,N):\n",
    "    \"\"\"Algoritmo para determinação de raízes pelo método da bisseção.\n",
    "\n",
    "    Parâmetros: \n",
    "        f: string dependendo de uma variável, i.e., a função-alvo\n",
    "            (e.g., 'x**2 - 1', 'x**2*cos(x)', etc.) \n",
    "        a: estimativa inferior\n",
    "        b: estimativa superior\n",
    "        tol: erro desejado (tolerância)\n",
    "        N: número máximo de iterações a repetir\n",
    "\n",
    "    Retorno: \n",
    "        xm: raiz da funcao    \n",
    "    \"\"\"\n",
    "    # construtor de tabela\n",
    "    table = pt()\n",
    "    \n",
    "    # substitui expressões da string pelas chamadas das funções do numpy\n",
    "    f = re.sub('(sin|sinh|cos|cosh|tan|tanh|exp|log|sqrt|log10|arcsin|arccos|arctan|arcsinh|arccosh|arctanh)', r'np.\\1', f)\n",
    "    \n",
    "    # identifica a variável independente\n",
    "    var = re.search(r'([a-zA-Z][\\w]*) ?([\\+\\-\\/*]|$|\\))', f).group(1)\n",
    "    \n",
    "    # cria função anônima\n",
    "    f = eval('lambda ' + var + ' :' + f)\n",
    "    \n",
    "    # checa se a função é de uma variável, senão lança erro        \n",
    "    if len(inspect.getfullargspec(f).args) - 1 > 0:    \n",
    "        raise ValueError('O código é válido apenas para uma variável.')\n",
    "\n",
    "    # calcula valor da função nos extremos\n",
    "    fa = f(a) \n",
    "    fb = f(b)\n",
    "    \n",
    "    # verifica sinal da função para o intervalo passado     \n",
    "    if fa*fb >= 0:\n",
    "        raise ValueError('A função deve ter sinais opostos em a e b!')\n",
    "    \n",
    "    # flag usada para marcar caso f(xm) = 0\n",
    "    done = False;\n",
    "        \n",
    "    # no. iterações mínimo\n",
    "    niter = int(np.ceil(np.log((b-a)/tol)/np.log(2)))\n",
    "    if N < niter:\n",
    "        print(f'! São necessárias pelo menos {niter} iterações, mas N = {N}.\\n')\n",
    "\n",
    "    \n",
    "    # cabeçalho de tabela\n",
    "    table.field_names = ['i','xm','f(xm)','a','b','f(a)','f(b)','EA']\n",
    "\n",
    "    # bisecta o intervalo\n",
    "    xm = (a+b)/2\n",
    "    \n",
    "    # contador \n",
    "    i = 1 \n",
    "    \n",
    "    # loop \n",
    "    while abs(a-b) > tol and (not done and N != 0):    \n",
    "        \n",
    "        # avalia a função no ponto médio\n",
    "        fxm = f(xm) \n",
    "                        \n",
    "        # adiciona linha de tabela de resultado\n",
    "        table.add_row([i,np.round(xm,8),np.round(f(xm),8),\n",
    "                   np.round(a,4),np.round(b,4),\n",
    "                   np.round(f(a),4),np.round(f(b),4),\n",
    "                   f'{abs(a-b):e}'])\n",
    "   \n",
    "        if fa*fxm < 0:      # Raiz esta à esquerda de xm\n",
    "            b = xm\n",
    "            fb = fxm\n",
    "            xm = (a+b)/2\n",
    "        elif fxm*fb < 0:    # Raiz esta à direita de xm\n",
    "            a = xm\n",
    "            fa = fxm\n",
    "            xm = (a+b)/2\n",
    "        else:               # Achamos a raiz\n",
    "            done = True            \n",
    "    \n",
    "        N -= 1              # Atualiza passo\n",
    "        i += 1              # Atualiza contador\n",
    "    \n",
    "    # impressão de tabela\n",
    "    table.add_row([i,np.round(xm,8),np.round(f(xm),8),\n",
    "                   np.round(a,4),np.round(b,4),\n",
    "                   np.round(f(a),4),np.round(f(b),4),\n",
    "                   f'{abs(a-b):e}'])\n",
    "    table.align = 'c'; print(table)\n",
    "    \n",
    "    return xm"
   ]
  },
  {
   "cell_type": "markdown",
   "metadata": {},
   "source": [
    "## Exemplo\n",
    "\n",
    "Resolva o problema $f(x) = 0$, para $f(x) = -\\text{arccos}(x) + 4\\text{sen}(x) + 1.7$, no intervalo $-0.2 \\le x \\le 1.0$ e $\\epsilon = 10^{-3}$."
   ]
  },
  {
   "cell_type": "markdown",
   "metadata": {},
   "source": [
    "- Primeiramente, façamos uma análise gráfica para verificar o comportamento da função."
   ]
  },
  {
   "cell_type": "code",
   "execution_count": 2,
   "metadata": {},
   "outputs": [
    {
     "data": {
      "image/png": "[encoded data removed]",
      "text/plain": [
       "<Figure size 432x288 with 1 Axes>"
      ]
     },
     "metadata": {
      "needs_background": "light"
     },
     "output_type": "display_data"
    }
   ],
   "source": [
    "x = np.linspace(-0.2,1,100)\n",
    "plot(x,-np.arccos(x) + 4*np.sin(x) + 1.7,x,0*x);"
   ]
  },
  {
   "cell_type": "markdown",
   "metadata": {},
   "source": [
    "- Uma vez que a raiz é única, basta aplicar o método que construímos à função desejada."
   ]
  },
  {
   "cell_type": "code",
   "execution_count": 3,
   "metadata": {},
   "outputs": [
    {
     "name": "stdout",
     "output_type": "stream",
     "text": [
      "+----+-------------+-------------+---------+---------+---------+--------+--------------+\n",
      "| i  |      xm     |    f(xm)    |    a    |    b    |   f(a)  |  f(b)  |      EA      |\n",
      "+----+-------------+-------------+---------+---------+---------+--------+--------------+\n",
      "| 1  |     0.4     |  2.09839389 |   -0.2  |   1.0   | -0.8668 | 5.0659 | 1.200000e+00 |\n",
      "| 2  |     0.1     |  0.62870476 |   -0.2  |   0.4   | -0.8668 | 2.0984 | 6.000000e-01 |\n",
      "| 3  |    -0.05    | -0.12073386 |   -0.2  |   0.1   | -0.8668 | 0.6287 | 3.000000e-01 |\n",
      "| 4  |    0.025    |  0.25419586 |  -0.05  |   0.1   | -0.1207 | 0.6287 | 1.500000e-01 |\n",
      "| 5  |   -0.0125   |  0.06670465 |  -0.05  |  0.025  | -0.1207 | 0.2542 | 7.500000e-02 |\n",
      "| 6  |   -0.03125  | -0.02703107 |  -0.05  | -0.0125 | -0.1207 | 0.0667 | 3.750000e-02 |\n",
      "| 7  |  -0.021875  |  0.01983391 | -0.0312 | -0.0125 |  -0.027 | 0.0667 | 1.875000e-02 |\n",
      "| 8  |  -0.0265625 | -0.00359946 | -0.0312 | -0.0219 |  -0.027 | 0.0198 | 9.375000e-03 |\n",
      "| 9  | -0.02421875 |  0.00811703 | -0.0266 | -0.0219 | -0.0036 | 0.0198 | 4.687500e-03 |\n",
      "| 10 | -0.02539062 |  0.00225873 | -0.0266 | -0.0242 | -0.0036 | 0.0081 | 2.343750e-03 |\n",
      "| 11 | -0.02597656 | -0.00067038 | -0.0266 | -0.0254 | -0.0036 | 0.0023 | 1.171875e-03 |\n",
      "| 12 | -0.02568359 |  0.00079417 |  -0.026 | -0.0254 | -0.0007 | 0.0023 | 5.859375e-04 |\n",
      "+----+-------------+-------------+---------+---------+---------+--------+--------------+\n"
     ]
    }
   ],
   "source": [
    "xm = bissecao('-arccos(x) + 4*sin(x) + 1.7',-0.2,1.0,1e-3,40)"
   ]
  },
  {
   "cell_type": "markdown",
   "metadata": {},
   "source": [
    "- A raiz aproximada $x^{*}$, tal que para $f(x^{*}) = 0$ no intervalo-alvo é mostrada na última linha da tabela. Isto é,"
   ]
  },
  {
   "cell_type": "code",
   "execution_count": 4,
   "metadata": {},
   "outputs": [
    {
     "data": {
      "text/plain": [
       "-0.02568359375"
      ]
     },
     "execution_count": 4,
     "metadata": {},
     "output_type": "execute_result"
    }
   ],
   "source": [
    "# raiz aproximada\n",
    "xm"
   ]
  },
  {
   "cell_type": "markdown",
   "metadata": {},
   "source": [
    "## Exemplo\n",
    "\n",
    "Resolva o problema $h(z) = 0$, para $h(z) = -z(1-2z)^{-1} - \\text{tan}(z+1)$, no intervalo $[1,8]$ e $\\epsilon = 10^{-5}$."
   ]
  },
  {
   "cell_type": "markdown",
   "metadata": {},
   "source": [
    "- Primeiramente, façamos uma análise gráfica para verificar o comportamento da função."
   ]
  },
  {
   "cell_type": "code",
   "execution_count": 5,
   "metadata": {},
   "outputs": [
    {
     "data": {
      "image/png": "[encoded data removed]",
      "text/plain": [
       "<Figure size 432x288 with 1 Axes>"
      ]
     },
     "metadata": {
      "needs_background": "light"
     },
     "output_type": "display_data"
    }
   ],
   "source": [
    "z = np.linspace(1,8.5,100)\n",
    "plot(z,z/(1 - 2*z) - np.tan(z+1),z,0*z);"
   ]
  },
  {
   "cell_type": "markdown",
   "metadata": {},
   "source": [
    "- Neste caso, a função apresenta sensibilidades e mais de uma raiz no intervalo dado. Vamos buscar a raiz que está no subintervalo $[4,6]$. Para tanto, vamos deamplificar a plotagem."
   ]
  },
  {
   "cell_type": "code",
   "execution_count": 6,
   "metadata": {},
   "outputs": [
    {
     "data": {
      "image/png": "[encoded data removed]",
      "text/plain": [
       "<Figure size 432x288 with 1 Axes>"
      ]
     },
     "metadata": {
      "needs_background": "light"
     },
     "output_type": "display_data"
    }
   ],
   "source": [
    "z = np.linspace(4,6,100)\n",
    "plot(z,z/(1 - 2*z) - np.tan(z+1),z,0*z);"
   ]
  },
  {
   "cell_type": "markdown",
   "metadata": {},
   "source": [
    "- Uma vez que a raiz é única, basta aplicar o método que construímos à função desejada."
   ]
  },
  {
   "cell_type": "code",
   "execution_count": 7,
   "metadata": {},
   "outputs": [
    {
     "name": "stdout",
     "output_type": "stream",
     "text": [
      "+----+------------+-------------+--------+--------+--------+---------+--------------+\n",
      "| i  |     xm     |    f(xm)    |   a    |   b    |  f(a)  |   f(b)  |      EA      |\n",
      "+----+------------+-------------+--------+--------+--------+---------+--------------+\n",
      "| 1  |    5.0     | -0.26454936 |   4    |   6    | 2.8091 | -1.4169 | 2.000000e+00 |\n",
      "| 2  |    4.5     |  0.43308405 |   4    |  5.0   | 2.8091 | -0.2645 | 1.000000e+00 |\n",
      "| 3  |    4.75    |  0.03138032 |  4.5   |  5.0   | 0.4331 | -0.2645 | 5.000000e-01 |\n",
      "| 4  |   4.875    | -0.12466745 |  4.75  |  5.0   | 0.0314 | -0.2645 | 2.500000e-01 |\n",
      "| 5  |   4.8125   | -0.04914268 |  4.75  | 4.875  | 0.0314 | -0.1247 | 1.250000e-01 |\n",
      "| 6  |  4.78125   | -0.00957612 |  4.75  | 4.8125 | 0.0314 | -0.0491 | 6.250000e-02 |\n",
      "| 7  |  4.765625  |  0.01071879 |  4.75  | 4.7812 | 0.0314 | -0.0096 | 3.125000e-02 |\n",
      "| 8  | 4.7734375  |  0.00052675 | 4.7656 | 4.7812 | 0.0107 | -0.0096 | 1.562500e-02 |\n",
      "| 9  | 4.77734375 | -0.00453568 | 4.7734 | 4.7812 | 0.0005 | -0.0096 | 7.812500e-03 |\n",
      "| 10 | 4.77539062 | -0.00200723 | 4.7734 | 4.7773 | 0.0005 | -0.0045 | 3.906250e-03 |\n",
      "| 11 | 4.77441406 | -0.00074094 | 4.7734 | 4.7754 | 0.0005 |  -0.002 | 1.953125e-03 |\n",
      "| 12 | 4.77392578 | -0.00010727 | 4.7734 | 4.7744 | 0.0005 | -0.0007 | 9.765625e-04 |\n",
      "| 13 | 4.77368164 |  0.0002097  | 4.7734 | 4.7739 | 0.0005 | -0.0001 | 4.882812e-04 |\n",
      "| 14 | 4.77380371 |   5.12e-05  | 4.7737 | 4.7739 | 0.0002 | -0.0001 | 2.441406e-04 |\n",
      "| 15 | 4.77386475 |  -2.803e-05 | 4.7738 | 4.7739 | 0.0001 | -0.0001 | 1.220703e-04 |\n",
      "| 16 | 4.77383423 |  1.158e-05  | 4.7738 | 4.7739 | 0.0001 |   -0.0  | 6.103516e-05 |\n",
      "| 17 | 4.77384949 |  -8.23e-06  | 4.7738 | 4.7739 |  0.0   |   -0.0  | 3.051758e-05 |\n",
      "| 18 | 4.77384186 |   1.68e-06  | 4.7738 | 4.7738 |  0.0   |   -0.0  | 1.525879e-05 |\n",
      "| 19 | 4.77384567 |  -3.27e-06  | 4.7738 | 4.7738 |  0.0   |   -0.0  | 7.629395e-06 |\n",
      "+----+------------+-------------+--------+--------+--------+---------+--------------+\n"
     ]
    }
   ],
   "source": [
    "zm = bissecao('z/(1 - 2*z) - tan(z+1)',4,6,1e-5,20)"
   ]
  },
  {
   "cell_type": "markdown",
   "metadata": {},
   "source": [
    "- A raiz aproximada $z^{*}$, tal que para $h(z^{*}) = 0$ é mostrada na última linha da tabela. Isto é,"
   ]
  },
  {
   "cell_type": "code",
   "execution_count": 8,
   "metadata": {},
   "outputs": [
    {
     "data": {
      "text/plain": [
       "4.773845672607422"
      ]
     },
     "execution_count": 8,
     "metadata": {},
     "output_type": "execute_result"
    }
   ],
   "source": [
    "# raiz aproximada\n",
    "zm"
   ]
  },
  {
   "cell_type": "markdown",
   "metadata": {},
   "source": [
    "## Exemplo aplicado\n",
    "\n",
    "Vamos aplicar nosso método da bisseção ao problema do paraquedista apresentado no capítulo introdutório para buscar o coeficiente de arrasto adequado para os parâmetros de projeto impostos. "
   ]
  },
  {
   "cell_type": "markdown",
   "metadata": {},
   "source": [
    "- Primeiramente, vamos definir uma função para retornar a equação particular."
   ]
  },
  {
   "cell_type": "code",
   "execution_count": 11,
   "metadata": {},
   "outputs": [],
   "source": [
    "def eq_paraq(tempo,massa,vel,grav):\n",
    "    \"\"\" Define equação particular para cálculo de coeficiente de arrasto \n",
    "        em salto de paraquedista. (Ver introdução.)\n",
    "        \n",
    "        Parâmetros: \n",
    "        \n",
    "            tempo: duração de salto até velocidade terminal [s]\n",
    "            massa: massa do paraquedista [kg]\n",
    "            vel: velocidade terminal desejada [m/s]\n",
    "            grav: aceleração gravitacional ambiente [m/s**2]\n",
    "        \n",
    "        Retorno: \n",
    "        \n",
    "            f: expressão numérica para equação particular\n",
    "               do coeficiente de arrasto\n",
    "                \n",
    "    \"\"\"\n",
    "    \n",
    "    # variáveis simbólicas    \n",
    "    from sympy import symbols, exp, lambdify\n",
    "    \n",
    "    g,m,t,v,c = symbols('g,m,t,v,c')\n",
    "    \n",
    "    # expressão geral\n",
    "    f = (g*m/c)*(1 - exp((-c/m)*t)) - v\n",
    "    \n",
    "    # expressão particular com valores substituídos convertidos para str\n",
    "    fs = f.subs({'g':grav,'m':massa,'v':vel,'t':tempo})\n",
    "    \n",
    "    # expressão simbólica convertida para expessão numérica\n",
    "    fn = lambdify(c,fs,\"numpy\")\n",
    "    \n",
    "    # imprime para \n",
    "    print(f'Equação particular: f(c) = {fs}')\n",
    "    \n",
    "    return (fs,fn)"
   ]
  },
  {
   "cell_type": "markdown",
   "metadata": {},
   "source": [
    "- Em seguida, inserimos os valores de entrada para teste. "
   ]
  },
  {
   "cell_type": "code",
   "execution_count": 12,
   "metadata": {},
   "outputs": [
    {
     "name": "stdout",
     "output_type": "stream",
     "text": [
      "Equação particular: f(c) = -42 + 686.7*(1 - exp(-6*c/35))/c\n"
     ]
    }
   ],
   "source": [
    "# parâmetros de entrada\n",
    "tempo, massa, vel, grav = 12, 70, 42, 9.81\n",
    "\n",
    "# equação particular\n",
    "fs,fn = eq_paraq(tempo,massa,vel,grav)"
   ]
  },
  {
   "cell_type": "markdown",
   "metadata": {},
   "source": [
    "- O próximo passo realiza a análise gráfica para localização do intervalo de aproximação da raiz."
   ]
  },
  {
   "cell_type": "code",
   "execution_count": 13,
   "metadata": {},
   "outputs": [
    {
     "data": {
      "image/png": "[encoded data removed]",
      "text/plain": [
       "<Figure size 432x288 with 1 Axes>"
      ]
     },
     "metadata": {
      "needs_background": "light"
     },
     "output_type": "display_data"
    }
   ],
   "source": [
    "c = np.linspace(1,20)\n",
    "plot(c,fn(c),c,0*c);"
   ]
  },
  {
   "cell_type": "markdown",
   "metadata": {},
   "source": [
    "- Por fim, aplicamos o método."
   ]
  },
  {
   "cell_type": "code",
   "execution_count": 14,
   "metadata": {},
   "outputs": [
    {
     "name": "stdout",
     "output_type": "stream",
     "text": [
      "+----+-------------+-------------+---------+---------+--------+---------+--------------+\n",
      "| i  |      xm     |    f(xm)    |    a    |    b    |  f(a)  |   f(b)  |      EA      |\n",
      "+----+-------------+-------------+---------+---------+--------+---------+--------------+\n",
      "| 1  |     15.5    | -0.80457281 |    14   |   17.0  | 2.6003 |  -3.797 | 3.000000e+00 |\n",
      "| 2  |    14.75    |  0.84203047 |    14   |   15.5  | 2.6003 | -0.8046 | 1.500000e+00 |\n",
      "| 3  |    15.125   |  0.00533671 |  14.75  |   15.5  | 0.842  | -0.8046 | 7.500000e-01 |\n",
      "| 4  |   15.3125   | -0.40289836 |  15.125 |   15.5  | 0.0053 | -0.8046 | 3.750000e-01 |\n",
      "| 5  |   15.21875  | -0.19960925 |  15.125 | 15.3125 | 0.0053 | -0.4029 | 1.875000e-01 |\n",
      "| 6  |  15.171875  | -0.09734443 |  15.125 | 15.2188 | 0.0053 | -0.1996 | 9.375000e-02 |\n",
      "| 7  |  15.1484375 | -0.04605603 |  15.125 | 15.1719 | 0.0053 | -0.0973 | 4.687500e-02 |\n",
      "| 8  | 15.13671875 | -0.02037272 |  15.125 | 15.1484 | 0.0053 | -0.0461 | 2.343750e-02 |\n",
      "| 9  | 15.13085938 | -0.00752127 |  15.125 | 15.1367 | 0.0053 | -0.0204 | 1.171875e-02 |\n",
      "| 10 | 15.12792969 |  -0.0010931 |  15.125 | 15.1309 | 0.0053 | -0.0075 | 5.859375e-03 |\n",
      "| 11 | 15.12646484 |  0.0021216  |  15.125 | 15.1279 | 0.0053 | -0.0011 | 2.929688e-03 |\n",
      "| 12 | 15.12719727 |  0.0005142  | 15.1265 | 15.1279 | 0.0021 | -0.0011 | 1.464844e-03 |\n",
      "| 13 | 15.12756348 | -0.00028946 | 15.1272 | 15.1279 | 0.0005 | -0.0011 | 7.324219e-04 |\n",
      "| 14 | 15.12738037 |  0.00011237 | 15.1272 | 15.1276 | 0.0005 | -0.0003 | 3.662109e-04 |\n",
      "| 15 | 15.12747192 |  -8.855e-05 | 15.1274 | 15.1276 | 0.0001 | -0.0003 | 1.831055e-04 |\n",
      "| 16 | 15.12742615 |  1.191e-05  | 15.1274 | 15.1275 | 0.0001 | -0.0001 | 9.155273e-05 |\n",
      "+----+-------------+-------------+---------+---------+--------+---------+--------------+\n"
     ]
    }
   ],
   "source": [
    "cm = bissecao(str(fs),14,17.0,1e-4,20)"
   ]
  },
  {
   "cell_type": "markdown",
   "metadata": {},
   "source": [
    "O coeficiente de arrasto aproximado para este caso é dado por:"
   ]
  },
  {
   "cell_type": "code",
   "execution_count": 15,
   "metadata": {},
   "outputs": [
    {
     "data": {
      "text/plain": [
       "15.127426147460938"
      ]
     },
     "execution_count": 15,
     "metadata": {},
     "output_type": "execute_result"
    }
   ],
   "source": [
    "cm"
   ]
  },
  {
   "cell_type": "markdown",
   "metadata": {},
   "source": [
    "## Exercícios\n",
    "\n",
    "1. Repita a análise anterior alterando os parâmetros de projeto de salto para paraquedistas de diferentes massas e com duração de salto até a velocidade terminal variáveis. Faça a análise gráfica e busque aproximações.\n",
    "\n",
    "2. Programe uma nova função para executar o método da falsa posição ou estenda o código anterior para uma nova função que contemple os dois casos (sugestão: use `if`)."
   ]
  },
  {
   "cell_type": "markdown",
   "metadata": {},
   "source": [
    "## Problema proposto \n",
    "\n",
    "Uma reação química reversível $2A+B \\iff C$ pode ser caracterizada pela relação de equilíbrio $K = \\dfrac{c_c}{c_a^2c_b}$, onde a nomenclatura $c_i$ representa a concentração do constituinte $i$. Suponha que $x$ é o número de moles de $C$ que são produzidos. A conservação da massa pode ser usada para reformular a relação de equilíbrio como\n",
    "\n",
    "$$K = \\dfrac{(c_{c,0} + x)}{(c_{a,0} - 2x)^2 (c_{b,0} - x)},$$\n",
    "\n",
    "onde o subscrito $0$ designa a concentração inicial de cada constituinte. Considere $K = 0,016$, $c_{a,0} = 42$, $c_{b,0} = 28$ e $c_{c,0} = 4$ e faça o que se pede:\n",
    "\n",
    "\n",
    "1. Faça a análise gráfica do problema.\n",
    "2. Com base em no item anterior, escolha aproximações $x_l$ e $x_r$ adequadas e adote $\\epsilon_s = 0,5\\%$ como erro. (Vide clipping _Definições de erro_ para entender $\\epsilon_s$.)\n",
    "3. Aplique o método da bisseção para determinar uma aproximação para $x$."
   ]
  }
 ],
 "metadata": {
  "kernelspec": {
   "display_name": "Python 3.10.6 64-bit",
   "language": "python",
   "name": "python3"
  },
  "language_info": {
   "codemirror_mode": {
    "name": "ipython",
    "version": 3
   },
   "file_extension": ".py",
   "mimetype": "text/x-python",
   "name": "python",
   "nbconvert_exporter": "python",
   "pygments_lexer": "ipython3",
   "version": "3.10.6"
  },
  "vscode": {
   "interpreter": {
    "hash": "b0fa6594d8f4cbf19f97940f81e996739fb7646882a419484c72d19e05852a7e"
   }
  }
 },
 "nbformat": 4,
 "nbformat_minor": 4
}
