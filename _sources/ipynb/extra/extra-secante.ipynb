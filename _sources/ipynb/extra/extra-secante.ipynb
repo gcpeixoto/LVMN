{
 "cells": [
  {
   "cell_type": "markdown",
   "metadata": {},
   "source": [
    "# Implementação do método da secante "
   ]
  },
  {
   "cell_type": "markdown",
   "metadata": {},
   "source": [
    "Neste capítulo, utilizamos uma implementação própria do método da secante para resolver equações não-lineares unidimensionais. O algoritmo é capaz de lidar com uma quantidade razoável de funções matemáticas.\n",
    "\n",
    "Para ser executado, o método `secante` requer 5 parâmetros: \n",
    "\n",
    "- estimativas iniciais `xa` e `xb`;\n",
    "- a função $f(x)$ propriamente dita, representada por `f`;\n",
    "- o erro relativo desejado $ER$, representado por `tol`;\n",
    "- o número máximo de iterações $N$ para tentativa de solução, representado por `N`."
   ]
  },
  {
   "cell_type": "code",
   "execution_count": 2,
   "metadata": {},
   "outputs": [],
   "source": [
    "import inspect, re\n",
    "import numpy as np\n",
    "import matplotlib.pyplot as plt\n",
    "from prettytable import PrettyTable as pt\n",
    "\n",
    "def secante(xa,xb,f,tol,N):\n",
    "    \"\"\"Algoritmo para determinação de raízes pelo método da secante.\n",
    "\n",
    "    Parâmetros: \n",
    "        f: string dependendo de uma variável, i.e., a função-alvo\n",
    "            (e.g., 'x**2 - 1', 'x**2*cos(x)', etc.) \n",
    "        xa: 1a. estimativa \n",
    "        xb: 2a. estimativa        \n",
    "        tol: erro relativo desejado (tolerância)\n",
    "        N: número máximo de iterações a repetir\n",
    "\n",
    "    Retorno: \n",
    "        x: aproximação para a raiz da função\n",
    "    \"\"\"\n",
    "\n",
    "    # construtor de tabela\n",
    "    table = pt()\n",
    "    \n",
    "    # substitui expressões da string pelas chamadas das funções do numpy\n",
    "    f = re.sub('(sin|sinh|cos|cosh|tan|tanh|exp|log|sqrt|log10|arcsin|arccos|arctan|arcsinh|arccosh|arctanh)', r'np.\\1', f)    \n",
    "    \n",
    "    # identifica a variável independente em f\n",
    "    var = re.search(r'([a-zA-Z][\\w]*) ?([\\+\\-\\/*]|$|\\))', f).group(1)\n",
    "    \n",
    "    # cria função\n",
    "    f = eval('lambda ' + var + ' :' + f)\n",
    "    \n",
    "    # checa se a função é de uma variável, senão lança erro        \n",
    "    try: \n",
    "        len(inspect.getfullargspec(f).args) - 1 > 0\n",
    "    except:\n",
    "        raise ValueError('O código é válido apenas para uma variável.')\n",
    "    \n",
    "    it = 0 # contador de iteracoes\n",
    "    \n",
    "    # cabeçalho de tabela\n",
    "    table.field_names = ['i','x','f(x)','ER']\n",
    "\n",
    "    # imprime estimativa inicial\n",
    "    print(f'Estimativas iniciais: xa = {xa:.6f}; xb = {xb:.6f}\\n')  \n",
    "\n",
    "    # Loop \n",
    "    for i in range(0,N):\n",
    "        \n",
    "        x = (xa*f(xb) - xb*f(xa))/(f(xb) - f(xa))\n",
    "        \n",
    "        e = abs(x-xb)/abs(x) # erro\n",
    "        \n",
    "        # tabela\n",
    "        # impressão de tabela\n",
    "        table.add_row([i,np.round(x,8),np.round(f(x),8),f'{e:e}'])\n",
    "        table.align = 'c';      \n",
    "        \n",
    "        if e < tol:\n",
    "            break\n",
    "        xa = xb\n",
    "        xb = x                \n",
    "        \n",
    "    print(table)\n",
    "       \n",
    "    if i == N:\n",
    "        print(f'Solução não obtida em {N:d} iterações')\n",
    "    else:\n",
    "        print(f'Solução obtida: x = {x:.6f}')\n",
    "\n",
    "    return x"
   ]
  },
  {
   "cell_type": "markdown",
   "metadata": {},
   "source": [
    "## Problema\n",
    "\n",
    "Determinar a raiz positiva da equação: $f(x) = \\sqrt{x} - 2e^{-2x}$, pelo método das secantes com erro inferior a $10^{-5}$. "
   ]
  },
  {
   "cell_type": "markdown",
   "metadata": {},
   "source": [
    "### Resolução"
   ]
  },
  {
   "cell_type": "markdown",
   "metadata": {},
   "source": [
    "Para obter os valores iniciais $x_0$ e $x_1$ necessários ao processo iterativo do método das secantes, fazemos a análise gráfica."
   ]
  },
  {
   "cell_type": "code",
   "execution_count": 27,
   "metadata": {},
   "outputs": [
    {
     "data": {
      "image/png": "[encoded data removed]",
      "text/plain": [
       "<Figure size 600x300 with 1 Axes>"
      ]
     },
     "metadata": {},
     "output_type": "display_data"
    }
   ],
   "source": [
    "def f(x):\n",
    "    return np.sqrt(x) - 2*np.exp(-2*x) \n",
    "  \n",
    "x = np.linspace(0,3,100)\n",
    "plt.figure(figsize=(6,3))\n",
    "plt.plot(x,f(x),label='$f(x) = \\\\sqrt{x} - 2e^{-2x}$');\n",
    "plt.axhline(y=0,color='r',linestyle=':')\n",
    "plt.legend();"
   ]
  },
  {
   "cell_type": "markdown",
   "metadata": {},
   "source": [
    "Verificamos que a raiz encontra-se próxima a $0.5$"
   ]
  },
  {
   "cell_type": "code",
   "execution_count": 28,
   "metadata": {},
   "outputs": [
    {
     "data": {
      "text/plain": [
       "-0.028652101156337095"
      ]
     },
     "execution_count": 28,
     "metadata": {},
     "output_type": "execute_result"
    }
   ],
   "source": [
    "f(0.5)"
   ]
  },
  {
   "cell_type": "markdown",
   "metadata": {},
   "source": [
    "Assim, podemos escolher duas estimativas iniciais próximas deste valor, digamos $x_0 = 0.5 - \\delta x$ e $x_1 = 0.5 + \\delta x$, com $\\delta x = 10^{-1}$."
   ]
  },
  {
   "cell_type": "code",
   "execution_count": 4,
   "metadata": {},
   "outputs": [
    {
     "name": "stdout",
     "output_type": "stream",
     "text": [
      "Estimativas iniciais: xa = 0.400000; xb = 0.600000\n",
      "\n",
      "+---+------------+-------------+--------------+\n",
      "| i |     x      |     f(x)    |      ER      |\n",
      "+---+------------+-------------+--------------+\n",
      "| 0 | 0.52143975 |  0.01723111 | 1.506603e-01 |\n",
      "| 1 | 0.51270504 | -0.00126447 | 1.703652e-02 |\n",
      "| 2 | 0.5133022  |   8.57e-06  | 1.163365e-03 |\n",
      "| 3 | 0.51329818 |     0.0     | 7.829741e-06 |\n",
      "+---+------------+-------------+--------------+\n",
      "Solução obtida: x = 0.513298\n"
     ]
    }
   ],
   "source": [
    "x0, dx = 0.5, 1e-1\n",
    "x = secante(x0 - dx,x0 + dx,'sqrt(x) - 2*exp(-2*x)',1e-5,100)"
   ]
  },
  {
   "cell_type": "markdown",
   "metadata": {},
   "source": [
    "## Exemplo\n",
    "\n",
    "Resolva o problema $f(x) = 0$, para $f(x) = -\\text{arccos}(x) + 4\\text{sen}(x) + 1.7$, no intervalo $-0.2 \\le x \\le 1.0$ e $\\epsilon = 10^{-3}$."
   ]
  },
  {
   "cell_type": "code",
   "execution_count": 10,
   "metadata": {},
   "outputs": [
    {
     "name": "stdout",
     "output_type": "stream",
     "text": [
      "Estimativas iniciais: xa = -0.900000; xb = -0.700000\n",
      "\n",
      "+---+-------------+-------------+--------------+\n",
      "| i |      x      |     f(x)    |      ER      |\n",
      "+---+-------------+-------------+--------------+\n",
      "| 0 |  0.01559341 |  0.20716881 | 4.589077e+01 |\n",
      "| 1 | -0.02762483 | -0.00890993 | 1.564471e+00 |\n",
      "| 2 | -0.02584274 |   -1.4e-06  | 6.895899e-02 |\n",
      "| 3 | -0.02584246 |     0.0     | 1.082134e-05 |\n",
      "+---+-------------+-------------+--------------+\n",
      "Solução obtida: x = -0.025842\n"
     ]
    }
   ],
   "source": [
    "x0, dx = -0.8, 1e-1\n",
    "x = secante(x0 - dx,x0 + dx,'-arccos(x) + 4*sin(x) + 1.7',1e-3,20)"
   ]
  },
  {
   "cell_type": "markdown",
   "metadata": {},
   "source": [
    "Resolvemos usando outras estimativas iniciais."
   ]
  },
  {
   "cell_type": "code",
   "execution_count": 39,
   "metadata": {},
   "outputs": [
    {
     "name": "stdout",
     "output_type": "stream",
     "text": [
      "Estimativas iniciais: xa = -0.901000; xb = -0.899000\n",
      "\n",
      "+---+-------------+-------------+--------------+\n",
      "| i |      x      |     f(x)    |      ER      |\n",
      "+---+-------------+-------------+--------------+\n",
      "| 0 | -0.03737686 | -0.05765454 | 2.305231e+01 |\n",
      "| 1 | -0.02514562 |  0.00348352 | 4.864164e-01 |\n",
      "| 2 | -0.02584253 |   -3.5e-07  | 2.696761e-02 |\n",
      "| 3 | -0.02584246 |     -0.0    | 2.747395e-06 |\n",
      "+---+-------------+-------------+--------------+\n",
      "Solução obtida: x = -0.025842\n"
     ]
    }
   ],
   "source": [
    "x0, dx = -0.9, 1e-3\n",
    "x = secantes(x0 - dx,x0 + dx,'-arccos(x) + 4*sin(x) + 1.7',1e-3,20)"
   ]
  }
 ],
 "metadata": {
  "kernelspec": {
   "display_name": "Python 3 (ipykernel)",
   "language": "python",
   "name": "python3"
  },
  "language_info": {
   "codemirror_mode": {
    "name": "ipython",
    "version": 3
   },
   "file_extension": ".py",
   "mimetype": "text/x-python",
   "name": "python",
   "nbconvert_exporter": "python",
   "pygments_lexer": "ipython3",
   "version": "3.9.16"
  },
  "vscode": {
   "interpreter": {
    "hash": "b0fa6594d8f4cbf19f97940f81e996739fb7646882a419484c72d19e05852a7e"
   }
  }
 },
 "nbformat": 4,
 "nbformat_minor": 4
}
