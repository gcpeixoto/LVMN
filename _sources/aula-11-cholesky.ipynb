{
 "cells": [
  {
   "cell_type": "markdown",
   "metadata": {},
   "source": [
    "# Fatoração de Cholesky"
   ]
  },
  {
   "cell_type": "code",
   "execution_count": 1,
   "metadata": {},
   "outputs": [],
   "source": [
    "%matplotlib inline"
   ]
  },
  {
   "cell_type": "markdown",
   "metadata": {},
   "source": [
    "## Matrizes positivas definidas\n",
    "\n",
    "**Definição (baseada em autovalores)** uma matriz ${\\bf A}$ é _positiva definida_ se todos os seus autovalores são positivos ($\\lambda > 0$). \n",
    "\n",
    "Entretanto, não é conveniente computar todos os autovalores de uma matriz para saber se ela é ou não positiva definida. Há meios mais rápidos de fazer este teste como o da \"energia\".  \n",
    "\n",
    "**Definição (baseada em energia)**: uma matriz ${\\bf A}$ é _positiva definida_ se ${\\bf x}^T {\\bf A} {\\bf x} > 0$ para todo vetor não-nulo ${\\bf x}$.\n",
    "\n",
    "Para a ordem $n=2$, temos os eguinte resultado: \n",
    "\n",
    "$${\\bf x}^T {\\bf A} {\\bf x} = \n",
    "\\left[\\begin{matrix}x_{1} & x_{2}\\end{matrix}\\right]\n",
    "\\left[\\begin{matrix}a_{11} & a_{12}\\\\a_{12} & a_{22}\\end{matrix}\\right]\n",
    "\\left[\\begin{matrix}x_{1}\\\\x_{2}\\end{matrix}\\right]\n",
    "= a_{11} x_{1}^{2} + 2 a_{12} x_{1} x_{2} + a_{22} x_{2}^{2} > 0$$\n",
    "Em muitas aplicações, este número é a \"energia\" no sistema.\n",
    "\n",
    "O código abaixo mostra que esta multiplicação produz uma forma quadrática para a ordem $n$. \n"
   ]
  },
  {
   "cell_type": "code",
   "execution_count": 2,
   "metadata": {},
   "outputs": [
    {
     "data": {
      "image/png": "[encoded data removed]",
      "text/latex": [
       "$\\displaystyle a_{11} x_{1}^{2} + 2 a_{12} x_{1} x_{2} + 2 a_{13} x_{1} x_{3} + a_{22} x_{2}^{2} + 2 a_{23} x_{2} x_{3} + a_{33} x_{3}^{2}$"
      ],
      "text/plain": [
       "      2                                     2                       2\n",
       "a₁₁⋅x₁  + 2⋅a₁₂⋅x₁⋅x₂ + 2⋅a₁₃⋅x₁⋅x₃ + a₂₂⋅x₂  + 2⋅a₂₃⋅x₂⋅x₃ + a₃₃⋅x₃ "
      ]
     },
     "execution_count": 2,
     "metadata": {},
     "output_type": "execute_result"
    }
   ],
   "source": [
    "import sympy as sp\n",
    "sp.init_printing(use_unicode=True)\n",
    "\n",
    "x1,x2,x3 = sp.symbols('x1,x2,x3')\n",
    "\n",
    "# ordem do sistema\n",
    "n = 3\n",
    "\n",
    "x = sp.zeros(1,n)\n",
    "A = sp.zeros(n,n)\n",
    "aux = 0*A;\n",
    "for i in range(n):\n",
    "    x[i] = sp.symbols('x' + str(i+1))\n",
    "    for j in range(n):    \n",
    "        if i == j: # diagonal\n",
    "            A[i,i] = sp.symbols('a' + str(i+1) + str(i+1))        \n",
    "        elif j > i: # triang. superior\n",
    "            aux[i,j] = sp.symbols('a' + str(i+1) + str(j+1))        \n",
    "\n",
    "# matriz\n",
    "A = A + aux.T + aux # compõe D + L + U\n",
    "A = sp.Matrix(A)\n",
    "\n",
    "# vetor\n",
    "x = sp.Matrix(x)\n",
    "x = x.T\n",
    "\n",
    "# matriz positiva definida\n",
    "c = (x.T)*A*x\n",
    "\n",
    "# expressãoo quadrática\n",
    "sp.expand(c[0])\n"
   ]
  },
  {
   "cell_type": "markdown",
   "metadata": {},
   "source": [
    "Ainda falando sobre o caso $n=2$, observamos que os autovalores da matriz ${\\bf A}$ são positivos se, e somente se \n",
    "\n",
    "$$a_{11}>0 \\qquad  \\text{e} \\qquad  a_{11}a_{22} - a_{12}^2 > 0.$$ \n",
    "\n",
    "Na verdade, esta regra vale para todos os **pivôs**. Estes dois últimos valores são os pivôs de uma matriz simétrica 2x2 (verifique a eliminação de Gauss quando aplicada à segunda equação). \n",
    "\n",
    "A teoria da Álgebra Linear permite-nos elencar as seguintes declarações, **todas equivalentes**, acerca da determinação de uma matriz positiva definida ${\\bf A}$: \n",
    "\n",
    "1. Todos os seus $n$ pivôs são positivos. \n",
    "\n",
    "2. Todos os determinantes menores superiores esquerdos (ou principais) são positivos (veja Critério de Sylvester). \n",
    "\n",
    "3. Todos os seus $n$ autovalores são positivos. \n",
    "\n",
    "4. ${\\bf x}^T {\\bf A}{\\bf x} > 0$ para todo vetor não-nulo ${\\bf x}$. (Definição baseada na \"energia\").\n",
    "\n",
    "5. ${\\bf A} = {\\bf G}{\\bf G}^T$ para uma matriz ${\\bf G}$ com colunas independentes. "
   ]
  },
  {
   "cell_type": "markdown",
   "metadata": {},
   "source": [
    "### Interpretação geométrica \n",
    "\n",
    "Matrizes positivas definidas realizam transformações \"limitadas\" no sentido de \"semiplano\" do vetor transformado. Por exemplo, se tomarmos um vetor ${\\bf x} \\in \\mathbb{R}^2$ não-nulo e usarmos o fato de que para uma matriz positiva definida, a inequação ${\\bf x}^T{\\bf A}{\\bf x} > 0$ deve valer, ao chamarmos ${\\bf y} = {\\bf A}{\\bf x}$, a expressão anterior é o produto interno entre ${\\bf x}$ e ${\\bf y}$, a saber ${\\bf x}^T{\\bf y}$. Se o produto interno é positivo, já sabemos que os vetores não são ortogonais. Agora, para verificar que eles realmente pertencem a um mesmo semiplano, usaremos a seguinte expressão para o ângulo entre dois vetores: \n",
    "\n",
    "$$\\cos(\\theta) = \\dfrac{{\\bf x}^T {\\bf y}}{||{\\bf x}||{\\bf y}||}$$\n",
    "\n",
    "Uma vez que a norma (comprimento) de um vetor é sempre um número real positivo, o produto $||{\\bf x}||{\\bf y}||$ no denominador acima é um número real positivo. Se ${\\bf x}^T {\\bf y}$ > 0, então $\\cos(\\theta) > 0$, e o efeito geométrico da transformação é   \n",
    "\n",
    "$$|\\theta| < \\frac{\\pi}{2},$$\n",
    "\n",
    "ou seja, o ângulo entre ${\\bf x}$ e ${\\bf y}$ é sempre menor do que 90 graus (ou $\\pi/2$ radianos). "
   ]
  },
  {
   "cell_type": "markdown",
   "metadata": {},
   "source": [
    "## Método da Fatoração de Cholesky\n",
    "\n",
    "Trata-se de um algoritmo para resolução de sistemas lineares ${\\bf A}{\\bf x} = {\\bf b}$ através da decomposição da matriz ${\\bf A}$ em dois fatores simétricos, ${\\bf G}$ e ${\\bf G}^T$. O método é aplicável apenas a sistemas cuja matriz associada é simétrica e positiva definida."
   ]
  },
  {
   "cell_type": "markdown",
   "metadata": {},
   "source": [
    "### Passos\n",
    "\n",
    "- Primeiramente, é necessário checar se a matriz associada ao sistema cumpre os requisitos da fatoração de Cholesky:\n",
    "    - **Simetria**: a matriz é simétrica quando sua transposta é igual a ela própria:\n",
    "$$A=A^T$$\n",
    "    - **Definição positiva**: averiguamos se o Critério de Sylvester é satisfeito. Ou seja, verificamos se todos os determinantes menores principais da matriz, constituídos pelas $k$ primeiras linhas e $k$ primeiras colunas dela, são maiores do que zero:\n",
    "\n",
    "$$\\det({\\bf A}_k) > 0\\text{, onde } k=1,2,\\ldots,n \\text{ para matrizes }A_{nxn}$$\n",
    "\n",
    "Concluídas as verificações anteriores, decompomos a matriz ${\\bf A}_{nxn}$ em uma triangular inferior ${\\bf A}$ e sua transposta ${\\bf A}^T$, a qual é triangular superior.  O processo é descrito abaixo:\n",
    "\n",
    "- Para uma matriz $A_{4x4}$ obtém-se o fator de Cholesky da seguinte forma:\n",
    "\n",
    "$${\\bf A} = {\\bf G}{\\bf G}^T \\Rightarrow\n",
    " \\begin{bmatrix}\n",
    "a_{11} & a_{12} & a_{13} & a_{14} \\\\\n",
    "a_{21} & a_{22} & a_{23} & a_{24} \\\\\n",
    "a_{31} & a_{32} & a_{33} & a_{34} \\\\\n",
    "a_{41} & a_{42} & a_{43} & a_{44}\n",
    " \\end{bmatrix} =\n",
    " \\begin{bmatrix}\n",
    "g_{11} &             &            &              \\\\\n",
    "g_{21} & g_{22} &            &              \\\\\n",
    "g_{31} & g_{32} & g_{33} &             \\\\\n",
    "g_{41} & g_{42} & g_{43} & g_{44} \\\\\n",
    " \\end{bmatrix}\n",
    " \\begin{bmatrix}\n",
    "g_{11} & g_{21} & g_{31} &  g_{41} \\\\\n",
    "            & g_{22} & g_{32} & g_{42} \\\\\n",
    "            &             & g_{33} & g_{43} \\\\\n",
    "           &              &             & g_{44} \\\\\n",
    " \\end{bmatrix}\n",
    "$$\n",
    "\n",
    "- Este sistema pode ser resolvido comparando cada coluna de ${\\bf A}$ com a multiplicação de ${\\bf G}$ por cada coluna de ${\\bf G}^T$ de maneira que ${\\bf x}_{kxn} = {\\bf G}{\\bf G}^T_{kxn}, \\, k = 1,2,\\ldots, n$. Através dessa sequência são obtidos sistemas simples, em que cada coluna $k$ terá os valores de $g_{kn}$e, após a atualização do iterador $k \\rightarrow k + 1$, não será necessário resolver novamente as $k − 1$ linhas do próximo sistema gerado.\n",
    "\n",
    "De posse dos valores que geram as matrizes triangulares, é possível seguir para a última etapa, a qual consiste em obter o vetor ${\\bf x}$ fazendo\n",
    "\n",
    "$${\\bf A}{\\bf x}={\\bf b} \\implies ({\\bf G}{\\bf G}^T){\\bf x}={\\bf b} \\implies {\\bf G}({\\bf G}^T{\\bf x})={\\bf b} \\implies {\\bf G}{\\bf y}=B.$$\n",
    "\n",
    "Aqui, usamos o mesmo processo utilizado na Fatoração LU. Primeiramente, obtemos o vetor ${\\bf y}$ após a resolução do sistema ${\\bf G}{\\bf y} = {\\bf b}$. Enfim, obtemos ${\\bf x}$ através da relação ${\\bf G}^T {\\bf x} = {\\bf y}$. Fazendo com que, assim, seja obtido o vetor ${\\bf x}$ que resolve o sistema linear proposto no inicio."
   ]
  },
  {
   "cell_type": "markdown",
   "metadata": {},
   "source": [
    "## Algoritmo para a fatoração de Cholesky\n",
    "\n",
    "O código abaixo é uma implementação de um algoritmo para a fatoração de Cholesky por computação simbólica."
   ]
  },
  {
   "cell_type": "code",
   "execution_count": 3,
   "metadata": {},
   "outputs": [
    {
     "data": {
      "image/png": "[encoded data removed]",
      "text/latex": [
       "$\\displaystyle \\left[\\begin{matrix}\\sqrt{a_{11}} & a_{12} & a_{13}\\\\\\frac{a_{12}}{\\sqrt{a_{11}}} & \\sqrt{a_{22} - \\frac{a_{12}^{2}}{a_{11}}} & a_{23}\\\\\\frac{a_{13}}{\\sqrt{a_{11}}} & \\frac{a_{23} - \\frac{a_{12} a_{13}}{a_{11}}}{\\sqrt{a_{22} - \\frac{a_{12}^{2}}{a_{11}}}} & \\sqrt{a_{33} - \\frac{\\left(a_{23} - \\frac{a_{12} a_{13}}{a_{11}}\\right)^{2}}{a_{22} - \\frac{a_{12}^{2}}{a_{11}}} - \\frac{2 a_{13}^{2}}{a_{11}}}\\end{matrix}\\right]$"
      ],
      "text/plain": [
       "⎡  _____                                                                ⎤\n",
       "⎢╲╱ a₁₁          a₁₂                             a₁₃                    ⎥\n",
       "⎢                                                                       ⎥\n",
       "⎢              ____________                                             ⎥\n",
       "⎢             ╱          2                                              ⎥\n",
       "⎢  a₁₂       ╱        a₁₂                                               ⎥\n",
       "⎢───────    ╱   a₂₂ - ────                       a₂₃                    ⎥\n",
       "⎢  _____  ╲╱          a₁₁                                               ⎥\n",
       "⎢╲╱ a₁₁                                                                 ⎥\n",
       "⎢                                                                       ⎥\n",
       "⎢                                      _________________________________⎥\n",
       "⎢                                     ╱                      2          ⎥\n",
       "⎢                 a₁₂⋅a₁₃            ╱        ⎛      a₁₂⋅a₁₃⎞           ⎥\n",
       "⎢           a₂₃ - ───────           ╱         ⎜a₂₃ - ───────⎟         2 ⎥\n",
       "⎢  a₁₃              a₁₁            ╱          ⎝        a₁₁  ⎠    2⋅a₁₃  ⎥\n",
       "⎢───────  ─────────────────       ╱     a₃₃ - ──────────────── - ────── ⎥\n",
       "⎢  _____       ____________      ╱                        2       a₁₁   ⎥\n",
       "⎢╲╱ a₁₁       ╱          2      ╱                      a₁₂              ⎥\n",
       "⎢            ╱        a₁₂      ╱                 a₂₂ - ────             ⎥\n",
       "⎢           ╱   a₂₂ - ────   ╲╱                        a₁₁              ⎥\n",
       "⎣         ╲╱          a₁₁                                               ⎦"
      ]
     },
     "execution_count": 3,
     "metadata": {},
     "output_type": "execute_result"
    }
   ],
   "source": [
    "# implementação de algoritmo simbólico \n",
    "# para a decomposição de Cholesky \n",
    "\n",
    "B = A[:,:] # faz cópia da matriz A\n",
    "\n",
    "for k in range(0,n):\n",
    "    for i in range(0,k):\n",
    "        s = 0.\n",
    "        for j in range(0,i):\n",
    "            s += B[i,j]*B[k,j]\n",
    "        B[k,i] = (B[k,i] - s)/B[i,i]\n",
    "    s = 0.\n",
    "    for j in range(0,k):\n",
    "        s += s + B[k,j]*B[k,j]\n",
    "    B[k,k] = sp.sqrt(B[k,k] - s)\n",
    "\n",
    "# saída \n",
    "B"
   ]
  },
  {
   "cell_type": "markdown",
   "metadata": {},
   "source": [
    "#### Tarefa \n",
    "\n",
    "Converta o código simbólico acima para uma versão numérica (ou implemente a sua própria versão) e aplique-o na matriz abaixo para encontrar o fator de Cholesky: \n",
    "\n",
    "$$\\textbf{A} = \n",
    "\\begin{bmatrix}\n",
    "6 & 15 & 55 \\\\\n",
    "15 & 55 & 225 \\\\\n",
    "55 & 225 & 979 \n",
    "\\end{bmatrix}$$"
   ]
  },
  {
   "cell_type": "markdown",
   "metadata": {},
   "source": [
    "## Cálculo do fator de Cholesky com Python"
   ]
  },
  {
   "cell_type": "code",
   "execution_count": 4,
   "metadata": {},
   "outputs": [
    {
     "name": "stdout",
     "output_type": "stream",
     "text": [
      "Matriz A = \n",
      " [[16 -4 12 -4]\n",
      " [-4  2 -1  1]\n",
      " [12 -1 14 -2]\n",
      " [-4  1 -2 83]]\n",
      "Matriz L = \n",
      " [[ 4.  0.  0.  0.]\n",
      " [-1.  1.  0.  0.]\n",
      " [ 3.  2.  1.  0.]\n",
      " [-1.  0.  1.  9.]]\n",
      "Matriz L^T = \n",
      " [[ 4. -1.  3. -1.]\n",
      " [ 0.  1.  2.  0.]\n",
      " [ 0.  0.  1.  1.]\n",
      " [ 0.  0.  0.  9.]]\n",
      "Matriz LL^T = \n",
      " [[16. -4. 12. -4.]\n",
      " [-4.  2. -1.  1.]\n",
      " [12. -1. 14. -2.]\n",
      " [-4.  1. -2. 83.]]\n",
      "Norma || A - LL^T || =  0.0\n"
     ]
    },
    {
     "data": {
      "image/png": "[encoded data removed]",
      "text/plain": [
       "<Figure size 288x288 with 1 Axes>"
      ]
     },
     "metadata": {
      "needs_background": "light"
     },
     "output_type": "display_data"
    },
    {
     "data": {
      "image/png": "[encoded data removed]",
      "text/plain": [
       "<Figure size 288x288 with 1 Axes>"
      ]
     },
     "metadata": {
      "needs_background": "light"
     },
     "output_type": "display_data"
    },
    {
     "data": {
      "image/png": "[encoded data removed]",
      "text/plain": [
       "<Figure size 288x288 with 1 Axes>"
      ]
     },
     "metadata": {
      "needs_background": "light"
     },
     "output_type": "display_data"
    }
   ],
   "source": [
    "import matplotlib.pyplot as plt\n",
    "from scipy import array, linalg, dot, zeros\n",
    "\n",
    "# matriz\n",
    "A = array([[16, -4, 12, -4],\n",
    "           [-4, 2, -1, 1],\n",
    "           [12, -1, 14, -2],\n",
    "           [-4, 1, -2, 83]])\n",
    "\n",
    "# fator de Cholesky do Scipy\n",
    "L = linalg.cholesky(A, lower=True, overwrite_a=False, check_finite=True)\n",
    "\n",
    "# fator de Cholesky implementado\n",
    "n = A.shape[0]\n",
    "G = zeros(A.shape, dtype=float)\n",
    "\n",
    "print('Matriz A = \\n', A)\n",
    "print('Matriz L = \\n', L)\n",
    "print('Matriz L^T = \\n', L.T)\n",
    "\n",
    "# prova real por produto interno\n",
    "A2 = dot(L, L.T)\n",
    "print('Matriz LL^T = \\n', A2)\n",
    "\n",
    "# prova real usando norma de Frobenius da diferenca de matrizes\n",
    "print('Norma || A - LL^T || = ', linalg.norm(A-A2))\n",
    "\n",
    "plt.matshow(A,cmap=plt.cm.flag);\n",
    "plt.matshow(L,cmap=plt.cm.flag);\n",
    "plt.matshow(L.T,cmap=plt.cm.flag);"
   ]
  },
  {
   "cell_type": "code",
   "execution_count": 5,
   "metadata": {},
   "outputs": [],
   "source": [
    "from IPython.core.display import HTML\n",
    "\n",
    "def css_styling():\n",
    "    styles = open(\"styles/custom.css\", \"r\").read()\n",
    "    return HTML(styles)\n",
    "css_styling();"
   ]
  }
 ],
 "metadata": {
  "kernelspec": {
   "display_name": "Python 3",
   "language": "python",
   "name": "python3"
  },
  "language_info": {
   "codemirror_mode": {
    "name": "ipython",
    "version": 3
   },
   "file_extension": ".py",
   "mimetype": "text/x-python",
   "name": "python",
   "nbconvert_exporter": "python",
   "pygments_lexer": "ipython3",
   "version": "3.8.5"
  }
 },
 "nbformat": 4,
 "nbformat_minor": 4
}
