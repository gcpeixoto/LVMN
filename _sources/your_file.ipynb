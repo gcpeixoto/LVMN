{
 "cells": [
  {
   "cell_type": "code",
   "execution_count": null,
   "id": "7cc513db",
   "metadata": {},
   "outputs": [],
   "source": [
    "plot(fig, show_link=False,filename='figs/analise-grafica.html')\n",
    "display(HTML('figs/analise-grafica.html'))\n"
   ]
  },
  {
   "cell_type": "code",
   "execution_count": null,
   "id": "a5977c67",
   "metadata": {},
   "outputs": [],
   "source": [
    "import numpy as np\n",
    "import matplotlib.pyplot as plt \n",
    "\n",
    "# Parâmetros fixados \n",
    "t = 12.0\n",
    "v = 42.0\n",
    "m = 70.0\n",
    "g = 9.81\n"
   ]
  },
  {
   "cell_type": "code",
   "execution_count": null,
   "id": "fcbb00a3",
   "metadata": {},
   "outputs": [],
   "source": [
    "# Localização\n",
    "a,b = 5,20\n",
    "c = np.linspace(a,b,100)\n",
    "f = g*m/c*(1 - np.exp(-c/m*t)) - v # f(c) = 0\n",
    "\n",
    "plt.plot(c,f,'g-',c,c*0,'r--');\n",
    "plt.xlabel('c')\n",
    "plt.ylabel('f(c)')\n",
    "plt.title('Variação do coeficiente de arrasto')\n",
    "plt.grid(True)\n"
   ]
  },
  {
   "cell_type": "code",
   "execution_count": null,
   "id": "37fab56c",
   "metadata": {},
   "outputs": [],
   "source": [
    "# Refinamento\n",
    "a,b = 10,20\n",
    "c = np.linspace(a,b,100)\n",
    "f = g*m/c*(1 - np.exp(-c/m*t)) - v\n",
    "\n",
    "plt.plot(c,f,'g-')\n",
    "plt.plot(c,0*c,'r--')\n",
    "plt.grid()\n"
   ]
  },
  {
   "cell_type": "code",
   "execution_count": null,
   "id": "93cf23a9",
   "metadata": {},
   "outputs": [],
   "source": [
    "# Refinamento\n",
    "a,b = 14,16\n",
    "c = np.linspace(a,b,100)\n",
    "f = g*m/c*(1 - np.exp(-c/m*t)) - v\n",
    "\n",
    "plt.plot(c,f,'g-')\n",
    "plt.plot(c,0*c,'r--')\n",
    "plt.grid()\n"
   ]
  },
  {
   "cell_type": "code",
   "execution_count": null,
   "id": "d310bcf6",
   "metadata": {},
   "outputs": [],
   "source": [
    "# Refinamento\n",
    "a,b = 14.75,15.5\n",
    "c = np.linspace(a,b,100)\n",
    "f = g*m/c*(1 - np.exp(-c/m*t)) - v\n",
    "\n",
    "plt.plot(c,f,'g-')\n",
    "plt.plot(c,0*c,'r--')\n",
    "plt.grid()\n"
   ]
  },
  {
   "cell_type": "code",
   "execution_count": null,
   "id": "bf876b7d",
   "metadata": {},
   "outputs": [],
   "source": [
    "# Refinamento\n",
    "a,b = 15.12,15.14\n",
    "c = np.linspace(a,b,100)\n",
    "f = g*m/c*(1 - np.exp(-c/m*t)) - v\n",
    "\n",
    "plt.plot(c,f,'g-')\n",
    "plt.plot(c,0*c,'r--')\n",
    "plt.grid()\n"
   ]
  },
  {
   "cell_type": "code",
   "execution_count": null,
   "id": "3d19ee85",
   "metadata": {},
   "outputs": [],
   "source": [
    "import numpy as np, matplotlib.pyplot as plt\n",
    "\n",
    "class Parachute:\n",
    "    '''Cria objetos para realizar simulações com o modelo 1D de velocidade terminal\n",
    "       com base em opções do usuário.\n",
    "    '''\n",
    "    \n",
    "    # Variáveis de classe\n",
    "    base_param = None\n",
    "    unit = None\n",
    "    \n",
    "    # Construtor\n",
    "    def __init__(self, lim_inf: float, lim_sup: float, num: int, **kwargs):\n",
    "        self.dict = kwargs\n",
    "        self.a = lim_inf\n",
    "        self.b = lim_sup\n",
    "        self.num = num        \n",
    "            \n",
    "    # Função definidora do modelo matemático \n",
    "    def f(self):\n",
    "                \n",
    "        params = self.dict.keys()        \n",
    "        \n",
    "        # Variável: gravidade\n",
    "        if 'g' not in params:            \n",
    "            self.dict['g'] = np.linspace(self.a, self.b, self.num, dtype=np.float32)\n",
    "            x = self.dict['g']\n",
    "            self.base_param = 'g'\n",
    "            self.unit = '$m/s^2$'\n",
    "        \n",
    "        # Variável: massa  \n",
    "        elif 'm' not in params:            \n",
    "            self.dict['m'] = np.linspace(self.a, self.b, self.num, dtype=np.float32)\n",
    "            x = self.dict['m']\n",
    "            self.base_param = 'm'\n",
    "            self.unit = '$kg$'\n",
    "            \n",
    "        # Variável: coef. de arrasto\n",
    "        elif 'c' not in params:            \n",
    "            self.dict['c'] = np.linspace(self.a, self.b, self.num, dtype=np.float32)\n",
    "            x = self.dict['c']\n",
    "            self.base_param = 'c'\n",
    "            self.unit = '$kg/s$'\n",
    "            \n",
    "        # Variável: tempo\n",
    "        elif 't' not in params:            \n",
    "            self.dict['t'] = np.linspace(self.a, self.b, self.num, dtype=np.float32)\n",
    "            x = self.dict['t']\n",
    "            self.base_param = 't'\n",
    "            self.unit = '$s$'\n",
    "            \n",
    "        # Variável: velocidade (padrão)\n",
    "        else:                \n",
    "            self.dict['v'] = 0.0\n",
    "            self.dict['t'] = np.linspace(self.a, self.b, self.num, dtype=np.float32)      \n",
    "            x = self.dict['t']    \n",
    "            self.base_param = 't'    \n",
    "            self.unit = '$s$'        \n",
    "\n",
    "        # Modelo para velocidade terminal\n",
    "        y = self.dict['g']*self.dict['m']/self.dict['c']*(1 - np.exp( - self.dict['c']/self.dict['m']*self.dict['t'])) - self.dict['v']\n",
    "        \n",
    "        return x, y\n",
    "    \n",
    "    \n",
    "    # Função de suporte para plotagem \n",
    "    def plot(self, label: str):\n",
    "        \n",
    "        x,y = self.f()\n",
    "            \n",
    "        h = plt.plot(x,y,label=label)\n",
    "        plt.xlabel(f'{self.base_param} [{self.unit}]', fontsize=10)\n",
    "        plt.ylabel(f'y = f({self.base_param})', fontsize=10)              \n",
    "        plt.grid(True)\n",
    "        \n",
    "        return h        \n"
   ]
  },
  {
   "cell_type": "code",
   "execution_count": null,
   "id": "d361ccf2",
   "metadata": {},
   "outputs": [],
   "source": [
    "curves = []\n",
    "for ti in np.linspace(10,30,4,dtype='float32'):\n",
    "    line, = Parachute(30, 40, num=30, c=10, g=9.85, v=32, t=ti).plot(label=f't={ti:.2f} s')\n",
    "    curves.append(line)\n",
    "plt.legend(handles=curves,bbox_to_anchor=(1,1));\n"
   ]
  },
  {
   "cell_type": "code",
   "execution_count": null,
   "id": "3cd260b3",
   "metadata": {},
   "outputs": [],
   "source": [
    "curves = []\n",
    "for gi in np.linspace(9.8,10.4,4,dtype='float32'):\n",
    "    line, = Parachute(13, 22, num=30, m=70, g=gi, t=60, v=40).plot(label=f'g={gi:.2f} $m/s^2$')\n",
    "    curves.append(line)\n",
    "plt.legend(handles=curves,bbox_to_anchor=(1.,1));\n"
   ]
  },
  {
   "cell_type": "code",
   "execution_count": null,
   "id": "c36b6a82",
   "metadata": {},
   "outputs": [],
   "source": [
    "# No. de elementos\n",
    "N = 30\n",
    "\n",
    "# Função de iteração\n",
    "x = [1/2]\n",
    "\n",
    "print(f'x(0) = {x[0]}')\n",
    "for k in range(1,N):\n",
    "    phi = x[k-1]**1/2/np.pi - x[k-1]\n",
    "    x.append(phi)\n",
    "    print(f'x({k}) = {phi:.4f}')\n",
    "\n",
    "# Plotagem\n",
    "plt.figure(figsize=(8,3))\n",
    "plt.plot(x,'go',label=r'$\\dfrac{ (x^{(k)})^{1/2}}{\\pi} - x^{(k)}$')\n",
    "plt.xticks(range(N))\n",
    "plt.xlabel('$x^{(k)}$',fontsize=12)\n",
    "plt.ylabel('$\\phi_1^{(k)}$',fontsize=12)\n",
    "plt.grid(axis='both')\n",
    "plt.legend(loc='upper right');\n"
   ]
  },
  {
   "cell_type": "code",
   "execution_count": null,
   "id": "13fa3014",
   "metadata": {},
   "outputs": [],
   "source": [
    "x(0) = 0.5\n",
    "x(1) = -0.4204\n",
    "x(2) = 0.3535\n",
    "x(3) = -0.2972\n",
    "x(4) = 0.2499\n",
    "x(5) = -0.2102\n",
    "x(6) = 0.1767\n",
    "x(7) = -0.1486\n",
    "x(8) = 0.1249\n",
    "x(9) = -0.1051\n",
    "x(10) = 0.0883\n",
    "x(11) = -0.0743\n",
    "x(12) = 0.0625\n",
    "x(13) = -0.0525\n",
    "x(14) = 0.0442\n",
    "x(15) = -0.0371\n",
    "x(16) = 0.0312\n",
    "x(17) = -0.0263\n",
    "x(18) = 0.0221\n",
    "x(19) = -0.0186\n",
    "x(20) = 0.0156\n",
    "x(21) = -0.0131\n",
    "x(22) = 0.0110\n",
    "x(23) = -0.0093\n",
    "x(24) = 0.0078\n",
    "x(25) = -0.0066\n",
    "x(26) = 0.0055\n",
    "x(27) = -0.0046\n",
    "x(28) = 0.0039\n",
    "x(29) = -0.0033\n"
   ]
  },
  {
   "cell_type": "code",
   "execution_count": null,
   "id": "9985014b",
   "metadata": {},
   "outputs": [],
   "source": [
    "from math import factorial\n",
    "\n",
    "# No. de elementos\n",
    "N = 10\n",
    "\n",
    "# Função de iteração\n",
    "y = [1/5]\n",
    "print(f'y(0) = {y[0]}')\n",
    "for k in range(1,N):\n",
    "    phi = k/(y[k-1])\n",
    "    y.append(phi)\n",
    "    print(f'y({k}) = {phi:.4f}')\n",
    "\n",
    "# Plotagem\n",
    "plt.figure(figsize=(8,3))\n",
    "plt.plot(y,'go',label=r'$\\dfrac{k}{x^{(k-1)}}$')\n",
    "plt.xticks(range(N))\n",
    "plt.xlabel('$x^{(k)}$',fontsize=12)\n",
    "plt.ylabel('$\\phi_2^{(k)}$',fontsize=12)\n",
    "plt.grid(axis='both')\n",
    "plt.legend(loc='center right');\n"
   ]
  },
  {
   "cell_type": "code",
   "execution_count": null,
   "id": "a313eb63",
   "metadata": {},
   "outputs": [],
   "source": [
    "y(0) = 0.2\n",
    "y(1) = 5.0000\n",
    "y(2) = 0.4000\n",
    "y(3) = 7.5000\n",
    "y(4) = 0.5333\n",
    "y(5) = 9.3750\n",
    "y(6) = 0.6400\n",
    "y(7) = 10.9375\n",
    "y(8) = 0.7314\n",
    "y(9) = 12.3047\n"
   ]
  },
  {
   "cell_type": "code",
   "execution_count": null,
   "id": "39184ab2",
   "metadata": {},
   "outputs": [],
   "source": [
    "from numpy import exp, cos\n",
    "\n",
    "f = lambda x: exp(-x**2)*cos(3*x)\n",
    "x = np.linspace(0,4,1000)\n",
    "plt.plot(x,f(x),'g'); plt.grid()\n"
   ]
  },
  {
   "cell_type": "code",
   "execution_count": null,
   "id": "4dc163c9",
   "metadata": {},
   "outputs": [],
   "source": [
    "def forca_bruta(f,a,b,n):\n",
    "    from numpy import linspace\n",
    "    x = linspace(a,b,n)\n",
    "    y = f(x)\n",
    "    raizes = []\n",
    "    for i in range(n-1):\n",
    "        if y[i]*y[i+1] < 0:\n",
    "            raiz = x[i] - (x[i+1] - x[i])/(y[i+1] - y[i])*y[i]\n",
    "            raizes.append(raiz)\n",
    "    if len(raizes) == 0:               \n",
    "        print('Nenhuma raiz foi encontrada')\n",
    "    return raizes\n"
   ]
  },
  {
   "cell_type": "code",
   "execution_count": null,
   "id": "26850b0a",
   "metadata": {},
   "outputs": [],
   "source": [
    "a,b,n = 0,4,1000\n",
    "raizes = forca_bruta(f,a,b,n)\n",
    "print(raizes)\n"
   ]
  },
  {
   "cell_type": "code",
   "execution_count": null,
   "id": "2dd0f219",
   "metadata": {},
   "outputs": [],
   "source": [
    "[0.5236017411236913, 1.5708070694852787, 2.6180048381439596, 3.665219264613299]\n"
   ]
  },
  {
   "cell_type": "code",
   "execution_count": null,
   "id": "709d2515",
   "metadata": {},
   "outputs": [],
   "source": [
    "x2 = np.linspace(2.5,3.8,100)\n",
    "plt.plot(x2,f(x2),'g',x2,0*f(x2),'r:'); plt.grid()\n"
   ]
  },
  {
   "cell_type": "code",
   "execution_count": null,
   "id": "0804df08",
   "metadata": {},
   "outputs": [],
   "source": [
    "x3 = np.linspace(3.6,3.7,100)\n",
    "plt.plot(x3,f(x3),'g',x3,0*f(x3),'r:'); plt.grid()\n"
   ]
  },
  {
   "cell_type": "code",
   "execution_count": null,
   "id": "452a33e6",
   "metadata": {},
   "outputs": [],
   "source": [
    "r = np.array(raizes) # vetoriza a lista\n",
    "plt.plot(x,0*f(x),'r:',x,f(x),'g-',r,np.zeros(4),'ok',)\n",
    "plt.xlabel('$x$',fontsize=14)\n",
    "plt.ylabel('$f(x)$',fontsize=14)        \n",
    "plt.grid()\n",
    "plt.title('Raízes de$e^{-x^2}\\cos(3x)$');\n"
   ]
  }
 ],
 "metadata": {},
 "nbformat": 4,
 "nbformat_minor": 5
}
