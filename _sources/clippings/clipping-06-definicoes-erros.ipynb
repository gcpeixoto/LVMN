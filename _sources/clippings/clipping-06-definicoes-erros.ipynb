{
 "cells": [
  {
   "cell_type": "markdown",
   "metadata": {},
   "source": [
    "# Recorte 6: Definições de erro\n",
    "\n",
    "## Erro verdadeiro ou absoluto\n",
    "\n",
    "O _erro absoluto_ pode ser também denominado como _erro verdadeiro_ e dado por \n",
    "\n",
    "$$E_v = \\text{valor verdadeiro} - \\text{valor aproximado},$$\n",
    "\n",
    "onde o subscrito $v$ significa _verdadeiro_.  \n",
    "\n",
    "No entanto, o grande defeito do erro absoluto é não levar em conta a **ordem de grandeza** dos valores envolvidos no seu cálculo. Então, para levarmos em conta a ordem de grandeza, devemos normalizá-lo.\n",
    "\n",
    "## Erro relativo\n",
    "\n",
    "A normalização do erro absoluto produz o _erro relativo_, o qual pode ser relativo ao valor exato (verdadeiro) ou ao próprio valor aproximado. No primeiro caso, temos o _erro relativo verdadeiro_ $\\epsilon_v$, dado por\n",
    "$$\\epsilon_v = \\dfrac{E_v}{\\text{valor verdadeiro}}.$$ \n",
    "\n",
    "Em geral, os erros relativos são dados em porcentagem. Assim, podemos escrever \n",
    "\n",
    "$$\\epsilon_v = \\dfrac{E_v}{\\text{valor verdadeiro}} \\times 100\\%.$$ \n",
    "\n",
    "## Erro relativo aproximado\n",
    "\n",
    "Todavia, em situações reais, nem sempre conhecemos o valor verdadeiro. Ele está disponível quando temos soluções analíticas (\"fechadas\") para alguns problemas simplificados. Este desconhecimento prévio do valor verdadeiro leva-nos à necessidade de se estabelecer o erro relativo normalizado pelo valor aproximado, isto é,\n",
    "\n",
    "$$\\epsilon_a = \\dfrac{\\text{erro aproximado}}{\\text{valor aproximado}} \\times 100\\%,$$ \n",
    "\n",
    "sendo o erro aproximado não exatamente aquele dado por $E_v$. \n",
    "\n",
    "## Erro relativo - abordagem iterativa\n",
    "\n",
    "\n",
    "Em métodos numéricos aplicados a problemas do mundo real, temos interesse em determinar estimativas de erro, já que não temos conhecimento prévio relativo ao valor verdadeiro. A abordagem _iterativa_, que veremos mais à frente, encontra a aproximação atual com base em uma aproximação prévia, que parte de uma estimativa inicial. Para essas situações, o erro relativo é estimado como \n",
    "\n",
    "$$\\epsilon_a = \\dfrac{\\text{aproximação atual - aproximação prévia}}{\\text{aproximação atual}} \\times 100\\%$$\n",
    "\n",
    "Nos métodos iterativos, a prática comum é especificar uma tolerância porcentual $\\epsilon_s$ para o erro relativo e esperar que os métodos obtenham um erro menor do que esta tolerância, isto é, \n",
    "\n",
    "$$|\\epsilon_a | < \\epsilon_s.$$ \n",
    "\n",
    "Caso esta desigualdade seja verificada, diremos que nosso o método possui uma margem de erro aceitável e pode ser considerado suficientemente preciso dentro do que estabelecemos.\n",
    "\n",
    "\n",
    "\n",
    "\n"
   ]
  }
 ],
 "metadata": {
  "ipub": {
   "listcode": false,
   "listfigures": false,
   "listtables": false,
   "titlepage": {
    "author": "Prof. Gustavo Oliveira",
    "email": "gustavo.oliveira@ci.ufpb.br",
    "institution": [
     "Universidade Federal da Paraíba"
    ],
    "tagline": "Cálculo Numérico (clippings).",
    "title": "Definições de erro."
   },
   "toc": false
  },
  "kernelspec": {
   "display_name": "Python 3",
   "language": "python",
   "name": "python3"
  },
  "language_info": {
   "codemirror_mode": {
    "name": "ipython",
    "version": 3
   },
   "file_extension": ".py",
   "mimetype": "text/x-python",
   "name": "python",
   "nbconvert_exporter": "python",
   "pygments_lexer": "ipython3",
   "version": "3.6.4"
  }
 },
 "nbformat": 4,
 "nbformat_minor": 2
}
