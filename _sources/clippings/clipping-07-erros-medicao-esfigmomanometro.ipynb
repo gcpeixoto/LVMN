{
 "cells": [
  {
   "cell_type": "markdown",
   "metadata": {},
   "source": [
    "# Recorte 7: Erros de medição em aparelhos de pressão arterial\n",
    "\n",
    "A pressão arterial é um indicador clínico essencial para que um médico diagnostique o sistema circulatório de um paciente. Aparelhos medidores de pressão, formalmente chamados de _esfígmomanômetros_ ajudam a detectar, por exemplo, casos de hipertensão arterial.\n",
    "\n",
    "Pesquisadores do Hospital das Clínicas da Universidade Federal de Uberlândia (HCU-UFU) realizaram um estudo para identificar se os 72 esfígmomanômetros aneroides utilizados nos departamentos do hospital estavam calibrados segundo as normas padrão estabelecidas pelo INMETRO.\n",
    "\n",
    "Entre os pontos conclusivos do estudo, eles constataram que 42 dispositivos (58.3% do total) apresentavam erros de medição maiores do que o permitido ($\\pm$ 3.0 mmHg). Além disso, verificaram que 61\\% dos aparelhos estavam em discordância com as especificações, sendo a histerese do manômetro padrão e a resolução do aparelho as duas variáveis que mais contribuíram para a incerteza da calibração, respondendo, respectivamente por 53% e 27%.\n",
    "\n",
    "**Fonte:** FARIA, V. N. R. et al. _An investigative case study at local hospital into the current reliability of blood pressure sphygmomanometers. Research on Biomedical Engineering_, vol.33, n.1, 2017."
   ]
  }
 ],
 "metadata": {
  "ipub": {
   "listcode": false,
   "listfigures": false,
   "listtables": false,
   "titlepage": {
    "author": "Prof. Gustavo Oliveira",
    "email": "gustavo.oliveira@ci.ufpb.br",
    "institution": [
     "Universidade Federal da Paraíba"
    ],
    "tagline": "Cálculo Numérico (clippings).",
    "title": "Erros de medição: pressão arterial"
   },
   "toc": false
  },
  "kernelspec": {
   "display_name": "Python 3",
   "language": "python",
   "name": "python3"
  },
  "language_info": {
   "codemirror_mode": {
    "name": "ipython",
    "version": 3
   },
   "file_extension": ".py",
   "mimetype": "text/x-python",
   "name": "python",
   "nbconvert_exporter": "python",
   "pygments_lexer": "ipython3",
   "version": "3.6.4"
  }
 },
 "nbformat": 4,
 "nbformat_minor": 2
}
